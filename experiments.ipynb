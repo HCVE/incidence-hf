{
 "cells": [
  {
   "cell_type": "code",
   "execution_count": 2,
   "outputs": [
    {
     "name": "stderr",
     "output_type": "stream",
     "text": [
      "/home/sitnarf/.local/share/virtualenvs/homage-fl-Ms4N7PDp/lib/python3.9/site-packages/dash_bootstrap_components/_table.py:5: UserWarning:\n",
      "\n",
      "\n",
      "The dash_html_components package is deprecated. Please replace\n",
      "`import dash_html_components as html` with `from dash import html`\n",
      "\n"
     ]
    }
   ],
   "source": [
    "import pandas\n",
    "\n",
    "from matplotlib import pyplot\n",
    "from deps.data import load_metadata\n",
    "from deps.logger import logger\n",
    "from deps.data import load_raw_data, load_data\n",
    "from hcve_lib.functional import pipe\n",
    "from hcve_lib.evaluation_functions import c_index\n",
    "from hcve_lib.data import format_identifier_long\n",
    "from hcve_lib.visualisation import p\n",
    "from optuna import Trial\n",
    "from hcve_lib.tracking import get_completed_runs, get_run_duration\n",
    "from hcve_lib.tracking import get_last_run\n",
    "from hcve_lib.tracking import is_root_run\n",
    "from hcve_lib.tracking import get_children_runs\n",
    "import humanize\n",
    "import pytz\n",
    "from datetime import datetime\n",
    "from deps.common import get_variables_cached\n",
    "\n",
    "logger.setLevel('DEBUG')\n",
    "pandas.set_option(\"display.max_columns\", None)\n",
    "%load_ext autoreload\n",
    "%autoreload 2\n",
    "%matplotlib inline\n",
    "%config InlineBackend.figure_format='retina'\n",
    "pyplot.rcParams['figure.facecolor'] = 'white'"
   ],
   "metadata": {
    "collapsed": false,
    "pycharm": {
     "name": "#%%\n"
    }
   }
  },
  {
   "cell_type": "code",
   "execution_count": 32,
   "outputs": [],
   "source": [
    "data, metadata, X, y = get_variables_cached()\n",
    "\n",
    "raw_data = load_raw_data()\n",
    "raw_data_subset = raw_data.loc[data.index]"
   ],
   "metadata": {
    "collapsed": false,
    "pycharm": {
     "name": "#%%\n"
    }
   }
  },
  {
   "cell_type": "code",
   "execution_count": 6,
   "outputs": [
    {
     "name": "stderr",
     "output_type": "stream",
     "text": [
      "Raw data\n",
      "\tn cohorts=21\n",
      "\tn individuals=52,585\n",
      "\n",
      "[17:01:18] Raw data\n",
      "\tn cohorts=21\n",
      "\tn individuals=52,585\n",
      "\n",
      "Baseline visit kept\n",
      " \tn individuals removed=5,529\n",
      "\n",
      " \tn individuals=47,056\n",
      "\n",
      "[17:01:18] Baseline visit kept\n",
      " \tn individuals removed=5,529\n",
      "\n",
      " \tn individuals=47,056\n",
      "\n",
      "HF cohorts removed\n",
      "\tn cohorts removed=3: hfgr, timechf, leitzaran\n",
      "\tn individuals removed=1,073\n",
      "\n",
      "\tn cohorts=18\n",
      "\tn individuals=45,983\n",
      "\n",
      "[17:01:18] HF cohorts removed\n",
      "\tn cohorts removed=3: hfgr, timechf, leitzaran\n",
      "\tn individuals removed=1,073\n",
      "\n",
      "\tn cohorts=18\n",
      "\tn individuals=45,983\n",
      "\n",
      "No outcome cohorts removed\n",
      "\tn cohorts removed=5: biomarcoeurs, dyda, epath, iblomaved, stophf\n",
      "\tn individuals removed=3,077\n",
      "\n",
      "\tn cohorts=13\n",
      "\tn individuals=42,906\n",
      "\n",
      "[17:01:18] No outcome cohorts removed\n",
      "\tn cohorts removed=5: biomarcoeurs, dyda, epath, iblomaved, stophf\n",
      "\tn individuals removed=3,077\n",
      "\n",
      "\tn cohorts=13\n",
      "\tn individuals=42,906\n",
      "\n",
      "Missing HF data cohorts removed\n",
      "\tn cohorts removed=6: adelhyde, gecoh, r2c2, reve(1-2), stanislas, styrianvitd\n",
      "\tn individuals removed=6,209\n",
      "\n",
      "\tn cohorts=7\n",
      "\tn individuals=36,697\n",
      "\n",
      "[17:01:18] Missing HF data cohorts removed\n",
      "\tn cohorts removed=6: adelhyde, gecoh, r2c2, reve(1-2), stanislas, styrianvitd\n",
      "\tn individuals removed=6,209\n",
      "\n",
      "\tn cohorts=7\n",
      "\tn individuals=36,697\n",
      "\n",
      "Missing blood pressure measurements\n",
      " \tn individuals removed=434\n",
      "\n",
      " \tn individuals=36,263\n",
      "\n",
      "[17:01:19] Missing blood pressure measurements\n",
      " \tn individuals removed=434\n",
      "\n",
      " \tn individuals=36,263\n",
      "\n",
      "Providing missing PP for 3075individuals\n",
      "\n",
      "[17:01:19] Providing missing PP for 3075individuals\n",
      "\n",
      "HF individuals at baseline removed\n",
      " \tn individuals removed=2,953\n",
      "\n",
      " \tn individuals=33,310\n",
      "\n",
      "[17:01:19] HF individuals at baseline removed\n",
      " \tn individuals removed=2,953\n",
      "\n",
      " \tn individuals=33,310\n",
      "\n",
      "Missing outcome individuals removed\n",
      " \tn individuals removed=905\n",
      "\n",
      " \tn individuals=32,405\n",
      "\n",
      "[17:01:19] Missing outcome individuals removed\n",
      " \tn individuals removed=905\n",
      "\n",
      " \tn individuals=32,405\n",
      "\n",
      "Final dataset\n",
      "\tn individuals=32,405\n",
      "\tn cohorts=7\n",
      "\n",
      "[17:01:19] Final dataset\n",
      "\tn individuals=32,405\n",
      "\tn cohorts=7\n",
      "\n"
     ]
    },
    {
     "data": {
      "text/plain": "Empty DataFrame\nColumns: [IDNR, STUDY_NUM, STUDY, VISIT, SEX, AGE, BW, BH, BMI, SMK, DRK, DIABETES, HCV, HCAD, HPAD, HAF, HCEREBROV, TRT_AH, TRT_ACE, TRT_CCB, TRT_DIUR, TRT_BB, TRT_ARB, TRT_LIP, SBP, DBP, HR, PP, SOK, QRS, CI, GLU, CHOL, LDL, HDL, TG, CREA, FCV, FUFCV, NFHF, FUNFHF, FNFHF, FUFNFHF]\nIndex: []",
      "text/html": "<div>\n<style scoped>\n    .dataframe tbody tr th:only-of-type {\n        vertical-align: middle;\n    }\n\n    .dataframe tbody tr th {\n        vertical-align: top;\n    }\n\n    .dataframe thead th {\n        text-align: right;\n    }\n</style>\n<table border=\"1\" class=\"dataframe\">\n  <thead>\n    <tr style=\"text-align: right;\">\n      <th></th>\n      <th>IDNR</th>\n      <th>STUDY_NUM</th>\n      <th>STUDY</th>\n      <th>VISIT</th>\n      <th>SEX</th>\n      <th>AGE</th>\n      <th>BW</th>\n      <th>BH</th>\n      <th>BMI</th>\n      <th>SMK</th>\n      <th>DRK</th>\n      <th>DIABETES</th>\n      <th>HCV</th>\n      <th>HCAD</th>\n      <th>HPAD</th>\n      <th>HAF</th>\n      <th>HCEREBROV</th>\n      <th>TRT_AH</th>\n      <th>TRT_ACE</th>\n      <th>TRT_CCB</th>\n      <th>TRT_DIUR</th>\n      <th>TRT_BB</th>\n      <th>TRT_ARB</th>\n      <th>TRT_LIP</th>\n      <th>SBP</th>\n      <th>DBP</th>\n      <th>HR</th>\n      <th>PP</th>\n      <th>SOK</th>\n      <th>QRS</th>\n      <th>CI</th>\n      <th>GLU</th>\n      <th>CHOL</th>\n      <th>LDL</th>\n      <th>HDL</th>\n      <th>TG</th>\n      <th>CREA</th>\n      <th>FCV</th>\n      <th>FUFCV</th>\n      <th>NFHF</th>\n      <th>FUNFHF</th>\n      <th>FNFHF</th>\n      <th>FUFNFHF</th>\n    </tr>\n    <tr>\n      <th>IDNR</th>\n      <th></th>\n      <th></th>\n      <th></th>\n      <th></th>\n      <th></th>\n      <th></th>\n      <th></th>\n      <th></th>\n      <th></th>\n      <th></th>\n      <th></th>\n      <th></th>\n      <th></th>\n      <th></th>\n      <th></th>\n      <th></th>\n      <th></th>\n      <th></th>\n      <th></th>\n      <th></th>\n      <th></th>\n      <th></th>\n      <th></th>\n      <th></th>\n      <th></th>\n      <th></th>\n      <th></th>\n      <th></th>\n      <th></th>\n      <th></th>\n      <th></th>\n      <th></th>\n      <th></th>\n      <th></th>\n      <th></th>\n      <th></th>\n      <th></th>\n      <th></th>\n      <th></th>\n      <th></th>\n      <th></th>\n      <th></th>\n      <th></th>\n    </tr>\n  </thead>\n  <tbody>\n  </tbody>\n</table>\n</div>"
     },
     "execution_count": 6,
     "metadata": {},
     "output_type": "execute_result"
    }
   ],
   "source": [
    "data = load_data(metadata)\n",
    "data[data['FUNFHF'].isna()]"
   ],
   "metadata": {
    "collapsed": false,
    "pycharm": {
     "name": "#%%\n"
    }
   }
  },
  {
   "cell_type": "code",
   "execution_count": 7,
   "outputs": [
    {
     "name": "stdout",
     "output_type": "stream",
     "text": [
      "32405: [IDNR] IDNR\n",
      "7: [STUDY_NUM] Numeric study identifier\n",
      "7: [STUDY] STUDY\n",
      "1: [VISIT] VISIT\n",
      "2: [SEX] Gender\n",
      "16090: [AGE] Age\n",
      "1878: [BW] Body weight\n",
      "883: [BH] Body height\n",
      "13216: [BMI] Body-mass index_frame\n",
      "4: [SMK] Smoking status\n",
      "3: [DRK] Alcohol intake\n",
      "3: [DIABETES] History of diabetes\n",
      "3: [HCV] History of cardiovascular disease\n",
      "3: [HCAD] History of coronary artery disease\n",
      "3: [HPAD] History of peripheral artery disease\n",
      "3: [HAF] History of atrial fibrillation\n",
      "3: [HCEREBROV] History of cerebrovascular incident\n",
      "3: [TRT_AH] Intake of antihypertensive medication\n",
      "3: [TRT_ACE] Intake of angiotensin converting enzyme inhibitors\n",
      "3: [TRT_CCB] Intake of calcium channel blockers\n",
      "3: [TRT_DIUR] Intake of diuretics\n",
      "3: [TRT_BB] Intake of beta-blokcers\n",
      "3: [TRT_ARB] Intake of angiotensin II receptor blockers\n",
      "3: [TRT_LIP] Intake of lipid-lowering medication\n",
      "471: [SBP] Systolic blood pressure\n",
      "308: [DBP] Diastolic blood pressure\n",
      "189: [HR] Heart rate\n",
      "408: [PP] Pulse pressure\n",
      "557: [SOK] Sokolow-Lyon index_frame\n",
      "84: [QRS] QRS duration\n",
      "2014: [CI] Cornell index_frame\n",
      "684: [GLU] Blood glucose\n",
      "797: [CHOL] Total cholesterol\n",
      "1819: [LDL] LDL-cholesterol\n",
      "490: [HDL] HDL-cholesterol\n",
      "1125: [TG] Triglycerides\n",
      "360: [CREA] Serum creatinine\n",
      "3: [FCV] Cardiovascular death\n",
      "3819: [FUFCV] FUFCV\n",
      "2: [NFHF] Non-fatal heart failure\n",
      "3950: [FUNFHF] FUNFHF\n",
      "3: [FNFHF] Fatal or non-fatal heart failure\n",
      "1816: [FUFNFHF] FUFNFHF\n"
     ]
    }
   ],
   "source": [
    "for column in data.columns:\n",
    "    print(f'{len(data[column].unique())}: {format_identifier_long(column, metadata)}')"
   ],
   "metadata": {
    "collapsed": false,
    "pycharm": {
     "name": "#%%\n"
    }
   }
  },
  {
   "cell_type": "code",
   "execution_count": 8,
   "outputs": [
    {
     "name": "stdout",
     "output_type": "stream",
     "text": [
      "int64: [IDNR] IDNR\n",
      "category: [STUDY_NUM] Numeric study identifier\n",
      "category: [STUDY] STUDY\n",
      "category: [VISIT] VISIT\n",
      "category: [SEX] Gender\n",
      "float64: [AGE] Age\n",
      "float64: [BW] Body weight\n",
      "float64: [BH] Body height\n",
      "float64: [BMI] Body-mass index_frame\n",
      "category: [SMK] Smoking status\n",
      "category: [DRK] Alcohol intake\n",
      "category: [DIABETES] History of diabetes\n",
      "category: [HCV] History of cardiovascular disease\n",
      "category: [HCAD] History of coronary artery disease\n",
      "category: [HPAD] History of peripheral artery disease\n",
      "category: [HAF] History of atrial fibrillation\n",
      "category: [HCEREBROV] History of cerebrovascular incident\n",
      "category: [TRT_AH] Intake of antihypertensive medication\n",
      "category: [TRT_ACE] Intake of angiotensin converting enzyme inhibitors\n",
      "category: [TRT_CCB] Intake of calcium channel blockers\n",
      "category: [TRT_DIUR] Intake of diuretics\n",
      "category: [TRT_BB] Intake of beta-blokcers\n",
      "category: [TRT_ARB] Intake of angiotensin II receptor blockers\n",
      "category: [TRT_LIP] Intake of lipid-lowering medication\n",
      "float64: [SBP] Systolic blood pressure\n",
      "float64: [DBP] Diastolic blood pressure\n",
      "float64: [HR] Heart rate\n",
      "float64: [PP] Pulse pressure\n",
      "float64: [SOK] Sokolow-Lyon index_frame\n",
      "float64: [QRS] QRS duration\n",
      "float64: [CI] Cornell index_frame\n",
      "float64: [GLU] Blood glucose\n",
      "float64: [CHOL] Total cholesterol\n",
      "float64: [LDL] LDL-cholesterol\n",
      "float64: [HDL] HDL-cholesterol\n",
      "float64: [TG] Triglycerides\n",
      "float64: [CREA] Serum creatinine\n",
      "category: [FCV] Cardiovascular death\n",
      "float64: [FUFCV] FUFCV\n",
      "category: [NFHF] Non-fatal heart failure\n",
      "float64: [FUNFHF] FUNFHF\n",
      "category: [FNFHF] Fatal or non-fatal heart failure\n",
      "float64: [FUFNFHF] FUFNFHF\n"
     ]
    }
   ],
   "source": [
    "runs_lm = get_completed_runs('lm')\n",
    "root_runs = runs_lm[is_root_run(runs_lm)]"
   ],
   "metadata": {
    "collapsed": false,
    "pycharm": {
     "name": "#%%\n"
    }
   }
  }
 ],
 "metadata": {
  "kernelspec": {
   "display_name": "Python 3",
   "language": "python",
   "name": "python3"
  },
  "language_info": {
   "codemirror_mode": {
    "name": "ipython",
    "version": 2
   },
   "file_extension": ".py",
   "mimetype": "text/x-python",
   "name": "python",
   "nbconvert_exporter": "python",
   "pygments_lexer": "ipython2",
   "version": "2.7.6"
  }
 },
 "nbformat": 4,
 "nbformat_minor": 0
}