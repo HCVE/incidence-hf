{
 "cells": [
  {
   "cell_type": "code",
   "execution_count": 4,
   "metadata": {
    "collapsed": true,
    "pycharm": {
     "name": "#%%\n"
    }
   },
   "outputs": [],
   "source": [
    "import pickle\n",
    "\n",
    "import plotly.express as px\n",
    "\n",
    "from hcve_lib.utils import notebook_init\n",
    "\n",
    "notebook_init()\n",
    "\n",
    "from mlflow import set_tracking_uri\n",
    "\n",
    "%autoreload 2\n",
    "set_tracking_uri('http://localhost:5000')\n",
    "\n",
    "from hcve_lib.visualisation import b"
   ]
  },
  {
   "cell_type": "code",
   "execution_count": 5,
   "outputs": [],
   "source": [
    "def log_early_stopping():\n",
    "    ..."
   ],
   "metadata": {
    "collapsed": false,
    "pycharm": {
     "name": "#%%\n"
    }
   }
  },
  {
   "cell_type": "code",
   "execution_count": 6,
   "outputs": [
    {
     "name": "stdout",
     "output_type": "stream",
     "text": [
      "[Memory]0.0s, 0.0min    : Loading get_data...\n",
      "____________________________________________get_data cache loaded - 0.0s, 0.0min\n"
     ]
    },
    {
     "name": "stderr",
     "output_type": "stream",
     "text": [
      "/home/sitnarf/.local/share/virtualenvs/homage-fl-Ms4N7PDp/lib/python3.9/site-packages/xgboost/compat.py:36: FutureWarning: pandas.Int64Index is deprecated and will be removed from pandas in a future version. Use pandas.Index with the appropriate dtype instead.\n",
      "  from pandas import MultiIndex, Int64Index\n"
     ]
    }
   ],
   "source": [
    "from deps.common import get_data_cached\n",
    "data, metadata, X, y = get_data_cached()\n",
    "from run_hyperparameter_analysis import get_hyperparameters_dependency_file\n",
    "from hcve_lib.tracking import get_run_info\n",
    "from hcve_lib.visualisation import display_html"
   ],
   "metadata": {
    "collapsed": false,
    "pycharm": {
     "name": "#%%\n"
    }
   }
  },
  {
   "cell_type": "code",
   "execution_count": 7,
   "outputs": [],
   "source": [
    "from hcve_lib.visualisation import h2\n",
    "\n",
    "def show_hyperparameter_analysis(\n",
    "        run_id: str,\n",
    "        metric: str,\n",
    "        range_axis = (0.5, 1),\n",
    "):\n",
    "    with open(get_hyperparameters_dependency_file(run_id, metric), 'rb') as f:\n",
    "        analysis_data = pickle.load(f)\n",
    "\n",
    "    run_info = get_run_info(run_id)\n",
    "\n",
    "    h2(f'{run_info[\"run_name\"]} ({run_info[\"experiment_name\"]})')\n",
    "\n",
    "    for split_name, split_data in analysis_data.items():\n",
    "        b(split_name)\n",
    "        scatter_data = {\n",
    "            'inner': split_data['inner'],\n",
    "            'outer': split_data['outer'],\n",
    "            'hyperparameters':  str(split_data['hyperparameters']),\n",
    "        }\n",
    "\n",
    "        fig = px.scatter(\n",
    "            scatter_data,\n",
    "            x='inner',\n",
    "            y='outer',\n",
    "            hover_data={'inner': ':.3f', 'outer': ':.3f', 'hyperparameters': True},\n",
    "            width=400,\n",
    "            height=400,\n",
    "            color_discrete_sequence=px.colors.qualitative.Pastel,\n",
    "            template='simple_white',\n",
    "        )\n",
    "        fig.update_traces(marker=dict(size=3))\n",
    "        fig.update_layout(\n",
    "            xaxis_title=f\"Inner {metric}\",\n",
    "            yaxis_title=f\"Outer {metric}\",\n",
    "            legend = {\n",
    "                'title': {'text': None}\n",
    "            },\n",
    "        )\n",
    "        fig.update_xaxes(\n",
    "            range = range_axis\n",
    "          )\n",
    "\n",
    "        fig.update_yaxes(\n",
    "            scaleanchor = \"x\",\n",
    "            scaleratio = 1,\n",
    "            range = range_axis\n",
    "         )\n",
    "\n",
    "        fig.show()\n",
    "        display_html('<br>')"
   ],
   "metadata": {
    "collapsed": false,
    "pycharm": {
     "name": "#%%\n"
    }
   }
  },
  {
   "cell_type": "code",
   "execution_count": 9,
   "outputs": [
    {
     "data": {
      "text/plain": "<IPython.core.display.HTML object>",
      "text/html": "<h2>coxnet</h2>"
     },
     "metadata": {},
     "output_type": "display_data"
    },
    {
     "ename": "FileNotFoundError",
     "evalue": "[Errno 2] No such file or directory: './data/hyperparameters_dependency_582f3b16a31c42c08873a29634153869_c_index.data'",
     "output_type": "error",
     "traceback": [
      "\u001B[0;31m---------------------------------------------------------------------------\u001B[0m",
      "\u001B[0;31mFileNotFoundError\u001B[0m                         Traceback (most recent call last)",
      "Input \u001B[0;32mIn [9]\u001B[0m, in \u001B[0;36m<cell line: 5>\u001B[0;34m()\u001B[0m\n\u001B[1;32m      5\u001B[0m \u001B[38;5;28;01mfor\u001B[39;00m method, run_id \u001B[38;5;129;01min\u001B[39;00m RUNS\u001B[38;5;241m.\u001B[39mitems():\n\u001B[1;32m      6\u001B[0m     h2(method)\n\u001B[0;32m----> 7\u001B[0m     \u001B[43mshow_hyperparameter_analysis\u001B[49m\u001B[43m(\u001B[49m\u001B[43mrun_id\u001B[49m\u001B[43m,\u001B[49m\u001B[43m \u001B[49m\u001B[38;5;124;43m'\u001B[39;49m\u001B[38;5;124;43mc_index\u001B[39;49m\u001B[38;5;124;43m'\u001B[39;49m\u001B[43m)\u001B[49m\n",
      "Input \u001B[0;32mIn [7]\u001B[0m, in \u001B[0;36mshow_hyperparameter_analysis\u001B[0;34m(run_id, metric, range_axis)\u001B[0m\n\u001B[1;32m      3\u001B[0m \u001B[38;5;28;01mdef\u001B[39;00m \u001B[38;5;21mshow_hyperparameter_analysis\u001B[39m(\n\u001B[1;32m      4\u001B[0m         run_id: \u001B[38;5;28mstr\u001B[39m,\n\u001B[1;32m      5\u001B[0m         metric: \u001B[38;5;28mstr\u001B[39m,\n\u001B[1;32m      6\u001B[0m         range_axis \u001B[38;5;241m=\u001B[39m (\u001B[38;5;241m0.5\u001B[39m, \u001B[38;5;241m1\u001B[39m),\n\u001B[1;32m      7\u001B[0m ):\n\u001B[0;32m----> 8\u001B[0m     \u001B[38;5;28;01mwith\u001B[39;00m \u001B[38;5;28;43mopen\u001B[39;49m\u001B[43m(\u001B[49m\u001B[43mget_hyperparameters_dependency_file\u001B[49m\u001B[43m(\u001B[49m\u001B[43mrun_id\u001B[49m\u001B[43m,\u001B[49m\u001B[43m \u001B[49m\u001B[43mmetric\u001B[49m\u001B[43m)\u001B[49m\u001B[43m,\u001B[49m\u001B[43m \u001B[49m\u001B[38;5;124;43m'\u001B[39;49m\u001B[38;5;124;43mrb\u001B[39;49m\u001B[38;5;124;43m'\u001B[39;49m\u001B[43m)\u001B[49m \u001B[38;5;28;01mas\u001B[39;00m f:\n\u001B[1;32m      9\u001B[0m         analysis_data \u001B[38;5;241m=\u001B[39m pickle\u001B[38;5;241m.\u001B[39mload(f)\n\u001B[1;32m     11\u001B[0m     run_info \u001B[38;5;241m=\u001B[39m get_run_info(run_id)\n",
      "\u001B[0;31mFileNotFoundError\u001B[0m: [Errno 2] No such file or directory: './data/hyperparameters_dependency_582f3b16a31c42c08873a29634153869_c_index.data'"
     ]
    }
   ],
   "source": [
    "RUNS = {\n",
    "    'coxnet': '582f3b16a31c42c08873a29634153869',\n",
    "}\n",
    "\n",
    "for method, run_id in RUNS.items():\n",
    "    h2(method)\n",
    "    show_hyperparameter_analysis(run_id, 'c_index')\n"
   ],
   "metadata": {
    "collapsed": false,
    "pycharm": {
     "name": "#%%\n"
    }
   }
  }
 ],
 "metadata": {
  "kernelspec": {
   "display_name": "Python 3",
   "language": "python",
   "name": "python3"
  },
  "language_info": {
   "codemirror_mode": {
    "name": "ipython",
    "version": 2
   },
   "file_extension": ".py",
   "mimetype": "text/x-python",
   "name": "python",
   "nbconvert_exporter": "python",
   "pygments_lexer": "ipython2",
   "version": "2.7.6"
  }
 },
 "nbformat": 4,
 "nbformat_minor": 0
}