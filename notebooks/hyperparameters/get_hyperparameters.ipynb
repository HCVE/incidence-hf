{
 "cells": [
  {
   "cell_type": "code",
   "execution_count": 1,
   "outputs": [
    {
     "ename": "KeyError",
     "evalue": "'params.hyperparameters'",
     "output_type": "error",
     "traceback": [
      "\u001B[0;31m---------------------------------------------------------------------------\u001B[0m",
      "\u001B[0;31mKeyError\u001B[0m                                  Traceback (most recent call last)",
      "File \u001B[0;32m~/.local/share/virtualenvs/homage-fl-Ms4N7PDp/lib/python3.9/site-packages/pandas/core/indexes/base.py:3621\u001B[0m, in \u001B[0;36mIndex.get_loc\u001B[0;34m(self, key, method, tolerance)\u001B[0m\n\u001B[1;32m   3620\u001B[0m \u001B[38;5;28;01mtry\u001B[39;00m:\n\u001B[0;32m-> 3621\u001B[0m     \u001B[38;5;28;01mreturn\u001B[39;00m \u001B[38;5;28;43mself\u001B[39;49m\u001B[38;5;241;43m.\u001B[39;49m\u001B[43m_engine\u001B[49m\u001B[38;5;241;43m.\u001B[39;49m\u001B[43mget_loc\u001B[49m\u001B[43m(\u001B[49m\u001B[43mcasted_key\u001B[49m\u001B[43m)\u001B[49m\n\u001B[1;32m   3622\u001B[0m \u001B[38;5;28;01mexcept\u001B[39;00m \u001B[38;5;167;01mKeyError\u001B[39;00m \u001B[38;5;28;01mas\u001B[39;00m err:\n",
      "File \u001B[0;32m~/.local/share/virtualenvs/homage-fl-Ms4N7PDp/lib/python3.9/site-packages/pandas/_libs/index.pyx:136\u001B[0m, in \u001B[0;36mpandas._libs.index.IndexEngine.get_loc\u001B[0;34m()\u001B[0m\n",
      "File \u001B[0;32m~/.local/share/virtualenvs/homage-fl-Ms4N7PDp/lib/python3.9/site-packages/pandas/_libs/index.pyx:163\u001B[0m, in \u001B[0;36mpandas._libs.index.IndexEngine.get_loc\u001B[0;34m()\u001B[0m\n",
      "File \u001B[0;32mpandas/_libs/hashtable_class_helper.pxi:5198\u001B[0m, in \u001B[0;36mpandas._libs.hashtable.PyObjectHashTable.get_item\u001B[0;34m()\u001B[0m\n",
      "File \u001B[0;32mpandas/_libs/hashtable_class_helper.pxi:5206\u001B[0m, in \u001B[0;36mpandas._libs.hashtable.PyObjectHashTable.get_item\u001B[0;34m()\u001B[0m\n",
      "\u001B[0;31mKeyError\u001B[0m: 'params.hyperparameters'",
      "\nThe above exception was the direct cause of the following exception:\n",
      "\u001B[0;31mKeyError\u001B[0m                                  Traceback (most recent call last)",
      "Input \u001B[0;32mIn [1]\u001B[0m, in \u001B[0;36m<cell line: 32>\u001B[0;34m()\u001B[0m\n\u001B[1;32m     22\u001B[0m     children_runs \u001B[38;5;241m=\u001B[39m search_runs(\n\u001B[1;32m     23\u001B[0m         root_run\u001B[38;5;241m.\u001B[39minfo\u001B[38;5;241m.\u001B[39mexperiment_id,\n\u001B[1;32m     24\u001B[0m         \u001B[38;5;124mf\u001B[39m\u001B[38;5;124m'\u001B[39m\u001B[38;5;124mtags.mlflow.parentRunId = \u001B[39m\u001B[38;5;124m\"\u001B[39m\u001B[38;5;132;01m{\u001B[39;00mroot_run\u001B[38;5;241m.\u001B[39minfo\u001B[38;5;241m.\u001B[39mrun_id\u001B[38;5;132;01m}\u001B[39;00m\u001B[38;5;124m\"\u001B[39m\u001B[38;5;124m'\u001B[39m,\n\u001B[1;32m     25\u001B[0m         output_format\u001B[38;5;241m=\u001B[39m\u001B[38;5;124m'\u001B[39m\u001B[38;5;124mpandas\u001B[39m\u001B[38;5;124m'\u001B[39m)\n\u001B[1;32m     26\u001B[0m     \u001B[38;5;28;01mreturn\u001B[39;00m {\n\u001B[1;32m     27\u001B[0m         rows[\u001B[38;5;124m'\u001B[39m\u001B[38;5;124mtags.mlflow.runName\u001B[39m\u001B[38;5;124m'\u001B[39m]: json\u001B[38;5;241m.\u001B[39mloads(rows[\u001B[38;5;124m'\u001B[39m\u001B[38;5;124mparams.hyperparameters\u001B[39m\u001B[38;5;124m'\u001B[39m]\u001B[38;5;241m.\u001B[39mreplace(\u001B[38;5;124m\"\u001B[39m\u001B[38;5;130;01m\\'\u001B[39;00m\u001B[38;5;124m\"\u001B[39m, \u001B[38;5;124m\"\u001B[39m\u001B[38;5;130;01m\\\"\u001B[39;00m\u001B[38;5;124m\"\u001B[39m))\n\u001B[1;32m     28\u001B[0m         \u001B[38;5;28;01mfor\u001B[39;00m _, rows \u001B[38;5;129;01min\u001B[39;00m children_runs\u001B[38;5;241m.\u001B[39miterrows()\n\u001B[1;32m     29\u001B[0m     }\n\u001B[0;32m---> 32\u001B[0m hyperparameters \u001B[38;5;241m=\u001B[39m {\n\u001B[1;32m     33\u001B[0m     experiment_name: {\n\u001B[1;32m     34\u001B[0m         method_name: get_all_hyperparameters(run_id)\n\u001B[1;32m     35\u001B[0m         \u001B[38;5;28;01mfor\u001B[39;00m method_name, run_id \u001B[38;5;129;01min\u001B[39;00m methods\u001B[38;5;241m.\u001B[39mitems()\n\u001B[1;32m     36\u001B[0m     }\n\u001B[1;32m     37\u001B[0m     \u001B[38;5;28;01mfor\u001B[39;00m experiment_name, methods \u001B[38;5;129;01min\u001B[39;00m chosen_runs\u001B[38;5;241m.\u001B[39mitems()\n\u001B[1;32m     38\u001B[0m }\n\u001B[1;32m     40\u001B[0m \u001B[38;5;28mprint\u001B[39m(yaml\u001B[38;5;241m.\u001B[39mdump(hyperparameters))\n\u001B[1;32m     42\u001B[0m \u001B[38;5;28;01mwith\u001B[39;00m \u001B[38;5;28mopen\u001B[39m(HYPERPARAMETERS_FILE, \u001B[38;5;124m'\u001B[39m\u001B[38;5;124mw\u001B[39m\u001B[38;5;124m'\u001B[39m) \u001B[38;5;28;01mas\u001B[39;00m f:\n",
      "Input \u001B[0;32mIn [1]\u001B[0m, in \u001B[0;36m<dictcomp>\u001B[0;34m(.0)\u001B[0m\n\u001B[1;32m     22\u001B[0m     children_runs \u001B[38;5;241m=\u001B[39m search_runs(\n\u001B[1;32m     23\u001B[0m         root_run\u001B[38;5;241m.\u001B[39minfo\u001B[38;5;241m.\u001B[39mexperiment_id,\n\u001B[1;32m     24\u001B[0m         \u001B[38;5;124mf\u001B[39m\u001B[38;5;124m'\u001B[39m\u001B[38;5;124mtags.mlflow.parentRunId = \u001B[39m\u001B[38;5;124m\"\u001B[39m\u001B[38;5;132;01m{\u001B[39;00mroot_run\u001B[38;5;241m.\u001B[39minfo\u001B[38;5;241m.\u001B[39mrun_id\u001B[38;5;132;01m}\u001B[39;00m\u001B[38;5;124m\"\u001B[39m\u001B[38;5;124m'\u001B[39m,\n\u001B[1;32m     25\u001B[0m         output_format\u001B[38;5;241m=\u001B[39m\u001B[38;5;124m'\u001B[39m\u001B[38;5;124mpandas\u001B[39m\u001B[38;5;124m'\u001B[39m)\n\u001B[1;32m     26\u001B[0m     \u001B[38;5;28;01mreturn\u001B[39;00m {\n\u001B[1;32m     27\u001B[0m         rows[\u001B[38;5;124m'\u001B[39m\u001B[38;5;124mtags.mlflow.runName\u001B[39m\u001B[38;5;124m'\u001B[39m]: json\u001B[38;5;241m.\u001B[39mloads(rows[\u001B[38;5;124m'\u001B[39m\u001B[38;5;124mparams.hyperparameters\u001B[39m\u001B[38;5;124m'\u001B[39m]\u001B[38;5;241m.\u001B[39mreplace(\u001B[38;5;124m\"\u001B[39m\u001B[38;5;130;01m\\'\u001B[39;00m\u001B[38;5;124m\"\u001B[39m, \u001B[38;5;124m\"\u001B[39m\u001B[38;5;130;01m\\\"\u001B[39;00m\u001B[38;5;124m\"\u001B[39m))\n\u001B[1;32m     28\u001B[0m         \u001B[38;5;28;01mfor\u001B[39;00m _, rows \u001B[38;5;129;01min\u001B[39;00m children_runs\u001B[38;5;241m.\u001B[39miterrows()\n\u001B[1;32m     29\u001B[0m     }\n\u001B[1;32m     32\u001B[0m hyperparameters \u001B[38;5;241m=\u001B[39m {\n\u001B[0;32m---> 33\u001B[0m     experiment_name: {\n\u001B[1;32m     34\u001B[0m         method_name: get_all_hyperparameters(run_id)\n\u001B[1;32m     35\u001B[0m         \u001B[38;5;28;01mfor\u001B[39;00m method_name, run_id \u001B[38;5;129;01min\u001B[39;00m methods\u001B[38;5;241m.\u001B[39mitems()\n\u001B[1;32m     36\u001B[0m     }\n\u001B[1;32m     37\u001B[0m     \u001B[38;5;28;01mfor\u001B[39;00m experiment_name, methods \u001B[38;5;129;01min\u001B[39;00m chosen_runs\u001B[38;5;241m.\u001B[39mitems()\n\u001B[1;32m     38\u001B[0m }\n\u001B[1;32m     40\u001B[0m \u001B[38;5;28mprint\u001B[39m(yaml\u001B[38;5;241m.\u001B[39mdump(hyperparameters))\n\u001B[1;32m     42\u001B[0m \u001B[38;5;28;01mwith\u001B[39;00m \u001B[38;5;28mopen\u001B[39m(HYPERPARAMETERS_FILE, \u001B[38;5;124m'\u001B[39m\u001B[38;5;124mw\u001B[39m\u001B[38;5;124m'\u001B[39m) \u001B[38;5;28;01mas\u001B[39;00m f:\n",
      "Input \u001B[0;32mIn [1]\u001B[0m, in \u001B[0;36m<dictcomp>\u001B[0;34m(.0)\u001B[0m\n\u001B[1;32m     22\u001B[0m     children_runs \u001B[38;5;241m=\u001B[39m search_runs(\n\u001B[1;32m     23\u001B[0m         root_run\u001B[38;5;241m.\u001B[39minfo\u001B[38;5;241m.\u001B[39mexperiment_id,\n\u001B[1;32m     24\u001B[0m         \u001B[38;5;124mf\u001B[39m\u001B[38;5;124m'\u001B[39m\u001B[38;5;124mtags.mlflow.parentRunId = \u001B[39m\u001B[38;5;124m\"\u001B[39m\u001B[38;5;132;01m{\u001B[39;00mroot_run\u001B[38;5;241m.\u001B[39minfo\u001B[38;5;241m.\u001B[39mrun_id\u001B[38;5;132;01m}\u001B[39;00m\u001B[38;5;124m\"\u001B[39m\u001B[38;5;124m'\u001B[39m,\n\u001B[1;32m     25\u001B[0m         output_format\u001B[38;5;241m=\u001B[39m\u001B[38;5;124m'\u001B[39m\u001B[38;5;124mpandas\u001B[39m\u001B[38;5;124m'\u001B[39m)\n\u001B[1;32m     26\u001B[0m     \u001B[38;5;28;01mreturn\u001B[39;00m {\n\u001B[1;32m     27\u001B[0m         rows[\u001B[38;5;124m'\u001B[39m\u001B[38;5;124mtags.mlflow.runName\u001B[39m\u001B[38;5;124m'\u001B[39m]: json\u001B[38;5;241m.\u001B[39mloads(rows[\u001B[38;5;124m'\u001B[39m\u001B[38;5;124mparams.hyperparameters\u001B[39m\u001B[38;5;124m'\u001B[39m]\u001B[38;5;241m.\u001B[39mreplace(\u001B[38;5;124m\"\u001B[39m\u001B[38;5;130;01m\\'\u001B[39;00m\u001B[38;5;124m\"\u001B[39m, \u001B[38;5;124m\"\u001B[39m\u001B[38;5;130;01m\\\"\u001B[39;00m\u001B[38;5;124m\"\u001B[39m))\n\u001B[1;32m     28\u001B[0m         \u001B[38;5;28;01mfor\u001B[39;00m _, rows \u001B[38;5;129;01min\u001B[39;00m children_runs\u001B[38;5;241m.\u001B[39miterrows()\n\u001B[1;32m     29\u001B[0m     }\n\u001B[1;32m     32\u001B[0m hyperparameters \u001B[38;5;241m=\u001B[39m {\n\u001B[1;32m     33\u001B[0m     experiment_name: {\n\u001B[0;32m---> 34\u001B[0m         method_name: \u001B[43mget_all_hyperparameters\u001B[49m\u001B[43m(\u001B[49m\u001B[43mrun_id\u001B[49m\u001B[43m)\u001B[49m\n\u001B[1;32m     35\u001B[0m         \u001B[38;5;28;01mfor\u001B[39;00m method_name, run_id \u001B[38;5;129;01min\u001B[39;00m methods\u001B[38;5;241m.\u001B[39mitems()\n\u001B[1;32m     36\u001B[0m     }\n\u001B[1;32m     37\u001B[0m     \u001B[38;5;28;01mfor\u001B[39;00m experiment_name, methods \u001B[38;5;129;01min\u001B[39;00m chosen_runs\u001B[38;5;241m.\u001B[39mitems()\n\u001B[1;32m     38\u001B[0m }\n\u001B[1;32m     40\u001B[0m \u001B[38;5;28mprint\u001B[39m(yaml\u001B[38;5;241m.\u001B[39mdump(hyperparameters))\n\u001B[1;32m     42\u001B[0m \u001B[38;5;28;01mwith\u001B[39;00m \u001B[38;5;28mopen\u001B[39m(HYPERPARAMETERS_FILE, \u001B[38;5;124m'\u001B[39m\u001B[38;5;124mw\u001B[39m\u001B[38;5;124m'\u001B[39m) \u001B[38;5;28;01mas\u001B[39;00m f:\n",
      "Input \u001B[0;32mIn [1]\u001B[0m, in \u001B[0;36mget_all_hyperparameters\u001B[0;34m(run_id)\u001B[0m\n\u001B[1;32m     21\u001B[0m root_run \u001B[38;5;241m=\u001B[39m get_run(run_id)\n\u001B[1;32m     22\u001B[0m children_runs \u001B[38;5;241m=\u001B[39m search_runs(\n\u001B[1;32m     23\u001B[0m     root_run\u001B[38;5;241m.\u001B[39minfo\u001B[38;5;241m.\u001B[39mexperiment_id,\n\u001B[1;32m     24\u001B[0m     \u001B[38;5;124mf\u001B[39m\u001B[38;5;124m'\u001B[39m\u001B[38;5;124mtags.mlflow.parentRunId = \u001B[39m\u001B[38;5;124m\"\u001B[39m\u001B[38;5;132;01m{\u001B[39;00mroot_run\u001B[38;5;241m.\u001B[39minfo\u001B[38;5;241m.\u001B[39mrun_id\u001B[38;5;132;01m}\u001B[39;00m\u001B[38;5;124m\"\u001B[39m\u001B[38;5;124m'\u001B[39m,\n\u001B[1;32m     25\u001B[0m     output_format\u001B[38;5;241m=\u001B[39m\u001B[38;5;124m'\u001B[39m\u001B[38;5;124mpandas\u001B[39m\u001B[38;5;124m'\u001B[39m)\n\u001B[0;32m---> 26\u001B[0m \u001B[38;5;28;01mreturn\u001B[39;00m {\n\u001B[1;32m     27\u001B[0m     rows[\u001B[38;5;124m'\u001B[39m\u001B[38;5;124mtags.mlflow.runName\u001B[39m\u001B[38;5;124m'\u001B[39m]: json\u001B[38;5;241m.\u001B[39mloads(rows[\u001B[38;5;124m'\u001B[39m\u001B[38;5;124mparams.hyperparameters\u001B[39m\u001B[38;5;124m'\u001B[39m]\u001B[38;5;241m.\u001B[39mreplace(\u001B[38;5;124m\"\u001B[39m\u001B[38;5;130;01m\\'\u001B[39;00m\u001B[38;5;124m\"\u001B[39m, \u001B[38;5;124m\"\u001B[39m\u001B[38;5;130;01m\\\"\u001B[39;00m\u001B[38;5;124m\"\u001B[39m))\n\u001B[1;32m     28\u001B[0m     \u001B[38;5;28;01mfor\u001B[39;00m _, rows \u001B[38;5;129;01min\u001B[39;00m children_runs\u001B[38;5;241m.\u001B[39miterrows()\n\u001B[1;32m     29\u001B[0m }\n",
      "Input \u001B[0;32mIn [1]\u001B[0m, in \u001B[0;36m<dictcomp>\u001B[0;34m(.0)\u001B[0m\n\u001B[1;32m     21\u001B[0m root_run \u001B[38;5;241m=\u001B[39m get_run(run_id)\n\u001B[1;32m     22\u001B[0m children_runs \u001B[38;5;241m=\u001B[39m search_runs(\n\u001B[1;32m     23\u001B[0m     root_run\u001B[38;5;241m.\u001B[39minfo\u001B[38;5;241m.\u001B[39mexperiment_id,\n\u001B[1;32m     24\u001B[0m     \u001B[38;5;124mf\u001B[39m\u001B[38;5;124m'\u001B[39m\u001B[38;5;124mtags.mlflow.parentRunId = \u001B[39m\u001B[38;5;124m\"\u001B[39m\u001B[38;5;132;01m{\u001B[39;00mroot_run\u001B[38;5;241m.\u001B[39minfo\u001B[38;5;241m.\u001B[39mrun_id\u001B[38;5;132;01m}\u001B[39;00m\u001B[38;5;124m\"\u001B[39m\u001B[38;5;124m'\u001B[39m,\n\u001B[1;32m     25\u001B[0m     output_format\u001B[38;5;241m=\u001B[39m\u001B[38;5;124m'\u001B[39m\u001B[38;5;124mpandas\u001B[39m\u001B[38;5;124m'\u001B[39m)\n\u001B[1;32m     26\u001B[0m \u001B[38;5;28;01mreturn\u001B[39;00m {\n\u001B[0;32m---> 27\u001B[0m     rows[\u001B[38;5;124m'\u001B[39m\u001B[38;5;124mtags.mlflow.runName\u001B[39m\u001B[38;5;124m'\u001B[39m]: json\u001B[38;5;241m.\u001B[39mloads(\u001B[43mrows\u001B[49m\u001B[43m[\u001B[49m\u001B[38;5;124;43m'\u001B[39;49m\u001B[38;5;124;43mparams.hyperparameters\u001B[39;49m\u001B[38;5;124;43m'\u001B[39;49m\u001B[43m]\u001B[49m\u001B[38;5;241m.\u001B[39mreplace(\u001B[38;5;124m\"\u001B[39m\u001B[38;5;130;01m\\'\u001B[39;00m\u001B[38;5;124m\"\u001B[39m, \u001B[38;5;124m\"\u001B[39m\u001B[38;5;130;01m\\\"\u001B[39;00m\u001B[38;5;124m\"\u001B[39m))\n\u001B[1;32m     28\u001B[0m     \u001B[38;5;28;01mfor\u001B[39;00m _, rows \u001B[38;5;129;01min\u001B[39;00m children_runs\u001B[38;5;241m.\u001B[39miterrows()\n\u001B[1;32m     29\u001B[0m }\n",
      "File \u001B[0;32m~/.local/share/virtualenvs/homage-fl-Ms4N7PDp/lib/python3.9/site-packages/pandas/core/series.py:958\u001B[0m, in \u001B[0;36mSeries.__getitem__\u001B[0;34m(self, key)\u001B[0m\n\u001B[1;32m    955\u001B[0m     \u001B[38;5;28;01mreturn\u001B[39;00m \u001B[38;5;28mself\u001B[39m\u001B[38;5;241m.\u001B[39m_values[key]\n\u001B[1;32m    957\u001B[0m \u001B[38;5;28;01melif\u001B[39;00m key_is_scalar:\n\u001B[0;32m--> 958\u001B[0m     \u001B[38;5;28;01mreturn\u001B[39;00m \u001B[38;5;28;43mself\u001B[39;49m\u001B[38;5;241;43m.\u001B[39;49m\u001B[43m_get_value\u001B[49m\u001B[43m(\u001B[49m\u001B[43mkey\u001B[49m\u001B[43m)\u001B[49m\n\u001B[1;32m    960\u001B[0m \u001B[38;5;28;01mif\u001B[39;00m is_hashable(key):\n\u001B[1;32m    961\u001B[0m     \u001B[38;5;66;03m# Otherwise index.get_value will raise InvalidIndexError\u001B[39;00m\n\u001B[1;32m    962\u001B[0m     \u001B[38;5;28;01mtry\u001B[39;00m:\n\u001B[1;32m    963\u001B[0m         \u001B[38;5;66;03m# For labels that don't resolve as scalars like tuples and frozensets\u001B[39;00m\n",
      "File \u001B[0;32m~/.local/share/virtualenvs/homage-fl-Ms4N7PDp/lib/python3.9/site-packages/pandas/core/series.py:1069\u001B[0m, in \u001B[0;36mSeries._get_value\u001B[0;34m(self, label, takeable)\u001B[0m\n\u001B[1;32m   1066\u001B[0m     \u001B[38;5;28;01mreturn\u001B[39;00m \u001B[38;5;28mself\u001B[39m\u001B[38;5;241m.\u001B[39m_values[label]\n\u001B[1;32m   1068\u001B[0m \u001B[38;5;66;03m# Similar to Index.get_value, but we do not fall back to positional\u001B[39;00m\n\u001B[0;32m-> 1069\u001B[0m loc \u001B[38;5;241m=\u001B[39m \u001B[38;5;28;43mself\u001B[39;49m\u001B[38;5;241;43m.\u001B[39;49m\u001B[43mindex\u001B[49m\u001B[38;5;241;43m.\u001B[39;49m\u001B[43mget_loc\u001B[49m\u001B[43m(\u001B[49m\u001B[43mlabel\u001B[49m\u001B[43m)\u001B[49m\n\u001B[1;32m   1070\u001B[0m \u001B[38;5;28;01mreturn\u001B[39;00m \u001B[38;5;28mself\u001B[39m\u001B[38;5;241m.\u001B[39mindex\u001B[38;5;241m.\u001B[39m_get_values_for_loc(\u001B[38;5;28mself\u001B[39m, loc, label)\n",
      "File \u001B[0;32m~/.local/share/virtualenvs/homage-fl-Ms4N7PDp/lib/python3.9/site-packages/pandas/core/indexes/base.py:3623\u001B[0m, in \u001B[0;36mIndex.get_loc\u001B[0;34m(self, key, method, tolerance)\u001B[0m\n\u001B[1;32m   3621\u001B[0m     \u001B[38;5;28;01mreturn\u001B[39;00m \u001B[38;5;28mself\u001B[39m\u001B[38;5;241m.\u001B[39m_engine\u001B[38;5;241m.\u001B[39mget_loc(casted_key)\n\u001B[1;32m   3622\u001B[0m \u001B[38;5;28;01mexcept\u001B[39;00m \u001B[38;5;167;01mKeyError\u001B[39;00m \u001B[38;5;28;01mas\u001B[39;00m err:\n\u001B[0;32m-> 3623\u001B[0m     \u001B[38;5;28;01mraise\u001B[39;00m \u001B[38;5;167;01mKeyError\u001B[39;00m(key) \u001B[38;5;28;01mfrom\u001B[39;00m \u001B[38;5;21;01merr\u001B[39;00m\n\u001B[1;32m   3624\u001B[0m \u001B[38;5;28;01mexcept\u001B[39;00m \u001B[38;5;167;01mTypeError\u001B[39;00m:\n\u001B[1;32m   3625\u001B[0m     \u001B[38;5;66;03m# If we have a listlike key, _check_indexing_error will raise\u001B[39;00m\n\u001B[1;32m   3626\u001B[0m     \u001B[38;5;66;03m#  InvalidIndexError. Otherwise we fall through and re-raise\u001B[39;00m\n\u001B[1;32m   3627\u001B[0m     \u001B[38;5;66;03m#  the TypeError.\u001B[39;00m\n\u001B[1;32m   3628\u001B[0m     \u001B[38;5;28mself\u001B[39m\u001B[38;5;241m.\u001B[39m_check_indexing_error(key)\n",
      "\u001B[0;31mKeyError\u001B[0m: 'params.hyperparameters'"
     ]
    }
   ],
   "source": [
    "from hcve_lib.utils import notebook_init\n",
    "\n",
    "notebook_init()\n",
    "\n",
    "import json\n",
    "from typing import Dict\n",
    "\n",
    "import yaml\n",
    "from mlflow import set_tracking_uri, get_run, search_runs\n",
    "\n",
    "chosen_runs = {\n",
    "    'lco':\n",
    "        {'coxnet': '582f3b16a31c42c08873a29634153869'}\n",
    "}\n",
    "\n",
    "from deps.hyperparameters import HYPERPARAMETERS_FILE\n",
    "\n",
    "set_tracking_uri('http://localhost:5000')\n",
    "\n",
    "def get_all_hyperparameters(run_id: str) -> Dict[str, Dict]:\n",
    "    root_run = get_run(run_id)\n",
    "    children_runs = search_runs(\n",
    "        root_run.info.experiment_id,\n",
    "        f'tags.mlflow.parentRunId = \"{root_run.info.run_id}\"',\n",
    "        output_format='pandas')\n",
    "    return {\n",
    "        rows['tags.mlflow.runName']: json.loads(rows['params.hyperparameters1'].replace(\"\\'\", \"\\\"\"))\n",
    "        for _, rows in children_runs.iterrows()\n",
    "    }\n",
    "\n",
    "\n",
    "hyperparameters = {\n",
    "    experiment_name: {\n",
    "        method_name: get_all_hyperparameters(run_id)\n",
    "        for method_name, run_id in methods.items()\n",
    "    }\n",
    "    for experiment_name, methods in chosen_runs.items()\n",
    "}\n",
    "\n",
    "print(yaml.dump(hyperparameters))\n",
    "\n",
    "with open(HYPERPARAMETERS_FILE, 'w') as f:\n",
    "    json.dump(hyperparameters, f)\n"
   ],
   "metadata": {
    "collapsed": false,
    "pycharm": {
     "name": "#%%\n"
    }
   }
  }
 ],
 "metadata": {
  "kernelspec": {
   "display_name": "Python 3",
   "language": "python",
   "name": "python3"
  },
  "language_info": {
   "codemirror_mode": {
    "name": "ipython",
    "version": 2
   },
   "file_extension": ".py",
   "mimetype": "text/x-python",
   "name": "python",
   "nbconvert_exporter": "python",
   "pygments_lexer": "ipython2",
   "version": "2.7.6"
  }
 },
 "nbformat": 4,
 "nbformat_minor": 0
}