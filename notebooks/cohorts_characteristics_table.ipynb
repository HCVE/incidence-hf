{
 "cells": [
  {
   "cell_type": "code",
   "execution_count": 2,
   "outputs": [],
   "source": [
    "from hcve_lib.utils import notebook_init\n",
    "notebook_init()\n",
    "from deps.data import load_metadata\n",
    "from deps.common import get_data_cached\n",
    "from deps.data import group_by_study\n",
    "from hcve_lib.cohort_statistics import get_characteristics_table\n",
    "from hcve_lib.visualisation import display_html\n",
    "from hcve_lib.cohort_statistics import get_events_table\n",
    "\n",
    "%autoreload 2"
   ],
   "metadata": {
    "collapsed": false,
    "pycharm": {
     "name": "#%%\n"
    }
   }
  },
  {
   "cell_type": "markdown",
   "source": [
    "## Characteristics\n",
    "\n",
    "Categorical variables are displayed as percentages (out of non-missing values) and absolute numbers, continuous as means and 10-90 percentiles."
   ],
   "metadata": {
    "collapsed": false
   }
  },
  {
   "cell_type": "code",
   "execution_count": 30,
   "outputs": [
    {
     "data": {
      "text/plain": "<IPython.core.display.HTML object>",
      "text/html": "<table><tr><th></th><th>ASCOT (n=19255)</th><th>Missing&nbsp;%</th><th>FLEMENGHO (n=1261)</th><th>Missing&nbsp;%</th><th>HEALTHABC (n=2935)</th><th>Missing&nbsp;%</th><th>HVC (n=489)</th><th>Missing&nbsp;%</th><th>PREDICTOR (n=1638)</th><th>Missing&nbsp;%</th><th>PROSPER (n=5804)</th><th>Missing&nbsp;%</th></tr>\n<tr><td><span style=\"padding-left: 0px\"><b>Administrative</b></span></td><td></td><td></td><td></td><td></td><td></td><td></td><td></td><td></td><td></td><td></td><td></td><td></td></tr>\n<tr><td><span style=\"padding-left: 20px\">Gender, male / female, % (n)</span></td><td>77 (14,740) / 23 (4,515)</td><td></td><td>48 (609) / 52 (652)</td><td></td><td>48 (1,407) / 52 (1,528)</td><td></td><td>54 (266) / 46 (223)</td><td></td><td>51 (837) / 49 (801)</td><td></td><td>48 (2,804) / 52 (3,000)</td><td></td></tr>\n<tr><td><span style=\"padding-left: 20px\">Age, Years</span></td><td>63.0 (51.65-74.32)</td><td></td><td>52.6 (29.55-73.03)</td><td></td><td>73.6 (70.0-78.0)</td><td></td><td>62.4 (45.44-78.75)</td><td></td><td>73.1 (67.33-80.28)</td><td></td><td>75.3 (71.11-80.21)</td><td></td></tr>\n<tr><td><span style=\"padding-left: 20px\">Body weight, Kg</span></td><td>84.6 (66.0-104.0)</td><td></td><td>76.3 (58.0-96.0)</td><td></td><td>75.6 (56.8-95.3)</td><td></td><td>80.6 (60.0-102.5)</td><td>14.9</td><td>72.4 (56.0-90.0)</td><td>0.2</td><td>73.4 (57.0-91.0)</td><td>0.0</td></tr>\n<tr><td><span style=\"padding-left: 20px\">Body height, cm</span></td><td>171.5 (159.0-182.0)</td><td></td><td>168.9 (156.5-181.5)</td><td></td><td>166.2 (154.4-178.7)</td><td></td><td>169.6 (157.0-181.0)</td><td>10.8</td><td>165.7 (155.0-177.0)</td><td>0.4</td><td>165.2 (153.0-178.0)</td><td>0.0</td></tr>\n<tr><td><span style=\"padding-left: 20px\">Body-mass index, Kg/m²</span></td><td>28.7 (23.63-34.54)</td><td></td><td>26.7 (21.46-32.12)</td><td></td><td>27.3 (21.78-33.73)</td><td></td><td>27.8 (22.26-34.82)</td><td>15.5</td><td>26.3 (21.72-31.25)</td><td>0.7</td><td>26.8 (21.85-32.05)</td><td>0.0</td></tr>\n<tr><td><span style=\"padding-left: 20px\">Smoking status, No / Yes / Ex-smoker, % (n)</span></td><td>37 (7,152) / 32 (6,210) / 31 (5,893)</td><td></td><td>43 (538) / 40 (501) / 18 (222)</td><td></td><td>45 (1,319) / 44 (1,304) / 11 (308)</td><td>0.1</td><td>41 (177) / 32 (139) / 27 (114)</td><td>12.1</td><td>49 (806) / 38 (623) / 13 (208)</td><td>0.1</td><td>73 (4,246) / 27 (1,558) / 0 (0)</td><td></td></tr>\n<tr><td><span style=\"padding-left: 20px\">Alcohol intake, % (n)</span></td><td>74 (14,293)</td><td></td><td>39 (491)</td><td></td><td>50 (1,460)</td><td>0.5</td><td>—</td><td>100.0</td><td>59 (964)</td><td>0.1</td><td>56 (3,228)</td><td></td></tr>\n<tr><td><span style=\"padding-left: 0px\"><b>Medical history</b></span></td><td></td><td></td><td></td><td></td><td></td><td></td><td></td><td></td><td></td><td></td><td></td><td></td></tr>\n<tr><td><span style=\"padding-left: 20px\">History of diabetes, % (n)</span></td><td>27 (5,145)</td><td></td><td>5 (60)</td><td></td><td>15 (431)</td><td>0.1</td><td>17 (81)</td><td></td><td>17 (270)</td><td>0.7</td><td>11 (623)</td><td></td></tr>\n<tr><td><span style=\"padding-left: 20px\">History of cardiovascular disease, % (n)</span></td><td>43 (8,276)</td><td></td><td>9 (113)</td><td></td><td>26 (740)</td><td>1.9</td><td>28 (139)</td><td></td><td>27 (446)</td><td>0.2</td><td>44 (2,550)</td><td></td></tr>\n<tr><td><span style=\"padding-left: 20px\">History of coronary artery disease, % (n)</span></td><td>27 (5,284)</td><td></td><td>5 (57)</td><td></td><td>22 (637)</td><td>1.5</td><td>17 (82)</td><td></td><td>7 (120)</td><td></td><td>32 (1,881)</td><td></td></tr>\n<tr><td><span style=\"padding-left: 20px\">History of peripheral artery disease, % (n)</span></td><td>6 (1,199)</td><td></td><td>2 (29)</td><td></td><td>5 (136)</td><td>2.3</td><td>9 (46)</td><td></td><td>0 (0)</td><td></td><td>2 (123)</td><td></td></tr>\n<tr><td><span style=\"padding-left: 20px\">History of atrial fibrillation, % (n)</span></td><td>1 (230)</td><td>0.7</td><td>2 (25)</td><td></td><td>—</td><td>100.0</td><td>8 (40)</td><td></td><td>0 (0)</td><td></td><td>—</td><td>100.0</td></tr>\n<tr><td><span style=\"padding-left: 20px\">History of cerebrovascular incident, % (n)</span></td><td>11 (2,113)</td><td></td><td>2 (25)</td><td></td><td>8 (221)</td><td>1.0</td><td>9 (44)</td><td></td><td>0 (0)</td><td></td><td>11 (649)</td><td></td></tr>\n<tr><td><span style=\"padding-left: 0px\"><b>Medication</b></span></td><td></td><td></td><td></td><td></td><td></td><td></td><td></td><td></td><td></td><td></td><td></td><td></td></tr>\n<tr><td><span style=\"padding-left: 20px\">Intake of antihypertensive medication, % (n)</span></td><td>19 (3,665)</td><td></td><td>27 (341)</td><td></td><td>47 (1,380)</td><td>0.3</td><td>21 (105)</td><td></td><td>48 (789)</td><td></td><td>26 (1,519)</td><td></td></tr>\n<tr><td><span style=\"padding-left: 20px\">Intake of angiotensin converting enzyme inhibitors, % (n)</span></td><td>32 (4,972)</td><td>19.0</td><td>5 (68)</td><td></td><td>14 (413)</td><td>0.3</td><td>27 (130)</td><td></td><td>21 (347)</td><td></td><td>16 (951)</td><td></td></tr>\n<tr><td><span style=\"padding-left: 20px\">Intake of calcium channel blockers, % (n)</span></td><td>35 (5,514)</td><td>19.0</td><td>6 (73)</td><td></td><td>23 (660)</td><td>0.3</td><td>26 (127)</td><td></td><td>16 (269)</td><td></td><td>25 (1,458)</td><td></td></tr>\n<tr><td><span style=\"padding-left: 20px\">Intake of diuretics, % (n)</span></td><td>35 (5,489)</td><td>19.0</td><td>10 (127)</td><td></td><td>24 (714)</td><td></td><td>28 (138)</td><td></td><td>16 (257)</td><td></td><td>41 (2,358)</td><td></td></tr>\n<tr><td><span style=\"padding-left: 20px\">Intake of beta-blokcers, % (n)</span></td><td>39 (6,158)</td><td>19.0</td><td>15 (193)</td><td></td><td>12 (364)</td><td>0.3</td><td>47 (232)</td><td></td><td>15 (240)</td><td></td><td>26 (1,502)</td><td></td></tr>\n<tr><td><span style=\"padding-left: 20px\">Intake of angiotensin II receptor blockers, % (n)</span></td><td>8 (1,218)</td><td>19.0</td><td>4 (52)</td><td></td><td>2 (61)</td><td>0.3</td><td>27 (131)</td><td></td><td>20 (331)</td><td></td><td>2 (116)</td><td></td></tr>\n<tr><td><span style=\"padding-left: 20px\">Intake of lipid-lowering medication, % (n)</span></td><td>11 (2,050)</td><td></td><td>16 (203)</td><td></td><td>14 (403)</td><td>0.3</td><td>48 (237)</td><td></td><td>—</td><td>100.0</td><td>—</td><td>100.0</td></tr>\n<tr><td><span style=\"padding-left: 0px\"><b>Blood pressure</b></span></td><td></td><td></td><td></td><td></td><td></td><td></td><td></td><td></td><td></td><td></td><td></td><td></td></tr>\n<tr><td><span style=\"padding-left: 20px\">Systolic blood pressure, mmHg</span></td><td>164.0 (143.0-187.5)</td><td></td><td>131.0 (110.8-154.8)</td><td></td><td>136.0 (111.0-163.0)</td><td></td><td>148.7 (120.0-180.0)</td><td></td><td>138.6 (120.0-160.0)</td><td></td><td>154.7 (126.0-183.0)</td><td></td></tr>\n<tr><td><span style=\"padding-left: 20px\">Diastolic blood pressure, mmHg</span></td><td>94.7 (81.5-107.8)</td><td></td><td>80.7 (69.2-92.8)</td><td></td><td>71.4 (57.4-86.0)</td><td></td><td>84.0 (70.0-100.0)</td><td>0.2</td><td>80.7 (70.0-90.0)</td><td>0.1</td><td>83.8 (70.0-98.0)</td><td></td></tr>\n<tr><td><span style=\"padding-left: 20px\">Heart rate, Beats per minute</span></td><td>71.9 (56.5-88.5)</td><td></td><td>63.8 (52.0-76.0)</td><td></td><td>65.3 (52.0-80.0)</td><td>0.1</td><td>74.3 (58.0-95.0)</td><td>1.0</td><td>70.6 (57.0-86.0)</td><td>0.1</td><td>66.3 (52.0-82.0)</td><td>2.1</td></tr>\n<tr><td><span style=\"padding-left: 20px\">Pulse pressure, mmHg</span></td><td>69.4 (49.5-91.0)</td><td></td><td>50.3 (34.8-70.4)</td><td></td><td>64.5 (43.0-87.0)</td><td></td><td>64.6 (40.0-90.0)</td><td>0.2</td><td>57.9 (40.0-75.0)</td><td>0.1</td><td>70.9 (48.0-95.0)</td><td></td></tr>\n<tr><td><span style=\"padding-left: 0px\"><b>ECG</b></span></td><td></td><td></td><td></td><td></td><td></td><td></td><td></td><td></td><td></td><td></td><td></td><td></td></tr>\n<tr><td><span style=\"padding-left: 20px\">Sokolow-Lyon index, mm</span></td><td>24.2 (14.5-35.0)</td><td>2.1</td><td>21.6 (12.6-31.15)</td><td>1.5</td><td>—</td><td>100.0</td><td>—</td><td>100.0</td><td>—</td><td>100.0</td><td>—</td><td>100.0</td></tr>\n<tr><td><span style=\"padding-left: 20px\">QRS duration, ms</span></td><td>94.3 (80.0-108.0)</td><td>1.2</td><td>93.1 (80.0-106.0)</td><td>1.5</td><td>93.0 (76.0-112.0)</td><td>0.3</td><td>93.5 (76.0-112.0)</td><td>1.0</td><td>—</td><td>100.0</td><td>—</td><td>100.0</td></tr>\n<tr><td><span style=\"padding-left: 20px\">Cornell index, mm x msec</span></td><td>1709.5 (880.0-2600.0)</td><td>2.9</td><td>1118.8 (460.24-1883.22)</td><td>1.5</td><td>—</td><td>100.0</td><td>—</td><td>100.0</td><td>—</td><td>100.0</td><td>—</td><td>100.0</td></tr>\n<tr><td><span style=\"padding-left: 0px\"><b>Biochemical measurements</b></span></td><td></td><td></td><td></td><td></td><td></td><td></td><td></td><td></td><td></td><td></td><td></td><td></td></tr>\n<tr><td><span style=\"padding-left: 20px\">Blood glucose, mmol/L</span></td><td>6.2 (4.7-8.7)</td><td>9.5</td><td>4.9 (4.27-5.44)</td><td>0.2</td><td>5.8 (4.55-7.66)</td><td>1.0</td><td>6.1 (4.7-7.84)</td><td>8.6</td><td>5.8 (4.61-7.38)</td><td>0.4</td><td>5.5 (4.4-6.9)</td><td>0.4</td></tr>\n<tr><td><span style=\"padding-left: 20px\">Total cholesterol, mmol/L</span></td><td>5.9 (4.6-7.3)</td><td></td><td>5.1 (3.96-6.36)</td><td>0.2</td><td>5.3 (4.07-6.53)</td><td>1.1</td><td>5.3 (3.7-7.0)</td><td>1.6</td><td>5.3 (3.99-6.58)</td><td>0.4</td><td>5.7 (4.52-6.9)</td><td></td></tr>\n<tr><td><span style=\"padding-left: 20px\">LDL-cholesterol, mmol/L</span></td><td>3.8 (2.6-5.05)</td><td>11.2</td><td>3.1 (2.04-4.16)</td><td>0.3</td><td>3.2 (2.07-4.3)</td><td>2.3</td><td>3.3 (1.9-4.8)</td><td>2.2</td><td>3.3 (2.15-4.48)</td><td>1.0</td><td>3.8 (2.8-4.82)</td><td></td></tr>\n<tr><td><span style=\"padding-left: 20px\">HDL-cholesterol, mmol/L</span></td><td>1.3 (0.9-1.8)</td><td></td><td>1.5 (1.01-1.94)</td><td>0.2</td><td>1.4 (0.93-1.97)</td><td>1.2</td><td>1.3 (0.8-1.8)</td><td>1.8</td><td>1.4 (0.95-1.81)</td><td>0.7</td><td>1.3 (0.9-1.72)</td><td></td></tr>\n<tr><td><span style=\"padding-left: 20px\">Triglycerides, mmol/L</span></td><td>1.8 (0.9-3.1)</td><td>9.3</td><td>1.3 (0.63-2.17)</td><td>0.2</td><td>1.5 (0.75-2.45)</td><td>1.1</td><td>1.8 (0.73-3.03)</td><td>1.6</td><td>1.3 (0.7-2.1)</td><td>0.5</td><td>1.5 (0.85-2.45)</td><td></td></tr>\n<tr><td><span style=\"padding-left: 20px\">Serum creatinine, μmol/L</span></td><td>98.7 (80.0-119.0)</td><td>31.9</td><td>80.5 (61.0-100.78)</td><td>0.2</td><td>92.9 (70.72-114.92)</td><td>0.9</td><td>96.0 (65.2-120.0)</td><td>1.2</td><td>84.5 (61.88-110.5)</td><td>0.6</td><td>101.2 (74.0-130.0)</td><td>0.1</td></tr></table>"
     },
     "metadata": {},
     "output_type": "display_data"
    }
   ],
   "source": [
    "data, metadata, X, y = get_data_cached()\n",
    "\n",
    "display_html(get_characteristics_table(metadata, X, group_by_study(data, X)))"
   ],
   "metadata": {
    "collapsed": false,
    "pycharm": {
     "name": "#%%\n"
    }
   }
  },
  {
   "cell_type": "markdown",
   "source": [
    "## Outcome"
   ],
   "metadata": {
    "collapsed": false,
    "pycharm": {
     "name": "#%% md\n"
    }
   }
  },
  {
   "cell_type": "code",
   "execution_count": 37,
   "outputs": [
    {
     "data": {
      "text/plain": "<IPython.core.display.HTML object>",
      "text/html": "<table><tr><th></th><th>ASCOT (n=19255)</th><th>FLEMENGHO (n=1261)</th><th>HEALTHABC (n=2935)</th><th>HVC (n=489)</th><th>PREDICTOR (n=1638)</th><th>PROSPER (n=5804)</th></tr>\n<tr><td><b>Cardiovascular death</b></td><td></td><td></td><td></td><td></td><td></td><td></td></tr>\n<tr><td><span style=\"padding-left: 40px\">Events per 1000 py</span></td><td>5.70</td><td>2.01</td><td>5.53</td><td>13.49</td><td>3.93</td><td>15.62</td></tr>\n<tr><td><span style=\"padding-left: 40px\">Incidence</span></td><td>3.1%</td><td>1.9%</td><td>5.9%</td><td>2.2%</td><td>1.5%</td><td>5.0%</td></tr>\n<tr><td><span style=\"padding-left: 40px\">Events</span></td><td>605</td><td>24</td><td>173</td><td>11</td><td>25</td><td>292</td></tr>\n<tr><td><span style=\"padding-left: 40px\">Median follow-up (years)</span></td><td>5.6</td><td>10.2</td><td>12.9</td><td>1.1</td><td>3.9</td><td>3.3</td></tr>\n<tr><td><span style=\"padding-left: 40px\">Missing</span></td><td>0.0%</td><td>0.0%</td><td>0.0%</td><td>0.0%</td><td>0.0%</td><td>0.0%</td></tr>\n<tr><td><b>Non-fatal heart failure</b></td><td></td><td></td><td></td><td></td><td></td><td></td></tr>\n<tr><td><span style=\"padding-left: 40px\">Events per 1000 py</span></td><td>2.30</td><td>2.60</td><td>19.51</td><td>18.93</td><td>6.67</td><td>12.70</td></tr>\n<tr><td><span style=\"padding-left: 40px\">Incidence</span></td><td>1.3%</td><td>1.7%</td><td>19.6%</td><td>3.1%</td><td>2.6%</td><td>4.0%</td></tr>\n<tr><td><span style=\"padding-left: 40px\">Events</span></td><td>243</td><td>22</td><td>574</td><td>15</td><td>42</td><td>234</td></tr>\n<tr><td><span style=\"padding-left: 40px\">Median follow-up (years)</span></td><td>5.6</td><td>6.7</td><td>12.0</td><td>1.1</td><td>3.9</td><td>3.3</td></tr>\n<tr><td><span style=\"padding-left: 40px\">Missing</span></td><td>0.0%</td><td>0.0%</td><td>0.0%</td><td>0.0%</td><td>0.0%</td><td>0.0%</td></tr>\n<tr><td><b>Fatal or non-fatal heart failure</b></td><td></td><td> </td><td> </td><td> </td><td> </td><td> </td></tr>\n<tr><td><span style=\"padding-left: 40px\">Events per 1000 py</span></td><td>2.76</td><td> </td><td> </td><td> </td><td> </td><td> </td></tr>\n<tr><td><span style=\"padding-left: 40px\">Incidence</span></td><td>1.5%</td><td> </td><td> </td><td> </td><td> </td><td> </td></tr>\n<tr><td><span style=\"padding-left: 40px\">Events</span></td><td>292</td><td> </td><td> </td><td> </td><td> </td><td> </td></tr>\n<tr><td><span style=\"padding-left: 40px\">Median follow-up (years)</span></td><td>5.6</td><td>100.0%</td><td>100.0%</td><td>100.0%</td><td>100.0%</td><td>100.0%</td></tr></table>"
     },
     "metadata": {},
     "output_type": "display_data"
    }
   ],
   "source": [
    "display_html(get_events_table(metadata, group_by_study(data)))"
   ],
   "metadata": {
    "collapsed": false,
    "pycharm": {
     "name": "#%%\n"
    }
   }
  },
  {
   "cell_type": "markdown",
   "source": [
    "<style>\n",
    "table td, table th {text-align: left !important}\n",
    "</style>"
   ],
   "metadata": {
    "collapsed": false,
    "pycharm": {
     "name": "#%% md\n"
    }
   }
  }
 ],
 "metadata": {
  "kernelspec": {
   "display_name": "Python 3",
   "language": "python",
   "name": "python3"
  },
  "language_info": {
   "codemirror_mode": {
    "name": "ipython",
    "version": 2
   },
   "file_extension": ".py",
   "mimetype": "text/x-python",
   "name": "python",
   "nbconvert_exporter": "python",
   "pygments_lexer": "ipython2",
   "version": "2.7.6"
  }
 },
 "nbformat": 4,
 "nbformat_minor": 0
}