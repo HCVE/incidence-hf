{
 "cells": [
  {
   "cell_type": "code",
   "execution_count": 1,
   "metadata": {
    "collapsed": true
   },
   "outputs": [
    {
     "name": "stdout",
     "output_type": "stream",
     "text": [
      "The autoreload extension is already loaded. To reload it, use:\n",
      "  %reload_ext autoreload\n"
     ]
    }
   ],
   "source": [
    "%load_ext autoreload\n",
    "%autoreload  2\n",
    "\n",
    "from hcve_lib.utils import notebook_init\n",
    "\n",
    "notebook_init()\n",
    "from deps.data import load_metadata\n"
   ]
  },
  {
   "cell_type": "code",
   "execution_count": 2,
   "outputs": [],
   "source": [
    "\n",
    "from deps.common import get_variables_cached\n",
    "\n",
    "data, metadata, X, y = get_variables_cached()"
   ],
   "metadata": {
    "collapsed": false,
    "pycharm": {
     "name": "#%%\n"
    }
   }
  },
  {
   "cell_type": "code",
   "execution_count": 4,
   "outputs": [
    {
     "data": {
      "text/plain": "<IPython.core.display.HTML object>",
      "text/html": "<table><tr><th></th><th>ASCOT</th><th>FLEMENGHO</th><th>HEALTHABC</th><th>HVC</th><th>PREDICTOR</th><th>PROSPER</th></tr>\n<tr><td><span style=\"padding-left: 0px\"><b>Administrative</b></td><td></td><td></td><td></td><td></td><td></td><td></td></tr>\n<tr><td><span style=\"padding-left: 20px\">Gender, male / female, % (n)</td><td>77 (14,742) / 23 (4,515)</td><td>49 (701) / 51 (735)</td><td>48 (1,407) / 52 (1,528)</td><td>54 (266) / 46 (223)</td><td>51 (837) / 49 (801)</td><td>48 (2,804) / 52 (3,000)</td></tr>\n<tr><td><span style=\"padding-left: 20px\">Age, Years</td><td>63.0 (51.65-74.32)</td><td>51.3 (27.61-72.42)</td><td>73.6 (70.0-78.0)</td><td>62.4 (45.44-78.75)</td><td>73.1 (67.33-80.28)</td><td>75.3 (71.11-80.21)</td></tr>\n<tr><td><span style=\"padding-left: 20px\">Body weight, Kg</td><td>84.6 (66.0-104.0)</td><td>76.2 (58.0-96.0)</td><td>75.6 (56.8-95.3)</td><td>80.6 (60.0-102.5)</td><td>72.4 (56.0-90.0)</td><td>73.4 (57.0-91.0)</td></tr>\n<tr><td><span style=\"padding-left: 20px\">Body height, cm</td><td>171.5 (159.0-182.0)</td><td>169.4 (157.0-182.0)</td><td>166.2 (154.4-178.7)</td><td>169.6 (157.0-181.0)</td><td>165.7 (155.0-177.0)</td><td>165.2 (153.0-178.0)</td></tr>\n<tr><td><span style=\"padding-left: 20px\">Body-mass index, Kg/m²</td><td>28.7 (23.63-34.54)</td><td>26.5 (21.33-32.01)</td><td>27.3 (21.78-33.73)</td><td>27.8 (22.26-34.82)</td><td>26.3 (21.72-31.25)</td><td>26.8 (21.85-32.05)</td></tr>\n<tr><td><span style=\"padding-left: 20px\">Smoking status, No / Yes / Ex-smoker, % (n)</td><td>37 (7,153) / 32 (6,211) / 31 (5,893)</td><td>44 (637) / 38 (550) / 17 (249)</td><td>45 (1,319) / 44 (1,304) / 10 (308)</td><td>36 (177) / 28 (139) / 23 (114)</td><td>49 (806) / 38 (623) / 13 (208)</td><td>73 (4,246) / 27 (1,558) / 0 (0)</td></tr>\n<tr><td><span style=\"padding-left: 20px\">Alcohol intake, % (n)</td><td>74 (4,963)</td><td>40 (868)</td><td>50 (1,461)</td><td>0 (0)</td><td>59 (673)</td><td>56 (2,576)</td></tr>\n<tr><td><span style=\"padding-left: 0px\"><b>Medical history</b></td><td></td><td></td><td></td><td></td><td></td><td></td></tr>\n<tr><td><span style=\"padding-left: 20px\">History of diabetes, % (n)</td><td>27 (14,112)</td><td>4 (1,375)</td><td>15 (2,501)</td><td>17 (408)</td><td>16 (1,356)</td><td>11 (5,181)</td></tr>\n<tr><td><span style=\"padding-left: 20px\">History of cardiovascular disease, % (n)</td><td>43 (10,981)</td><td>8 (1,323)</td><td>25 (2,139)</td><td>28 (350)</td><td>27 (1,189)</td><td>44 (3,254)</td></tr>\n<tr><td><span style=\"padding-left: 20px\">History of coronary artery disease, % (n)</td><td>27 (13,973)</td><td>4 (1,379)</td><td>22 (2,253)</td><td>17 (407)</td><td>7 (1,518)</td><td>32 (3,923)</td></tr>\n<tr><td><span style=\"padding-left: 20px\">History of peripheral artery disease, % (n)</td><td>6 (18,058)</td><td>2 (1,407)</td><td>5 (2,732)</td><td>9 (443)</td><td>0 (1,638)</td><td>2 (5,681)</td></tr>\n<tr><td><span style=\"padding-left: 20px\">History of atrial fibrillation, % (n)</td><td>1 (18,885)</td><td>2 (1,411)</td><td>0 (0)</td><td>8 (449)</td><td>0 (1,638)</td><td>0 (0)</td></tr>\n<tr><td><span style=\"padding-left: 20px\">History of cerebrovascular incident, % (n)</td><td>11 (17,144)</td><td>2 (1,411)</td><td>8 (2,686)</td><td>9 (445)</td><td>0 (1,638)</td><td>11 (5,155)</td></tr>\n<tr><td><span style=\"padding-left: 0px\"><b>Medication</b></td><td></td><td></td><td></td><td></td><td></td><td></td></tr>\n<tr><td><span style=\"padding-left: 20px\">Intake of antihypertensive medication, % (n)</td><td>19 (15,591)</td><td>25 (1,081)</td><td>47 (1,545)</td><td>21 (384)</td><td>48 (849)</td><td>26 (4,285)</td></tr>\n<tr><td><span style=\"padding-left: 20px\">Intake of angiotensin converting enzyme inhibitors, % (n)</td><td>26 (10,629)</td><td>5 (1,364)</td><td>14 (2,512)</td><td>27 (359)</td><td>21 (1,291)</td><td>16 (4,853)</td></tr>\n<tr><td><span style=\"padding-left: 20px\">Intake of calcium channel blockers, % (n)</td><td>29 (10,086)</td><td>5 (1,361)</td><td>22 (2,265)</td><td>26 (362)</td><td>16 (1,369)</td><td>25 (4,346)</td></tr>\n<tr><td><span style=\"padding-left: 20px\">Intake of diuretics, % (n)</td><td>29 (10,111)</td><td>9 (1,302)</td><td>24 (2,221)</td><td>28 (351)</td><td>16 (1,381)</td><td>41 (3,446)</td></tr>\n<tr><td><span style=\"padding-left: 20px\">Intake of beta-blokcers, % (n)</td><td>32 (9,443)</td><td>14 (1,234)</td><td>12 (2,561)</td><td>47 (257)</td><td>15 (1,398)</td><td>26 (4,302)</td></tr>\n<tr><td><span style=\"padding-left: 20px\">Intake of angiotensin II receptor blockers, % (n)</td><td>6 (14,383)</td><td>4 (1,383)</td><td>2 (2,864)</td><td>27 (358)</td><td>20 (1,307)</td><td>2 (5,688)</td></tr>\n<tr><td><span style=\"padding-left: 20px\">Intake of lipid-lowering medication, % (n)</td><td>11 (17,207)</td><td>15 (1,225)</td><td>14 (2,522)</td><td>48 (252)</td><td>0 (0)</td><td>0 (0)</td></tr>\n<tr><td><span style=\"padding-left: 0px\"><b>Blood pressure</b></td><td></td><td></td><td></td><td></td><td></td><td></td></tr>\n<tr><td><span style=\"padding-left: 20px\">Systolic blood pressure, mmHg</td><td>164.0 (143.0-187.5)</td><td>130.3 (110.2-153.4)</td><td>136.0 (111.0-163.0)</td><td>148.7 (120.0-180.0)</td><td>138.6 (120.0-160.0)</td><td>154.7 (126.0-183.0)</td></tr>\n<tr><td><span style=\"padding-left: 20px\">Diastolic blood pressure, mmHg</td><td>94.7 (81.5-108.0)</td><td>80.7 (68.8-93.2)</td><td>71.4 (57.4-86.0)</td><td>84.0 (70.0-100.0)</td><td>80.7 (70.0-90.0)</td><td>83.8 (70.0-98.0)</td></tr>\n<tr><td><span style=\"padding-left: 20px\">Heart rate, Beats per minute</td><td>71.9 (56.5-88.5)</td><td>63.9 (52.0-76.0)</td><td>65.3 (52.0-80.0)</td><td>74.3 (58.0-95.0)</td><td>70.6 (57.0-86.0)</td><td>66.3 (52.0-82.0)</td></tr>\n<tr><td><span style=\"padding-left: 20px\">Pulse pressure, mmHg</td><td>69.4 (49.5-91.0)</td><td>49.6 (34.4-69.6)</td><td>64.5 (43.0-87.0)</td><td>64.6 (40.0-90.0)</td><td>57.9 (40.0-75.0)</td><td>70.9 (48.0-95.0)</td></tr>\n<tr><td><span style=\"padding-left: 0px\"><b>ECG</b></td><td></td><td></td><td></td><td></td><td></td><td></td></tr>\n<tr><td><span style=\"padding-left: 20px\">Sokolow-Lyon index, mm</td><td>24.2 (14.5-35.0)</td><td>21.8 (12.8-31.65)</td><td>nan (nan-nan)</td><td>nan (nan-nan)</td><td>nan (nan-nan)</td><td>nan (nan-nan)</td></tr>\n<tr><td><span style=\"padding-left: 20px\">QRS duration, ms</td><td>94.3 (80.0-108.0)</td><td>93.0 (80.0-106.0)</td><td>93.0 (76.0-112.0)</td><td>93.5 (76.0-112.0)</td><td>nan (nan-nan)</td><td>nan (nan-nan)</td></tr>\n<tr><td><span style=\"padding-left: 20px\">Cornell index, mm x msec</td><td>1709.7 (880.0-2600.0)</td><td>1121.4 (460.6-1876.8)</td><td>nan (nan-nan)</td><td>nan (nan-nan)</td><td>nan (nan-nan)</td><td>nan (nan-nan)</td></tr>\n<tr><td><span style=\"padding-left: 0px\"><b>Biochemical measurements</b></td><td></td><td></td><td></td><td></td><td></td><td></td></tr>\n<tr><td><span style=\"padding-left: 20px\">Blood glucose, mmol/L</td><td>6.2 (4.7-8.7)</td><td>4.8 (4.22-5.38)</td><td>5.8 (4.55-7.66)</td><td>6.1 (4.7-7.84)</td><td>5.8 (4.61-7.38)</td><td>5.5 (4.4-6.9)</td></tr>\n<tr><td><span style=\"padding-left: 20px\">Total cholesterol, mmol/L</td><td>5.9 (4.6-7.3)</td><td>5.1 (3.88-6.33)</td><td>5.3 (4.07-6.53)</td><td>5.3 (3.7-7.0)</td><td>5.3 (3.99-6.58)</td><td>5.7 (4.52-6.9)</td></tr>\n<tr><td><span style=\"padding-left: 20px\">LDL-cholesterol, mmol/L</td><td>3.8 (2.6-5.05)</td><td>3.1 (1.99-4.14)</td><td>3.2 (2.07-4.3)</td><td>3.3 (1.9-4.8)</td><td>3.3 (2.15-4.48)</td><td>3.8 (2.8-4.82)</td></tr>\n<tr><td><span style=\"padding-left: 20px\">HDL-cholesterol, mmol/L</td><td>1.3 (0.9-1.8)</td><td>1.5 (1.01-1.97)</td><td>1.4 (0.93-1.97)</td><td>1.3 (0.8-1.8)</td><td>1.4 (0.95-1.81)</td><td>1.3 (0.9-1.72)</td></tr>\n<tr><td><span style=\"padding-left: 20px\">Triglycerides, mmol/L</td><td>1.8 (0.9-3.1)</td><td>1.3 (0.61-2.15)</td><td>1.5 (0.75-2.45)</td><td>1.8 (0.73-3.03)</td><td>1.3 (0.7-2.1)</td><td>1.5 (0.85-2.45)</td></tr>\n<tr><td><span style=\"padding-left: 20px\">Serum creatinine, μmol/L</td><td>98.7 (80.0-119.0)</td><td>79.8 (60.11-99.89)</td><td>92.9 (70.72-114.92)</td><td>96.0 (65.2-120.0)</td><td>84.5 (61.88-110.5)</td><td>101.2 (74.0-130.0)</td></tr>\n<tr><td><span style=\"padding-left: 0px\"><b>Outcome</b></td><td></td><td></td><td></td><td></td><td></td><td></td></tr></table>"
     },
     "metadata": {},
     "output_type": "display_data"
    }
   ],
   "source": [
    "from deps.data import group_by_study\n",
    "from hcve_lib.cohort_statistics import get_table\n",
    "from hcve_lib.visualisation import display_html\n",
    "\n",
    "metadata = load_metadata()\n",
    "display_html(get_table(metadata, X, group_by_study(X, data)))"
   ],
   "metadata": {
    "collapsed": false,
    "pycharm": {
     "name": "#%%\n"
    }
   }
  }
 ],
 "metadata": {
  "kernelspec": {
   "display_name": "Python 3",
   "language": "python",
   "name": "python3"
  },
  "language_info": {
   "codemirror_mode": {
    "name": "ipython",
    "version": 2
   },
   "file_extension": ".py",
   "mimetype": "text/x-python",
   "name": "python",
   "nbconvert_exporter": "python",
   "pygments_lexer": "ipython2",
   "version": "2.7.6"
  }
 },
 "nbformat": 4,
 "nbformat_minor": 0
}