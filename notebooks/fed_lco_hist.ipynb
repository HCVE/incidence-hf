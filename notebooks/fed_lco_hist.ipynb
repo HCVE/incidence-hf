{
 "cells": [
  {
   "cell_type": "code",
   "execution_count": 4,
   "metadata": {
    "collapsed": true
   },
   "outputs": [],
   "source": [
    "import pandas\n",
    "from matplotlib import pyplot\n",
    "from mlflow import set_tracking_uri\n",
    "import json\n",
    "from typing import Dict\n",
    "\n",
    "from hcve_lib.tracking import get_children_runs\n",
    "from hcve_lib.tracking import get_completed_runs\n",
    "from hcve_lib.tracking import is_root_run\n",
    "from hcve_lib.visualisation import h3, h1, h4\n",
    "\n",
    "set_tracking_uri('http://localhost:5000')\n",
    "\n",
    "%load_ext autoreload\n",
    "%autoreload 2\n",
    "%matplotlib inline\n",
    "%config InlineBackend.figure_format='retina'\n",
    "pandas.set_option(\"display.max_columns\", None)\n",
    "pyplot.rcParams['figure.facecolor'] = 'white'\n",
    "\n",
    "def get_lco_hyperparameters(method_name: str) -> Dict[str, Dict]:\n",
    "    runs_lco = get_completed_runs('optimized_lco')\n",
    "    root_lco_runs = runs_lco[is_root_run(runs_lco)]\n",
    "    coxnet_run = root_lco_runs.query(f'`tags.mlflow.runName` == \"{method_name}\"').iloc[0]\n",
    "    children_runs = get_children_runs(runs_lco, coxnet_run['run_id'])\n",
    "    return {\n",
    "        rows['tags.mlflow.runName']: json.loads(rows['params.hyperparameters'].replace(\"\\'\", \"\\\"\"))\n",
    "        for _, rows in children_runs.iterrows()\n",
    "    }\n"
   ]
  }
 ],
 "metadata": {
  "kernelspec": {
   "display_name": "Python 3",
   "language": "python",
   "name": "python3"
  },
  "language_info": {
   "codemirror_mode": {
    "name": "ipython",
    "version": 2
   },
   "file_extension": ".py",
   "mimetype": "text/x-python",
   "name": "python",
   "nbconvert_exporter": "python",
   "pygments_lexer": "ipython2",
   "version": "2.7.6"
  }
 },
 "nbformat": 4,
 "nbformat_minor": 0
}