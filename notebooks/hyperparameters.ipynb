{
 "cells": [
  {
   "cell_type": "code",
   "execution_count": 4,
   "metadata": {
    "collapsed": true
   },
   "outputs": [],
   "source": [
    "from mlflow import set_tracking_uri\n",
    "import json\n",
    "from typing import Dict\n",
    "\n",
    "from hcve_lib.tracking import get_children_runs\n",
    "from hcve_lib.tracking import get_completed_runs\n",
    "from hcve_lib.tracking import is_root_run\n",
    "from hcve_lib.visualisation import h3, h1, h4\n",
    "\n",
    "set_tracking_uri('http://localhost:5000')\n",
    "\n",
    "def get_lco_hyperparameters(method_name: str, experiment_name: str) -> Dict[str, Dict]:\n",
    "    runs_lco = get_completed_runs(experiment_name)\n",
    "    root_lco_runs = runs_lco[is_root_run(runs_lco)]\n",
    "    coxnet_run = root_lco_runs.query(f'`tags.mlflow.runName` == \"{method_name}\"').iloc[0]\n",
    "    children_runs = get_children_runs(runs_lco, coxnet_run['run_id'])\n",
    "    return {\n",
    "        rows['tags.mlflow.runName']: json.loads(rows['params.hyperparameters'].replace(\"\\'\", \"\\\"\"))\n",
    "        for _, rows in children_runs.iterrows()\n",
    "    }\n"
   ]
  },
  {
   "cell_type": "markdown",
   "source": [
    "# LCO"
   ],
   "metadata": {
    "collapsed": false
   }
  },
  {
   "cell_type": "code",
   "execution_count": 2,
   "outputs": [
    {
     "data": {
      "text/plain": "<IPython.core.display.HTML object>",
      "text/html": "<h1>coxnet</h1>"
     },
     "metadata": {},
     "output_type": "display_data"
    },
    {
     "data": {
      "text/plain": "<IPython.core.display.HTML object>",
      "text/html": "<h3>JSON</h3>"
     },
     "metadata": {},
     "output_type": "display_data"
    },
    {
     "name": "stdout",
     "output_type": "stream",
     "text": [
      "{'PROSPER': {'estimator__inner': {'l1_ratio': 0.4257106841010597, 'alphas': [0.19796442229441547]}}, 'PREDICTOR': {'estimator__inner': {'l1_ratio': 9.903272089839543e-05, 'alphas': [0.10785345456213535]}}, 'HVC': {'estimator__inner': {'l1_ratio': 0.8789374950671529, 'alphas': [0.11683169772793808]}}, 'FLEMENGHO': {'estimator__inner': {'l1_ratio': 0.7228890383871762, 'alphas': [0.1050406333555784]}}, 'ASCOT': {'estimator__inner': {'l1_ratio': 0.0008083323168994738, 'alphas': [0.10509937403221091]}}}\n"
     ]
    },
    {
     "data": {
      "text/plain": "<IPython.core.display.HTML object>",
      "text/html": "<h3>Per cohort</h3>"
     },
     "metadata": {},
     "output_type": "display_data"
    },
    {
     "data": {
      "text/plain": "<IPython.core.display.HTML object>",
      "text/html": "<h4>PROSPER</h4>"
     },
     "metadata": {},
     "output_type": "display_data"
    },
    {
     "name": "stdout",
     "output_type": "stream",
     "text": [
      "{'estimator__inner': {'l1_ratio': 0.4257106841010597, 'alphas': [0.19796442229441547]}}\n"
     ]
    },
    {
     "data": {
      "text/plain": "<IPython.core.display.HTML object>",
      "text/html": "<h4>PREDICTOR</h4>"
     },
     "metadata": {},
     "output_type": "display_data"
    },
    {
     "name": "stdout",
     "output_type": "stream",
     "text": [
      "{'estimator__inner': {'l1_ratio': 9.903272089839543e-05, 'alphas': [0.10785345456213535]}}\n"
     ]
    },
    {
     "data": {
      "text/plain": "<IPython.core.display.HTML object>",
      "text/html": "<h4>HVC</h4>"
     },
     "metadata": {},
     "output_type": "display_data"
    },
    {
     "name": "stdout",
     "output_type": "stream",
     "text": [
      "{'estimator__inner': {'l1_ratio': 0.8789374950671529, 'alphas': [0.11683169772793808]}}\n"
     ]
    },
    {
     "data": {
      "text/plain": "<IPython.core.display.HTML object>",
      "text/html": "<h4>FLEMENGHO</h4>"
     },
     "metadata": {},
     "output_type": "display_data"
    },
    {
     "name": "stdout",
     "output_type": "stream",
     "text": [
      "{'estimator__inner': {'l1_ratio': 0.7228890383871762, 'alphas': [0.1050406333555784]}}\n"
     ]
    },
    {
     "data": {
      "text/plain": "<IPython.core.display.HTML object>",
      "text/html": "<h4>ASCOT</h4>"
     },
     "metadata": {},
     "output_type": "display_data"
    },
    {
     "name": "stdout",
     "output_type": "stream",
     "text": [
      "{'estimator__inner': {'l1_ratio': 0.0008083323168994738, 'alphas': [0.10509937403221091]}}\n"
     ]
    },
    {
     "data": {
      "text/plain": "<IPython.core.display.HTML object>",
      "text/html": "<h1>gb</h1>"
     },
     "metadata": {},
     "output_type": "display_data"
    },
    {
     "data": {
      "text/plain": "<IPython.core.display.HTML object>",
      "text/html": "<h3>JSON</h3>"
     },
     "metadata": {},
     "output_type": "display_data"
    },
    {
     "name": "stdout",
     "output_type": "stream",
     "text": [
      "{'PROSPER': {'estimator__inner': {'learning_rate': 0.6579750566032523, 'max_depth': 7, 'n_estimators': 122, 'min_samples_split': 19, 'min_samples_leaf': 11, 'max_features': 'sqrt', 'subsample': 0.17632461379563968}}, 'PREDICTOR': {'estimator__inner': {'learning_rate': 0.4034963072779003, 'max_depth': 8, 'n_estimators': 102, 'min_samples_split': 22, 'min_samples_leaf': 17, 'max_features': 'log2', 'subsample': 0.28610463885503845}}, 'HVC': {'estimator__inner': {'learning_rate': 0.32326031910322683, 'max_depth': 6, 'n_estimators': 6, 'min_samples_split': 16, 'min_samples_leaf': 50, 'max_features': 'log2', 'subsample': 0.34203127594635974}}, 'FLEMENGHO': {'estimator__inner': {'learning_rate': 0.856688928714515, 'max_depth': 5, 'n_estimators': 167, 'min_samples_split': 14, 'min_samples_leaf': 125, 'max_features': 'sqrt', 'subsample': 0.6387846829472072}}, 'ASCOT': {'estimator__inner': {'learning_rate': 0.40999826095129444, 'max_depth': 5, 'n_estimators': 187, 'min_samples_split': 21, 'min_samples_leaf': 1, 'max_features': 'auto', 'subsample': 0.9148558859659002}}}\n"
     ]
    },
    {
     "data": {
      "text/plain": "<IPython.core.display.HTML object>",
      "text/html": "<h3>Per cohort</h3>"
     },
     "metadata": {},
     "output_type": "display_data"
    },
    {
     "data": {
      "text/plain": "<IPython.core.display.HTML object>",
      "text/html": "<h4>PROSPER</h4>"
     },
     "metadata": {},
     "output_type": "display_data"
    },
    {
     "name": "stdout",
     "output_type": "stream",
     "text": [
      "{'estimator__inner': {'learning_rate': 0.6579750566032523, 'max_depth': 7, 'n_estimators': 122, 'min_samples_split': 19, 'min_samples_leaf': 11, 'max_features': 'sqrt', 'subsample': 0.17632461379563968}}\n"
     ]
    },
    {
     "data": {
      "text/plain": "<IPython.core.display.HTML object>",
      "text/html": "<h4>PREDICTOR</h4>"
     },
     "metadata": {},
     "output_type": "display_data"
    },
    {
     "name": "stdout",
     "output_type": "stream",
     "text": [
      "{'estimator__inner': {'learning_rate': 0.4034963072779003, 'max_depth': 8, 'n_estimators': 102, 'min_samples_split': 22, 'min_samples_leaf': 17, 'max_features': 'log2', 'subsample': 0.28610463885503845}}\n"
     ]
    },
    {
     "data": {
      "text/plain": "<IPython.core.display.HTML object>",
      "text/html": "<h4>HVC</h4>"
     },
     "metadata": {},
     "output_type": "display_data"
    },
    {
     "name": "stdout",
     "output_type": "stream",
     "text": [
      "{'estimator__inner': {'learning_rate': 0.32326031910322683, 'max_depth': 6, 'n_estimators': 6, 'min_samples_split': 16, 'min_samples_leaf': 50, 'max_features': 'log2', 'subsample': 0.34203127594635974}}\n"
     ]
    },
    {
     "data": {
      "text/plain": "<IPython.core.display.HTML object>",
      "text/html": "<h4>FLEMENGHO</h4>"
     },
     "metadata": {},
     "output_type": "display_data"
    },
    {
     "name": "stdout",
     "output_type": "stream",
     "text": [
      "{'estimator__inner': {'learning_rate': 0.856688928714515, 'max_depth': 5, 'n_estimators': 167, 'min_samples_split': 14, 'min_samples_leaf': 125, 'max_features': 'sqrt', 'subsample': 0.6387846829472072}}\n"
     ]
    },
    {
     "data": {
      "text/plain": "<IPython.core.display.HTML object>",
      "text/html": "<h4>ASCOT</h4>"
     },
     "metadata": {},
     "output_type": "display_data"
    },
    {
     "name": "stdout",
     "output_type": "stream",
     "text": [
      "{'estimator__inner': {'learning_rate': 0.40999826095129444, 'max_depth': 5, 'n_estimators': 187, 'min_samples_split': 21, 'min_samples_leaf': 1, 'max_features': 'auto', 'subsample': 0.9148558859659002}}\n"
     ]
    }
   ],
   "source": [
    "for method_name in 'coxnet', 'gb',:\n",
    "    hyperparameters_per_cohort = get_lco_hyperparameters(method_name, 'optimized_lco')\n",
    "    h1(method_name)\n",
    "    h3('JSON')\n",
    "    print(hyperparameters_per_cohort)\n",
    "\n",
    "    h3('Per cohort')\n",
    "    for cohort_name, hyperparameters in hyperparameters_per_cohort.items():\n",
    "        h4(cohort_name)\n",
    "        print(hyperparameters)"
   ],
   "metadata": {
    "collapsed": false,
    "pycharm": {
     "name": "#%%\n"
    }
   }
  },
  {
   "cell_type": "markdown",
   "source": [
    "# Reproduce"
   ],
   "metadata": {
    "collapsed": false
   }
  },
  {
   "cell_type": "code",
   "execution_count": null,
   "outputs": [],
   "source": [
    "for method_name in ('dcm',):\n",
    "    hyperparameters_per_cohort = get_lco_hyperparameters(method_name, 'optimized_reproduce')\n",
    "    h1(method_name)\n",
    "    h3('JSON')\n",
    "    print(hyperparameters_per_cohort)\n",
    "\n",
    "    h3('Per cohort')\n",
    "    for cohort_name, hyperparameters in hyperparameters_per_cohort.items():\n",
    "        h4(cohort_name)\n",
    "        print(hyperparameters)"
   ],
   "metadata": {
    "collapsed": false,
    "pycharm": {
     "name": "#%%\n"
    }
   }
  },
  {
   "cell_type": "markdown",
   "source": [
    "# 10-fold per cohort"
   ],
   "metadata": {
    "collapsed": false,
    "pycharm": {
     "name": "#%% md\n"
    }
   }
  },
  {
   "cell_type": "code",
   "execution_count": 5,
   "outputs": [
    {
     "data": {
      "text/plain": "<IPython.core.display.HTML object>",
      "text/html": "<h1>gb</h1>"
     },
     "metadata": {},
     "output_type": "display_data"
    },
    {
     "data": {
      "text/plain": "<IPython.core.display.HTML object>",
      "text/html": "<h3>JSON</h3>"
     },
     "metadata": {},
     "output_type": "display_data"
    },
    {
     "name": "stdout",
     "output_type": "stream",
     "text": [
      "{'PROSPER': {'estimator__inner': {'learning_rate': 0.4411298003819883, 'max_depth': 2, 'n_estimators': 112, 'min_samples_split': 20, 'min_samples_leaf': 49, 'max_features': 'sqrt', 'subsample': 0.5714910144705735}}, 'PREDICTOR': {'estimator__inner': {'learning_rate': 0.690747038405064, 'max_depth': 6, 'n_estimators': 119, 'min_samples_split': 23, 'min_samples_leaf': 94, 'max_features': 'auto', 'subsample': 0.4973416267980338}}, 'HVC': {'estimator__inner': {'learning_rate': 0.5929741272796457, 'max_depth': 1, 'n_estimators': 55, 'min_samples_split': 9, 'min_samples_leaf': 23, 'max_features': 'log2', 'subsample': 0.9079325525201548}}, 'HEALTHABC': {'estimator__inner': {'learning_rate': 0.10830341135304375, 'max_depth': 10, 'n_estimators': 125, 'min_samples_split': 21, 'min_samples_leaf': 32, 'max_features': 'log2', 'subsample': 0.2632207908276624}}, 'ASCOT': {'estimator__inner': {'learning_rate': 0.22770039915233234, 'max_depth': 6, 'n_estimators': 143, 'min_samples_split': 21, 'min_samples_leaf': 86, 'max_features': 'log2', 'subsample': 0.790282007307827}}, 'FLEMENGHO': {'estimator__inner': {'learning_rate': 0.5446561100266527, 'max_depth': 1, 'n_estimators': 102, 'min_samples_split': 7, 'min_samples_leaf': 162, 'max_features': 'log2', 'subsample': 0.9129044966995755}}}\n"
     ]
    },
    {
     "data": {
      "text/plain": "<IPython.core.display.HTML object>",
      "text/html": "<h3>Per cohort</h3>"
     },
     "metadata": {},
     "output_type": "display_data"
    },
    {
     "data": {
      "text/plain": "<IPython.core.display.HTML object>",
      "text/html": "<h4>PROSPER</h4>"
     },
     "metadata": {},
     "output_type": "display_data"
    },
    {
     "name": "stdout",
     "output_type": "stream",
     "text": [
      "{'estimator__inner': {'learning_rate': 0.4411298003819883, 'max_depth': 2, 'n_estimators': 112, 'min_samples_split': 20, 'min_samples_leaf': 49, 'max_features': 'sqrt', 'subsample': 0.5714910144705735}}\n"
     ]
    },
    {
     "data": {
      "text/plain": "<IPython.core.display.HTML object>",
      "text/html": "<h4>PREDICTOR</h4>"
     },
     "metadata": {},
     "output_type": "display_data"
    },
    {
     "name": "stdout",
     "output_type": "stream",
     "text": [
      "{'estimator__inner': {'learning_rate': 0.690747038405064, 'max_depth': 6, 'n_estimators': 119, 'min_samples_split': 23, 'min_samples_leaf': 94, 'max_features': 'auto', 'subsample': 0.4973416267980338}}\n"
     ]
    },
    {
     "data": {
      "text/plain": "<IPython.core.display.HTML object>",
      "text/html": "<h4>HVC</h4>"
     },
     "metadata": {},
     "output_type": "display_data"
    },
    {
     "name": "stdout",
     "output_type": "stream",
     "text": [
      "{'estimator__inner': {'learning_rate': 0.5929741272796457, 'max_depth': 1, 'n_estimators': 55, 'min_samples_split': 9, 'min_samples_leaf': 23, 'max_features': 'log2', 'subsample': 0.9079325525201548}}\n"
     ]
    },
    {
     "data": {
      "text/plain": "<IPython.core.display.HTML object>",
      "text/html": "<h4>HEALTHABC</h4>"
     },
     "metadata": {},
     "output_type": "display_data"
    },
    {
     "name": "stdout",
     "output_type": "stream",
     "text": [
      "{'estimator__inner': {'learning_rate': 0.10830341135304375, 'max_depth': 10, 'n_estimators': 125, 'min_samples_split': 21, 'min_samples_leaf': 32, 'max_features': 'log2', 'subsample': 0.2632207908276624}}\n"
     ]
    },
    {
     "data": {
      "text/plain": "<IPython.core.display.HTML object>",
      "text/html": "<h4>ASCOT</h4>"
     },
     "metadata": {},
     "output_type": "display_data"
    },
    {
     "name": "stdout",
     "output_type": "stream",
     "text": [
      "{'estimator__inner': {'learning_rate': 0.22770039915233234, 'max_depth': 6, 'n_estimators': 143, 'min_samples_split': 21, 'min_samples_leaf': 86, 'max_features': 'log2', 'subsample': 0.790282007307827}}\n"
     ]
    },
    {
     "data": {
      "text/plain": "<IPython.core.display.HTML object>",
      "text/html": "<h4>FLEMENGHO</h4>"
     },
     "metadata": {},
     "output_type": "display_data"
    },
    {
     "name": "stdout",
     "output_type": "stream",
     "text": [
      "{'estimator__inner': {'learning_rate': 0.5446561100266527, 'max_depth': 1, 'n_estimators': 102, 'min_samples_split': 7, 'min_samples_leaf': 162, 'max_features': 'log2', 'subsample': 0.9129044966995755}}\n"
     ]
    }
   ],
   "source": [
    "for method_name in ('gb',):\n",
    "    hyperparameters_per_cohort = get_lco_hyperparameters(method_name, 'optimized_10_fold_per_study')\n",
    "    h1(method_name)\n",
    "    h3('JSON')\n",
    "    print(hyperparameters_per_cohort)\n",
    "\n",
    "    h3('Per cohort')\n",
    "    for cohort_name, hyperparameters in hyperparameters_per_cohort.items():\n",
    "        h4(cohort_name)\n",
    "        print(hyperparameters)"
   ],
   "metadata": {
    "collapsed": false,
    "pycharm": {
     "name": "#%%\n"
    }
   }
  }
 ],
 "metadata": {
  "kernelspec": {
   "display_name": "Python 3",
   "language": "python",
   "name": "python3"
  },
  "language_info": {
   "codemirror_mode": {
    "name": "ipython",
    "version": 2
   },
   "file_extension": ".py",
   "mimetype": "text/x-python",
   "name": "python",
   "nbconvert_exporter": "python",
   "pygments_lexer": "ipython2",
   "version": "2.7.6"
  }
 },
 "nbformat": 4,
 "nbformat_minor": 0
}