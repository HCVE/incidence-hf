{
 "cells": [
  {
   "cell_type": "code",
   "execution_count": 5,
   "metadata": {
    "collapsed": true
   },
   "outputs": [],
   "source": [
    "from mlflow import set_tracking_uri\n",
    "import json\n",
    "from typing import Dict\n",
    "\n",
    "from hcve_lib.tracking import get_children_runs\n",
    "from hcve_lib.tracking import get_completed_runs\n",
    "from hcve_lib.tracking import is_root_run\n",
    "from hcve_lib.visualisation import h3, h1, h4\n",
    "\n",
    "set_tracking_uri('http://localhost:5000')\n",
    "\n",
    "def get_lco_hyperparameters(method_name: str, experiment_name: str) -> Dict[str, Dict]:\n",
    "    runs_lco = get_completed_runs(experiment_name)\n",
    "    root_lco_runs = runs_lco[is_root_run(runs_lco)]\n",
    "    coxnet_run = root_lco_runs.query(f'`tags.mlflow.runName` == \"{method_name}\"').iloc[0]\n",
    "    children_runs = get_children_runs(runs_lco, coxnet_run['run_id'])\n",
    "    return {\n",
    "        rows['tags.mlflow.runName']: json.loads(rows['params.hyperparameters'].replace(\"\\'\", \"\\\"\"))\n",
    "        for _, rows in children_runs.iterrows()\n",
    "    }\n"
   ]
  },
  {
   "cell_type": "markdown",
   "source": [
    "# LCO"
   ],
   "metadata": {
    "collapsed": false
   }
  },
  {
   "cell_type": "code",
   "execution_count": null,
   "outputs": [],
   "source": [
    "for method_name in 'coxnet', 'gb',:\n",
    "    hyperparameters_per_cohort = get_lco_hyperparameters(method_name, 'optimized_lco')\n",
    "    h1(method_name)\n",
    "    h3('JSON')\n",
    "    print(hyperparameters_per_cohort)\n",
    "\n",
    "    h3('Per cohort')\n",
    "    for cohort_name, hyperparameters in hyperparameters_per_cohort.items():\n",
    "        h4(cohort_name)\n",
    "        print(hyperparameters)"
   ],
   "metadata": {
    "collapsed": false,
    "pycharm": {
     "name": "#%%\n"
    }
   }
  },
  {
   "cell_type": "markdown",
   "source": [
    "# Reproduce"
   ],
   "metadata": {
    "collapsed": false,
    "pycharm": {
     "name": "#%% md\n"
    }
   }
  },
  {
   "cell_type": "code",
   "execution_count": 9,
   "outputs": [
    {
     "data": {
      "text/plain": "<IPython.core.display.HTML object>",
      "text/html": "<h1>dcm</h1>"
     },
     "metadata": {},
     "output_type": "display_data"
    },
    {
     "data": {
      "text/plain": "<IPython.core.display.HTML object>",
      "text/html": "<h3>JSON</h3>"
     },
     "metadata": {},
     "output_type": "display_data"
    },
    {
     "name": "stdout",
     "output_type": "stream",
     "text": [
      "{'train_test_filter': {'estimator': {'k': 4, 'layers': [42]}}}\n"
     ]
    },
    {
     "data": {
      "text/plain": "<IPython.core.display.HTML object>",
      "text/html": "<h3>Per cohort</h3>"
     },
     "metadata": {},
     "output_type": "display_data"
    },
    {
     "data": {
      "text/plain": "<IPython.core.display.HTML object>",
      "text/html": "<h4>train_test_filter</h4>"
     },
     "metadata": {},
     "output_type": "display_data"
    },
    {
     "name": "stdout",
     "output_type": "stream",
     "text": [
      "{'estimator': {'k': 4, 'layers': [42]}}\n"
     ]
    }
   ],
   "source": [
    "for method_name in ('dcm',):\n",
    "    hyperparameters_per_cohort = get_lco_hyperparameters(method_name, 'optimized_reproduce')\n",
    "    h1(method_name)\n",
    "    h3('JSON')\n",
    "    print(hyperparameters_per_cohort)\n",
    "\n",
    "    h3('Per cohort')\n",
    "    for cohort_name, hyperparameters in hyperparameters_per_cohort.items():\n",
    "        h4(cohort_name)\n",
    "        print(hyperparameters)"
   ],
   "metadata": {
    "collapsed": false,
    "pycharm": {
     "name": "#%%\n"
    }
   }
  }
 ],
 "metadata": {
  "kernelspec": {
   "display_name": "Python 3",
   "language": "python",
   "name": "python3"
  },
  "language_info": {
   "codemirror_mode": {
    "name": "ipython",
    "version": 2
   },
   "file_extension": ".py",
   "mimetype": "text/x-python",
   "name": "python",
   "nbconvert_exporter": "python",
   "pygments_lexer": "ipython2",
   "version": "2.7.6"
  }
 },
 "nbformat": 4,
 "nbformat_minor": 0
}