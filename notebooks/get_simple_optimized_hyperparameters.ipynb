{
 "cells": [
  {
   "cell_type": "code",
   "execution_count": 23,
   "metadata": {
    "collapsed": true
   },
   "outputs": [
    {
     "data": {
      "text/plain": "<IPython.core.display.HTML object>",
      "text/html": "<h1>coxnet</h1>"
     },
     "metadata": {},
     "output_type": "display_data"
    },
    {
     "data": {
      "text/plain": "<IPython.core.display.HTML object>",
      "text/html": "<h3>JSON</h3>"
     },
     "metadata": {},
     "output_type": "display_data"
    },
    {
     "name": "stdout",
     "output_type": "stream",
     "text": [
      "{'PROSPER': {'estimator__inner': {'l1_ratio': 0.20680270201087592, 'alphas': [0.8239104031859371]}}, 'PREDICTOR': {'estimator__inner': {'l1_ratio': 0.0009829553330933383, 'alphas': [0.5096563050964983]}}, 'HVC': {'estimator__inner': {'l1_ratio': 0.31184850394190633, 'alphas': [0.6154208894366343]}}, 'HEALTHABC': {'estimator__inner': {'l1_ratio': 0.0008459384094903211, 'alphas': [0.7241804583576157]}}, 'FLEMENGHO': {'estimator__inner': {'l1_ratio': 0.20562592215297149, 'alphas': [0.6965683563912647]}}, 'ASCOT': {'estimator__inner': {'l1_ratio': 0.00575174141945245, 'alphas': [0.5874297044862964]}}}\n"
     ]
    },
    {
     "data": {
      "text/plain": "<IPython.core.display.HTML object>",
      "text/html": "<h3>Per cohort</h3>"
     },
     "metadata": {},
     "output_type": "display_data"
    },
    {
     "data": {
      "text/plain": "<IPython.core.display.HTML object>",
      "text/html": "<h4>PROSPER</h4>"
     },
     "metadata": {},
     "output_type": "display_data"
    },
    {
     "name": "stdout",
     "output_type": "stream",
     "text": [
      "{'estimator__inner': {'l1_ratio': 0.20680270201087592, 'alphas': [0.8239104031859371]}}\n"
     ]
    },
    {
     "data": {
      "text/plain": "<IPython.core.display.HTML object>",
      "text/html": "<h4>PREDICTOR</h4>"
     },
     "metadata": {},
     "output_type": "display_data"
    },
    {
     "name": "stdout",
     "output_type": "stream",
     "text": [
      "{'estimator__inner': {'l1_ratio': 0.0009829553330933383, 'alphas': [0.5096563050964983]}}\n"
     ]
    },
    {
     "data": {
      "text/plain": "<IPython.core.display.HTML object>",
      "text/html": "<h4>HVC</h4>"
     },
     "metadata": {},
     "output_type": "display_data"
    },
    {
     "name": "stdout",
     "output_type": "stream",
     "text": [
      "{'estimator__inner': {'l1_ratio': 0.31184850394190633, 'alphas': [0.6154208894366343]}}\n"
     ]
    },
    {
     "data": {
      "text/plain": "<IPython.core.display.HTML object>",
      "text/html": "<h4>HEALTHABC</h4>"
     },
     "metadata": {},
     "output_type": "display_data"
    },
    {
     "name": "stdout",
     "output_type": "stream",
     "text": [
      "{'estimator__inner': {'l1_ratio': 0.0008459384094903211, 'alphas': [0.7241804583576157]}}\n"
     ]
    },
    {
     "data": {
      "text/plain": "<IPython.core.display.HTML object>",
      "text/html": "<h4>FLEMENGHO</h4>"
     },
     "metadata": {},
     "output_type": "display_data"
    },
    {
     "name": "stdout",
     "output_type": "stream",
     "text": [
      "{'estimator__inner': {'l1_ratio': 0.20562592215297149, 'alphas': [0.6965683563912647]}}\n"
     ]
    },
    {
     "data": {
      "text/plain": "<IPython.core.display.HTML object>",
      "text/html": "<h4>ASCOT</h4>"
     },
     "metadata": {},
     "output_type": "display_data"
    },
    {
     "name": "stdout",
     "output_type": "stream",
     "text": [
      "{'estimator__inner': {'l1_ratio': 0.00575174141945245, 'alphas': [0.5874297044862964]}}\n"
     ]
    },
    {
     "data": {
      "text/plain": "<IPython.core.display.HTML object>",
      "text/html": "<h1>gb</h1>"
     },
     "metadata": {},
     "output_type": "display_data"
    },
    {
     "data": {
      "text/plain": "<IPython.core.display.HTML object>",
      "text/html": "<h3>JSON</h3>"
     },
     "metadata": {},
     "output_type": "display_data"
    },
    {
     "name": "stdout",
     "output_type": "stream",
     "text": [
      "{'PROSPER': {'estimator__inner': {'learning_rate': 0.30944525538959256, 'max_depth': 8, 'n_estimators': 135, 'min_samples_split': 17, 'min_samples_leaf': 85, 'max_features': 'auto', 'subsample': 0.8562561477434878}}, 'PREDICTOR': {'estimator__inner': {'learning_rate': 0.6707117303939213, 'max_depth': 7, 'n_estimators': 155, 'min_samples_split': 14, 'min_samples_leaf': 131, 'max_features': 'log2', 'subsample': 0.3933553421418345}}, 'HVC': {'estimator__inner': {'learning_rate': 0.9892210928154446, 'max_depth': 7, 'n_estimators': 49, 'min_samples_split': 3, 'min_samples_leaf': 103, 'max_features': 'log2', 'subsample': 0.13427386116113538}}, 'HEALTHABC': {'estimator__inner': {'learning_rate': 0.869134661511128, 'max_depth': 3, 'n_estimators': 194, 'min_samples_split': 10, 'min_samples_leaf': 192, 'max_features': 'sqrt', 'subsample': 0.8228469462266893}}, 'FLEMENGHO': {'estimator__inner': {'learning_rate': 0.5466796529740378, 'max_depth': 7, 'n_estimators': 185, 'min_samples_split': 26, 'min_samples_leaf': 96, 'max_features': 'sqrt', 'subsample': 0.9991143175593463}}, 'ASCOT': {'estimator__inner': {'learning_rate': 0.42720126728965413, 'max_depth': 10, 'n_estimators': 129, 'min_samples_split': 4, 'min_samples_leaf': 186, 'max_features': 'log2', 'subsample': 0.3464104097831221}}}\n"
     ]
    },
    {
     "data": {
      "text/plain": "<IPython.core.display.HTML object>",
      "text/html": "<h3>Per cohort</h3>"
     },
     "metadata": {},
     "output_type": "display_data"
    },
    {
     "data": {
      "text/plain": "<IPython.core.display.HTML object>",
      "text/html": "<h4>PROSPER</h4>"
     },
     "metadata": {},
     "output_type": "display_data"
    },
    {
     "name": "stdout",
     "output_type": "stream",
     "text": [
      "{'estimator__inner': {'learning_rate': 0.30944525538959256, 'max_depth': 8, 'n_estimators': 135, 'min_samples_split': 17, 'min_samples_leaf': 85, 'max_features': 'auto', 'subsample': 0.8562561477434878}}\n"
     ]
    },
    {
     "data": {
      "text/plain": "<IPython.core.display.HTML object>",
      "text/html": "<h4>PREDICTOR</h4>"
     },
     "metadata": {},
     "output_type": "display_data"
    },
    {
     "name": "stdout",
     "output_type": "stream",
     "text": [
      "{'estimator__inner': {'learning_rate': 0.6707117303939213, 'max_depth': 7, 'n_estimators': 155, 'min_samples_split': 14, 'min_samples_leaf': 131, 'max_features': 'log2', 'subsample': 0.3933553421418345}}\n"
     ]
    },
    {
     "data": {
      "text/plain": "<IPython.core.display.HTML object>",
      "text/html": "<h4>HVC</h4>"
     },
     "metadata": {},
     "output_type": "display_data"
    },
    {
     "name": "stdout",
     "output_type": "stream",
     "text": [
      "{'estimator__inner': {'learning_rate': 0.9892210928154446, 'max_depth': 7, 'n_estimators': 49, 'min_samples_split': 3, 'min_samples_leaf': 103, 'max_features': 'log2', 'subsample': 0.13427386116113538}}\n"
     ]
    },
    {
     "data": {
      "text/plain": "<IPython.core.display.HTML object>",
      "text/html": "<h4>HEALTHABC</h4>"
     },
     "metadata": {},
     "output_type": "display_data"
    },
    {
     "name": "stdout",
     "output_type": "stream",
     "text": [
      "{'estimator__inner': {'learning_rate': 0.869134661511128, 'max_depth': 3, 'n_estimators': 194, 'min_samples_split': 10, 'min_samples_leaf': 192, 'max_features': 'sqrt', 'subsample': 0.8228469462266893}}\n"
     ]
    },
    {
     "data": {
      "text/plain": "<IPython.core.display.HTML object>",
      "text/html": "<h4>FLEMENGHO</h4>"
     },
     "metadata": {},
     "output_type": "display_data"
    },
    {
     "name": "stdout",
     "output_type": "stream",
     "text": [
      "{'estimator__inner': {'learning_rate': 0.5466796529740378, 'max_depth': 7, 'n_estimators': 185, 'min_samples_split': 26, 'min_samples_leaf': 96, 'max_features': 'sqrt', 'subsample': 0.9991143175593463}}\n"
     ]
    },
    {
     "data": {
      "text/plain": "<IPython.core.display.HTML object>",
      "text/html": "<h4>ASCOT</h4>"
     },
     "metadata": {},
     "output_type": "display_data"
    },
    {
     "name": "stdout",
     "output_type": "stream",
     "text": [
      "{'estimator__inner': {'learning_rate': 0.42720126728965413, 'max_depth': 10, 'n_estimators': 129, 'min_samples_split': 4, 'min_samples_leaf': 186, 'max_features': 'log2', 'subsample': 0.3464104097831221}}\n"
     ]
    }
   ],
   "source": [
    "import json\n",
    "from typing import Dict\n",
    "\n",
    "from hcve_lib.tracking import get_children_runs\n",
    "from hcve_lib.tracking import get_completed_runs\n",
    "from hcve_lib.tracking import is_root_run\n",
    "from hcve_lib.visualisation import h3, h1, h4\n",
    "\n",
    "\n",
    "def get_lco_hyperparameters(method_name: str) -> Dict[str, Dict]:\n",
    "    runs_lco = get_completed_runs('optimized_lco')\n",
    "    root_lco_runs = runs_lco[is_root_run(runs_lco)]\n",
    "    coxnet_run = root_lco_runs.query(f'`tags.mlflow.runName` == \"{method_name}\"').iloc[0]\n",
    "    children_runs = get_children_runs(runs_lco, coxnet_run['run_id'])\n",
    "    return {\n",
    "        rows['tags.mlflow.runName']: json.loads(rows['params.hyperparameters'].replace(\"\\'\", \"\\\"\"))\n",
    "        for _, rows in children_runs.iterrows()\n",
    "    }\n",
    "\n",
    "\n",
    "for method_name in 'coxnet', 'gb':\n",
    "    hyperparameters_per_cohort = get_lco_hyperparameters(method_name)\n",
    "    h1(method_name)\n",
    "    h3('JSON')\n",
    "    print(hyperparameters_per_cohort)\n",
    "\n",
    "    h3('Per cohort')\n",
    "    for cohort_name, hyperparameters in hyperparameters_per_cohort.items():\n",
    "        h4(cohort_name)\n",
    "        print(hyperparameters)"
   ]
  }
 ],
 "metadata": {
  "kernelspec": {
   "display_name": "Python 3",
   "language": "python",
   "name": "python3"
  },
  "language_info": {
   "codemirror_mode": {
    "name": "ipython",
    "version": 2
   },
   "file_extension": ".py",
   "mimetype": "text/x-python",
   "name": "python",
   "nbconvert_exporter": "python",
   "pygments_lexer": "ipython2",
   "version": "2.7.6"
  }
 },
 "nbformat": 4,
 "nbformat_minor": 0
}