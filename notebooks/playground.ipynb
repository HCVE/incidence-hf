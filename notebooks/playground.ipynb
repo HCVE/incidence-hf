{
 "cells": [
  {
   "cell_type": "code",
   "execution_count": 2,
   "metadata": {
    "collapsed": true
   },
   "outputs": [],
   "source": [
    "from hcve_lib.utils import notebook_init\n",
    "from mlflow import set_tracking_uri\n",
    "from hcve_lib.tracking import load_run_results\n",
    "\n",
    "notebook_init()\n",
    "set_tracking_uri('http://localhost:5000')\n",
    "%autoreload 2"
   ]
  },
  {
   "cell_type": "code",
   "execution_count": 3,
   "outputs": [
    {
     "data": {
      "text/plain": "<IPython.core.display.HTML object>",
      "text/html": "<table style=\"text-align: left\">    <tr>        <td>Name</td>        <th>coxnet</th>    </tr>    <tr>        <td>Start time</td>       <th>2022-04-05 15:42</th>    </tr>    <tr>        <td>Experiment</td>       <th>optimized_nested_lco</th>    </tr>    <tr>        <td>Run ID</td>        <th>58554099ae694f5b809566bca2fc8b68</th>    </tr></table>"
     },
     "metadata": {},
     "output_type": "display_data"
    }
   ],
   "source": [
    "from hcve_lib.tracking import display_run_info\n",
    "\n",
    "RUN_ID = '58554099ae694f5b809566bca2fc8b68'\n",
    "display_run_info(RUN_ID)\n",
    "result = load_run_results(RUN_ID)"
   ],
   "metadata": {
    "collapsed": false,
    "pycharm": {
     "name": "#%%\n"
    }
   }
  },
  {
   "cell_type": "code",
   "execution_count": 8,
   "outputs": [],
   "source": [],
   "metadata": {
    "collapsed": false,
    "pycharm": {
     "name": "#%%\n"
    }
   }
  }
 ],
 "metadata": {
  "kernelspec": {
   "display_name": "Python 3",
   "language": "python",
   "name": "python3"
  },
  "language_info": {
   "codemirror_mode": {
    "name": "ipython",
    "version": 2
   },
   "file_extension": ".py",
   "mimetype": "text/x-python",
   "name": "python",
   "nbconvert_exporter": "python",
   "pygments_lexer": "ipython2",
   "version": "2.7.6"
  }
 },
 "nbformat": 4,
 "nbformat_minor": 0
}