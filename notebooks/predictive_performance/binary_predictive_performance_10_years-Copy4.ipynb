{
 "cells": [
  {
   "cell_type": "code",
   "execution_count": 1,
   "metadata": {
    "pycharm": {
     "name": "#%%\n"
    }
   },
   "outputs": [
    {
     "name": "stderr",
     "output_type": "stream",
     "text": [
      "<frozen importlib._bootstrap>:228: RuntimeWarning: sklearn.tree._splitter.Splitter size changed, may indicate binary incompatibility. Expected 360 from C header, got 1160 from PyObject\n"
     ]
    },
    {
     "name": "stdout",
     "output_type": "stream",
     "text": [
      "The autoreload extension is already loaded. To reload it, use:\n",
      "  %reload_ext autoreload\n"
     ]
    }
   ],
   "source": [
    "%load_ext autoreload\n",
    "%autoreload 2\n",
    "\n",
    "\n",
    "\n",
    "from sklearn.metrics import average_precision_score\n",
    "from sklearn.metrics import roc_auc_score\n",
    "# noinspection PyUnresolvedReferences\n",
    "from hcve_lib.tracking import load_run_results\n",
    "from hcve_lib.utils import notebook_init, run_parallel\n",
    "from hcve_lib.metrics import precision_recall_curve_with_confusion\n",
    "from hcve_lib.evaluation_functions import map_inverse_weight\n",
    "\n",
    "notebook_init()\n",
    "\n",
    "\n",
    "from notebooks.deps.binary_predictive_performance import run_roc_analysis, get_pr_analysis\n",
    "from notebooks.deps.binary_predictive_performance import get_pr_analysis, get_pr_analysis_ci, plot_pr_ci\n",
    "\n",
    "from mlflow import set_tracking_uri\n",
    "from notebooks.deps.config import TIME_POINT_PREDICTION\n",
    "from deps.common import get_data_cached\n",
    "\n",
    "from sklearn.metrics import roc_curve\n",
    "from pandas import DataFrame\n",
    "from plotly.graph_objs import Figure\n",
    "\n",
    "from deps.constants import RANDOM_STATE\n",
    "from hcve_lib.evaluation_functions import average_group_scores, merge_standardize_prediction, merge_predictions, \\\n",
    "    compute_metrics_prediction\n",
    "from hcve_lib.metrics import BootstrappedMetric\n",
    "from hcve_lib.tracking import load_group_results\n",
    "from hcve_lib.visualisation import setup_plotly_style\n",
    "from hcve_lib.functional import t\n",
    "import numpy as np\n",
    "from hcve_lib.metrics import statistic_from_bootstrap\n",
    "from hcve_lib.functional import reject_none\n",
    "from plotly import express as px\n",
    "from hcve_lib.utils import transpose_list\n",
    "from notebooks.deps.binary_predictive_performance import run_pr_analysis_ci\n",
    "\n",
    "from config import GROUPS_LCO, GROUPS_10_fold\n",
    "from hcve_lib.metrics import BinaryMetricFromScore\n",
    "from hcve_lib.data import binarize_event\n",
    "\n",
    "set_tracking_uri('http://localhost:5000')"
   ]
  },
  {
   "cell_type": "code",
   "execution_count": 2,
   "metadata": {},
   "outputs": [
    {
     "data": {
      "text/html": [
       "        <script type=\"text/javascript\">\n",
       "        window.PlotlyConfig = {MathJaxConfig: 'local'};\n",
       "        if (window.MathJax && window.MathJax.Hub && window.MathJax.Hub.Config) {window.MathJax.Hub.Config({SVG: {font: \"STIX-Web\"}});}\n",
       "        if (typeof require !== 'undefined') {\n",
       "        require.undef(\"plotly\");\n",
       "        requirejs.config({\n",
       "            paths: {\n",
       "                'plotly': ['https://cdn.plot.ly/plotly-2.12.1.min']\n",
       "            }\n",
       "        });\n",
       "        require(['plotly'], function(Plotly) {\n",
       "            window._Plotly = Plotly;\n",
       "        });\n",
       "        }\n",
       "        </script>\n",
       "        "
      ]
     },
     "metadata": {},
     "output_type": "display_data"
    }
   ],
   "source": [
    "from plotly.offline import init_notebook_mode, iplot\n",
    "init_notebook_mode(connected=True)  "
   ]
  },
  {
   "cell_type": "code",
   "execution_count": 3,
   "metadata": {
    "pycharm": {
     "name": "#%%\n"
    }
   },
   "outputs": [
    {
     "name": "stdout",
     "output_type": "stream",
     "text": [
      "[Memory]0.1s, 0.0min    : Loading get_data...\n",
      "____________________________________________get_data cache loaded - 0.1s, 0.0min\n"
     ]
    }
   ],
   "source": [
    "data, metadata, X, y = get_data_cached()\n"
   ]
  },
  {
   "cell_type": "code",
   "execution_count": 4,
   "metadata": {},
   "outputs": [],
   "source": [
    "from hcve_lib.functional import dict_subset\n",
    "\n",
    "GROUPS = dict_subset(['gb', 'coxnet', 'stacking', 'pcp_hf'], GROUPS_LCO)"
   ]
  },
  {
   "cell_type": "code",
   "execution_count": 5,
   "metadata": {
    "pycharm": {
     "name": "#%%\n"
    }
   },
   "outputs": [],
   "source": [
    "TIME_POINT_PREDICTION = 10*365\n",
    "ITERATIONS = 50"
   ]
  },
  {
   "cell_type": "markdown",
   "metadata": {
    "pycharm": {
     "name": "#%% md\n"
    }
   },
   "source": [
    "## Counting cases/controls with binarization at end-point"
   ]
  },
  {
   "cell_type": "markdown",
   "metadata": {
    "pycharm": {
     "name": "#%% md\n"
    }
   },
   "source": [
    "### Total"
   ]
  },
  {
   "cell_type": "code",
   "execution_count": 6,
   "metadata": {
    "pycharm": {
     "name": "#%%\n"
    },
    "scrolled": true
   },
   "outputs": [
    {
     "name": "stdout",
     "output_type": "stream",
     "text": [
      "Before\n",
      "{0.0: 29286, 1.0: 1068}\n",
      "↓\n",
      "Binarization 10.0 years (NA removed)\n",
      "{0.0: -27294, 1.0: -177}\n",
      "↓\n",
      "{0.0: 1992, 1.0: 891}\n"
     ]
    },
    {
     "name": "stderr",
     "output_type": "stream",
     "text": [
      "/home/sitnarf/projects/hcve_lib/hcve_lib/data.py:247: FutureWarning:\n",
      "\n",
      "The default dtype for empty Series will be 'object' instead of 'float64' in a future version. Specify a dtype explicitly to silence this warning.\n",
      "\n"
     ]
    }
   ],
   "source": [
    "binarized = binarize_event(TIME_POINT_PREDICTION, y['data'], drop_censored=False)\n",
    "\n",
    "print('Before')\n",
    "print(y['data']['label'].value_counts().to_dict())\n",
    "print('↓')\n",
    "print(f'Binarization {TIME_POINT_PREDICTION/365} years (NA removed)')\n",
    "print((binarized.value_counts() - y['data']['label'].value_counts()).to_dict())\n",
    "print('↓')\n",
    "print(binarized.value_counts(dropna=True).to_dict())\n"
   ]
  },
  {
   "cell_type": "code",
   "execution_count": 7,
   "metadata": {
    "pycharm": {
     "name": "#%%\n"
    }
   },
   "outputs": [],
   "source": [
    "from toolz import valmap \n",
    "\n",
    "merged_prediction = valmap(\n",
    "    lambda group_id: merge_predictions(average_group_scores(load_group_results(group_id))),\n",
    "    GROUPS,\n",
    ")\n"
   ]
  },
  {
   "cell_type": "code",
   "execution_count": 8,
   "metadata": {
    "pycharm": {
     "name": "#%%\n"
    },
    "scrolled": true
   },
   "outputs": [
    {
     "name": "stderr",
     "output_type": "stream",
     "text": [
      "/home/sitnarf/projects/hcve_lib/hcve_lib/data.py:247: FutureWarning:\n",
      "\n",
      "The default dtype for empty Series will be 'object' instead of 'float64' in a future version. Specify a dtype explicitly to silence this warning.\n",
      "\n"
     ]
    }
   ],
   "source": [
    "y_binarized = binarize_event(10*365, y['data'])"
   ]
  },
  {
   "cell_type": "code",
   "execution_count": 9,
   "metadata": {},
   "outputs": [
    {
     "name": "stdout",
     "output_type": "stream",
     "text": [
      "{'HEALTHABC': 2188, 'ASCOT': 243, 'FLEMENGHO': 219, 'PROSPER': 191, 'PREDICTOR': 31, 'HVC': 11}\n"
     ]
    }
   ],
   "source": [
    "print(data.loc[y_binarized.index]['STUDY'].value_counts().to_dict())"
   ]
  },
  {
   "cell_type": "code",
   "execution_count": 10,
   "metadata": {},
   "outputs": [
    {
     "data": {
      "text/plain": [
       "dict_keys(['gb', 'coxnet', 'stacking', 'pcp_hf'])"
      ]
     },
     "execution_count": 10,
     "metadata": {},
     "output_type": "execute_result"
    }
   ],
   "source": [
    "merged_prediction.keys()"
   ]
  },
  {
   "cell_type": "markdown",
   "metadata": {
    "pycharm": {
     "name": "#%% md\n"
    }
   },
   "source": [
    "### Per cohort"
   ]
  },
  {
   "cell_type": "code",
   "execution_count": 11,
   "metadata": {
    "pycharm": {
     "name": "#%%\n"
    }
   },
   "outputs": [],
   "source": [
    "from hcve_lib.visualisation import b\n",
    "from hcve_lib.data import binarize_event\n",
    "from hcve_lib.utils import is_noneish"
   ]
  },
  {
   "cell_type": "code",
   "execution_count": 12,
   "metadata": {
    "pycharm": {
     "name": "#%%\n"
    }
   },
   "outputs": [
    {
     "data": {
      "text/html": [
       "<b>ASCOT</b>"
      ],
      "text/plain": [
       "<IPython.core.display.HTML object>"
      ]
     },
     "metadata": {},
     "output_type": "display_data"
    },
    {
     "name": "stdout",
     "output_type": "stream",
     "text": [
      "Before\n",
      "{0.0: 19010, 1.0: 243}\n",
      "↓\n",
      "Binarization 10.0 years (NA removed)\n",
      "{0.0: -19010, 1.0: 0.0}\n",
      "↓\n",
      "{1.0: 243}\n"
     ]
    },
    {
     "name": "stderr",
     "output_type": "stream",
     "text": [
      "/home/sitnarf/projects/hcve_lib/hcve_lib/data.py:247: FutureWarning:\n",
      "\n",
      "The default dtype for empty Series will be 'object' instead of 'float64' in a future version. Specify a dtype explicitly to silence this warning.\n",
      "\n"
     ]
    },
    {
     "data": {
      "text/html": [
       "<b>FLEMENGHO</b>"
      ],
      "text/plain": [
       "<IPython.core.display.HTML object>"
      ]
     },
     "metadata": {},
     "output_type": "display_data"
    },
    {
     "name": "stdout",
     "output_type": "stream",
     "text": [
      "Before\n",
      "{0.0: 1083, 1.0: 18}\n",
      "↓\n",
      "Binarization 10.0 years (NA removed)\n",
      "{0.0: -882, 1.0: 0}\n",
      "↓\n",
      "{0.0: 201, 1.0: 18}\n"
     ]
    },
    {
     "name": "stderr",
     "output_type": "stream",
     "text": [
      "/home/sitnarf/projects/hcve_lib/hcve_lib/data.py:247: FutureWarning:\n",
      "\n",
      "The default dtype for empty Series will be 'object' instead of 'float64' in a future version. Specify a dtype explicitly to silence this warning.\n",
      "\n"
     ]
    },
    {
     "data": {
      "text/html": [
       "<b>HEALTHABC</b>"
      ],
      "text/plain": [
       "<IPython.core.display.HTML object>"
      ]
     },
     "metadata": {},
     "output_type": "display_data"
    },
    {
     "name": "stdout",
     "output_type": "stream",
     "text": [
      "Before\n",
      "{0.0: 2361, 1.0: 574}\n",
      "↓\n",
      "Binarization 10.0 years (NA removed)\n",
      "{0.0: -570, 1.0: -177}\n",
      "↓\n",
      "{0.0: 1791, 1.0: 397}\n"
     ]
    },
    {
     "name": "stderr",
     "output_type": "stream",
     "text": [
      "/home/sitnarf/projects/hcve_lib/hcve_lib/data.py:247: FutureWarning:\n",
      "\n",
      "The default dtype for empty Series will be 'object' instead of 'float64' in a future version. Specify a dtype explicitly to silence this warning.\n",
      "\n"
     ]
    },
    {
     "data": {
      "text/html": [
       "<b>HVC</b>"
      ],
      "text/plain": [
       "<IPython.core.display.HTML object>"
      ]
     },
     "metadata": {},
     "output_type": "display_data"
    },
    {
     "name": "stdout",
     "output_type": "stream",
     "text": [
      "Before\n",
      "{0.0: 425, 1.0: 11}\n",
      "↓\n",
      "Binarization 10.0 years (NA removed)\n",
      "{0.0: -425, 1.0: 0.0}\n",
      "↓\n",
      "{1.0: 11}\n"
     ]
    },
    {
     "name": "stderr",
     "output_type": "stream",
     "text": [
      "/home/sitnarf/projects/hcve_lib/hcve_lib/data.py:247: FutureWarning:\n",
      "\n",
      "The default dtype for empty Series will be 'object' instead of 'float64' in a future version. Specify a dtype explicitly to silence this warning.\n",
      "\n"
     ]
    },
    {
     "data": {
      "text/html": [
       "<b>PREDICTOR</b>"
      ],
      "text/plain": [
       "<IPython.core.display.HTML object>"
      ]
     },
     "metadata": {},
     "output_type": "display_data"
    },
    {
     "name": "stdout",
     "output_type": "stream",
     "text": [
      "Before\n",
      "{0.0: 1432, 1.0: 31}\n",
      "↓\n",
      "Binarization 10.0 years (NA removed)\n",
      "{0.0: -1432, 1.0: 0.0}\n",
      "↓\n",
      "{1.0: 31}\n"
     ]
    },
    {
     "name": "stderr",
     "output_type": "stream",
     "text": [
      "/home/sitnarf/projects/hcve_lib/hcve_lib/data.py:247: FutureWarning:\n",
      "\n",
      "The default dtype for empty Series will be 'object' instead of 'float64' in a future version. Specify a dtype explicitly to silence this warning.\n",
      "\n"
     ]
    },
    {
     "data": {
      "text/html": [
       "<b>PROSPER</b>"
      ],
      "text/plain": [
       "<IPython.core.display.HTML object>"
      ]
     },
     "metadata": {},
     "output_type": "display_data"
    },
    {
     "name": "stdout",
     "output_type": "stream",
     "text": [
      "Before\n",
      "{0.0: 4975, 1.0: 191}\n",
      "↓\n",
      "Binarization 10.0 years (NA removed)\n",
      "{0.0: -4975, 1.0: 0.0}\n",
      "↓\n",
      "{1.0: 191}\n"
     ]
    },
    {
     "name": "stderr",
     "output_type": "stream",
     "text": [
      "/home/sitnarf/projects/hcve_lib/hcve_lib/data.py:247: FutureWarning:\n",
      "\n",
      "The default dtype for empty Series will be 'object' instead of 'float64' in a future version. Specify a dtype explicitly to silence this warning.\n",
      "\n"
     ]
    }
   ],
   "source": [
    "from deps.data import group_by_study\n",
    "\n",
    "for study, study_X in group_by_study(data, X):\n",
    "    b(study)\n",
    "    binarized = binarize_event(TIME_POINT_PREDICTION, y['data'].loc[study_X.index], drop_censored=False)\n",
    "    print('Before')\n",
    "    before = y['data'].loc[study_X.index]['label'].value_counts()\n",
    "    print(before.to_dict())\n",
    "    print('↓')\n",
    "    print(f'Binarization {TIME_POINT_PREDICTION/365} years (NA removed)')\n",
    "    after = (binarized.value_counts() - before).to_dict()\n",
    "    for value, count in after.items():\n",
    "        if is_noneish(count):\n",
    "            after[value] = - before[value]\n",
    "    print(after)\n",
    "    print('↓')\n",
    "    print(binarized.value_counts(dropna=True).to_dict())"
   ]
  },
  {
   "cell_type": "markdown",
   "metadata": {
    "pycharm": {
     "name": "#%% md\n"
    }
   },
   "source": [
    "## PR analysis"
   ]
  },
  {
   "cell_type": "markdown",
   "metadata": {},
   "source": [
    "### Defining metrics"
   ]
  },
  {
   "cell_type": "code",
   "execution_count": 13,
   "metadata": {},
   "outputs": [],
   "source": [
    "def limit_age_metric(metric):\n",
    "     return StratifiedMetric(\n",
    "        metric,\n",
    "        splits={'30_to_80': list(get_30_to_80(X).index)}\n",
    "    )"
   ]
  },
  {
   "cell_type": "code",
   "execution_count": 14,
   "metadata": {
    "pycharm": {
     "name": "#%%\n"
    }
   },
   "outputs": [],
   "source": [
    "from hcve_lib.metrics import StratifiedMetric\n",
    "from deps.data import get_30_to_80\n",
    "\n",
    "pr_metrics_unweighted = (\n",
    "    BinaryMetricFromScore(precision_recall_curve_with_confusion, time=TIME_POINT_PREDICTION, sample_weight=None),\n",
    ")\n",
    "\n",
    "pr_metrics_unweighted_summary = (\n",
    "    BinaryMetricFromScore(average_precision_score, time=TIME_POINT_PREDICTION, sample_weight=None),\n",
    ")\n",
    "\n"
   ]
  },
  {
   "cell_type": "code",
   "execution_count": 15,
   "metadata": {
    "pycharm": {
     "name": "#%%\n"
    },
    "scrolled": true
   },
   "outputs": [],
   "source": [
    "inverse_weight_cohorts = map_inverse_weight(data['STUDY'].loc[y_binarized.index])\n",
    "\n",
    "pr_metrics_weighted_cohorts = [\n",
    "    ((BinaryMetricFromScore(precision_recall_curve_with_confusion, time=TIME_POINT_PREDICTION, sample_weight=inverse_weight_cohorts))),\n",
    "    ((BinaryMetricFromScore(average_precision_score, time=TIME_POINT_PREDICTION, sample_weight=inverse_weight_cohorts))),\n",
    "]"
   ]
  },
  {
   "cell_type": "code",
   "execution_count": 16,
   "metadata": {
    "pycharm": {
     "name": "#%%\n"
    },
    "scrolled": false
   },
   "outputs": [],
   "source": [
    "inverse_incident_weight = map_inverse_weight(y_binarized, proportions={1:0.03, 0: 0.97})\n",
    "\n",
    "pr_metrics_incidence_weighted = [\n",
    "    (BinaryMetricFromScore(precision_recall_curve_with_confusion, time=TIME_POINT_PREDICTION, sample_weight=inverse_incident_weight)),\n",
    "    (BinaryMetricFromScore(average_precision_score, time=TIME_POINT_PREDICTION, sample_weight=inverse_incident_weight)),\n",
    "]"
   ]
  },
  {
   "cell_type": "code",
   "execution_count": 17,
   "metadata": {
    "pycharm": {
     "name": "#%%\n"
    }
   },
   "outputs": [],
   "source": [
    "\n",
    "combined_weight = (inverse_weight_cohorts*inverse_incident_weight).dropna()\n",
    "\n",
    "pr_metrics_incidence_cohort_weighted = [\n",
    "    BinaryMetricFromScore(precision_recall_curve_with_confusion, time=TIME_POINT_PREDICTION, sample_weight=combined_weight),\n",
    "    BinaryMetricFromScore(average_precision_score, time=TIME_POINT_PREDICTION, sample_weight=combined_weight),\n",
    "]"
   ]
  },
  {
   "cell_type": "markdown",
   "metadata": {},
   "source": [
    "### Unweighted"
   ]
  },
  {
   "cell_type": "code",
   "execution_count": 18,
   "metadata": {},
   "outputs": [
    {
     "name": "stdout",
     "output_type": "stream",
     "text": [
      "[Memory]15.0s, 0.2min   : Loading load_group_results...\n",
      "_________________________________load_group_results cache loaded - 43.1s, 0.7min\n",
      "[Memory]184.0s, 3.1min  : Loading load_group_results...\n",
      "_________________________________load_group_results cache loaded - 11.8s, 0.2min\n",
      "[Memory]320.5s, 5.3min  : Loading load_group_results...\n",
      "_________________________________load_group_results cache loaded - 43.5s, 0.7min\n",
      "[Memory]469.8s, 7.8min  : Loading load_group_results...\n",
      "__________________________________load_group_results cache loaded - 0.1s, 0.0min\n"
     ]
    },
    {
     "name": "stderr",
     "output_type": "stream",
     "text": [
      "/home/sitnarf/projects/hcve_lib/hcve_lib/metrics.py:187: RuntimeWarning:\n",
      "\n",
      "divide by zero encountered in double_scalars\n",
      "\n",
      "/home/sitnarf/projects/hcve_lib/hcve_lib/metrics.py:187: RuntimeWarning:\n",
      "\n",
      "invalid value encountered in double_scalars\n",
      "\n"
     ]
    }
   ],
   "source": [
    "pr = get_pr_analysis(GROUPS, y, metrics=pr_metrics_unweighted, standardize=False, iterations=ITERATIONS)\n",
    "pr_ci = get_pr_analysis_ci(pr)"
   ]
  },
  {
   "cell_type": "code",
   "execution_count": 19,
   "metadata": {},
   "outputs": [
    {
     "name": "stdout",
     "output_type": "stream",
     "text": [
      "[Memory]598.2s, 10.0min : Loading load_group_results...\n",
      "_________________________________load_group_results cache loaded - 44.1s, 0.7min\n",
      "[Memory]645.7s, 10.8min : Loading load_group_results...\n",
      "_________________________________load_group_results cache loaded - 11.0s, 0.2min\n",
      "[Memory]659.2s, 11.0min : Loading load_group_results...\n",
      "_________________________________load_group_results cache loaded - 41.7s, 0.7min\n",
      "[Memory]704.2s, 11.7min : Loading load_group_results...\n",
      "__________________________________load_group_results cache loaded - 0.1s, 0.0min\n"
     ]
    }
   ],
   "source": [
    "pr_summary = get_pr_analysis(\n",
    "    GROUPS,\n",
    "    y=y,\n",
    "    metrics=[\n",
    "        BinaryMetricFromScore(\n",
    "            average_precision_score,\n",
    "            time=TIME_POINT_PREDICTION,\n",
    "            sample_weight=None,\n",
    "        ),\n",
    "    ],\n",
    "    standardize=False,\n",
    "    iterations=ITERATIONS,\n",
    "    return_summary=True,\n",
    ")"
   ]
  },
  {
   "cell_type": "code",
   "execution_count": 20,
   "metadata": {},
   "outputs": [
    {
     "data": {
      "text/plain": [
       "{'gb': {'average_precision_score_3650': {'mean': 0.5406713181478187,\n",
       "   'ci': (0.49833664140562356, 0.5662152998024105),\n",
       "   'std': 0.016898275499230633}},\n",
       " 'coxnet': {'average_precision_score_3650': {'mean': 0.4734614751455004,\n",
       "   'ci': (0.442060523535076, 0.5026584527270348),\n",
       "   'std': 0.016032192860791102}},\n",
       " 'stacking': {'average_precision_score_3650': {'mean': 0.8038106760899347,\n",
       "   'ci': (0.7819910680990111, 0.8227867466014609),\n",
       "   'std': 0.011816929178498267}},\n",
       " 'pcp_hf': {'average_precision_score_3650': {'mean': 0.5512233898261581,\n",
       "   'ci': (0.527918415316995, 0.5893187168386478),\n",
       "   'std': 0.015419315186055072}}}"
      ]
     },
     "execution_count": 20,
     "metadata": {},
     "output_type": "execute_result"
    }
   ],
   "source": [
    "pr_summary"
   ]
  },
  {
   "cell_type": "code",
   "execution_count": 21,
   "metadata": {},
   "outputs": [
    {
     "name": "stdout",
     "output_type": "stream",
     "text": [
      "1887 1823\n",
      "1880 1828\n",
      "1592 1525\n",
      "1887 1823\n"
     ]
    }
   ],
   "source": [
    "fig = plot_pr_ci(pr_ci, pr_summary)\n",
    "fig.write_image('./output/pr_final.svg')"
   ]
  },
  {
   "cell_type": "code",
   "execution_count": 22,
   "metadata": {
    "scrolled": true
   },
   "outputs": [],
   "source": [
    "# TODO: enable or disable\n",
    "# from hcve_lib.wrapped_sklearn import DFStandardScaler\n",
    "# import dtale\n",
    "\n",
    "# predictions = DFStandardScaler().fit_transform(DataFrame({\n",
    "#     'gb': merged_prediction['gb']['y_score'],\n",
    "#     'coxnet': merged_prediction['coxnet']['y_score'],\n",
    "#     'pcp_hf': merged_prediction['pcp_hf']['y_score'],\n",
    "#     'stacking': merged_prediction['stacking']['y_score'],\n",
    "# }\n",
    "# ))\n",
    "# predictions['y'] = y_binarized\n",
    "# predictions.dropna(inplace=True)\n",
    "# predictions['STUDY'] = data['STUDY'].loc[predictions.index]\n",
    "\n",
    "# dtale.show(predictions.sample(len(predictions), weights=inverse_incident_weight, replace=True), host='localhost')"
   ]
  },
  {
   "cell_type": "markdown",
   "metadata": {},
   "source": [
    "### Incidence normalized"
   ]
  },
  {
   "cell_type": "code",
   "execution_count": 23,
   "metadata": {
    "scrolled": false
   },
   "outputs": [
    {
     "name": "stdout",
     "output_type": "stream",
     "text": [
      "[Memory]708.4s, 11.8min : Loading load_group_results...\n",
      "_________________________________load_group_results cache loaded - 44.2s, 0.7min\n",
      "[Memory]883.2s, 14.7min : Loading load_group_results...\n",
      "_________________________________load_group_results cache loaded - 11.8s, 0.2min\n",
      "[Memory]1023.2s, 17.1min: Loading load_group_results...\n",
      "_________________________________load_group_results cache loaded - 44.3s, 0.7min\n",
      "[Memory]1179.1s, 19.7min: Loading load_group_results...\n",
      "__________________________________load_group_results cache loaded - 0.1s, 0.0min\n"
     ]
    },
    {
     "name": "stderr",
     "output_type": "stream",
     "text": [
      "/home/sitnarf/projects/hcve_lib/hcve_lib/metrics.py:187: RuntimeWarning:\n",
      "\n",
      "divide by zero encountered in double_scalars\n",
      "\n",
      "/home/sitnarf/projects/hcve_lib/hcve_lib/metrics.py:187: RuntimeWarning:\n",
      "\n",
      "invalid value encountered in double_scalars\n",
      "\n"
     ]
    },
    {
     "ename": "TypeError",
     "evalue": "'NoneType' object is not subscriptable",
     "output_type": "error",
     "traceback": [
      "\u001b[0;31m---------------------------------------------------------------------------\u001b[0m",
      "\u001b[0;31mTypeError\u001b[0m                                 Traceback (most recent call last)",
      "Input \u001b[0;32mIn [23]\u001b[0m, in \u001b[0;36m<cell line: 1>\u001b[0;34m()\u001b[0m\n\u001b[0;32m----> 1\u001b[0m \u001b[43mrun_pr_analysis_ci\u001b[49m\u001b[43m(\u001b[49m\u001b[43mGROUPS\u001b[49m\u001b[43m,\u001b[49m\u001b[43m \u001b[49m\u001b[43my\u001b[49m\u001b[43m,\u001b[49m\u001b[43m \u001b[49m\u001b[43mmetrics\u001b[49m\u001b[38;5;241;43m=\u001b[39;49m\u001b[43mpr_metrics_incidence_weighted\u001b[49m\u001b[43m,\u001b[49m\u001b[43m \u001b[49m\u001b[43mstandardize\u001b[49m\u001b[38;5;241;43m=\u001b[39;49m\u001b[38;5;28;43;01mFalse\u001b[39;49;00m\u001b[43m,\u001b[49m\u001b[43m \u001b[49m\u001b[43miterations\u001b[49m\u001b[38;5;241;43m=\u001b[39;49m\u001b[43mITERATIONS\u001b[49m\u001b[43m)\u001b[49m\u001b[38;5;241m.\u001b[39mshow()\n",
      "File \u001b[0;32m~/projects/homage-fl/notebooks/deps/binary_predictive_performance.py:109\u001b[0m, in \u001b[0;36mrun_pr_analysis_ci\u001b[0;34m(groups, y, metrics, standardize, iterations, summary)\u001b[0m\n\u001b[1;32m    107\u001b[0m pr \u001b[38;5;241m=\u001b[39m get_pr_analysis(groups, y\u001b[38;5;241m=\u001b[39my, metrics\u001b[38;5;241m=\u001b[39mmetrics, standardize\u001b[38;5;241m=\u001b[39mstandardize, iterations\u001b[38;5;241m=\u001b[39miterations)\n\u001b[1;32m    108\u001b[0m pr_ci \u001b[38;5;241m=\u001b[39m get_pr_analysis_ci(pr)\n\u001b[0;32m--> 109\u001b[0m \u001b[38;5;28;01mreturn\u001b[39;00m \u001b[43mplot_pr_ci\u001b[49m\u001b[43m(\u001b[49m\u001b[43mpr_ci\u001b[49m\u001b[43m,\u001b[49m\u001b[43m \u001b[49m\u001b[43msummary\u001b[49m\u001b[43m)\u001b[49m\n",
      "File \u001b[0;32m~/projects/homage-fl/notebooks/deps/binary_predictive_performance.py:147\u001b[0m, in \u001b[0;36mplot_pr_ci\u001b[0;34m(pr_ci_out, pr_summary)\u001b[0m\n\u001b[1;32m    140\u001b[0m \u001b[38;5;28;01mdef\u001b[39;00m \u001b[38;5;21mplot_pr_ci\u001b[39m(pr_ci_out, pr_summary):\n\u001b[1;32m    141\u001b[0m     methods_title \u001b[38;5;241m=\u001b[39m {\n\u001b[1;32m    142\u001b[0m         \u001b[38;5;124m'\u001b[39m\u001b[38;5;124mstacking\u001b[39m\u001b[38;5;124m'\u001b[39m: \u001b[38;5;124m'\u001b[39m\u001b[38;5;124mStacking\u001b[39m\u001b[38;5;124m'\u001b[39m,\n\u001b[1;32m    143\u001b[0m         \u001b[38;5;124m'\u001b[39m\u001b[38;5;124mgb\u001b[39m\u001b[38;5;124m'\u001b[39m: \u001b[38;5;124m\"\u001b[39m\u001b[38;5;124mSGB\u001b[39m\u001b[38;5;124m\"\u001b[39m,\n\u001b[1;32m    144\u001b[0m         \u001b[38;5;124m'\u001b[39m\u001b[38;5;124mcoxnet\u001b[39m\u001b[38;5;124m'\u001b[39m: \u001b[38;5;124m\"\u001b[39m\u001b[38;5;124mCoxNet\u001b[39m\u001b[38;5;124m\"\u001b[39m,\n\u001b[1;32m    145\u001b[0m         \u001b[38;5;124m'\u001b[39m\u001b[38;5;124mpcp_hf\u001b[39m\u001b[38;5;124m'\u001b[39m: \u001b[38;5;124m\"\u001b[39m\u001b[38;5;124mPCP-HF\u001b[39m\u001b[38;5;124m\"\u001b[39m,\n\u001b[1;32m    146\u001b[0m     }\n\u001b[0;32m--> 147\u001b[0m     methods_title \u001b[38;5;241m=\u001b[39m {\n\u001b[1;32m    148\u001b[0m         name: format_pr_ci_summary(methods_title, pr_summary, name)\n\u001b[1;32m    149\u001b[0m         \u001b[38;5;28;01mfor\u001b[39;00m name, label \u001b[38;5;129;01min\u001b[39;00m methods_title\u001b[38;5;241m.\u001b[39mitems()\n\u001b[1;32m    150\u001b[0m     }\n\u001b[1;32m    152\u001b[0m     method_names \u001b[38;5;241m=\u001b[39m []\n\u001b[1;32m    153\u001b[0m     precision_mean \u001b[38;5;241m=\u001b[39m []\n",
      "File \u001b[0;32m~/projects/homage-fl/notebooks/deps/binary_predictive_performance.py:148\u001b[0m, in \u001b[0;36m<dictcomp>\u001b[0;34m(.0)\u001b[0m\n\u001b[1;32m    140\u001b[0m \u001b[38;5;28;01mdef\u001b[39;00m \u001b[38;5;21mplot_pr_ci\u001b[39m(pr_ci_out, pr_summary):\n\u001b[1;32m    141\u001b[0m     methods_title \u001b[38;5;241m=\u001b[39m {\n\u001b[1;32m    142\u001b[0m         \u001b[38;5;124m'\u001b[39m\u001b[38;5;124mstacking\u001b[39m\u001b[38;5;124m'\u001b[39m: \u001b[38;5;124m'\u001b[39m\u001b[38;5;124mStacking\u001b[39m\u001b[38;5;124m'\u001b[39m,\n\u001b[1;32m    143\u001b[0m         \u001b[38;5;124m'\u001b[39m\u001b[38;5;124mgb\u001b[39m\u001b[38;5;124m'\u001b[39m: \u001b[38;5;124m\"\u001b[39m\u001b[38;5;124mSGB\u001b[39m\u001b[38;5;124m\"\u001b[39m,\n\u001b[1;32m    144\u001b[0m         \u001b[38;5;124m'\u001b[39m\u001b[38;5;124mcoxnet\u001b[39m\u001b[38;5;124m'\u001b[39m: \u001b[38;5;124m\"\u001b[39m\u001b[38;5;124mCoxNet\u001b[39m\u001b[38;5;124m\"\u001b[39m,\n\u001b[1;32m    145\u001b[0m         \u001b[38;5;124m'\u001b[39m\u001b[38;5;124mpcp_hf\u001b[39m\u001b[38;5;124m'\u001b[39m: \u001b[38;5;124m\"\u001b[39m\u001b[38;5;124mPCP-HF\u001b[39m\u001b[38;5;124m\"\u001b[39m,\n\u001b[1;32m    146\u001b[0m     }\n\u001b[1;32m    147\u001b[0m     methods_title \u001b[38;5;241m=\u001b[39m {\n\u001b[0;32m--> 148\u001b[0m         name: \u001b[43mformat_pr_ci_summary\u001b[49m\u001b[43m(\u001b[49m\u001b[43mmethods_title\u001b[49m\u001b[43m,\u001b[49m\u001b[43m \u001b[49m\u001b[43mpr_summary\u001b[49m\u001b[43m,\u001b[49m\u001b[43m \u001b[49m\u001b[43mname\u001b[49m\u001b[43m)\u001b[49m\n\u001b[1;32m    149\u001b[0m         \u001b[38;5;28;01mfor\u001b[39;00m name, label \u001b[38;5;129;01min\u001b[39;00m methods_title\u001b[38;5;241m.\u001b[39mitems()\n\u001b[1;32m    150\u001b[0m     }\n\u001b[1;32m    152\u001b[0m     method_names \u001b[38;5;241m=\u001b[39m []\n\u001b[1;32m    153\u001b[0m     precision_mean \u001b[38;5;241m=\u001b[39m []\n",
      "File \u001b[0;32m~/projects/homage-fl/notebooks/deps/binary_predictive_performance.py:230\u001b[0m, in \u001b[0;36mformat_pr_ci_summary\u001b[0;34m(labels, pr_summary, name)\u001b[0m\n\u001b[1;32m    229\u001b[0m \u001b[38;5;28;01mdef\u001b[39;00m \u001b[38;5;21mformat_pr_ci_summary\u001b[39m(labels, pr_summary, name):\n\u001b[0;32m--> 230\u001b[0m     value \u001b[38;5;241m=\u001b[39m \u001b[43mpr_summary\u001b[49m\u001b[43m[\u001b[49m\u001b[43mname\u001b[49m\u001b[43m]\u001b[49m[\u001b[38;5;124m'\u001b[39m\u001b[38;5;124maverage_precision_score_3650\u001b[39m\u001b[38;5;124m'\u001b[39m]\n\u001b[1;32m    231\u001b[0m     \u001b[38;5;28;01mreturn\u001b[39;00m labels[name] \u001b[38;5;241m+\u001b[39m \u001b[38;5;124mf\u001b[39m\u001b[38;5;124m'\u001b[39m\u001b[38;5;124m<br>PR/AUC: \u001b[39m\u001b[38;5;132;01m{\u001b[39;00mvalue[\u001b[38;5;124m\"\u001b[39m\u001b[38;5;124mmean\u001b[39m\u001b[38;5;124m\"\u001b[39m]\u001b[38;5;132;01m:\u001b[39;00m\u001b[38;5;124m.3f\u001b[39m\u001b[38;5;132;01m}\u001b[39;00m\u001b[38;5;124m (\u001b[39m\u001b[38;5;132;01m{\u001b[39;00mvalue[\u001b[38;5;124m\"\u001b[39m\u001b[38;5;124mci\u001b[39m\u001b[38;5;124m\"\u001b[39m][\u001b[38;5;241m0\u001b[39m]\u001b[38;5;132;01m:\u001b[39;00m\u001b[38;5;124m.3f\u001b[39m\u001b[38;5;132;01m}\u001b[39;00m\u001b[38;5;124m-\u001b[39m\u001b[38;5;132;01m{\u001b[39;00mvalue[\u001b[38;5;124m\"\u001b[39m\u001b[38;5;124mci\u001b[39m\u001b[38;5;124m\"\u001b[39m][\u001b[38;5;241m1\u001b[39m]\u001b[38;5;132;01m:\u001b[39;00m\u001b[38;5;124m.3f\u001b[39m\u001b[38;5;132;01m}\u001b[39;00m\u001b[38;5;124m)\u001b[39m\u001b[38;5;124m'\u001b[39m\n",
      "\u001b[0;31mTypeError\u001b[0m: 'NoneType' object is not subscriptable"
     ]
    }
   ],
   "source": [
    "run_pr_analysis_ci(GROUPS, y, metrics=pr_metrics_incidence_weighted, standardize=False, iterations=ITERATIONS).show()"
   ]
  },
  {
   "cell_type": "markdown",
   "metadata": {},
   "source": [
    "### Cohort normalized"
   ]
  },
  {
   "cell_type": "code",
   "execution_count": 24,
   "metadata": {
    "pycharm": {
     "name": "#%%\n"
    },
    "scrolled": false
   },
   "outputs": [
    {
     "name": "stdout",
     "output_type": "stream",
     "text": [
      "[Memory]2025.5s, 33.8min: Loading load_group_results...\n",
      "_________________________________load_group_results cache loaded - 44.1s, 0.7min\n",
      "[Memory]2198.9s, 36.6min: Loading load_group_results...\n",
      "_________________________________load_group_results cache loaded - 10.8s, 0.2min\n",
      "[Memory]2338.8s, 39.0min: Loading load_group_results...\n",
      "_________________________________load_group_results cache loaded - 44.9s, 0.7min\n",
      "[Memory]2494.5s, 41.6min: Loading load_group_results...\n",
      "__________________________________load_group_results cache loaded - 0.1s, 0.0min\n"
     ]
    },
    {
     "name": "stderr",
     "output_type": "stream",
     "text": [
      "/home/sitnarf/projects/hcve_lib/hcve_lib/metrics.py:187: RuntimeWarning:\n",
      "\n",
      "divide by zero encountered in double_scalars\n",
      "\n",
      "/home/sitnarf/projects/hcve_lib/hcve_lib/metrics.py:187: RuntimeWarning:\n",
      "\n",
      "invalid value encountered in double_scalars\n",
      "\n"
     ]
    },
    {
     "ename": "TypeError",
     "evalue": "'NoneType' object is not subscriptable",
     "output_type": "error",
     "traceback": [
      "\u001b[0;31m---------------------------------------------------------------------------\u001b[0m",
      "\u001b[0;31mTypeError\u001b[0m                                 Traceback (most recent call last)",
      "Input \u001b[0;32mIn [24]\u001b[0m, in \u001b[0;36m<cell line: 1>\u001b[0;34m()\u001b[0m\n\u001b[0;32m----> 1\u001b[0m \u001b[43mrun_pr_analysis_ci\u001b[49m\u001b[43m(\u001b[49m\u001b[43mGROUPS\u001b[49m\u001b[43m,\u001b[49m\u001b[43m \u001b[49m\u001b[43my\u001b[49m\u001b[43m,\u001b[49m\u001b[43m \u001b[49m\u001b[43mmetrics\u001b[49m\u001b[38;5;241;43m=\u001b[39;49m\u001b[43mpr_metrics_weighted_cohorts\u001b[49m\u001b[43m,\u001b[49m\u001b[43m \u001b[49m\u001b[43mstandardize\u001b[49m\u001b[38;5;241;43m=\u001b[39;49m\u001b[38;5;28;43;01mFalse\u001b[39;49;00m\u001b[43m,\u001b[49m\u001b[43m \u001b[49m\u001b[43miterations\u001b[49m\u001b[38;5;241;43m=\u001b[39;49m\u001b[43mITERATIONS\u001b[49m\u001b[43m)\u001b[49m\u001b[38;5;241m.\u001b[39mshow()\n",
      "File \u001b[0;32m~/projects/homage-fl/notebooks/deps/binary_predictive_performance.py:109\u001b[0m, in \u001b[0;36mrun_pr_analysis_ci\u001b[0;34m(groups, y, metrics, standardize, iterations, summary)\u001b[0m\n\u001b[1;32m    107\u001b[0m pr \u001b[38;5;241m=\u001b[39m get_pr_analysis(groups, y\u001b[38;5;241m=\u001b[39my, metrics\u001b[38;5;241m=\u001b[39mmetrics, standardize\u001b[38;5;241m=\u001b[39mstandardize, iterations\u001b[38;5;241m=\u001b[39miterations)\n\u001b[1;32m    108\u001b[0m pr_ci \u001b[38;5;241m=\u001b[39m get_pr_analysis_ci(pr)\n\u001b[0;32m--> 109\u001b[0m \u001b[38;5;28;01mreturn\u001b[39;00m \u001b[43mplot_pr_ci\u001b[49m\u001b[43m(\u001b[49m\u001b[43mpr_ci\u001b[49m\u001b[43m,\u001b[49m\u001b[43m \u001b[49m\u001b[43msummary\u001b[49m\u001b[43m)\u001b[49m\n",
      "File \u001b[0;32m~/projects/homage-fl/notebooks/deps/binary_predictive_performance.py:147\u001b[0m, in \u001b[0;36mplot_pr_ci\u001b[0;34m(pr_ci_out, pr_summary)\u001b[0m\n\u001b[1;32m    140\u001b[0m \u001b[38;5;28;01mdef\u001b[39;00m \u001b[38;5;21mplot_pr_ci\u001b[39m(pr_ci_out, pr_summary):\n\u001b[1;32m    141\u001b[0m     methods_title \u001b[38;5;241m=\u001b[39m {\n\u001b[1;32m    142\u001b[0m         \u001b[38;5;124m'\u001b[39m\u001b[38;5;124mstacking\u001b[39m\u001b[38;5;124m'\u001b[39m: \u001b[38;5;124m'\u001b[39m\u001b[38;5;124mStacking\u001b[39m\u001b[38;5;124m'\u001b[39m,\n\u001b[1;32m    143\u001b[0m         \u001b[38;5;124m'\u001b[39m\u001b[38;5;124mgb\u001b[39m\u001b[38;5;124m'\u001b[39m: \u001b[38;5;124m\"\u001b[39m\u001b[38;5;124mSGB\u001b[39m\u001b[38;5;124m\"\u001b[39m,\n\u001b[1;32m    144\u001b[0m         \u001b[38;5;124m'\u001b[39m\u001b[38;5;124mcoxnet\u001b[39m\u001b[38;5;124m'\u001b[39m: \u001b[38;5;124m\"\u001b[39m\u001b[38;5;124mCoxNet\u001b[39m\u001b[38;5;124m\"\u001b[39m,\n\u001b[1;32m    145\u001b[0m         \u001b[38;5;124m'\u001b[39m\u001b[38;5;124mpcp_hf\u001b[39m\u001b[38;5;124m'\u001b[39m: \u001b[38;5;124m\"\u001b[39m\u001b[38;5;124mPCP-HF\u001b[39m\u001b[38;5;124m\"\u001b[39m,\n\u001b[1;32m    146\u001b[0m     }\n\u001b[0;32m--> 147\u001b[0m     methods_title \u001b[38;5;241m=\u001b[39m {\n\u001b[1;32m    148\u001b[0m         name: format_pr_ci_summary(methods_title, pr_summary, name)\n\u001b[1;32m    149\u001b[0m         \u001b[38;5;28;01mfor\u001b[39;00m name, label \u001b[38;5;129;01min\u001b[39;00m methods_title\u001b[38;5;241m.\u001b[39mitems()\n\u001b[1;32m    150\u001b[0m     }\n\u001b[1;32m    152\u001b[0m     method_names \u001b[38;5;241m=\u001b[39m []\n\u001b[1;32m    153\u001b[0m     precision_mean \u001b[38;5;241m=\u001b[39m []\n",
      "File \u001b[0;32m~/projects/homage-fl/notebooks/deps/binary_predictive_performance.py:148\u001b[0m, in \u001b[0;36m<dictcomp>\u001b[0;34m(.0)\u001b[0m\n\u001b[1;32m    140\u001b[0m \u001b[38;5;28;01mdef\u001b[39;00m \u001b[38;5;21mplot_pr_ci\u001b[39m(pr_ci_out, pr_summary):\n\u001b[1;32m    141\u001b[0m     methods_title \u001b[38;5;241m=\u001b[39m {\n\u001b[1;32m    142\u001b[0m         \u001b[38;5;124m'\u001b[39m\u001b[38;5;124mstacking\u001b[39m\u001b[38;5;124m'\u001b[39m: \u001b[38;5;124m'\u001b[39m\u001b[38;5;124mStacking\u001b[39m\u001b[38;5;124m'\u001b[39m,\n\u001b[1;32m    143\u001b[0m         \u001b[38;5;124m'\u001b[39m\u001b[38;5;124mgb\u001b[39m\u001b[38;5;124m'\u001b[39m: \u001b[38;5;124m\"\u001b[39m\u001b[38;5;124mSGB\u001b[39m\u001b[38;5;124m\"\u001b[39m,\n\u001b[1;32m    144\u001b[0m         \u001b[38;5;124m'\u001b[39m\u001b[38;5;124mcoxnet\u001b[39m\u001b[38;5;124m'\u001b[39m: \u001b[38;5;124m\"\u001b[39m\u001b[38;5;124mCoxNet\u001b[39m\u001b[38;5;124m\"\u001b[39m,\n\u001b[1;32m    145\u001b[0m         \u001b[38;5;124m'\u001b[39m\u001b[38;5;124mpcp_hf\u001b[39m\u001b[38;5;124m'\u001b[39m: \u001b[38;5;124m\"\u001b[39m\u001b[38;5;124mPCP-HF\u001b[39m\u001b[38;5;124m\"\u001b[39m,\n\u001b[1;32m    146\u001b[0m     }\n\u001b[1;32m    147\u001b[0m     methods_title \u001b[38;5;241m=\u001b[39m {\n\u001b[0;32m--> 148\u001b[0m         name: \u001b[43mformat_pr_ci_summary\u001b[49m\u001b[43m(\u001b[49m\u001b[43mmethods_title\u001b[49m\u001b[43m,\u001b[49m\u001b[43m \u001b[49m\u001b[43mpr_summary\u001b[49m\u001b[43m,\u001b[49m\u001b[43m \u001b[49m\u001b[43mname\u001b[49m\u001b[43m)\u001b[49m\n\u001b[1;32m    149\u001b[0m         \u001b[38;5;28;01mfor\u001b[39;00m name, label \u001b[38;5;129;01min\u001b[39;00m methods_title\u001b[38;5;241m.\u001b[39mitems()\n\u001b[1;32m    150\u001b[0m     }\n\u001b[1;32m    152\u001b[0m     method_names \u001b[38;5;241m=\u001b[39m []\n\u001b[1;32m    153\u001b[0m     precision_mean \u001b[38;5;241m=\u001b[39m []\n",
      "File \u001b[0;32m~/projects/homage-fl/notebooks/deps/binary_predictive_performance.py:230\u001b[0m, in \u001b[0;36mformat_pr_ci_summary\u001b[0;34m(labels, pr_summary, name)\u001b[0m\n\u001b[1;32m    229\u001b[0m \u001b[38;5;28;01mdef\u001b[39;00m \u001b[38;5;21mformat_pr_ci_summary\u001b[39m(labels, pr_summary, name):\n\u001b[0;32m--> 230\u001b[0m     value \u001b[38;5;241m=\u001b[39m \u001b[43mpr_summary\u001b[49m\u001b[43m[\u001b[49m\u001b[43mname\u001b[49m\u001b[43m]\u001b[49m[\u001b[38;5;124m'\u001b[39m\u001b[38;5;124maverage_precision_score_3650\u001b[39m\u001b[38;5;124m'\u001b[39m]\n\u001b[1;32m    231\u001b[0m     \u001b[38;5;28;01mreturn\u001b[39;00m labels[name] \u001b[38;5;241m+\u001b[39m \u001b[38;5;124mf\u001b[39m\u001b[38;5;124m'\u001b[39m\u001b[38;5;124m<br>PR/AUC: \u001b[39m\u001b[38;5;132;01m{\u001b[39;00mvalue[\u001b[38;5;124m\"\u001b[39m\u001b[38;5;124mmean\u001b[39m\u001b[38;5;124m\"\u001b[39m]\u001b[38;5;132;01m:\u001b[39;00m\u001b[38;5;124m.3f\u001b[39m\u001b[38;5;132;01m}\u001b[39;00m\u001b[38;5;124m (\u001b[39m\u001b[38;5;132;01m{\u001b[39;00mvalue[\u001b[38;5;124m\"\u001b[39m\u001b[38;5;124mci\u001b[39m\u001b[38;5;124m\"\u001b[39m][\u001b[38;5;241m0\u001b[39m]\u001b[38;5;132;01m:\u001b[39;00m\u001b[38;5;124m.3f\u001b[39m\u001b[38;5;132;01m}\u001b[39;00m\u001b[38;5;124m-\u001b[39m\u001b[38;5;132;01m{\u001b[39;00mvalue[\u001b[38;5;124m\"\u001b[39m\u001b[38;5;124mci\u001b[39m\u001b[38;5;124m\"\u001b[39m][\u001b[38;5;241m1\u001b[39m]\u001b[38;5;132;01m:\u001b[39;00m\u001b[38;5;124m.3f\u001b[39m\u001b[38;5;132;01m}\u001b[39;00m\u001b[38;5;124m)\u001b[39m\u001b[38;5;124m'\u001b[39m\n",
      "\u001b[0;31mTypeError\u001b[0m: 'NoneType' object is not subscriptable"
     ]
    }
   ],
   "source": [
    "run_pr_analysis_ci(GROUPS, y, metrics=pr_metrics_weighted_cohorts, standardize=False, iterations=ITERATIONS).show()"
   ]
  },
  {
   "cell_type": "code",
   "execution_count": null,
   "metadata": {
    "pycharm": {
     "name": "#%%\n"
    },
    "scrolled": true
   },
   "outputs": [],
   "source": [
    "pr_summary = get_pr_analysis(\n",
    "    GROUPS,\n",
    "    y=y,\n",
    "    metrics=[\n",
    "        BinaryMetricFromScore(\n",
    "            average_precision_score,\n",
    "            time=TIME_POINT_PREDICTION,\n",
    "            sample_weight=inverse_weight_cohorts\n",
    "        ),\n",
    "    ],\n",
    "    standardize=False,\n",
    "    iterations=ITERATIONS,\n",
    "    return_summary=True,\n",
    ")"
   ]
  },
  {
   "cell_type": "raw",
   "metadata": {},
   "source": [
    "pr_summary"
   ]
  },
  {
   "cell_type": "code",
   "execution_count": null,
   "metadata": {},
   "outputs": [],
   "source": [
    "pr = get_pr_analysis(\n",
    "    GROUPS,\n",
    "    y=y,\n",
    "    metrics=[\n",
    "        BinaryMetricFromScore(\n",
    "            average_precision_score,\n",
    "            time=TIME_POINT_PREDICTION,\n",
    "            sample_weight=inverse_weight_cohorts\n",
    "        ),\n",
    "    ],\n",
    "    standardize=False,\n",
    "    iterations=5,\n",
    "    return_summary=False,\n",
    ")"
   ]
  },
  {
   "cell_type": "code",
   "execution_count": null,
   "metadata": {
    "pycharm": {
     "name": "#%%\n"
    },
    "scrolled": false
   },
   "outputs": [],
   "source": [
    "from itertools import combinations\n",
    "from scipy.stats import ttest_ind\n",
    "from pandas import Series\n",
    "from numpy.random import seed\n",
    "from numpy.random import randint\n",
    "from scipy.stats import ks_2samp\n",
    "\n",
    "scores_df = {method: merged_metrics_selected[method]['c_index'] for method in ['coxnet', 'gb', 'pcp_hf', 'stacking']}\n",
    "\n",
    "for (name1, s1), (name2, s2) in combinations(scores_df.items(), 2):\n",
    "    print(name1, name2)\n",
    "    print(', '.join([f'{v:.2f}' for v in Series(s1).sample(10)]))\n",
    "    print(', '.join([f'{v:.2f}' for v in Series(s2).sample(10)]))\n",
    "    \n",
    "    ks = ks_2samp(s1, s2)\n",
    "    print(f\"KS: {ks.statistic:.4f} (p-value: {ks.pvalue:.1e})\")\n",
    "    \n",
    "    value, pvalue = ttest_ind(s1, s2)\n",
    "    print(f\"t-test: p-value: {pvalue:.1e}\")\n",
    "    \n",
    "    print()\n",
    "    "
   ]
  },
  {
   "cell_type": "code",
   "execution_count": null,
   "metadata": {},
   "outputs": [],
   "source": []
  },
  {
   "cell_type": "markdown",
   "metadata": {
    "pycharm": {
     "name": "#%% md\n"
    }
   },
   "source": [
    "## ROC analysis"
   ]
  },
  {
   "cell_type": "code",
   "execution_count": null,
   "metadata": {
    "pycharm": {
     "is_executing": true,
     "name": "#%%\n"
    }
   },
   "outputs": [],
   "source": [
    "roc_metrics_unweighted = [\n",
    "    BinaryMetricFromScore(roc_curve, time=TIME_POINT_PREDICTION, sample_weight=None),\n",
    "    BinaryMetricFromScore(roc_auc_score, time=TIME_POINT_PREDICTION, sample_weight=None),\n",
    "]"
   ]
  },
  {
   "cell_type": "code",
   "execution_count": null,
   "metadata": {
    "pycharm": {
     "name": "#%%\n"
    }
   },
   "outputs": [],
   "source": [
    "run_roc_analysis(GROUPS, roc_metrics_unweighted, standardize=True)"
   ]
  },
  {
   "cell_type": "code",
   "execution_count": null,
   "metadata": {
    "pycharm": {
     "name": "#%%\n"
    }
   },
   "outputs": [],
   "source": [
    "run_roc_analysis(GROUPS, roc_metrics_unweighted, standardize=False)"
   ]
  },
  {
   "cell_type": "code",
   "execution_count": null,
   "metadata": {
    "pycharm": {
     "name": "#%%\n"
    }
   },
   "outputs": [],
   "source": [
    "inverse_weight = get_inverse_weight(data['STUDY'])\n",
    "\n",
    "roc_metrics_weighted = [\n",
    "    BinaryMetricFromScore(roc_curve, time=TIME_POINT_PREDICTION, sample_weight=inverse_weight),\n",
    "    BinaryMetricFromScore(roc_auc_score, time=TIME_POINT_PREDICTION, sample_weight=inverse_weight),\n",
    "]"
   ]
  },
  {
   "cell_type": "code",
   "execution_count": null,
   "metadata": {
    "pycharm": {
     "name": "#%%\n"
    }
   },
   "outputs": [],
   "source": [
    "run_roc_analysis(GROUPS, roc_metrics_weighted, standardize=True)"
   ]
  },
  {
   "cell_type": "code",
   "execution_count": null,
   "metadata": {
    "pycharm": {
     "name": "#%%\n"
    }
   },
   "outputs": [],
   "source": [
    "run_roc_analysis(GROUPS, roc_metrics_weighted, standardize=False)\n"
   ]
  }
 ],
 "metadata": {
  "hide_input": false,
  "kernelspec": {
   "display_name": "Python 3",
   "language": "python",
   "name": "python3"
  },
  "language_info": {
   "codemirror_mode": {
    "name": "ipython",
    "version": 3
   },
   "file_extension": ".py",
   "mimetype": "text/x-python",
   "name": "python",
   "nbconvert_exporter": "python",
   "pygments_lexer": "ipython3",
   "version": "3.9.13"
  },
  "toc": {
   "base_numbering": 1,
   "nav_menu": {},
   "number_sections": true,
   "sideBar": true,
   "skip_h1_title": false,
   "title_cell": "Table of Contents",
   "title_sidebar": "Contents",
   "toc_cell": false,
   "toc_position": {
    "height": "679.05px",
    "left": "89px",
    "top": "110.833px",
    "width": "345.6px"
   },
   "toc_section_display": true,
   "toc_window_display": true
  }
 },
 "nbformat": 4,
 "nbformat_minor": 1
}
