{
 "cells": [
  {
   "cell_type": "code",
   "execution_count": 26,
   "metadata": {
    "pycharm": {
     "name": "#%%\n"
    }
   },
   "outputs": [
    {
     "name": "stdout",
     "output_type": "stream",
     "text": [
      "The autoreload extension is already loaded. To reload it, use:\n",
      "  %reload_ext autoreload\n",
      "The autoreload extension is already loaded. To reload it, use:\n",
      "  %reload_ext autoreload\n"
     ]
    }
   ],
   "source": [
    "%load_ext autoreload\n",
    "%autoreload 2\n",
    "\n",
    "\n",
    "\n",
    "from sklearn.metrics import precision_recall_curve, average_precision_score\n",
    "from sklearn.metrics import roc_auc_score\n",
    "# noinspection PyUnresolvedReferences\n",
    "from hcve_lib.tracking import load_run_results\n",
    "from hcve_lib.utils import notebook_init, run_parallel\n",
    "from hcve_lib.evaluation_functions import map_inverse_weight\n",
    "\n",
    "\n",
    "notebook_init()\n",
    "\n",
    "\n",
    "from notebooks.deps.binary_predictive_performance import run_roc_analysis, get_pr_analysis\n",
    "from notebooks.deps.binary_predictive_performance import get_pr_analysis, get_pr_analysis_ci, plot_pr_ci\n",
    "\n",
    "from mlflow import set_tracking_uri\n",
    "from notebooks.deps.config import TIME_POINT_PREDICTION\n",
    "from deps.common import get_data_cached\n",
    "\n",
    "from sklearn.metrics import roc_curve\n",
    "from pandas import DataFrame\n",
    "from plotly.graph_objs import Figure\n",
    "\n",
    "from deps.constants import RANDOM_STATE\n",
    "from hcve_lib.evaluation_functions import average_group_scores, merge_standardize_prediction, merge_predictions, \\\n",
    "    compute_metrics_prediction\n",
    "from hcve_lib.metrics import BootstrappedMetric\n",
    "from hcve_lib.tracking import load_group_results\n",
    "from hcve_lib.visualisation import setup_plotly_style\n",
    "from hcve_lib.functional import t\n",
    "import numpy as np\n",
    "from hcve_lib.metrics import statistic_from_bootstrap\n",
    "from hcve_lib.functional import reject_none\n",
    "from plotly import express as px\n",
    "from hcve_lib.utils import transpose_list\n",
    "from notebooks.deps.binary_predictive_performance import run_pr_analysis_ci\n",
    "\n",
    "from config import GROUPS_LCO, GROUPS_10_fold\n",
    "from hcve_lib.metrics import BinaryMetricFromScore\n",
    "from hcve_lib.data import binarize_event\n",
    "from deps.data import load_raw_data, load_data\n",
    "\n",
    "\n",
    "set_tracking_uri('http://localhost:5000')"
   ]
  },
  {
   "cell_type": "code",
   "execution_count": 2,
   "metadata": {
    "pycharm": {
     "name": "#%%\n"
    }
   },
   "outputs": [
    {
     "name": "stdout",
     "output_type": "stream",
     "text": [
      "[Memory]3.1s, 0.1min    : Loading get_data...\n",
      "____________________________________________get_data cache loaded - 0.0s, 0.0min\n"
     ]
    }
   ],
   "source": [
    "data, metadata, X, y = get_data_cached()\n"
   ]
  },
  {
   "cell_type": "code",
   "execution_count": 28,
   "metadata": {},
   "outputs": [],
   "source": [
    "raw_data = load_raw_data()"
   ]
  },
  {
   "cell_type": "code",
   "execution_count": 3,
   "metadata": {},
   "outputs": [],
   "source": [
    "from hcve_lib.functional import dict_subset\n",
    "\n",
    "GROUPS = dict_subset(['gb', 'coxnet', 'stacking', 'pcp_hf'], GROUPS_LCO)"
   ]
  },
  {
   "cell_type": "code",
   "execution_count": 4,
   "metadata": {
    "pycharm": {
     "name": "#%%\n"
    }
   },
   "outputs": [],
   "source": [
    "TIME_POINT_PREDICTION = 10*365"
   ]
  },
  {
   "cell_type": "code",
   "execution_count": 5,
   "metadata": {
    "pycharm": {
     "name": "#%%\n"
    },
    "scrolled": false
   },
   "outputs": [
    {
     "name": "stdout",
     "output_type": "stream",
     "text": [
      "Before\n",
      "{0.0: 29286, 1.0: 1068}\n",
      "↓\n",
      "Binarization 10.0 years (NA removed)\n",
      "{0.0: -27294, 1.0: -177}\n",
      "↓\n",
      "{0.0: 1992, 1.0: 891}\n"
     ]
    },
    {
     "name": "stderr",
     "output_type": "stream",
     "text": [
      "/home/sitnarf/projects/hcve_lib/hcve_lib/data.py:247: FutureWarning: The default dtype for empty Series will be 'object' instead of 'float64' in a future version. Specify a dtype explicitly to silence this warning.\n",
      "  y_binary = Series(index=survival_y.index.copy())\n"
     ]
    }
   ],
   "source": [
    "binarized = binarize_event(TIME_POINT_PREDICTION, y['data'], drop_censored=False)\n",
    "\n",
    "print('Before')\n",
    "print(y['data']['label'].value_counts().to_dict())\n",
    "print('↓')\n",
    "print(f'Binarization {TIME_POINT_PREDICTION/365} years (NA removed)')\n",
    "print((binarized.value_counts() - y['data']['label'].value_counts()).to_dict())\n",
    "print('↓')\n",
    "print(binarized.value_counts(dropna=True).to_dict())\n"
   ]
  },
  {
   "cell_type": "code",
   "execution_count": 6,
   "metadata": {
    "pycharm": {
     "name": "#%%\n"
    }
   },
   "outputs": [],
   "source": [
    "from toolz import valmap \n",
    "\n",
    "merged_prediction = valmap(\n",
    "    lambda group_id: merge_predictions(average_group_scores(load_group_results(group_id))),\n",
    "    GROUPS,\n",
    ")\n"
   ]
  },
  {
   "cell_type": "code",
   "execution_count": 41,
   "metadata": {
    "pycharm": {
     "name": "#%%\n"
    }
   },
   "outputs": [
    {
     "name": "stderr",
     "output_type": "stream",
     "text": [
      "/home/sitnarf/projects/hcve_lib/hcve_lib/data.py:247: FutureWarning: The default dtype for empty Series will be 'object' instead of 'float64' in a future version. Specify a dtype explicitly to silence this warning.\n",
      "  y_binary = Series(index=survival_y.index.copy())\n"
     ]
    }
   ],
   "source": [
    "y_binarized = binarize_event(5*365, y['data'])"
   ]
  },
  {
   "cell_type": "code",
   "execution_count": 65,
   "metadata": {},
   "outputs": [],
   "source": [
    "y_proba_gb = merged_prediction['gb']['y_proba'][5*365].loc[X.index]\n",
    "y_proba_coxnet = merged_prediction['coxnet']['y_proba'][5*365].loc[X.index]"
   ]
  },
  {
   "cell_type": "code",
   "execution_count": 66,
   "metadata": {
    "scrolled": false
   },
   "outputs": [],
   "source": [
    "manifold_X = X.to_dict('records')"
   ]
  },
  {
   "cell_type": "code",
   "execution_count": 71,
   "metadata": {},
   "outputs": [],
   "source": [
    "X.to_csv('./output/X.csv')"
   ]
  },
  {
   "cell_type": "code",
   "execution_count": 73,
   "metadata": {},
   "outputs": [],
   "source": [
    "DataFrame({'gb': 1-y_proba_gb, 'coxnet': 1-y_proba_coxnet}).to_csv('./output/prob.csv')"
   ]
  },
  {
   "cell_type": "code",
   "execution_count": 74,
   "metadata": {},
   "outputs": [],
   "source": [
    "y_binarized.to_csv('./output/y_true.csv')"
   ]
  }
 ],
 "metadata": {
  "hide_input": false,
  "kernelspec": {
   "display_name": "Python 3",
   "language": "python",
   "name": "python3"
  },
  "language_info": {
   "codemirror_mode": {
    "name": "ipython",
    "version": 3
   },
   "file_extension": ".py",
   "mimetype": "text/x-python",
   "name": "python",
   "nbconvert_exporter": "python",
   "pygments_lexer": "ipython3",
   "version": "3.9.13"
  }
 },
 "nbformat": 4,
 "nbformat_minor": 1
}
