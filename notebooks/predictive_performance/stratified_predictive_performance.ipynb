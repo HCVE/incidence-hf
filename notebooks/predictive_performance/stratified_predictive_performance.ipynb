{
 "cells": [
  {
   "cell_type": "code",
   "execution_count": 25,
   "metadata": {
    "pycharm": {
     "name": "#%%\n"
    },
    "scrolled": true
   },
   "outputs": [
    {
     "name": "stdout",
     "output_type": "stream",
     "text": [
      "The autoreload extension is already loaded. To reload it, use:\n",
      "  %reload_ext autoreload\n"
     ]
    }
   ],
   "source": [
    "\n",
    "from hcve_lib.evaluation_functions import merge_predictions, compute_metrics_result\n",
    "from hcve_lib.tracking import load_run_results\n",
    "from hcve_lib.utils import notebook_init\n",
    "\n",
    "notebook_init()\n",
    "\n",
    "from plotly.graph_objs import Figure\n",
    "from mlflow import set_tracking_uri\n",
    "from deps.common import get_data_cached\n",
    "from notebooks.deps.stratified_predictive_performance import plot_stratify_analysis\n",
    "# noinspection PyUnresolvedReferences\n",
    "from deps.ignore_warnings import *\n",
    "from hcve_lib.custom_types import ExceptionValue\n",
    "from toolz import valfilter\n",
    "from notebooks.deps.methods_avg_predictive_performance import get_method_comparison\n",
    "from hcve_lib.evaluation_functions import compute_metric_result\n",
    "from hcve_lib.metrics import CIndex\n",
    "import plotly.express as px\n",
    "from hcve_lib.cv import run_parallel\n",
    "from toolz import valmap\n",
    "\n",
    "set_tracking_uri('http://localhost:5000')"
   ]
  },
  {
   "cell_type": "code",
   "execution_count": 26,
   "metadata": {
    "pycharm": {
     "name": "#%%\n"
    }
   },
   "outputs": [
    {
     "name": "stdout",
     "output_type": "stream",
     "text": [
      "[Memory]362963.2s, 6049.4min: Loading get_data...\n",
      "____________________________________________get_data cache loaded - 0.6s, 0.0min\n"
     ]
    }
   ],
   "source": [
    "data, metadata, X, y = get_data_cached()\n",
    "%autoreload 2"
   ]
  },
  {
   "cell_type": "code",
   "execution_count": 27,
   "metadata": {
    "pycharm": {
     "name": "#%%\n"
    }
   },
   "outputs": [],
   "source": [
    "RUNS = dict(\n",
    "    xgb='592b24c8a5164fd5b806befb8c9b3bf5',\n",
    "    pcp_hf='229ef6c05f5d40acb57f5f62707f1e38',\n",
    "    stacking='81a829cbb042424a853b106ec626c57b',\n",
    "    stacking2='aaea1b97941a4725819e71f03e8e9fb2',\n",
    "    coxnet='bfccd8d251d74ef7be733607771f2714',\n",
    "    gb='98ee59ff84c04d6e905b6b7fa9f5353b',\n",
    "    rsf='6d01df0ef88347a4baf5bc672cfc8afb',\n",
    ")\n",
    "\n",
    "ITERATIONS = 100\n"
   ]
  },
  {
   "cell_type": "code",
   "execution_count": 28,
   "outputs": [],
   "source": [
    "averaged_methods = run_parallel(\n",
    "    get_method_comparison,\n",
    "    valmap(\n",
    "        lambda _run_id: list(dict(\n",
    "            run_id=_run_id,\n",
    "            X=X,\n",
    "            y=y,\n",
    "            iterations=10,\n",
    "        ).values()),\n",
    "        RUNS,\n",
    "    ),\n",
    ")\n",
    "averaged_methods = valmap(lambda d: valfilter(lambda d2: not isinstance(d2, ExceptionValue), d), averaged_methods)"
   ],
   "metadata": {
    "collapsed": false,
    "pycharm": {
     "name": "#%%\n"
    }
   }
  },
  {
   "cell_type": "code",
   "execution_count": 29,
   "outputs": [
    {
     "ename": "KeyError",
     "evalue": "0",
     "output_type": "error",
     "traceback": [
      "\u001B[0;31m---------------------------------------------------------------------------\u001B[0m",
      "\u001B[0;31mKeyError\u001B[0m                                  Traceback (most recent call last)",
      "File \u001B[0;32m~/.local/share/virtualenvs/homage-fl-Ms4N7PDp/lib/python3.9/site-packages/pandas/core/indexes/base.py:3621\u001B[0m, in \u001B[0;36mIndex.get_loc\u001B[0;34m(self, key, method, tolerance)\u001B[0m\n\u001B[1;32m   3620\u001B[0m \u001B[38;5;28;01mtry\u001B[39;00m:\n\u001B[0;32m-> 3621\u001B[0m     \u001B[38;5;28;01mreturn\u001B[39;00m \u001B[38;5;28;43mself\u001B[39;49m\u001B[38;5;241;43m.\u001B[39;49m\u001B[43m_engine\u001B[49m\u001B[38;5;241;43m.\u001B[39;49m\u001B[43mget_loc\u001B[49m\u001B[43m(\u001B[49m\u001B[43mcasted_key\u001B[49m\u001B[43m)\u001B[49m\n\u001B[1;32m   3622\u001B[0m \u001B[38;5;28;01mexcept\u001B[39;00m \u001B[38;5;167;01mKeyError\u001B[39;00m \u001B[38;5;28;01mas\u001B[39;00m err:\n",
      "File \u001B[0;32m~/.local/share/virtualenvs/homage-fl-Ms4N7PDp/lib/python3.9/site-packages/pandas/_libs/index.pyx:136\u001B[0m, in \u001B[0;36mpandas._libs.index.IndexEngine.get_loc\u001B[0;34m()\u001B[0m\n",
      "File \u001B[0;32m~/.local/share/virtualenvs/homage-fl-Ms4N7PDp/lib/python3.9/site-packages/pandas/_libs/index.pyx:163\u001B[0m, in \u001B[0;36mpandas._libs.index.IndexEngine.get_loc\u001B[0;34m()\u001B[0m\n",
      "File \u001B[0;32mpandas/_libs/hashtable_class_helper.pxi:5198\u001B[0m, in \u001B[0;36mpandas._libs.hashtable.PyObjectHashTable.get_item\u001B[0;34m()\u001B[0m\n",
      "File \u001B[0;32mpandas/_libs/hashtable_class_helper.pxi:5206\u001B[0m, in \u001B[0;36mpandas._libs.hashtable.PyObjectHashTable.get_item\u001B[0;34m()\u001B[0m\n",
      "\u001B[0;31mKeyError\u001B[0m: 0",
      "\nThe above exception was the direct cause of the following exception:\n",
      "\u001B[0;31mKeyError\u001B[0m                                  Traceback (most recent call last)",
      "Input \u001B[0;32mIn [29]\u001B[0m, in \u001B[0;36m<cell line: 5>\u001B[0;34m()\u001B[0m\n\u001B[1;32m      4\u001B[0m setup_plotly_style(fig)\n\u001B[1;32m      5\u001B[0m \u001B[38;5;28;01mfor\u001B[39;00m method, by_cohort \u001B[38;5;129;01min\u001B[39;00m averaged_methods\u001B[38;5;241m.\u001B[39mitems():\n\u001B[0;32m----> 6\u001B[0m     \u001B[43mplot_stratify_analysis\u001B[49m\u001B[43m(\u001B[49m\u001B[43mfig\u001B[49m\u001B[43m,\u001B[49m\u001B[43m \u001B[49m\u001B[43mby_cohort\u001B[49m\u001B[43m,\u001B[49m\u001B[43m \u001B[49m\u001B[43mmethod\u001B[49m\u001B[43m,\u001B[49m\u001B[43m \u001B[49m\u001B[43mX\u001B[49m\u001B[43m)\u001B[49m\n\u001B[1;32m      7\u001B[0m fig\u001B[38;5;241m.\u001B[39mshow()\n",
      "File \u001B[0;32m~/projects/homage-fl/notebooks/deps/stratified_predictive_performance.py:123\u001B[0m, in \u001B[0;36mplot_stratify_analysis\u001B[0;34m(fig, df, name, X, points)\u001B[0m\n\u001B[1;32m    109\u001B[0m df_no_missing \u001B[38;5;241m=\u001B[39m valfilter(is_not_exception_value, df)\n\u001B[1;32m    110\u001B[0m preprocessed \u001B[38;5;241m=\u001B[39m DataFrame(\n\u001B[1;32m    111\u001B[0m     \u001B[38;5;28mlist\u001B[39m(\n\u001B[1;32m    112\u001B[0m         flatten(\n\u001B[0;32m   (...)\u001B[0m\n\u001B[1;32m    118\u001B[0m     )\n\u001B[1;32m    119\u001B[0m )\n\u001B[1;32m    121\u001B[0m fig\u001B[38;5;241m.\u001B[39madd_trace(\n\u001B[1;32m    122\u001B[0m     go\u001B[38;5;241m.\u001B[39mViolin(\n\u001B[0;32m--> 123\u001B[0m         x\u001B[38;5;241m=\u001B[39m\u001B[43mpreprocessed\u001B[49m\u001B[43m[\u001B[49m\u001B[38;5;241;43m0\u001B[39;49m\u001B[43m]\u001B[49m,\n\u001B[1;32m    124\u001B[0m         y\u001B[38;5;241m=\u001B[39mpreprocessed[\u001B[38;5;241m1\u001B[39m],\n\u001B[1;32m    125\u001B[0m         legendgroup\u001B[38;5;241m=\u001B[39mname,\n\u001B[1;32m    126\u001B[0m         scalegroup\u001B[38;5;241m=\u001B[39mname,\n\u001B[1;32m    127\u001B[0m         name\u001B[38;5;241m=\u001B[39mname,\n\u001B[1;32m    128\u001B[0m         meanline_visible\u001B[38;5;241m=\u001B[39m\u001B[38;5;28;01mTrue\u001B[39;00m,\n\u001B[1;32m    129\u001B[0m         points\u001B[38;5;241m=\u001B[39m\u001B[38;5;124m'\u001B[39m\u001B[38;5;124mall\u001B[39m\u001B[38;5;124m'\u001B[39m \u001B[38;5;28;01mif\u001B[39;00m points \u001B[38;5;28;01melse\u001B[39;00m \u001B[38;5;28;01mNone\u001B[39;00m,\n\u001B[1;32m    130\u001B[0m     )\n\u001B[1;32m    131\u001B[0m )\n\u001B[1;32m    133\u001B[0m fig\u001B[38;5;241m.\u001B[39mupdate_layout(\n\u001B[1;32m    134\u001B[0m     violinmode\u001B[38;5;241m=\u001B[39m\u001B[38;5;124m'\u001B[39m\u001B[38;5;124mgroup\u001B[39m\u001B[38;5;124m'\u001B[39m,\n\u001B[1;32m    135\u001B[0m     yaxis\u001B[38;5;241m=\u001B[39m\u001B[38;5;28mdict\u001B[39m(\u001B[38;5;28mrange\u001B[39m\u001B[38;5;241m=\u001B[39m[\u001B[38;5;241m0.5\u001B[39m, \u001B[38;5;241m1\u001B[39m]),  \u001B[38;5;66;03m# labels={\"age__30_40__c_index\": 'xx'},\u001B[39;00m\n\u001B[1;32m    136\u001B[0m )\n",
      "File \u001B[0;32m~/.local/share/virtualenvs/homage-fl-Ms4N7PDp/lib/python3.9/site-packages/pandas/core/frame.py:3505\u001B[0m, in \u001B[0;36mDataFrame.__getitem__\u001B[0;34m(self, key)\u001B[0m\n\u001B[1;32m   3503\u001B[0m \u001B[38;5;28;01mif\u001B[39;00m \u001B[38;5;28mself\u001B[39m\u001B[38;5;241m.\u001B[39mcolumns\u001B[38;5;241m.\u001B[39mnlevels \u001B[38;5;241m>\u001B[39m \u001B[38;5;241m1\u001B[39m:\n\u001B[1;32m   3504\u001B[0m     \u001B[38;5;28;01mreturn\u001B[39;00m \u001B[38;5;28mself\u001B[39m\u001B[38;5;241m.\u001B[39m_getitem_multilevel(key)\n\u001B[0;32m-> 3505\u001B[0m indexer \u001B[38;5;241m=\u001B[39m \u001B[38;5;28;43mself\u001B[39;49m\u001B[38;5;241;43m.\u001B[39;49m\u001B[43mcolumns\u001B[49m\u001B[38;5;241;43m.\u001B[39;49m\u001B[43mget_loc\u001B[49m\u001B[43m(\u001B[49m\u001B[43mkey\u001B[49m\u001B[43m)\u001B[49m\n\u001B[1;32m   3506\u001B[0m \u001B[38;5;28;01mif\u001B[39;00m is_integer(indexer):\n\u001B[1;32m   3507\u001B[0m     indexer \u001B[38;5;241m=\u001B[39m [indexer]\n",
      "File \u001B[0;32m~/.local/share/virtualenvs/homage-fl-Ms4N7PDp/lib/python3.9/site-packages/pandas/core/indexes/base.py:3623\u001B[0m, in \u001B[0;36mIndex.get_loc\u001B[0;34m(self, key, method, tolerance)\u001B[0m\n\u001B[1;32m   3621\u001B[0m     \u001B[38;5;28;01mreturn\u001B[39;00m \u001B[38;5;28mself\u001B[39m\u001B[38;5;241m.\u001B[39m_engine\u001B[38;5;241m.\u001B[39mget_loc(casted_key)\n\u001B[1;32m   3622\u001B[0m \u001B[38;5;28;01mexcept\u001B[39;00m \u001B[38;5;167;01mKeyError\u001B[39;00m \u001B[38;5;28;01mas\u001B[39;00m err:\n\u001B[0;32m-> 3623\u001B[0m     \u001B[38;5;28;01mraise\u001B[39;00m \u001B[38;5;167;01mKeyError\u001B[39;00m(key) \u001B[38;5;28;01mfrom\u001B[39;00m \u001B[38;5;21;01merr\u001B[39;00m\n\u001B[1;32m   3624\u001B[0m \u001B[38;5;28;01mexcept\u001B[39;00m \u001B[38;5;167;01mTypeError\u001B[39;00m:\n\u001B[1;32m   3625\u001B[0m     \u001B[38;5;66;03m# If we have a listlike key, _check_indexing_error will raise\u001B[39;00m\n\u001B[1;32m   3626\u001B[0m     \u001B[38;5;66;03m#  InvalidIndexError. Otherwise we fall through and re-raise\u001B[39;00m\n\u001B[1;32m   3627\u001B[0m     \u001B[38;5;66;03m#  the TypeError.\u001B[39;00m\n\u001B[1;32m   3628\u001B[0m     \u001B[38;5;28mself\u001B[39m\u001B[38;5;241m.\u001B[39m_check_indexing_error(key)\n",
      "\u001B[0;31mKeyError\u001B[0m: 0"
     ]
    }
   ],
   "source": [
    "from hcve_lib.visualisation import setup_plotly_style\n",
    "\n",
    "fig = Figure(layout_title='C-index')\n",
    "setup_plotly_style(fig)\n",
    "for method, by_cohort in averaged_methods.items():\n",
    "    plot_stratify_analysis(fig, by_cohort, method, X)\n",
    "fig.show()"
   ],
   "metadata": {
    "collapsed": false,
    "pycharm": {
     "name": "#%%\n"
    }
   }
  },
  {
   "cell_type": "code",
   "execution_count": null,
   "outputs": [],
   "source": [
    "from hcve_lib.visualisation import setup_plotly_style\n",
    "\n",
    "fig = Figure(layout_title='C-index')\n",
    "setup_plotly_style(fig)\n",
    "for method, by_cohort in averaged_methods.items():\n",
    "    plot_stratify_analysis(fig, by_cohort, method, X)\n",
    "fig.show()\n"
   ],
   "metadata": {
    "collapsed": false,
    "pycharm": {
     "name": "#%%\n"
    }
   }
  },
  {
   "cell_type": "code",
   "execution_count": null,
   "metadata": {
    "pycharm": {
     "name": "#%%\n"
    },
    "scrolled": false
   },
   "outputs": [],
   "source": [
    "from notebooks.deps.stratified_predictive_performance import get_stratify_analysis_merged\n",
    "from hcve_lib.cv import run_parallel\n",
    "from toolz import valmap\n",
    "\n",
    "stratified = run_parallel(\n",
    "    get_stratify_analysis_merged,\n",
    "    valmap(\n",
    "        # TODO: run_parallel accepts kwarg (dict)\n",
    "        lambda _run_id: list(dict(\n",
    "            run_id=_run_id,\n",
    "            X=X,\n",
    "            y=y,\n",
    "            iterations=10,\n",
    "        ).values()),\n",
    "        RUNS,\n",
    "    ),\n",
    ")\n",
    "stratified = valmap(lambda d: valfilter(lambda d2: not isinstance(d2, ExceptionValue), d), stratified)"
   ]
  },
  {
   "cell_type": "code",
   "execution_count": null,
   "outputs": [],
   "source": [
    "from hcve_lib.visualisation import setup_plotly_style\n",
    "\n",
    "fig = Figure(layout_title='C-index')\n",
    "setup_plotly_style(fig)\n",
    "for method, by_cohort in stratified.items():\n",
    "    plot_stratify_analysis(fig, by_cohort, method, X)\n",
    "fig.show()\n"
   ],
   "metadata": {
    "collapsed": false,
    "pycharm": {
     "name": "#%%\n"
    }
   }
  },
  {
   "cell_type": "code",
   "execution_count": null,
   "outputs": [],
   "source": [
    "from hcve_lib.visualisation import setup_plotly_style\n",
    "\n",
    "fig = Figure(layout_title='C-index')\n",
    "setup_plotly_style(fig)\n",
    "for method, by_cohort in stratified.items():\n",
    "    plot_stratify_analysis(fig, by_cohort, method, X)\n",
    "fig.show()\n"
   ],
   "metadata": {
    "collapsed": false,
    "pycharm": {
     "name": "#%%\n"
    }
   }
  }
 ],
 "metadata": {
  "kernelspec": {
   "display_name": "Python 3",
   "language": "python",
   "name": "python3"
  },
  "language_info": {
   "codemirror_mode": {
    "name": "ipython",
    "version": 3
   },
   "file_extension": ".py",
   "mimetype": "text/x-python",
   "name": "python",
   "nbconvert_exporter": "python",
   "pygments_lexer": "ipython3",
   "version": "3.9.5"
  }
 },
 "nbformat": 4,
 "nbformat_minor": 1
}