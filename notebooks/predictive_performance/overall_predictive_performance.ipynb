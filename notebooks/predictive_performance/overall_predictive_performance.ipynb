{
 "cells": [
  {
   "cell_type": "code",
   "execution_count": 1,
   "metadata": {
    "scrolled": true
   },
   "outputs": [
    {
     "name": "stderr",
     "output_type": "stream",
     "text": [
      "<frozen importlib._bootstrap>:228: RuntimeWarning: sklearn.tree._splitter.Splitter size changed, may indicate binary incompatibility. Expected 360 from C header, got 1160 from PyObject\n"
     ]
    }
   ],
   "source": [
    "from hcve_lib.utils import notebook_init, transpose_dict, transpose_list\n",
    "\n",
    "notebook_init()\n",
    "\n",
    "import mlflow\n",
    "from mlflow import get_experiment_by_name\n",
    "\n",
    "from hcve_lib.metrics import StratifiedMetric\n",
    "from deps.data import get_30_to_80\n",
    "from hcve_lib.tracking import load_run_results\n",
    "from deps.constants import RANDOM_STATE\n",
    "from hcve_lib.evaluation_functions import compute_metric_result, merge_predictions, average_group_scores\n",
    "from hcve_lib.metrics import BootstrappedMetric, CIndex\n",
    "from mlflow import set_tracking_uri\n",
    "import pandas\n",
    "from pandas import DataFrame, Series\n",
    "from toolz import valmap\n",
    "from numpy import mean\n",
    "from typing import Dict, List\n",
    "from plotly import express as px\n",
    "from deps.evaluation import get_latest_chosen_run_group\n",
    "from hcve_lib.functional import star_args\n",
    "from toolz import itemmap\n",
    "from statistics import mean\n",
    "from hcve_lib.functional import dict_subset\n",
    "from deps.visualisation import plot_metric_matrix\n",
    "from deps.evaluation import get_metric_matrix\n",
    "from hcve_lib.tracking import load_group_results\n",
    "from deps.visualisation import get_numerical_matrix\n",
    "from deps.visualisation import plot_matrix\n",
    "from config import GROUPS_LCO_SELECTED, GROUPS_LM_SELECTED, GROUPS_10_fold, GROUPS_LCO\n",
    "from config import COHORTS\n",
    "from deps.common import get_data_cached\n",
    "from collections import defaultdict\n",
    "from hcve_lib.functional import pipe, flatten\n",
    "from hcve_lib.functional import try_except\n",
    "from hcve_lib.evaluation_functions import compute_metric_prediction\n",
    "from hcve_lib.metrics import WeightedCIndex\n",
    "from hcve_lib.evaluation_functions import map_inverse_weight\n",
    "from hcve_lib.formatting import pp\n",
    "from plotly.offline import init_notebook_mode, iplot\n",
    "\n",
    "%autoreload 2\n",
    "\n",
    "ITERATIONS = 100\n",
    "\n",
    "set_tracking_uri('http://localhost:5000')"
   ]
  },
  {
   "cell_type": "code",
   "execution_count": 2,
   "metadata": {},
   "outputs": [
    {
     "data": {
      "text/html": [
       "        <script type=\"text/javascript\">\n",
       "        window.PlotlyConfig = {MathJaxConfig: 'local'};\n",
       "        if (window.MathJax && window.MathJax.Hub && window.MathJax.Hub.Config) {window.MathJax.Hub.Config({SVG: {font: \"STIX-Web\"}});}\n",
       "        if (typeof require !== 'undefined') {\n",
       "        require.undef(\"plotly\");\n",
       "        requirejs.config({\n",
       "            paths: {\n",
       "                'plotly': ['https://cdn.plot.ly/plotly-2.12.1.min']\n",
       "            }\n",
       "        });\n",
       "        require(['plotly'], function(Plotly) {\n",
       "            window._Plotly = Plotly;\n",
       "        });\n",
       "        }\n",
       "        </script>\n",
       "        "
      ]
     },
     "metadata": {},
     "output_type": "display_data"
    }
   ],
   "source": [
    "\n",
    "init_notebook_mode(connected=True)  "
   ]
  },
  {
   "cell_type": "code",
   "execution_count": 3,
   "metadata": {},
   "outputs": [
    {
     "name": "stdout",
     "output_type": "stream",
     "text": [
      "[Memory]0.5s, 0.0min    : Loading get_data...\n",
      "____________________________________________get_data cache loaded - 0.1s, 0.0min\n"
     ]
    }
   ],
   "source": [
    "data, metadata, X, y = get_data_cached()"
   ]
  },
  {
   "cell_type": "code",
   "execution_count": 4,
   "metadata": {},
   "outputs": [],
   "source": [
    "inverse_weight_cohorts = map_inverse_weight(data['STUDY'])\n",
    "inverse_incident_weight = map_inverse_weight(y['data']['label'], proportions={1:0.03, 0: 0.97})"
   ]
  },
  {
   "cell_type": "code",
   "execution_count": 5,
   "metadata": {},
   "outputs": [],
   "source": [
    "GROUPS_LCO_MORE_METHODS = dict_subset(['coxnet', 'gb', 'pcp_hf', 'stacking', 'svm'], GROUPS_LCO)"
   ]
  },
  {
   "cell_type": "markdown",
   "metadata": {},
   "source": [
    "## c-index per method per cohort"
   ]
  },
  {
   "cell_type": "code",
   "execution_count": 6,
   "metadata": {
    "scrolled": true
   },
   "outputs": [],
   "source": [
    "metrics_seed_averaged_lm = valmap(\n",
    "    lambda group_id: compute_metric_result(\n",
    "        BootstrappedMetric(\n",
    "            CIndex(),\n",
    "            random_state=RANDOM_STATE,\n",
    "            iterations=ITERATIONS,\n",
    "        ),\n",
    "        y,\n",
    "        average_group_scores(load_group_results(group_id)),\n",
    "    ),\n",
    "    GROUPS_LM_SELECTED,\n",
    ")\n",
    "\n",
    "metrics_lm_averaged = defaultdict(dict)\n",
    "\n",
    "for method_name, values in metrics_seed_averaged_lm.items():\n",
    "    for test_cohort in COHORTS:\n",
    "        values_selected = [value['mean'] for split, value in values.items() if split[1] == test_cohort]\n",
    "        metrics_lm_averaged[method_name][test_cohort] = mean(values_selected)\n",
    "\n",
    "metrics_seed_averaged_lm = {'method_name': [], 'mean': [], 'test_cohort': [], 'splits': []}\n",
    "\n",
    "for method_name, metrics_by_test in metrics_lm_averaged.items():\n",
    "    metrics_seed_averaged_lm['method_name'] += ([method_name] * len(metrics_by_test))\n",
    "    metrics_seed_averaged_lm['splits'] += (['Single-center'] * len(metrics_by_test))\n",
    "    metrics_seed_averaged_lm['test_cohort'] += list(metrics_by_test.keys())\n",
    "    metrics_seed_averaged_lm['mean'] += list(metrics_by_test.values())"
   ]
  },
  {
   "cell_type": "code",
   "execution_count": 7,
   "metadata": {},
   "outputs": [],
   "source": [
    "metrics_seed_averaged_lco = valmap(\n",
    "    lambda run_id: try_except(\n",
    "        lambda: compute_metric_result(\n",
    "            BootstrappedMetric(\n",
    "                CIndex(),\n",
    "                random_state=RANDOM_STATE,\n",
    "                iterations=ITERATIONS,\n",
    "            ),\n",
    "            y,\n",
    "            average_group_scores(load_group_results(run_id)),\n",
    "        ),\n",
    "        {AttributeError: lambda e: None},\n",
    "    ),\n",
    "    GROUPS_LCO_SELECTED,\n",
    ")\n",
    "\n",
    "metrics_seed_averaged_lco_lists = [\n",
    "    [\n",
    "        {\n",
    "            'method_name': method_name,\n",
    "            'test_cohort': split_name,\n",
    "            'mean': metric['mean'],\n",
    "            'ci_hi': metric['ci'][1] - metric['mean'],\n",
    "        }\n",
    "        for split_name, metric in result.items()\n",
    "    ]\n",
    "    for method_name, result in metrics_seed_averaged_lco.items()\n",
    "]\n",
    "metrics_seed_averaged_lco = pipe(\n",
    "    metrics_seed_averaged_lco_lists,\n",
    "    flatten,\n",
    "    list,\n",
    "    DataFrame,\n",
    "    lambda df: df.assign(splits='Multi-center')\n",
    ")"
   ]
  },
  {
   "cell_type": "code",
   "execution_count": 8,
   "metadata": {},
   "outputs": [],
   "source": [
    "lco_lm_comparison = pandas.concat([DataFrame(metrics_seed_averaged_lm), metrics_seed_averaged_lco])"
   ]
  },
  {
   "cell_type": "code",
   "execution_count": 9,
   "metadata": {},
   "outputs": [
    {
     "data": {
      "application/vnd.plotly.v1+json": {
       "config": {
        "plotlyServerURL": "https://plot.ly"
       },
       "data": [
        {
         "alignmentgroup": "True",
         "hovertemplate": "splits=Single-center<br>Tested on=%{x}<br>c-index=%{y}<extra></extra>",
         "legendgroup": "Single-center",
         "marker": {
          "color": "#4194D9",
          "pattern": {
           "shape": ""
          }
         },
         "name": "Single-center",
         "offsetgroup": "Single-center",
         "orientation": "v",
         "showlegend": true,
         "textposition": "auto",
         "type": "bar",
         "x": [
          "PROSPER",
          "HEALTHABC",
          "PREDICTOR",
          "HVC",
          "ASCOT",
          "FLEMENGHO"
         ],
         "xaxis": "x",
         "y": [
          0.5973231835899794,
          0.6042637323562534,
          0.6213804827570866,
          0.5891864274519981,
          0.6962764292098123,
          0.7700270802755074
         ],
         "yaxis": "y"
        },
        {
         "alignmentgroup": "True",
         "hovertemplate": "splits=Multi-center<br>Tested on=%{x}<br>c-index=%{y}<extra></extra>",
         "legendgroup": "Multi-center",
         "marker": {
          "color": "#4194D9",
          "pattern": {
           "shape": "/"
          }
         },
         "name": "Multi-center",
         "offsetgroup": "Multi-center",
         "orientation": "v",
         "showlegend": true,
         "textposition": "auto",
         "type": "bar",
         "x": [
          "ASCOT",
          "FLEMENGHO",
          "HEALTHABC",
          "HVC",
          "PREDICTOR",
          "PROSPER"
         ],
         "xaxis": "x",
         "y": [
          0.7431405141617844,
          0.7487198371966776,
          0.6307155236960131,
          0.5924075822757127,
          0.642349175783584,
          0.6002566408469001
         ],
         "yaxis": "y"
        }
       ],
       "layout": {
        "bargroupgap": 0.1,
        "barmode": "group",
        "font": {
         "family": "Calibri",
         "size": 25
        },
        "legend": {
         "title": {
          "font": {
           "color": "rgba(0,0,0,0)"
          },
          "text": "splits"
         },
         "tracegroupgap": 0
        },
        "margin": {
         "t": 60
        },
        "template": {
         "data": {
          "bar": [
           {
            "error_x": {
             "color": "rgb(36,36,36)"
            },
            "error_y": {
             "color": "rgb(36,36,36)"
            },
            "marker": {
             "line": {
              "color": "white",
              "width": 0.5
             },
             "pattern": {
              "fillmode": "overlay",
              "size": 10,
              "solidity": 0.2
             }
            },
            "type": "bar"
           }
          ],
          "barpolar": [
           {
            "marker": {
             "line": {
              "color": "white",
              "width": 0.5
             },
             "pattern": {
              "fillmode": "overlay",
              "size": 10,
              "solidity": 0.2
             }
            },
            "type": "barpolar"
           }
          ],
          "carpet": [
           {
            "aaxis": {
             "endlinecolor": "rgb(36,36,36)",
             "gridcolor": "white",
             "linecolor": "white",
             "minorgridcolor": "white",
             "startlinecolor": "rgb(36,36,36)"
            },
            "baxis": {
             "endlinecolor": "rgb(36,36,36)",
             "gridcolor": "white",
             "linecolor": "white",
             "minorgridcolor": "white",
             "startlinecolor": "rgb(36,36,36)"
            },
            "type": "carpet"
           }
          ],
          "choropleth": [
           {
            "colorbar": {
             "outlinewidth": 1,
             "tickcolor": "rgb(36,36,36)",
             "ticks": "outside"
            },
            "type": "choropleth"
           }
          ],
          "contour": [
           {
            "colorbar": {
             "outlinewidth": 1,
             "tickcolor": "rgb(36,36,36)",
             "ticks": "outside"
            },
            "colorscale": [
             [
              0,
              "#440154"
             ],
             [
              0.1111111111111111,
              "#482878"
             ],
             [
              0.2222222222222222,
              "#3e4989"
             ],
             [
              0.3333333333333333,
              "#31688e"
             ],
             [
              0.4444444444444444,
              "#26828e"
             ],
             [
              0.5555555555555556,
              "#1f9e89"
             ],
             [
              0.6666666666666666,
              "#35b779"
             ],
             [
              0.7777777777777778,
              "#6ece58"
             ],
             [
              0.8888888888888888,
              "#b5de2b"
             ],
             [
              1,
              "#fde725"
             ]
            ],
            "type": "contour"
           }
          ],
          "contourcarpet": [
           {
            "colorbar": {
             "outlinewidth": 1,
             "tickcolor": "rgb(36,36,36)",
             "ticks": "outside"
            },
            "type": "contourcarpet"
           }
          ],
          "heatmap": [
           {
            "colorbar": {
             "outlinewidth": 1,
             "tickcolor": "rgb(36,36,36)",
             "ticks": "outside"
            },
            "colorscale": [
             [
              0,
              "#440154"
             ],
             [
              0.1111111111111111,
              "#482878"
             ],
             [
              0.2222222222222222,
              "#3e4989"
             ],
             [
              0.3333333333333333,
              "#31688e"
             ],
             [
              0.4444444444444444,
              "#26828e"
             ],
             [
              0.5555555555555556,
              "#1f9e89"
             ],
             [
              0.6666666666666666,
              "#35b779"
             ],
             [
              0.7777777777777778,
              "#6ece58"
             ],
             [
              0.8888888888888888,
              "#b5de2b"
             ],
             [
              1,
              "#fde725"
             ]
            ],
            "type": "heatmap"
           }
          ],
          "heatmapgl": [
           {
            "colorbar": {
             "outlinewidth": 1,
             "tickcolor": "rgb(36,36,36)",
             "ticks": "outside"
            },
            "colorscale": [
             [
              0,
              "#440154"
             ],
             [
              0.1111111111111111,
              "#482878"
             ],
             [
              0.2222222222222222,
              "#3e4989"
             ],
             [
              0.3333333333333333,
              "#31688e"
             ],
             [
              0.4444444444444444,
              "#26828e"
             ],
             [
              0.5555555555555556,
              "#1f9e89"
             ],
             [
              0.6666666666666666,
              "#35b779"
             ],
             [
              0.7777777777777778,
              "#6ece58"
             ],
             [
              0.8888888888888888,
              "#b5de2b"
             ],
             [
              1,
              "#fde725"
             ]
            ],
            "type": "heatmapgl"
           }
          ],
          "histogram": [
           {
            "marker": {
             "line": {
              "color": "white",
              "width": 0.6
             }
            },
            "type": "histogram"
           }
          ],
          "histogram2d": [
           {
            "colorbar": {
             "outlinewidth": 1,
             "tickcolor": "rgb(36,36,36)",
             "ticks": "outside"
            },
            "colorscale": [
             [
              0,
              "#440154"
             ],
             [
              0.1111111111111111,
              "#482878"
             ],
             [
              0.2222222222222222,
              "#3e4989"
             ],
             [
              0.3333333333333333,
              "#31688e"
             ],
             [
              0.4444444444444444,
              "#26828e"
             ],
             [
              0.5555555555555556,
              "#1f9e89"
             ],
             [
              0.6666666666666666,
              "#35b779"
             ],
             [
              0.7777777777777778,
              "#6ece58"
             ],
             [
              0.8888888888888888,
              "#b5de2b"
             ],
             [
              1,
              "#fde725"
             ]
            ],
            "type": "histogram2d"
           }
          ],
          "histogram2dcontour": [
           {
            "colorbar": {
             "outlinewidth": 1,
             "tickcolor": "rgb(36,36,36)",
             "ticks": "outside"
            },
            "colorscale": [
             [
              0,
              "#440154"
             ],
             [
              0.1111111111111111,
              "#482878"
             ],
             [
              0.2222222222222222,
              "#3e4989"
             ],
             [
              0.3333333333333333,
              "#31688e"
             ],
             [
              0.4444444444444444,
              "#26828e"
             ],
             [
              0.5555555555555556,
              "#1f9e89"
             ],
             [
              0.6666666666666666,
              "#35b779"
             ],
             [
              0.7777777777777778,
              "#6ece58"
             ],
             [
              0.8888888888888888,
              "#b5de2b"
             ],
             [
              1,
              "#fde725"
             ]
            ],
            "type": "histogram2dcontour"
           }
          ],
          "mesh3d": [
           {
            "colorbar": {
             "outlinewidth": 1,
             "tickcolor": "rgb(36,36,36)",
             "ticks": "outside"
            },
            "type": "mesh3d"
           }
          ],
          "parcoords": [
           {
            "line": {
             "colorbar": {
              "outlinewidth": 1,
              "tickcolor": "rgb(36,36,36)",
              "ticks": "outside"
             }
            },
            "type": "parcoords"
           }
          ],
          "pie": [
           {
            "automargin": true,
            "type": "pie"
           }
          ],
          "scatter": [
           {
            "fillpattern": {
             "fillmode": "overlay",
             "size": 10,
             "solidity": 0.2
            },
            "type": "scatter"
           }
          ],
          "scatter3d": [
           {
            "line": {
             "colorbar": {
              "outlinewidth": 1,
              "tickcolor": "rgb(36,36,36)",
              "ticks": "outside"
             }
            },
            "marker": {
             "colorbar": {
              "outlinewidth": 1,
              "tickcolor": "rgb(36,36,36)",
              "ticks": "outside"
             }
            },
            "type": "scatter3d"
           }
          ],
          "scattercarpet": [
           {
            "marker": {
             "colorbar": {
              "outlinewidth": 1,
              "tickcolor": "rgb(36,36,36)",
              "ticks": "outside"
             }
            },
            "type": "scattercarpet"
           }
          ],
          "scattergeo": [
           {
            "marker": {
             "colorbar": {
              "outlinewidth": 1,
              "tickcolor": "rgb(36,36,36)",
              "ticks": "outside"
             }
            },
            "type": "scattergeo"
           }
          ],
          "scattergl": [
           {
            "marker": {
             "colorbar": {
              "outlinewidth": 1,
              "tickcolor": "rgb(36,36,36)",
              "ticks": "outside"
             }
            },
            "type": "scattergl"
           }
          ],
          "scattermapbox": [
           {
            "marker": {
             "colorbar": {
              "outlinewidth": 1,
              "tickcolor": "rgb(36,36,36)",
              "ticks": "outside"
             }
            },
            "type": "scattermapbox"
           }
          ],
          "scatterpolar": [
           {
            "marker": {
             "colorbar": {
              "outlinewidth": 1,
              "tickcolor": "rgb(36,36,36)",
              "ticks": "outside"
             }
            },
            "type": "scatterpolar"
           }
          ],
          "scatterpolargl": [
           {
            "marker": {
             "colorbar": {
              "outlinewidth": 1,
              "tickcolor": "rgb(36,36,36)",
              "ticks": "outside"
             }
            },
            "type": "scatterpolargl"
           }
          ],
          "scatterternary": [
           {
            "marker": {
             "colorbar": {
              "outlinewidth": 1,
              "tickcolor": "rgb(36,36,36)",
              "ticks": "outside"
             }
            },
            "type": "scatterternary"
           }
          ],
          "surface": [
           {
            "colorbar": {
             "outlinewidth": 1,
             "tickcolor": "rgb(36,36,36)",
             "ticks": "outside"
            },
            "colorscale": [
             [
              0,
              "#440154"
             ],
             [
              0.1111111111111111,
              "#482878"
             ],
             [
              0.2222222222222222,
              "#3e4989"
             ],
             [
              0.3333333333333333,
              "#31688e"
             ],
             [
              0.4444444444444444,
              "#26828e"
             ],
             [
              0.5555555555555556,
              "#1f9e89"
             ],
             [
              0.6666666666666666,
              "#35b779"
             ],
             [
              0.7777777777777778,
              "#6ece58"
             ],
             [
              0.8888888888888888,
              "#b5de2b"
             ],
             [
              1,
              "#fde725"
             ]
            ],
            "type": "surface"
           }
          ],
          "table": [
           {
            "cells": {
             "fill": {
              "color": "rgb(237,237,237)"
             },
             "line": {
              "color": "white"
             }
            },
            "header": {
             "fill": {
              "color": "rgb(217,217,217)"
             },
             "line": {
              "color": "white"
             }
            },
            "type": "table"
           }
          ]
         },
         "layout": {
          "annotationdefaults": {
           "arrowhead": 0,
           "arrowwidth": 1
          },
          "autotypenumbers": "strict",
          "coloraxis": {
           "colorbar": {
            "outlinewidth": 1,
            "tickcolor": "rgb(36,36,36)",
            "ticks": "outside"
           }
          },
          "colorscale": {
           "diverging": [
            [
             0,
             "rgb(103,0,31)"
            ],
            [
             0.1,
             "rgb(178,24,43)"
            ],
            [
             0.2,
             "rgb(214,96,77)"
            ],
            [
             0.3,
             "rgb(244,165,130)"
            ],
            [
             0.4,
             "rgb(253,219,199)"
            ],
            [
             0.5,
             "rgb(247,247,247)"
            ],
            [
             0.6,
             "rgb(209,229,240)"
            ],
            [
             0.7,
             "rgb(146,197,222)"
            ],
            [
             0.8,
             "rgb(67,147,195)"
            ],
            [
             0.9,
             "rgb(33,102,172)"
            ],
            [
             1,
             "rgb(5,48,97)"
            ]
           ],
           "sequential": [
            [
             0,
             "#440154"
            ],
            [
             0.1111111111111111,
             "#482878"
            ],
            [
             0.2222222222222222,
             "#3e4989"
            ],
            [
             0.3333333333333333,
             "#31688e"
            ],
            [
             0.4444444444444444,
             "#26828e"
            ],
            [
             0.5555555555555556,
             "#1f9e89"
            ],
            [
             0.6666666666666666,
             "#35b779"
            ],
            [
             0.7777777777777778,
             "#6ece58"
            ],
            [
             0.8888888888888888,
             "#b5de2b"
            ],
            [
             1,
             "#fde725"
            ]
           ],
           "sequentialminus": [
            [
             0,
             "#440154"
            ],
            [
             0.1111111111111111,
             "#482878"
            ],
            [
             0.2222222222222222,
             "#3e4989"
            ],
            [
             0.3333333333333333,
             "#31688e"
            ],
            [
             0.4444444444444444,
             "#26828e"
            ],
            [
             0.5555555555555556,
             "#1f9e89"
            ],
            [
             0.6666666666666666,
             "#35b779"
            ],
            [
             0.7777777777777778,
             "#6ece58"
            ],
            [
             0.8888888888888888,
             "#b5de2b"
            ],
            [
             1,
             "#fde725"
            ]
           ]
          },
          "colorway": [
           "#1F77B4",
           "#FF7F0E",
           "#2CA02C",
           "#D62728",
           "#9467BD",
           "#8C564B",
           "#E377C2",
           "#7F7F7F",
           "#BCBD22",
           "#17BECF"
          ],
          "font": {
           "color": "rgb(36,36,36)"
          },
          "geo": {
           "bgcolor": "white",
           "lakecolor": "white",
           "landcolor": "white",
           "showlakes": true,
           "showland": true,
           "subunitcolor": "white"
          },
          "hoverlabel": {
           "align": "left"
          },
          "hovermode": "closest",
          "mapbox": {
           "style": "light"
          },
          "paper_bgcolor": "white",
          "plot_bgcolor": "white",
          "polar": {
           "angularaxis": {
            "gridcolor": "rgb(232,232,232)",
            "linecolor": "rgb(36,36,36)",
            "showgrid": false,
            "showline": true,
            "ticks": "outside"
           },
           "bgcolor": "white",
           "radialaxis": {
            "gridcolor": "rgb(232,232,232)",
            "linecolor": "rgb(36,36,36)",
            "showgrid": false,
            "showline": true,
            "ticks": "outside"
           }
          },
          "scene": {
           "xaxis": {
            "backgroundcolor": "white",
            "gridcolor": "rgb(232,232,232)",
            "gridwidth": 2,
            "linecolor": "rgb(36,36,36)",
            "showbackground": true,
            "showgrid": false,
            "showline": true,
            "ticks": "outside",
            "zeroline": false,
            "zerolinecolor": "rgb(36,36,36)"
           },
           "yaxis": {
            "backgroundcolor": "white",
            "gridcolor": "rgb(232,232,232)",
            "gridwidth": 2,
            "linecolor": "rgb(36,36,36)",
            "showbackground": true,
            "showgrid": false,
            "showline": true,
            "ticks": "outside",
            "zeroline": false,
            "zerolinecolor": "rgb(36,36,36)"
           },
           "zaxis": {
            "backgroundcolor": "white",
            "gridcolor": "rgb(232,232,232)",
            "gridwidth": 2,
            "linecolor": "rgb(36,36,36)",
            "showbackground": true,
            "showgrid": false,
            "showline": true,
            "ticks": "outside",
            "zeroline": false,
            "zerolinecolor": "rgb(36,36,36)"
           }
          },
          "shapedefaults": {
           "fillcolor": "black",
           "line": {
            "width": 0
           },
           "opacity": 0.3
          },
          "ternary": {
           "aaxis": {
            "gridcolor": "rgb(232,232,232)",
            "linecolor": "rgb(36,36,36)",
            "showgrid": false,
            "showline": true,
            "ticks": "outside"
           },
           "baxis": {
            "gridcolor": "rgb(232,232,232)",
            "linecolor": "rgb(36,36,36)",
            "showgrid": false,
            "showline": true,
            "ticks": "outside"
           },
           "bgcolor": "white",
           "caxis": {
            "gridcolor": "rgb(232,232,232)",
            "linecolor": "rgb(36,36,36)",
            "showgrid": false,
            "showline": true,
            "ticks": "outside"
           }
          },
          "title": {
           "x": 0.05
          },
          "xaxis": {
           "automargin": true,
           "gridcolor": "rgb(232,232,232)",
           "linecolor": "rgb(36,36,36)",
           "showgrid": false,
           "showline": true,
           "ticks": "outside",
           "title": {
            "standoff": 15
           },
           "zeroline": false,
           "zerolinecolor": "rgb(36,36,36)"
          },
          "yaxis": {
           "automargin": true,
           "gridcolor": "rgb(232,232,232)",
           "linecolor": "rgb(36,36,36)",
           "showgrid": false,
           "showline": true,
           "ticks": "outside",
           "title": {
            "standoff": 15
           },
           "zeroline": false,
           "zerolinecolor": "rgb(36,36,36)"
          }
         }
        },
        "xaxis": {
         "anchor": "y",
         "domain": [
          0,
          1
         ],
         "showgrid": true,
         "title": {
          "text": "Tested on"
         }
        },
        "yaxis": {
         "anchor": "x",
         "domain": [
          0,
          1
         ],
         "range": [
          0.5,
          0.8
         ],
         "showgrid": true,
         "title": {
          "text": "c-index"
         }
        }
       }
      },
      "text/html": [
       "<div>                            <div id=\"1c426609-a5a4-4d40-8024-c498ce4a901d\" class=\"plotly-graph-div\" style=\"height:525px; width:100%;\"></div>            <script type=\"text/javascript\">                require([\"plotly\"], function(Plotly) {                    window.PLOTLYENV=window.PLOTLYENV || {};                                    if (document.getElementById(\"1c426609-a5a4-4d40-8024-c498ce4a901d\")) {                    Plotly.newPlot(                        \"1c426609-a5a4-4d40-8024-c498ce4a901d\",                        [{\"alignmentgroup\":\"True\",\"hovertemplate\":\"splits=Single-center<br>Tested on=%{x}<br>c-index=%{y}<extra></extra>\",\"legendgroup\":\"Single-center\",\"marker\":{\"color\":\"#4194D9\",\"pattern\":{\"shape\":\"\"}},\"name\":\"Single-center\",\"offsetgroup\":\"Single-center\",\"orientation\":\"v\",\"showlegend\":true,\"textposition\":\"auto\",\"x\":[\"PROSPER\",\"HEALTHABC\",\"PREDICTOR\",\"HVC\",\"ASCOT\",\"FLEMENGHO\"],\"xaxis\":\"x\",\"y\":[0.5973231835899794,0.6042637323562534,0.6213804827570866,0.5891864274519981,0.6962764292098123,0.7700270802755074],\"yaxis\":\"y\",\"type\":\"bar\"},{\"alignmentgroup\":\"True\",\"hovertemplate\":\"splits=Multi-center<br>Tested on=%{x}<br>c-index=%{y}<extra></extra>\",\"legendgroup\":\"Multi-center\",\"marker\":{\"color\":\"#4194D9\",\"pattern\":{\"shape\":\"/\"}},\"name\":\"Multi-center\",\"offsetgroup\":\"Multi-center\",\"orientation\":\"v\",\"showlegend\":true,\"textposition\":\"auto\",\"x\":[\"ASCOT\",\"FLEMENGHO\",\"HEALTHABC\",\"HVC\",\"PREDICTOR\",\"PROSPER\"],\"xaxis\":\"x\",\"y\":[0.7431405141617844,0.7487198371966776,0.6307155236960131,0.5924075822757127,0.642349175783584,0.6002566408469001],\"yaxis\":\"y\",\"type\":\"bar\"}],                        {\"template\":{\"data\":{\"barpolar\":[{\"marker\":{\"line\":{\"color\":\"white\",\"width\":0.5},\"pattern\":{\"fillmode\":\"overlay\",\"size\":10,\"solidity\":0.2}},\"type\":\"barpolar\"}],\"bar\":[{\"error_x\":{\"color\":\"rgb(36,36,36)\"},\"error_y\":{\"color\":\"rgb(36,36,36)\"},\"marker\":{\"line\":{\"color\":\"white\",\"width\":0.5},\"pattern\":{\"fillmode\":\"overlay\",\"size\":10,\"solidity\":0.2}},\"type\":\"bar\"}],\"carpet\":[{\"aaxis\":{\"endlinecolor\":\"rgb(36,36,36)\",\"gridcolor\":\"white\",\"linecolor\":\"white\",\"minorgridcolor\":\"white\",\"startlinecolor\":\"rgb(36,36,36)\"},\"baxis\":{\"endlinecolor\":\"rgb(36,36,36)\",\"gridcolor\":\"white\",\"linecolor\":\"white\",\"minorgridcolor\":\"white\",\"startlinecolor\":\"rgb(36,36,36)\"},\"type\":\"carpet\"}],\"choropleth\":[{\"colorbar\":{\"outlinewidth\":1,\"tickcolor\":\"rgb(36,36,36)\",\"ticks\":\"outside\"},\"type\":\"choropleth\"}],\"contourcarpet\":[{\"colorbar\":{\"outlinewidth\":1,\"tickcolor\":\"rgb(36,36,36)\",\"ticks\":\"outside\"},\"type\":\"contourcarpet\"}],\"contour\":[{\"colorbar\":{\"outlinewidth\":1,\"tickcolor\":\"rgb(36,36,36)\",\"ticks\":\"outside\"},\"colorscale\":[[0.0,\"#440154\"],[0.1111111111111111,\"#482878\"],[0.2222222222222222,\"#3e4989\"],[0.3333333333333333,\"#31688e\"],[0.4444444444444444,\"#26828e\"],[0.5555555555555556,\"#1f9e89\"],[0.6666666666666666,\"#35b779\"],[0.7777777777777778,\"#6ece58\"],[0.8888888888888888,\"#b5de2b\"],[1.0,\"#fde725\"]],\"type\":\"contour\"}],\"heatmapgl\":[{\"colorbar\":{\"outlinewidth\":1,\"tickcolor\":\"rgb(36,36,36)\",\"ticks\":\"outside\"},\"colorscale\":[[0.0,\"#440154\"],[0.1111111111111111,\"#482878\"],[0.2222222222222222,\"#3e4989\"],[0.3333333333333333,\"#31688e\"],[0.4444444444444444,\"#26828e\"],[0.5555555555555556,\"#1f9e89\"],[0.6666666666666666,\"#35b779\"],[0.7777777777777778,\"#6ece58\"],[0.8888888888888888,\"#b5de2b\"],[1.0,\"#fde725\"]],\"type\":\"heatmapgl\"}],\"heatmap\":[{\"colorbar\":{\"outlinewidth\":1,\"tickcolor\":\"rgb(36,36,36)\",\"ticks\":\"outside\"},\"colorscale\":[[0.0,\"#440154\"],[0.1111111111111111,\"#482878\"],[0.2222222222222222,\"#3e4989\"],[0.3333333333333333,\"#31688e\"],[0.4444444444444444,\"#26828e\"],[0.5555555555555556,\"#1f9e89\"],[0.6666666666666666,\"#35b779\"],[0.7777777777777778,\"#6ece58\"],[0.8888888888888888,\"#b5de2b\"],[1.0,\"#fde725\"]],\"type\":\"heatmap\"}],\"histogram2dcontour\":[{\"colorbar\":{\"outlinewidth\":1,\"tickcolor\":\"rgb(36,36,36)\",\"ticks\":\"outside\"},\"colorscale\":[[0.0,\"#440154\"],[0.1111111111111111,\"#482878\"],[0.2222222222222222,\"#3e4989\"],[0.3333333333333333,\"#31688e\"],[0.4444444444444444,\"#26828e\"],[0.5555555555555556,\"#1f9e89\"],[0.6666666666666666,\"#35b779\"],[0.7777777777777778,\"#6ece58\"],[0.8888888888888888,\"#b5de2b\"],[1.0,\"#fde725\"]],\"type\":\"histogram2dcontour\"}],\"histogram2d\":[{\"colorbar\":{\"outlinewidth\":1,\"tickcolor\":\"rgb(36,36,36)\",\"ticks\":\"outside\"},\"colorscale\":[[0.0,\"#440154\"],[0.1111111111111111,\"#482878\"],[0.2222222222222222,\"#3e4989\"],[0.3333333333333333,\"#31688e\"],[0.4444444444444444,\"#26828e\"],[0.5555555555555556,\"#1f9e89\"],[0.6666666666666666,\"#35b779\"],[0.7777777777777778,\"#6ece58\"],[0.8888888888888888,\"#b5de2b\"],[1.0,\"#fde725\"]],\"type\":\"histogram2d\"}],\"histogram\":[{\"marker\":{\"line\":{\"color\":\"white\",\"width\":0.6}},\"type\":\"histogram\"}],\"mesh3d\":[{\"colorbar\":{\"outlinewidth\":1,\"tickcolor\":\"rgb(36,36,36)\",\"ticks\":\"outside\"},\"type\":\"mesh3d\"}],\"parcoords\":[{\"line\":{\"colorbar\":{\"outlinewidth\":1,\"tickcolor\":\"rgb(36,36,36)\",\"ticks\":\"outside\"}},\"type\":\"parcoords\"}],\"pie\":[{\"automargin\":true,\"type\":\"pie\"}],\"scatter3d\":[{\"line\":{\"colorbar\":{\"outlinewidth\":1,\"tickcolor\":\"rgb(36,36,36)\",\"ticks\":\"outside\"}},\"marker\":{\"colorbar\":{\"outlinewidth\":1,\"tickcolor\":\"rgb(36,36,36)\",\"ticks\":\"outside\"}},\"type\":\"scatter3d\"}],\"scattercarpet\":[{\"marker\":{\"colorbar\":{\"outlinewidth\":1,\"tickcolor\":\"rgb(36,36,36)\",\"ticks\":\"outside\"}},\"type\":\"scattercarpet\"}],\"scattergeo\":[{\"marker\":{\"colorbar\":{\"outlinewidth\":1,\"tickcolor\":\"rgb(36,36,36)\",\"ticks\":\"outside\"}},\"type\":\"scattergeo\"}],\"scattergl\":[{\"marker\":{\"colorbar\":{\"outlinewidth\":1,\"tickcolor\":\"rgb(36,36,36)\",\"ticks\":\"outside\"}},\"type\":\"scattergl\"}],\"scattermapbox\":[{\"marker\":{\"colorbar\":{\"outlinewidth\":1,\"tickcolor\":\"rgb(36,36,36)\",\"ticks\":\"outside\"}},\"type\":\"scattermapbox\"}],\"scatterpolargl\":[{\"marker\":{\"colorbar\":{\"outlinewidth\":1,\"tickcolor\":\"rgb(36,36,36)\",\"ticks\":\"outside\"}},\"type\":\"scatterpolargl\"}],\"scatterpolar\":[{\"marker\":{\"colorbar\":{\"outlinewidth\":1,\"tickcolor\":\"rgb(36,36,36)\",\"ticks\":\"outside\"}},\"type\":\"scatterpolar\"}],\"scatter\":[{\"fillpattern\":{\"fillmode\":\"overlay\",\"size\":10,\"solidity\":0.2},\"type\":\"scatter\"}],\"scatterternary\":[{\"marker\":{\"colorbar\":{\"outlinewidth\":1,\"tickcolor\":\"rgb(36,36,36)\",\"ticks\":\"outside\"}},\"type\":\"scatterternary\"}],\"surface\":[{\"colorbar\":{\"outlinewidth\":1,\"tickcolor\":\"rgb(36,36,36)\",\"ticks\":\"outside\"},\"colorscale\":[[0.0,\"#440154\"],[0.1111111111111111,\"#482878\"],[0.2222222222222222,\"#3e4989\"],[0.3333333333333333,\"#31688e\"],[0.4444444444444444,\"#26828e\"],[0.5555555555555556,\"#1f9e89\"],[0.6666666666666666,\"#35b779\"],[0.7777777777777778,\"#6ece58\"],[0.8888888888888888,\"#b5de2b\"],[1.0,\"#fde725\"]],\"type\":\"surface\"}],\"table\":[{\"cells\":{\"fill\":{\"color\":\"rgb(237,237,237)\"},\"line\":{\"color\":\"white\"}},\"header\":{\"fill\":{\"color\":\"rgb(217,217,217)\"},\"line\":{\"color\":\"white\"}},\"type\":\"table\"}]},\"layout\":{\"annotationdefaults\":{\"arrowhead\":0,\"arrowwidth\":1},\"autotypenumbers\":\"strict\",\"coloraxis\":{\"colorbar\":{\"outlinewidth\":1,\"tickcolor\":\"rgb(36,36,36)\",\"ticks\":\"outside\"}},\"colorscale\":{\"diverging\":[[0.0,\"rgb(103,0,31)\"],[0.1,\"rgb(178,24,43)\"],[0.2,\"rgb(214,96,77)\"],[0.3,\"rgb(244,165,130)\"],[0.4,\"rgb(253,219,199)\"],[0.5,\"rgb(247,247,247)\"],[0.6,\"rgb(209,229,240)\"],[0.7,\"rgb(146,197,222)\"],[0.8,\"rgb(67,147,195)\"],[0.9,\"rgb(33,102,172)\"],[1.0,\"rgb(5,48,97)\"]],\"sequential\":[[0.0,\"#440154\"],[0.1111111111111111,\"#482878\"],[0.2222222222222222,\"#3e4989\"],[0.3333333333333333,\"#31688e\"],[0.4444444444444444,\"#26828e\"],[0.5555555555555556,\"#1f9e89\"],[0.6666666666666666,\"#35b779\"],[0.7777777777777778,\"#6ece58\"],[0.8888888888888888,\"#b5de2b\"],[1.0,\"#fde725\"]],\"sequentialminus\":[[0.0,\"#440154\"],[0.1111111111111111,\"#482878\"],[0.2222222222222222,\"#3e4989\"],[0.3333333333333333,\"#31688e\"],[0.4444444444444444,\"#26828e\"],[0.5555555555555556,\"#1f9e89\"],[0.6666666666666666,\"#35b779\"],[0.7777777777777778,\"#6ece58\"],[0.8888888888888888,\"#b5de2b\"],[1.0,\"#fde725\"]]},\"colorway\":[\"#1F77B4\",\"#FF7F0E\",\"#2CA02C\",\"#D62728\",\"#9467BD\",\"#8C564B\",\"#E377C2\",\"#7F7F7F\",\"#BCBD22\",\"#17BECF\"],\"font\":{\"color\":\"rgb(36,36,36)\"},\"geo\":{\"bgcolor\":\"white\",\"lakecolor\":\"white\",\"landcolor\":\"white\",\"showlakes\":true,\"showland\":true,\"subunitcolor\":\"white\"},\"hoverlabel\":{\"align\":\"left\"},\"hovermode\":\"closest\",\"mapbox\":{\"style\":\"light\"},\"paper_bgcolor\":\"white\",\"plot_bgcolor\":\"white\",\"polar\":{\"angularaxis\":{\"gridcolor\":\"rgb(232,232,232)\",\"linecolor\":\"rgb(36,36,36)\",\"showgrid\":false,\"showline\":true,\"ticks\":\"outside\"},\"bgcolor\":\"white\",\"radialaxis\":{\"gridcolor\":\"rgb(232,232,232)\",\"linecolor\":\"rgb(36,36,36)\",\"showgrid\":false,\"showline\":true,\"ticks\":\"outside\"}},\"scene\":{\"xaxis\":{\"backgroundcolor\":\"white\",\"gridcolor\":\"rgb(232,232,232)\",\"gridwidth\":2,\"linecolor\":\"rgb(36,36,36)\",\"showbackground\":true,\"showgrid\":false,\"showline\":true,\"ticks\":\"outside\",\"zeroline\":false,\"zerolinecolor\":\"rgb(36,36,36)\"},\"yaxis\":{\"backgroundcolor\":\"white\",\"gridcolor\":\"rgb(232,232,232)\",\"gridwidth\":2,\"linecolor\":\"rgb(36,36,36)\",\"showbackground\":true,\"showgrid\":false,\"showline\":true,\"ticks\":\"outside\",\"zeroline\":false,\"zerolinecolor\":\"rgb(36,36,36)\"},\"zaxis\":{\"backgroundcolor\":\"white\",\"gridcolor\":\"rgb(232,232,232)\",\"gridwidth\":2,\"linecolor\":\"rgb(36,36,36)\",\"showbackground\":true,\"showgrid\":false,\"showline\":true,\"ticks\":\"outside\",\"zeroline\":false,\"zerolinecolor\":\"rgb(36,36,36)\"}},\"shapedefaults\":{\"fillcolor\":\"black\",\"line\":{\"width\":0},\"opacity\":0.3},\"ternary\":{\"aaxis\":{\"gridcolor\":\"rgb(232,232,232)\",\"linecolor\":\"rgb(36,36,36)\",\"showgrid\":false,\"showline\":true,\"ticks\":\"outside\"},\"baxis\":{\"gridcolor\":\"rgb(232,232,232)\",\"linecolor\":\"rgb(36,36,36)\",\"showgrid\":false,\"showline\":true,\"ticks\":\"outside\"},\"bgcolor\":\"white\",\"caxis\":{\"gridcolor\":\"rgb(232,232,232)\",\"linecolor\":\"rgb(36,36,36)\",\"showgrid\":false,\"showline\":true,\"ticks\":\"outside\"}},\"title\":{\"x\":0.05},\"xaxis\":{\"automargin\":true,\"gridcolor\":\"rgb(232,232,232)\",\"linecolor\":\"rgb(36,36,36)\",\"showgrid\":false,\"showline\":true,\"ticks\":\"outside\",\"title\":{\"standoff\":15},\"zeroline\":false,\"zerolinecolor\":\"rgb(36,36,36)\"},\"yaxis\":{\"automargin\":true,\"gridcolor\":\"rgb(232,232,232)\",\"linecolor\":\"rgb(36,36,36)\",\"showgrid\":false,\"showline\":true,\"ticks\":\"outside\",\"title\":{\"standoff\":15},\"zeroline\":false,\"zerolinecolor\":\"rgb(36,36,36)\"}}},\"xaxis\":{\"anchor\":\"y\",\"domain\":[0.0,1.0],\"title\":{\"text\":\"Tested on\"},\"showgrid\":true},\"yaxis\":{\"anchor\":\"x\",\"domain\":[0.0,1.0],\"title\":{\"text\":\"c-index\"},\"range\":[0.5,0.8],\"showgrid\":true},\"legend\":{\"title\":{\"text\":\"splits\",\"font\":{\"color\":\"rgba(0,0,0,0)\"}},\"tracegroupgap\":0},\"margin\":{\"t\":60},\"barmode\":\"group\",\"font\":{\"family\":\"Calibri\",\"size\":25},\"bargroupgap\":0.1},                        {\"responsive\": true}                    ).then(function(){\n",
       "                            \n",
       "var gd = document.getElementById('1c426609-a5a4-4d40-8024-c498ce4a901d');\n",
       "var x = new MutationObserver(function (mutations, observer) {{\n",
       "        var display = window.getComputedStyle(gd).display;\n",
       "        if (!display || display === 'none') {{\n",
       "            console.log([gd, 'removed!']);\n",
       "            Plotly.purge(gd);\n",
       "            observer.disconnect();\n",
       "        }}\n",
       "}});\n",
       "\n",
       "// Listen for the removal of the full notebook cells\n",
       "var notebookContainer = gd.closest('#notebook-container');\n",
       "if (notebookContainer) {{\n",
       "    x.observe(notebookContainer, {childList: true});\n",
       "}}\n",
       "\n",
       "// Listen for the clearing of the current output cell\n",
       "var outputEl = gd.closest('.output');\n",
       "if (outputEl) {{\n",
       "    x.observe(outputEl, {childList: true});\n",
       "}}\n",
       "\n",
       "                        })                };                });            </script>        </div>"
      ]
     },
     "metadata": {},
     "output_type": "display_data"
    },
    {
     "data": {
      "application/vnd.plotly.v1+json": {
       "config": {
        "plotlyServerURL": "https://plot.ly"
       },
       "data": [
        {
         "alignmentgroup": "True",
         "hovertemplate": "splits=Single-center<br>Tested on=%{x}<br>c-index=%{y}<extra></extra>",
         "legendgroup": "Single-center",
         "marker": {
          "color": "#FF7F00",
          "pattern": {
           "shape": ""
          }
         },
         "name": "Single-center",
         "offsetgroup": "Single-center",
         "orientation": "v",
         "showlegend": true,
         "textposition": "auto",
         "type": "bar",
         "x": [
          "PROSPER",
          "HEALTHABC",
          "PREDICTOR",
          "HVC",
          "ASCOT",
          "FLEMENGHO"
         ],
         "xaxis": "x",
         "y": [
          0.6225574982545468,
          0.6267195405010773,
          0.6555568759860482,
          0.6177870014088293,
          0.6400124939500448,
          0.68965734861533
         ],
         "yaxis": "y"
        },
        {
         "alignmentgroup": "True",
         "hovertemplate": "splits=Multi-center<br>Tested on=%{x}<br>c-index=%{y}<extra></extra>",
         "legendgroup": "Multi-center",
         "marker": {
          "color": "#FF7F00",
          "pattern": {
           "shape": "/"
          }
         },
         "name": "Multi-center",
         "offsetgroup": "Multi-center",
         "orientation": "v",
         "showlegend": true,
         "textposition": "auto",
         "type": "bar",
         "x": [
          "ASCOT",
          "FLEMENGHO",
          "HEALTHABC",
          "HVC",
          "PREDICTOR",
          "PROSPER"
         ],
         "xaxis": "x",
         "y": [
          0.6949275940754239,
          0.8073538968409892,
          0.6540487548618202,
          0.6697611378383708,
          0.6713951238546653,
          0.6589353942389268
         ],
         "yaxis": "y"
        }
       ],
       "layout": {
        "bargroupgap": 0.1,
        "barmode": "group",
        "font": {
         "family": "Calibri",
         "size": 25
        },
        "legend": {
         "title": {
          "font": {
           "color": "rgba(0,0,0,0)"
          },
          "text": "splits"
         },
         "tracegroupgap": 0
        },
        "margin": {
         "t": 60
        },
        "template": {
         "data": {
          "bar": [
           {
            "error_x": {
             "color": "rgb(36,36,36)"
            },
            "error_y": {
             "color": "rgb(36,36,36)"
            },
            "marker": {
             "line": {
              "color": "white",
              "width": 0.5
             },
             "pattern": {
              "fillmode": "overlay",
              "size": 10,
              "solidity": 0.2
             }
            },
            "type": "bar"
           }
          ],
          "barpolar": [
           {
            "marker": {
             "line": {
              "color": "white",
              "width": 0.5
             },
             "pattern": {
              "fillmode": "overlay",
              "size": 10,
              "solidity": 0.2
             }
            },
            "type": "barpolar"
           }
          ],
          "carpet": [
           {
            "aaxis": {
             "endlinecolor": "rgb(36,36,36)",
             "gridcolor": "white",
             "linecolor": "white",
             "minorgridcolor": "white",
             "startlinecolor": "rgb(36,36,36)"
            },
            "baxis": {
             "endlinecolor": "rgb(36,36,36)",
             "gridcolor": "white",
             "linecolor": "white",
             "minorgridcolor": "white",
             "startlinecolor": "rgb(36,36,36)"
            },
            "type": "carpet"
           }
          ],
          "choropleth": [
           {
            "colorbar": {
             "outlinewidth": 1,
             "tickcolor": "rgb(36,36,36)",
             "ticks": "outside"
            },
            "type": "choropleth"
           }
          ],
          "contour": [
           {
            "colorbar": {
             "outlinewidth": 1,
             "tickcolor": "rgb(36,36,36)",
             "ticks": "outside"
            },
            "colorscale": [
             [
              0,
              "#440154"
             ],
             [
              0.1111111111111111,
              "#482878"
             ],
             [
              0.2222222222222222,
              "#3e4989"
             ],
             [
              0.3333333333333333,
              "#31688e"
             ],
             [
              0.4444444444444444,
              "#26828e"
             ],
             [
              0.5555555555555556,
              "#1f9e89"
             ],
             [
              0.6666666666666666,
              "#35b779"
             ],
             [
              0.7777777777777778,
              "#6ece58"
             ],
             [
              0.8888888888888888,
              "#b5de2b"
             ],
             [
              1,
              "#fde725"
             ]
            ],
            "type": "contour"
           }
          ],
          "contourcarpet": [
           {
            "colorbar": {
             "outlinewidth": 1,
             "tickcolor": "rgb(36,36,36)",
             "ticks": "outside"
            },
            "type": "contourcarpet"
           }
          ],
          "heatmap": [
           {
            "colorbar": {
             "outlinewidth": 1,
             "tickcolor": "rgb(36,36,36)",
             "ticks": "outside"
            },
            "colorscale": [
             [
              0,
              "#440154"
             ],
             [
              0.1111111111111111,
              "#482878"
             ],
             [
              0.2222222222222222,
              "#3e4989"
             ],
             [
              0.3333333333333333,
              "#31688e"
             ],
             [
              0.4444444444444444,
              "#26828e"
             ],
             [
              0.5555555555555556,
              "#1f9e89"
             ],
             [
              0.6666666666666666,
              "#35b779"
             ],
             [
              0.7777777777777778,
              "#6ece58"
             ],
             [
              0.8888888888888888,
              "#b5de2b"
             ],
             [
              1,
              "#fde725"
             ]
            ],
            "type": "heatmap"
           }
          ],
          "heatmapgl": [
           {
            "colorbar": {
             "outlinewidth": 1,
             "tickcolor": "rgb(36,36,36)",
             "ticks": "outside"
            },
            "colorscale": [
             [
              0,
              "#440154"
             ],
             [
              0.1111111111111111,
              "#482878"
             ],
             [
              0.2222222222222222,
              "#3e4989"
             ],
             [
              0.3333333333333333,
              "#31688e"
             ],
             [
              0.4444444444444444,
              "#26828e"
             ],
             [
              0.5555555555555556,
              "#1f9e89"
             ],
             [
              0.6666666666666666,
              "#35b779"
             ],
             [
              0.7777777777777778,
              "#6ece58"
             ],
             [
              0.8888888888888888,
              "#b5de2b"
             ],
             [
              1,
              "#fde725"
             ]
            ],
            "type": "heatmapgl"
           }
          ],
          "histogram": [
           {
            "marker": {
             "line": {
              "color": "white",
              "width": 0.6
             }
            },
            "type": "histogram"
           }
          ],
          "histogram2d": [
           {
            "colorbar": {
             "outlinewidth": 1,
             "tickcolor": "rgb(36,36,36)",
             "ticks": "outside"
            },
            "colorscale": [
             [
              0,
              "#440154"
             ],
             [
              0.1111111111111111,
              "#482878"
             ],
             [
              0.2222222222222222,
              "#3e4989"
             ],
             [
              0.3333333333333333,
              "#31688e"
             ],
             [
              0.4444444444444444,
              "#26828e"
             ],
             [
              0.5555555555555556,
              "#1f9e89"
             ],
             [
              0.6666666666666666,
              "#35b779"
             ],
             [
              0.7777777777777778,
              "#6ece58"
             ],
             [
              0.8888888888888888,
              "#b5de2b"
             ],
             [
              1,
              "#fde725"
             ]
            ],
            "type": "histogram2d"
           }
          ],
          "histogram2dcontour": [
           {
            "colorbar": {
             "outlinewidth": 1,
             "tickcolor": "rgb(36,36,36)",
             "ticks": "outside"
            },
            "colorscale": [
             [
              0,
              "#440154"
             ],
             [
              0.1111111111111111,
              "#482878"
             ],
             [
              0.2222222222222222,
              "#3e4989"
             ],
             [
              0.3333333333333333,
              "#31688e"
             ],
             [
              0.4444444444444444,
              "#26828e"
             ],
             [
              0.5555555555555556,
              "#1f9e89"
             ],
             [
              0.6666666666666666,
              "#35b779"
             ],
             [
              0.7777777777777778,
              "#6ece58"
             ],
             [
              0.8888888888888888,
              "#b5de2b"
             ],
             [
              1,
              "#fde725"
             ]
            ],
            "type": "histogram2dcontour"
           }
          ],
          "mesh3d": [
           {
            "colorbar": {
             "outlinewidth": 1,
             "tickcolor": "rgb(36,36,36)",
             "ticks": "outside"
            },
            "type": "mesh3d"
           }
          ],
          "parcoords": [
           {
            "line": {
             "colorbar": {
              "outlinewidth": 1,
              "tickcolor": "rgb(36,36,36)",
              "ticks": "outside"
             }
            },
            "type": "parcoords"
           }
          ],
          "pie": [
           {
            "automargin": true,
            "type": "pie"
           }
          ],
          "scatter": [
           {
            "fillpattern": {
             "fillmode": "overlay",
             "size": 10,
             "solidity": 0.2
            },
            "type": "scatter"
           }
          ],
          "scatter3d": [
           {
            "line": {
             "colorbar": {
              "outlinewidth": 1,
              "tickcolor": "rgb(36,36,36)",
              "ticks": "outside"
             }
            },
            "marker": {
             "colorbar": {
              "outlinewidth": 1,
              "tickcolor": "rgb(36,36,36)",
              "ticks": "outside"
             }
            },
            "type": "scatter3d"
           }
          ],
          "scattercarpet": [
           {
            "marker": {
             "colorbar": {
              "outlinewidth": 1,
              "tickcolor": "rgb(36,36,36)",
              "ticks": "outside"
             }
            },
            "type": "scattercarpet"
           }
          ],
          "scattergeo": [
           {
            "marker": {
             "colorbar": {
              "outlinewidth": 1,
              "tickcolor": "rgb(36,36,36)",
              "ticks": "outside"
             }
            },
            "type": "scattergeo"
           }
          ],
          "scattergl": [
           {
            "marker": {
             "colorbar": {
              "outlinewidth": 1,
              "tickcolor": "rgb(36,36,36)",
              "ticks": "outside"
             }
            },
            "type": "scattergl"
           }
          ],
          "scattermapbox": [
           {
            "marker": {
             "colorbar": {
              "outlinewidth": 1,
              "tickcolor": "rgb(36,36,36)",
              "ticks": "outside"
             }
            },
            "type": "scattermapbox"
           }
          ],
          "scatterpolar": [
           {
            "marker": {
             "colorbar": {
              "outlinewidth": 1,
              "tickcolor": "rgb(36,36,36)",
              "ticks": "outside"
             }
            },
            "type": "scatterpolar"
           }
          ],
          "scatterpolargl": [
           {
            "marker": {
             "colorbar": {
              "outlinewidth": 1,
              "tickcolor": "rgb(36,36,36)",
              "ticks": "outside"
             }
            },
            "type": "scatterpolargl"
           }
          ],
          "scatterternary": [
           {
            "marker": {
             "colorbar": {
              "outlinewidth": 1,
              "tickcolor": "rgb(36,36,36)",
              "ticks": "outside"
             }
            },
            "type": "scatterternary"
           }
          ],
          "surface": [
           {
            "colorbar": {
             "outlinewidth": 1,
             "tickcolor": "rgb(36,36,36)",
             "ticks": "outside"
            },
            "colorscale": [
             [
              0,
              "#440154"
             ],
             [
              0.1111111111111111,
              "#482878"
             ],
             [
              0.2222222222222222,
              "#3e4989"
             ],
             [
              0.3333333333333333,
              "#31688e"
             ],
             [
              0.4444444444444444,
              "#26828e"
             ],
             [
              0.5555555555555556,
              "#1f9e89"
             ],
             [
              0.6666666666666666,
              "#35b779"
             ],
             [
              0.7777777777777778,
              "#6ece58"
             ],
             [
              0.8888888888888888,
              "#b5de2b"
             ],
             [
              1,
              "#fde725"
             ]
            ],
            "type": "surface"
           }
          ],
          "table": [
           {
            "cells": {
             "fill": {
              "color": "rgb(237,237,237)"
             },
             "line": {
              "color": "white"
             }
            },
            "header": {
             "fill": {
              "color": "rgb(217,217,217)"
             },
             "line": {
              "color": "white"
             }
            },
            "type": "table"
           }
          ]
         },
         "layout": {
          "annotationdefaults": {
           "arrowhead": 0,
           "arrowwidth": 1
          },
          "autotypenumbers": "strict",
          "coloraxis": {
           "colorbar": {
            "outlinewidth": 1,
            "tickcolor": "rgb(36,36,36)",
            "ticks": "outside"
           }
          },
          "colorscale": {
           "diverging": [
            [
             0,
             "rgb(103,0,31)"
            ],
            [
             0.1,
             "rgb(178,24,43)"
            ],
            [
             0.2,
             "rgb(214,96,77)"
            ],
            [
             0.3,
             "rgb(244,165,130)"
            ],
            [
             0.4,
             "rgb(253,219,199)"
            ],
            [
             0.5,
             "rgb(247,247,247)"
            ],
            [
             0.6,
             "rgb(209,229,240)"
            ],
            [
             0.7,
             "rgb(146,197,222)"
            ],
            [
             0.8,
             "rgb(67,147,195)"
            ],
            [
             0.9,
             "rgb(33,102,172)"
            ],
            [
             1,
             "rgb(5,48,97)"
            ]
           ],
           "sequential": [
            [
             0,
             "#440154"
            ],
            [
             0.1111111111111111,
             "#482878"
            ],
            [
             0.2222222222222222,
             "#3e4989"
            ],
            [
             0.3333333333333333,
             "#31688e"
            ],
            [
             0.4444444444444444,
             "#26828e"
            ],
            [
             0.5555555555555556,
             "#1f9e89"
            ],
            [
             0.6666666666666666,
             "#35b779"
            ],
            [
             0.7777777777777778,
             "#6ece58"
            ],
            [
             0.8888888888888888,
             "#b5de2b"
            ],
            [
             1,
             "#fde725"
            ]
           ],
           "sequentialminus": [
            [
             0,
             "#440154"
            ],
            [
             0.1111111111111111,
             "#482878"
            ],
            [
             0.2222222222222222,
             "#3e4989"
            ],
            [
             0.3333333333333333,
             "#31688e"
            ],
            [
             0.4444444444444444,
             "#26828e"
            ],
            [
             0.5555555555555556,
             "#1f9e89"
            ],
            [
             0.6666666666666666,
             "#35b779"
            ],
            [
             0.7777777777777778,
             "#6ece58"
            ],
            [
             0.8888888888888888,
             "#b5de2b"
            ],
            [
             1,
             "#fde725"
            ]
           ]
          },
          "colorway": [
           "#1F77B4",
           "#FF7F0E",
           "#2CA02C",
           "#D62728",
           "#9467BD",
           "#8C564B",
           "#E377C2",
           "#7F7F7F",
           "#BCBD22",
           "#17BECF"
          ],
          "font": {
           "color": "rgb(36,36,36)"
          },
          "geo": {
           "bgcolor": "white",
           "lakecolor": "white",
           "landcolor": "white",
           "showlakes": true,
           "showland": true,
           "subunitcolor": "white"
          },
          "hoverlabel": {
           "align": "left"
          },
          "hovermode": "closest",
          "mapbox": {
           "style": "light"
          },
          "paper_bgcolor": "white",
          "plot_bgcolor": "white",
          "polar": {
           "angularaxis": {
            "gridcolor": "rgb(232,232,232)",
            "linecolor": "rgb(36,36,36)",
            "showgrid": false,
            "showline": true,
            "ticks": "outside"
           },
           "bgcolor": "white",
           "radialaxis": {
            "gridcolor": "rgb(232,232,232)",
            "linecolor": "rgb(36,36,36)",
            "showgrid": false,
            "showline": true,
            "ticks": "outside"
           }
          },
          "scene": {
           "xaxis": {
            "backgroundcolor": "white",
            "gridcolor": "rgb(232,232,232)",
            "gridwidth": 2,
            "linecolor": "rgb(36,36,36)",
            "showbackground": true,
            "showgrid": false,
            "showline": true,
            "ticks": "outside",
            "zeroline": false,
            "zerolinecolor": "rgb(36,36,36)"
           },
           "yaxis": {
            "backgroundcolor": "white",
            "gridcolor": "rgb(232,232,232)",
            "gridwidth": 2,
            "linecolor": "rgb(36,36,36)",
            "showbackground": true,
            "showgrid": false,
            "showline": true,
            "ticks": "outside",
            "zeroline": false,
            "zerolinecolor": "rgb(36,36,36)"
           },
           "zaxis": {
            "backgroundcolor": "white",
            "gridcolor": "rgb(232,232,232)",
            "gridwidth": 2,
            "linecolor": "rgb(36,36,36)",
            "showbackground": true,
            "showgrid": false,
            "showline": true,
            "ticks": "outside",
            "zeroline": false,
            "zerolinecolor": "rgb(36,36,36)"
           }
          },
          "shapedefaults": {
           "fillcolor": "black",
           "line": {
            "width": 0
           },
           "opacity": 0.3
          },
          "ternary": {
           "aaxis": {
            "gridcolor": "rgb(232,232,232)",
            "linecolor": "rgb(36,36,36)",
            "showgrid": false,
            "showline": true,
            "ticks": "outside"
           },
           "baxis": {
            "gridcolor": "rgb(232,232,232)",
            "linecolor": "rgb(36,36,36)",
            "showgrid": false,
            "showline": true,
            "ticks": "outside"
           },
           "bgcolor": "white",
           "caxis": {
            "gridcolor": "rgb(232,232,232)",
            "linecolor": "rgb(36,36,36)",
            "showgrid": false,
            "showline": true,
            "ticks": "outside"
           }
          },
          "title": {
           "x": 0.05
          },
          "xaxis": {
           "automargin": true,
           "gridcolor": "rgb(232,232,232)",
           "linecolor": "rgb(36,36,36)",
           "showgrid": false,
           "showline": true,
           "ticks": "outside",
           "title": {
            "standoff": 15
           },
           "zeroline": false,
           "zerolinecolor": "rgb(36,36,36)"
          },
          "yaxis": {
           "automargin": true,
           "gridcolor": "rgb(232,232,232)",
           "linecolor": "rgb(36,36,36)",
           "showgrid": false,
           "showline": true,
           "ticks": "outside",
           "title": {
            "standoff": 15
           },
           "zeroline": false,
           "zerolinecolor": "rgb(36,36,36)"
          }
         }
        },
        "xaxis": {
         "anchor": "y",
         "domain": [
          0,
          1
         ],
         "showgrid": true,
         "title": {
          "text": "Tested on"
         }
        },
        "yaxis": {
         "anchor": "x",
         "domain": [
          0,
          1
         ],
         "range": [
          0.5,
          0.8
         ],
         "showgrid": true,
         "title": {
          "text": "c-index"
         }
        }
       }
      },
      "text/html": [
       "<div>                            <div id=\"8c9196c1-12ef-42d5-90c2-b99acf97379e\" class=\"plotly-graph-div\" style=\"height:525px; width:100%;\"></div>            <script type=\"text/javascript\">                require([\"plotly\"], function(Plotly) {                    window.PLOTLYENV=window.PLOTLYENV || {};                                    if (document.getElementById(\"8c9196c1-12ef-42d5-90c2-b99acf97379e\")) {                    Plotly.newPlot(                        \"8c9196c1-12ef-42d5-90c2-b99acf97379e\",                        [{\"alignmentgroup\":\"True\",\"hovertemplate\":\"splits=Single-center<br>Tested on=%{x}<br>c-index=%{y}<extra></extra>\",\"legendgroup\":\"Single-center\",\"marker\":{\"color\":\"#FF7F00\",\"pattern\":{\"shape\":\"\"}},\"name\":\"Single-center\",\"offsetgroup\":\"Single-center\",\"orientation\":\"v\",\"showlegend\":true,\"textposition\":\"auto\",\"x\":[\"PROSPER\",\"HEALTHABC\",\"PREDICTOR\",\"HVC\",\"ASCOT\",\"FLEMENGHO\"],\"xaxis\":\"x\",\"y\":[0.6225574982545468,0.6267195405010773,0.6555568759860482,0.6177870014088293,0.6400124939500448,0.68965734861533],\"yaxis\":\"y\",\"type\":\"bar\"},{\"alignmentgroup\":\"True\",\"hovertemplate\":\"splits=Multi-center<br>Tested on=%{x}<br>c-index=%{y}<extra></extra>\",\"legendgroup\":\"Multi-center\",\"marker\":{\"color\":\"#FF7F00\",\"pattern\":{\"shape\":\"/\"}},\"name\":\"Multi-center\",\"offsetgroup\":\"Multi-center\",\"orientation\":\"v\",\"showlegend\":true,\"textposition\":\"auto\",\"x\":[\"ASCOT\",\"FLEMENGHO\",\"HEALTHABC\",\"HVC\",\"PREDICTOR\",\"PROSPER\"],\"xaxis\":\"x\",\"y\":[0.6949275940754239,0.8073538968409892,0.6540487548618202,0.6697611378383708,0.6713951238546653,0.6589353942389268],\"yaxis\":\"y\",\"type\":\"bar\"}],                        {\"template\":{\"data\":{\"barpolar\":[{\"marker\":{\"line\":{\"color\":\"white\",\"width\":0.5},\"pattern\":{\"fillmode\":\"overlay\",\"size\":10,\"solidity\":0.2}},\"type\":\"barpolar\"}],\"bar\":[{\"error_x\":{\"color\":\"rgb(36,36,36)\"},\"error_y\":{\"color\":\"rgb(36,36,36)\"},\"marker\":{\"line\":{\"color\":\"white\",\"width\":0.5},\"pattern\":{\"fillmode\":\"overlay\",\"size\":10,\"solidity\":0.2}},\"type\":\"bar\"}],\"carpet\":[{\"aaxis\":{\"endlinecolor\":\"rgb(36,36,36)\",\"gridcolor\":\"white\",\"linecolor\":\"white\",\"minorgridcolor\":\"white\",\"startlinecolor\":\"rgb(36,36,36)\"},\"baxis\":{\"endlinecolor\":\"rgb(36,36,36)\",\"gridcolor\":\"white\",\"linecolor\":\"white\",\"minorgridcolor\":\"white\",\"startlinecolor\":\"rgb(36,36,36)\"},\"type\":\"carpet\"}],\"choropleth\":[{\"colorbar\":{\"outlinewidth\":1,\"tickcolor\":\"rgb(36,36,36)\",\"ticks\":\"outside\"},\"type\":\"choropleth\"}],\"contourcarpet\":[{\"colorbar\":{\"outlinewidth\":1,\"tickcolor\":\"rgb(36,36,36)\",\"ticks\":\"outside\"},\"type\":\"contourcarpet\"}],\"contour\":[{\"colorbar\":{\"outlinewidth\":1,\"tickcolor\":\"rgb(36,36,36)\",\"ticks\":\"outside\"},\"colorscale\":[[0.0,\"#440154\"],[0.1111111111111111,\"#482878\"],[0.2222222222222222,\"#3e4989\"],[0.3333333333333333,\"#31688e\"],[0.4444444444444444,\"#26828e\"],[0.5555555555555556,\"#1f9e89\"],[0.6666666666666666,\"#35b779\"],[0.7777777777777778,\"#6ece58\"],[0.8888888888888888,\"#b5de2b\"],[1.0,\"#fde725\"]],\"type\":\"contour\"}],\"heatmapgl\":[{\"colorbar\":{\"outlinewidth\":1,\"tickcolor\":\"rgb(36,36,36)\",\"ticks\":\"outside\"},\"colorscale\":[[0.0,\"#440154\"],[0.1111111111111111,\"#482878\"],[0.2222222222222222,\"#3e4989\"],[0.3333333333333333,\"#31688e\"],[0.4444444444444444,\"#26828e\"],[0.5555555555555556,\"#1f9e89\"],[0.6666666666666666,\"#35b779\"],[0.7777777777777778,\"#6ece58\"],[0.8888888888888888,\"#b5de2b\"],[1.0,\"#fde725\"]],\"type\":\"heatmapgl\"}],\"heatmap\":[{\"colorbar\":{\"outlinewidth\":1,\"tickcolor\":\"rgb(36,36,36)\",\"ticks\":\"outside\"},\"colorscale\":[[0.0,\"#440154\"],[0.1111111111111111,\"#482878\"],[0.2222222222222222,\"#3e4989\"],[0.3333333333333333,\"#31688e\"],[0.4444444444444444,\"#26828e\"],[0.5555555555555556,\"#1f9e89\"],[0.6666666666666666,\"#35b779\"],[0.7777777777777778,\"#6ece58\"],[0.8888888888888888,\"#b5de2b\"],[1.0,\"#fde725\"]],\"type\":\"heatmap\"}],\"histogram2dcontour\":[{\"colorbar\":{\"outlinewidth\":1,\"tickcolor\":\"rgb(36,36,36)\",\"ticks\":\"outside\"},\"colorscale\":[[0.0,\"#440154\"],[0.1111111111111111,\"#482878\"],[0.2222222222222222,\"#3e4989\"],[0.3333333333333333,\"#31688e\"],[0.4444444444444444,\"#26828e\"],[0.5555555555555556,\"#1f9e89\"],[0.6666666666666666,\"#35b779\"],[0.7777777777777778,\"#6ece58\"],[0.8888888888888888,\"#b5de2b\"],[1.0,\"#fde725\"]],\"type\":\"histogram2dcontour\"}],\"histogram2d\":[{\"colorbar\":{\"outlinewidth\":1,\"tickcolor\":\"rgb(36,36,36)\",\"ticks\":\"outside\"},\"colorscale\":[[0.0,\"#440154\"],[0.1111111111111111,\"#482878\"],[0.2222222222222222,\"#3e4989\"],[0.3333333333333333,\"#31688e\"],[0.4444444444444444,\"#26828e\"],[0.5555555555555556,\"#1f9e89\"],[0.6666666666666666,\"#35b779\"],[0.7777777777777778,\"#6ece58\"],[0.8888888888888888,\"#b5de2b\"],[1.0,\"#fde725\"]],\"type\":\"histogram2d\"}],\"histogram\":[{\"marker\":{\"line\":{\"color\":\"white\",\"width\":0.6}},\"type\":\"histogram\"}],\"mesh3d\":[{\"colorbar\":{\"outlinewidth\":1,\"tickcolor\":\"rgb(36,36,36)\",\"ticks\":\"outside\"},\"type\":\"mesh3d\"}],\"parcoords\":[{\"line\":{\"colorbar\":{\"outlinewidth\":1,\"tickcolor\":\"rgb(36,36,36)\",\"ticks\":\"outside\"}},\"type\":\"parcoords\"}],\"pie\":[{\"automargin\":true,\"type\":\"pie\"}],\"scatter3d\":[{\"line\":{\"colorbar\":{\"outlinewidth\":1,\"tickcolor\":\"rgb(36,36,36)\",\"ticks\":\"outside\"}},\"marker\":{\"colorbar\":{\"outlinewidth\":1,\"tickcolor\":\"rgb(36,36,36)\",\"ticks\":\"outside\"}},\"type\":\"scatter3d\"}],\"scattercarpet\":[{\"marker\":{\"colorbar\":{\"outlinewidth\":1,\"tickcolor\":\"rgb(36,36,36)\",\"ticks\":\"outside\"}},\"type\":\"scattercarpet\"}],\"scattergeo\":[{\"marker\":{\"colorbar\":{\"outlinewidth\":1,\"tickcolor\":\"rgb(36,36,36)\",\"ticks\":\"outside\"}},\"type\":\"scattergeo\"}],\"scattergl\":[{\"marker\":{\"colorbar\":{\"outlinewidth\":1,\"tickcolor\":\"rgb(36,36,36)\",\"ticks\":\"outside\"}},\"type\":\"scattergl\"}],\"scattermapbox\":[{\"marker\":{\"colorbar\":{\"outlinewidth\":1,\"tickcolor\":\"rgb(36,36,36)\",\"ticks\":\"outside\"}},\"type\":\"scattermapbox\"}],\"scatterpolargl\":[{\"marker\":{\"colorbar\":{\"outlinewidth\":1,\"tickcolor\":\"rgb(36,36,36)\",\"ticks\":\"outside\"}},\"type\":\"scatterpolargl\"}],\"scatterpolar\":[{\"marker\":{\"colorbar\":{\"outlinewidth\":1,\"tickcolor\":\"rgb(36,36,36)\",\"ticks\":\"outside\"}},\"type\":\"scatterpolar\"}],\"scatter\":[{\"fillpattern\":{\"fillmode\":\"overlay\",\"size\":10,\"solidity\":0.2},\"type\":\"scatter\"}],\"scatterternary\":[{\"marker\":{\"colorbar\":{\"outlinewidth\":1,\"tickcolor\":\"rgb(36,36,36)\",\"ticks\":\"outside\"}},\"type\":\"scatterternary\"}],\"surface\":[{\"colorbar\":{\"outlinewidth\":1,\"tickcolor\":\"rgb(36,36,36)\",\"ticks\":\"outside\"},\"colorscale\":[[0.0,\"#440154\"],[0.1111111111111111,\"#482878\"],[0.2222222222222222,\"#3e4989\"],[0.3333333333333333,\"#31688e\"],[0.4444444444444444,\"#26828e\"],[0.5555555555555556,\"#1f9e89\"],[0.6666666666666666,\"#35b779\"],[0.7777777777777778,\"#6ece58\"],[0.8888888888888888,\"#b5de2b\"],[1.0,\"#fde725\"]],\"type\":\"surface\"}],\"table\":[{\"cells\":{\"fill\":{\"color\":\"rgb(237,237,237)\"},\"line\":{\"color\":\"white\"}},\"header\":{\"fill\":{\"color\":\"rgb(217,217,217)\"},\"line\":{\"color\":\"white\"}},\"type\":\"table\"}]},\"layout\":{\"annotationdefaults\":{\"arrowhead\":0,\"arrowwidth\":1},\"autotypenumbers\":\"strict\",\"coloraxis\":{\"colorbar\":{\"outlinewidth\":1,\"tickcolor\":\"rgb(36,36,36)\",\"ticks\":\"outside\"}},\"colorscale\":{\"diverging\":[[0.0,\"rgb(103,0,31)\"],[0.1,\"rgb(178,24,43)\"],[0.2,\"rgb(214,96,77)\"],[0.3,\"rgb(244,165,130)\"],[0.4,\"rgb(253,219,199)\"],[0.5,\"rgb(247,247,247)\"],[0.6,\"rgb(209,229,240)\"],[0.7,\"rgb(146,197,222)\"],[0.8,\"rgb(67,147,195)\"],[0.9,\"rgb(33,102,172)\"],[1.0,\"rgb(5,48,97)\"]],\"sequential\":[[0.0,\"#440154\"],[0.1111111111111111,\"#482878\"],[0.2222222222222222,\"#3e4989\"],[0.3333333333333333,\"#31688e\"],[0.4444444444444444,\"#26828e\"],[0.5555555555555556,\"#1f9e89\"],[0.6666666666666666,\"#35b779\"],[0.7777777777777778,\"#6ece58\"],[0.8888888888888888,\"#b5de2b\"],[1.0,\"#fde725\"]],\"sequentialminus\":[[0.0,\"#440154\"],[0.1111111111111111,\"#482878\"],[0.2222222222222222,\"#3e4989\"],[0.3333333333333333,\"#31688e\"],[0.4444444444444444,\"#26828e\"],[0.5555555555555556,\"#1f9e89\"],[0.6666666666666666,\"#35b779\"],[0.7777777777777778,\"#6ece58\"],[0.8888888888888888,\"#b5de2b\"],[1.0,\"#fde725\"]]},\"colorway\":[\"#1F77B4\",\"#FF7F0E\",\"#2CA02C\",\"#D62728\",\"#9467BD\",\"#8C564B\",\"#E377C2\",\"#7F7F7F\",\"#BCBD22\",\"#17BECF\"],\"font\":{\"color\":\"rgb(36,36,36)\"},\"geo\":{\"bgcolor\":\"white\",\"lakecolor\":\"white\",\"landcolor\":\"white\",\"showlakes\":true,\"showland\":true,\"subunitcolor\":\"white\"},\"hoverlabel\":{\"align\":\"left\"},\"hovermode\":\"closest\",\"mapbox\":{\"style\":\"light\"},\"paper_bgcolor\":\"white\",\"plot_bgcolor\":\"white\",\"polar\":{\"angularaxis\":{\"gridcolor\":\"rgb(232,232,232)\",\"linecolor\":\"rgb(36,36,36)\",\"showgrid\":false,\"showline\":true,\"ticks\":\"outside\"},\"bgcolor\":\"white\",\"radialaxis\":{\"gridcolor\":\"rgb(232,232,232)\",\"linecolor\":\"rgb(36,36,36)\",\"showgrid\":false,\"showline\":true,\"ticks\":\"outside\"}},\"scene\":{\"xaxis\":{\"backgroundcolor\":\"white\",\"gridcolor\":\"rgb(232,232,232)\",\"gridwidth\":2,\"linecolor\":\"rgb(36,36,36)\",\"showbackground\":true,\"showgrid\":false,\"showline\":true,\"ticks\":\"outside\",\"zeroline\":false,\"zerolinecolor\":\"rgb(36,36,36)\"},\"yaxis\":{\"backgroundcolor\":\"white\",\"gridcolor\":\"rgb(232,232,232)\",\"gridwidth\":2,\"linecolor\":\"rgb(36,36,36)\",\"showbackground\":true,\"showgrid\":false,\"showline\":true,\"ticks\":\"outside\",\"zeroline\":false,\"zerolinecolor\":\"rgb(36,36,36)\"},\"zaxis\":{\"backgroundcolor\":\"white\",\"gridcolor\":\"rgb(232,232,232)\",\"gridwidth\":2,\"linecolor\":\"rgb(36,36,36)\",\"showbackground\":true,\"showgrid\":false,\"showline\":true,\"ticks\":\"outside\",\"zeroline\":false,\"zerolinecolor\":\"rgb(36,36,36)\"}},\"shapedefaults\":{\"fillcolor\":\"black\",\"line\":{\"width\":0},\"opacity\":0.3},\"ternary\":{\"aaxis\":{\"gridcolor\":\"rgb(232,232,232)\",\"linecolor\":\"rgb(36,36,36)\",\"showgrid\":false,\"showline\":true,\"ticks\":\"outside\"},\"baxis\":{\"gridcolor\":\"rgb(232,232,232)\",\"linecolor\":\"rgb(36,36,36)\",\"showgrid\":false,\"showline\":true,\"ticks\":\"outside\"},\"bgcolor\":\"white\",\"caxis\":{\"gridcolor\":\"rgb(232,232,232)\",\"linecolor\":\"rgb(36,36,36)\",\"showgrid\":false,\"showline\":true,\"ticks\":\"outside\"}},\"title\":{\"x\":0.05},\"xaxis\":{\"automargin\":true,\"gridcolor\":\"rgb(232,232,232)\",\"linecolor\":\"rgb(36,36,36)\",\"showgrid\":false,\"showline\":true,\"ticks\":\"outside\",\"title\":{\"standoff\":15},\"zeroline\":false,\"zerolinecolor\":\"rgb(36,36,36)\"},\"yaxis\":{\"automargin\":true,\"gridcolor\":\"rgb(232,232,232)\",\"linecolor\":\"rgb(36,36,36)\",\"showgrid\":false,\"showline\":true,\"ticks\":\"outside\",\"title\":{\"standoff\":15},\"zeroline\":false,\"zerolinecolor\":\"rgb(36,36,36)\"}}},\"xaxis\":{\"anchor\":\"y\",\"domain\":[0.0,1.0],\"title\":{\"text\":\"Tested on\"},\"showgrid\":true},\"yaxis\":{\"anchor\":\"x\",\"domain\":[0.0,1.0],\"title\":{\"text\":\"c-index\"},\"range\":[0.5,0.8],\"showgrid\":true},\"legend\":{\"title\":{\"text\":\"splits\",\"font\":{\"color\":\"rgba(0,0,0,0)\"}},\"tracegroupgap\":0},\"margin\":{\"t\":60},\"barmode\":\"group\",\"font\":{\"family\":\"Calibri\",\"size\":25},\"bargroupgap\":0.1},                        {\"responsive\": true}                    ).then(function(){\n",
       "                            \n",
       "var gd = document.getElementById('8c9196c1-12ef-42d5-90c2-b99acf97379e');\n",
       "var x = new MutationObserver(function (mutations, observer) {{\n",
       "        var display = window.getComputedStyle(gd).display;\n",
       "        if (!display || display === 'none') {{\n",
       "            console.log([gd, 'removed!']);\n",
       "            Plotly.purge(gd);\n",
       "            observer.disconnect();\n",
       "        }}\n",
       "}});\n",
       "\n",
       "// Listen for the removal of the full notebook cells\n",
       "var notebookContainer = gd.closest('#notebook-container');\n",
       "if (notebookContainer) {{\n",
       "    x.observe(notebookContainer, {childList: true});\n",
       "}}\n",
       "\n",
       "// Listen for the clearing of the current output cell\n",
       "var outputEl = gd.closest('.output');\n",
       "if (outputEl) {{\n",
       "    x.observe(outputEl, {childList: true});\n",
       "}}\n",
       "\n",
       "                        })                };                });            </script>        </div>"
      ]
     },
     "metadata": {},
     "output_type": "display_data"
    }
   ],
   "source": [
    "from hcve_lib.visualisation import setup_plotly_style\n",
    "\n",
    "labels = {\n",
    "    \"mean\": \"c-index\",\n",
    "    'test_cohort': 'Tested on'\n",
    "}\n",
    "lco_lm_comparison_coxnet = lco_lm_comparison[lco_lm_comparison['method_name'] == 'coxnet']\n",
    "\n",
    "fig = px.bar(\n",
    "    lco_lm_comparison_coxnet,\n",
    "    x='test_cohort',\n",
    "    y='mean',\n",
    "    barmode='group',\n",
    "    range_y=[0.5, 0.8],\n",
    "    labels=labels,\n",
    "    pattern_shape='splits',\n",
    ")\n",
    "fig.update_traces(marker_color='#4194D9')\n",
    "setup_plotly_style(fig)\n",
    "fig.write_image('./output/coxnet_lm_lco.svg')\n",
    "fig.show()\n",
    "\n",
    "lco_lm_comparison_gb = lco_lm_comparison[lco_lm_comparison['method_name'] == 'gb']\n",
    "\n",
    "fig = px.bar(\n",
    "    lco_lm_comparison_gb,\n",
    "    x='test_cohort',\n",
    "    y='mean',\n",
    "    color_continuous_scale='color',\n",
    "    barmode='group',\n",
    "    range_y=[0.5, 0.8],\n",
    "    pattern_shape='splits',\n",
    "    labels=labels,\n",
    ")\n",
    "fig.update_traces(marker_color='#FF7F00')\n",
    "setup_plotly_style(fig)\n",
    "fig.write_image('./output/gb_lm_lco.svg')\n",
    "fig.show()"
   ]
  },
  {
   "cell_type": "markdown",
   "metadata": {},
   "source": [
    "## c-index, merged per method, unweighted"
   ]
  },
  {
   "cell_type": "code",
   "execution_count": 10,
   "metadata": {
    "scrolled": false
   },
   "outputs": [],
   "source": [
    "merged_prediction = valmap(\n",
    "    lambda group_id: merge_predictions(average_group_scores(load_group_results(group_id))),\n",
    "    GROUPS_LCO_MORE_METHODS,\n",
    ")\n",
    "\n",
    "metrics_merged = compute_metric_result(\n",
    "    CIndex(),\n",
    "    y,\n",
    "    merged_prediction,\n",
    ")"
   ]
  },
  {
   "cell_type": "code",
   "execution_count": 11,
   "metadata": {},
   "outputs": [
    {
     "data": {
      "text/plain": [
       "{'coxnet': 0.764451309303184,\n",
       " 'gb': 0.7396042960526062,\n",
       " 'pcp_hf': 0.6892358186151134,\n",
       " 'stacking': 0.5466481812768551,\n",
       " 'svm': 0.6290238453812033}"
      ]
     },
     "execution_count": 11,
     "metadata": {},
     "output_type": "execute_result"
    }
   ],
   "source": [
    "metrics_merged"
   ]
  },
  {
   "cell_type": "code",
   "execution_count": 12,
   "metadata": {
    "scrolled": false
   },
   "outputs": [
    {
     "data": {
      "application/vnd.plotly.v1+json": {
       "config": {
        "plotlyServerURL": "https://plot.ly"
       },
       "data": [
        {
         "alignmentgroup": "True",
         "hovertemplate": "variable=metric<br>index=%{x}<br>value=%{y}<extra></extra>",
         "legendgroup": "metric",
         "marker": {
          "color": "rgb(102, 197, 204)",
          "pattern": {
           "shape": ""
          }
         },
         "name": "metric",
         "offsetgroup": "metric",
         "orientation": "v",
         "showlegend": true,
         "textposition": "auto",
         "type": "bar",
         "x": [
          "coxnet",
          "gb",
          "pcp_hf",
          "stacking",
          "svm"
         ],
         "xaxis": "x",
         "y": [
          0.764451309303184,
          0.7396042960526062,
          0.6892358186151134,
          0.5466481812768551,
          0.6290238453812033
         ],
         "yaxis": "y"
        }
       ],
       "layout": {
        "bargroupgap": 0.1,
        "barmode": "relative",
        "font": {
         "family": "Calibri",
         "size": 25
        },
        "legend": {
         "title": {
          "font": {
           "color": "rgba(0,0,0,0)"
          },
          "text": "variable"
         },
         "tracegroupgap": 0
        },
        "margin": {
         "t": 60
        },
        "template": {
         "data": {
          "bar": [
           {
            "error_x": {
             "color": "rgb(36,36,36)"
            },
            "error_y": {
             "color": "rgb(36,36,36)"
            },
            "marker": {
             "line": {
              "color": "white",
              "width": 0.5
             },
             "pattern": {
              "fillmode": "overlay",
              "size": 10,
              "solidity": 0.2
             }
            },
            "type": "bar"
           }
          ],
          "barpolar": [
           {
            "marker": {
             "line": {
              "color": "white",
              "width": 0.5
             },
             "pattern": {
              "fillmode": "overlay",
              "size": 10,
              "solidity": 0.2
             }
            },
            "type": "barpolar"
           }
          ],
          "carpet": [
           {
            "aaxis": {
             "endlinecolor": "rgb(36,36,36)",
             "gridcolor": "white",
             "linecolor": "white",
             "minorgridcolor": "white",
             "startlinecolor": "rgb(36,36,36)"
            },
            "baxis": {
             "endlinecolor": "rgb(36,36,36)",
             "gridcolor": "white",
             "linecolor": "white",
             "minorgridcolor": "white",
             "startlinecolor": "rgb(36,36,36)"
            },
            "type": "carpet"
           }
          ],
          "choropleth": [
           {
            "colorbar": {
             "outlinewidth": 1,
             "tickcolor": "rgb(36,36,36)",
             "ticks": "outside"
            },
            "type": "choropleth"
           }
          ],
          "contour": [
           {
            "colorbar": {
             "outlinewidth": 1,
             "tickcolor": "rgb(36,36,36)",
             "ticks": "outside"
            },
            "colorscale": [
             [
              0,
              "#440154"
             ],
             [
              0.1111111111111111,
              "#482878"
             ],
             [
              0.2222222222222222,
              "#3e4989"
             ],
             [
              0.3333333333333333,
              "#31688e"
             ],
             [
              0.4444444444444444,
              "#26828e"
             ],
             [
              0.5555555555555556,
              "#1f9e89"
             ],
             [
              0.6666666666666666,
              "#35b779"
             ],
             [
              0.7777777777777778,
              "#6ece58"
             ],
             [
              0.8888888888888888,
              "#b5de2b"
             ],
             [
              1,
              "#fde725"
             ]
            ],
            "type": "contour"
           }
          ],
          "contourcarpet": [
           {
            "colorbar": {
             "outlinewidth": 1,
             "tickcolor": "rgb(36,36,36)",
             "ticks": "outside"
            },
            "type": "contourcarpet"
           }
          ],
          "heatmap": [
           {
            "colorbar": {
             "outlinewidth": 1,
             "tickcolor": "rgb(36,36,36)",
             "ticks": "outside"
            },
            "colorscale": [
             [
              0,
              "#440154"
             ],
             [
              0.1111111111111111,
              "#482878"
             ],
             [
              0.2222222222222222,
              "#3e4989"
             ],
             [
              0.3333333333333333,
              "#31688e"
             ],
             [
              0.4444444444444444,
              "#26828e"
             ],
             [
              0.5555555555555556,
              "#1f9e89"
             ],
             [
              0.6666666666666666,
              "#35b779"
             ],
             [
              0.7777777777777778,
              "#6ece58"
             ],
             [
              0.8888888888888888,
              "#b5de2b"
             ],
             [
              1,
              "#fde725"
             ]
            ],
            "type": "heatmap"
           }
          ],
          "heatmapgl": [
           {
            "colorbar": {
             "outlinewidth": 1,
             "tickcolor": "rgb(36,36,36)",
             "ticks": "outside"
            },
            "colorscale": [
             [
              0,
              "#440154"
             ],
             [
              0.1111111111111111,
              "#482878"
             ],
             [
              0.2222222222222222,
              "#3e4989"
             ],
             [
              0.3333333333333333,
              "#31688e"
             ],
             [
              0.4444444444444444,
              "#26828e"
             ],
             [
              0.5555555555555556,
              "#1f9e89"
             ],
             [
              0.6666666666666666,
              "#35b779"
             ],
             [
              0.7777777777777778,
              "#6ece58"
             ],
             [
              0.8888888888888888,
              "#b5de2b"
             ],
             [
              1,
              "#fde725"
             ]
            ],
            "type": "heatmapgl"
           }
          ],
          "histogram": [
           {
            "marker": {
             "line": {
              "color": "white",
              "width": 0.6
             }
            },
            "type": "histogram"
           }
          ],
          "histogram2d": [
           {
            "colorbar": {
             "outlinewidth": 1,
             "tickcolor": "rgb(36,36,36)",
             "ticks": "outside"
            },
            "colorscale": [
             [
              0,
              "#440154"
             ],
             [
              0.1111111111111111,
              "#482878"
             ],
             [
              0.2222222222222222,
              "#3e4989"
             ],
             [
              0.3333333333333333,
              "#31688e"
             ],
             [
              0.4444444444444444,
              "#26828e"
             ],
             [
              0.5555555555555556,
              "#1f9e89"
             ],
             [
              0.6666666666666666,
              "#35b779"
             ],
             [
              0.7777777777777778,
              "#6ece58"
             ],
             [
              0.8888888888888888,
              "#b5de2b"
             ],
             [
              1,
              "#fde725"
             ]
            ],
            "type": "histogram2d"
           }
          ],
          "histogram2dcontour": [
           {
            "colorbar": {
             "outlinewidth": 1,
             "tickcolor": "rgb(36,36,36)",
             "ticks": "outside"
            },
            "colorscale": [
             [
              0,
              "#440154"
             ],
             [
              0.1111111111111111,
              "#482878"
             ],
             [
              0.2222222222222222,
              "#3e4989"
             ],
             [
              0.3333333333333333,
              "#31688e"
             ],
             [
              0.4444444444444444,
              "#26828e"
             ],
             [
              0.5555555555555556,
              "#1f9e89"
             ],
             [
              0.6666666666666666,
              "#35b779"
             ],
             [
              0.7777777777777778,
              "#6ece58"
             ],
             [
              0.8888888888888888,
              "#b5de2b"
             ],
             [
              1,
              "#fde725"
             ]
            ],
            "type": "histogram2dcontour"
           }
          ],
          "mesh3d": [
           {
            "colorbar": {
             "outlinewidth": 1,
             "tickcolor": "rgb(36,36,36)",
             "ticks": "outside"
            },
            "type": "mesh3d"
           }
          ],
          "parcoords": [
           {
            "line": {
             "colorbar": {
              "outlinewidth": 1,
              "tickcolor": "rgb(36,36,36)",
              "ticks": "outside"
             }
            },
            "type": "parcoords"
           }
          ],
          "pie": [
           {
            "automargin": true,
            "type": "pie"
           }
          ],
          "scatter": [
           {
            "fillpattern": {
             "fillmode": "overlay",
             "size": 10,
             "solidity": 0.2
            },
            "type": "scatter"
           }
          ],
          "scatter3d": [
           {
            "line": {
             "colorbar": {
              "outlinewidth": 1,
              "tickcolor": "rgb(36,36,36)",
              "ticks": "outside"
             }
            },
            "marker": {
             "colorbar": {
              "outlinewidth": 1,
              "tickcolor": "rgb(36,36,36)",
              "ticks": "outside"
             }
            },
            "type": "scatter3d"
           }
          ],
          "scattercarpet": [
           {
            "marker": {
             "colorbar": {
              "outlinewidth": 1,
              "tickcolor": "rgb(36,36,36)",
              "ticks": "outside"
             }
            },
            "type": "scattercarpet"
           }
          ],
          "scattergeo": [
           {
            "marker": {
             "colorbar": {
              "outlinewidth": 1,
              "tickcolor": "rgb(36,36,36)",
              "ticks": "outside"
             }
            },
            "type": "scattergeo"
           }
          ],
          "scattergl": [
           {
            "marker": {
             "colorbar": {
              "outlinewidth": 1,
              "tickcolor": "rgb(36,36,36)",
              "ticks": "outside"
             }
            },
            "type": "scattergl"
           }
          ],
          "scattermapbox": [
           {
            "marker": {
             "colorbar": {
              "outlinewidth": 1,
              "tickcolor": "rgb(36,36,36)",
              "ticks": "outside"
             }
            },
            "type": "scattermapbox"
           }
          ],
          "scatterpolar": [
           {
            "marker": {
             "colorbar": {
              "outlinewidth": 1,
              "tickcolor": "rgb(36,36,36)",
              "ticks": "outside"
             }
            },
            "type": "scatterpolar"
           }
          ],
          "scatterpolargl": [
           {
            "marker": {
             "colorbar": {
              "outlinewidth": 1,
              "tickcolor": "rgb(36,36,36)",
              "ticks": "outside"
             }
            },
            "type": "scatterpolargl"
           }
          ],
          "scatterternary": [
           {
            "marker": {
             "colorbar": {
              "outlinewidth": 1,
              "tickcolor": "rgb(36,36,36)",
              "ticks": "outside"
             }
            },
            "type": "scatterternary"
           }
          ],
          "surface": [
           {
            "colorbar": {
             "outlinewidth": 1,
             "tickcolor": "rgb(36,36,36)",
             "ticks": "outside"
            },
            "colorscale": [
             [
              0,
              "#440154"
             ],
             [
              0.1111111111111111,
              "#482878"
             ],
             [
              0.2222222222222222,
              "#3e4989"
             ],
             [
              0.3333333333333333,
              "#31688e"
             ],
             [
              0.4444444444444444,
              "#26828e"
             ],
             [
              0.5555555555555556,
              "#1f9e89"
             ],
             [
              0.6666666666666666,
              "#35b779"
             ],
             [
              0.7777777777777778,
              "#6ece58"
             ],
             [
              0.8888888888888888,
              "#b5de2b"
             ],
             [
              1,
              "#fde725"
             ]
            ],
            "type": "surface"
           }
          ],
          "table": [
           {
            "cells": {
             "fill": {
              "color": "rgb(237,237,237)"
             },
             "line": {
              "color": "white"
             }
            },
            "header": {
             "fill": {
              "color": "rgb(217,217,217)"
             },
             "line": {
              "color": "white"
             }
            },
            "type": "table"
           }
          ]
         },
         "layout": {
          "annotationdefaults": {
           "arrowhead": 0,
           "arrowwidth": 1
          },
          "autotypenumbers": "strict",
          "coloraxis": {
           "colorbar": {
            "outlinewidth": 1,
            "tickcolor": "rgb(36,36,36)",
            "ticks": "outside"
           }
          },
          "colorscale": {
           "diverging": [
            [
             0,
             "rgb(103,0,31)"
            ],
            [
             0.1,
             "rgb(178,24,43)"
            ],
            [
             0.2,
             "rgb(214,96,77)"
            ],
            [
             0.3,
             "rgb(244,165,130)"
            ],
            [
             0.4,
             "rgb(253,219,199)"
            ],
            [
             0.5,
             "rgb(247,247,247)"
            ],
            [
             0.6,
             "rgb(209,229,240)"
            ],
            [
             0.7,
             "rgb(146,197,222)"
            ],
            [
             0.8,
             "rgb(67,147,195)"
            ],
            [
             0.9,
             "rgb(33,102,172)"
            ],
            [
             1,
             "rgb(5,48,97)"
            ]
           ],
           "sequential": [
            [
             0,
             "#440154"
            ],
            [
             0.1111111111111111,
             "#482878"
            ],
            [
             0.2222222222222222,
             "#3e4989"
            ],
            [
             0.3333333333333333,
             "#31688e"
            ],
            [
             0.4444444444444444,
             "#26828e"
            ],
            [
             0.5555555555555556,
             "#1f9e89"
            ],
            [
             0.6666666666666666,
             "#35b779"
            ],
            [
             0.7777777777777778,
             "#6ece58"
            ],
            [
             0.8888888888888888,
             "#b5de2b"
            ],
            [
             1,
             "#fde725"
            ]
           ],
           "sequentialminus": [
            [
             0,
             "#440154"
            ],
            [
             0.1111111111111111,
             "#482878"
            ],
            [
             0.2222222222222222,
             "#3e4989"
            ],
            [
             0.3333333333333333,
             "#31688e"
            ],
            [
             0.4444444444444444,
             "#26828e"
            ],
            [
             0.5555555555555556,
             "#1f9e89"
            ],
            [
             0.6666666666666666,
             "#35b779"
            ],
            [
             0.7777777777777778,
             "#6ece58"
            ],
            [
             0.8888888888888888,
             "#b5de2b"
            ],
            [
             1,
             "#fde725"
            ]
           ]
          },
          "colorway": [
           "#1F77B4",
           "#FF7F0E",
           "#2CA02C",
           "#D62728",
           "#9467BD",
           "#8C564B",
           "#E377C2",
           "#7F7F7F",
           "#BCBD22",
           "#17BECF"
          ],
          "font": {
           "color": "rgb(36,36,36)"
          },
          "geo": {
           "bgcolor": "white",
           "lakecolor": "white",
           "landcolor": "white",
           "showlakes": true,
           "showland": true,
           "subunitcolor": "white"
          },
          "hoverlabel": {
           "align": "left"
          },
          "hovermode": "closest",
          "mapbox": {
           "style": "light"
          },
          "paper_bgcolor": "white",
          "plot_bgcolor": "white",
          "polar": {
           "angularaxis": {
            "gridcolor": "rgb(232,232,232)",
            "linecolor": "rgb(36,36,36)",
            "showgrid": false,
            "showline": true,
            "ticks": "outside"
           },
           "bgcolor": "white",
           "radialaxis": {
            "gridcolor": "rgb(232,232,232)",
            "linecolor": "rgb(36,36,36)",
            "showgrid": false,
            "showline": true,
            "ticks": "outside"
           }
          },
          "scene": {
           "xaxis": {
            "backgroundcolor": "white",
            "gridcolor": "rgb(232,232,232)",
            "gridwidth": 2,
            "linecolor": "rgb(36,36,36)",
            "showbackground": true,
            "showgrid": false,
            "showline": true,
            "ticks": "outside",
            "zeroline": false,
            "zerolinecolor": "rgb(36,36,36)"
           },
           "yaxis": {
            "backgroundcolor": "white",
            "gridcolor": "rgb(232,232,232)",
            "gridwidth": 2,
            "linecolor": "rgb(36,36,36)",
            "showbackground": true,
            "showgrid": false,
            "showline": true,
            "ticks": "outside",
            "zeroline": false,
            "zerolinecolor": "rgb(36,36,36)"
           },
           "zaxis": {
            "backgroundcolor": "white",
            "gridcolor": "rgb(232,232,232)",
            "gridwidth": 2,
            "linecolor": "rgb(36,36,36)",
            "showbackground": true,
            "showgrid": false,
            "showline": true,
            "ticks": "outside",
            "zeroline": false,
            "zerolinecolor": "rgb(36,36,36)"
           }
          },
          "shapedefaults": {
           "fillcolor": "black",
           "line": {
            "width": 0
           },
           "opacity": 0.3
          },
          "ternary": {
           "aaxis": {
            "gridcolor": "rgb(232,232,232)",
            "linecolor": "rgb(36,36,36)",
            "showgrid": false,
            "showline": true,
            "ticks": "outside"
           },
           "baxis": {
            "gridcolor": "rgb(232,232,232)",
            "linecolor": "rgb(36,36,36)",
            "showgrid": false,
            "showline": true,
            "ticks": "outside"
           },
           "bgcolor": "white",
           "caxis": {
            "gridcolor": "rgb(232,232,232)",
            "linecolor": "rgb(36,36,36)",
            "showgrid": false,
            "showline": true,
            "ticks": "outside"
           }
          },
          "title": {
           "x": 0.05
          },
          "xaxis": {
           "automargin": true,
           "gridcolor": "rgb(232,232,232)",
           "linecolor": "rgb(36,36,36)",
           "showgrid": false,
           "showline": true,
           "ticks": "outside",
           "title": {
            "standoff": 15
           },
           "zeroline": false,
           "zerolinecolor": "rgb(36,36,36)"
          },
          "yaxis": {
           "automargin": true,
           "gridcolor": "rgb(232,232,232)",
           "linecolor": "rgb(36,36,36)",
           "showgrid": false,
           "showline": true,
           "ticks": "outside",
           "title": {
            "standoff": 15
           },
           "zeroline": false,
           "zerolinecolor": "rgb(36,36,36)"
          }
         }
        },
        "xaxis": {
         "anchor": "y",
         "domain": [
          0,
          1
         ],
         "showgrid": true,
         "title": {}
        },
        "yaxis": {
         "anchor": "x",
         "domain": [
          0,
          1
         ],
         "range": [
          0.5,
          1
         ],
         "showgrid": true,
         "title": {
          "text": "value"
         }
        }
       }
      },
      "text/html": [
       "<div>                            <div id=\"c27de3ef-c585-4bd7-9a68-f375a4a58457\" class=\"plotly-graph-div\" style=\"height:525px; width:100%;\"></div>            <script type=\"text/javascript\">                require([\"plotly\"], function(Plotly) {                    window.PLOTLYENV=window.PLOTLYENV || {};                                    if (document.getElementById(\"c27de3ef-c585-4bd7-9a68-f375a4a58457\")) {                    Plotly.newPlot(                        \"c27de3ef-c585-4bd7-9a68-f375a4a58457\",                        [{\"alignmentgroup\":\"True\",\"hovertemplate\":\"variable=metric<br>index=%{x}<br>value=%{y}<extra></extra>\",\"legendgroup\":\"metric\",\"marker\":{\"color\":\"rgb(102, 197, 204)\",\"pattern\":{\"shape\":\"\"}},\"name\":\"metric\",\"offsetgroup\":\"metric\",\"orientation\":\"v\",\"showlegend\":true,\"textposition\":\"auto\",\"x\":[\"coxnet\",\"gb\",\"pcp_hf\",\"stacking\",\"svm\"],\"xaxis\":\"x\",\"y\":[0.764451309303184,0.7396042960526062,0.6892358186151134,0.5466481812768551,0.6290238453812033],\"yaxis\":\"y\",\"type\":\"bar\"}],                        {\"template\":{\"data\":{\"barpolar\":[{\"marker\":{\"line\":{\"color\":\"white\",\"width\":0.5},\"pattern\":{\"fillmode\":\"overlay\",\"size\":10,\"solidity\":0.2}},\"type\":\"barpolar\"}],\"bar\":[{\"error_x\":{\"color\":\"rgb(36,36,36)\"},\"error_y\":{\"color\":\"rgb(36,36,36)\"},\"marker\":{\"line\":{\"color\":\"white\",\"width\":0.5},\"pattern\":{\"fillmode\":\"overlay\",\"size\":10,\"solidity\":0.2}},\"type\":\"bar\"}],\"carpet\":[{\"aaxis\":{\"endlinecolor\":\"rgb(36,36,36)\",\"gridcolor\":\"white\",\"linecolor\":\"white\",\"minorgridcolor\":\"white\",\"startlinecolor\":\"rgb(36,36,36)\"},\"baxis\":{\"endlinecolor\":\"rgb(36,36,36)\",\"gridcolor\":\"white\",\"linecolor\":\"white\",\"minorgridcolor\":\"white\",\"startlinecolor\":\"rgb(36,36,36)\"},\"type\":\"carpet\"}],\"choropleth\":[{\"colorbar\":{\"outlinewidth\":1,\"tickcolor\":\"rgb(36,36,36)\",\"ticks\":\"outside\"},\"type\":\"choropleth\"}],\"contourcarpet\":[{\"colorbar\":{\"outlinewidth\":1,\"tickcolor\":\"rgb(36,36,36)\",\"ticks\":\"outside\"},\"type\":\"contourcarpet\"}],\"contour\":[{\"colorbar\":{\"outlinewidth\":1,\"tickcolor\":\"rgb(36,36,36)\",\"ticks\":\"outside\"},\"colorscale\":[[0.0,\"#440154\"],[0.1111111111111111,\"#482878\"],[0.2222222222222222,\"#3e4989\"],[0.3333333333333333,\"#31688e\"],[0.4444444444444444,\"#26828e\"],[0.5555555555555556,\"#1f9e89\"],[0.6666666666666666,\"#35b779\"],[0.7777777777777778,\"#6ece58\"],[0.8888888888888888,\"#b5de2b\"],[1.0,\"#fde725\"]],\"type\":\"contour\"}],\"heatmapgl\":[{\"colorbar\":{\"outlinewidth\":1,\"tickcolor\":\"rgb(36,36,36)\",\"ticks\":\"outside\"},\"colorscale\":[[0.0,\"#440154\"],[0.1111111111111111,\"#482878\"],[0.2222222222222222,\"#3e4989\"],[0.3333333333333333,\"#31688e\"],[0.4444444444444444,\"#26828e\"],[0.5555555555555556,\"#1f9e89\"],[0.6666666666666666,\"#35b779\"],[0.7777777777777778,\"#6ece58\"],[0.8888888888888888,\"#b5de2b\"],[1.0,\"#fde725\"]],\"type\":\"heatmapgl\"}],\"heatmap\":[{\"colorbar\":{\"outlinewidth\":1,\"tickcolor\":\"rgb(36,36,36)\",\"ticks\":\"outside\"},\"colorscale\":[[0.0,\"#440154\"],[0.1111111111111111,\"#482878\"],[0.2222222222222222,\"#3e4989\"],[0.3333333333333333,\"#31688e\"],[0.4444444444444444,\"#26828e\"],[0.5555555555555556,\"#1f9e89\"],[0.6666666666666666,\"#35b779\"],[0.7777777777777778,\"#6ece58\"],[0.8888888888888888,\"#b5de2b\"],[1.0,\"#fde725\"]],\"type\":\"heatmap\"}],\"histogram2dcontour\":[{\"colorbar\":{\"outlinewidth\":1,\"tickcolor\":\"rgb(36,36,36)\",\"ticks\":\"outside\"},\"colorscale\":[[0.0,\"#440154\"],[0.1111111111111111,\"#482878\"],[0.2222222222222222,\"#3e4989\"],[0.3333333333333333,\"#31688e\"],[0.4444444444444444,\"#26828e\"],[0.5555555555555556,\"#1f9e89\"],[0.6666666666666666,\"#35b779\"],[0.7777777777777778,\"#6ece58\"],[0.8888888888888888,\"#b5de2b\"],[1.0,\"#fde725\"]],\"type\":\"histogram2dcontour\"}],\"histogram2d\":[{\"colorbar\":{\"outlinewidth\":1,\"tickcolor\":\"rgb(36,36,36)\",\"ticks\":\"outside\"},\"colorscale\":[[0.0,\"#440154\"],[0.1111111111111111,\"#482878\"],[0.2222222222222222,\"#3e4989\"],[0.3333333333333333,\"#31688e\"],[0.4444444444444444,\"#26828e\"],[0.5555555555555556,\"#1f9e89\"],[0.6666666666666666,\"#35b779\"],[0.7777777777777778,\"#6ece58\"],[0.8888888888888888,\"#b5de2b\"],[1.0,\"#fde725\"]],\"type\":\"histogram2d\"}],\"histogram\":[{\"marker\":{\"line\":{\"color\":\"white\",\"width\":0.6}},\"type\":\"histogram\"}],\"mesh3d\":[{\"colorbar\":{\"outlinewidth\":1,\"tickcolor\":\"rgb(36,36,36)\",\"ticks\":\"outside\"},\"type\":\"mesh3d\"}],\"parcoords\":[{\"line\":{\"colorbar\":{\"outlinewidth\":1,\"tickcolor\":\"rgb(36,36,36)\",\"ticks\":\"outside\"}},\"type\":\"parcoords\"}],\"pie\":[{\"automargin\":true,\"type\":\"pie\"}],\"scatter3d\":[{\"line\":{\"colorbar\":{\"outlinewidth\":1,\"tickcolor\":\"rgb(36,36,36)\",\"ticks\":\"outside\"}},\"marker\":{\"colorbar\":{\"outlinewidth\":1,\"tickcolor\":\"rgb(36,36,36)\",\"ticks\":\"outside\"}},\"type\":\"scatter3d\"}],\"scattercarpet\":[{\"marker\":{\"colorbar\":{\"outlinewidth\":1,\"tickcolor\":\"rgb(36,36,36)\",\"ticks\":\"outside\"}},\"type\":\"scattercarpet\"}],\"scattergeo\":[{\"marker\":{\"colorbar\":{\"outlinewidth\":1,\"tickcolor\":\"rgb(36,36,36)\",\"ticks\":\"outside\"}},\"type\":\"scattergeo\"}],\"scattergl\":[{\"marker\":{\"colorbar\":{\"outlinewidth\":1,\"tickcolor\":\"rgb(36,36,36)\",\"ticks\":\"outside\"}},\"type\":\"scattergl\"}],\"scattermapbox\":[{\"marker\":{\"colorbar\":{\"outlinewidth\":1,\"tickcolor\":\"rgb(36,36,36)\",\"ticks\":\"outside\"}},\"type\":\"scattermapbox\"}],\"scatterpolargl\":[{\"marker\":{\"colorbar\":{\"outlinewidth\":1,\"tickcolor\":\"rgb(36,36,36)\",\"ticks\":\"outside\"}},\"type\":\"scatterpolargl\"}],\"scatterpolar\":[{\"marker\":{\"colorbar\":{\"outlinewidth\":1,\"tickcolor\":\"rgb(36,36,36)\",\"ticks\":\"outside\"}},\"type\":\"scatterpolar\"}],\"scatter\":[{\"fillpattern\":{\"fillmode\":\"overlay\",\"size\":10,\"solidity\":0.2},\"type\":\"scatter\"}],\"scatterternary\":[{\"marker\":{\"colorbar\":{\"outlinewidth\":1,\"tickcolor\":\"rgb(36,36,36)\",\"ticks\":\"outside\"}},\"type\":\"scatterternary\"}],\"surface\":[{\"colorbar\":{\"outlinewidth\":1,\"tickcolor\":\"rgb(36,36,36)\",\"ticks\":\"outside\"},\"colorscale\":[[0.0,\"#440154\"],[0.1111111111111111,\"#482878\"],[0.2222222222222222,\"#3e4989\"],[0.3333333333333333,\"#31688e\"],[0.4444444444444444,\"#26828e\"],[0.5555555555555556,\"#1f9e89\"],[0.6666666666666666,\"#35b779\"],[0.7777777777777778,\"#6ece58\"],[0.8888888888888888,\"#b5de2b\"],[1.0,\"#fde725\"]],\"type\":\"surface\"}],\"table\":[{\"cells\":{\"fill\":{\"color\":\"rgb(237,237,237)\"},\"line\":{\"color\":\"white\"}},\"header\":{\"fill\":{\"color\":\"rgb(217,217,217)\"},\"line\":{\"color\":\"white\"}},\"type\":\"table\"}]},\"layout\":{\"annotationdefaults\":{\"arrowhead\":0,\"arrowwidth\":1},\"autotypenumbers\":\"strict\",\"coloraxis\":{\"colorbar\":{\"outlinewidth\":1,\"tickcolor\":\"rgb(36,36,36)\",\"ticks\":\"outside\"}},\"colorscale\":{\"diverging\":[[0.0,\"rgb(103,0,31)\"],[0.1,\"rgb(178,24,43)\"],[0.2,\"rgb(214,96,77)\"],[0.3,\"rgb(244,165,130)\"],[0.4,\"rgb(253,219,199)\"],[0.5,\"rgb(247,247,247)\"],[0.6,\"rgb(209,229,240)\"],[0.7,\"rgb(146,197,222)\"],[0.8,\"rgb(67,147,195)\"],[0.9,\"rgb(33,102,172)\"],[1.0,\"rgb(5,48,97)\"]],\"sequential\":[[0.0,\"#440154\"],[0.1111111111111111,\"#482878\"],[0.2222222222222222,\"#3e4989\"],[0.3333333333333333,\"#31688e\"],[0.4444444444444444,\"#26828e\"],[0.5555555555555556,\"#1f9e89\"],[0.6666666666666666,\"#35b779\"],[0.7777777777777778,\"#6ece58\"],[0.8888888888888888,\"#b5de2b\"],[1.0,\"#fde725\"]],\"sequentialminus\":[[0.0,\"#440154\"],[0.1111111111111111,\"#482878\"],[0.2222222222222222,\"#3e4989\"],[0.3333333333333333,\"#31688e\"],[0.4444444444444444,\"#26828e\"],[0.5555555555555556,\"#1f9e89\"],[0.6666666666666666,\"#35b779\"],[0.7777777777777778,\"#6ece58\"],[0.8888888888888888,\"#b5de2b\"],[1.0,\"#fde725\"]]},\"colorway\":[\"#1F77B4\",\"#FF7F0E\",\"#2CA02C\",\"#D62728\",\"#9467BD\",\"#8C564B\",\"#E377C2\",\"#7F7F7F\",\"#BCBD22\",\"#17BECF\"],\"font\":{\"color\":\"rgb(36,36,36)\"},\"geo\":{\"bgcolor\":\"white\",\"lakecolor\":\"white\",\"landcolor\":\"white\",\"showlakes\":true,\"showland\":true,\"subunitcolor\":\"white\"},\"hoverlabel\":{\"align\":\"left\"},\"hovermode\":\"closest\",\"mapbox\":{\"style\":\"light\"},\"paper_bgcolor\":\"white\",\"plot_bgcolor\":\"white\",\"polar\":{\"angularaxis\":{\"gridcolor\":\"rgb(232,232,232)\",\"linecolor\":\"rgb(36,36,36)\",\"showgrid\":false,\"showline\":true,\"ticks\":\"outside\"},\"bgcolor\":\"white\",\"radialaxis\":{\"gridcolor\":\"rgb(232,232,232)\",\"linecolor\":\"rgb(36,36,36)\",\"showgrid\":false,\"showline\":true,\"ticks\":\"outside\"}},\"scene\":{\"xaxis\":{\"backgroundcolor\":\"white\",\"gridcolor\":\"rgb(232,232,232)\",\"gridwidth\":2,\"linecolor\":\"rgb(36,36,36)\",\"showbackground\":true,\"showgrid\":false,\"showline\":true,\"ticks\":\"outside\",\"zeroline\":false,\"zerolinecolor\":\"rgb(36,36,36)\"},\"yaxis\":{\"backgroundcolor\":\"white\",\"gridcolor\":\"rgb(232,232,232)\",\"gridwidth\":2,\"linecolor\":\"rgb(36,36,36)\",\"showbackground\":true,\"showgrid\":false,\"showline\":true,\"ticks\":\"outside\",\"zeroline\":false,\"zerolinecolor\":\"rgb(36,36,36)\"},\"zaxis\":{\"backgroundcolor\":\"white\",\"gridcolor\":\"rgb(232,232,232)\",\"gridwidth\":2,\"linecolor\":\"rgb(36,36,36)\",\"showbackground\":true,\"showgrid\":false,\"showline\":true,\"ticks\":\"outside\",\"zeroline\":false,\"zerolinecolor\":\"rgb(36,36,36)\"}},\"shapedefaults\":{\"fillcolor\":\"black\",\"line\":{\"width\":0},\"opacity\":0.3},\"ternary\":{\"aaxis\":{\"gridcolor\":\"rgb(232,232,232)\",\"linecolor\":\"rgb(36,36,36)\",\"showgrid\":false,\"showline\":true,\"ticks\":\"outside\"},\"baxis\":{\"gridcolor\":\"rgb(232,232,232)\",\"linecolor\":\"rgb(36,36,36)\",\"showgrid\":false,\"showline\":true,\"ticks\":\"outside\"},\"bgcolor\":\"white\",\"caxis\":{\"gridcolor\":\"rgb(232,232,232)\",\"linecolor\":\"rgb(36,36,36)\",\"showgrid\":false,\"showline\":true,\"ticks\":\"outside\"}},\"title\":{\"x\":0.05},\"xaxis\":{\"automargin\":true,\"gridcolor\":\"rgb(232,232,232)\",\"linecolor\":\"rgb(36,36,36)\",\"showgrid\":false,\"showline\":true,\"ticks\":\"outside\",\"title\":{\"standoff\":15},\"zeroline\":false,\"zerolinecolor\":\"rgb(36,36,36)\"},\"yaxis\":{\"automargin\":true,\"gridcolor\":\"rgb(232,232,232)\",\"linecolor\":\"rgb(36,36,36)\",\"showgrid\":false,\"showline\":true,\"ticks\":\"outside\",\"title\":{\"standoff\":15},\"zeroline\":false,\"zerolinecolor\":\"rgb(36,36,36)\"}}},\"xaxis\":{\"anchor\":\"y\",\"domain\":[0.0,1.0],\"title\":{},\"showgrid\":true},\"yaxis\":{\"anchor\":\"x\",\"domain\":[0.0,1.0],\"title\":{\"text\":\"value\"},\"range\":[0.5,1],\"showgrid\":true},\"legend\":{\"title\":{\"text\":\"variable\",\"font\":{\"color\":\"rgba(0,0,0,0)\"}},\"tracegroupgap\":0},\"margin\":{\"t\":60},\"barmode\":\"relative\",\"font\":{\"family\":\"Calibri\",\"size\":25},\"bargroupgap\":0.1},                        {\"responsive\": true}                    ).then(function(){\n",
       "                            \n",
       "var gd = document.getElementById('c27de3ef-c585-4bd7-9a68-f375a4a58457');\n",
       "var x = new MutationObserver(function (mutations, observer) {{\n",
       "        var display = window.getComputedStyle(gd).display;\n",
       "        if (!display || display === 'none') {{\n",
       "            console.log([gd, 'removed!']);\n",
       "            Plotly.purge(gd);\n",
       "            observer.disconnect();\n",
       "        }}\n",
       "}});\n",
       "\n",
       "// Listen for the removal of the full notebook cells\n",
       "var notebookContainer = gd.closest('#notebook-container');\n",
       "if (notebookContainer) {{\n",
       "    x.observe(notebookContainer, {childList: true});\n",
       "}}\n",
       "\n",
       "// Listen for the clearing of the current output cell\n",
       "var outputEl = gd.closest('.output');\n",
       "if (outputEl) {{\n",
       "    x.observe(outputEl, {childList: true});\n",
       "}}\n",
       "\n",
       "                        })                };                });            </script>        </div>"
      ]
     },
     "metadata": {},
     "output_type": "display_data"
    }
   ],
   "source": [
    "fig = px.bar(\n",
    "    DataFrame(dict(metric=metrics_merged.values()), index=metrics_merged.keys()),\n",
    "    range_y=[0.5,1],\n",
    "    color_discrete_sequence=px.colors.qualitative.Pastel,\n",
    ")\n",
    "fig.update_layout(dict(xaxis_title=None))\n",
    "setup_plotly_style(fig)\n",
    "fig.show()"
   ]
  },
  {
   "cell_type": "markdown",
   "metadata": {},
   "source": [
    "## c-index, merged per method, weighted"
   ]
  },
  {
   "cell_type": "code",
   "execution_count": 13,
   "metadata": {
    "scrolled": false
   },
   "outputs": [],
   "source": [
    "from config import *\n",
    "\n",
    "\n",
    "def get_merge_boxplot_metrics(groups, random_state=RANDOM_STATE, weight = None, return_summary=False):\n",
    "    merged_prediction = valmap(\n",
    "        lambda group_id: merge_predictions(average_group_scores(load_group_results(group_id))),\n",
    "        groups,\n",
    "    )\n",
    "    merged_prediction = {method: {**prediction, 'y_score': prediction['y_score'].loc[data.index]} for method, prediction\n",
    "                         in merged_prediction.items()}\n",
    "\n",
    "    return valmap(\n",
    "        lambda result: compute_metric_prediction(\n",
    "            BootstrappedMetric(\n",
    "                WeightedCIndex(weight=weight),\n",
    "                random_state,\n",
    "                iterations=ITERATIONS,\n",
    "                return_summary=return_summary,\n",
    "            ),\n",
    "            y,\n",
    "            result,\n",
    "        ),\n",
    "        merged_prediction,\n",
    "    )\n",
    "\n"
   ]
  },
  {
   "cell_type": "code",
   "execution_count": 15,
   "metadata": {
    "scrolled": false
   },
   "outputs": [],
   "source": [
    "merged_metrics_cohort_weighted = get_merge_boxplot_metrics(GROUPS_LCO_MORE_METHODS, weight=inverse_weight_cohorts)"
   ]
  },
  {
   "cell_type": "code",
   "execution_count": 16,
   "metadata": {},
   "outputs": [],
   "source": [
    "merged_metrics_incidence_weighted = get_merge_boxplot_metrics(GROUPS_LCO_MORE_METHODS, weight=inverse_incident_weight)"
   ]
  },
  {
   "cell_type": "markdown",
   "metadata": {},
   "source": [
    "### Boxplot"
   ]
  },
  {
   "cell_type": "code",
   "execution_count": 17,
   "metadata": {
    "scrolled": false
   },
   "outputs": [],
   "source": [
    "from plotly.graph_objs import *\n",
    "from config import COLORS\n",
    "\n",
    "\n",
    "def plot_merged_metrics(merged_metrics):\n",
    "    metrics_df = DataFrame()\n",
    "\n",
    "    for method_name, method_metric_values in merged_metrics.items():\n",
    "        metric_values = method_metric_values[\"c_index\"]\n",
    "        metrics_df_add = DataFrame({\n",
    "            'method': [METHODS_TITLE.get(method_name, method_name)] * len(metric_values),\n",
    "            'method_original': [method_name] * len(metric_values),\n",
    "            'values': metric_values,\n",
    "            'color': [COLORS[method_name]] * len(metric_values),\n",
    "        })\n",
    "        metrics_df = pandas.concat([metrics_df, metrics_df_add])\n",
    "\n",
    "    fig = px.violin(\n",
    "        metrics_df,\n",
    "        x=\"method_original\",\n",
    "        y=\"values\",\n",
    "        color=\"method_original\",\n",
    "        range_y=[0.65, 0.8],\n",
    "        labels={'method': 'Test', 'values': 'c-index', **METHODS_TITLE},\n",
    "        box=True,\n",
    "        color_discrete_map=COLORS,\n",
    "    )\n",
    "    setup_plotly_style(fig)\n",
    "    fig.update_traces(marker_size=2, marker_opacity=0.9)\n",
    "    fig.update_layout(legend=dict(itemsizing='constant'))\n",
    "\n",
    "    fig.update_layout(\n",
    "        font=dict(family=FONT, size=28),\n",
    "        bargroupgap=0.1,\n",
    "        template='simple_white',\n",
    "        xaxis_ticktext=metrics_df[\"method\"],\n",
    "        xaxis_title = None,\n",
    "    )\n",
    "\n",
    "    fig.update(\n",
    "        layout_showlegend=False,\n",
    "        layout_annotations=[\n",
    "            dict(\n",
    "                x=i + 0.4,\n",
    "                y=(m_c := mean(metrics['c_index'])),\n",
    "                text=f'{m_c:.3f}',\n",
    "                showarrow=False,\n",
    "                font=dict(\n",
    "                    size=25,\n",
    "                    color=COLORS[method_name],\n",
    "                )\n",
    "            )\n",
    "            for i, (method_name, metrics) in enumerate(merged_metrics_selected.items())\n",
    "        ],\n",
    "    )\n",
    "\n",
    "    return fig\n",
    "\n",
    "\n"
   ]
  },
  {
   "cell_type": "code",
   "execution_count": 18,
   "metadata": {},
   "outputs": [
    {
     "data": {
      "application/vnd.plotly.v1+json": {
       "config": {
        "plotlyServerURL": "https://plot.ly"
       },
       "data": [
        {
         "alignmentgroup": "True",
         "box": {
          "visible": true
         },
         "hovertemplate": "method_original=%{x}<br>c-index=%{y}<extra></extra>",
         "legendgroup": "coxnet",
         "marker": {
          "color": "#4194D9",
          "opacity": 0.9,
          "size": 2
         },
         "name": "coxnet",
         "offsetgroup": "coxnet",
         "orientation": "v",
         "scalegroup": "True",
         "showlegend": true,
         "type": "violin",
         "x": [
          "coxnet",
          "coxnet",
          "coxnet",
          "coxnet",
          "coxnet",
          "coxnet",
          "coxnet",
          "coxnet",
          "coxnet",
          "coxnet",
          "coxnet",
          "coxnet",
          "coxnet",
          "coxnet",
          "coxnet",
          "coxnet",
          "coxnet",
          "coxnet",
          "coxnet",
          "coxnet",
          "coxnet",
          "coxnet",
          "coxnet",
          "coxnet",
          "coxnet",
          "coxnet",
          "coxnet",
          "coxnet",
          "coxnet",
          "coxnet",
          "coxnet",
          "coxnet",
          "coxnet",
          "coxnet",
          "coxnet",
          "coxnet",
          "coxnet",
          "coxnet",
          "coxnet",
          "coxnet",
          "coxnet",
          "coxnet",
          "coxnet",
          "coxnet",
          "coxnet",
          "coxnet",
          "coxnet",
          "coxnet",
          "coxnet",
          "coxnet",
          "coxnet",
          "coxnet",
          "coxnet",
          "coxnet",
          "coxnet",
          "coxnet",
          "coxnet",
          "coxnet",
          "coxnet",
          "coxnet",
          "coxnet",
          "coxnet",
          "coxnet",
          "coxnet",
          "coxnet",
          "coxnet",
          "coxnet",
          "coxnet",
          "coxnet",
          "coxnet",
          "coxnet",
          "coxnet",
          "coxnet",
          "coxnet",
          "coxnet",
          "coxnet",
          "coxnet",
          "coxnet",
          "coxnet",
          "coxnet",
          "coxnet",
          "coxnet",
          "coxnet",
          "coxnet",
          "coxnet",
          "coxnet",
          "coxnet",
          "coxnet",
          "coxnet",
          "coxnet",
          "coxnet",
          "coxnet",
          "coxnet",
          "coxnet",
          "coxnet",
          "coxnet",
          "coxnet",
          "coxnet",
          "coxnet",
          "coxnet"
         ],
         "x0": " ",
         "xaxis": "x",
         "y": [
          0.6922946052117299,
          0.7044009291264905,
          0.6851829566541906,
          0.6938305674930497,
          0.6955928451673601,
          0.6908696885911004,
          0.670465521222583,
          0.6986516781532645,
          0.6845984829582499,
          0.6763580507780095,
          0.699759372358591,
          0.6982383332936328,
          0.6958993044042925,
          0.6931097932910305,
          0.6780330078908317,
          0.7004118687193561,
          0.689718867011103,
          0.6990752262533803,
          0.694043567655741,
          0.7018767725748135,
          0.700044551932046,
          0.7073811901036848,
          0.6992532982318779,
          0.7065875772000825,
          0.7150559474375965,
          0.705514428390865,
          0.6847919914880853,
          0.7024013903378933,
          0.6782517542135277,
          0.6967213585258024,
          0.6998972892598503,
          0.6981238736723071,
          0.6950838651835514,
          0.6890648705030088,
          0.6945121056959784,
          0.7029513896546704,
          0.6924939600985072,
          0.6916282173420616,
          0.715375088277321,
          0.6958558700343194,
          0.7081275965355407,
          0.702562665043152,
          0.6903397840509161,
          0.6884225112461386,
          0.7092021780169129,
          0.6998765785291182,
          0.7020985822432972,
          0.6907005630387063,
          0.6913091791825277,
          0.6897726092894494,
          0.6917969512484561,
          0.7010407750741859,
          0.6995576887298476,
          0.7098949836064025,
          0.7061622034694444,
          0.7058761177703629,
          0.6984617505675332,
          0.6888564267845051,
          0.6834785026492174,
          0.7067839429976635,
          0.696626090839673,
          0.7092554779319319,
          0.692715836970238,
          0.7052416974585954,
          0.708768850072077,
          0.6817774547119732,
          0.6900158173116346,
          0.7022705714560833,
          0.6855459975874255,
          0.7091771978317677,
          0.7070383138648841,
          0.6971402522848732,
          0.6985710310152778,
          0.6981626589210804,
          0.7017858678212355,
          0.6991907671108801,
          0.7161588615624126,
          0.7011463627118759,
          0.6974277959949324,
          0.6954240977627819,
          0.6907741250201453,
          0.7058706510046285,
          0.7019945064160396,
          0.6992407554148883,
          0.6963564332829945,
          0.7018763328716471,
          0.701472723126429,
          0.6798602925889495,
          0.6973970055571012,
          0.7167234807766354,
          0.6984339493352155,
          0.6962846822253511,
          0.7077203118991298,
          0.7007038379806764,
          0.6996638848362066,
          0.6909041225955099,
          0.7044757995840716,
          0.701320837459922,
          0.6969603044286526,
          0.6976149192900966
         ],
         "y0": " ",
         "yaxis": "y"
        },
        {
         "alignmentgroup": "True",
         "box": {
          "visible": true
         },
         "hovertemplate": "method_original=%{x}<br>c-index=%{y}<extra></extra>",
         "legendgroup": "gb",
         "marker": {
          "color": "#FF7F00",
          "opacity": 0.9,
          "size": 2
         },
         "name": "gb",
         "offsetgroup": "gb",
         "orientation": "v",
         "scalegroup": "True",
         "showlegend": true,
         "type": "violin",
         "x": [
          "gb",
          "gb",
          "gb",
          "gb",
          "gb",
          "gb",
          "gb",
          "gb",
          "gb",
          "gb",
          "gb",
          "gb",
          "gb",
          "gb",
          "gb",
          "gb",
          "gb",
          "gb",
          "gb",
          "gb",
          "gb",
          "gb",
          "gb",
          "gb",
          "gb",
          "gb",
          "gb",
          "gb",
          "gb",
          "gb",
          "gb",
          "gb",
          "gb",
          "gb",
          "gb",
          "gb",
          "gb",
          "gb",
          "gb",
          "gb",
          "gb",
          "gb",
          "gb",
          "gb",
          "gb",
          "gb",
          "gb",
          "gb",
          "gb",
          "gb",
          "gb",
          "gb",
          "gb",
          "gb",
          "gb",
          "gb",
          "gb",
          "gb",
          "gb",
          "gb",
          "gb",
          "gb",
          "gb",
          "gb",
          "gb",
          "gb",
          "gb",
          "gb",
          "gb",
          "gb",
          "gb",
          "gb",
          "gb",
          "gb",
          "gb",
          "gb",
          "gb",
          "gb",
          "gb",
          "gb",
          "gb",
          "gb",
          "gb",
          "gb",
          "gb",
          "gb",
          "gb",
          "gb",
          "gb",
          "gb",
          "gb",
          "gb",
          "gb",
          "gb",
          "gb",
          "gb",
          "gb",
          "gb",
          "gb",
          "gb"
         ],
         "x0": " ",
         "xaxis": "x",
         "y": [
          0.7318626644663309,
          0.7274216310582347,
          0.7359131520640617,
          0.7426869243757372,
          0.7375560219498583,
          0.7179707780598407,
          0.7253821145081346,
          0.7340442031054182,
          0.7334174153162815,
          0.7237409968045813,
          0.7345117512349374,
          0.7285620929527846,
          0.7421571214251046,
          0.7338919270188129,
          0.7286011747450908,
          0.7482091270634633,
          0.7427551745720443,
          0.7349438066603756,
          0.7414582411652699,
          0.7427527540313712,
          0.7353164852999347,
          0.7412854163736438,
          0.7456278634441325,
          0.7420829093818713,
          0.738229244640846,
          0.7375806059426261,
          0.7192399958459,
          0.7467253840619914,
          0.7214529037478653,
          0.7383417682434169,
          0.7501986783388699,
          0.7434187119243462,
          0.7307867143148755,
          0.7231569178736361,
          0.7315507332211926,
          0.7383464404965843,
          0.738662685824978,
          0.7401050200579542,
          0.7475456237473784,
          0.7296735500811073,
          0.7364461827327956,
          0.7340462700403992,
          0.7367578957781918,
          0.7282865676309179,
          0.7454033282532863,
          0.7336252850684372,
          0.7428298955757537,
          0.7138275888941594,
          0.7363351176086733,
          0.731266450546156,
          0.724435019523712,
          0.7498501549179132,
          0.7372251598035001,
          0.7450238008404839,
          0.7436936077002589,
          0.7439087861998719,
          0.738626922385018,
          0.717592125311357,
          0.7283693462368137,
          0.7393478858914981,
          0.7352142351851708,
          0.7448214489771557,
          0.7421368499195087,
          0.7375255540452487,
          0.7434964751178434,
          0.7242853128418428,
          0.7280791872177473,
          0.7357819515959174,
          0.7372053839687049,
          0.7395858868016684,
          0.7401985806967017,
          0.734971863089883,
          0.7390824238792686,
          0.7340867041850277,
          0.7450418029540283,
          0.7383330821838412,
          0.7472330175983505,
          0.7389968363263305,
          0.7256427997931139,
          0.7353031576162035,
          0.7293705631524726,
          0.739299815756998,
          0.7346521413474989,
          0.7346420167459728,
          0.7376963536586444,
          0.7390185478224011,
          0.743919353159762,
          0.7138800870394101,
          0.7397654972066303,
          0.7545390631920179,
          0.7360704310522178,
          0.7318039736352462,
          0.7478198181363392,
          0.7410401937393142,
          0.7373227621404566,
          0.7304979707174133,
          0.7449574562836448,
          0.7314867493448524,
          0.7279904303705876,
          0.7361304218504205
         ],
         "y0": " ",
         "yaxis": "y"
        },
        {
         "alignmentgroup": "True",
         "box": {
          "visible": true
         },
         "hovertemplate": "method_original=%{x}<br>c-index=%{y}<extra></extra>",
         "legendgroup": "pcp_hf",
         "marker": {
          "color": "#2BC07B",
          "opacity": 0.9,
          "size": 2
         },
         "name": "pcp_hf",
         "offsetgroup": "pcp_hf",
         "orientation": "v",
         "scalegroup": "True",
         "showlegend": true,
         "type": "violin",
         "x": [
          "pcp_hf",
          "pcp_hf",
          "pcp_hf",
          "pcp_hf",
          "pcp_hf",
          "pcp_hf",
          "pcp_hf",
          "pcp_hf",
          "pcp_hf",
          "pcp_hf",
          "pcp_hf",
          "pcp_hf",
          "pcp_hf",
          "pcp_hf",
          "pcp_hf",
          "pcp_hf",
          "pcp_hf",
          "pcp_hf",
          "pcp_hf",
          "pcp_hf",
          "pcp_hf",
          "pcp_hf",
          "pcp_hf",
          "pcp_hf",
          "pcp_hf",
          "pcp_hf",
          "pcp_hf",
          "pcp_hf",
          "pcp_hf",
          "pcp_hf",
          "pcp_hf",
          "pcp_hf",
          "pcp_hf",
          "pcp_hf",
          "pcp_hf",
          "pcp_hf",
          "pcp_hf",
          "pcp_hf",
          "pcp_hf",
          "pcp_hf",
          "pcp_hf",
          "pcp_hf",
          "pcp_hf",
          "pcp_hf",
          "pcp_hf",
          "pcp_hf",
          "pcp_hf",
          "pcp_hf",
          "pcp_hf",
          "pcp_hf",
          "pcp_hf",
          "pcp_hf",
          "pcp_hf",
          "pcp_hf",
          "pcp_hf",
          "pcp_hf",
          "pcp_hf",
          "pcp_hf",
          "pcp_hf",
          "pcp_hf",
          "pcp_hf",
          "pcp_hf",
          "pcp_hf",
          "pcp_hf",
          "pcp_hf",
          "pcp_hf",
          "pcp_hf",
          "pcp_hf",
          "pcp_hf",
          "pcp_hf",
          "pcp_hf",
          "pcp_hf",
          "pcp_hf",
          "pcp_hf",
          "pcp_hf",
          "pcp_hf",
          "pcp_hf",
          "pcp_hf",
          "pcp_hf",
          "pcp_hf",
          "pcp_hf",
          "pcp_hf",
          "pcp_hf",
          "pcp_hf",
          "pcp_hf",
          "pcp_hf",
          "pcp_hf",
          "pcp_hf",
          "pcp_hf",
          "pcp_hf",
          "pcp_hf",
          "pcp_hf",
          "pcp_hf",
          "pcp_hf",
          "pcp_hf",
          "pcp_hf",
          "pcp_hf",
          "pcp_hf",
          "pcp_hf",
          "pcp_hf"
         ],
         "x0": " ",
         "xaxis": "x",
         "y": [
          0.7407010260803075,
          0.7370814097193573,
          0.7298908184360494,
          0.7378471359126755,
          0.7291450929129791,
          0.7372523475629549,
          0.7153693434615597,
          0.7372958823424731,
          0.7274881241678641,
          0.7139340079901271,
          0.7427720424567192,
          0.738764634183551,
          0.7451694107543294,
          0.737085701680064,
          0.7382226818128403,
          0.7389373523824435,
          0.7370402252597579,
          0.7473298363975048,
          0.7408479080890921,
          0.7339237361200359,
          0.7387235231907957,
          0.7416380931479974,
          0.7482394974833381,
          0.7293258072770199,
          0.7383328533708218,
          0.7315538552861879,
          0.7245959924384596,
          0.7387805859465824,
          0.7258102445623865,
          0.7242255763027364,
          0.738146978599686,
          0.7410456949236808,
          0.7365641593383392,
          0.7325790987454784,
          0.72259259862101,
          0.7325829521682113,
          0.7360535351613745,
          0.7330587579821208,
          0.7468261912472033,
          0.7413253485704825,
          0.733884112124301,
          0.7358189598165312,
          0.7280645247724206,
          0.7323449929552709,
          0.7516733066410611,
          0.7371721719228498,
          0.7524583713078388,
          0.723931731174028,
          0.7373640235110859,
          0.7160675947667483,
          0.7146621575342459,
          0.7540591109334598,
          0.7425547188764496,
          0.7484921565147928,
          0.7403180148027987,
          0.7265459188692556,
          0.7314386157539966,
          0.7336107353224945,
          0.7344259611656965,
          0.7307857403045376,
          0.7315471852035007,
          0.7351907396532524,
          0.7380256606303542,
          0.7411876975890778,
          0.7419410828825536,
          0.7314150623964863,
          0.730790887291708,
          0.7359454783295751,
          0.7281440300187348,
          0.7460610272965453,
          0.7330569419449718,
          0.7230350405578734,
          0.733439999692169,
          0.7382816090862445,
          0.7376104021478807,
          0.740049005932553,
          0.7395236660302354,
          0.7412357769220024,
          0.7185366696658537,
          0.7304566450210032,
          0.7303371341213318,
          0.7393415896595549,
          0.7330044582165096,
          0.7411311125788139,
          0.735237971167782,
          0.7439921755095801,
          0.7508216288932761,
          0.7317815040648086,
          0.7471276687508449,
          0.7506590432013834,
          0.743952924611035,
          0.7186226345564949,
          0.754630399666325,
          0.734044812620463,
          0.7449183693985272,
          0.7401944325474136,
          0.7321894183494662,
          0.7399896195487585,
          0.7344405728980972,
          0.7472070796648052
         ],
         "y0": " ",
         "yaxis": "y"
        },
        {
         "alignmentgroup": "True",
         "box": {
          "visible": true
         },
         "hovertemplate": "method_original=%{x}<br>c-index=%{y}<extra></extra>",
         "legendgroup": "stacking",
         "marker": {
          "color": "#D941C3",
          "opacity": 0.9,
          "size": 2
         },
         "name": "stacking",
         "offsetgroup": "stacking",
         "orientation": "v",
         "scalegroup": "True",
         "showlegend": true,
         "type": "violin",
         "x": [
          "stacking",
          "stacking",
          "stacking",
          "stacking",
          "stacking",
          "stacking",
          "stacking",
          "stacking",
          "stacking",
          "stacking",
          "stacking",
          "stacking",
          "stacking",
          "stacking",
          "stacking",
          "stacking",
          "stacking",
          "stacking",
          "stacking",
          "stacking",
          "stacking",
          "stacking",
          "stacking",
          "stacking",
          "stacking",
          "stacking",
          "stacking",
          "stacking",
          "stacking",
          "stacking",
          "stacking",
          "stacking",
          "stacking",
          "stacking",
          "stacking",
          "stacking",
          "stacking",
          "stacking",
          "stacking",
          "stacking",
          "stacking",
          "stacking",
          "stacking",
          "stacking",
          "stacking",
          "stacking",
          "stacking",
          "stacking",
          "stacking",
          "stacking",
          "stacking",
          "stacking",
          "stacking",
          "stacking",
          "stacking",
          "stacking",
          "stacking",
          "stacking",
          "stacking",
          "stacking",
          "stacking",
          "stacking",
          "stacking",
          "stacking",
          "stacking",
          "stacking",
          "stacking",
          "stacking",
          "stacking",
          "stacking",
          "stacking",
          "stacking",
          "stacking",
          "stacking",
          "stacking",
          "stacking",
          "stacking",
          "stacking",
          "stacking",
          "stacking",
          "stacking",
          "stacking",
          "stacking",
          "stacking",
          "stacking",
          "stacking",
          "stacking",
          "stacking",
          "stacking",
          "stacking",
          "stacking",
          "stacking",
          "stacking",
          "stacking",
          "stacking",
          "stacking",
          "stacking",
          "stacking",
          "stacking",
          "stacking"
         ],
         "x0": " ",
         "xaxis": "x",
         "y": [
          0.6775763360353064,
          0.675904239484521,
          0.6831891923397663,
          0.6895994375900911,
          0.6774208329697069,
          0.6712072334902831,
          0.6802820788811179,
          0.6732792342362097,
          0.6770308025649724,
          0.6731740888786621,
          0.6811044622188241,
          0.688202383814219,
          0.7076262880002494,
          0.6844294998363617,
          0.6928050161467671,
          0.695102697534675,
          0.6917019705010322,
          0.6966666857322295,
          0.6921898477971277,
          0.6727072511720734,
          0.677655496958001,
          0.6836384601175237,
          0.697362439730118,
          0.6809501472335628,
          0.6828071682987771,
          0.6823543784870998,
          0.6617604307181263,
          0.6798948099224962,
          0.6804502352432605,
          0.6808835051554473,
          0.6896998827166408,
          0.6917380655064899,
          0.689519883842656,
          0.6703136102920245,
          0.6695524061302546,
          0.6786408899218566,
          0.6698759164186833,
          0.672933623006129,
          0.6951620360447903,
          0.6832432210361096,
          0.679631113692874,
          0.6837763395758447,
          0.6865962129551155,
          0.6856522181543976,
          0.6991732358185311,
          0.6894818968941415,
          0.6986097527661354,
          0.6708496104560329,
          0.6866093168595808,
          0.6876785931452024,
          0.6721582851469916,
          0.7074498784502214,
          0.6867296220648574,
          0.6716461974231701,
          0.693410066671439,
          0.676852262292062,
          0.6786966222838384,
          0.6740313204619608,
          0.6951108770985038,
          0.6810465230287374,
          0.6834370928813128,
          0.6870114401234463,
          0.6809318219025084,
          0.6901067472042175,
          0.6877913057930977,
          0.6762343749784937,
          0.7066101307275359,
          0.6752067260146543,
          0.6866966206002592,
          0.688243997089659,
          0.6718029086713717,
          0.6697009014398985,
          0.6719350755620239,
          0.6990660102603928,
          0.6972498214200947,
          0.6999039932239415,
          0.6832813735098233,
          0.6936474075329817,
          0.6765667839271723,
          0.6722734432529343,
          0.6759184320132793,
          0.682004795760192,
          0.6934402663938176,
          0.6802867411683656,
          0.6778487983247817,
          0.6738426146492179,
          0.6961166991450745,
          0.6818740244984761,
          0.6858959628741761,
          0.7035713164751605,
          0.677750338877767,
          0.6720695778612646,
          0.6838787644483606,
          0.6702812499562101,
          0.7027829987827346,
          0.6755244786259411,
          0.6945633512450052,
          0.6862232990942518,
          0.6760757648146731,
          0.6808408228867088
         ],
         "y0": " ",
         "yaxis": "y"
        }
       ],
       "layout": {
        "annotations": [
         {
          "font": {
           "color": "#4194D9",
           "size": 25
          },
          "showarrow": false,
          "text": "0.698",
          "x": 0.4,
          "y": 0.6975681300338114
         },
         {
          "font": {
           "color": "#FF7F00",
           "size": 25
          },
          "showarrow": false,
          "text": "0.736",
          "x": 1.4,
          "y": 0.7361299031672593
         },
         {
          "font": {
           "color": "#2BC07B",
           "size": 25
          },
          "showarrow": false,
          "text": "0.736",
          "x": 2.4,
          "y": 0.7360287213947431
         },
         {
          "font": {
           "color": "#D941C3",
           "size": 25
          },
          "showarrow": false,
          "text": "0.684",
          "x": 3.4,
          "y": 0.6837331440525516
         }
        ],
        "bargroupgap": 0.1,
        "font": {
         "family": "Calibri",
         "size": 28
        },
        "legend": {
         "itemsizing": "constant",
         "title": {
          "font": {
           "color": "rgba(0,0,0,0)"
          },
          "text": "method_original"
         },
         "tracegroupgap": 0
        },
        "margin": {
         "t": 60
        },
        "showlegend": false,
        "template": {
         "data": {
          "bar": [
           {
            "error_x": {
             "color": "rgb(36,36,36)"
            },
            "error_y": {
             "color": "rgb(36,36,36)"
            },
            "marker": {
             "line": {
              "color": "white",
              "width": 0.5
             },
             "pattern": {
              "fillmode": "overlay",
              "size": 10,
              "solidity": 0.2
             }
            },
            "type": "bar"
           }
          ],
          "barpolar": [
           {
            "marker": {
             "line": {
              "color": "white",
              "width": 0.5
             },
             "pattern": {
              "fillmode": "overlay",
              "size": 10,
              "solidity": 0.2
             }
            },
            "type": "barpolar"
           }
          ],
          "carpet": [
           {
            "aaxis": {
             "endlinecolor": "rgb(36,36,36)",
             "gridcolor": "white",
             "linecolor": "white",
             "minorgridcolor": "white",
             "startlinecolor": "rgb(36,36,36)"
            },
            "baxis": {
             "endlinecolor": "rgb(36,36,36)",
             "gridcolor": "white",
             "linecolor": "white",
             "minorgridcolor": "white",
             "startlinecolor": "rgb(36,36,36)"
            },
            "type": "carpet"
           }
          ],
          "choropleth": [
           {
            "colorbar": {
             "outlinewidth": 1,
             "tickcolor": "rgb(36,36,36)",
             "ticks": "outside"
            },
            "type": "choropleth"
           }
          ],
          "contour": [
           {
            "colorbar": {
             "outlinewidth": 1,
             "tickcolor": "rgb(36,36,36)",
             "ticks": "outside"
            },
            "colorscale": [
             [
              0,
              "#440154"
             ],
             [
              0.1111111111111111,
              "#482878"
             ],
             [
              0.2222222222222222,
              "#3e4989"
             ],
             [
              0.3333333333333333,
              "#31688e"
             ],
             [
              0.4444444444444444,
              "#26828e"
             ],
             [
              0.5555555555555556,
              "#1f9e89"
             ],
             [
              0.6666666666666666,
              "#35b779"
             ],
             [
              0.7777777777777778,
              "#6ece58"
             ],
             [
              0.8888888888888888,
              "#b5de2b"
             ],
             [
              1,
              "#fde725"
             ]
            ],
            "type": "contour"
           }
          ],
          "contourcarpet": [
           {
            "colorbar": {
             "outlinewidth": 1,
             "tickcolor": "rgb(36,36,36)",
             "ticks": "outside"
            },
            "type": "contourcarpet"
           }
          ],
          "heatmap": [
           {
            "colorbar": {
             "outlinewidth": 1,
             "tickcolor": "rgb(36,36,36)",
             "ticks": "outside"
            },
            "colorscale": [
             [
              0,
              "#440154"
             ],
             [
              0.1111111111111111,
              "#482878"
             ],
             [
              0.2222222222222222,
              "#3e4989"
             ],
             [
              0.3333333333333333,
              "#31688e"
             ],
             [
              0.4444444444444444,
              "#26828e"
             ],
             [
              0.5555555555555556,
              "#1f9e89"
             ],
             [
              0.6666666666666666,
              "#35b779"
             ],
             [
              0.7777777777777778,
              "#6ece58"
             ],
             [
              0.8888888888888888,
              "#b5de2b"
             ],
             [
              1,
              "#fde725"
             ]
            ],
            "type": "heatmap"
           }
          ],
          "heatmapgl": [
           {
            "colorbar": {
             "outlinewidth": 1,
             "tickcolor": "rgb(36,36,36)",
             "ticks": "outside"
            },
            "colorscale": [
             [
              0,
              "#440154"
             ],
             [
              0.1111111111111111,
              "#482878"
             ],
             [
              0.2222222222222222,
              "#3e4989"
             ],
             [
              0.3333333333333333,
              "#31688e"
             ],
             [
              0.4444444444444444,
              "#26828e"
             ],
             [
              0.5555555555555556,
              "#1f9e89"
             ],
             [
              0.6666666666666666,
              "#35b779"
             ],
             [
              0.7777777777777778,
              "#6ece58"
             ],
             [
              0.8888888888888888,
              "#b5de2b"
             ],
             [
              1,
              "#fde725"
             ]
            ],
            "type": "heatmapgl"
           }
          ],
          "histogram": [
           {
            "marker": {
             "line": {
              "color": "white",
              "width": 0.6
             }
            },
            "type": "histogram"
           }
          ],
          "histogram2d": [
           {
            "colorbar": {
             "outlinewidth": 1,
             "tickcolor": "rgb(36,36,36)",
             "ticks": "outside"
            },
            "colorscale": [
             [
              0,
              "#440154"
             ],
             [
              0.1111111111111111,
              "#482878"
             ],
             [
              0.2222222222222222,
              "#3e4989"
             ],
             [
              0.3333333333333333,
              "#31688e"
             ],
             [
              0.4444444444444444,
              "#26828e"
             ],
             [
              0.5555555555555556,
              "#1f9e89"
             ],
             [
              0.6666666666666666,
              "#35b779"
             ],
             [
              0.7777777777777778,
              "#6ece58"
             ],
             [
              0.8888888888888888,
              "#b5de2b"
             ],
             [
              1,
              "#fde725"
             ]
            ],
            "type": "histogram2d"
           }
          ],
          "histogram2dcontour": [
           {
            "colorbar": {
             "outlinewidth": 1,
             "tickcolor": "rgb(36,36,36)",
             "ticks": "outside"
            },
            "colorscale": [
             [
              0,
              "#440154"
             ],
             [
              0.1111111111111111,
              "#482878"
             ],
             [
              0.2222222222222222,
              "#3e4989"
             ],
             [
              0.3333333333333333,
              "#31688e"
             ],
             [
              0.4444444444444444,
              "#26828e"
             ],
             [
              0.5555555555555556,
              "#1f9e89"
             ],
             [
              0.6666666666666666,
              "#35b779"
             ],
             [
              0.7777777777777778,
              "#6ece58"
             ],
             [
              0.8888888888888888,
              "#b5de2b"
             ],
             [
              1,
              "#fde725"
             ]
            ],
            "type": "histogram2dcontour"
           }
          ],
          "mesh3d": [
           {
            "colorbar": {
             "outlinewidth": 1,
             "tickcolor": "rgb(36,36,36)",
             "ticks": "outside"
            },
            "type": "mesh3d"
           }
          ],
          "parcoords": [
           {
            "line": {
             "colorbar": {
              "outlinewidth": 1,
              "tickcolor": "rgb(36,36,36)",
              "ticks": "outside"
             }
            },
            "type": "parcoords"
           }
          ],
          "pie": [
           {
            "automargin": true,
            "type": "pie"
           }
          ],
          "scatter": [
           {
            "fillpattern": {
             "fillmode": "overlay",
             "size": 10,
             "solidity": 0.2
            },
            "type": "scatter"
           }
          ],
          "scatter3d": [
           {
            "line": {
             "colorbar": {
              "outlinewidth": 1,
              "tickcolor": "rgb(36,36,36)",
              "ticks": "outside"
             }
            },
            "marker": {
             "colorbar": {
              "outlinewidth": 1,
              "tickcolor": "rgb(36,36,36)",
              "ticks": "outside"
             }
            },
            "type": "scatter3d"
           }
          ],
          "scattercarpet": [
           {
            "marker": {
             "colorbar": {
              "outlinewidth": 1,
              "tickcolor": "rgb(36,36,36)",
              "ticks": "outside"
             }
            },
            "type": "scattercarpet"
           }
          ],
          "scattergeo": [
           {
            "marker": {
             "colorbar": {
              "outlinewidth": 1,
              "tickcolor": "rgb(36,36,36)",
              "ticks": "outside"
             }
            },
            "type": "scattergeo"
           }
          ],
          "scattergl": [
           {
            "marker": {
             "colorbar": {
              "outlinewidth": 1,
              "tickcolor": "rgb(36,36,36)",
              "ticks": "outside"
             }
            },
            "type": "scattergl"
           }
          ],
          "scattermapbox": [
           {
            "marker": {
             "colorbar": {
              "outlinewidth": 1,
              "tickcolor": "rgb(36,36,36)",
              "ticks": "outside"
             }
            },
            "type": "scattermapbox"
           }
          ],
          "scatterpolar": [
           {
            "marker": {
             "colorbar": {
              "outlinewidth": 1,
              "tickcolor": "rgb(36,36,36)",
              "ticks": "outside"
             }
            },
            "type": "scatterpolar"
           }
          ],
          "scatterpolargl": [
           {
            "marker": {
             "colorbar": {
              "outlinewidth": 1,
              "tickcolor": "rgb(36,36,36)",
              "ticks": "outside"
             }
            },
            "type": "scatterpolargl"
           }
          ],
          "scatterternary": [
           {
            "marker": {
             "colorbar": {
              "outlinewidth": 1,
              "tickcolor": "rgb(36,36,36)",
              "ticks": "outside"
             }
            },
            "type": "scatterternary"
           }
          ],
          "surface": [
           {
            "colorbar": {
             "outlinewidth": 1,
             "tickcolor": "rgb(36,36,36)",
             "ticks": "outside"
            },
            "colorscale": [
             [
              0,
              "#440154"
             ],
             [
              0.1111111111111111,
              "#482878"
             ],
             [
              0.2222222222222222,
              "#3e4989"
             ],
             [
              0.3333333333333333,
              "#31688e"
             ],
             [
              0.4444444444444444,
              "#26828e"
             ],
             [
              0.5555555555555556,
              "#1f9e89"
             ],
             [
              0.6666666666666666,
              "#35b779"
             ],
             [
              0.7777777777777778,
              "#6ece58"
             ],
             [
              0.8888888888888888,
              "#b5de2b"
             ],
             [
              1,
              "#fde725"
             ]
            ],
            "type": "surface"
           }
          ],
          "table": [
           {
            "cells": {
             "fill": {
              "color": "rgb(237,237,237)"
             },
             "line": {
              "color": "white"
             }
            },
            "header": {
             "fill": {
              "color": "rgb(217,217,217)"
             },
             "line": {
              "color": "white"
             }
            },
            "type": "table"
           }
          ]
         },
         "layout": {
          "annotationdefaults": {
           "arrowhead": 0,
           "arrowwidth": 1
          },
          "autotypenumbers": "strict",
          "coloraxis": {
           "colorbar": {
            "outlinewidth": 1,
            "tickcolor": "rgb(36,36,36)",
            "ticks": "outside"
           }
          },
          "colorscale": {
           "diverging": [
            [
             0,
             "rgb(103,0,31)"
            ],
            [
             0.1,
             "rgb(178,24,43)"
            ],
            [
             0.2,
             "rgb(214,96,77)"
            ],
            [
             0.3,
             "rgb(244,165,130)"
            ],
            [
             0.4,
             "rgb(253,219,199)"
            ],
            [
             0.5,
             "rgb(247,247,247)"
            ],
            [
             0.6,
             "rgb(209,229,240)"
            ],
            [
             0.7,
             "rgb(146,197,222)"
            ],
            [
             0.8,
             "rgb(67,147,195)"
            ],
            [
             0.9,
             "rgb(33,102,172)"
            ],
            [
             1,
             "rgb(5,48,97)"
            ]
           ],
           "sequential": [
            [
             0,
             "#440154"
            ],
            [
             0.1111111111111111,
             "#482878"
            ],
            [
             0.2222222222222222,
             "#3e4989"
            ],
            [
             0.3333333333333333,
             "#31688e"
            ],
            [
             0.4444444444444444,
             "#26828e"
            ],
            [
             0.5555555555555556,
             "#1f9e89"
            ],
            [
             0.6666666666666666,
             "#35b779"
            ],
            [
             0.7777777777777778,
             "#6ece58"
            ],
            [
             0.8888888888888888,
             "#b5de2b"
            ],
            [
             1,
             "#fde725"
            ]
           ],
           "sequentialminus": [
            [
             0,
             "#440154"
            ],
            [
             0.1111111111111111,
             "#482878"
            ],
            [
             0.2222222222222222,
             "#3e4989"
            ],
            [
             0.3333333333333333,
             "#31688e"
            ],
            [
             0.4444444444444444,
             "#26828e"
            ],
            [
             0.5555555555555556,
             "#1f9e89"
            ],
            [
             0.6666666666666666,
             "#35b779"
            ],
            [
             0.7777777777777778,
             "#6ece58"
            ],
            [
             0.8888888888888888,
             "#b5de2b"
            ],
            [
             1,
             "#fde725"
            ]
           ]
          },
          "colorway": [
           "#1F77B4",
           "#FF7F0E",
           "#2CA02C",
           "#D62728",
           "#9467BD",
           "#8C564B",
           "#E377C2",
           "#7F7F7F",
           "#BCBD22",
           "#17BECF"
          ],
          "font": {
           "color": "rgb(36,36,36)"
          },
          "geo": {
           "bgcolor": "white",
           "lakecolor": "white",
           "landcolor": "white",
           "showlakes": true,
           "showland": true,
           "subunitcolor": "white"
          },
          "hoverlabel": {
           "align": "left"
          },
          "hovermode": "closest",
          "mapbox": {
           "style": "light"
          },
          "paper_bgcolor": "white",
          "plot_bgcolor": "white",
          "polar": {
           "angularaxis": {
            "gridcolor": "rgb(232,232,232)",
            "linecolor": "rgb(36,36,36)",
            "showgrid": false,
            "showline": true,
            "ticks": "outside"
           },
           "bgcolor": "white",
           "radialaxis": {
            "gridcolor": "rgb(232,232,232)",
            "linecolor": "rgb(36,36,36)",
            "showgrid": false,
            "showline": true,
            "ticks": "outside"
           }
          },
          "scene": {
           "xaxis": {
            "backgroundcolor": "white",
            "gridcolor": "rgb(232,232,232)",
            "gridwidth": 2,
            "linecolor": "rgb(36,36,36)",
            "showbackground": true,
            "showgrid": false,
            "showline": true,
            "ticks": "outside",
            "zeroline": false,
            "zerolinecolor": "rgb(36,36,36)"
           },
           "yaxis": {
            "backgroundcolor": "white",
            "gridcolor": "rgb(232,232,232)",
            "gridwidth": 2,
            "linecolor": "rgb(36,36,36)",
            "showbackground": true,
            "showgrid": false,
            "showline": true,
            "ticks": "outside",
            "zeroline": false,
            "zerolinecolor": "rgb(36,36,36)"
           },
           "zaxis": {
            "backgroundcolor": "white",
            "gridcolor": "rgb(232,232,232)",
            "gridwidth": 2,
            "linecolor": "rgb(36,36,36)",
            "showbackground": true,
            "showgrid": false,
            "showline": true,
            "ticks": "outside",
            "zeroline": false,
            "zerolinecolor": "rgb(36,36,36)"
           }
          },
          "shapedefaults": {
           "fillcolor": "black",
           "line": {
            "width": 0
           },
           "opacity": 0.3
          },
          "ternary": {
           "aaxis": {
            "gridcolor": "rgb(232,232,232)",
            "linecolor": "rgb(36,36,36)",
            "showgrid": false,
            "showline": true,
            "ticks": "outside"
           },
           "baxis": {
            "gridcolor": "rgb(232,232,232)",
            "linecolor": "rgb(36,36,36)",
            "showgrid": false,
            "showline": true,
            "ticks": "outside"
           },
           "bgcolor": "white",
           "caxis": {
            "gridcolor": "rgb(232,232,232)",
            "linecolor": "rgb(36,36,36)",
            "showgrid": false,
            "showline": true,
            "ticks": "outside"
           }
          },
          "title": {
           "x": 0.05
          },
          "xaxis": {
           "automargin": true,
           "gridcolor": "rgb(232,232,232)",
           "linecolor": "rgb(36,36,36)",
           "showgrid": false,
           "showline": true,
           "ticks": "outside",
           "title": {
            "standoff": 15
           },
           "zeroline": false,
           "zerolinecolor": "rgb(36,36,36)"
          },
          "yaxis": {
           "automargin": true,
           "gridcolor": "rgb(232,232,232)",
           "linecolor": "rgb(36,36,36)",
           "showgrid": false,
           "showline": true,
           "ticks": "outside",
           "title": {
            "standoff": 15
           },
           "zeroline": false,
           "zerolinecolor": "rgb(36,36,36)"
          }
         }
        },
        "violinmode": "overlay",
        "xaxis": {
         "anchor": "y",
         "categoryarray": [
          "coxnet",
          "gb",
          "pcp_hf",
          "stacking"
         ],
         "categoryorder": "array",
         "domain": [
          0,
          1
         ],
         "showgrid": true,
         "ticktext": [
          "CoxNet (CN)",
          "CoxNet (CN)",
          "CoxNet (CN)",
          "CoxNet (CN)",
          "CoxNet (CN)",
          "CoxNet (CN)",
          "CoxNet (CN)",
          "CoxNet (CN)",
          "CoxNet (CN)",
          "CoxNet (CN)",
          "CoxNet (CN)",
          "CoxNet (CN)",
          "CoxNet (CN)",
          "CoxNet (CN)",
          "CoxNet (CN)",
          "CoxNet (CN)",
          "CoxNet (CN)",
          "CoxNet (CN)",
          "CoxNet (CN)",
          "CoxNet (CN)",
          "CoxNet (CN)",
          "CoxNet (CN)",
          "CoxNet (CN)",
          "CoxNet (CN)",
          "CoxNet (CN)",
          "CoxNet (CN)",
          "CoxNet (CN)",
          "CoxNet (CN)",
          "CoxNet (CN)",
          "CoxNet (CN)",
          "CoxNet (CN)",
          "CoxNet (CN)",
          "CoxNet (CN)",
          "CoxNet (CN)",
          "CoxNet (CN)",
          "CoxNet (CN)",
          "CoxNet (CN)",
          "CoxNet (CN)",
          "CoxNet (CN)",
          "CoxNet (CN)",
          "CoxNet (CN)",
          "CoxNet (CN)",
          "CoxNet (CN)",
          "CoxNet (CN)",
          "CoxNet (CN)",
          "CoxNet (CN)",
          "CoxNet (CN)",
          "CoxNet (CN)",
          "CoxNet (CN)",
          "CoxNet (CN)",
          "CoxNet (CN)",
          "CoxNet (CN)",
          "CoxNet (CN)",
          "CoxNet (CN)",
          "CoxNet (CN)",
          "CoxNet (CN)",
          "CoxNet (CN)",
          "CoxNet (CN)",
          "CoxNet (CN)",
          "CoxNet (CN)",
          "CoxNet (CN)",
          "CoxNet (CN)",
          "CoxNet (CN)",
          "CoxNet (CN)",
          "CoxNet (CN)",
          "CoxNet (CN)",
          "CoxNet (CN)",
          "CoxNet (CN)",
          "CoxNet (CN)",
          "CoxNet (CN)",
          "CoxNet (CN)",
          "CoxNet (CN)",
          "CoxNet (CN)",
          "CoxNet (CN)",
          "CoxNet (CN)",
          "CoxNet (CN)",
          "CoxNet (CN)",
          "CoxNet (CN)",
          "CoxNet (CN)",
          "CoxNet (CN)",
          "CoxNet (CN)",
          "CoxNet (CN)",
          "CoxNet (CN)",
          "CoxNet (CN)",
          "CoxNet (CN)",
          "CoxNet (CN)",
          "CoxNet (CN)",
          "CoxNet (CN)",
          "CoxNet (CN)",
          "CoxNet (CN)",
          "CoxNet (CN)",
          "CoxNet (CN)",
          "CoxNet (CN)",
          "CoxNet (CN)",
          "CoxNet (CN)",
          "CoxNet (CN)",
          "CoxNet (CN)",
          "CoxNet (CN)",
          "CoxNet (CN)",
          "CoxNet (CN)",
          "Gradient\nBoosting (GB)",
          "Gradient\nBoosting (GB)",
          "Gradient\nBoosting (GB)",
          "Gradient\nBoosting (GB)",
          "Gradient\nBoosting (GB)",
          "Gradient\nBoosting (GB)",
          "Gradient\nBoosting (GB)",
          "Gradient\nBoosting (GB)",
          "Gradient\nBoosting (GB)",
          "Gradient\nBoosting (GB)",
          "Gradient\nBoosting (GB)",
          "Gradient\nBoosting (GB)",
          "Gradient\nBoosting (GB)",
          "Gradient\nBoosting (GB)",
          "Gradient\nBoosting (GB)",
          "Gradient\nBoosting (GB)",
          "Gradient\nBoosting (GB)",
          "Gradient\nBoosting (GB)",
          "Gradient\nBoosting (GB)",
          "Gradient\nBoosting (GB)",
          "Gradient\nBoosting (GB)",
          "Gradient\nBoosting (GB)",
          "Gradient\nBoosting (GB)",
          "Gradient\nBoosting (GB)",
          "Gradient\nBoosting (GB)",
          "Gradient\nBoosting (GB)",
          "Gradient\nBoosting (GB)",
          "Gradient\nBoosting (GB)",
          "Gradient\nBoosting (GB)",
          "Gradient\nBoosting (GB)",
          "Gradient\nBoosting (GB)",
          "Gradient\nBoosting (GB)",
          "Gradient\nBoosting (GB)",
          "Gradient\nBoosting (GB)",
          "Gradient\nBoosting (GB)",
          "Gradient\nBoosting (GB)",
          "Gradient\nBoosting (GB)",
          "Gradient\nBoosting (GB)",
          "Gradient\nBoosting (GB)",
          "Gradient\nBoosting (GB)",
          "Gradient\nBoosting (GB)",
          "Gradient\nBoosting (GB)",
          "Gradient\nBoosting (GB)",
          "Gradient\nBoosting (GB)",
          "Gradient\nBoosting (GB)",
          "Gradient\nBoosting (GB)",
          "Gradient\nBoosting (GB)",
          "Gradient\nBoosting (GB)",
          "Gradient\nBoosting (GB)",
          "Gradient\nBoosting (GB)",
          "Gradient\nBoosting (GB)",
          "Gradient\nBoosting (GB)",
          "Gradient\nBoosting (GB)",
          "Gradient\nBoosting (GB)",
          "Gradient\nBoosting (GB)",
          "Gradient\nBoosting (GB)",
          "Gradient\nBoosting (GB)",
          "Gradient\nBoosting (GB)",
          "Gradient\nBoosting (GB)",
          "Gradient\nBoosting (GB)",
          "Gradient\nBoosting (GB)",
          "Gradient\nBoosting (GB)",
          "Gradient\nBoosting (GB)",
          "Gradient\nBoosting (GB)",
          "Gradient\nBoosting (GB)",
          "Gradient\nBoosting (GB)",
          "Gradient\nBoosting (GB)",
          "Gradient\nBoosting (GB)",
          "Gradient\nBoosting (GB)",
          "Gradient\nBoosting (GB)",
          "Gradient\nBoosting (GB)",
          "Gradient\nBoosting (GB)",
          "Gradient\nBoosting (GB)",
          "Gradient\nBoosting (GB)",
          "Gradient\nBoosting (GB)",
          "Gradient\nBoosting (GB)",
          "Gradient\nBoosting (GB)",
          "Gradient\nBoosting (GB)",
          "Gradient\nBoosting (GB)",
          "Gradient\nBoosting (GB)",
          "Gradient\nBoosting (GB)",
          "Gradient\nBoosting (GB)",
          "Gradient\nBoosting (GB)",
          "Gradient\nBoosting (GB)",
          "Gradient\nBoosting (GB)",
          "Gradient\nBoosting (GB)",
          "Gradient\nBoosting (GB)",
          "Gradient\nBoosting (GB)",
          "Gradient\nBoosting (GB)",
          "Gradient\nBoosting (GB)",
          "Gradient\nBoosting (GB)",
          "Gradient\nBoosting (GB)",
          "Gradient\nBoosting (GB)",
          "Gradient\nBoosting (GB)",
          "Gradient\nBoosting (GB)",
          "Gradient\nBoosting (GB)",
          "Gradient\nBoosting (GB)",
          "Gradient\nBoosting (GB)",
          "Gradient\nBoosting (GB)",
          "Gradient\nBoosting (GB)",
          "PCP-HF",
          "PCP-HF",
          "PCP-HF",
          "PCP-HF",
          "PCP-HF",
          "PCP-HF",
          "PCP-HF",
          "PCP-HF",
          "PCP-HF",
          "PCP-HF",
          "PCP-HF",
          "PCP-HF",
          "PCP-HF",
          "PCP-HF",
          "PCP-HF",
          "PCP-HF",
          "PCP-HF",
          "PCP-HF",
          "PCP-HF",
          "PCP-HF",
          "PCP-HF",
          "PCP-HF",
          "PCP-HF",
          "PCP-HF",
          "PCP-HF",
          "PCP-HF",
          "PCP-HF",
          "PCP-HF",
          "PCP-HF",
          "PCP-HF",
          "PCP-HF",
          "PCP-HF",
          "PCP-HF",
          "PCP-HF",
          "PCP-HF",
          "PCP-HF",
          "PCP-HF",
          "PCP-HF",
          "PCP-HF",
          "PCP-HF",
          "PCP-HF",
          "PCP-HF",
          "PCP-HF",
          "PCP-HF",
          "PCP-HF",
          "PCP-HF",
          "PCP-HF",
          "PCP-HF",
          "PCP-HF",
          "PCP-HF",
          "PCP-HF",
          "PCP-HF",
          "PCP-HF",
          "PCP-HF",
          "PCP-HF",
          "PCP-HF",
          "PCP-HF",
          "PCP-HF",
          "PCP-HF",
          "PCP-HF",
          "PCP-HF",
          "PCP-HF",
          "PCP-HF",
          "PCP-HF",
          "PCP-HF",
          "PCP-HF",
          "PCP-HF",
          "PCP-HF",
          "PCP-HF",
          "PCP-HF",
          "PCP-HF",
          "PCP-HF",
          "PCP-HF",
          "PCP-HF",
          "PCP-HF",
          "PCP-HF",
          "PCP-HF",
          "PCP-HF",
          "PCP-HF",
          "PCP-HF",
          "PCP-HF",
          "PCP-HF",
          "PCP-HF",
          "PCP-HF",
          "PCP-HF",
          "PCP-HF",
          "PCP-HF",
          "PCP-HF",
          "PCP-HF",
          "PCP-HF",
          "PCP-HF",
          "PCP-HF",
          "PCP-HF",
          "PCP-HF",
          "PCP-HF",
          "PCP-HF",
          "PCP-HF",
          "PCP-HF",
          "PCP-HF",
          "PCP-HF",
          "Stacking (ST)",
          "Stacking (ST)",
          "Stacking (ST)",
          "Stacking (ST)",
          "Stacking (ST)",
          "Stacking (ST)",
          "Stacking (ST)",
          "Stacking (ST)",
          "Stacking (ST)",
          "Stacking (ST)",
          "Stacking (ST)",
          "Stacking (ST)",
          "Stacking (ST)",
          "Stacking (ST)",
          "Stacking (ST)",
          "Stacking (ST)",
          "Stacking (ST)",
          "Stacking (ST)",
          "Stacking (ST)",
          "Stacking (ST)",
          "Stacking (ST)",
          "Stacking (ST)",
          "Stacking (ST)",
          "Stacking (ST)",
          "Stacking (ST)",
          "Stacking (ST)",
          "Stacking (ST)",
          "Stacking (ST)",
          "Stacking (ST)",
          "Stacking (ST)",
          "Stacking (ST)",
          "Stacking (ST)",
          "Stacking (ST)",
          "Stacking (ST)",
          "Stacking (ST)",
          "Stacking (ST)",
          "Stacking (ST)",
          "Stacking (ST)",
          "Stacking (ST)",
          "Stacking (ST)",
          "Stacking (ST)",
          "Stacking (ST)",
          "Stacking (ST)",
          "Stacking (ST)",
          "Stacking (ST)",
          "Stacking (ST)",
          "Stacking (ST)",
          "Stacking (ST)",
          "Stacking (ST)",
          "Stacking (ST)",
          "Stacking (ST)",
          "Stacking (ST)",
          "Stacking (ST)",
          "Stacking (ST)",
          "Stacking (ST)",
          "Stacking (ST)",
          "Stacking (ST)",
          "Stacking (ST)",
          "Stacking (ST)",
          "Stacking (ST)",
          "Stacking (ST)",
          "Stacking (ST)",
          "Stacking (ST)",
          "Stacking (ST)",
          "Stacking (ST)",
          "Stacking (ST)",
          "Stacking (ST)",
          "Stacking (ST)",
          "Stacking (ST)",
          "Stacking (ST)",
          "Stacking (ST)",
          "Stacking (ST)",
          "Stacking (ST)",
          "Stacking (ST)",
          "Stacking (ST)",
          "Stacking (ST)",
          "Stacking (ST)",
          "Stacking (ST)",
          "Stacking (ST)",
          "Stacking (ST)",
          "Stacking (ST)",
          "Stacking (ST)",
          "Stacking (ST)",
          "Stacking (ST)",
          "Stacking (ST)",
          "Stacking (ST)",
          "Stacking (ST)",
          "Stacking (ST)",
          "Stacking (ST)",
          "Stacking (ST)",
          "Stacking (ST)",
          "Stacking (ST)",
          "Stacking (ST)",
          "Stacking (ST)",
          "Stacking (ST)",
          "Stacking (ST)",
          "Stacking (ST)",
          "Stacking (ST)",
          "Stacking (ST)",
          "Stacking (ST)"
         ],
         "title": {}
        },
        "yaxis": {
         "anchor": "x",
         "domain": [
          0,
          1
         ],
         "range": [
          0.65,
          0.8
         ],
         "showgrid": true,
         "title": {
          "text": "c-index"
         }
        }
       }
      },
      "text/html": [
       "<div>                            <div id=\"59b0da59-8e0c-42f6-8b72-ef20abedb0ea\" class=\"plotly-graph-div\" style=\"height:525px; width:100%;\"></div>            <script type=\"text/javascript\">                require([\"plotly\"], function(Plotly) {                    window.PLOTLYENV=window.PLOTLYENV || {};                                    if (document.getElementById(\"59b0da59-8e0c-42f6-8b72-ef20abedb0ea\")) {                    Plotly.newPlot(                        \"59b0da59-8e0c-42f6-8b72-ef20abedb0ea\",                        [{\"alignmentgroup\":\"True\",\"box\":{\"visible\":true},\"hovertemplate\":\"method_original=%{x}<br>c-index=%{y}<extra></extra>\",\"legendgroup\":\"coxnet\",\"marker\":{\"color\":\"#4194D9\",\"opacity\":0.9,\"size\":2},\"name\":\"coxnet\",\"offsetgroup\":\"coxnet\",\"orientation\":\"v\",\"scalegroup\":\"True\",\"showlegend\":true,\"x\":[\"coxnet\",\"coxnet\",\"coxnet\",\"coxnet\",\"coxnet\",\"coxnet\",\"coxnet\",\"coxnet\",\"coxnet\",\"coxnet\",\"coxnet\",\"coxnet\",\"coxnet\",\"coxnet\",\"coxnet\",\"coxnet\",\"coxnet\",\"coxnet\",\"coxnet\",\"coxnet\",\"coxnet\",\"coxnet\",\"coxnet\",\"coxnet\",\"coxnet\",\"coxnet\",\"coxnet\",\"coxnet\",\"coxnet\",\"coxnet\",\"coxnet\",\"coxnet\",\"coxnet\",\"coxnet\",\"coxnet\",\"coxnet\",\"coxnet\",\"coxnet\",\"coxnet\",\"coxnet\",\"coxnet\",\"coxnet\",\"coxnet\",\"coxnet\",\"coxnet\",\"coxnet\",\"coxnet\",\"coxnet\",\"coxnet\",\"coxnet\",\"coxnet\",\"coxnet\",\"coxnet\",\"coxnet\",\"coxnet\",\"coxnet\",\"coxnet\",\"coxnet\",\"coxnet\",\"coxnet\",\"coxnet\",\"coxnet\",\"coxnet\",\"coxnet\",\"coxnet\",\"coxnet\",\"coxnet\",\"coxnet\",\"coxnet\",\"coxnet\",\"coxnet\",\"coxnet\",\"coxnet\",\"coxnet\",\"coxnet\",\"coxnet\",\"coxnet\",\"coxnet\",\"coxnet\",\"coxnet\",\"coxnet\",\"coxnet\",\"coxnet\",\"coxnet\",\"coxnet\",\"coxnet\",\"coxnet\",\"coxnet\",\"coxnet\",\"coxnet\",\"coxnet\",\"coxnet\",\"coxnet\",\"coxnet\",\"coxnet\",\"coxnet\",\"coxnet\",\"coxnet\",\"coxnet\",\"coxnet\"],\"x0\":\" \",\"xaxis\":\"x\",\"y\":[0.6922946052117299,0.7044009291264905,0.6851829566541906,0.6938305674930497,0.6955928451673601,0.6908696885911004,0.670465521222583,0.6986516781532645,0.6845984829582499,0.6763580507780095,0.699759372358591,0.6982383332936328,0.6958993044042925,0.6931097932910305,0.6780330078908317,0.7004118687193561,0.689718867011103,0.6990752262533803,0.694043567655741,0.7018767725748135,0.700044551932046,0.7073811901036848,0.6992532982318779,0.7065875772000825,0.7150559474375965,0.705514428390865,0.6847919914880853,0.7024013903378933,0.6782517542135277,0.6967213585258024,0.6998972892598503,0.6981238736723071,0.6950838651835514,0.6890648705030088,0.6945121056959784,0.7029513896546704,0.6924939600985072,0.6916282173420616,0.715375088277321,0.6958558700343194,0.7081275965355407,0.702562665043152,0.6903397840509161,0.6884225112461386,0.7092021780169129,0.6998765785291182,0.7020985822432972,0.6907005630387063,0.6913091791825277,0.6897726092894494,0.6917969512484561,0.7010407750741859,0.6995576887298476,0.7098949836064025,0.7061622034694444,0.7058761177703629,0.6984617505675332,0.6888564267845051,0.6834785026492174,0.7067839429976635,0.696626090839673,0.7092554779319319,0.692715836970238,0.7052416974585954,0.708768850072077,0.6817774547119732,0.6900158173116346,0.7022705714560833,0.6855459975874255,0.7091771978317677,0.7070383138648841,0.6971402522848732,0.6985710310152778,0.6981626589210804,0.7017858678212355,0.6991907671108801,0.7161588615624126,0.7011463627118759,0.6974277959949324,0.6954240977627819,0.6907741250201453,0.7058706510046285,0.7019945064160396,0.6992407554148883,0.6963564332829945,0.7018763328716471,0.701472723126429,0.6798602925889495,0.6973970055571012,0.7167234807766354,0.6984339493352155,0.6962846822253511,0.7077203118991298,0.7007038379806764,0.6996638848362066,0.6909041225955099,0.7044757995840716,0.701320837459922,0.6969603044286526,0.6976149192900966],\"y0\":\" \",\"yaxis\":\"y\",\"type\":\"violin\"},{\"alignmentgroup\":\"True\",\"box\":{\"visible\":true},\"hovertemplate\":\"method_original=%{x}<br>c-index=%{y}<extra></extra>\",\"legendgroup\":\"gb\",\"marker\":{\"color\":\"#FF7F00\",\"opacity\":0.9,\"size\":2},\"name\":\"gb\",\"offsetgroup\":\"gb\",\"orientation\":\"v\",\"scalegroup\":\"True\",\"showlegend\":true,\"x\":[\"gb\",\"gb\",\"gb\",\"gb\",\"gb\",\"gb\",\"gb\",\"gb\",\"gb\",\"gb\",\"gb\",\"gb\",\"gb\",\"gb\",\"gb\",\"gb\",\"gb\",\"gb\",\"gb\",\"gb\",\"gb\",\"gb\",\"gb\",\"gb\",\"gb\",\"gb\",\"gb\",\"gb\",\"gb\",\"gb\",\"gb\",\"gb\",\"gb\",\"gb\",\"gb\",\"gb\",\"gb\",\"gb\",\"gb\",\"gb\",\"gb\",\"gb\",\"gb\",\"gb\",\"gb\",\"gb\",\"gb\",\"gb\",\"gb\",\"gb\",\"gb\",\"gb\",\"gb\",\"gb\",\"gb\",\"gb\",\"gb\",\"gb\",\"gb\",\"gb\",\"gb\",\"gb\",\"gb\",\"gb\",\"gb\",\"gb\",\"gb\",\"gb\",\"gb\",\"gb\",\"gb\",\"gb\",\"gb\",\"gb\",\"gb\",\"gb\",\"gb\",\"gb\",\"gb\",\"gb\",\"gb\",\"gb\",\"gb\",\"gb\",\"gb\",\"gb\",\"gb\",\"gb\",\"gb\",\"gb\",\"gb\",\"gb\",\"gb\",\"gb\",\"gb\",\"gb\",\"gb\",\"gb\",\"gb\",\"gb\"],\"x0\":\" \",\"xaxis\":\"x\",\"y\":[0.7318626644663309,0.7274216310582347,0.7359131520640617,0.7426869243757372,0.7375560219498583,0.7179707780598407,0.7253821145081346,0.7340442031054182,0.7334174153162815,0.7237409968045813,0.7345117512349374,0.7285620929527846,0.7421571214251046,0.7338919270188129,0.7286011747450908,0.7482091270634633,0.7427551745720443,0.7349438066603756,0.7414582411652699,0.7427527540313712,0.7353164852999347,0.7412854163736438,0.7456278634441325,0.7420829093818713,0.738229244640846,0.7375806059426261,0.7192399958459,0.7467253840619914,0.7214529037478653,0.7383417682434169,0.7501986783388699,0.7434187119243462,0.7307867143148755,0.7231569178736361,0.7315507332211926,0.7383464404965843,0.738662685824978,0.7401050200579542,0.7475456237473784,0.7296735500811073,0.7364461827327956,0.7340462700403992,0.7367578957781918,0.7282865676309179,0.7454033282532863,0.7336252850684372,0.7428298955757537,0.7138275888941594,0.7363351176086733,0.731266450546156,0.724435019523712,0.7498501549179132,0.7372251598035001,0.7450238008404839,0.7436936077002589,0.7439087861998719,0.738626922385018,0.717592125311357,0.7283693462368137,0.7393478858914981,0.7352142351851708,0.7448214489771557,0.7421368499195087,0.7375255540452487,0.7434964751178434,0.7242853128418428,0.7280791872177473,0.7357819515959174,0.7372053839687049,0.7395858868016684,0.7401985806967017,0.734971863089883,0.7390824238792686,0.7340867041850277,0.7450418029540283,0.7383330821838412,0.7472330175983505,0.7389968363263305,0.7256427997931139,0.7353031576162035,0.7293705631524726,0.739299815756998,0.7346521413474989,0.7346420167459728,0.7376963536586444,0.7390185478224011,0.743919353159762,0.7138800870394101,0.7397654972066303,0.7545390631920179,0.7360704310522178,0.7318039736352462,0.7478198181363392,0.7410401937393142,0.7373227621404566,0.7304979707174133,0.7449574562836448,0.7314867493448524,0.7279904303705876,0.7361304218504205],\"y0\":\" \",\"yaxis\":\"y\",\"type\":\"violin\"},{\"alignmentgroup\":\"True\",\"box\":{\"visible\":true},\"hovertemplate\":\"method_original=%{x}<br>c-index=%{y}<extra></extra>\",\"legendgroup\":\"pcp_hf\",\"marker\":{\"color\":\"#2BC07B\",\"opacity\":0.9,\"size\":2},\"name\":\"pcp_hf\",\"offsetgroup\":\"pcp_hf\",\"orientation\":\"v\",\"scalegroup\":\"True\",\"showlegend\":true,\"x\":[\"pcp_hf\",\"pcp_hf\",\"pcp_hf\",\"pcp_hf\",\"pcp_hf\",\"pcp_hf\",\"pcp_hf\",\"pcp_hf\",\"pcp_hf\",\"pcp_hf\",\"pcp_hf\",\"pcp_hf\",\"pcp_hf\",\"pcp_hf\",\"pcp_hf\",\"pcp_hf\",\"pcp_hf\",\"pcp_hf\",\"pcp_hf\",\"pcp_hf\",\"pcp_hf\",\"pcp_hf\",\"pcp_hf\",\"pcp_hf\",\"pcp_hf\",\"pcp_hf\",\"pcp_hf\",\"pcp_hf\",\"pcp_hf\",\"pcp_hf\",\"pcp_hf\",\"pcp_hf\",\"pcp_hf\",\"pcp_hf\",\"pcp_hf\",\"pcp_hf\",\"pcp_hf\",\"pcp_hf\",\"pcp_hf\",\"pcp_hf\",\"pcp_hf\",\"pcp_hf\",\"pcp_hf\",\"pcp_hf\",\"pcp_hf\",\"pcp_hf\",\"pcp_hf\",\"pcp_hf\",\"pcp_hf\",\"pcp_hf\",\"pcp_hf\",\"pcp_hf\",\"pcp_hf\",\"pcp_hf\",\"pcp_hf\",\"pcp_hf\",\"pcp_hf\",\"pcp_hf\",\"pcp_hf\",\"pcp_hf\",\"pcp_hf\",\"pcp_hf\",\"pcp_hf\",\"pcp_hf\",\"pcp_hf\",\"pcp_hf\",\"pcp_hf\",\"pcp_hf\",\"pcp_hf\",\"pcp_hf\",\"pcp_hf\",\"pcp_hf\",\"pcp_hf\",\"pcp_hf\",\"pcp_hf\",\"pcp_hf\",\"pcp_hf\",\"pcp_hf\",\"pcp_hf\",\"pcp_hf\",\"pcp_hf\",\"pcp_hf\",\"pcp_hf\",\"pcp_hf\",\"pcp_hf\",\"pcp_hf\",\"pcp_hf\",\"pcp_hf\",\"pcp_hf\",\"pcp_hf\",\"pcp_hf\",\"pcp_hf\",\"pcp_hf\",\"pcp_hf\",\"pcp_hf\",\"pcp_hf\",\"pcp_hf\",\"pcp_hf\",\"pcp_hf\",\"pcp_hf\"],\"x0\":\" \",\"xaxis\":\"x\",\"y\":[0.7407010260803075,0.7370814097193573,0.7298908184360494,0.7378471359126755,0.7291450929129791,0.7372523475629549,0.7153693434615597,0.7372958823424731,0.7274881241678641,0.7139340079901271,0.7427720424567192,0.738764634183551,0.7451694107543294,0.737085701680064,0.7382226818128403,0.7389373523824435,0.7370402252597579,0.7473298363975048,0.7408479080890921,0.7339237361200359,0.7387235231907957,0.7416380931479974,0.7482394974833381,0.7293258072770199,0.7383328533708218,0.7315538552861879,0.7245959924384596,0.7387805859465824,0.7258102445623865,0.7242255763027364,0.738146978599686,0.7410456949236808,0.7365641593383392,0.7325790987454784,0.72259259862101,0.7325829521682113,0.7360535351613745,0.7330587579821208,0.7468261912472033,0.7413253485704825,0.733884112124301,0.7358189598165312,0.7280645247724206,0.7323449929552709,0.7516733066410611,0.7371721719228498,0.7524583713078388,0.723931731174028,0.7373640235110859,0.7160675947667483,0.7146621575342459,0.7540591109334598,0.7425547188764496,0.7484921565147928,0.7403180148027987,0.7265459188692556,0.7314386157539966,0.7336107353224945,0.7344259611656965,0.7307857403045376,0.7315471852035007,0.7351907396532524,0.7380256606303542,0.7411876975890778,0.7419410828825536,0.7314150623964863,0.730790887291708,0.7359454783295751,0.7281440300187348,0.7460610272965453,0.7330569419449718,0.7230350405578734,0.733439999692169,0.7382816090862445,0.7376104021478807,0.740049005932553,0.7395236660302354,0.7412357769220024,0.7185366696658537,0.7304566450210032,0.7303371341213318,0.7393415896595549,0.7330044582165096,0.7411311125788139,0.735237971167782,0.7439921755095801,0.7508216288932761,0.7317815040648086,0.7471276687508449,0.7506590432013834,0.743952924611035,0.7186226345564949,0.754630399666325,0.734044812620463,0.7449183693985272,0.7401944325474136,0.7321894183494662,0.7399896195487585,0.7344405728980972,0.7472070796648052],\"y0\":\" \",\"yaxis\":\"y\",\"type\":\"violin\"},{\"alignmentgroup\":\"True\",\"box\":{\"visible\":true},\"hovertemplate\":\"method_original=%{x}<br>c-index=%{y}<extra></extra>\",\"legendgroup\":\"stacking\",\"marker\":{\"color\":\"#D941C3\",\"opacity\":0.9,\"size\":2},\"name\":\"stacking\",\"offsetgroup\":\"stacking\",\"orientation\":\"v\",\"scalegroup\":\"True\",\"showlegend\":true,\"x\":[\"stacking\",\"stacking\",\"stacking\",\"stacking\",\"stacking\",\"stacking\",\"stacking\",\"stacking\",\"stacking\",\"stacking\",\"stacking\",\"stacking\",\"stacking\",\"stacking\",\"stacking\",\"stacking\",\"stacking\",\"stacking\",\"stacking\",\"stacking\",\"stacking\",\"stacking\",\"stacking\",\"stacking\",\"stacking\",\"stacking\",\"stacking\",\"stacking\",\"stacking\",\"stacking\",\"stacking\",\"stacking\",\"stacking\",\"stacking\",\"stacking\",\"stacking\",\"stacking\",\"stacking\",\"stacking\",\"stacking\",\"stacking\",\"stacking\",\"stacking\",\"stacking\",\"stacking\",\"stacking\",\"stacking\",\"stacking\",\"stacking\",\"stacking\",\"stacking\",\"stacking\",\"stacking\",\"stacking\",\"stacking\",\"stacking\",\"stacking\",\"stacking\",\"stacking\",\"stacking\",\"stacking\",\"stacking\",\"stacking\",\"stacking\",\"stacking\",\"stacking\",\"stacking\",\"stacking\",\"stacking\",\"stacking\",\"stacking\",\"stacking\",\"stacking\",\"stacking\",\"stacking\",\"stacking\",\"stacking\",\"stacking\",\"stacking\",\"stacking\",\"stacking\",\"stacking\",\"stacking\",\"stacking\",\"stacking\",\"stacking\",\"stacking\",\"stacking\",\"stacking\",\"stacking\",\"stacking\",\"stacking\",\"stacking\",\"stacking\",\"stacking\",\"stacking\",\"stacking\",\"stacking\",\"stacking\",\"stacking\"],\"x0\":\" \",\"xaxis\":\"x\",\"y\":[0.6775763360353064,0.675904239484521,0.6831891923397663,0.6895994375900911,0.6774208329697069,0.6712072334902831,0.6802820788811179,0.6732792342362097,0.6770308025649724,0.6731740888786621,0.6811044622188241,0.688202383814219,0.7076262880002494,0.6844294998363617,0.6928050161467671,0.695102697534675,0.6917019705010322,0.6966666857322295,0.6921898477971277,0.6727072511720734,0.677655496958001,0.6836384601175237,0.697362439730118,0.6809501472335628,0.6828071682987771,0.6823543784870998,0.6617604307181263,0.6798948099224962,0.6804502352432605,0.6808835051554473,0.6896998827166408,0.6917380655064899,0.689519883842656,0.6703136102920245,0.6695524061302546,0.6786408899218566,0.6698759164186833,0.672933623006129,0.6951620360447903,0.6832432210361096,0.679631113692874,0.6837763395758447,0.6865962129551155,0.6856522181543976,0.6991732358185311,0.6894818968941415,0.6986097527661354,0.6708496104560329,0.6866093168595808,0.6876785931452024,0.6721582851469916,0.7074498784502214,0.6867296220648574,0.6716461974231701,0.693410066671439,0.676852262292062,0.6786966222838384,0.6740313204619608,0.6951108770985038,0.6810465230287374,0.6834370928813128,0.6870114401234463,0.6809318219025084,0.6901067472042175,0.6877913057930977,0.6762343749784937,0.7066101307275359,0.6752067260146543,0.6866966206002592,0.688243997089659,0.6718029086713717,0.6697009014398985,0.6719350755620239,0.6990660102603928,0.6972498214200947,0.6999039932239415,0.6832813735098233,0.6936474075329817,0.6765667839271723,0.6722734432529343,0.6759184320132793,0.682004795760192,0.6934402663938176,0.6802867411683656,0.6778487983247817,0.6738426146492179,0.6961166991450745,0.6818740244984761,0.6858959628741761,0.7035713164751605,0.677750338877767,0.6720695778612646,0.6838787644483606,0.6702812499562101,0.7027829987827346,0.6755244786259411,0.6945633512450052,0.6862232990942518,0.6760757648146731,0.6808408228867088],\"y0\":\" \",\"yaxis\":\"y\",\"type\":\"violin\"}],                        {\"template\":{\"data\":{\"barpolar\":[{\"marker\":{\"line\":{\"color\":\"white\",\"width\":0.5},\"pattern\":{\"fillmode\":\"overlay\",\"size\":10,\"solidity\":0.2}},\"type\":\"barpolar\"}],\"bar\":[{\"error_x\":{\"color\":\"rgb(36,36,36)\"},\"error_y\":{\"color\":\"rgb(36,36,36)\"},\"marker\":{\"line\":{\"color\":\"white\",\"width\":0.5},\"pattern\":{\"fillmode\":\"overlay\",\"size\":10,\"solidity\":0.2}},\"type\":\"bar\"}],\"carpet\":[{\"aaxis\":{\"endlinecolor\":\"rgb(36,36,36)\",\"gridcolor\":\"white\",\"linecolor\":\"white\",\"minorgridcolor\":\"white\",\"startlinecolor\":\"rgb(36,36,36)\"},\"baxis\":{\"endlinecolor\":\"rgb(36,36,36)\",\"gridcolor\":\"white\",\"linecolor\":\"white\",\"minorgridcolor\":\"white\",\"startlinecolor\":\"rgb(36,36,36)\"},\"type\":\"carpet\"}],\"choropleth\":[{\"colorbar\":{\"outlinewidth\":1,\"tickcolor\":\"rgb(36,36,36)\",\"ticks\":\"outside\"},\"type\":\"choropleth\"}],\"contourcarpet\":[{\"colorbar\":{\"outlinewidth\":1,\"tickcolor\":\"rgb(36,36,36)\",\"ticks\":\"outside\"},\"type\":\"contourcarpet\"}],\"contour\":[{\"colorbar\":{\"outlinewidth\":1,\"tickcolor\":\"rgb(36,36,36)\",\"ticks\":\"outside\"},\"colorscale\":[[0.0,\"#440154\"],[0.1111111111111111,\"#482878\"],[0.2222222222222222,\"#3e4989\"],[0.3333333333333333,\"#31688e\"],[0.4444444444444444,\"#26828e\"],[0.5555555555555556,\"#1f9e89\"],[0.6666666666666666,\"#35b779\"],[0.7777777777777778,\"#6ece58\"],[0.8888888888888888,\"#b5de2b\"],[1.0,\"#fde725\"]],\"type\":\"contour\"}],\"heatmapgl\":[{\"colorbar\":{\"outlinewidth\":1,\"tickcolor\":\"rgb(36,36,36)\",\"ticks\":\"outside\"},\"colorscale\":[[0.0,\"#440154\"],[0.1111111111111111,\"#482878\"],[0.2222222222222222,\"#3e4989\"],[0.3333333333333333,\"#31688e\"],[0.4444444444444444,\"#26828e\"],[0.5555555555555556,\"#1f9e89\"],[0.6666666666666666,\"#35b779\"],[0.7777777777777778,\"#6ece58\"],[0.8888888888888888,\"#b5de2b\"],[1.0,\"#fde725\"]],\"type\":\"heatmapgl\"}],\"heatmap\":[{\"colorbar\":{\"outlinewidth\":1,\"tickcolor\":\"rgb(36,36,36)\",\"ticks\":\"outside\"},\"colorscale\":[[0.0,\"#440154\"],[0.1111111111111111,\"#482878\"],[0.2222222222222222,\"#3e4989\"],[0.3333333333333333,\"#31688e\"],[0.4444444444444444,\"#26828e\"],[0.5555555555555556,\"#1f9e89\"],[0.6666666666666666,\"#35b779\"],[0.7777777777777778,\"#6ece58\"],[0.8888888888888888,\"#b5de2b\"],[1.0,\"#fde725\"]],\"type\":\"heatmap\"}],\"histogram2dcontour\":[{\"colorbar\":{\"outlinewidth\":1,\"tickcolor\":\"rgb(36,36,36)\",\"ticks\":\"outside\"},\"colorscale\":[[0.0,\"#440154\"],[0.1111111111111111,\"#482878\"],[0.2222222222222222,\"#3e4989\"],[0.3333333333333333,\"#31688e\"],[0.4444444444444444,\"#26828e\"],[0.5555555555555556,\"#1f9e89\"],[0.6666666666666666,\"#35b779\"],[0.7777777777777778,\"#6ece58\"],[0.8888888888888888,\"#b5de2b\"],[1.0,\"#fde725\"]],\"type\":\"histogram2dcontour\"}],\"histogram2d\":[{\"colorbar\":{\"outlinewidth\":1,\"tickcolor\":\"rgb(36,36,36)\",\"ticks\":\"outside\"},\"colorscale\":[[0.0,\"#440154\"],[0.1111111111111111,\"#482878\"],[0.2222222222222222,\"#3e4989\"],[0.3333333333333333,\"#31688e\"],[0.4444444444444444,\"#26828e\"],[0.5555555555555556,\"#1f9e89\"],[0.6666666666666666,\"#35b779\"],[0.7777777777777778,\"#6ece58\"],[0.8888888888888888,\"#b5de2b\"],[1.0,\"#fde725\"]],\"type\":\"histogram2d\"}],\"histogram\":[{\"marker\":{\"line\":{\"color\":\"white\",\"width\":0.6}},\"type\":\"histogram\"}],\"mesh3d\":[{\"colorbar\":{\"outlinewidth\":1,\"tickcolor\":\"rgb(36,36,36)\",\"ticks\":\"outside\"},\"type\":\"mesh3d\"}],\"parcoords\":[{\"line\":{\"colorbar\":{\"outlinewidth\":1,\"tickcolor\":\"rgb(36,36,36)\",\"ticks\":\"outside\"}},\"type\":\"parcoords\"}],\"pie\":[{\"automargin\":true,\"type\":\"pie\"}],\"scatter3d\":[{\"line\":{\"colorbar\":{\"outlinewidth\":1,\"tickcolor\":\"rgb(36,36,36)\",\"ticks\":\"outside\"}},\"marker\":{\"colorbar\":{\"outlinewidth\":1,\"tickcolor\":\"rgb(36,36,36)\",\"ticks\":\"outside\"}},\"type\":\"scatter3d\"}],\"scattercarpet\":[{\"marker\":{\"colorbar\":{\"outlinewidth\":1,\"tickcolor\":\"rgb(36,36,36)\",\"ticks\":\"outside\"}},\"type\":\"scattercarpet\"}],\"scattergeo\":[{\"marker\":{\"colorbar\":{\"outlinewidth\":1,\"tickcolor\":\"rgb(36,36,36)\",\"ticks\":\"outside\"}},\"type\":\"scattergeo\"}],\"scattergl\":[{\"marker\":{\"colorbar\":{\"outlinewidth\":1,\"tickcolor\":\"rgb(36,36,36)\",\"ticks\":\"outside\"}},\"type\":\"scattergl\"}],\"scattermapbox\":[{\"marker\":{\"colorbar\":{\"outlinewidth\":1,\"tickcolor\":\"rgb(36,36,36)\",\"ticks\":\"outside\"}},\"type\":\"scattermapbox\"}],\"scatterpolargl\":[{\"marker\":{\"colorbar\":{\"outlinewidth\":1,\"tickcolor\":\"rgb(36,36,36)\",\"ticks\":\"outside\"}},\"type\":\"scatterpolargl\"}],\"scatterpolar\":[{\"marker\":{\"colorbar\":{\"outlinewidth\":1,\"tickcolor\":\"rgb(36,36,36)\",\"ticks\":\"outside\"}},\"type\":\"scatterpolar\"}],\"scatter\":[{\"fillpattern\":{\"fillmode\":\"overlay\",\"size\":10,\"solidity\":0.2},\"type\":\"scatter\"}],\"scatterternary\":[{\"marker\":{\"colorbar\":{\"outlinewidth\":1,\"tickcolor\":\"rgb(36,36,36)\",\"ticks\":\"outside\"}},\"type\":\"scatterternary\"}],\"surface\":[{\"colorbar\":{\"outlinewidth\":1,\"tickcolor\":\"rgb(36,36,36)\",\"ticks\":\"outside\"},\"colorscale\":[[0.0,\"#440154\"],[0.1111111111111111,\"#482878\"],[0.2222222222222222,\"#3e4989\"],[0.3333333333333333,\"#31688e\"],[0.4444444444444444,\"#26828e\"],[0.5555555555555556,\"#1f9e89\"],[0.6666666666666666,\"#35b779\"],[0.7777777777777778,\"#6ece58\"],[0.8888888888888888,\"#b5de2b\"],[1.0,\"#fde725\"]],\"type\":\"surface\"}],\"table\":[{\"cells\":{\"fill\":{\"color\":\"rgb(237,237,237)\"},\"line\":{\"color\":\"white\"}},\"header\":{\"fill\":{\"color\":\"rgb(217,217,217)\"},\"line\":{\"color\":\"white\"}},\"type\":\"table\"}]},\"layout\":{\"annotationdefaults\":{\"arrowhead\":0,\"arrowwidth\":1},\"autotypenumbers\":\"strict\",\"coloraxis\":{\"colorbar\":{\"outlinewidth\":1,\"tickcolor\":\"rgb(36,36,36)\",\"ticks\":\"outside\"}},\"colorscale\":{\"diverging\":[[0.0,\"rgb(103,0,31)\"],[0.1,\"rgb(178,24,43)\"],[0.2,\"rgb(214,96,77)\"],[0.3,\"rgb(244,165,130)\"],[0.4,\"rgb(253,219,199)\"],[0.5,\"rgb(247,247,247)\"],[0.6,\"rgb(209,229,240)\"],[0.7,\"rgb(146,197,222)\"],[0.8,\"rgb(67,147,195)\"],[0.9,\"rgb(33,102,172)\"],[1.0,\"rgb(5,48,97)\"]],\"sequential\":[[0.0,\"#440154\"],[0.1111111111111111,\"#482878\"],[0.2222222222222222,\"#3e4989\"],[0.3333333333333333,\"#31688e\"],[0.4444444444444444,\"#26828e\"],[0.5555555555555556,\"#1f9e89\"],[0.6666666666666666,\"#35b779\"],[0.7777777777777778,\"#6ece58\"],[0.8888888888888888,\"#b5de2b\"],[1.0,\"#fde725\"]],\"sequentialminus\":[[0.0,\"#440154\"],[0.1111111111111111,\"#482878\"],[0.2222222222222222,\"#3e4989\"],[0.3333333333333333,\"#31688e\"],[0.4444444444444444,\"#26828e\"],[0.5555555555555556,\"#1f9e89\"],[0.6666666666666666,\"#35b779\"],[0.7777777777777778,\"#6ece58\"],[0.8888888888888888,\"#b5de2b\"],[1.0,\"#fde725\"]]},\"colorway\":[\"#1F77B4\",\"#FF7F0E\",\"#2CA02C\",\"#D62728\",\"#9467BD\",\"#8C564B\",\"#E377C2\",\"#7F7F7F\",\"#BCBD22\",\"#17BECF\"],\"font\":{\"color\":\"rgb(36,36,36)\"},\"geo\":{\"bgcolor\":\"white\",\"lakecolor\":\"white\",\"landcolor\":\"white\",\"showlakes\":true,\"showland\":true,\"subunitcolor\":\"white\"},\"hoverlabel\":{\"align\":\"left\"},\"hovermode\":\"closest\",\"mapbox\":{\"style\":\"light\"},\"paper_bgcolor\":\"white\",\"plot_bgcolor\":\"white\",\"polar\":{\"angularaxis\":{\"gridcolor\":\"rgb(232,232,232)\",\"linecolor\":\"rgb(36,36,36)\",\"showgrid\":false,\"showline\":true,\"ticks\":\"outside\"},\"bgcolor\":\"white\",\"radialaxis\":{\"gridcolor\":\"rgb(232,232,232)\",\"linecolor\":\"rgb(36,36,36)\",\"showgrid\":false,\"showline\":true,\"ticks\":\"outside\"}},\"scene\":{\"xaxis\":{\"backgroundcolor\":\"white\",\"gridcolor\":\"rgb(232,232,232)\",\"gridwidth\":2,\"linecolor\":\"rgb(36,36,36)\",\"showbackground\":true,\"showgrid\":false,\"showline\":true,\"ticks\":\"outside\",\"zeroline\":false,\"zerolinecolor\":\"rgb(36,36,36)\"},\"yaxis\":{\"backgroundcolor\":\"white\",\"gridcolor\":\"rgb(232,232,232)\",\"gridwidth\":2,\"linecolor\":\"rgb(36,36,36)\",\"showbackground\":true,\"showgrid\":false,\"showline\":true,\"ticks\":\"outside\",\"zeroline\":false,\"zerolinecolor\":\"rgb(36,36,36)\"},\"zaxis\":{\"backgroundcolor\":\"white\",\"gridcolor\":\"rgb(232,232,232)\",\"gridwidth\":2,\"linecolor\":\"rgb(36,36,36)\",\"showbackground\":true,\"showgrid\":false,\"showline\":true,\"ticks\":\"outside\",\"zeroline\":false,\"zerolinecolor\":\"rgb(36,36,36)\"}},\"shapedefaults\":{\"fillcolor\":\"black\",\"line\":{\"width\":0},\"opacity\":0.3},\"ternary\":{\"aaxis\":{\"gridcolor\":\"rgb(232,232,232)\",\"linecolor\":\"rgb(36,36,36)\",\"showgrid\":false,\"showline\":true,\"ticks\":\"outside\"},\"baxis\":{\"gridcolor\":\"rgb(232,232,232)\",\"linecolor\":\"rgb(36,36,36)\",\"showgrid\":false,\"showline\":true,\"ticks\":\"outside\"},\"bgcolor\":\"white\",\"caxis\":{\"gridcolor\":\"rgb(232,232,232)\",\"linecolor\":\"rgb(36,36,36)\",\"showgrid\":false,\"showline\":true,\"ticks\":\"outside\"}},\"title\":{\"x\":0.05},\"xaxis\":{\"automargin\":true,\"gridcolor\":\"rgb(232,232,232)\",\"linecolor\":\"rgb(36,36,36)\",\"showgrid\":false,\"showline\":true,\"ticks\":\"outside\",\"title\":{\"standoff\":15},\"zeroline\":false,\"zerolinecolor\":\"rgb(36,36,36)\"},\"yaxis\":{\"automargin\":true,\"gridcolor\":\"rgb(232,232,232)\",\"linecolor\":\"rgb(36,36,36)\",\"showgrid\":false,\"showline\":true,\"ticks\":\"outside\",\"title\":{\"standoff\":15},\"zeroline\":false,\"zerolinecolor\":\"rgb(36,36,36)\"}}},\"xaxis\":{\"anchor\":\"y\",\"domain\":[0.0,1.0],\"title\":{},\"categoryorder\":\"array\",\"categoryarray\":[\"coxnet\",\"gb\",\"pcp_hf\",\"stacking\"],\"showgrid\":true,\"ticktext\":[\"CoxNet (CN)\",\"CoxNet (CN)\",\"CoxNet (CN)\",\"CoxNet (CN)\",\"CoxNet (CN)\",\"CoxNet (CN)\",\"CoxNet (CN)\",\"CoxNet (CN)\",\"CoxNet (CN)\",\"CoxNet (CN)\",\"CoxNet (CN)\",\"CoxNet (CN)\",\"CoxNet (CN)\",\"CoxNet (CN)\",\"CoxNet (CN)\",\"CoxNet (CN)\",\"CoxNet (CN)\",\"CoxNet (CN)\",\"CoxNet (CN)\",\"CoxNet (CN)\",\"CoxNet (CN)\",\"CoxNet (CN)\",\"CoxNet (CN)\",\"CoxNet (CN)\",\"CoxNet (CN)\",\"CoxNet (CN)\",\"CoxNet (CN)\",\"CoxNet (CN)\",\"CoxNet (CN)\",\"CoxNet (CN)\",\"CoxNet (CN)\",\"CoxNet (CN)\",\"CoxNet (CN)\",\"CoxNet (CN)\",\"CoxNet (CN)\",\"CoxNet (CN)\",\"CoxNet (CN)\",\"CoxNet (CN)\",\"CoxNet (CN)\",\"CoxNet (CN)\",\"CoxNet (CN)\",\"CoxNet (CN)\",\"CoxNet (CN)\",\"CoxNet (CN)\",\"CoxNet (CN)\",\"CoxNet (CN)\",\"CoxNet (CN)\",\"CoxNet (CN)\",\"CoxNet (CN)\",\"CoxNet (CN)\",\"CoxNet (CN)\",\"CoxNet (CN)\",\"CoxNet (CN)\",\"CoxNet (CN)\",\"CoxNet (CN)\",\"CoxNet (CN)\",\"CoxNet (CN)\",\"CoxNet (CN)\",\"CoxNet (CN)\",\"CoxNet (CN)\",\"CoxNet (CN)\",\"CoxNet (CN)\",\"CoxNet (CN)\",\"CoxNet (CN)\",\"CoxNet (CN)\",\"CoxNet (CN)\",\"CoxNet (CN)\",\"CoxNet (CN)\",\"CoxNet (CN)\",\"CoxNet (CN)\",\"CoxNet (CN)\",\"CoxNet (CN)\",\"CoxNet (CN)\",\"CoxNet (CN)\",\"CoxNet (CN)\",\"CoxNet (CN)\",\"CoxNet (CN)\",\"CoxNet (CN)\",\"CoxNet (CN)\",\"CoxNet (CN)\",\"CoxNet (CN)\",\"CoxNet (CN)\",\"CoxNet (CN)\",\"CoxNet (CN)\",\"CoxNet (CN)\",\"CoxNet (CN)\",\"CoxNet (CN)\",\"CoxNet (CN)\",\"CoxNet (CN)\",\"CoxNet (CN)\",\"CoxNet (CN)\",\"CoxNet (CN)\",\"CoxNet (CN)\",\"CoxNet (CN)\",\"CoxNet (CN)\",\"CoxNet (CN)\",\"CoxNet (CN)\",\"CoxNet (CN)\",\"CoxNet (CN)\",\"CoxNet (CN)\",\"Gradient\\nBoosting (GB)\",\"Gradient\\nBoosting (GB)\",\"Gradient\\nBoosting (GB)\",\"Gradient\\nBoosting (GB)\",\"Gradient\\nBoosting (GB)\",\"Gradient\\nBoosting (GB)\",\"Gradient\\nBoosting (GB)\",\"Gradient\\nBoosting (GB)\",\"Gradient\\nBoosting (GB)\",\"Gradient\\nBoosting (GB)\",\"Gradient\\nBoosting (GB)\",\"Gradient\\nBoosting (GB)\",\"Gradient\\nBoosting (GB)\",\"Gradient\\nBoosting (GB)\",\"Gradient\\nBoosting (GB)\",\"Gradient\\nBoosting (GB)\",\"Gradient\\nBoosting (GB)\",\"Gradient\\nBoosting (GB)\",\"Gradient\\nBoosting (GB)\",\"Gradient\\nBoosting (GB)\",\"Gradient\\nBoosting (GB)\",\"Gradient\\nBoosting (GB)\",\"Gradient\\nBoosting (GB)\",\"Gradient\\nBoosting (GB)\",\"Gradient\\nBoosting (GB)\",\"Gradient\\nBoosting (GB)\",\"Gradient\\nBoosting (GB)\",\"Gradient\\nBoosting (GB)\",\"Gradient\\nBoosting (GB)\",\"Gradient\\nBoosting (GB)\",\"Gradient\\nBoosting (GB)\",\"Gradient\\nBoosting (GB)\",\"Gradient\\nBoosting (GB)\",\"Gradient\\nBoosting (GB)\",\"Gradient\\nBoosting (GB)\",\"Gradient\\nBoosting (GB)\",\"Gradient\\nBoosting (GB)\",\"Gradient\\nBoosting (GB)\",\"Gradient\\nBoosting (GB)\",\"Gradient\\nBoosting (GB)\",\"Gradient\\nBoosting (GB)\",\"Gradient\\nBoosting (GB)\",\"Gradient\\nBoosting (GB)\",\"Gradient\\nBoosting (GB)\",\"Gradient\\nBoosting (GB)\",\"Gradient\\nBoosting (GB)\",\"Gradient\\nBoosting (GB)\",\"Gradient\\nBoosting (GB)\",\"Gradient\\nBoosting (GB)\",\"Gradient\\nBoosting (GB)\",\"Gradient\\nBoosting (GB)\",\"Gradient\\nBoosting (GB)\",\"Gradient\\nBoosting (GB)\",\"Gradient\\nBoosting (GB)\",\"Gradient\\nBoosting (GB)\",\"Gradient\\nBoosting (GB)\",\"Gradient\\nBoosting (GB)\",\"Gradient\\nBoosting (GB)\",\"Gradient\\nBoosting (GB)\",\"Gradient\\nBoosting (GB)\",\"Gradient\\nBoosting (GB)\",\"Gradient\\nBoosting (GB)\",\"Gradient\\nBoosting (GB)\",\"Gradient\\nBoosting (GB)\",\"Gradient\\nBoosting (GB)\",\"Gradient\\nBoosting (GB)\",\"Gradient\\nBoosting (GB)\",\"Gradient\\nBoosting (GB)\",\"Gradient\\nBoosting (GB)\",\"Gradient\\nBoosting (GB)\",\"Gradient\\nBoosting (GB)\",\"Gradient\\nBoosting (GB)\",\"Gradient\\nBoosting (GB)\",\"Gradient\\nBoosting (GB)\",\"Gradient\\nBoosting (GB)\",\"Gradient\\nBoosting (GB)\",\"Gradient\\nBoosting (GB)\",\"Gradient\\nBoosting (GB)\",\"Gradient\\nBoosting (GB)\",\"Gradient\\nBoosting (GB)\",\"Gradient\\nBoosting (GB)\",\"Gradient\\nBoosting (GB)\",\"Gradient\\nBoosting (GB)\",\"Gradient\\nBoosting (GB)\",\"Gradient\\nBoosting (GB)\",\"Gradient\\nBoosting (GB)\",\"Gradient\\nBoosting (GB)\",\"Gradient\\nBoosting (GB)\",\"Gradient\\nBoosting (GB)\",\"Gradient\\nBoosting (GB)\",\"Gradient\\nBoosting (GB)\",\"Gradient\\nBoosting (GB)\",\"Gradient\\nBoosting (GB)\",\"Gradient\\nBoosting (GB)\",\"Gradient\\nBoosting (GB)\",\"Gradient\\nBoosting (GB)\",\"Gradient\\nBoosting (GB)\",\"Gradient\\nBoosting (GB)\",\"Gradient\\nBoosting (GB)\",\"Gradient\\nBoosting (GB)\",\"PCP-HF\",\"PCP-HF\",\"PCP-HF\",\"PCP-HF\",\"PCP-HF\",\"PCP-HF\",\"PCP-HF\",\"PCP-HF\",\"PCP-HF\",\"PCP-HF\",\"PCP-HF\",\"PCP-HF\",\"PCP-HF\",\"PCP-HF\",\"PCP-HF\",\"PCP-HF\",\"PCP-HF\",\"PCP-HF\",\"PCP-HF\",\"PCP-HF\",\"PCP-HF\",\"PCP-HF\",\"PCP-HF\",\"PCP-HF\",\"PCP-HF\",\"PCP-HF\",\"PCP-HF\",\"PCP-HF\",\"PCP-HF\",\"PCP-HF\",\"PCP-HF\",\"PCP-HF\",\"PCP-HF\",\"PCP-HF\",\"PCP-HF\",\"PCP-HF\",\"PCP-HF\",\"PCP-HF\",\"PCP-HF\",\"PCP-HF\",\"PCP-HF\",\"PCP-HF\",\"PCP-HF\",\"PCP-HF\",\"PCP-HF\",\"PCP-HF\",\"PCP-HF\",\"PCP-HF\",\"PCP-HF\",\"PCP-HF\",\"PCP-HF\",\"PCP-HF\",\"PCP-HF\",\"PCP-HF\",\"PCP-HF\",\"PCP-HF\",\"PCP-HF\",\"PCP-HF\",\"PCP-HF\",\"PCP-HF\",\"PCP-HF\",\"PCP-HF\",\"PCP-HF\",\"PCP-HF\",\"PCP-HF\",\"PCP-HF\",\"PCP-HF\",\"PCP-HF\",\"PCP-HF\",\"PCP-HF\",\"PCP-HF\",\"PCP-HF\",\"PCP-HF\",\"PCP-HF\",\"PCP-HF\",\"PCP-HF\",\"PCP-HF\",\"PCP-HF\",\"PCP-HF\",\"PCP-HF\",\"PCP-HF\",\"PCP-HF\",\"PCP-HF\",\"PCP-HF\",\"PCP-HF\",\"PCP-HF\",\"PCP-HF\",\"PCP-HF\",\"PCP-HF\",\"PCP-HF\",\"PCP-HF\",\"PCP-HF\",\"PCP-HF\",\"PCP-HF\",\"PCP-HF\",\"PCP-HF\",\"PCP-HF\",\"PCP-HF\",\"PCP-HF\",\"PCP-HF\",\"Stacking (ST)\",\"Stacking (ST)\",\"Stacking (ST)\",\"Stacking (ST)\",\"Stacking (ST)\",\"Stacking (ST)\",\"Stacking (ST)\",\"Stacking (ST)\",\"Stacking (ST)\",\"Stacking (ST)\",\"Stacking (ST)\",\"Stacking (ST)\",\"Stacking (ST)\",\"Stacking (ST)\",\"Stacking (ST)\",\"Stacking (ST)\",\"Stacking (ST)\",\"Stacking (ST)\",\"Stacking (ST)\",\"Stacking (ST)\",\"Stacking (ST)\",\"Stacking (ST)\",\"Stacking (ST)\",\"Stacking (ST)\",\"Stacking (ST)\",\"Stacking (ST)\",\"Stacking (ST)\",\"Stacking (ST)\",\"Stacking (ST)\",\"Stacking (ST)\",\"Stacking (ST)\",\"Stacking (ST)\",\"Stacking (ST)\",\"Stacking (ST)\",\"Stacking (ST)\",\"Stacking (ST)\",\"Stacking (ST)\",\"Stacking (ST)\",\"Stacking (ST)\",\"Stacking (ST)\",\"Stacking (ST)\",\"Stacking (ST)\",\"Stacking (ST)\",\"Stacking (ST)\",\"Stacking (ST)\",\"Stacking (ST)\",\"Stacking (ST)\",\"Stacking (ST)\",\"Stacking (ST)\",\"Stacking (ST)\",\"Stacking (ST)\",\"Stacking (ST)\",\"Stacking (ST)\",\"Stacking (ST)\",\"Stacking (ST)\",\"Stacking (ST)\",\"Stacking (ST)\",\"Stacking (ST)\",\"Stacking (ST)\",\"Stacking (ST)\",\"Stacking (ST)\",\"Stacking (ST)\",\"Stacking (ST)\",\"Stacking (ST)\",\"Stacking (ST)\",\"Stacking (ST)\",\"Stacking (ST)\",\"Stacking (ST)\",\"Stacking (ST)\",\"Stacking (ST)\",\"Stacking (ST)\",\"Stacking (ST)\",\"Stacking (ST)\",\"Stacking (ST)\",\"Stacking (ST)\",\"Stacking (ST)\",\"Stacking (ST)\",\"Stacking (ST)\",\"Stacking (ST)\",\"Stacking (ST)\",\"Stacking (ST)\",\"Stacking (ST)\",\"Stacking (ST)\",\"Stacking (ST)\",\"Stacking (ST)\",\"Stacking (ST)\",\"Stacking (ST)\",\"Stacking (ST)\",\"Stacking (ST)\",\"Stacking (ST)\",\"Stacking (ST)\",\"Stacking (ST)\",\"Stacking (ST)\",\"Stacking (ST)\",\"Stacking (ST)\",\"Stacking (ST)\",\"Stacking (ST)\",\"Stacking (ST)\",\"Stacking (ST)\",\"Stacking (ST)\"]},\"yaxis\":{\"anchor\":\"x\",\"domain\":[0.0,1.0],\"title\":{\"text\":\"c-index\"},\"range\":[0.65,0.8],\"showgrid\":true},\"legend\":{\"title\":{\"text\":\"method_original\",\"font\":{\"color\":\"rgba(0,0,0,0)\"}},\"tracegroupgap\":0,\"itemsizing\":\"constant\"},\"margin\":{\"t\":60},\"violinmode\":\"overlay\",\"font\":{\"family\":\"Calibri\",\"size\":28},\"bargroupgap\":0.1,\"showlegend\":false,\"annotations\":[{\"font\":{\"color\":\"#4194D9\",\"size\":25},\"showarrow\":false,\"text\":\"0.698\",\"x\":0.4,\"y\":0.6975681300338114},{\"font\":{\"color\":\"#FF7F00\",\"size\":25},\"showarrow\":false,\"text\":\"0.736\",\"x\":1.4,\"y\":0.7361299031672593},{\"font\":{\"color\":\"#2BC07B\",\"size\":25},\"showarrow\":false,\"text\":\"0.736\",\"x\":2.4,\"y\":0.7360287213947431},{\"font\":{\"color\":\"#D941C3\",\"size\":25},\"showarrow\":false,\"text\":\"0.684\",\"x\":3.4,\"y\":0.6837331440525516}]},                        {\"responsive\": true}                    ).then(function(){\n",
       "                            \n",
       "var gd = document.getElementById('59b0da59-8e0c-42f6-8b72-ef20abedb0ea');\n",
       "var x = new MutationObserver(function (mutations, observer) {{\n",
       "        var display = window.getComputedStyle(gd).display;\n",
       "        if (!display || display === 'none') {{\n",
       "            console.log([gd, 'removed!']);\n",
       "            Plotly.purge(gd);\n",
       "            observer.disconnect();\n",
       "        }}\n",
       "}});\n",
       "\n",
       "// Listen for the removal of the full notebook cells\n",
       "var notebookContainer = gd.closest('#notebook-container');\n",
       "if (notebookContainer) {{\n",
       "    x.observe(notebookContainer, {childList: true});\n",
       "}}\n",
       "\n",
       "// Listen for the clearing of the current output cell\n",
       "var outputEl = gd.closest('.output');\n",
       "if (outputEl) {{\n",
       "    x.observe(outputEl, {childList: true});\n",
       "}}\n",
       "\n",
       "                        })                };                });            </script>        </div>"
      ]
     },
     "metadata": {},
     "output_type": "display_data"
    }
   ],
   "source": [
    "merged_metrics_selected = dict_subset(('coxnet', 'gb', 'pcp_hf', 'stacking'), merged_metrics_cohort_weighted)\n",
    "\n",
    "fig = plot_merged_metrics(merged_metrics_selected)\n",
    "fig.show()"
   ]
  },
  {
   "cell_type": "code",
   "execution_count": 19,
   "metadata": {},
   "outputs": [
    {
     "data": {
      "application/vnd.plotly.v1+json": {
       "config": {
        "plotlyServerURL": "https://plot.ly"
       },
       "data": [
        {
         "alignmentgroup": "True",
         "box": {
          "visible": true
         },
         "hovertemplate": "method_original=%{x}<br>c-index=%{y}<extra></extra>",
         "legendgroup": "coxnet",
         "marker": {
          "color": "#4194D9",
          "opacity": 0.9,
          "size": 2
         },
         "name": "coxnet",
         "offsetgroup": "coxnet",
         "orientation": "v",
         "scalegroup": "True",
         "showlegend": true,
         "type": "violin",
         "x": [
          "coxnet",
          "coxnet",
          "coxnet",
          "coxnet",
          "coxnet",
          "coxnet",
          "coxnet",
          "coxnet",
          "coxnet",
          "coxnet",
          "coxnet",
          "coxnet",
          "coxnet",
          "coxnet",
          "coxnet",
          "coxnet",
          "coxnet",
          "coxnet",
          "coxnet",
          "coxnet",
          "coxnet",
          "coxnet",
          "coxnet",
          "coxnet",
          "coxnet",
          "coxnet",
          "coxnet",
          "coxnet",
          "coxnet",
          "coxnet",
          "coxnet",
          "coxnet",
          "coxnet",
          "coxnet",
          "coxnet",
          "coxnet",
          "coxnet",
          "coxnet",
          "coxnet",
          "coxnet",
          "coxnet",
          "coxnet",
          "coxnet",
          "coxnet",
          "coxnet",
          "coxnet",
          "coxnet",
          "coxnet",
          "coxnet",
          "coxnet",
          "coxnet",
          "coxnet",
          "coxnet",
          "coxnet",
          "coxnet",
          "coxnet",
          "coxnet",
          "coxnet",
          "coxnet",
          "coxnet",
          "coxnet",
          "coxnet",
          "coxnet",
          "coxnet",
          "coxnet",
          "coxnet",
          "coxnet",
          "coxnet",
          "coxnet",
          "coxnet",
          "coxnet",
          "coxnet",
          "coxnet",
          "coxnet",
          "coxnet",
          "coxnet",
          "coxnet",
          "coxnet",
          "coxnet",
          "coxnet",
          "coxnet",
          "coxnet",
          "coxnet",
          "coxnet",
          "coxnet",
          "coxnet",
          "coxnet",
          "coxnet",
          "coxnet",
          "coxnet",
          "coxnet",
          "coxnet",
          "coxnet",
          "coxnet",
          "coxnet",
          "coxnet",
          "coxnet",
          "coxnet",
          "coxnet",
          "coxnet"
         ],
         "x0": " ",
         "xaxis": "x",
         "y": [
          0.7623956002189837,
          0.7729479875949119,
          0.7566774089604448,
          0.7625696422965555,
          0.7657407596105976,
          0.7607758518745161,
          0.7415388659317105,
          0.770481791504495,
          0.7588066313725431,
          0.749561579471668,
          0.7679970139878275,
          0.7679854785208283,
          0.7640897665605356,
          0.7605130404720364,
          0.7507068087635553,
          0.7659737447391096,
          0.7580124765787796,
          0.7618704452575926,
          0.7666892901689498,
          0.7690164990116503,
          0.7735563567857188,
          0.7719977502805461,
          0.7585178823541645,
          0.771629149198358,
          0.7833187208678065,
          0.7734367130725963,
          0.7592597749280766,
          0.768127250843097,
          0.7492913772865742,
          0.7708845574361268,
          0.7653760505514002,
          0.7651869086599494,
          0.7630444862309678,
          0.7555886943362666,
          0.7631712427694853,
          0.7710629896644389,
          0.7635180622524589,
          0.7621188410605166,
          0.7845305938681997,
          0.7608409817963091,
          0.7757779736335697,
          0.7737879712527695,
          0.7613471501600514,
          0.764712220303052,
          0.7747564148973471,
          0.7680115642876493,
          0.7700364675916169,
          0.759343657522825,
          0.7582920475219724,
          0.7588334216762206,
          0.7570858764930075,
          0.7674400247512855,
          0.7637714371925051,
          0.7815623185435059,
          0.7704975470101767,
          0.7712964120005177,
          0.7642636357866509,
          0.7571208926355794,
          0.7531152076577587,
          0.770281936648281,
          0.7665846520423067,
          0.773909593876875,
          0.7651383851735267,
          0.7743509237557882,
          0.7734297906939439,
          0.7501187291264665,
          0.759263064706604,
          0.7670223245875081,
          0.7543118753041573,
          0.7762527315968923,
          0.7762157099310747,
          0.76480901697389,
          0.7675835881192042,
          0.7688330084934973,
          0.7700912066694588,
          0.764837610476249,
          0.7798549694906806,
          0.7691017063541714,
          0.7600723300336174,
          0.7648651923621878,
          0.7606043415101493,
          0.7694015547150351,
          0.7709471944019605,
          0.7664380976868536,
          0.7658279022843653,
          0.7697820136072783,
          0.7698609349878124,
          0.7511418017446061,
          0.7648382033475373,
          0.7809228667626974,
          0.7659427120004606,
          0.7653853547970819,
          0.7766137066284653,
          0.7715249804934711,
          0.7651983255268133,
          0.7620922709022769,
          0.77203524088266,
          0.7681556163077797,
          0.7643181030969597,
          0.7730667964760399
         ],
         "y0": " ",
         "yaxis": "y"
        },
        {
         "alignmentgroup": "True",
         "box": {
          "visible": true
         },
         "hovertemplate": "method_original=%{x}<br>c-index=%{y}<extra></extra>",
         "legendgroup": "gb",
         "marker": {
          "color": "#FF7F00",
          "opacity": 0.9,
          "size": 2
         },
         "name": "gb",
         "offsetgroup": "gb",
         "orientation": "v",
         "scalegroup": "True",
         "showlegend": true,
         "type": "violin",
         "x": [
          "gb",
          "gb",
          "gb",
          "gb",
          "gb",
          "gb",
          "gb",
          "gb",
          "gb",
          "gb",
          "gb",
          "gb",
          "gb",
          "gb",
          "gb",
          "gb",
          "gb",
          "gb",
          "gb",
          "gb",
          "gb",
          "gb",
          "gb",
          "gb",
          "gb",
          "gb",
          "gb",
          "gb",
          "gb",
          "gb",
          "gb",
          "gb",
          "gb",
          "gb",
          "gb",
          "gb",
          "gb",
          "gb",
          "gb",
          "gb",
          "gb",
          "gb",
          "gb",
          "gb",
          "gb",
          "gb",
          "gb",
          "gb",
          "gb",
          "gb",
          "gb",
          "gb",
          "gb",
          "gb",
          "gb",
          "gb",
          "gb",
          "gb",
          "gb",
          "gb",
          "gb",
          "gb",
          "gb",
          "gb",
          "gb",
          "gb",
          "gb",
          "gb",
          "gb",
          "gb",
          "gb",
          "gb",
          "gb",
          "gb",
          "gb",
          "gb",
          "gb",
          "gb",
          "gb",
          "gb",
          "gb",
          "gb",
          "gb",
          "gb",
          "gb",
          "gb",
          "gb",
          "gb",
          "gb",
          "gb",
          "gb",
          "gb",
          "gb",
          "gb",
          "gb",
          "gb",
          "gb",
          "gb",
          "gb",
          "gb"
         ],
         "x0": " ",
         "xaxis": "x",
         "y": [
          0.7350137793672809,
          0.7337880263194905,
          0.7431015754889434,
          0.7462749422051675,
          0.7417117725228716,
          0.7156759963956116,
          0.7309940775513585,
          0.7415450793978442,
          0.7408384701504617,
          0.7256478438153087,
          0.7384139967063474,
          0.7332930034198075,
          0.7460711257954712,
          0.7348469596236434,
          0.7304683054106197,
          0.7527174892238992,
          0.7508813897954153,
          0.7353427485712111,
          0.7476269532608778,
          0.746427848891729,
          0.7407625303844699,
          0.7403639598166456,
          0.7469145917386584,
          0.7461627005479156,
          0.7389005758479323,
          0.7463823225456958,
          0.7270643691053783,
          0.7518388674032876,
          0.7266759096667703,
          0.7449016580956287,
          0.7557638404597927,
          0.747468687788414,
          0.7317322751114829,
          0.724530993853586,
          0.7319706110267683,
          0.7397204679130317,
          0.7463871183917767,
          0.7440673763231678,
          0.7564965495787844,
          0.7316436390698412,
          0.7420119619145632,
          0.7427357362865598,
          0.7422926285303845,
          0.7405421193041373,
          0.7509640222471323,
          0.7381827008676861,
          0.7439354463932812,
          0.7144038682336099,
          0.741223176080385,
          0.7360717754577605,
          0.7243113481173551,
          0.7523599337050879,
          0.7377478550317307,
          0.7534828628747148,
          0.7450565417802838,
          0.7458987192080743,
          0.7436199311740842,
          0.7188845847924769,
          0.7291410189372193,
          0.7413146112892331,
          0.7381837079028766,
          0.7492268101378856,
          0.7485217503447458,
          0.7412994553421609,
          0.7458425100721277,
          0.7253468807601745,
          0.7369345076796657,
          0.7372303794385892,
          0.7414164019745897,
          0.7445775151365497,
          0.7507146357881715,
          0.7392365057395685,
          0.7419574738583787,
          0.7396788724103173,
          0.7508497581120153,
          0.7410188013976918,
          0.7469958603288334,
          0.7430658316617906,
          0.725079764526069,
          0.7420569890345958,
          0.7334944676084024,
          0.7404307328895148,
          0.7417347594298264,
          0.7359896675776726,
          0.7457893004422937,
          0.7422988634189135,
          0.7490324626796512,
          0.71541273358735,
          0.7410819829101286,
          0.7612143882957025,
          0.7371563906887126,
          0.7352619557464797,
          0.7554138516952321,
          0.7469599367876817,
          0.7365908323568073,
          0.7353095093874432,
          0.7475492374687132,
          0.736415281530475,
          0.7295531739745255,
          0.7448016620184196
         ],
         "y0": " ",
         "yaxis": "y"
        },
        {
         "alignmentgroup": "True",
         "box": {
          "visible": true
         },
         "hovertemplate": "method_original=%{x}<br>c-index=%{y}<extra></extra>",
         "legendgroup": "pcp_hf",
         "marker": {
          "color": "#2BC07B",
          "opacity": 0.9,
          "size": 2
         },
         "name": "pcp_hf",
         "offsetgroup": "pcp_hf",
         "orientation": "v",
         "scalegroup": "True",
         "showlegend": true,
         "type": "violin",
         "x": [
          "pcp_hf",
          "pcp_hf",
          "pcp_hf",
          "pcp_hf",
          "pcp_hf",
          "pcp_hf",
          "pcp_hf",
          "pcp_hf",
          "pcp_hf",
          "pcp_hf",
          "pcp_hf",
          "pcp_hf",
          "pcp_hf",
          "pcp_hf",
          "pcp_hf",
          "pcp_hf",
          "pcp_hf",
          "pcp_hf",
          "pcp_hf",
          "pcp_hf",
          "pcp_hf",
          "pcp_hf",
          "pcp_hf",
          "pcp_hf",
          "pcp_hf",
          "pcp_hf",
          "pcp_hf",
          "pcp_hf",
          "pcp_hf",
          "pcp_hf",
          "pcp_hf",
          "pcp_hf",
          "pcp_hf",
          "pcp_hf",
          "pcp_hf",
          "pcp_hf",
          "pcp_hf",
          "pcp_hf",
          "pcp_hf",
          "pcp_hf",
          "pcp_hf",
          "pcp_hf",
          "pcp_hf",
          "pcp_hf",
          "pcp_hf",
          "pcp_hf",
          "pcp_hf",
          "pcp_hf",
          "pcp_hf",
          "pcp_hf",
          "pcp_hf",
          "pcp_hf",
          "pcp_hf",
          "pcp_hf",
          "pcp_hf",
          "pcp_hf",
          "pcp_hf",
          "pcp_hf",
          "pcp_hf",
          "pcp_hf",
          "pcp_hf",
          "pcp_hf",
          "pcp_hf",
          "pcp_hf",
          "pcp_hf",
          "pcp_hf",
          "pcp_hf",
          "pcp_hf",
          "pcp_hf",
          "pcp_hf",
          "pcp_hf",
          "pcp_hf",
          "pcp_hf",
          "pcp_hf",
          "pcp_hf",
          "pcp_hf",
          "pcp_hf",
          "pcp_hf",
          "pcp_hf",
          "pcp_hf",
          "pcp_hf",
          "pcp_hf",
          "pcp_hf",
          "pcp_hf",
          "pcp_hf",
          "pcp_hf",
          "pcp_hf",
          "pcp_hf",
          "pcp_hf",
          "pcp_hf",
          "pcp_hf",
          "pcp_hf",
          "pcp_hf",
          "pcp_hf",
          "pcp_hf",
          "pcp_hf",
          "pcp_hf",
          "pcp_hf",
          "pcp_hf",
          "pcp_hf"
         ],
         "x0": " ",
         "xaxis": "x",
         "y": [
          0.6920415350378759,
          0.6933144401124725,
          0.6865295225995923,
          0.6877080716486917,
          0.6847747433539806,
          0.690845953538298,
          0.6667767384391681,
          0.6923214667000098,
          0.6859041260087809,
          0.6665729648292597,
          0.6969333020185341,
          0.6958200411237192,
          0.699337958644185,
          0.6928647648199895,
          0.6934292001298816,
          0.6916798984721358,
          0.6953362789105622,
          0.7008579491285984,
          0.6962801599001136,
          0.6803749555873873,
          0.6952108514405683,
          0.6931075254609308,
          0.7004993575229087,
          0.6794653066759055,
          0.6971676360931819,
          0.6879904644850109,
          0.6770539259008702,
          0.690719490032947,
          0.6795719765100923,
          0.6820591826294559,
          0.6924577344107933,
          0.6949749998359134,
          0.6898122191013075,
          0.6813120296995951,
          0.671204371192818,
          0.682288641598357,
          0.6918757314852114,
          0.68922618672849,
          0.7030752280175598,
          0.6920656765186181,
          0.6868717823049059,
          0.6933714246723829,
          0.6770599131747342,
          0.6916512287459107,
          0.708149877380624,
          0.6948989958468984,
          0.7036546604062964,
          0.6735576867933267,
          0.6895371870606083,
          0.6707476516535105,
          0.6651611816659575,
          0.7083735357484834,
          0.6952019914326818,
          0.7033598463201792,
          0.6909804826388054,
          0.6764309859793315,
          0.6877299598093274,
          0.6886695441916575,
          0.6891005704349492,
          0.6850034909512873,
          0.6813109259521613,
          0.6851173207507911,
          0.6915831939677889,
          0.695325658923528,
          0.6920223419212825,
          0.6839929591214385,
          0.686449227530453,
          0.6859369397344959,
          0.6811639546287525,
          0.7011633886260448,
          0.685570683054461,
          0.6750726305000161,
          0.6937768099212521,
          0.6948655502293763,
          0.6951386238896892,
          0.6913963588122669,
          0.6877461838347734,
          0.6947367096040269,
          0.6681383765242083,
          0.6847114060353242,
          0.6848405843247456,
          0.6887421976766251,
          0.6845341430862845,
          0.6970297120154676,
          0.6881693694816712,
          0.6956978902995924,
          0.7042626376552976,
          0.6897341391497411,
          0.6970337354320109,
          0.7047207528897028,
          0.6958048551447557,
          0.672924722771161,
          0.7084158900056003,
          0.6871139586067369,
          0.6966541421846655,
          0.6951317256446982,
          0.6851322749802541,
          0.6919339547142278,
          0.6859680200063801,
          0.7070868222349116
         ],
         "y0": " ",
         "yaxis": "y"
        },
        {
         "alignmentgroup": "True",
         "box": {
          "visible": true
         },
         "hovertemplate": "method_original=%{x}<br>c-index=%{y}<extra></extra>",
         "legendgroup": "stacking",
         "marker": {
          "color": "#D941C3",
          "opacity": 0.9,
          "size": 2
         },
         "name": "stacking",
         "offsetgroup": "stacking",
         "orientation": "v",
         "scalegroup": "True",
         "showlegend": true,
         "type": "violin",
         "x": [
          "stacking",
          "stacking",
          "stacking",
          "stacking",
          "stacking",
          "stacking",
          "stacking",
          "stacking",
          "stacking",
          "stacking",
          "stacking",
          "stacking",
          "stacking",
          "stacking",
          "stacking",
          "stacking",
          "stacking",
          "stacking",
          "stacking",
          "stacking",
          "stacking",
          "stacking",
          "stacking",
          "stacking",
          "stacking",
          "stacking",
          "stacking",
          "stacking",
          "stacking",
          "stacking",
          "stacking",
          "stacking",
          "stacking",
          "stacking",
          "stacking",
          "stacking",
          "stacking",
          "stacking",
          "stacking",
          "stacking",
          "stacking",
          "stacking",
          "stacking",
          "stacking",
          "stacking",
          "stacking",
          "stacking",
          "stacking",
          "stacking",
          "stacking",
          "stacking",
          "stacking",
          "stacking",
          "stacking",
          "stacking",
          "stacking",
          "stacking",
          "stacking",
          "stacking",
          "stacking",
          "stacking",
          "stacking",
          "stacking",
          "stacking",
          "stacking",
          "stacking",
          "stacking",
          "stacking",
          "stacking",
          "stacking",
          "stacking",
          "stacking",
          "stacking",
          "stacking",
          "stacking",
          "stacking",
          "stacking",
          "stacking",
          "stacking",
          "stacking",
          "stacking",
          "stacking",
          "stacking",
          "stacking",
          "stacking",
          "stacking",
          "stacking",
          "stacking",
          "stacking",
          "stacking",
          "stacking",
          "stacking",
          "stacking",
          "stacking",
          "stacking",
          "stacking",
          "stacking",
          "stacking",
          "stacking",
          "stacking"
         ],
         "x0": " ",
         "xaxis": "x",
         "y": [
          0.5350370942055005,
          0.5390951651164961,
          0.5500602178084655,
          0.5530987412235698,
          0.5344905030859542,
          0.5257383064988057,
          0.5407792800439882,
          0.5336405451637786,
          0.5445507351438403,
          0.5331760270142302,
          0.5388169876525617,
          0.5540854512531808,
          0.569938432677967,
          0.549133835792926,
          0.561107552244094,
          0.554887203295246,
          0.5559737128394144,
          0.5533025287713196,
          0.5557641590861929,
          0.5320511146014152,
          0.5398838591494064,
          0.5405846619043682,
          0.5605397574097916,
          0.5400183329646104,
          0.5453367378522859,
          0.5408144483803172,
          0.5219491452744255,
          0.544672064754221,
          0.5376585352559652,
          0.5343446554706937,
          0.5465412364747443,
          0.552161039908716,
          0.5462511839066632,
          0.5220291893815715,
          0.5290750996049817,
          0.5353259257070788,
          0.5320647756427397,
          0.5336730943569642,
          0.559072290108111,
          0.5351511800738069,
          0.536396823967722,
          0.5478127350587654,
          0.5467020083132332,
          0.557276900148649,
          0.5629158417615837,
          0.555157428412497,
          0.5517950184743483,
          0.5274074236781137,
          0.5414639333650249,
          0.5495589680292423,
          0.5321443995338441,
          0.5737804145713671,
          0.5459584595015194,
          0.5362581013537377,
          0.5563289903459459,
          0.5381194934683299,
          0.5415779209270406,
          0.5348438412916056,
          0.5553024017241541,
          0.5387109828037502,
          0.540939605617103,
          0.5480316305666098,
          0.5439057513124412,
          0.557795688074775,
          0.5517712213444089,
          0.5378088767672853,
          0.573507322201001,
          0.534484746035455,
          0.5480007780283516,
          0.5543742737725863,
          0.5324546884503596,
          0.5259794634583136,
          0.5311175600350256,
          0.5686668532455806,
          0.5630281132643244,
          0.5598371310107031,
          0.5424041756889849,
          0.5573400693473205,
          0.5347738790259001,
          0.5288879660888831,
          0.536827818966456,
          0.5376436658490166,
          0.5527399283605596,
          0.5439807190488232,
          0.5355199499799597,
          0.5277421303555754,
          0.5526261874364051,
          0.5542212974815578,
          0.5402001212638858,
          0.5709070584154605,
          0.54178199128105,
          0.5352135993512649,
          0.5548428779218729,
          0.5293588480376848,
          0.5596930230409193,
          0.539794577128283,
          0.5552768308096553,
          0.5497986406569622,
          0.5384170732266236,
          0.5490861163761659
         ],
         "y0": " ",
         "yaxis": "y"
        }
       ],
       "layout": {
        "annotations": [
         {
          "font": {
           "color": "#4194D9",
           "size": 25
          },
          "showarrow": false,
          "text": "0.766",
          "x": 0.4,
          "y": 0.765908876726351
         },
         {
          "font": {
           "color": "#FF7F00",
           "size": 25
          },
          "showarrow": false,
          "text": "0.740",
          "x": 1.4,
          "y": 0.7401533687294889
         },
         {
          "font": {
           "color": "#2BC07B",
           "size": 25
          },
          "showarrow": false,
          "text": "0.690",
          "x": 2.4,
          "y": 0.689565053754223
         },
         {
          "font": {
           "color": "#D941C3",
           "size": 25
          },
          "showarrow": false,
          "text": "0.545",
          "x": 3.4,
          "y": 0.5448216914215448
         }
        ],
        "bargroupgap": 0.1,
        "font": {
         "family": "Calibri",
         "size": 28
        },
        "legend": {
         "itemsizing": "constant",
         "title": {
          "font": {
           "color": "rgba(0,0,0,0)"
          },
          "text": "method_original"
         },
         "tracegroupgap": 0
        },
        "margin": {
         "t": 60
        },
        "showlegend": false,
        "template": {
         "data": {
          "bar": [
           {
            "error_x": {
             "color": "rgb(36,36,36)"
            },
            "error_y": {
             "color": "rgb(36,36,36)"
            },
            "marker": {
             "line": {
              "color": "white",
              "width": 0.5
             },
             "pattern": {
              "fillmode": "overlay",
              "size": 10,
              "solidity": 0.2
             }
            },
            "type": "bar"
           }
          ],
          "barpolar": [
           {
            "marker": {
             "line": {
              "color": "white",
              "width": 0.5
             },
             "pattern": {
              "fillmode": "overlay",
              "size": 10,
              "solidity": 0.2
             }
            },
            "type": "barpolar"
           }
          ],
          "carpet": [
           {
            "aaxis": {
             "endlinecolor": "rgb(36,36,36)",
             "gridcolor": "white",
             "linecolor": "white",
             "minorgridcolor": "white",
             "startlinecolor": "rgb(36,36,36)"
            },
            "baxis": {
             "endlinecolor": "rgb(36,36,36)",
             "gridcolor": "white",
             "linecolor": "white",
             "minorgridcolor": "white",
             "startlinecolor": "rgb(36,36,36)"
            },
            "type": "carpet"
           }
          ],
          "choropleth": [
           {
            "colorbar": {
             "outlinewidth": 1,
             "tickcolor": "rgb(36,36,36)",
             "ticks": "outside"
            },
            "type": "choropleth"
           }
          ],
          "contour": [
           {
            "colorbar": {
             "outlinewidth": 1,
             "tickcolor": "rgb(36,36,36)",
             "ticks": "outside"
            },
            "colorscale": [
             [
              0,
              "#440154"
             ],
             [
              0.1111111111111111,
              "#482878"
             ],
             [
              0.2222222222222222,
              "#3e4989"
             ],
             [
              0.3333333333333333,
              "#31688e"
             ],
             [
              0.4444444444444444,
              "#26828e"
             ],
             [
              0.5555555555555556,
              "#1f9e89"
             ],
             [
              0.6666666666666666,
              "#35b779"
             ],
             [
              0.7777777777777778,
              "#6ece58"
             ],
             [
              0.8888888888888888,
              "#b5de2b"
             ],
             [
              1,
              "#fde725"
             ]
            ],
            "type": "contour"
           }
          ],
          "contourcarpet": [
           {
            "colorbar": {
             "outlinewidth": 1,
             "tickcolor": "rgb(36,36,36)",
             "ticks": "outside"
            },
            "type": "contourcarpet"
           }
          ],
          "heatmap": [
           {
            "colorbar": {
             "outlinewidth": 1,
             "tickcolor": "rgb(36,36,36)",
             "ticks": "outside"
            },
            "colorscale": [
             [
              0,
              "#440154"
             ],
             [
              0.1111111111111111,
              "#482878"
             ],
             [
              0.2222222222222222,
              "#3e4989"
             ],
             [
              0.3333333333333333,
              "#31688e"
             ],
             [
              0.4444444444444444,
              "#26828e"
             ],
             [
              0.5555555555555556,
              "#1f9e89"
             ],
             [
              0.6666666666666666,
              "#35b779"
             ],
             [
              0.7777777777777778,
              "#6ece58"
             ],
             [
              0.8888888888888888,
              "#b5de2b"
             ],
             [
              1,
              "#fde725"
             ]
            ],
            "type": "heatmap"
           }
          ],
          "heatmapgl": [
           {
            "colorbar": {
             "outlinewidth": 1,
             "tickcolor": "rgb(36,36,36)",
             "ticks": "outside"
            },
            "colorscale": [
             [
              0,
              "#440154"
             ],
             [
              0.1111111111111111,
              "#482878"
             ],
             [
              0.2222222222222222,
              "#3e4989"
             ],
             [
              0.3333333333333333,
              "#31688e"
             ],
             [
              0.4444444444444444,
              "#26828e"
             ],
             [
              0.5555555555555556,
              "#1f9e89"
             ],
             [
              0.6666666666666666,
              "#35b779"
             ],
             [
              0.7777777777777778,
              "#6ece58"
             ],
             [
              0.8888888888888888,
              "#b5de2b"
             ],
             [
              1,
              "#fde725"
             ]
            ],
            "type": "heatmapgl"
           }
          ],
          "histogram": [
           {
            "marker": {
             "line": {
              "color": "white",
              "width": 0.6
             }
            },
            "type": "histogram"
           }
          ],
          "histogram2d": [
           {
            "colorbar": {
             "outlinewidth": 1,
             "tickcolor": "rgb(36,36,36)",
             "ticks": "outside"
            },
            "colorscale": [
             [
              0,
              "#440154"
             ],
             [
              0.1111111111111111,
              "#482878"
             ],
             [
              0.2222222222222222,
              "#3e4989"
             ],
             [
              0.3333333333333333,
              "#31688e"
             ],
             [
              0.4444444444444444,
              "#26828e"
             ],
             [
              0.5555555555555556,
              "#1f9e89"
             ],
             [
              0.6666666666666666,
              "#35b779"
             ],
             [
              0.7777777777777778,
              "#6ece58"
             ],
             [
              0.8888888888888888,
              "#b5de2b"
             ],
             [
              1,
              "#fde725"
             ]
            ],
            "type": "histogram2d"
           }
          ],
          "histogram2dcontour": [
           {
            "colorbar": {
             "outlinewidth": 1,
             "tickcolor": "rgb(36,36,36)",
             "ticks": "outside"
            },
            "colorscale": [
             [
              0,
              "#440154"
             ],
             [
              0.1111111111111111,
              "#482878"
             ],
             [
              0.2222222222222222,
              "#3e4989"
             ],
             [
              0.3333333333333333,
              "#31688e"
             ],
             [
              0.4444444444444444,
              "#26828e"
             ],
             [
              0.5555555555555556,
              "#1f9e89"
             ],
             [
              0.6666666666666666,
              "#35b779"
             ],
             [
              0.7777777777777778,
              "#6ece58"
             ],
             [
              0.8888888888888888,
              "#b5de2b"
             ],
             [
              1,
              "#fde725"
             ]
            ],
            "type": "histogram2dcontour"
           }
          ],
          "mesh3d": [
           {
            "colorbar": {
             "outlinewidth": 1,
             "tickcolor": "rgb(36,36,36)",
             "ticks": "outside"
            },
            "type": "mesh3d"
           }
          ],
          "parcoords": [
           {
            "line": {
             "colorbar": {
              "outlinewidth": 1,
              "tickcolor": "rgb(36,36,36)",
              "ticks": "outside"
             }
            },
            "type": "parcoords"
           }
          ],
          "pie": [
           {
            "automargin": true,
            "type": "pie"
           }
          ],
          "scatter": [
           {
            "fillpattern": {
             "fillmode": "overlay",
             "size": 10,
             "solidity": 0.2
            },
            "type": "scatter"
           }
          ],
          "scatter3d": [
           {
            "line": {
             "colorbar": {
              "outlinewidth": 1,
              "tickcolor": "rgb(36,36,36)",
              "ticks": "outside"
             }
            },
            "marker": {
             "colorbar": {
              "outlinewidth": 1,
              "tickcolor": "rgb(36,36,36)",
              "ticks": "outside"
             }
            },
            "type": "scatter3d"
           }
          ],
          "scattercarpet": [
           {
            "marker": {
             "colorbar": {
              "outlinewidth": 1,
              "tickcolor": "rgb(36,36,36)",
              "ticks": "outside"
             }
            },
            "type": "scattercarpet"
           }
          ],
          "scattergeo": [
           {
            "marker": {
             "colorbar": {
              "outlinewidth": 1,
              "tickcolor": "rgb(36,36,36)",
              "ticks": "outside"
             }
            },
            "type": "scattergeo"
           }
          ],
          "scattergl": [
           {
            "marker": {
             "colorbar": {
              "outlinewidth": 1,
              "tickcolor": "rgb(36,36,36)",
              "ticks": "outside"
             }
            },
            "type": "scattergl"
           }
          ],
          "scattermapbox": [
           {
            "marker": {
             "colorbar": {
              "outlinewidth": 1,
              "tickcolor": "rgb(36,36,36)",
              "ticks": "outside"
             }
            },
            "type": "scattermapbox"
           }
          ],
          "scatterpolar": [
           {
            "marker": {
             "colorbar": {
              "outlinewidth": 1,
              "tickcolor": "rgb(36,36,36)",
              "ticks": "outside"
             }
            },
            "type": "scatterpolar"
           }
          ],
          "scatterpolargl": [
           {
            "marker": {
             "colorbar": {
              "outlinewidth": 1,
              "tickcolor": "rgb(36,36,36)",
              "ticks": "outside"
             }
            },
            "type": "scatterpolargl"
           }
          ],
          "scatterternary": [
           {
            "marker": {
             "colorbar": {
              "outlinewidth": 1,
              "tickcolor": "rgb(36,36,36)",
              "ticks": "outside"
             }
            },
            "type": "scatterternary"
           }
          ],
          "surface": [
           {
            "colorbar": {
             "outlinewidth": 1,
             "tickcolor": "rgb(36,36,36)",
             "ticks": "outside"
            },
            "colorscale": [
             [
              0,
              "#440154"
             ],
             [
              0.1111111111111111,
              "#482878"
             ],
             [
              0.2222222222222222,
              "#3e4989"
             ],
             [
              0.3333333333333333,
              "#31688e"
             ],
             [
              0.4444444444444444,
              "#26828e"
             ],
             [
              0.5555555555555556,
              "#1f9e89"
             ],
             [
              0.6666666666666666,
              "#35b779"
             ],
             [
              0.7777777777777778,
              "#6ece58"
             ],
             [
              0.8888888888888888,
              "#b5de2b"
             ],
             [
              1,
              "#fde725"
             ]
            ],
            "type": "surface"
           }
          ],
          "table": [
           {
            "cells": {
             "fill": {
              "color": "rgb(237,237,237)"
             },
             "line": {
              "color": "white"
             }
            },
            "header": {
             "fill": {
              "color": "rgb(217,217,217)"
             },
             "line": {
              "color": "white"
             }
            },
            "type": "table"
           }
          ]
         },
         "layout": {
          "annotationdefaults": {
           "arrowhead": 0,
           "arrowwidth": 1
          },
          "autotypenumbers": "strict",
          "coloraxis": {
           "colorbar": {
            "outlinewidth": 1,
            "tickcolor": "rgb(36,36,36)",
            "ticks": "outside"
           }
          },
          "colorscale": {
           "diverging": [
            [
             0,
             "rgb(103,0,31)"
            ],
            [
             0.1,
             "rgb(178,24,43)"
            ],
            [
             0.2,
             "rgb(214,96,77)"
            ],
            [
             0.3,
             "rgb(244,165,130)"
            ],
            [
             0.4,
             "rgb(253,219,199)"
            ],
            [
             0.5,
             "rgb(247,247,247)"
            ],
            [
             0.6,
             "rgb(209,229,240)"
            ],
            [
             0.7,
             "rgb(146,197,222)"
            ],
            [
             0.8,
             "rgb(67,147,195)"
            ],
            [
             0.9,
             "rgb(33,102,172)"
            ],
            [
             1,
             "rgb(5,48,97)"
            ]
           ],
           "sequential": [
            [
             0,
             "#440154"
            ],
            [
             0.1111111111111111,
             "#482878"
            ],
            [
             0.2222222222222222,
             "#3e4989"
            ],
            [
             0.3333333333333333,
             "#31688e"
            ],
            [
             0.4444444444444444,
             "#26828e"
            ],
            [
             0.5555555555555556,
             "#1f9e89"
            ],
            [
             0.6666666666666666,
             "#35b779"
            ],
            [
             0.7777777777777778,
             "#6ece58"
            ],
            [
             0.8888888888888888,
             "#b5de2b"
            ],
            [
             1,
             "#fde725"
            ]
           ],
           "sequentialminus": [
            [
             0,
             "#440154"
            ],
            [
             0.1111111111111111,
             "#482878"
            ],
            [
             0.2222222222222222,
             "#3e4989"
            ],
            [
             0.3333333333333333,
             "#31688e"
            ],
            [
             0.4444444444444444,
             "#26828e"
            ],
            [
             0.5555555555555556,
             "#1f9e89"
            ],
            [
             0.6666666666666666,
             "#35b779"
            ],
            [
             0.7777777777777778,
             "#6ece58"
            ],
            [
             0.8888888888888888,
             "#b5de2b"
            ],
            [
             1,
             "#fde725"
            ]
           ]
          },
          "colorway": [
           "#1F77B4",
           "#FF7F0E",
           "#2CA02C",
           "#D62728",
           "#9467BD",
           "#8C564B",
           "#E377C2",
           "#7F7F7F",
           "#BCBD22",
           "#17BECF"
          ],
          "font": {
           "color": "rgb(36,36,36)"
          },
          "geo": {
           "bgcolor": "white",
           "lakecolor": "white",
           "landcolor": "white",
           "showlakes": true,
           "showland": true,
           "subunitcolor": "white"
          },
          "hoverlabel": {
           "align": "left"
          },
          "hovermode": "closest",
          "mapbox": {
           "style": "light"
          },
          "paper_bgcolor": "white",
          "plot_bgcolor": "white",
          "polar": {
           "angularaxis": {
            "gridcolor": "rgb(232,232,232)",
            "linecolor": "rgb(36,36,36)",
            "showgrid": false,
            "showline": true,
            "ticks": "outside"
           },
           "bgcolor": "white",
           "radialaxis": {
            "gridcolor": "rgb(232,232,232)",
            "linecolor": "rgb(36,36,36)",
            "showgrid": false,
            "showline": true,
            "ticks": "outside"
           }
          },
          "scene": {
           "xaxis": {
            "backgroundcolor": "white",
            "gridcolor": "rgb(232,232,232)",
            "gridwidth": 2,
            "linecolor": "rgb(36,36,36)",
            "showbackground": true,
            "showgrid": false,
            "showline": true,
            "ticks": "outside",
            "zeroline": false,
            "zerolinecolor": "rgb(36,36,36)"
           },
           "yaxis": {
            "backgroundcolor": "white",
            "gridcolor": "rgb(232,232,232)",
            "gridwidth": 2,
            "linecolor": "rgb(36,36,36)",
            "showbackground": true,
            "showgrid": false,
            "showline": true,
            "ticks": "outside",
            "zeroline": false,
            "zerolinecolor": "rgb(36,36,36)"
           },
           "zaxis": {
            "backgroundcolor": "white",
            "gridcolor": "rgb(232,232,232)",
            "gridwidth": 2,
            "linecolor": "rgb(36,36,36)",
            "showbackground": true,
            "showgrid": false,
            "showline": true,
            "ticks": "outside",
            "zeroline": false,
            "zerolinecolor": "rgb(36,36,36)"
           }
          },
          "shapedefaults": {
           "fillcolor": "black",
           "line": {
            "width": 0
           },
           "opacity": 0.3
          },
          "ternary": {
           "aaxis": {
            "gridcolor": "rgb(232,232,232)",
            "linecolor": "rgb(36,36,36)",
            "showgrid": false,
            "showline": true,
            "ticks": "outside"
           },
           "baxis": {
            "gridcolor": "rgb(232,232,232)",
            "linecolor": "rgb(36,36,36)",
            "showgrid": false,
            "showline": true,
            "ticks": "outside"
           },
           "bgcolor": "white",
           "caxis": {
            "gridcolor": "rgb(232,232,232)",
            "linecolor": "rgb(36,36,36)",
            "showgrid": false,
            "showline": true,
            "ticks": "outside"
           }
          },
          "title": {
           "x": 0.05
          },
          "xaxis": {
           "automargin": true,
           "gridcolor": "rgb(232,232,232)",
           "linecolor": "rgb(36,36,36)",
           "showgrid": false,
           "showline": true,
           "ticks": "outside",
           "title": {
            "standoff": 15
           },
           "zeroline": false,
           "zerolinecolor": "rgb(36,36,36)"
          },
          "yaxis": {
           "automargin": true,
           "gridcolor": "rgb(232,232,232)",
           "linecolor": "rgb(36,36,36)",
           "showgrid": false,
           "showline": true,
           "ticks": "outside",
           "title": {
            "standoff": 15
           },
           "zeroline": false,
           "zerolinecolor": "rgb(36,36,36)"
          }
         }
        },
        "violinmode": "overlay",
        "xaxis": {
         "anchor": "y",
         "categoryarray": [
          "coxnet",
          "gb",
          "pcp_hf",
          "stacking"
         ],
         "categoryorder": "array",
         "domain": [
          0,
          1
         ],
         "showgrid": true,
         "ticktext": [
          "CoxNet (CN)",
          "CoxNet (CN)",
          "CoxNet (CN)",
          "CoxNet (CN)",
          "CoxNet (CN)",
          "CoxNet (CN)",
          "CoxNet (CN)",
          "CoxNet (CN)",
          "CoxNet (CN)",
          "CoxNet (CN)",
          "CoxNet (CN)",
          "CoxNet (CN)",
          "CoxNet (CN)",
          "CoxNet (CN)",
          "CoxNet (CN)",
          "CoxNet (CN)",
          "CoxNet (CN)",
          "CoxNet (CN)",
          "CoxNet (CN)",
          "CoxNet (CN)",
          "CoxNet (CN)",
          "CoxNet (CN)",
          "CoxNet (CN)",
          "CoxNet (CN)",
          "CoxNet (CN)",
          "CoxNet (CN)",
          "CoxNet (CN)",
          "CoxNet (CN)",
          "CoxNet (CN)",
          "CoxNet (CN)",
          "CoxNet (CN)",
          "CoxNet (CN)",
          "CoxNet (CN)",
          "CoxNet (CN)",
          "CoxNet (CN)",
          "CoxNet (CN)",
          "CoxNet (CN)",
          "CoxNet (CN)",
          "CoxNet (CN)",
          "CoxNet (CN)",
          "CoxNet (CN)",
          "CoxNet (CN)",
          "CoxNet (CN)",
          "CoxNet (CN)",
          "CoxNet (CN)",
          "CoxNet (CN)",
          "CoxNet (CN)",
          "CoxNet (CN)",
          "CoxNet (CN)",
          "CoxNet (CN)",
          "CoxNet (CN)",
          "CoxNet (CN)",
          "CoxNet (CN)",
          "CoxNet (CN)",
          "CoxNet (CN)",
          "CoxNet (CN)",
          "CoxNet (CN)",
          "CoxNet (CN)",
          "CoxNet (CN)",
          "CoxNet (CN)",
          "CoxNet (CN)",
          "CoxNet (CN)",
          "CoxNet (CN)",
          "CoxNet (CN)",
          "CoxNet (CN)",
          "CoxNet (CN)",
          "CoxNet (CN)",
          "CoxNet (CN)",
          "CoxNet (CN)",
          "CoxNet (CN)",
          "CoxNet (CN)",
          "CoxNet (CN)",
          "CoxNet (CN)",
          "CoxNet (CN)",
          "CoxNet (CN)",
          "CoxNet (CN)",
          "CoxNet (CN)",
          "CoxNet (CN)",
          "CoxNet (CN)",
          "CoxNet (CN)",
          "CoxNet (CN)",
          "CoxNet (CN)",
          "CoxNet (CN)",
          "CoxNet (CN)",
          "CoxNet (CN)",
          "CoxNet (CN)",
          "CoxNet (CN)",
          "CoxNet (CN)",
          "CoxNet (CN)",
          "CoxNet (CN)",
          "CoxNet (CN)",
          "CoxNet (CN)",
          "CoxNet (CN)",
          "CoxNet (CN)",
          "CoxNet (CN)",
          "CoxNet (CN)",
          "CoxNet (CN)",
          "CoxNet (CN)",
          "CoxNet (CN)",
          "CoxNet (CN)",
          "Gradient\nBoosting (GB)",
          "Gradient\nBoosting (GB)",
          "Gradient\nBoosting (GB)",
          "Gradient\nBoosting (GB)",
          "Gradient\nBoosting (GB)",
          "Gradient\nBoosting (GB)",
          "Gradient\nBoosting (GB)",
          "Gradient\nBoosting (GB)",
          "Gradient\nBoosting (GB)",
          "Gradient\nBoosting (GB)",
          "Gradient\nBoosting (GB)",
          "Gradient\nBoosting (GB)",
          "Gradient\nBoosting (GB)",
          "Gradient\nBoosting (GB)",
          "Gradient\nBoosting (GB)",
          "Gradient\nBoosting (GB)",
          "Gradient\nBoosting (GB)",
          "Gradient\nBoosting (GB)",
          "Gradient\nBoosting (GB)",
          "Gradient\nBoosting (GB)",
          "Gradient\nBoosting (GB)",
          "Gradient\nBoosting (GB)",
          "Gradient\nBoosting (GB)",
          "Gradient\nBoosting (GB)",
          "Gradient\nBoosting (GB)",
          "Gradient\nBoosting (GB)",
          "Gradient\nBoosting (GB)",
          "Gradient\nBoosting (GB)",
          "Gradient\nBoosting (GB)",
          "Gradient\nBoosting (GB)",
          "Gradient\nBoosting (GB)",
          "Gradient\nBoosting (GB)",
          "Gradient\nBoosting (GB)",
          "Gradient\nBoosting (GB)",
          "Gradient\nBoosting (GB)",
          "Gradient\nBoosting (GB)",
          "Gradient\nBoosting (GB)",
          "Gradient\nBoosting (GB)",
          "Gradient\nBoosting (GB)",
          "Gradient\nBoosting (GB)",
          "Gradient\nBoosting (GB)",
          "Gradient\nBoosting (GB)",
          "Gradient\nBoosting (GB)",
          "Gradient\nBoosting (GB)",
          "Gradient\nBoosting (GB)",
          "Gradient\nBoosting (GB)",
          "Gradient\nBoosting (GB)",
          "Gradient\nBoosting (GB)",
          "Gradient\nBoosting (GB)",
          "Gradient\nBoosting (GB)",
          "Gradient\nBoosting (GB)",
          "Gradient\nBoosting (GB)",
          "Gradient\nBoosting (GB)",
          "Gradient\nBoosting (GB)",
          "Gradient\nBoosting (GB)",
          "Gradient\nBoosting (GB)",
          "Gradient\nBoosting (GB)",
          "Gradient\nBoosting (GB)",
          "Gradient\nBoosting (GB)",
          "Gradient\nBoosting (GB)",
          "Gradient\nBoosting (GB)",
          "Gradient\nBoosting (GB)",
          "Gradient\nBoosting (GB)",
          "Gradient\nBoosting (GB)",
          "Gradient\nBoosting (GB)",
          "Gradient\nBoosting (GB)",
          "Gradient\nBoosting (GB)",
          "Gradient\nBoosting (GB)",
          "Gradient\nBoosting (GB)",
          "Gradient\nBoosting (GB)",
          "Gradient\nBoosting (GB)",
          "Gradient\nBoosting (GB)",
          "Gradient\nBoosting (GB)",
          "Gradient\nBoosting (GB)",
          "Gradient\nBoosting (GB)",
          "Gradient\nBoosting (GB)",
          "Gradient\nBoosting (GB)",
          "Gradient\nBoosting (GB)",
          "Gradient\nBoosting (GB)",
          "Gradient\nBoosting (GB)",
          "Gradient\nBoosting (GB)",
          "Gradient\nBoosting (GB)",
          "Gradient\nBoosting (GB)",
          "Gradient\nBoosting (GB)",
          "Gradient\nBoosting (GB)",
          "Gradient\nBoosting (GB)",
          "Gradient\nBoosting (GB)",
          "Gradient\nBoosting (GB)",
          "Gradient\nBoosting (GB)",
          "Gradient\nBoosting (GB)",
          "Gradient\nBoosting (GB)",
          "Gradient\nBoosting (GB)",
          "Gradient\nBoosting (GB)",
          "Gradient\nBoosting (GB)",
          "Gradient\nBoosting (GB)",
          "Gradient\nBoosting (GB)",
          "Gradient\nBoosting (GB)",
          "Gradient\nBoosting (GB)",
          "Gradient\nBoosting (GB)",
          "Gradient\nBoosting (GB)",
          "PCP-HF",
          "PCP-HF",
          "PCP-HF",
          "PCP-HF",
          "PCP-HF",
          "PCP-HF",
          "PCP-HF",
          "PCP-HF",
          "PCP-HF",
          "PCP-HF",
          "PCP-HF",
          "PCP-HF",
          "PCP-HF",
          "PCP-HF",
          "PCP-HF",
          "PCP-HF",
          "PCP-HF",
          "PCP-HF",
          "PCP-HF",
          "PCP-HF",
          "PCP-HF",
          "PCP-HF",
          "PCP-HF",
          "PCP-HF",
          "PCP-HF",
          "PCP-HF",
          "PCP-HF",
          "PCP-HF",
          "PCP-HF",
          "PCP-HF",
          "PCP-HF",
          "PCP-HF",
          "PCP-HF",
          "PCP-HF",
          "PCP-HF",
          "PCP-HF",
          "PCP-HF",
          "PCP-HF",
          "PCP-HF",
          "PCP-HF",
          "PCP-HF",
          "PCP-HF",
          "PCP-HF",
          "PCP-HF",
          "PCP-HF",
          "PCP-HF",
          "PCP-HF",
          "PCP-HF",
          "PCP-HF",
          "PCP-HF",
          "PCP-HF",
          "PCP-HF",
          "PCP-HF",
          "PCP-HF",
          "PCP-HF",
          "PCP-HF",
          "PCP-HF",
          "PCP-HF",
          "PCP-HF",
          "PCP-HF",
          "PCP-HF",
          "PCP-HF",
          "PCP-HF",
          "PCP-HF",
          "PCP-HF",
          "PCP-HF",
          "PCP-HF",
          "PCP-HF",
          "PCP-HF",
          "PCP-HF",
          "PCP-HF",
          "PCP-HF",
          "PCP-HF",
          "PCP-HF",
          "PCP-HF",
          "PCP-HF",
          "PCP-HF",
          "PCP-HF",
          "PCP-HF",
          "PCP-HF",
          "PCP-HF",
          "PCP-HF",
          "PCP-HF",
          "PCP-HF",
          "PCP-HF",
          "PCP-HF",
          "PCP-HF",
          "PCP-HF",
          "PCP-HF",
          "PCP-HF",
          "PCP-HF",
          "PCP-HF",
          "PCP-HF",
          "PCP-HF",
          "PCP-HF",
          "PCP-HF",
          "PCP-HF",
          "PCP-HF",
          "PCP-HF",
          "PCP-HF",
          "Stacking (ST)",
          "Stacking (ST)",
          "Stacking (ST)",
          "Stacking (ST)",
          "Stacking (ST)",
          "Stacking (ST)",
          "Stacking (ST)",
          "Stacking (ST)",
          "Stacking (ST)",
          "Stacking (ST)",
          "Stacking (ST)",
          "Stacking (ST)",
          "Stacking (ST)",
          "Stacking (ST)",
          "Stacking (ST)",
          "Stacking (ST)",
          "Stacking (ST)",
          "Stacking (ST)",
          "Stacking (ST)",
          "Stacking (ST)",
          "Stacking (ST)",
          "Stacking (ST)",
          "Stacking (ST)",
          "Stacking (ST)",
          "Stacking (ST)",
          "Stacking (ST)",
          "Stacking (ST)",
          "Stacking (ST)",
          "Stacking (ST)",
          "Stacking (ST)",
          "Stacking (ST)",
          "Stacking (ST)",
          "Stacking (ST)",
          "Stacking (ST)",
          "Stacking (ST)",
          "Stacking (ST)",
          "Stacking (ST)",
          "Stacking (ST)",
          "Stacking (ST)",
          "Stacking (ST)",
          "Stacking (ST)",
          "Stacking (ST)",
          "Stacking (ST)",
          "Stacking (ST)",
          "Stacking (ST)",
          "Stacking (ST)",
          "Stacking (ST)",
          "Stacking (ST)",
          "Stacking (ST)",
          "Stacking (ST)",
          "Stacking (ST)",
          "Stacking (ST)",
          "Stacking (ST)",
          "Stacking (ST)",
          "Stacking (ST)",
          "Stacking (ST)",
          "Stacking (ST)",
          "Stacking (ST)",
          "Stacking (ST)",
          "Stacking (ST)",
          "Stacking (ST)",
          "Stacking (ST)",
          "Stacking (ST)",
          "Stacking (ST)",
          "Stacking (ST)",
          "Stacking (ST)",
          "Stacking (ST)",
          "Stacking (ST)",
          "Stacking (ST)",
          "Stacking (ST)",
          "Stacking (ST)",
          "Stacking (ST)",
          "Stacking (ST)",
          "Stacking (ST)",
          "Stacking (ST)",
          "Stacking (ST)",
          "Stacking (ST)",
          "Stacking (ST)",
          "Stacking (ST)",
          "Stacking (ST)",
          "Stacking (ST)",
          "Stacking (ST)",
          "Stacking (ST)",
          "Stacking (ST)",
          "Stacking (ST)",
          "Stacking (ST)",
          "Stacking (ST)",
          "Stacking (ST)",
          "Stacking (ST)",
          "Stacking (ST)",
          "Stacking (ST)",
          "Stacking (ST)",
          "Stacking (ST)",
          "Stacking (ST)",
          "Stacking (ST)",
          "Stacking (ST)",
          "Stacking (ST)",
          "Stacking (ST)",
          "Stacking (ST)",
          "Stacking (ST)"
         ],
         "title": {}
        },
        "yaxis": {
         "anchor": "x",
         "domain": [
          0,
          1
         ],
         "range": [
          0.65,
          0.8
         ],
         "showgrid": true,
         "title": {
          "text": "c-index"
         }
        }
       }
      },
      "text/html": [
       "<div>                            <div id=\"2bc6e3d2-6c6b-4086-939d-adab4d9c04c9\" class=\"plotly-graph-div\" style=\"height:525px; width:100%;\"></div>            <script type=\"text/javascript\">                require([\"plotly\"], function(Plotly) {                    window.PLOTLYENV=window.PLOTLYENV || {};                                    if (document.getElementById(\"2bc6e3d2-6c6b-4086-939d-adab4d9c04c9\")) {                    Plotly.newPlot(                        \"2bc6e3d2-6c6b-4086-939d-adab4d9c04c9\",                        [{\"alignmentgroup\":\"True\",\"box\":{\"visible\":true},\"hovertemplate\":\"method_original=%{x}<br>c-index=%{y}<extra></extra>\",\"legendgroup\":\"coxnet\",\"marker\":{\"color\":\"#4194D9\",\"opacity\":0.9,\"size\":2},\"name\":\"coxnet\",\"offsetgroup\":\"coxnet\",\"orientation\":\"v\",\"scalegroup\":\"True\",\"showlegend\":true,\"x\":[\"coxnet\",\"coxnet\",\"coxnet\",\"coxnet\",\"coxnet\",\"coxnet\",\"coxnet\",\"coxnet\",\"coxnet\",\"coxnet\",\"coxnet\",\"coxnet\",\"coxnet\",\"coxnet\",\"coxnet\",\"coxnet\",\"coxnet\",\"coxnet\",\"coxnet\",\"coxnet\",\"coxnet\",\"coxnet\",\"coxnet\",\"coxnet\",\"coxnet\",\"coxnet\",\"coxnet\",\"coxnet\",\"coxnet\",\"coxnet\",\"coxnet\",\"coxnet\",\"coxnet\",\"coxnet\",\"coxnet\",\"coxnet\",\"coxnet\",\"coxnet\",\"coxnet\",\"coxnet\",\"coxnet\",\"coxnet\",\"coxnet\",\"coxnet\",\"coxnet\",\"coxnet\",\"coxnet\",\"coxnet\",\"coxnet\",\"coxnet\",\"coxnet\",\"coxnet\",\"coxnet\",\"coxnet\",\"coxnet\",\"coxnet\",\"coxnet\",\"coxnet\",\"coxnet\",\"coxnet\",\"coxnet\",\"coxnet\",\"coxnet\",\"coxnet\",\"coxnet\",\"coxnet\",\"coxnet\",\"coxnet\",\"coxnet\",\"coxnet\",\"coxnet\",\"coxnet\",\"coxnet\",\"coxnet\",\"coxnet\",\"coxnet\",\"coxnet\",\"coxnet\",\"coxnet\",\"coxnet\",\"coxnet\",\"coxnet\",\"coxnet\",\"coxnet\",\"coxnet\",\"coxnet\",\"coxnet\",\"coxnet\",\"coxnet\",\"coxnet\",\"coxnet\",\"coxnet\",\"coxnet\",\"coxnet\",\"coxnet\",\"coxnet\",\"coxnet\",\"coxnet\",\"coxnet\",\"coxnet\"],\"x0\":\" \",\"xaxis\":\"x\",\"y\":[0.7623956002189837,0.7729479875949119,0.7566774089604448,0.7625696422965555,0.7657407596105976,0.7607758518745161,0.7415388659317105,0.770481791504495,0.7588066313725431,0.749561579471668,0.7679970139878275,0.7679854785208283,0.7640897665605356,0.7605130404720364,0.7507068087635553,0.7659737447391096,0.7580124765787796,0.7618704452575926,0.7666892901689498,0.7690164990116503,0.7735563567857188,0.7719977502805461,0.7585178823541645,0.771629149198358,0.7833187208678065,0.7734367130725963,0.7592597749280766,0.768127250843097,0.7492913772865742,0.7708845574361268,0.7653760505514002,0.7651869086599494,0.7630444862309678,0.7555886943362666,0.7631712427694853,0.7710629896644389,0.7635180622524589,0.7621188410605166,0.7845305938681997,0.7608409817963091,0.7757779736335697,0.7737879712527695,0.7613471501600514,0.764712220303052,0.7747564148973471,0.7680115642876493,0.7700364675916169,0.759343657522825,0.7582920475219724,0.7588334216762206,0.7570858764930075,0.7674400247512855,0.7637714371925051,0.7815623185435059,0.7704975470101767,0.7712964120005177,0.7642636357866509,0.7571208926355794,0.7531152076577587,0.770281936648281,0.7665846520423067,0.773909593876875,0.7651383851735267,0.7743509237557882,0.7734297906939439,0.7501187291264665,0.759263064706604,0.7670223245875081,0.7543118753041573,0.7762527315968923,0.7762157099310747,0.76480901697389,0.7675835881192042,0.7688330084934973,0.7700912066694588,0.764837610476249,0.7798549694906806,0.7691017063541714,0.7600723300336174,0.7648651923621878,0.7606043415101493,0.7694015547150351,0.7709471944019605,0.7664380976868536,0.7658279022843653,0.7697820136072783,0.7698609349878124,0.7511418017446061,0.7648382033475373,0.7809228667626974,0.7659427120004606,0.7653853547970819,0.7766137066284653,0.7715249804934711,0.7651983255268133,0.7620922709022769,0.77203524088266,0.7681556163077797,0.7643181030969597,0.7730667964760399],\"y0\":\" \",\"yaxis\":\"y\",\"type\":\"violin\"},{\"alignmentgroup\":\"True\",\"box\":{\"visible\":true},\"hovertemplate\":\"method_original=%{x}<br>c-index=%{y}<extra></extra>\",\"legendgroup\":\"gb\",\"marker\":{\"color\":\"#FF7F00\",\"opacity\":0.9,\"size\":2},\"name\":\"gb\",\"offsetgroup\":\"gb\",\"orientation\":\"v\",\"scalegroup\":\"True\",\"showlegend\":true,\"x\":[\"gb\",\"gb\",\"gb\",\"gb\",\"gb\",\"gb\",\"gb\",\"gb\",\"gb\",\"gb\",\"gb\",\"gb\",\"gb\",\"gb\",\"gb\",\"gb\",\"gb\",\"gb\",\"gb\",\"gb\",\"gb\",\"gb\",\"gb\",\"gb\",\"gb\",\"gb\",\"gb\",\"gb\",\"gb\",\"gb\",\"gb\",\"gb\",\"gb\",\"gb\",\"gb\",\"gb\",\"gb\",\"gb\",\"gb\",\"gb\",\"gb\",\"gb\",\"gb\",\"gb\",\"gb\",\"gb\",\"gb\",\"gb\",\"gb\",\"gb\",\"gb\",\"gb\",\"gb\",\"gb\",\"gb\",\"gb\",\"gb\",\"gb\",\"gb\",\"gb\",\"gb\",\"gb\",\"gb\",\"gb\",\"gb\",\"gb\",\"gb\",\"gb\",\"gb\",\"gb\",\"gb\",\"gb\",\"gb\",\"gb\",\"gb\",\"gb\",\"gb\",\"gb\",\"gb\",\"gb\",\"gb\",\"gb\",\"gb\",\"gb\",\"gb\",\"gb\",\"gb\",\"gb\",\"gb\",\"gb\",\"gb\",\"gb\",\"gb\",\"gb\",\"gb\",\"gb\",\"gb\",\"gb\",\"gb\",\"gb\"],\"x0\":\" \",\"xaxis\":\"x\",\"y\":[0.7350137793672809,0.7337880263194905,0.7431015754889434,0.7462749422051675,0.7417117725228716,0.7156759963956116,0.7309940775513585,0.7415450793978442,0.7408384701504617,0.7256478438153087,0.7384139967063474,0.7332930034198075,0.7460711257954712,0.7348469596236434,0.7304683054106197,0.7527174892238992,0.7508813897954153,0.7353427485712111,0.7476269532608778,0.746427848891729,0.7407625303844699,0.7403639598166456,0.7469145917386584,0.7461627005479156,0.7389005758479323,0.7463823225456958,0.7270643691053783,0.7518388674032876,0.7266759096667703,0.7449016580956287,0.7557638404597927,0.747468687788414,0.7317322751114829,0.724530993853586,0.7319706110267683,0.7397204679130317,0.7463871183917767,0.7440673763231678,0.7564965495787844,0.7316436390698412,0.7420119619145632,0.7427357362865598,0.7422926285303845,0.7405421193041373,0.7509640222471323,0.7381827008676861,0.7439354463932812,0.7144038682336099,0.741223176080385,0.7360717754577605,0.7243113481173551,0.7523599337050879,0.7377478550317307,0.7534828628747148,0.7450565417802838,0.7458987192080743,0.7436199311740842,0.7188845847924769,0.7291410189372193,0.7413146112892331,0.7381837079028766,0.7492268101378856,0.7485217503447458,0.7412994553421609,0.7458425100721277,0.7253468807601745,0.7369345076796657,0.7372303794385892,0.7414164019745897,0.7445775151365497,0.7507146357881715,0.7392365057395685,0.7419574738583787,0.7396788724103173,0.7508497581120153,0.7410188013976918,0.7469958603288334,0.7430658316617906,0.725079764526069,0.7420569890345958,0.7334944676084024,0.7404307328895148,0.7417347594298264,0.7359896675776726,0.7457893004422937,0.7422988634189135,0.7490324626796512,0.71541273358735,0.7410819829101286,0.7612143882957025,0.7371563906887126,0.7352619557464797,0.7554138516952321,0.7469599367876817,0.7365908323568073,0.7353095093874432,0.7475492374687132,0.736415281530475,0.7295531739745255,0.7448016620184196],\"y0\":\" \",\"yaxis\":\"y\",\"type\":\"violin\"},{\"alignmentgroup\":\"True\",\"box\":{\"visible\":true},\"hovertemplate\":\"method_original=%{x}<br>c-index=%{y}<extra></extra>\",\"legendgroup\":\"pcp_hf\",\"marker\":{\"color\":\"#2BC07B\",\"opacity\":0.9,\"size\":2},\"name\":\"pcp_hf\",\"offsetgroup\":\"pcp_hf\",\"orientation\":\"v\",\"scalegroup\":\"True\",\"showlegend\":true,\"x\":[\"pcp_hf\",\"pcp_hf\",\"pcp_hf\",\"pcp_hf\",\"pcp_hf\",\"pcp_hf\",\"pcp_hf\",\"pcp_hf\",\"pcp_hf\",\"pcp_hf\",\"pcp_hf\",\"pcp_hf\",\"pcp_hf\",\"pcp_hf\",\"pcp_hf\",\"pcp_hf\",\"pcp_hf\",\"pcp_hf\",\"pcp_hf\",\"pcp_hf\",\"pcp_hf\",\"pcp_hf\",\"pcp_hf\",\"pcp_hf\",\"pcp_hf\",\"pcp_hf\",\"pcp_hf\",\"pcp_hf\",\"pcp_hf\",\"pcp_hf\",\"pcp_hf\",\"pcp_hf\",\"pcp_hf\",\"pcp_hf\",\"pcp_hf\",\"pcp_hf\",\"pcp_hf\",\"pcp_hf\",\"pcp_hf\",\"pcp_hf\",\"pcp_hf\",\"pcp_hf\",\"pcp_hf\",\"pcp_hf\",\"pcp_hf\",\"pcp_hf\",\"pcp_hf\",\"pcp_hf\",\"pcp_hf\",\"pcp_hf\",\"pcp_hf\",\"pcp_hf\",\"pcp_hf\",\"pcp_hf\",\"pcp_hf\",\"pcp_hf\",\"pcp_hf\",\"pcp_hf\",\"pcp_hf\",\"pcp_hf\",\"pcp_hf\",\"pcp_hf\",\"pcp_hf\",\"pcp_hf\",\"pcp_hf\",\"pcp_hf\",\"pcp_hf\",\"pcp_hf\",\"pcp_hf\",\"pcp_hf\",\"pcp_hf\",\"pcp_hf\",\"pcp_hf\",\"pcp_hf\",\"pcp_hf\",\"pcp_hf\",\"pcp_hf\",\"pcp_hf\",\"pcp_hf\",\"pcp_hf\",\"pcp_hf\",\"pcp_hf\",\"pcp_hf\",\"pcp_hf\",\"pcp_hf\",\"pcp_hf\",\"pcp_hf\",\"pcp_hf\",\"pcp_hf\",\"pcp_hf\",\"pcp_hf\",\"pcp_hf\",\"pcp_hf\",\"pcp_hf\",\"pcp_hf\",\"pcp_hf\",\"pcp_hf\",\"pcp_hf\",\"pcp_hf\",\"pcp_hf\"],\"x0\":\" \",\"xaxis\":\"x\",\"y\":[0.6920415350378759,0.6933144401124725,0.6865295225995923,0.6877080716486917,0.6847747433539806,0.690845953538298,0.6667767384391681,0.6923214667000098,0.6859041260087809,0.6665729648292597,0.6969333020185341,0.6958200411237192,0.699337958644185,0.6928647648199895,0.6934292001298816,0.6916798984721358,0.6953362789105622,0.7008579491285984,0.6962801599001136,0.6803749555873873,0.6952108514405683,0.6931075254609308,0.7004993575229087,0.6794653066759055,0.6971676360931819,0.6879904644850109,0.6770539259008702,0.690719490032947,0.6795719765100923,0.6820591826294559,0.6924577344107933,0.6949749998359134,0.6898122191013075,0.6813120296995951,0.671204371192818,0.682288641598357,0.6918757314852114,0.68922618672849,0.7030752280175598,0.6920656765186181,0.6868717823049059,0.6933714246723829,0.6770599131747342,0.6916512287459107,0.708149877380624,0.6948989958468984,0.7036546604062964,0.6735576867933267,0.6895371870606083,0.6707476516535105,0.6651611816659575,0.7083735357484834,0.6952019914326818,0.7033598463201792,0.6909804826388054,0.6764309859793315,0.6877299598093274,0.6886695441916575,0.6891005704349492,0.6850034909512873,0.6813109259521613,0.6851173207507911,0.6915831939677889,0.695325658923528,0.6920223419212825,0.6839929591214385,0.686449227530453,0.6859369397344959,0.6811639546287525,0.7011633886260448,0.685570683054461,0.6750726305000161,0.6937768099212521,0.6948655502293763,0.6951386238896892,0.6913963588122669,0.6877461838347734,0.6947367096040269,0.6681383765242083,0.6847114060353242,0.6848405843247456,0.6887421976766251,0.6845341430862845,0.6970297120154676,0.6881693694816712,0.6956978902995924,0.7042626376552976,0.6897341391497411,0.6970337354320109,0.7047207528897028,0.6958048551447557,0.672924722771161,0.7084158900056003,0.6871139586067369,0.6966541421846655,0.6951317256446982,0.6851322749802541,0.6919339547142278,0.6859680200063801,0.7070868222349116],\"y0\":\" \",\"yaxis\":\"y\",\"type\":\"violin\"},{\"alignmentgroup\":\"True\",\"box\":{\"visible\":true},\"hovertemplate\":\"method_original=%{x}<br>c-index=%{y}<extra></extra>\",\"legendgroup\":\"stacking\",\"marker\":{\"color\":\"#D941C3\",\"opacity\":0.9,\"size\":2},\"name\":\"stacking\",\"offsetgroup\":\"stacking\",\"orientation\":\"v\",\"scalegroup\":\"True\",\"showlegend\":true,\"x\":[\"stacking\",\"stacking\",\"stacking\",\"stacking\",\"stacking\",\"stacking\",\"stacking\",\"stacking\",\"stacking\",\"stacking\",\"stacking\",\"stacking\",\"stacking\",\"stacking\",\"stacking\",\"stacking\",\"stacking\",\"stacking\",\"stacking\",\"stacking\",\"stacking\",\"stacking\",\"stacking\",\"stacking\",\"stacking\",\"stacking\",\"stacking\",\"stacking\",\"stacking\",\"stacking\",\"stacking\",\"stacking\",\"stacking\",\"stacking\",\"stacking\",\"stacking\",\"stacking\",\"stacking\",\"stacking\",\"stacking\",\"stacking\",\"stacking\",\"stacking\",\"stacking\",\"stacking\",\"stacking\",\"stacking\",\"stacking\",\"stacking\",\"stacking\",\"stacking\",\"stacking\",\"stacking\",\"stacking\",\"stacking\",\"stacking\",\"stacking\",\"stacking\",\"stacking\",\"stacking\",\"stacking\",\"stacking\",\"stacking\",\"stacking\",\"stacking\",\"stacking\",\"stacking\",\"stacking\",\"stacking\",\"stacking\",\"stacking\",\"stacking\",\"stacking\",\"stacking\",\"stacking\",\"stacking\",\"stacking\",\"stacking\",\"stacking\",\"stacking\",\"stacking\",\"stacking\",\"stacking\",\"stacking\",\"stacking\",\"stacking\",\"stacking\",\"stacking\",\"stacking\",\"stacking\",\"stacking\",\"stacking\",\"stacking\",\"stacking\",\"stacking\",\"stacking\",\"stacking\",\"stacking\",\"stacking\",\"stacking\"],\"x0\":\" \",\"xaxis\":\"x\",\"y\":[0.5350370942055005,0.5390951651164961,0.5500602178084655,0.5530987412235698,0.5344905030859542,0.5257383064988057,0.5407792800439882,0.5336405451637786,0.5445507351438403,0.5331760270142302,0.5388169876525617,0.5540854512531808,0.569938432677967,0.549133835792926,0.561107552244094,0.554887203295246,0.5559737128394144,0.5533025287713196,0.5557641590861929,0.5320511146014152,0.5398838591494064,0.5405846619043682,0.5605397574097916,0.5400183329646104,0.5453367378522859,0.5408144483803172,0.5219491452744255,0.544672064754221,0.5376585352559652,0.5343446554706937,0.5465412364747443,0.552161039908716,0.5462511839066632,0.5220291893815715,0.5290750996049817,0.5353259257070788,0.5320647756427397,0.5336730943569642,0.559072290108111,0.5351511800738069,0.536396823967722,0.5478127350587654,0.5467020083132332,0.557276900148649,0.5629158417615837,0.555157428412497,0.5517950184743483,0.5274074236781137,0.5414639333650249,0.5495589680292423,0.5321443995338441,0.5737804145713671,0.5459584595015194,0.5362581013537377,0.5563289903459459,0.5381194934683299,0.5415779209270406,0.5348438412916056,0.5553024017241541,0.5387109828037502,0.540939605617103,0.5480316305666098,0.5439057513124412,0.557795688074775,0.5517712213444089,0.5378088767672853,0.573507322201001,0.534484746035455,0.5480007780283516,0.5543742737725863,0.5324546884503596,0.5259794634583136,0.5311175600350256,0.5686668532455806,0.5630281132643244,0.5598371310107031,0.5424041756889849,0.5573400693473205,0.5347738790259001,0.5288879660888831,0.536827818966456,0.5376436658490166,0.5527399283605596,0.5439807190488232,0.5355199499799597,0.5277421303555754,0.5526261874364051,0.5542212974815578,0.5402001212638858,0.5709070584154605,0.54178199128105,0.5352135993512649,0.5548428779218729,0.5293588480376848,0.5596930230409193,0.539794577128283,0.5552768308096553,0.5497986406569622,0.5384170732266236,0.5490861163761659],\"y0\":\" \",\"yaxis\":\"y\",\"type\":\"violin\"}],                        {\"template\":{\"data\":{\"barpolar\":[{\"marker\":{\"line\":{\"color\":\"white\",\"width\":0.5},\"pattern\":{\"fillmode\":\"overlay\",\"size\":10,\"solidity\":0.2}},\"type\":\"barpolar\"}],\"bar\":[{\"error_x\":{\"color\":\"rgb(36,36,36)\"},\"error_y\":{\"color\":\"rgb(36,36,36)\"},\"marker\":{\"line\":{\"color\":\"white\",\"width\":0.5},\"pattern\":{\"fillmode\":\"overlay\",\"size\":10,\"solidity\":0.2}},\"type\":\"bar\"}],\"carpet\":[{\"aaxis\":{\"endlinecolor\":\"rgb(36,36,36)\",\"gridcolor\":\"white\",\"linecolor\":\"white\",\"minorgridcolor\":\"white\",\"startlinecolor\":\"rgb(36,36,36)\"},\"baxis\":{\"endlinecolor\":\"rgb(36,36,36)\",\"gridcolor\":\"white\",\"linecolor\":\"white\",\"minorgridcolor\":\"white\",\"startlinecolor\":\"rgb(36,36,36)\"},\"type\":\"carpet\"}],\"choropleth\":[{\"colorbar\":{\"outlinewidth\":1,\"tickcolor\":\"rgb(36,36,36)\",\"ticks\":\"outside\"},\"type\":\"choropleth\"}],\"contourcarpet\":[{\"colorbar\":{\"outlinewidth\":1,\"tickcolor\":\"rgb(36,36,36)\",\"ticks\":\"outside\"},\"type\":\"contourcarpet\"}],\"contour\":[{\"colorbar\":{\"outlinewidth\":1,\"tickcolor\":\"rgb(36,36,36)\",\"ticks\":\"outside\"},\"colorscale\":[[0.0,\"#440154\"],[0.1111111111111111,\"#482878\"],[0.2222222222222222,\"#3e4989\"],[0.3333333333333333,\"#31688e\"],[0.4444444444444444,\"#26828e\"],[0.5555555555555556,\"#1f9e89\"],[0.6666666666666666,\"#35b779\"],[0.7777777777777778,\"#6ece58\"],[0.8888888888888888,\"#b5de2b\"],[1.0,\"#fde725\"]],\"type\":\"contour\"}],\"heatmapgl\":[{\"colorbar\":{\"outlinewidth\":1,\"tickcolor\":\"rgb(36,36,36)\",\"ticks\":\"outside\"},\"colorscale\":[[0.0,\"#440154\"],[0.1111111111111111,\"#482878\"],[0.2222222222222222,\"#3e4989\"],[0.3333333333333333,\"#31688e\"],[0.4444444444444444,\"#26828e\"],[0.5555555555555556,\"#1f9e89\"],[0.6666666666666666,\"#35b779\"],[0.7777777777777778,\"#6ece58\"],[0.8888888888888888,\"#b5de2b\"],[1.0,\"#fde725\"]],\"type\":\"heatmapgl\"}],\"heatmap\":[{\"colorbar\":{\"outlinewidth\":1,\"tickcolor\":\"rgb(36,36,36)\",\"ticks\":\"outside\"},\"colorscale\":[[0.0,\"#440154\"],[0.1111111111111111,\"#482878\"],[0.2222222222222222,\"#3e4989\"],[0.3333333333333333,\"#31688e\"],[0.4444444444444444,\"#26828e\"],[0.5555555555555556,\"#1f9e89\"],[0.6666666666666666,\"#35b779\"],[0.7777777777777778,\"#6ece58\"],[0.8888888888888888,\"#b5de2b\"],[1.0,\"#fde725\"]],\"type\":\"heatmap\"}],\"histogram2dcontour\":[{\"colorbar\":{\"outlinewidth\":1,\"tickcolor\":\"rgb(36,36,36)\",\"ticks\":\"outside\"},\"colorscale\":[[0.0,\"#440154\"],[0.1111111111111111,\"#482878\"],[0.2222222222222222,\"#3e4989\"],[0.3333333333333333,\"#31688e\"],[0.4444444444444444,\"#26828e\"],[0.5555555555555556,\"#1f9e89\"],[0.6666666666666666,\"#35b779\"],[0.7777777777777778,\"#6ece58\"],[0.8888888888888888,\"#b5de2b\"],[1.0,\"#fde725\"]],\"type\":\"histogram2dcontour\"}],\"histogram2d\":[{\"colorbar\":{\"outlinewidth\":1,\"tickcolor\":\"rgb(36,36,36)\",\"ticks\":\"outside\"},\"colorscale\":[[0.0,\"#440154\"],[0.1111111111111111,\"#482878\"],[0.2222222222222222,\"#3e4989\"],[0.3333333333333333,\"#31688e\"],[0.4444444444444444,\"#26828e\"],[0.5555555555555556,\"#1f9e89\"],[0.6666666666666666,\"#35b779\"],[0.7777777777777778,\"#6ece58\"],[0.8888888888888888,\"#b5de2b\"],[1.0,\"#fde725\"]],\"type\":\"histogram2d\"}],\"histogram\":[{\"marker\":{\"line\":{\"color\":\"white\",\"width\":0.6}},\"type\":\"histogram\"}],\"mesh3d\":[{\"colorbar\":{\"outlinewidth\":1,\"tickcolor\":\"rgb(36,36,36)\",\"ticks\":\"outside\"},\"type\":\"mesh3d\"}],\"parcoords\":[{\"line\":{\"colorbar\":{\"outlinewidth\":1,\"tickcolor\":\"rgb(36,36,36)\",\"ticks\":\"outside\"}},\"type\":\"parcoords\"}],\"pie\":[{\"automargin\":true,\"type\":\"pie\"}],\"scatter3d\":[{\"line\":{\"colorbar\":{\"outlinewidth\":1,\"tickcolor\":\"rgb(36,36,36)\",\"ticks\":\"outside\"}},\"marker\":{\"colorbar\":{\"outlinewidth\":1,\"tickcolor\":\"rgb(36,36,36)\",\"ticks\":\"outside\"}},\"type\":\"scatter3d\"}],\"scattercarpet\":[{\"marker\":{\"colorbar\":{\"outlinewidth\":1,\"tickcolor\":\"rgb(36,36,36)\",\"ticks\":\"outside\"}},\"type\":\"scattercarpet\"}],\"scattergeo\":[{\"marker\":{\"colorbar\":{\"outlinewidth\":1,\"tickcolor\":\"rgb(36,36,36)\",\"ticks\":\"outside\"}},\"type\":\"scattergeo\"}],\"scattergl\":[{\"marker\":{\"colorbar\":{\"outlinewidth\":1,\"tickcolor\":\"rgb(36,36,36)\",\"ticks\":\"outside\"}},\"type\":\"scattergl\"}],\"scattermapbox\":[{\"marker\":{\"colorbar\":{\"outlinewidth\":1,\"tickcolor\":\"rgb(36,36,36)\",\"ticks\":\"outside\"}},\"type\":\"scattermapbox\"}],\"scatterpolargl\":[{\"marker\":{\"colorbar\":{\"outlinewidth\":1,\"tickcolor\":\"rgb(36,36,36)\",\"ticks\":\"outside\"}},\"type\":\"scatterpolargl\"}],\"scatterpolar\":[{\"marker\":{\"colorbar\":{\"outlinewidth\":1,\"tickcolor\":\"rgb(36,36,36)\",\"ticks\":\"outside\"}},\"type\":\"scatterpolar\"}],\"scatter\":[{\"fillpattern\":{\"fillmode\":\"overlay\",\"size\":10,\"solidity\":0.2},\"type\":\"scatter\"}],\"scatterternary\":[{\"marker\":{\"colorbar\":{\"outlinewidth\":1,\"tickcolor\":\"rgb(36,36,36)\",\"ticks\":\"outside\"}},\"type\":\"scatterternary\"}],\"surface\":[{\"colorbar\":{\"outlinewidth\":1,\"tickcolor\":\"rgb(36,36,36)\",\"ticks\":\"outside\"},\"colorscale\":[[0.0,\"#440154\"],[0.1111111111111111,\"#482878\"],[0.2222222222222222,\"#3e4989\"],[0.3333333333333333,\"#31688e\"],[0.4444444444444444,\"#26828e\"],[0.5555555555555556,\"#1f9e89\"],[0.6666666666666666,\"#35b779\"],[0.7777777777777778,\"#6ece58\"],[0.8888888888888888,\"#b5de2b\"],[1.0,\"#fde725\"]],\"type\":\"surface\"}],\"table\":[{\"cells\":{\"fill\":{\"color\":\"rgb(237,237,237)\"},\"line\":{\"color\":\"white\"}},\"header\":{\"fill\":{\"color\":\"rgb(217,217,217)\"},\"line\":{\"color\":\"white\"}},\"type\":\"table\"}]},\"layout\":{\"annotationdefaults\":{\"arrowhead\":0,\"arrowwidth\":1},\"autotypenumbers\":\"strict\",\"coloraxis\":{\"colorbar\":{\"outlinewidth\":1,\"tickcolor\":\"rgb(36,36,36)\",\"ticks\":\"outside\"}},\"colorscale\":{\"diverging\":[[0.0,\"rgb(103,0,31)\"],[0.1,\"rgb(178,24,43)\"],[0.2,\"rgb(214,96,77)\"],[0.3,\"rgb(244,165,130)\"],[0.4,\"rgb(253,219,199)\"],[0.5,\"rgb(247,247,247)\"],[0.6,\"rgb(209,229,240)\"],[0.7,\"rgb(146,197,222)\"],[0.8,\"rgb(67,147,195)\"],[0.9,\"rgb(33,102,172)\"],[1.0,\"rgb(5,48,97)\"]],\"sequential\":[[0.0,\"#440154\"],[0.1111111111111111,\"#482878\"],[0.2222222222222222,\"#3e4989\"],[0.3333333333333333,\"#31688e\"],[0.4444444444444444,\"#26828e\"],[0.5555555555555556,\"#1f9e89\"],[0.6666666666666666,\"#35b779\"],[0.7777777777777778,\"#6ece58\"],[0.8888888888888888,\"#b5de2b\"],[1.0,\"#fde725\"]],\"sequentialminus\":[[0.0,\"#440154\"],[0.1111111111111111,\"#482878\"],[0.2222222222222222,\"#3e4989\"],[0.3333333333333333,\"#31688e\"],[0.4444444444444444,\"#26828e\"],[0.5555555555555556,\"#1f9e89\"],[0.6666666666666666,\"#35b779\"],[0.7777777777777778,\"#6ece58\"],[0.8888888888888888,\"#b5de2b\"],[1.0,\"#fde725\"]]},\"colorway\":[\"#1F77B4\",\"#FF7F0E\",\"#2CA02C\",\"#D62728\",\"#9467BD\",\"#8C564B\",\"#E377C2\",\"#7F7F7F\",\"#BCBD22\",\"#17BECF\"],\"font\":{\"color\":\"rgb(36,36,36)\"},\"geo\":{\"bgcolor\":\"white\",\"lakecolor\":\"white\",\"landcolor\":\"white\",\"showlakes\":true,\"showland\":true,\"subunitcolor\":\"white\"},\"hoverlabel\":{\"align\":\"left\"},\"hovermode\":\"closest\",\"mapbox\":{\"style\":\"light\"},\"paper_bgcolor\":\"white\",\"plot_bgcolor\":\"white\",\"polar\":{\"angularaxis\":{\"gridcolor\":\"rgb(232,232,232)\",\"linecolor\":\"rgb(36,36,36)\",\"showgrid\":false,\"showline\":true,\"ticks\":\"outside\"},\"bgcolor\":\"white\",\"radialaxis\":{\"gridcolor\":\"rgb(232,232,232)\",\"linecolor\":\"rgb(36,36,36)\",\"showgrid\":false,\"showline\":true,\"ticks\":\"outside\"}},\"scene\":{\"xaxis\":{\"backgroundcolor\":\"white\",\"gridcolor\":\"rgb(232,232,232)\",\"gridwidth\":2,\"linecolor\":\"rgb(36,36,36)\",\"showbackground\":true,\"showgrid\":false,\"showline\":true,\"ticks\":\"outside\",\"zeroline\":false,\"zerolinecolor\":\"rgb(36,36,36)\"},\"yaxis\":{\"backgroundcolor\":\"white\",\"gridcolor\":\"rgb(232,232,232)\",\"gridwidth\":2,\"linecolor\":\"rgb(36,36,36)\",\"showbackground\":true,\"showgrid\":false,\"showline\":true,\"ticks\":\"outside\",\"zeroline\":false,\"zerolinecolor\":\"rgb(36,36,36)\"},\"zaxis\":{\"backgroundcolor\":\"white\",\"gridcolor\":\"rgb(232,232,232)\",\"gridwidth\":2,\"linecolor\":\"rgb(36,36,36)\",\"showbackground\":true,\"showgrid\":false,\"showline\":true,\"ticks\":\"outside\",\"zeroline\":false,\"zerolinecolor\":\"rgb(36,36,36)\"}},\"shapedefaults\":{\"fillcolor\":\"black\",\"line\":{\"width\":0},\"opacity\":0.3},\"ternary\":{\"aaxis\":{\"gridcolor\":\"rgb(232,232,232)\",\"linecolor\":\"rgb(36,36,36)\",\"showgrid\":false,\"showline\":true,\"ticks\":\"outside\"},\"baxis\":{\"gridcolor\":\"rgb(232,232,232)\",\"linecolor\":\"rgb(36,36,36)\",\"showgrid\":false,\"showline\":true,\"ticks\":\"outside\"},\"bgcolor\":\"white\",\"caxis\":{\"gridcolor\":\"rgb(232,232,232)\",\"linecolor\":\"rgb(36,36,36)\",\"showgrid\":false,\"showline\":true,\"ticks\":\"outside\"}},\"title\":{\"x\":0.05},\"xaxis\":{\"automargin\":true,\"gridcolor\":\"rgb(232,232,232)\",\"linecolor\":\"rgb(36,36,36)\",\"showgrid\":false,\"showline\":true,\"ticks\":\"outside\",\"title\":{\"standoff\":15},\"zeroline\":false,\"zerolinecolor\":\"rgb(36,36,36)\"},\"yaxis\":{\"automargin\":true,\"gridcolor\":\"rgb(232,232,232)\",\"linecolor\":\"rgb(36,36,36)\",\"showgrid\":false,\"showline\":true,\"ticks\":\"outside\",\"title\":{\"standoff\":15},\"zeroline\":false,\"zerolinecolor\":\"rgb(36,36,36)\"}}},\"xaxis\":{\"anchor\":\"y\",\"domain\":[0.0,1.0],\"title\":{},\"categoryorder\":\"array\",\"categoryarray\":[\"coxnet\",\"gb\",\"pcp_hf\",\"stacking\"],\"showgrid\":true,\"ticktext\":[\"CoxNet (CN)\",\"CoxNet (CN)\",\"CoxNet (CN)\",\"CoxNet (CN)\",\"CoxNet (CN)\",\"CoxNet (CN)\",\"CoxNet (CN)\",\"CoxNet (CN)\",\"CoxNet (CN)\",\"CoxNet (CN)\",\"CoxNet (CN)\",\"CoxNet (CN)\",\"CoxNet (CN)\",\"CoxNet (CN)\",\"CoxNet (CN)\",\"CoxNet (CN)\",\"CoxNet (CN)\",\"CoxNet (CN)\",\"CoxNet (CN)\",\"CoxNet (CN)\",\"CoxNet (CN)\",\"CoxNet (CN)\",\"CoxNet (CN)\",\"CoxNet (CN)\",\"CoxNet (CN)\",\"CoxNet (CN)\",\"CoxNet (CN)\",\"CoxNet (CN)\",\"CoxNet (CN)\",\"CoxNet (CN)\",\"CoxNet (CN)\",\"CoxNet (CN)\",\"CoxNet (CN)\",\"CoxNet (CN)\",\"CoxNet (CN)\",\"CoxNet (CN)\",\"CoxNet (CN)\",\"CoxNet (CN)\",\"CoxNet (CN)\",\"CoxNet (CN)\",\"CoxNet (CN)\",\"CoxNet (CN)\",\"CoxNet (CN)\",\"CoxNet (CN)\",\"CoxNet (CN)\",\"CoxNet (CN)\",\"CoxNet (CN)\",\"CoxNet (CN)\",\"CoxNet (CN)\",\"CoxNet (CN)\",\"CoxNet (CN)\",\"CoxNet (CN)\",\"CoxNet (CN)\",\"CoxNet (CN)\",\"CoxNet (CN)\",\"CoxNet (CN)\",\"CoxNet (CN)\",\"CoxNet (CN)\",\"CoxNet (CN)\",\"CoxNet (CN)\",\"CoxNet (CN)\",\"CoxNet (CN)\",\"CoxNet (CN)\",\"CoxNet (CN)\",\"CoxNet (CN)\",\"CoxNet (CN)\",\"CoxNet (CN)\",\"CoxNet (CN)\",\"CoxNet (CN)\",\"CoxNet (CN)\",\"CoxNet (CN)\",\"CoxNet (CN)\",\"CoxNet (CN)\",\"CoxNet (CN)\",\"CoxNet (CN)\",\"CoxNet (CN)\",\"CoxNet (CN)\",\"CoxNet (CN)\",\"CoxNet (CN)\",\"CoxNet (CN)\",\"CoxNet (CN)\",\"CoxNet (CN)\",\"CoxNet (CN)\",\"CoxNet (CN)\",\"CoxNet (CN)\",\"CoxNet (CN)\",\"CoxNet (CN)\",\"CoxNet (CN)\",\"CoxNet (CN)\",\"CoxNet (CN)\",\"CoxNet (CN)\",\"CoxNet (CN)\",\"CoxNet (CN)\",\"CoxNet (CN)\",\"CoxNet (CN)\",\"CoxNet (CN)\",\"CoxNet (CN)\",\"CoxNet (CN)\",\"CoxNet (CN)\",\"CoxNet (CN)\",\"Gradient\\nBoosting (GB)\",\"Gradient\\nBoosting (GB)\",\"Gradient\\nBoosting (GB)\",\"Gradient\\nBoosting (GB)\",\"Gradient\\nBoosting (GB)\",\"Gradient\\nBoosting (GB)\",\"Gradient\\nBoosting (GB)\",\"Gradient\\nBoosting (GB)\",\"Gradient\\nBoosting (GB)\",\"Gradient\\nBoosting (GB)\",\"Gradient\\nBoosting (GB)\",\"Gradient\\nBoosting (GB)\",\"Gradient\\nBoosting (GB)\",\"Gradient\\nBoosting (GB)\",\"Gradient\\nBoosting (GB)\",\"Gradient\\nBoosting (GB)\",\"Gradient\\nBoosting (GB)\",\"Gradient\\nBoosting (GB)\",\"Gradient\\nBoosting (GB)\",\"Gradient\\nBoosting (GB)\",\"Gradient\\nBoosting (GB)\",\"Gradient\\nBoosting (GB)\",\"Gradient\\nBoosting (GB)\",\"Gradient\\nBoosting (GB)\",\"Gradient\\nBoosting (GB)\",\"Gradient\\nBoosting (GB)\",\"Gradient\\nBoosting (GB)\",\"Gradient\\nBoosting (GB)\",\"Gradient\\nBoosting (GB)\",\"Gradient\\nBoosting (GB)\",\"Gradient\\nBoosting (GB)\",\"Gradient\\nBoosting (GB)\",\"Gradient\\nBoosting (GB)\",\"Gradient\\nBoosting (GB)\",\"Gradient\\nBoosting (GB)\",\"Gradient\\nBoosting (GB)\",\"Gradient\\nBoosting (GB)\",\"Gradient\\nBoosting (GB)\",\"Gradient\\nBoosting (GB)\",\"Gradient\\nBoosting (GB)\",\"Gradient\\nBoosting (GB)\",\"Gradient\\nBoosting (GB)\",\"Gradient\\nBoosting (GB)\",\"Gradient\\nBoosting (GB)\",\"Gradient\\nBoosting (GB)\",\"Gradient\\nBoosting (GB)\",\"Gradient\\nBoosting (GB)\",\"Gradient\\nBoosting (GB)\",\"Gradient\\nBoosting (GB)\",\"Gradient\\nBoosting (GB)\",\"Gradient\\nBoosting (GB)\",\"Gradient\\nBoosting (GB)\",\"Gradient\\nBoosting (GB)\",\"Gradient\\nBoosting (GB)\",\"Gradient\\nBoosting (GB)\",\"Gradient\\nBoosting (GB)\",\"Gradient\\nBoosting (GB)\",\"Gradient\\nBoosting (GB)\",\"Gradient\\nBoosting (GB)\",\"Gradient\\nBoosting (GB)\",\"Gradient\\nBoosting (GB)\",\"Gradient\\nBoosting (GB)\",\"Gradient\\nBoosting (GB)\",\"Gradient\\nBoosting (GB)\",\"Gradient\\nBoosting (GB)\",\"Gradient\\nBoosting (GB)\",\"Gradient\\nBoosting (GB)\",\"Gradient\\nBoosting (GB)\",\"Gradient\\nBoosting (GB)\",\"Gradient\\nBoosting (GB)\",\"Gradient\\nBoosting (GB)\",\"Gradient\\nBoosting (GB)\",\"Gradient\\nBoosting (GB)\",\"Gradient\\nBoosting (GB)\",\"Gradient\\nBoosting (GB)\",\"Gradient\\nBoosting (GB)\",\"Gradient\\nBoosting (GB)\",\"Gradient\\nBoosting (GB)\",\"Gradient\\nBoosting (GB)\",\"Gradient\\nBoosting (GB)\",\"Gradient\\nBoosting (GB)\",\"Gradient\\nBoosting (GB)\",\"Gradient\\nBoosting (GB)\",\"Gradient\\nBoosting (GB)\",\"Gradient\\nBoosting (GB)\",\"Gradient\\nBoosting (GB)\",\"Gradient\\nBoosting (GB)\",\"Gradient\\nBoosting (GB)\",\"Gradient\\nBoosting (GB)\",\"Gradient\\nBoosting (GB)\",\"Gradient\\nBoosting (GB)\",\"Gradient\\nBoosting (GB)\",\"Gradient\\nBoosting (GB)\",\"Gradient\\nBoosting (GB)\",\"Gradient\\nBoosting (GB)\",\"Gradient\\nBoosting (GB)\",\"Gradient\\nBoosting (GB)\",\"Gradient\\nBoosting (GB)\",\"Gradient\\nBoosting (GB)\",\"Gradient\\nBoosting (GB)\",\"PCP-HF\",\"PCP-HF\",\"PCP-HF\",\"PCP-HF\",\"PCP-HF\",\"PCP-HF\",\"PCP-HF\",\"PCP-HF\",\"PCP-HF\",\"PCP-HF\",\"PCP-HF\",\"PCP-HF\",\"PCP-HF\",\"PCP-HF\",\"PCP-HF\",\"PCP-HF\",\"PCP-HF\",\"PCP-HF\",\"PCP-HF\",\"PCP-HF\",\"PCP-HF\",\"PCP-HF\",\"PCP-HF\",\"PCP-HF\",\"PCP-HF\",\"PCP-HF\",\"PCP-HF\",\"PCP-HF\",\"PCP-HF\",\"PCP-HF\",\"PCP-HF\",\"PCP-HF\",\"PCP-HF\",\"PCP-HF\",\"PCP-HF\",\"PCP-HF\",\"PCP-HF\",\"PCP-HF\",\"PCP-HF\",\"PCP-HF\",\"PCP-HF\",\"PCP-HF\",\"PCP-HF\",\"PCP-HF\",\"PCP-HF\",\"PCP-HF\",\"PCP-HF\",\"PCP-HF\",\"PCP-HF\",\"PCP-HF\",\"PCP-HF\",\"PCP-HF\",\"PCP-HF\",\"PCP-HF\",\"PCP-HF\",\"PCP-HF\",\"PCP-HF\",\"PCP-HF\",\"PCP-HF\",\"PCP-HF\",\"PCP-HF\",\"PCP-HF\",\"PCP-HF\",\"PCP-HF\",\"PCP-HF\",\"PCP-HF\",\"PCP-HF\",\"PCP-HF\",\"PCP-HF\",\"PCP-HF\",\"PCP-HF\",\"PCP-HF\",\"PCP-HF\",\"PCP-HF\",\"PCP-HF\",\"PCP-HF\",\"PCP-HF\",\"PCP-HF\",\"PCP-HF\",\"PCP-HF\",\"PCP-HF\",\"PCP-HF\",\"PCP-HF\",\"PCP-HF\",\"PCP-HF\",\"PCP-HF\",\"PCP-HF\",\"PCP-HF\",\"PCP-HF\",\"PCP-HF\",\"PCP-HF\",\"PCP-HF\",\"PCP-HF\",\"PCP-HF\",\"PCP-HF\",\"PCP-HF\",\"PCP-HF\",\"PCP-HF\",\"PCP-HF\",\"PCP-HF\",\"Stacking (ST)\",\"Stacking (ST)\",\"Stacking (ST)\",\"Stacking (ST)\",\"Stacking (ST)\",\"Stacking (ST)\",\"Stacking (ST)\",\"Stacking (ST)\",\"Stacking (ST)\",\"Stacking (ST)\",\"Stacking (ST)\",\"Stacking (ST)\",\"Stacking (ST)\",\"Stacking (ST)\",\"Stacking (ST)\",\"Stacking (ST)\",\"Stacking (ST)\",\"Stacking (ST)\",\"Stacking (ST)\",\"Stacking (ST)\",\"Stacking (ST)\",\"Stacking (ST)\",\"Stacking (ST)\",\"Stacking (ST)\",\"Stacking (ST)\",\"Stacking (ST)\",\"Stacking (ST)\",\"Stacking (ST)\",\"Stacking (ST)\",\"Stacking (ST)\",\"Stacking (ST)\",\"Stacking (ST)\",\"Stacking (ST)\",\"Stacking (ST)\",\"Stacking (ST)\",\"Stacking (ST)\",\"Stacking (ST)\",\"Stacking (ST)\",\"Stacking (ST)\",\"Stacking (ST)\",\"Stacking (ST)\",\"Stacking (ST)\",\"Stacking (ST)\",\"Stacking (ST)\",\"Stacking (ST)\",\"Stacking (ST)\",\"Stacking (ST)\",\"Stacking (ST)\",\"Stacking (ST)\",\"Stacking (ST)\",\"Stacking (ST)\",\"Stacking (ST)\",\"Stacking (ST)\",\"Stacking (ST)\",\"Stacking (ST)\",\"Stacking (ST)\",\"Stacking (ST)\",\"Stacking (ST)\",\"Stacking (ST)\",\"Stacking (ST)\",\"Stacking (ST)\",\"Stacking (ST)\",\"Stacking (ST)\",\"Stacking (ST)\",\"Stacking (ST)\",\"Stacking (ST)\",\"Stacking (ST)\",\"Stacking (ST)\",\"Stacking (ST)\",\"Stacking (ST)\",\"Stacking (ST)\",\"Stacking (ST)\",\"Stacking (ST)\",\"Stacking (ST)\",\"Stacking (ST)\",\"Stacking (ST)\",\"Stacking (ST)\",\"Stacking (ST)\",\"Stacking (ST)\",\"Stacking (ST)\",\"Stacking (ST)\",\"Stacking (ST)\",\"Stacking (ST)\",\"Stacking (ST)\",\"Stacking (ST)\",\"Stacking (ST)\",\"Stacking (ST)\",\"Stacking (ST)\",\"Stacking (ST)\",\"Stacking (ST)\",\"Stacking (ST)\",\"Stacking (ST)\",\"Stacking (ST)\",\"Stacking (ST)\",\"Stacking (ST)\",\"Stacking (ST)\",\"Stacking (ST)\",\"Stacking (ST)\",\"Stacking (ST)\",\"Stacking (ST)\"]},\"yaxis\":{\"anchor\":\"x\",\"domain\":[0.0,1.0],\"title\":{\"text\":\"c-index\"},\"range\":[0.65,0.8],\"showgrid\":true},\"legend\":{\"title\":{\"text\":\"method_original\",\"font\":{\"color\":\"rgba(0,0,0,0)\"}},\"tracegroupgap\":0,\"itemsizing\":\"constant\"},\"margin\":{\"t\":60},\"violinmode\":\"overlay\",\"font\":{\"family\":\"Calibri\",\"size\":28},\"bargroupgap\":0.1,\"showlegend\":false,\"annotations\":[{\"font\":{\"color\":\"#4194D9\",\"size\":25},\"showarrow\":false,\"text\":\"0.766\",\"x\":0.4,\"y\":0.765908876726351},{\"font\":{\"color\":\"#FF7F00\",\"size\":25},\"showarrow\":false,\"text\":\"0.740\",\"x\":1.4,\"y\":0.7401533687294889},{\"font\":{\"color\":\"#2BC07B\",\"size\":25},\"showarrow\":false,\"text\":\"0.690\",\"x\":2.4,\"y\":0.689565053754223},{\"font\":{\"color\":\"#D941C3\",\"size\":25},\"showarrow\":false,\"text\":\"0.545\",\"x\":3.4,\"y\":0.5448216914215448}]},                        {\"responsive\": true}                    ).then(function(){\n",
       "                            \n",
       "var gd = document.getElementById('2bc6e3d2-6c6b-4086-939d-adab4d9c04c9');\n",
       "var x = new MutationObserver(function (mutations, observer) {{\n",
       "        var display = window.getComputedStyle(gd).display;\n",
       "        if (!display || display === 'none') {{\n",
       "            console.log([gd, 'removed!']);\n",
       "            Plotly.purge(gd);\n",
       "            observer.disconnect();\n",
       "        }}\n",
       "}});\n",
       "\n",
       "// Listen for the removal of the full notebook cells\n",
       "var notebookContainer = gd.closest('#notebook-container');\n",
       "if (notebookContainer) {{\n",
       "    x.observe(notebookContainer, {childList: true});\n",
       "}}\n",
       "\n",
       "// Listen for the clearing of the current output cell\n",
       "var outputEl = gd.closest('.output');\n",
       "if (outputEl) {{\n",
       "    x.observe(outputEl, {childList: true});\n",
       "}}\n",
       "\n",
       "                        })                };                });            </script>        </div>"
      ]
     },
     "metadata": {},
     "output_type": "display_data"
    }
   ],
   "source": [
    "merged_metrics_selected = dict_subset(('coxnet', 'gb', 'pcp_hf', 'stacking'), merged_metrics_incidence_weighted)\n",
    "\n",
    "fig = plot_merged_metrics(merged_metrics_selected)\n",
    "fig.show()"
   ]
  },
  {
   "cell_type": "code",
   "execution_count": 20,
   "metadata": {},
   "outputs": [
    {
     "name": "stdout",
     "output_type": "stream",
     "text": [
      "coxnet gb\n",
      "0.77, 0.76, 0.77, 0.76, 0.77, 0.76, 0.76, 0.77, 0.76, 0.77\n",
      "0.74, 0.74, 0.76, 0.74, 0.75, 0.75, 0.74, 0.73, 0.74, 0.72\n",
      "KS: 0.9000 (p-value: 5.0e-43)\n",
      "t-test: p-value: 4.5e-54\n",
      "\n",
      "coxnet pcp_hf\n",
      "0.74, 0.76, 0.76, 0.75, 0.76, 0.75, 0.77, 0.77, 0.77, 0.76\n",
      "0.68, 0.69, 0.67, 0.69, 0.68, 0.68, 0.69, 0.68, 0.70, 0.69\n",
      "KS: 1.0000 (p-value: 2.2e-59)\n",
      "t-test: p-value: 6.6e-133\n",
      "\n",
      "coxnet stacking\n",
      "0.76, 0.77, 0.76, 0.76, 0.77, 0.77, 0.76, 0.76, 0.77, 0.77\n",
      "0.53, 0.55, 0.54, 0.54, 0.55, 0.53, 0.55, 0.55, 0.53, 0.56\n",
      "KS: 1.0000 (p-value: 2.2e-59)\n",
      "t-test: p-value: 5.4e-210\n",
      "\n",
      "gb pcp_hf\n",
      "0.75, 0.74, 0.75, 0.75, 0.75, 0.75, 0.74, 0.75, 0.73, 0.74\n",
      "0.69, 0.70, 0.70, 0.68, 0.70, 0.68, 0.68, 0.69, 0.69, 0.70\n",
      "KS: 1.0000 (p-value: 2.2e-59)\n",
      "t-test: p-value: 1.4e-94\n",
      "\n",
      "gb stacking\n",
      "0.74, 0.76, 0.72, 0.75, 0.74, 0.71, 0.75, 0.75, 0.73, 0.74\n",
      "0.55, 0.55, 0.54, 0.54, 0.56, 0.53, 0.54, 0.55, 0.54, 0.54\n",
      "KS: 1.0000 (p-value: 2.2e-59)\n",
      "t-test: p-value: 8.0e-195\n",
      "\n",
      "pcp_hf stacking\n",
      "0.70, 0.70, 0.70, 0.68, 0.69, 0.69, 0.69, 0.71, 0.69, 0.71\n",
      "0.55, 0.56, 0.54, 0.55, 0.55, 0.55, 0.53, 0.53, 0.54, 0.57\n",
      "KS: 1.0000 (p-value: 2.2e-59)\n",
      "t-test: p-value: 2.0e-168\n",
      "\n"
     ]
    }
   ],
   "source": [
    "from itertools import combinations\n",
    "from scipy.stats import ttest_ind\n",
    "from pandas import Series\n",
    "from numpy.random import seed\n",
    "from numpy.random import randint\n",
    "from scipy.stats import ks_2samp\n",
    "\n",
    "scores_df = {method: merged_metrics_selected[method]['c_index'] for method in ['coxnet', 'gb', 'pcp_hf', 'stacking']}\n",
    "\n",
    "for (name1, s1), (name2, s2) in combinations(scores_df.items(), 2):\n",
    "    print(name1, name2)\n",
    "    print(', '.join([f'{v:.2f}' for v in Series(s1).sample(10)]))\n",
    "    print(', '.join([f'{v:.2f}' for v in Series(s2).sample(10)]))\n",
    "    \n",
    "    ks = ks_2samp(s1, s2)\n",
    "    print(f\"KS: {ks.statistic:.4f} (p-value: {ks.pvalue:.1e})\")\n",
    "    \n",
    "    value, pvalue = ttest_ind(s1, s2)\n",
    "    print(f\"t-test: p-value: {pvalue:.1e}\")\n",
    "    \n",
    "    print()\n",
    "    "
   ]
  },
  {
   "cell_type": "markdown",
   "metadata": {},
   "source": [
    "### Summary"
   ]
  },
  {
   "cell_type": "code",
   "execution_count": null,
   "metadata": {
    "scrolled": false
   },
   "outputs": [],
   "source": [
    "print(merged_metrics_summary)"
   ]
  },
  {
   "cell_type": "markdown",
   "metadata": {},
   "source": [
    "### Points"
   ]
  },
  {
   "cell_type": "code",
   "execution_count": null,
   "metadata": {},
   "outputs": [],
   "source": [
    "metrics_df = DataFrame()\n",
    "for method_name, method_metric_values in merged_metrics_selected.items():\n",
    "    metric_values = method_metric_values[\"c_index\"]\n",
    "    metrics_df_add = DataFrame({\n",
    "        'method': [method_name] * len(metric_values),\n",
    "        'c-index': metric_values,\n",
    "    })\n",
    "    metrics_df = pandas.concat([metrics_df, metrics_df_add])\n",
    "\n",
    "fig = px.strip(metrics_df, x=\"method\", y=\"c-index\", stripmode='overlay', range_y=[0.5, 1])\n",
    "fig.update_traces(marker_size=2, marker_opacity=0.9)\n",
    "\n",
    "for trace in fig.select_traces():\n",
    "    trace.marker.update(size = 5)\n",
    "    \n",
    "fig.update_layout(legend=dict(itemsizing='constant'), xaxis_title=None)\n",
    "setup_plotly_style(fig)\n",
    "fig.show()"
   ]
  }
 ],
 "metadata": {
  "hide_input": false,
  "kernelspec": {
   "display_name": "Python 3",
   "language": "python",
   "name": "python3"
  },
  "language_info": {
   "codemirror_mode": {
    "name": "ipython",
    "version": 3
   },
   "file_extension": ".py",
   "mimetype": "text/x-python",
   "name": "python",
   "nbconvert_exporter": "python",
   "pygments_lexer": "ipython3",
   "version": "3.9.13"
  },
  "toc": {
   "base_numbering": 1,
   "nav_menu": {},
   "number_sections": true,
   "sideBar": true,
   "skip_h1_title": false,
   "title_cell": "Table of Contents",
   "title_sidebar": "Contents",
   "toc_cell": false,
   "toc_position": {},
   "toc_section_display": true,
   "toc_window_display": false
  }
 },
 "nbformat": 4,
 "nbformat_minor": 1
}
