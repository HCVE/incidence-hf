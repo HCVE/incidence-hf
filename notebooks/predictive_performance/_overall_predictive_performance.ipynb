{
 "cells": [
  {
   "cell_type": "code",
   "execution_count": 4,
   "metadata": {},
   "outputs": [
    {
     "name": "stderr",
     "output_type": "stream",
     "text": [
      "<frozen importlib._bootstrap>:228: RuntimeWarning: sklearn.tree._splitter.Splitter size changed, may indicate binary incompatibility. Expected 360 from C header, got 1160 from PyObject\n"
     ]
    }
   ],
   "source": [
    "import mlflow\n",
    "from mlflow import get_experiment_by_name\n",
    "\n",
    "from hcve_lib.metrics import StratifiedMetric\n",
    "from hcve_lib.utils import notebook_init, transpose_dict, transpose_list\n",
    "\n",
    "notebook_init()\n",
    "from deps.data import get_30_to_80\n",
    "from hcve_lib.tracking import load_run_results\n",
    "from deps.constants import RANDOM_STATE\n",
    "from hcve_lib.evaluation_functions import compute_metric_result, merge_predictions, average_group_scores\n",
    "from hcve_lib.metrics import BootstrappedMetric, CIndex\n",
    "\n",
    "from mlflow import set_tracking_uri\n",
    "import pandas\n",
    "from pandas import DataFrame, Series\n",
    "from toolz import valmap\n",
    "\n",
    "set_tracking_uri('http://localhost:5000')\n",
    "from numpy import mean\n",
    "\n",
    "from typing import Dict, List\n",
    "from plotly import express as px\n",
    "from deps.evaluation import get_latest_chosen_run_group\n",
    "\n",
    "from hcve_lib.functional import star_args\n",
    "from toolz import itemmap\n",
    "from statistics import mean\n",
    "from hcve_lib.functional import dict_subset\n",
    "\n",
    "from numpy import std\n",
    "from deps.visualisation import plot_metric_matrix\n",
    "from deps.evaluation import get_metric_matrix\n",
    "from hcve_lib.tracking import load_group_results\n",
    "from deps.visualisation import get_numerical_matrix\n",
    "from deps.visualisation import plot_matrix\n",
    "from config import GROUPS_LCO, GROUPS_LM_SELECTED, GROUPS_10_fold\n",
    "from config import COHORTS\n",
    "\n",
    "%autoreload 2\n",
    "ITERATIONS = 3"
   ]
  },
  {
   "cell_type": "code",
   "execution_count": 5,
   "metadata": {},
   "outputs": [
    {
     "name": "stdout",
     "output_type": "stream",
     "text": [
      "[Memory]1.0s, 0.0min    : Loading get_data...\n",
      "____________________________________________get_data cache loaded - 0.0s, 0.0min\n"
     ]
    }
   ],
   "source": [
    "from deps.common import get_data_cached\n",
    "\n",
    "data, metadata, X, y = get_data_cached()\n"
   ]
  },
  {
   "cell_type": "code",
   "execution_count": 11,
   "metadata": {
    "scrolled": true
   },
   "outputs": [
    {
     "ename": "AttributeError",
     "evalue": "Can't get attribute '_unpickle_block' on <module 'pandas._libs.internals' from '/home/sitnarf/.local/share/virtualenvs/homage-fl-Ms4N7PDp/lib/python3.9/site-packages/pandas/_libs/internals.cpython-39-x86_64-linux-gnu.so'>",
     "output_type": "error",
     "traceback": [
      "\u001b[0;31m---------------------------------------------------------------------------\u001b[0m",
      "\u001b[0;31mAttributeError\u001b[0m                            Traceback (most recent call last)",
      "Input \u001b[0;32mIn [11]\u001b[0m, in \u001b[0;36m<cell line: 1>\u001b[0;34m()\u001b[0m\n\u001b[0;32m----> 1\u001b[0m merged_prediction \u001b[38;5;241m=\u001b[39m \u001b[43mvalmap\u001b[49m\u001b[43m(\u001b[49m\n\u001b[1;32m      2\u001b[0m \u001b[43m    \u001b[49m\u001b[38;5;28;43;01mlambda\u001b[39;49;00m\u001b[43m \u001b[49m\u001b[43mgroup_id\u001b[49m\u001b[43m:\u001b[49m\u001b[43m \u001b[49m\u001b[43mmerge_predictions\u001b[49m\u001b[43m(\u001b[49m\u001b[43maverage_group_scores\u001b[49m\u001b[43m(\u001b[49m\u001b[43mload_group_results\u001b[49m\u001b[43m(\u001b[49m\u001b[43mgroup_id\u001b[49m\u001b[43m,\u001b[49m\u001b[43m \u001b[49m\u001b[43mload_models\u001b[49m\u001b[38;5;241;43m=\u001b[39;49m\u001b[38;5;28;43;01mFalse\u001b[39;49;00m\u001b[43m)\u001b[49m\u001b[43m)\u001b[49m\u001b[43m)\u001b[49m\u001b[43m,\u001b[49m\n\u001b[1;32m      3\u001b[0m \u001b[43m    \u001b[49m\u001b[43mGROUPS_LCO\u001b[49m\u001b[43m,\u001b[49m\n\u001b[1;32m      4\u001b[0m \u001b[43m)\u001b[49m\n",
      "File \u001b[0;32m~/.local/share/virtualenvs/homage-fl-Ms4N7PDp/lib/python3.9/site-packages/toolz/dicttoolz.py:85\u001b[0m, in \u001b[0;36mvalmap\u001b[0;34m(func, d, factory)\u001b[0m\n\u001b[1;32m     74\u001b[0m \u001b[38;5;124;03m\"\"\" Apply function to values of dictionary\u001b[39;00m\n\u001b[1;32m     75\u001b[0m \n\u001b[1;32m     76\u001b[0m \u001b[38;5;124;03m>>> bills = {\"Alice\": [20, 15, 30], \"Bob\": [10, 35]}\u001b[39;00m\n\u001b[0;32m   (...)\u001b[0m\n\u001b[1;32m     82\u001b[0m \u001b[38;5;124;03m    itemmap\u001b[39;00m\n\u001b[1;32m     83\u001b[0m \u001b[38;5;124;03m\"\"\"\u001b[39;00m\n\u001b[1;32m     84\u001b[0m rv \u001b[38;5;241m=\u001b[39m factory()\n\u001b[0;32m---> 85\u001b[0m \u001b[43mrv\u001b[49m\u001b[38;5;241;43m.\u001b[39;49m\u001b[43mupdate\u001b[49m\u001b[43m(\u001b[49m\u001b[38;5;28;43mzip\u001b[39;49m\u001b[43m(\u001b[49m\u001b[43md\u001b[49m\u001b[38;5;241;43m.\u001b[39;49m\u001b[43mkeys\u001b[49m\u001b[43m(\u001b[49m\u001b[43m)\u001b[49m\u001b[43m,\u001b[49m\u001b[43m \u001b[49m\u001b[38;5;28;43mmap\u001b[39;49m\u001b[43m(\u001b[49m\u001b[43mfunc\u001b[49m\u001b[43m,\u001b[49m\u001b[43m \u001b[49m\u001b[43md\u001b[49m\u001b[38;5;241;43m.\u001b[39;49m\u001b[43mvalues\u001b[49m\u001b[43m(\u001b[49m\u001b[43m)\u001b[49m\u001b[43m)\u001b[49m\u001b[43m)\u001b[49m\u001b[43m)\u001b[49m\n\u001b[1;32m     86\u001b[0m \u001b[38;5;28;01mreturn\u001b[39;00m rv\n",
      "Input \u001b[0;32mIn [11]\u001b[0m, in \u001b[0;36m<lambda>\u001b[0;34m(group_id)\u001b[0m\n\u001b[1;32m      1\u001b[0m merged_prediction \u001b[38;5;241m=\u001b[39m valmap(\n\u001b[0;32m----> 2\u001b[0m     \u001b[38;5;28;01mlambda\u001b[39;00m group_id: merge_predictions(average_group_scores(\u001b[43mload_group_results\u001b[49m\u001b[43m(\u001b[49m\u001b[43mgroup_id\u001b[49m\u001b[43m,\u001b[49m\u001b[43m \u001b[49m\u001b[43mload_models\u001b[49m\u001b[38;5;241;43m=\u001b[39;49m\u001b[38;5;28;43;01mFalse\u001b[39;49;00m\u001b[43m)\u001b[49m)),\n\u001b[1;32m      3\u001b[0m     GROUPS_LCO,\n\u001b[1;32m      4\u001b[0m )\n",
      "File \u001b[0;32m~/projects/hcve_lib/hcve_lib/tracking.py:86\u001b[0m, in \u001b[0;36mload_group_results\u001b[0;34m(group_id, **kwargs)\u001b[0m\n\u001b[1;32m     80\u001b[0m \u001b[38;5;28;01mdef\u001b[39;00m \u001b[38;5;21mload_group_results\u001b[39m(group_id: \u001b[38;5;28mstr\u001b[39m, \u001b[38;5;241m*\u001b[39m\u001b[38;5;241m*\u001b[39mkwargs) \u001b[38;5;241m-\u001b[39m\u001b[38;5;241m>\u001b[39m Dict[Hashable, Result]:\n\u001b[1;32m     81\u001b[0m     group_runs \u001b[38;5;241m=\u001b[39m mlflow\u001b[38;5;241m.\u001b[39msearch_runs(\n\u001b[1;32m     82\u001b[0m         filter_string\u001b[38;5;241m=\u001b[39m\u001b[38;5;124mf\u001b[39m\u001b[38;5;124m'\u001b[39m\u001b[38;5;124mtags.group_id=\u001b[39m\u001b[38;5;124m\"\u001b[39m\u001b[38;5;132;01m{\u001b[39;00mgroup_id\u001b[38;5;132;01m}\u001b[39;00m\u001b[38;5;124m\"\u001b[39m\u001b[38;5;124m'\u001b[39m,\n\u001b[1;32m     83\u001b[0m         output_format\u001b[38;5;241m=\u001b[39m\u001b[38;5;124m'\u001b[39m\u001b[38;5;124mlist\u001b[39m\u001b[38;5;124m'\u001b[39m,\n\u001b[1;32m     84\u001b[0m         search_all_experiments\u001b[38;5;241m=\u001b[39m\u001b[38;5;28;01mTrue\u001b[39;00m,\n\u001b[1;32m     85\u001b[0m     )\n\u001b[0;32m---> 86\u001b[0m     \u001b[38;5;28;01mreturn\u001b[39;00m \u001b[43mpipe\u001b[49m\u001b[43m(\u001b[49m\n\u001b[1;32m     87\u001b[0m \u001b[43m        \u001b[49m\u001b[43m(\u001b[49m\u001b[43m(\u001b[49m\u001b[43mindex\u001b[49m\u001b[43m,\u001b[49m\u001b[43m \u001b[49m\u001b[43mload_run_results\u001b[49m\u001b[43m(\u001b[49m\u001b[43mrun\u001b[49m\u001b[38;5;241;43m.\u001b[39;49m\u001b[43minfo\u001b[49m\u001b[38;5;241;43m.\u001b[39;49m\u001b[43mrun_id\u001b[49m\u001b[43m,\u001b[49m\u001b[43m \u001b[49m\u001b[38;5;241;43m*\u001b[39;49m\u001b[38;5;241;43m*\u001b[39;49m\u001b[43mkwargs\u001b[49m\u001b[43m)\u001b[49m\u001b[43m)\u001b[49m\n\u001b[1;32m     88\u001b[0m \u001b[43m         \u001b[49m\u001b[38;5;28;43;01mfor\u001b[39;49;00m\u001b[43m \u001b[49m\u001b[43mindex\u001b[49m\u001b[43m,\u001b[49m\u001b[43m \u001b[49m\u001b[43mrun\u001b[49m\u001b[43m \u001b[49m\u001b[38;5;129;43;01min\u001b[39;49;00m\u001b[43m \u001b[49m\u001b[38;5;28;43menumerate\u001b[39;49m\u001b[43m(\u001b[49m\u001b[43mgroup_runs\u001b[49m\u001b[43m)\u001b[49m\u001b[43m)\u001b[49m\u001b[43m,\u001b[49m\n\u001b[1;32m     89\u001b[0m \u001b[43m        \u001b[49m\u001b[38;5;28;43mdict\u001b[39;49m\u001b[43m,\u001b[49m\n\u001b[1;32m     90\u001b[0m \u001b[43m    \u001b[49m\u001b[43m)\u001b[49m\n",
      "File \u001b[0;32m~/projects/hcve_lib/hcve_lib/functional.py:160\u001b[0m, in \u001b[0;36mpipe\u001b[0;34m(log, *args)\u001b[0m\n\u001b[1;32m    158\u001b[0m current_value \u001b[38;5;241m=\u001b[39m args[\u001b[38;5;241m0\u001b[39m]\n\u001b[1;32m    159\u001b[0m \u001b[38;5;28;01mfor\u001b[39;00m function \u001b[38;5;129;01min\u001b[39;00m args[\u001b[38;5;241m1\u001b[39m:]:\n\u001b[0;32m--> 160\u001b[0m     current_value \u001b[38;5;241m=\u001b[39m \u001b[43mfunction\u001b[49m\u001b[43m(\u001b[49m\u001b[43mcurrent_value\u001b[49m\u001b[43m)\u001b[49m\n\u001b[1;32m    161\u001b[0m     \u001b[38;5;28;01mif\u001b[39;00m log:\n\u001b[1;32m    162\u001b[0m         \u001b[38;5;28mprint\u001b[39m(\n\u001b[1;32m    163\u001b[0m             \u001b[38;5;124mf\u001b[39m\u001b[38;5;124m'\u001b[39m\u001b[38;5;130;01m\\'\u001b[39;00m\u001b[38;5;132;01m{\u001b[39;00mfunction\u001b[38;5;241m.\u001b[39m\u001b[38;5;18m__name__\u001b[39m\u001b[38;5;132;01m}\u001b[39;00m\u001b[38;5;130;01m\\'\u001b[39;00m\u001b[38;5;124m with input \u001b[39m\u001b[38;5;130;01m\\n\u001b[39;00m\u001b[38;5;124m \u001b[39m\u001b[38;5;132;01m{\u001b[39;00mpprint\u001b[38;5;241m.\u001b[39mpformat(current_value)\u001b[38;5;132;01m}\u001b[39;00m\u001b[38;5;124m'\u001b[39m\n\u001b[1;32m    164\u001b[0m         )\n",
      "File \u001b[0;32m~/projects/hcve_lib/hcve_lib/tracking.py:87\u001b[0m, in \u001b[0;36m<genexpr>\u001b[0;34m(.0)\u001b[0m\n\u001b[1;32m     80\u001b[0m \u001b[38;5;28;01mdef\u001b[39;00m \u001b[38;5;21mload_group_results\u001b[39m(group_id: \u001b[38;5;28mstr\u001b[39m, \u001b[38;5;241m*\u001b[39m\u001b[38;5;241m*\u001b[39mkwargs) \u001b[38;5;241m-\u001b[39m\u001b[38;5;241m>\u001b[39m Dict[Hashable, Result]:\n\u001b[1;32m     81\u001b[0m     group_runs \u001b[38;5;241m=\u001b[39m mlflow\u001b[38;5;241m.\u001b[39msearch_runs(\n\u001b[1;32m     82\u001b[0m         filter_string\u001b[38;5;241m=\u001b[39m\u001b[38;5;124mf\u001b[39m\u001b[38;5;124m'\u001b[39m\u001b[38;5;124mtags.group_id=\u001b[39m\u001b[38;5;124m\"\u001b[39m\u001b[38;5;132;01m{\u001b[39;00mgroup_id\u001b[38;5;132;01m}\u001b[39;00m\u001b[38;5;124m\"\u001b[39m\u001b[38;5;124m'\u001b[39m,\n\u001b[1;32m     83\u001b[0m         output_format\u001b[38;5;241m=\u001b[39m\u001b[38;5;124m'\u001b[39m\u001b[38;5;124mlist\u001b[39m\u001b[38;5;124m'\u001b[39m,\n\u001b[1;32m     84\u001b[0m         search_all_experiments\u001b[38;5;241m=\u001b[39m\u001b[38;5;28;01mTrue\u001b[39;00m,\n\u001b[1;32m     85\u001b[0m     )\n\u001b[1;32m     86\u001b[0m     \u001b[38;5;28;01mreturn\u001b[39;00m pipe(\n\u001b[0;32m---> 87\u001b[0m         ((index, \u001b[43mload_run_results\u001b[49m\u001b[43m(\u001b[49m\u001b[43mrun\u001b[49m\u001b[38;5;241;43m.\u001b[39;49m\u001b[43minfo\u001b[49m\u001b[38;5;241;43m.\u001b[39;49m\u001b[43mrun_id\u001b[49m\u001b[43m,\u001b[49m\u001b[43m \u001b[49m\u001b[38;5;241;43m*\u001b[39;49m\u001b[38;5;241;43m*\u001b[39;49m\u001b[43mkwargs\u001b[49m\u001b[43m)\u001b[49m)\n\u001b[1;32m     88\u001b[0m          \u001b[38;5;28;01mfor\u001b[39;00m index, run \u001b[38;5;129;01min\u001b[39;00m \u001b[38;5;28menumerate\u001b[39m(group_runs)),\n\u001b[1;32m     89\u001b[0m         \u001b[38;5;28mdict\u001b[39m,\n\u001b[1;32m     90\u001b[0m     )\n",
      "File \u001b[0;32m~/projects/hcve_lib/hcve_lib/tracking.py:43\u001b[0m, in \u001b[0;36mload_run_results\u001b[0;34m(run_id, load_models)\u001b[0m\n\u001b[1;32m     41\u001b[0m \u001b[38;5;28;01mdef\u001b[39;00m \u001b[38;5;21mload_run_results\u001b[39m(run_id: \u001b[38;5;28mstr\u001b[39m, load_models: \u001b[38;5;28mbool\u001b[39m \u001b[38;5;241m=\u001b[39m \u001b[38;5;28;01mFalse\u001b[39;00m) \u001b[38;5;241m-\u001b[39m\u001b[38;5;241m>\u001b[39m Result:\n\u001b[1;32m     42\u001b[0m     \u001b[38;5;28;01mtry\u001b[39;00m:\n\u001b[0;32m---> 43\u001b[0m         result \u001b[38;5;241m=\u001b[39m \u001b[43mload_pickled_artifact\u001b[49m\u001b[43m(\u001b[49m\u001b[43mrun_id\u001b[49m\u001b[43m,\u001b[49m\u001b[43m \u001b[49m\u001b[38;5;124;43m'\u001b[39;49m\u001b[38;5;124;43mresult\u001b[39;49m\u001b[38;5;124;43m'\u001b[39;49m\u001b[43m)\u001b[49m\n\u001b[1;32m     44\u001b[0m         \u001b[38;5;28;01mif\u001b[39;00m load_models:\n\u001b[1;32m     45\u001b[0m             models \u001b[38;5;241m=\u001b[39m load_pickled_artifact(run_id, \u001b[38;5;124m'\u001b[39m\u001b[38;5;124mresult_models\u001b[39m\u001b[38;5;124m'\u001b[39m)\n",
      "File \u001b[0;32m~/projects/hcve_lib/hcve_lib/tracking.py:38\u001b[0m, in \u001b[0;36mload_pickled_artifact\u001b[0;34m(run_id, path)\u001b[0m\n\u001b[1;32m     36\u001b[0m path \u001b[38;5;241m=\u001b[39m client\u001b[38;5;241m.\u001b[39mdownload_artifacts(run_id, path)\n\u001b[1;32m     37\u001b[0m \u001b[38;5;28;01mwith\u001b[39;00m \u001b[38;5;28mopen\u001b[39m(path, \u001b[38;5;124m'\u001b[39m\u001b[38;5;124mrb\u001b[39m\u001b[38;5;124m'\u001b[39m) \u001b[38;5;28;01mas\u001b[39;00m f:\n\u001b[0;32m---> 38\u001b[0m     \u001b[38;5;28;01mreturn\u001b[39;00m \u001b[43mpickle\u001b[49m\u001b[38;5;241;43m.\u001b[39;49m\u001b[43mload\u001b[49m\u001b[43m(\u001b[49m\u001b[43mf\u001b[49m\u001b[43m)\u001b[49m\n",
      "\u001b[0;31mAttributeError\u001b[0m: Can't get attribute '_unpickle_block' on <module 'pandas._libs.internals' from '/home/sitnarf/.local/share/virtualenvs/homage-fl-Ms4N7PDp/lib/python3.9/site-packages/pandas/_libs/internals.cpython-39-x86_64-linux-gnu.so'>"
     ]
    }
   ],
   "source": [
    "\n",
    "merged_prediction = valmap(\n",
    "    lambda group_id: merge_predictions(average_group_scores(load_group_results(group_id, load_models=False))),\n",
    "    GROUPS_LCO,\n",
    ")"
   ]
  },
  {
   "cell_type": "code",
   "execution_count": 2,
   "metadata": {
    "scrolled": false
   },
   "outputs": [
    {
     "ename": "NameError",
     "evalue": "name 'y' is not defined",
     "output_type": "error",
     "traceback": [
      "\u001b[0;31m---------------------------------------------------------------------------\u001b[0m",
      "\u001b[0;31mNameError\u001b[0m                                 Traceback (most recent call last)",
      "Input \u001b[0;32mIn [2]\u001b[0m, in \u001b[0;36m<cell line: 11>\u001b[0;34m()\u001b[0m\n\u001b[1;32m      5\u001b[0m         fig \u001b[38;5;241m=\u001b[39m px\u001b[38;5;241m.\u001b[39mviolin(DataFrame({\n\u001b[1;32m      6\u001b[0m             \u001b[38;5;124m'\u001b[39m\u001b[38;5;124my_score\u001b[39m\u001b[38;5;124m'\u001b[39m: prediction[\u001b[38;5;124m'\u001b[39m\u001b[38;5;124my_score\u001b[39m\u001b[38;5;124m'\u001b[39m]\u001b[38;5;241m.\u001b[39mloc[y_binarized\u001b[38;5;241m.\u001b[39mindex],\n\u001b[1;32m      7\u001b[0m             \u001b[38;5;124m'\u001b[39m\u001b[38;5;124my_true\u001b[39m\u001b[38;5;124m'\u001b[39m: y_binarized,\n\u001b[1;32m      8\u001b[0m         })\u001b[38;5;241m.\u001b[39mdropna(), y\u001b[38;5;241m=\u001b[39m\u001b[38;5;124m'\u001b[39m\u001b[38;5;124my_score\u001b[39m\u001b[38;5;124m'\u001b[39m, x\u001b[38;5;241m=\u001b[39m\u001b[38;5;124m'\u001b[39m\u001b[38;5;124my_true\u001b[39m\u001b[38;5;124m'\u001b[39m, points\u001b[38;5;241m=\u001b[39m\u001b[38;5;124m'\u001b[39m\u001b[38;5;124mall\u001b[39m\u001b[38;5;124m'\u001b[39m, title\u001b[38;5;241m=\u001b[39mname)\n\u001b[1;32m      9\u001b[0m         fig\u001b[38;5;241m.\u001b[39mshow()\n\u001b[0;32m---> 11\u001b[0m plot_y_score_dist(binarize_event(\u001b[38;5;241m10\u001b[39m\u001b[38;5;241m*\u001b[39m\u001b[38;5;241m365\u001b[39m, \u001b[43my\u001b[49m[\u001b[38;5;124m'\u001b[39m\u001b[38;5;124mdata\u001b[39m\u001b[38;5;124m'\u001b[39m]), merged_prediction)\n",
      "\u001b[0;31mNameError\u001b[0m: name 'y' is not defined"
     ]
    }
   ],
   "source": [
    "from hcve_lib.data import binarize_event\n",
    "\n",
    "def plot_y_score_dist(y_binarized, merged_predictions):\n",
    "    for name, prediction in merged_predictions.items():\n",
    "        fig = px.violin(DataFrame({\n",
    "            'y_score': prediction['y_score'].loc[y_binarized.index],\n",
    "            'y_true': y_binarized,\n",
    "        }).dropna(), y='y_score', x='y_true', points='all', title=name)\n",
    "        fig.show()\n",
    "    \n",
    "plot_y_score_dist(binarize_event(10*365, y['data']), merged_prediction)"
   ]
  },
  {
   "cell_type": "code",
   "execution_count": 12,
   "metadata": {},
   "outputs": [
    {
     "name": "stderr",
     "output_type": "stream",
     "text": [
      "/home/sitnarf/.local/share/virtualenvs/homage-fl-Ms4N7PDp/lib/python3.9/site-packages/toolz/dicttoolz.py:83: FutureWarning: Dropping of nuisance columns in DataFrame reductions (with 'numeric_only=None') is deprecated; in a future version this will raise TypeError.  Select only valid columns before calling the reduction.\n",
      "  rv.update(zip(d.keys(), map(func, d.values())))\n"
     ]
    }
   ],
   "source": [
    "result_lm = average_group_scores(load_group_results('1748b866-20a3-43a2-ac1b-93e41daaca2c'))"
   ]
  },
  {
   "cell_type": "code",
   "execution_count": 13,
   "metadata": {
    "scrolled": true
   },
   "outputs": [
    {
     "name": "stderr",
     "output_type": "stream",
     "text": [
      "/home/sitnarf/.local/share/virtualenvs/homage-fl-Ms4N7PDp/lib/python3.9/site-packages/toolz/dicttoolz.py:83: FutureWarning: Dropping of nuisance columns in DataFrame reductions (with 'numeric_only=None') is deprecated; in a future version this will raise TypeError.  Select only valid columns before calling the reduction.\n",
      "  rv.update(zip(d.keys(), map(func, d.values())))\n"
     ]
    }
   ],
   "source": [
    "metrics_seed_averaged_lm = valmap(\n",
    "    lambda group_id: compute_metric_result(\n",
    "        BootstrappedMetric(\n",
    "            CIndex(),\n",
    "            random_state=RANDOM_STATE,\n",
    "            iterations=10,\n",
    "        ),\n",
    "        y,\n",
    "        average_group_scores(load_group_results(group_id)),\n",
    "    ),\n",
    "    GROUPS_LM_SELECTED,\n",
    ")"
   ]
  },
  {
   "cell_type": "code",
   "execution_count": 14,
   "metadata": {},
   "outputs": [],
   "source": [
    "from collections import defaultdict\n",
    "\n",
    "\n",
    "metrics_lm_averaged = defaultdict(dict)\n",
    "for method_name, values in metrics_seed_averaged_lm.items():\n",
    "    for test_cohort in COHORTS:\n",
    "        values_selected = [value['mean'] for split, value in values.items() if split[1] == test_cohort]\n",
    "        metrics_lm_averaged[method_name][test_cohort] = mean(values_selected)\n"
   ]
  },
  {
   "cell_type": "code",
   "execution_count": 16,
   "metadata": {
    "scrolled": false
   },
   "outputs": [],
   "source": [
    "from hcve_lib.functional import try_except\n",
    "\n",
    "metrics_seed_averaged_lco = valmap(\n",
    "    lambda run_id: try_except(lambda: compute_metric_result(\n",
    "            BootstrappedMetric(\n",
    "                CIndex(),\n",
    "                random_state=RANDOM_STATE,\n",
    "                iterations=10,\n",
    "            ),\n",
    "            y,\n",
    "            average_group_scores(load_group_results(run_id)),\n",
    "        ),\n",
    "        {AttributeError: lambda e: None}\n",
    "    ),\n",
    "    GROUPS_LCO,\n",
    ")"
   ]
  },
  {
   "cell_type": "code",
   "execution_count": 53,
   "metadata": {
    "scrolled": true
   },
   "outputs": [
    {
     "ename": "KeyError",
     "evalue": "'xgb'",
     "output_type": "error",
     "traceback": [
      "\u001b[0;31m---------------------------------------------------------------------------\u001b[0m",
      "\u001b[0;31mKeyError\u001b[0m                                  Traceback (most recent call last)",
      "Input \u001b[0;32mIn [53]\u001b[0m, in \u001b[0;36m<cell line: 1>\u001b[0;34m()\u001b[0m\n\u001b[0;32m----> 1\u001b[0m \u001b[38;5;28;01mdel\u001b[39;00m metrics_seed_averaged_lco[\u001b[38;5;124m'\u001b[39m\u001b[38;5;124mxgb\u001b[39m\u001b[38;5;124m'\u001b[39m]\n\u001b[1;32m      2\u001b[0m \u001b[38;5;28;01mdel\u001b[39;00m metrics_seed_averaged_lco[\u001b[38;5;124m'\u001b[39m\u001b[38;5;124mdcm\u001b[39m\u001b[38;5;124m'\u001b[39m]\n",
      "\u001b[0;31mKeyError\u001b[0m: 'xgb'"
     ]
    }
   ],
   "source": [
    "del metrics_seed_averaged_lco['xgb']\n",
    "del metrics_seed_averaged_lco['dcm']\n"
   ]
  },
  {
   "cell_type": "code",
   "execution_count": 54,
   "metadata": {},
   "outputs": [],
   "source": [
    "from hcve_lib.functional import pipe, flatten\n",
    "\n",
    "\n",
    "metrics_seed_averaged_df = pipe([\n",
    "    [\n",
    "        {\n",
    "            'method_name': method_name,\n",
    "            'test_cohort': split_name,\n",
    "            'mean': metric['mean'],\n",
    "            'ci_hi': metric['ci'][1]-metric['mean'],\n",
    "        }\n",
    "        for split_name, metric in result.items()\n",
    "    ]\n",
    "    for method_name, result in metrics_seed_averaged_lco.items()\n",
    "],\n",
    "    flatten,\n",
    "    list,\n",
    "    DataFrame,\n",
    ")\n",
    "\n",
    "metrics_seed_averaged_df_selected = metrics_seed_averaged_df[\n",
    "    metrics_seed_averaged_df['method_name'].isin(['gb', 'coxnet'])\n",
    "]\n",
    "metrics_seed_averaged_df_selected['splits'] = 'Multi-center'"
   ]
  },
  {
   "cell_type": "code",
   "execution_count": 55,
   "metadata": {},
   "outputs": [],
   "source": [
    "metrics_seed_averaged_lm = {'method_name': [], 'mean': [], 'test_cohort': [], 'splits': []}\n",
    "\n",
    "for method_name, metrics_by_test in metrics_lm_averaged.items():\n",
    "    metrics_seed_averaged_lm['method_name'] += ([method_name] * len(metrics_by_test))\n",
    "    metrics_seed_averaged_lm['splits'] += (['Single-center'] * len(metrics_by_test))\n",
    "    metrics_seed_averaged_lm['test_cohort'] += list(metrics_by_test.keys())\n",
    "    metrics_seed_averaged_lm['mean'] += list(metrics_by_test.values())"
   ]
  },
  {
   "cell_type": "code",
   "execution_count": 56,
   "metadata": {},
   "outputs": [],
   "source": [
    "lco_lm_comparison = pandas.concat([DataFrame(metrics_seed_averaged_lm), metrics_seed_averaged_df_selected])"
   ]
  },
  {
   "cell_type": "code",
   "execution_count": 68,
   "metadata": {},
   "outputs": [
    {
     "data": {
      "application/vnd.plotly.v1+json": {
       "config": {
        "plotlyServerURL": "https://plot.ly"
       },
       "data": [
        {
         "alignmentgroup": "True",
         "hovertemplate": "splits=Single-center<br>Tested on=%{x}<br>c-index=%{y}<extra></extra>",
         "legendgroup": "Single-center",
         "marker": {
          "color": "#4194D9",
          "pattern": {
           "shape": ""
          }
         },
         "name": "Single-center",
         "offsetgroup": "Single-center",
         "orientation": "v",
         "showlegend": true,
         "textposition": "auto",
         "type": "bar",
         "x": [
          "PROSPER",
          "HEALTHABC",
          "PREDICTOR",
          "HVC",
          "ASCOT",
          "FLEMENGHO"
         ],
         "xaxis": "x",
         "y": [
          0.5903537836069321,
          0.6062753830770629,
          0.6036476268738198,
          0.5669738304469367,
          0.6913879117876115,
          0.7671006536337376
         ],
         "yaxis": "y"
        },
        {
         "alignmentgroup": "True",
         "hovertemplate": "splits=Multi-center<br>Tested on=%{x}<br>c-index=%{y}<extra></extra>",
         "legendgroup": "Multi-center",
         "marker": {
          "color": "#4194D9",
          "pattern": {
           "shape": "/"
          }
         },
         "name": "Multi-center",
         "offsetgroup": "Multi-center",
         "orientation": "v",
         "showlegend": true,
         "textposition": "auto",
         "type": "bar",
         "x": [
          "ASCOT",
          "FLEMENGHO",
          "HEALTHABC",
          "HVC",
          "PREDICTOR",
          "PROSPER"
         ],
         "xaxis": "x",
         "y": [
          0.7390429344948601,
          0.7598245590367737,
          0.6363971793412653,
          0.619033910257451,
          0.6334990364620573,
          0.5996129560482211
         ],
         "yaxis": "y"
        }
       ],
       "layout": {
        "bargroupgap": 0.1,
        "barmode": "group",
        "font": {
         "family": "Calibri",
         "size": 25
        },
        "legend": {
         "title": {
          "font": {
           "color": "rgba(0,0,0,0)"
          },
          "text": "splits"
         },
         "tracegroupgap": 0
        },
        "margin": {
         "t": 60
        },
        "template": {
         "data": {
          "bar": [
           {
            "error_x": {
             "color": "rgb(36,36,36)"
            },
            "error_y": {
             "color": "rgb(36,36,36)"
            },
            "marker": {
             "line": {
              "color": "white",
              "width": 0.5
             },
             "pattern": {
              "fillmode": "overlay",
              "size": 10,
              "solidity": 0.2
             }
            },
            "type": "bar"
           }
          ],
          "barpolar": [
           {
            "marker": {
             "line": {
              "color": "white",
              "width": 0.5
             },
             "pattern": {
              "fillmode": "overlay",
              "size": 10,
              "solidity": 0.2
             }
            },
            "type": "barpolar"
           }
          ],
          "carpet": [
           {
            "aaxis": {
             "endlinecolor": "rgb(36,36,36)",
             "gridcolor": "white",
             "linecolor": "white",
             "minorgridcolor": "white",
             "startlinecolor": "rgb(36,36,36)"
            },
            "baxis": {
             "endlinecolor": "rgb(36,36,36)",
             "gridcolor": "white",
             "linecolor": "white",
             "minorgridcolor": "white",
             "startlinecolor": "rgb(36,36,36)"
            },
            "type": "carpet"
           }
          ],
          "choropleth": [
           {
            "colorbar": {
             "outlinewidth": 1,
             "tickcolor": "rgb(36,36,36)",
             "ticks": "outside"
            },
            "type": "choropleth"
           }
          ],
          "contour": [
           {
            "colorbar": {
             "outlinewidth": 1,
             "tickcolor": "rgb(36,36,36)",
             "ticks": "outside"
            },
            "colorscale": [
             [
              0,
              "#440154"
             ],
             [
              0.1111111111111111,
              "#482878"
             ],
             [
              0.2222222222222222,
              "#3e4989"
             ],
             [
              0.3333333333333333,
              "#31688e"
             ],
             [
              0.4444444444444444,
              "#26828e"
             ],
             [
              0.5555555555555556,
              "#1f9e89"
             ],
             [
              0.6666666666666666,
              "#35b779"
             ],
             [
              0.7777777777777778,
              "#6ece58"
             ],
             [
              0.8888888888888888,
              "#b5de2b"
             ],
             [
              1,
              "#fde725"
             ]
            ],
            "type": "contour"
           }
          ],
          "contourcarpet": [
           {
            "colorbar": {
             "outlinewidth": 1,
             "tickcolor": "rgb(36,36,36)",
             "ticks": "outside"
            },
            "type": "contourcarpet"
           }
          ],
          "heatmap": [
           {
            "colorbar": {
             "outlinewidth": 1,
             "tickcolor": "rgb(36,36,36)",
             "ticks": "outside"
            },
            "colorscale": [
             [
              0,
              "#440154"
             ],
             [
              0.1111111111111111,
              "#482878"
             ],
             [
              0.2222222222222222,
              "#3e4989"
             ],
             [
              0.3333333333333333,
              "#31688e"
             ],
             [
              0.4444444444444444,
              "#26828e"
             ],
             [
              0.5555555555555556,
              "#1f9e89"
             ],
             [
              0.6666666666666666,
              "#35b779"
             ],
             [
              0.7777777777777778,
              "#6ece58"
             ],
             [
              0.8888888888888888,
              "#b5de2b"
             ],
             [
              1,
              "#fde725"
             ]
            ],
            "type": "heatmap"
           }
          ],
          "heatmapgl": [
           {
            "colorbar": {
             "outlinewidth": 1,
             "tickcolor": "rgb(36,36,36)",
             "ticks": "outside"
            },
            "colorscale": [
             [
              0,
              "#440154"
             ],
             [
              0.1111111111111111,
              "#482878"
             ],
             [
              0.2222222222222222,
              "#3e4989"
             ],
             [
              0.3333333333333333,
              "#31688e"
             ],
             [
              0.4444444444444444,
              "#26828e"
             ],
             [
              0.5555555555555556,
              "#1f9e89"
             ],
             [
              0.6666666666666666,
              "#35b779"
             ],
             [
              0.7777777777777778,
              "#6ece58"
             ],
             [
              0.8888888888888888,
              "#b5de2b"
             ],
             [
              1,
              "#fde725"
             ]
            ],
            "type": "heatmapgl"
           }
          ],
          "histogram": [
           {
            "marker": {
             "line": {
              "color": "white",
              "width": 0.6
             }
            },
            "type": "histogram"
           }
          ],
          "histogram2d": [
           {
            "colorbar": {
             "outlinewidth": 1,
             "tickcolor": "rgb(36,36,36)",
             "ticks": "outside"
            },
            "colorscale": [
             [
              0,
              "#440154"
             ],
             [
              0.1111111111111111,
              "#482878"
             ],
             [
              0.2222222222222222,
              "#3e4989"
             ],
             [
              0.3333333333333333,
              "#31688e"
             ],
             [
              0.4444444444444444,
              "#26828e"
             ],
             [
              0.5555555555555556,
              "#1f9e89"
             ],
             [
              0.6666666666666666,
              "#35b779"
             ],
             [
              0.7777777777777778,
              "#6ece58"
             ],
             [
              0.8888888888888888,
              "#b5de2b"
             ],
             [
              1,
              "#fde725"
             ]
            ],
            "type": "histogram2d"
           }
          ],
          "histogram2dcontour": [
           {
            "colorbar": {
             "outlinewidth": 1,
             "tickcolor": "rgb(36,36,36)",
             "ticks": "outside"
            },
            "colorscale": [
             [
              0,
              "#440154"
             ],
             [
              0.1111111111111111,
              "#482878"
             ],
             [
              0.2222222222222222,
              "#3e4989"
             ],
             [
              0.3333333333333333,
              "#31688e"
             ],
             [
              0.4444444444444444,
              "#26828e"
             ],
             [
              0.5555555555555556,
              "#1f9e89"
             ],
             [
              0.6666666666666666,
              "#35b779"
             ],
             [
              0.7777777777777778,
              "#6ece58"
             ],
             [
              0.8888888888888888,
              "#b5de2b"
             ],
             [
              1,
              "#fde725"
             ]
            ],
            "type": "histogram2dcontour"
           }
          ],
          "mesh3d": [
           {
            "colorbar": {
             "outlinewidth": 1,
             "tickcolor": "rgb(36,36,36)",
             "ticks": "outside"
            },
            "type": "mesh3d"
           }
          ],
          "parcoords": [
           {
            "line": {
             "colorbar": {
              "outlinewidth": 1,
              "tickcolor": "rgb(36,36,36)",
              "ticks": "outside"
             }
            },
            "type": "parcoords"
           }
          ],
          "pie": [
           {
            "automargin": true,
            "type": "pie"
           }
          ],
          "scatter": [
           {
            "fillpattern": {
             "fillmode": "overlay",
             "size": 10,
             "solidity": 0.2
            },
            "type": "scatter"
           }
          ],
          "scatter3d": [
           {
            "line": {
             "colorbar": {
              "outlinewidth": 1,
              "tickcolor": "rgb(36,36,36)",
              "ticks": "outside"
             }
            },
            "marker": {
             "colorbar": {
              "outlinewidth": 1,
              "tickcolor": "rgb(36,36,36)",
              "ticks": "outside"
             }
            },
            "type": "scatter3d"
           }
          ],
          "scattercarpet": [
           {
            "marker": {
             "colorbar": {
              "outlinewidth": 1,
              "tickcolor": "rgb(36,36,36)",
              "ticks": "outside"
             }
            },
            "type": "scattercarpet"
           }
          ],
          "scattergeo": [
           {
            "marker": {
             "colorbar": {
              "outlinewidth": 1,
              "tickcolor": "rgb(36,36,36)",
              "ticks": "outside"
             }
            },
            "type": "scattergeo"
           }
          ],
          "scattergl": [
           {
            "marker": {
             "colorbar": {
              "outlinewidth": 1,
              "tickcolor": "rgb(36,36,36)",
              "ticks": "outside"
             }
            },
            "type": "scattergl"
           }
          ],
          "scattermapbox": [
           {
            "marker": {
             "colorbar": {
              "outlinewidth": 1,
              "tickcolor": "rgb(36,36,36)",
              "ticks": "outside"
             }
            },
            "type": "scattermapbox"
           }
          ],
          "scatterpolar": [
           {
            "marker": {
             "colorbar": {
              "outlinewidth": 1,
              "tickcolor": "rgb(36,36,36)",
              "ticks": "outside"
             }
            },
            "type": "scatterpolar"
           }
          ],
          "scatterpolargl": [
           {
            "marker": {
             "colorbar": {
              "outlinewidth": 1,
              "tickcolor": "rgb(36,36,36)",
              "ticks": "outside"
             }
            },
            "type": "scatterpolargl"
           }
          ],
          "scatterternary": [
           {
            "marker": {
             "colorbar": {
              "outlinewidth": 1,
              "tickcolor": "rgb(36,36,36)",
              "ticks": "outside"
             }
            },
            "type": "scatterternary"
           }
          ],
          "surface": [
           {
            "colorbar": {
             "outlinewidth": 1,
             "tickcolor": "rgb(36,36,36)",
             "ticks": "outside"
            },
            "colorscale": [
             [
              0,
              "#440154"
             ],
             [
              0.1111111111111111,
              "#482878"
             ],
             [
              0.2222222222222222,
              "#3e4989"
             ],
             [
              0.3333333333333333,
              "#31688e"
             ],
             [
              0.4444444444444444,
              "#26828e"
             ],
             [
              0.5555555555555556,
              "#1f9e89"
             ],
             [
              0.6666666666666666,
              "#35b779"
             ],
             [
              0.7777777777777778,
              "#6ece58"
             ],
             [
              0.8888888888888888,
              "#b5de2b"
             ],
             [
              1,
              "#fde725"
             ]
            ],
            "type": "surface"
           }
          ],
          "table": [
           {
            "cells": {
             "fill": {
              "color": "rgb(237,237,237)"
             },
             "line": {
              "color": "white"
             }
            },
            "header": {
             "fill": {
              "color": "rgb(217,217,217)"
             },
             "line": {
              "color": "white"
             }
            },
            "type": "table"
           }
          ]
         },
         "layout": {
          "annotationdefaults": {
           "arrowhead": 0,
           "arrowwidth": 1
          },
          "autotypenumbers": "strict",
          "coloraxis": {
           "colorbar": {
            "outlinewidth": 1,
            "tickcolor": "rgb(36,36,36)",
            "ticks": "outside"
           }
          },
          "colorscale": {
           "diverging": [
            [
             0,
             "rgb(103,0,31)"
            ],
            [
             0.1,
             "rgb(178,24,43)"
            ],
            [
             0.2,
             "rgb(214,96,77)"
            ],
            [
             0.3,
             "rgb(244,165,130)"
            ],
            [
             0.4,
             "rgb(253,219,199)"
            ],
            [
             0.5,
             "rgb(247,247,247)"
            ],
            [
             0.6,
             "rgb(209,229,240)"
            ],
            [
             0.7,
             "rgb(146,197,222)"
            ],
            [
             0.8,
             "rgb(67,147,195)"
            ],
            [
             0.9,
             "rgb(33,102,172)"
            ],
            [
             1,
             "rgb(5,48,97)"
            ]
           ],
           "sequential": [
            [
             0,
             "#440154"
            ],
            [
             0.1111111111111111,
             "#482878"
            ],
            [
             0.2222222222222222,
             "#3e4989"
            ],
            [
             0.3333333333333333,
             "#31688e"
            ],
            [
             0.4444444444444444,
             "#26828e"
            ],
            [
             0.5555555555555556,
             "#1f9e89"
            ],
            [
             0.6666666666666666,
             "#35b779"
            ],
            [
             0.7777777777777778,
             "#6ece58"
            ],
            [
             0.8888888888888888,
             "#b5de2b"
            ],
            [
             1,
             "#fde725"
            ]
           ],
           "sequentialminus": [
            [
             0,
             "#440154"
            ],
            [
             0.1111111111111111,
             "#482878"
            ],
            [
             0.2222222222222222,
             "#3e4989"
            ],
            [
             0.3333333333333333,
             "#31688e"
            ],
            [
             0.4444444444444444,
             "#26828e"
            ],
            [
             0.5555555555555556,
             "#1f9e89"
            ],
            [
             0.6666666666666666,
             "#35b779"
            ],
            [
             0.7777777777777778,
             "#6ece58"
            ],
            [
             0.8888888888888888,
             "#b5de2b"
            ],
            [
             1,
             "#fde725"
            ]
           ]
          },
          "colorway": [
           "#1F77B4",
           "#FF7F0E",
           "#2CA02C",
           "#D62728",
           "#9467BD",
           "#8C564B",
           "#E377C2",
           "#7F7F7F",
           "#BCBD22",
           "#17BECF"
          ],
          "font": {
           "color": "rgb(36,36,36)"
          },
          "geo": {
           "bgcolor": "white",
           "lakecolor": "white",
           "landcolor": "white",
           "showlakes": true,
           "showland": true,
           "subunitcolor": "white"
          },
          "hoverlabel": {
           "align": "left"
          },
          "hovermode": "closest",
          "mapbox": {
           "style": "light"
          },
          "paper_bgcolor": "white",
          "plot_bgcolor": "white",
          "polar": {
           "angularaxis": {
            "gridcolor": "rgb(232,232,232)",
            "linecolor": "rgb(36,36,36)",
            "showgrid": false,
            "showline": true,
            "ticks": "outside"
           },
           "bgcolor": "white",
           "radialaxis": {
            "gridcolor": "rgb(232,232,232)",
            "linecolor": "rgb(36,36,36)",
            "showgrid": false,
            "showline": true,
            "ticks": "outside"
           }
          },
          "scene": {
           "xaxis": {
            "backgroundcolor": "white",
            "gridcolor": "rgb(232,232,232)",
            "gridwidth": 2,
            "linecolor": "rgb(36,36,36)",
            "showbackground": true,
            "showgrid": false,
            "showline": true,
            "ticks": "outside",
            "zeroline": false,
            "zerolinecolor": "rgb(36,36,36)"
           },
           "yaxis": {
            "backgroundcolor": "white",
            "gridcolor": "rgb(232,232,232)",
            "gridwidth": 2,
            "linecolor": "rgb(36,36,36)",
            "showbackground": true,
            "showgrid": false,
            "showline": true,
            "ticks": "outside",
            "zeroline": false,
            "zerolinecolor": "rgb(36,36,36)"
           },
           "zaxis": {
            "backgroundcolor": "white",
            "gridcolor": "rgb(232,232,232)",
            "gridwidth": 2,
            "linecolor": "rgb(36,36,36)",
            "showbackground": true,
            "showgrid": false,
            "showline": true,
            "ticks": "outside",
            "zeroline": false,
            "zerolinecolor": "rgb(36,36,36)"
           }
          },
          "shapedefaults": {
           "fillcolor": "black",
           "line": {
            "width": 0
           },
           "opacity": 0.3
          },
          "ternary": {
           "aaxis": {
            "gridcolor": "rgb(232,232,232)",
            "linecolor": "rgb(36,36,36)",
            "showgrid": false,
            "showline": true,
            "ticks": "outside"
           },
           "baxis": {
            "gridcolor": "rgb(232,232,232)",
            "linecolor": "rgb(36,36,36)",
            "showgrid": false,
            "showline": true,
            "ticks": "outside"
           },
           "bgcolor": "white",
           "caxis": {
            "gridcolor": "rgb(232,232,232)",
            "linecolor": "rgb(36,36,36)",
            "showgrid": false,
            "showline": true,
            "ticks": "outside"
           }
          },
          "title": {
           "x": 0.05
          },
          "xaxis": {
           "automargin": true,
           "gridcolor": "rgb(232,232,232)",
           "linecolor": "rgb(36,36,36)",
           "showgrid": false,
           "showline": true,
           "ticks": "outside",
           "title": {
            "standoff": 15
           },
           "zeroline": false,
           "zerolinecolor": "rgb(36,36,36)"
          },
          "yaxis": {
           "automargin": true,
           "gridcolor": "rgb(232,232,232)",
           "linecolor": "rgb(36,36,36)",
           "showgrid": false,
           "showline": true,
           "ticks": "outside",
           "title": {
            "standoff": 15
           },
           "zeroline": false,
           "zerolinecolor": "rgb(36,36,36)"
          }
         }
        },
        "xaxis": {
         "anchor": "y",
         "domain": [
          0,
          1
         ],
         "showgrid": true,
         "title": {
          "text": "Tested on"
         }
        },
        "yaxis": {
         "anchor": "x",
         "domain": [
          0,
          1
         ],
         "range": [
          0.5,
          0.8
         ],
         "showgrid": true,
         "title": {
          "text": "c-index"
         }
        }
       }
      },
      "text/html": [
       "<div>                            <div id=\"3c00f113-93dd-4026-ad7b-556355f43247\" class=\"plotly-graph-div\" style=\"height:525px; width:100%;\"></div>            <script type=\"text/javascript\">                require([\"plotly\"], function(Plotly) {                    window.PLOTLYENV=window.PLOTLYENV || {};                                    if (document.getElementById(\"3c00f113-93dd-4026-ad7b-556355f43247\")) {                    Plotly.newPlot(                        \"3c00f113-93dd-4026-ad7b-556355f43247\",                        [{\"alignmentgroup\":\"True\",\"hovertemplate\":\"splits=Single-center<br>Tested on=%{x}<br>c-index=%{y}<extra></extra>\",\"legendgroup\":\"Single-center\",\"marker\":{\"color\":\"#4194D9\",\"pattern\":{\"shape\":\"\"}},\"name\":\"Single-center\",\"offsetgroup\":\"Single-center\",\"orientation\":\"v\",\"showlegend\":true,\"textposition\":\"auto\",\"x\":[\"PROSPER\",\"HEALTHABC\",\"PREDICTOR\",\"HVC\",\"ASCOT\",\"FLEMENGHO\"],\"xaxis\":\"x\",\"y\":[0.5903537836069321,0.6062753830770629,0.6036476268738198,0.5669738304469367,0.6913879117876115,0.7671006536337376],\"yaxis\":\"y\",\"type\":\"bar\"},{\"alignmentgroup\":\"True\",\"hovertemplate\":\"splits=Multi-center<br>Tested on=%{x}<br>c-index=%{y}<extra></extra>\",\"legendgroup\":\"Multi-center\",\"marker\":{\"color\":\"#4194D9\",\"pattern\":{\"shape\":\"/\"}},\"name\":\"Multi-center\",\"offsetgroup\":\"Multi-center\",\"orientation\":\"v\",\"showlegend\":true,\"textposition\":\"auto\",\"x\":[\"ASCOT\",\"FLEMENGHO\",\"HEALTHABC\",\"HVC\",\"PREDICTOR\",\"PROSPER\"],\"xaxis\":\"x\",\"y\":[0.7390429344948601,0.7598245590367737,0.6363971793412653,0.619033910257451,0.6334990364620573,0.5996129560482211],\"yaxis\":\"y\",\"type\":\"bar\"}],                        {\"template\":{\"data\":{\"barpolar\":[{\"marker\":{\"line\":{\"color\":\"white\",\"width\":0.5},\"pattern\":{\"fillmode\":\"overlay\",\"size\":10,\"solidity\":0.2}},\"type\":\"barpolar\"}],\"bar\":[{\"error_x\":{\"color\":\"rgb(36,36,36)\"},\"error_y\":{\"color\":\"rgb(36,36,36)\"},\"marker\":{\"line\":{\"color\":\"white\",\"width\":0.5},\"pattern\":{\"fillmode\":\"overlay\",\"size\":10,\"solidity\":0.2}},\"type\":\"bar\"}],\"carpet\":[{\"aaxis\":{\"endlinecolor\":\"rgb(36,36,36)\",\"gridcolor\":\"white\",\"linecolor\":\"white\",\"minorgridcolor\":\"white\",\"startlinecolor\":\"rgb(36,36,36)\"},\"baxis\":{\"endlinecolor\":\"rgb(36,36,36)\",\"gridcolor\":\"white\",\"linecolor\":\"white\",\"minorgridcolor\":\"white\",\"startlinecolor\":\"rgb(36,36,36)\"},\"type\":\"carpet\"}],\"choropleth\":[{\"colorbar\":{\"outlinewidth\":1,\"tickcolor\":\"rgb(36,36,36)\",\"ticks\":\"outside\"},\"type\":\"choropleth\"}],\"contourcarpet\":[{\"colorbar\":{\"outlinewidth\":1,\"tickcolor\":\"rgb(36,36,36)\",\"ticks\":\"outside\"},\"type\":\"contourcarpet\"}],\"contour\":[{\"colorbar\":{\"outlinewidth\":1,\"tickcolor\":\"rgb(36,36,36)\",\"ticks\":\"outside\"},\"colorscale\":[[0.0,\"#440154\"],[0.1111111111111111,\"#482878\"],[0.2222222222222222,\"#3e4989\"],[0.3333333333333333,\"#31688e\"],[0.4444444444444444,\"#26828e\"],[0.5555555555555556,\"#1f9e89\"],[0.6666666666666666,\"#35b779\"],[0.7777777777777778,\"#6ece58\"],[0.8888888888888888,\"#b5de2b\"],[1.0,\"#fde725\"]],\"type\":\"contour\"}],\"heatmapgl\":[{\"colorbar\":{\"outlinewidth\":1,\"tickcolor\":\"rgb(36,36,36)\",\"ticks\":\"outside\"},\"colorscale\":[[0.0,\"#440154\"],[0.1111111111111111,\"#482878\"],[0.2222222222222222,\"#3e4989\"],[0.3333333333333333,\"#31688e\"],[0.4444444444444444,\"#26828e\"],[0.5555555555555556,\"#1f9e89\"],[0.6666666666666666,\"#35b779\"],[0.7777777777777778,\"#6ece58\"],[0.8888888888888888,\"#b5de2b\"],[1.0,\"#fde725\"]],\"type\":\"heatmapgl\"}],\"heatmap\":[{\"colorbar\":{\"outlinewidth\":1,\"tickcolor\":\"rgb(36,36,36)\",\"ticks\":\"outside\"},\"colorscale\":[[0.0,\"#440154\"],[0.1111111111111111,\"#482878\"],[0.2222222222222222,\"#3e4989\"],[0.3333333333333333,\"#31688e\"],[0.4444444444444444,\"#26828e\"],[0.5555555555555556,\"#1f9e89\"],[0.6666666666666666,\"#35b779\"],[0.7777777777777778,\"#6ece58\"],[0.8888888888888888,\"#b5de2b\"],[1.0,\"#fde725\"]],\"type\":\"heatmap\"}],\"histogram2dcontour\":[{\"colorbar\":{\"outlinewidth\":1,\"tickcolor\":\"rgb(36,36,36)\",\"ticks\":\"outside\"},\"colorscale\":[[0.0,\"#440154\"],[0.1111111111111111,\"#482878\"],[0.2222222222222222,\"#3e4989\"],[0.3333333333333333,\"#31688e\"],[0.4444444444444444,\"#26828e\"],[0.5555555555555556,\"#1f9e89\"],[0.6666666666666666,\"#35b779\"],[0.7777777777777778,\"#6ece58\"],[0.8888888888888888,\"#b5de2b\"],[1.0,\"#fde725\"]],\"type\":\"histogram2dcontour\"}],\"histogram2d\":[{\"colorbar\":{\"outlinewidth\":1,\"tickcolor\":\"rgb(36,36,36)\",\"ticks\":\"outside\"},\"colorscale\":[[0.0,\"#440154\"],[0.1111111111111111,\"#482878\"],[0.2222222222222222,\"#3e4989\"],[0.3333333333333333,\"#31688e\"],[0.4444444444444444,\"#26828e\"],[0.5555555555555556,\"#1f9e89\"],[0.6666666666666666,\"#35b779\"],[0.7777777777777778,\"#6ece58\"],[0.8888888888888888,\"#b5de2b\"],[1.0,\"#fde725\"]],\"type\":\"histogram2d\"}],\"histogram\":[{\"marker\":{\"line\":{\"color\":\"white\",\"width\":0.6}},\"type\":\"histogram\"}],\"mesh3d\":[{\"colorbar\":{\"outlinewidth\":1,\"tickcolor\":\"rgb(36,36,36)\",\"ticks\":\"outside\"},\"type\":\"mesh3d\"}],\"parcoords\":[{\"line\":{\"colorbar\":{\"outlinewidth\":1,\"tickcolor\":\"rgb(36,36,36)\",\"ticks\":\"outside\"}},\"type\":\"parcoords\"}],\"pie\":[{\"automargin\":true,\"type\":\"pie\"}],\"scatter3d\":[{\"line\":{\"colorbar\":{\"outlinewidth\":1,\"tickcolor\":\"rgb(36,36,36)\",\"ticks\":\"outside\"}},\"marker\":{\"colorbar\":{\"outlinewidth\":1,\"tickcolor\":\"rgb(36,36,36)\",\"ticks\":\"outside\"}},\"type\":\"scatter3d\"}],\"scattercarpet\":[{\"marker\":{\"colorbar\":{\"outlinewidth\":1,\"tickcolor\":\"rgb(36,36,36)\",\"ticks\":\"outside\"}},\"type\":\"scattercarpet\"}],\"scattergeo\":[{\"marker\":{\"colorbar\":{\"outlinewidth\":1,\"tickcolor\":\"rgb(36,36,36)\",\"ticks\":\"outside\"}},\"type\":\"scattergeo\"}],\"scattergl\":[{\"marker\":{\"colorbar\":{\"outlinewidth\":1,\"tickcolor\":\"rgb(36,36,36)\",\"ticks\":\"outside\"}},\"type\":\"scattergl\"}],\"scattermapbox\":[{\"marker\":{\"colorbar\":{\"outlinewidth\":1,\"tickcolor\":\"rgb(36,36,36)\",\"ticks\":\"outside\"}},\"type\":\"scattermapbox\"}],\"scatterpolargl\":[{\"marker\":{\"colorbar\":{\"outlinewidth\":1,\"tickcolor\":\"rgb(36,36,36)\",\"ticks\":\"outside\"}},\"type\":\"scatterpolargl\"}],\"scatterpolar\":[{\"marker\":{\"colorbar\":{\"outlinewidth\":1,\"tickcolor\":\"rgb(36,36,36)\",\"ticks\":\"outside\"}},\"type\":\"scatterpolar\"}],\"scatter\":[{\"fillpattern\":{\"fillmode\":\"overlay\",\"size\":10,\"solidity\":0.2},\"type\":\"scatter\"}],\"scatterternary\":[{\"marker\":{\"colorbar\":{\"outlinewidth\":1,\"tickcolor\":\"rgb(36,36,36)\",\"ticks\":\"outside\"}},\"type\":\"scatterternary\"}],\"surface\":[{\"colorbar\":{\"outlinewidth\":1,\"tickcolor\":\"rgb(36,36,36)\",\"ticks\":\"outside\"},\"colorscale\":[[0.0,\"#440154\"],[0.1111111111111111,\"#482878\"],[0.2222222222222222,\"#3e4989\"],[0.3333333333333333,\"#31688e\"],[0.4444444444444444,\"#26828e\"],[0.5555555555555556,\"#1f9e89\"],[0.6666666666666666,\"#35b779\"],[0.7777777777777778,\"#6ece58\"],[0.8888888888888888,\"#b5de2b\"],[1.0,\"#fde725\"]],\"type\":\"surface\"}],\"table\":[{\"cells\":{\"fill\":{\"color\":\"rgb(237,237,237)\"},\"line\":{\"color\":\"white\"}},\"header\":{\"fill\":{\"color\":\"rgb(217,217,217)\"},\"line\":{\"color\":\"white\"}},\"type\":\"table\"}]},\"layout\":{\"annotationdefaults\":{\"arrowhead\":0,\"arrowwidth\":1},\"autotypenumbers\":\"strict\",\"coloraxis\":{\"colorbar\":{\"outlinewidth\":1,\"tickcolor\":\"rgb(36,36,36)\",\"ticks\":\"outside\"}},\"colorscale\":{\"diverging\":[[0.0,\"rgb(103,0,31)\"],[0.1,\"rgb(178,24,43)\"],[0.2,\"rgb(214,96,77)\"],[0.3,\"rgb(244,165,130)\"],[0.4,\"rgb(253,219,199)\"],[0.5,\"rgb(247,247,247)\"],[0.6,\"rgb(209,229,240)\"],[0.7,\"rgb(146,197,222)\"],[0.8,\"rgb(67,147,195)\"],[0.9,\"rgb(33,102,172)\"],[1.0,\"rgb(5,48,97)\"]],\"sequential\":[[0.0,\"#440154\"],[0.1111111111111111,\"#482878\"],[0.2222222222222222,\"#3e4989\"],[0.3333333333333333,\"#31688e\"],[0.4444444444444444,\"#26828e\"],[0.5555555555555556,\"#1f9e89\"],[0.6666666666666666,\"#35b779\"],[0.7777777777777778,\"#6ece58\"],[0.8888888888888888,\"#b5de2b\"],[1.0,\"#fde725\"]],\"sequentialminus\":[[0.0,\"#440154\"],[0.1111111111111111,\"#482878\"],[0.2222222222222222,\"#3e4989\"],[0.3333333333333333,\"#31688e\"],[0.4444444444444444,\"#26828e\"],[0.5555555555555556,\"#1f9e89\"],[0.6666666666666666,\"#35b779\"],[0.7777777777777778,\"#6ece58\"],[0.8888888888888888,\"#b5de2b\"],[1.0,\"#fde725\"]]},\"colorway\":[\"#1F77B4\",\"#FF7F0E\",\"#2CA02C\",\"#D62728\",\"#9467BD\",\"#8C564B\",\"#E377C2\",\"#7F7F7F\",\"#BCBD22\",\"#17BECF\"],\"font\":{\"color\":\"rgb(36,36,36)\"},\"geo\":{\"bgcolor\":\"white\",\"lakecolor\":\"white\",\"landcolor\":\"white\",\"showlakes\":true,\"showland\":true,\"subunitcolor\":\"white\"},\"hoverlabel\":{\"align\":\"left\"},\"hovermode\":\"closest\",\"mapbox\":{\"style\":\"light\"},\"paper_bgcolor\":\"white\",\"plot_bgcolor\":\"white\",\"polar\":{\"angularaxis\":{\"gridcolor\":\"rgb(232,232,232)\",\"linecolor\":\"rgb(36,36,36)\",\"showgrid\":false,\"showline\":true,\"ticks\":\"outside\"},\"bgcolor\":\"white\",\"radialaxis\":{\"gridcolor\":\"rgb(232,232,232)\",\"linecolor\":\"rgb(36,36,36)\",\"showgrid\":false,\"showline\":true,\"ticks\":\"outside\"}},\"scene\":{\"xaxis\":{\"backgroundcolor\":\"white\",\"gridcolor\":\"rgb(232,232,232)\",\"gridwidth\":2,\"linecolor\":\"rgb(36,36,36)\",\"showbackground\":true,\"showgrid\":false,\"showline\":true,\"ticks\":\"outside\",\"zeroline\":false,\"zerolinecolor\":\"rgb(36,36,36)\"},\"yaxis\":{\"backgroundcolor\":\"white\",\"gridcolor\":\"rgb(232,232,232)\",\"gridwidth\":2,\"linecolor\":\"rgb(36,36,36)\",\"showbackground\":true,\"showgrid\":false,\"showline\":true,\"ticks\":\"outside\",\"zeroline\":false,\"zerolinecolor\":\"rgb(36,36,36)\"},\"zaxis\":{\"backgroundcolor\":\"white\",\"gridcolor\":\"rgb(232,232,232)\",\"gridwidth\":2,\"linecolor\":\"rgb(36,36,36)\",\"showbackground\":true,\"showgrid\":false,\"showline\":true,\"ticks\":\"outside\",\"zeroline\":false,\"zerolinecolor\":\"rgb(36,36,36)\"}},\"shapedefaults\":{\"fillcolor\":\"black\",\"line\":{\"width\":0},\"opacity\":0.3},\"ternary\":{\"aaxis\":{\"gridcolor\":\"rgb(232,232,232)\",\"linecolor\":\"rgb(36,36,36)\",\"showgrid\":false,\"showline\":true,\"ticks\":\"outside\"},\"baxis\":{\"gridcolor\":\"rgb(232,232,232)\",\"linecolor\":\"rgb(36,36,36)\",\"showgrid\":false,\"showline\":true,\"ticks\":\"outside\"},\"bgcolor\":\"white\",\"caxis\":{\"gridcolor\":\"rgb(232,232,232)\",\"linecolor\":\"rgb(36,36,36)\",\"showgrid\":false,\"showline\":true,\"ticks\":\"outside\"}},\"title\":{\"x\":0.05},\"xaxis\":{\"automargin\":true,\"gridcolor\":\"rgb(232,232,232)\",\"linecolor\":\"rgb(36,36,36)\",\"showgrid\":false,\"showline\":true,\"ticks\":\"outside\",\"title\":{\"standoff\":15},\"zeroline\":false,\"zerolinecolor\":\"rgb(36,36,36)\"},\"yaxis\":{\"automargin\":true,\"gridcolor\":\"rgb(232,232,232)\",\"linecolor\":\"rgb(36,36,36)\",\"showgrid\":false,\"showline\":true,\"ticks\":\"outside\",\"title\":{\"standoff\":15},\"zeroline\":false,\"zerolinecolor\":\"rgb(36,36,36)\"}}},\"xaxis\":{\"anchor\":\"y\",\"domain\":[0.0,1.0],\"title\":{\"text\":\"Tested on\"},\"showgrid\":true},\"yaxis\":{\"anchor\":\"x\",\"domain\":[0.0,1.0],\"title\":{\"text\":\"c-index\"},\"range\":[0.5,0.8],\"showgrid\":true},\"legend\":{\"title\":{\"text\":\"splits\",\"font\":{\"color\":\"rgba(0,0,0,0)\"}},\"tracegroupgap\":0},\"margin\":{\"t\":60},\"barmode\":\"group\",\"font\":{\"family\":\"Calibri\",\"size\":25},\"bargroupgap\":0.1},                        {\"responsive\": true}                    ).then(function(){\n",
       "                            \n",
       "var gd = document.getElementById('3c00f113-93dd-4026-ad7b-556355f43247');\n",
       "var x = new MutationObserver(function (mutations, observer) {{\n",
       "        var display = window.getComputedStyle(gd).display;\n",
       "        if (!display || display === 'none') {{\n",
       "            console.log([gd, 'removed!']);\n",
       "            Plotly.purge(gd);\n",
       "            observer.disconnect();\n",
       "        }}\n",
       "}});\n",
       "\n",
       "// Listen for the removal of the full notebook cells\n",
       "var notebookContainer = gd.closest('#notebook-container');\n",
       "if (notebookContainer) {{\n",
       "    x.observe(notebookContainer, {childList: true});\n",
       "}}\n",
       "\n",
       "// Listen for the clearing of the current output cell\n",
       "var outputEl = gd.closest('.output');\n",
       "if (outputEl) {{\n",
       "    x.observe(outputEl, {childList: true});\n",
       "}}\n",
       "\n",
       "                        })                };                });            </script>        </div>"
      ]
     },
     "metadata": {},
     "output_type": "display_data"
    },
    {
     "data": {
      "application/vnd.plotly.v1+json": {
       "config": {
        "plotlyServerURL": "https://plot.ly"
       },
       "data": [
        {
         "alignmentgroup": "True",
         "hovertemplate": "splits=Single-center<br>Tested on=%{x}<br>c-index=%{y}<extra></extra>",
         "legendgroup": "Single-center",
         "marker": {
          "color": "#FF7F00",
          "pattern": {
           "shape": ""
          }
         },
         "name": "Single-center",
         "offsetgroup": "Single-center",
         "orientation": "v",
         "showlegend": true,
         "textposition": "auto",
         "type": "bar",
         "x": [
          "PROSPER",
          "HEALTHABC",
          "PREDICTOR",
          "HVC",
          "ASCOT",
          "FLEMENGHO"
         ],
         "xaxis": "x",
         "y": [
          0.621365564311405,
          0.6266743953460107,
          0.6411910497343303,
          0.6213806386638083,
          0.6451084886688706,
          0.7141475908352476
         ],
         "yaxis": "y"
        },
        {
         "alignmentgroup": "True",
         "hovertemplate": "splits=Multi-center<br>Tested on=%{x}<br>c-index=%{y}<extra></extra>",
         "legendgroup": "Multi-center",
         "marker": {
          "color": "#FF7F00",
          "pattern": {
           "shape": "/"
          }
         },
         "name": "Multi-center",
         "offsetgroup": "Multi-center",
         "orientation": "v",
         "showlegend": true,
         "textposition": "auto",
         "type": "bar",
         "x": [
          "ASCOT",
          "FLEMENGHO",
          "HEALTHABC",
          "HVC",
          "PREDICTOR",
          "PROSPER"
         ],
         "xaxis": "x",
         "y": [
          0.6944401051725176,
          0.8126379623504585,
          0.6578730281810078,
          0.6556054576173068,
          0.6461447746339696,
          0.6372458202884517
         ],
         "yaxis": "y"
        }
       ],
       "layout": {
        "bargroupgap": 0.1,
        "barmode": "group",
        "font": {
         "family": "Calibri",
         "size": 25
        },
        "legend": {
         "title": {
          "font": {
           "color": "rgba(0,0,0,0)"
          },
          "text": "splits"
         },
         "tracegroupgap": 0
        },
        "margin": {
         "t": 60
        },
        "template": {
         "data": {
          "bar": [
           {
            "error_x": {
             "color": "rgb(36,36,36)"
            },
            "error_y": {
             "color": "rgb(36,36,36)"
            },
            "marker": {
             "line": {
              "color": "white",
              "width": 0.5
             },
             "pattern": {
              "fillmode": "overlay",
              "size": 10,
              "solidity": 0.2
             }
            },
            "type": "bar"
           }
          ],
          "barpolar": [
           {
            "marker": {
             "line": {
              "color": "white",
              "width": 0.5
             },
             "pattern": {
              "fillmode": "overlay",
              "size": 10,
              "solidity": 0.2
             }
            },
            "type": "barpolar"
           }
          ],
          "carpet": [
           {
            "aaxis": {
             "endlinecolor": "rgb(36,36,36)",
             "gridcolor": "white",
             "linecolor": "white",
             "minorgridcolor": "white",
             "startlinecolor": "rgb(36,36,36)"
            },
            "baxis": {
             "endlinecolor": "rgb(36,36,36)",
             "gridcolor": "white",
             "linecolor": "white",
             "minorgridcolor": "white",
             "startlinecolor": "rgb(36,36,36)"
            },
            "type": "carpet"
           }
          ],
          "choropleth": [
           {
            "colorbar": {
             "outlinewidth": 1,
             "tickcolor": "rgb(36,36,36)",
             "ticks": "outside"
            },
            "type": "choropleth"
           }
          ],
          "contour": [
           {
            "colorbar": {
             "outlinewidth": 1,
             "tickcolor": "rgb(36,36,36)",
             "ticks": "outside"
            },
            "colorscale": [
             [
              0,
              "#440154"
             ],
             [
              0.1111111111111111,
              "#482878"
             ],
             [
              0.2222222222222222,
              "#3e4989"
             ],
             [
              0.3333333333333333,
              "#31688e"
             ],
             [
              0.4444444444444444,
              "#26828e"
             ],
             [
              0.5555555555555556,
              "#1f9e89"
             ],
             [
              0.6666666666666666,
              "#35b779"
             ],
             [
              0.7777777777777778,
              "#6ece58"
             ],
             [
              0.8888888888888888,
              "#b5de2b"
             ],
             [
              1,
              "#fde725"
             ]
            ],
            "type": "contour"
           }
          ],
          "contourcarpet": [
           {
            "colorbar": {
             "outlinewidth": 1,
             "tickcolor": "rgb(36,36,36)",
             "ticks": "outside"
            },
            "type": "contourcarpet"
           }
          ],
          "heatmap": [
           {
            "colorbar": {
             "outlinewidth": 1,
             "tickcolor": "rgb(36,36,36)",
             "ticks": "outside"
            },
            "colorscale": [
             [
              0,
              "#440154"
             ],
             [
              0.1111111111111111,
              "#482878"
             ],
             [
              0.2222222222222222,
              "#3e4989"
             ],
             [
              0.3333333333333333,
              "#31688e"
             ],
             [
              0.4444444444444444,
              "#26828e"
             ],
             [
              0.5555555555555556,
              "#1f9e89"
             ],
             [
              0.6666666666666666,
              "#35b779"
             ],
             [
              0.7777777777777778,
              "#6ece58"
             ],
             [
              0.8888888888888888,
              "#b5de2b"
             ],
             [
              1,
              "#fde725"
             ]
            ],
            "type": "heatmap"
           }
          ],
          "heatmapgl": [
           {
            "colorbar": {
             "outlinewidth": 1,
             "tickcolor": "rgb(36,36,36)",
             "ticks": "outside"
            },
            "colorscale": [
             [
              0,
              "#440154"
             ],
             [
              0.1111111111111111,
              "#482878"
             ],
             [
              0.2222222222222222,
              "#3e4989"
             ],
             [
              0.3333333333333333,
              "#31688e"
             ],
             [
              0.4444444444444444,
              "#26828e"
             ],
             [
              0.5555555555555556,
              "#1f9e89"
             ],
             [
              0.6666666666666666,
              "#35b779"
             ],
             [
              0.7777777777777778,
              "#6ece58"
             ],
             [
              0.8888888888888888,
              "#b5de2b"
             ],
             [
              1,
              "#fde725"
             ]
            ],
            "type": "heatmapgl"
           }
          ],
          "histogram": [
           {
            "marker": {
             "line": {
              "color": "white",
              "width": 0.6
             }
            },
            "type": "histogram"
           }
          ],
          "histogram2d": [
           {
            "colorbar": {
             "outlinewidth": 1,
             "tickcolor": "rgb(36,36,36)",
             "ticks": "outside"
            },
            "colorscale": [
             [
              0,
              "#440154"
             ],
             [
              0.1111111111111111,
              "#482878"
             ],
             [
              0.2222222222222222,
              "#3e4989"
             ],
             [
              0.3333333333333333,
              "#31688e"
             ],
             [
              0.4444444444444444,
              "#26828e"
             ],
             [
              0.5555555555555556,
              "#1f9e89"
             ],
             [
              0.6666666666666666,
              "#35b779"
             ],
             [
              0.7777777777777778,
              "#6ece58"
             ],
             [
              0.8888888888888888,
              "#b5de2b"
             ],
             [
              1,
              "#fde725"
             ]
            ],
            "type": "histogram2d"
           }
          ],
          "histogram2dcontour": [
           {
            "colorbar": {
             "outlinewidth": 1,
             "tickcolor": "rgb(36,36,36)",
             "ticks": "outside"
            },
            "colorscale": [
             [
              0,
              "#440154"
             ],
             [
              0.1111111111111111,
              "#482878"
             ],
             [
              0.2222222222222222,
              "#3e4989"
             ],
             [
              0.3333333333333333,
              "#31688e"
             ],
             [
              0.4444444444444444,
              "#26828e"
             ],
             [
              0.5555555555555556,
              "#1f9e89"
             ],
             [
              0.6666666666666666,
              "#35b779"
             ],
             [
              0.7777777777777778,
              "#6ece58"
             ],
             [
              0.8888888888888888,
              "#b5de2b"
             ],
             [
              1,
              "#fde725"
             ]
            ],
            "type": "histogram2dcontour"
           }
          ],
          "mesh3d": [
           {
            "colorbar": {
             "outlinewidth": 1,
             "tickcolor": "rgb(36,36,36)",
             "ticks": "outside"
            },
            "type": "mesh3d"
           }
          ],
          "parcoords": [
           {
            "line": {
             "colorbar": {
              "outlinewidth": 1,
              "tickcolor": "rgb(36,36,36)",
              "ticks": "outside"
             }
            },
            "type": "parcoords"
           }
          ],
          "pie": [
           {
            "automargin": true,
            "type": "pie"
           }
          ],
          "scatter": [
           {
            "fillpattern": {
             "fillmode": "overlay",
             "size": 10,
             "solidity": 0.2
            },
            "type": "scatter"
           }
          ],
          "scatter3d": [
           {
            "line": {
             "colorbar": {
              "outlinewidth": 1,
              "tickcolor": "rgb(36,36,36)",
              "ticks": "outside"
             }
            },
            "marker": {
             "colorbar": {
              "outlinewidth": 1,
              "tickcolor": "rgb(36,36,36)",
              "ticks": "outside"
             }
            },
            "type": "scatter3d"
           }
          ],
          "scattercarpet": [
           {
            "marker": {
             "colorbar": {
              "outlinewidth": 1,
              "tickcolor": "rgb(36,36,36)",
              "ticks": "outside"
             }
            },
            "type": "scattercarpet"
           }
          ],
          "scattergeo": [
           {
            "marker": {
             "colorbar": {
              "outlinewidth": 1,
              "tickcolor": "rgb(36,36,36)",
              "ticks": "outside"
             }
            },
            "type": "scattergeo"
           }
          ],
          "scattergl": [
           {
            "marker": {
             "colorbar": {
              "outlinewidth": 1,
              "tickcolor": "rgb(36,36,36)",
              "ticks": "outside"
             }
            },
            "type": "scattergl"
           }
          ],
          "scattermapbox": [
           {
            "marker": {
             "colorbar": {
              "outlinewidth": 1,
              "tickcolor": "rgb(36,36,36)",
              "ticks": "outside"
             }
            },
            "type": "scattermapbox"
           }
          ],
          "scatterpolar": [
           {
            "marker": {
             "colorbar": {
              "outlinewidth": 1,
              "tickcolor": "rgb(36,36,36)",
              "ticks": "outside"
             }
            },
            "type": "scatterpolar"
           }
          ],
          "scatterpolargl": [
           {
            "marker": {
             "colorbar": {
              "outlinewidth": 1,
              "tickcolor": "rgb(36,36,36)",
              "ticks": "outside"
             }
            },
            "type": "scatterpolargl"
           }
          ],
          "scatterternary": [
           {
            "marker": {
             "colorbar": {
              "outlinewidth": 1,
              "tickcolor": "rgb(36,36,36)",
              "ticks": "outside"
             }
            },
            "type": "scatterternary"
           }
          ],
          "surface": [
           {
            "colorbar": {
             "outlinewidth": 1,
             "tickcolor": "rgb(36,36,36)",
             "ticks": "outside"
            },
            "colorscale": [
             [
              0,
              "#440154"
             ],
             [
              0.1111111111111111,
              "#482878"
             ],
             [
              0.2222222222222222,
              "#3e4989"
             ],
             [
              0.3333333333333333,
              "#31688e"
             ],
             [
              0.4444444444444444,
              "#26828e"
             ],
             [
              0.5555555555555556,
              "#1f9e89"
             ],
             [
              0.6666666666666666,
              "#35b779"
             ],
             [
              0.7777777777777778,
              "#6ece58"
             ],
             [
              0.8888888888888888,
              "#b5de2b"
             ],
             [
              1,
              "#fde725"
             ]
            ],
            "type": "surface"
           }
          ],
          "table": [
           {
            "cells": {
             "fill": {
              "color": "rgb(237,237,237)"
             },
             "line": {
              "color": "white"
             }
            },
            "header": {
             "fill": {
              "color": "rgb(217,217,217)"
             },
             "line": {
              "color": "white"
             }
            },
            "type": "table"
           }
          ]
         },
         "layout": {
          "annotationdefaults": {
           "arrowhead": 0,
           "arrowwidth": 1
          },
          "autotypenumbers": "strict",
          "coloraxis": {
           "colorbar": {
            "outlinewidth": 1,
            "tickcolor": "rgb(36,36,36)",
            "ticks": "outside"
           }
          },
          "colorscale": {
           "diverging": [
            [
             0,
             "rgb(103,0,31)"
            ],
            [
             0.1,
             "rgb(178,24,43)"
            ],
            [
             0.2,
             "rgb(214,96,77)"
            ],
            [
             0.3,
             "rgb(244,165,130)"
            ],
            [
             0.4,
             "rgb(253,219,199)"
            ],
            [
             0.5,
             "rgb(247,247,247)"
            ],
            [
             0.6,
             "rgb(209,229,240)"
            ],
            [
             0.7,
             "rgb(146,197,222)"
            ],
            [
             0.8,
             "rgb(67,147,195)"
            ],
            [
             0.9,
             "rgb(33,102,172)"
            ],
            [
             1,
             "rgb(5,48,97)"
            ]
           ],
           "sequential": [
            [
             0,
             "#440154"
            ],
            [
             0.1111111111111111,
             "#482878"
            ],
            [
             0.2222222222222222,
             "#3e4989"
            ],
            [
             0.3333333333333333,
             "#31688e"
            ],
            [
             0.4444444444444444,
             "#26828e"
            ],
            [
             0.5555555555555556,
             "#1f9e89"
            ],
            [
             0.6666666666666666,
             "#35b779"
            ],
            [
             0.7777777777777778,
             "#6ece58"
            ],
            [
             0.8888888888888888,
             "#b5de2b"
            ],
            [
             1,
             "#fde725"
            ]
           ],
           "sequentialminus": [
            [
             0,
             "#440154"
            ],
            [
             0.1111111111111111,
             "#482878"
            ],
            [
             0.2222222222222222,
             "#3e4989"
            ],
            [
             0.3333333333333333,
             "#31688e"
            ],
            [
             0.4444444444444444,
             "#26828e"
            ],
            [
             0.5555555555555556,
             "#1f9e89"
            ],
            [
             0.6666666666666666,
             "#35b779"
            ],
            [
             0.7777777777777778,
             "#6ece58"
            ],
            [
             0.8888888888888888,
             "#b5de2b"
            ],
            [
             1,
             "#fde725"
            ]
           ]
          },
          "colorway": [
           "#1F77B4",
           "#FF7F0E",
           "#2CA02C",
           "#D62728",
           "#9467BD",
           "#8C564B",
           "#E377C2",
           "#7F7F7F",
           "#BCBD22",
           "#17BECF"
          ],
          "font": {
           "color": "rgb(36,36,36)"
          },
          "geo": {
           "bgcolor": "white",
           "lakecolor": "white",
           "landcolor": "white",
           "showlakes": true,
           "showland": true,
           "subunitcolor": "white"
          },
          "hoverlabel": {
           "align": "left"
          },
          "hovermode": "closest",
          "mapbox": {
           "style": "light"
          },
          "paper_bgcolor": "white",
          "plot_bgcolor": "white",
          "polar": {
           "angularaxis": {
            "gridcolor": "rgb(232,232,232)",
            "linecolor": "rgb(36,36,36)",
            "showgrid": false,
            "showline": true,
            "ticks": "outside"
           },
           "bgcolor": "white",
           "radialaxis": {
            "gridcolor": "rgb(232,232,232)",
            "linecolor": "rgb(36,36,36)",
            "showgrid": false,
            "showline": true,
            "ticks": "outside"
           }
          },
          "scene": {
           "xaxis": {
            "backgroundcolor": "white",
            "gridcolor": "rgb(232,232,232)",
            "gridwidth": 2,
            "linecolor": "rgb(36,36,36)",
            "showbackground": true,
            "showgrid": false,
            "showline": true,
            "ticks": "outside",
            "zeroline": false,
            "zerolinecolor": "rgb(36,36,36)"
           },
           "yaxis": {
            "backgroundcolor": "white",
            "gridcolor": "rgb(232,232,232)",
            "gridwidth": 2,
            "linecolor": "rgb(36,36,36)",
            "showbackground": true,
            "showgrid": false,
            "showline": true,
            "ticks": "outside",
            "zeroline": false,
            "zerolinecolor": "rgb(36,36,36)"
           },
           "zaxis": {
            "backgroundcolor": "white",
            "gridcolor": "rgb(232,232,232)",
            "gridwidth": 2,
            "linecolor": "rgb(36,36,36)",
            "showbackground": true,
            "showgrid": false,
            "showline": true,
            "ticks": "outside",
            "zeroline": false,
            "zerolinecolor": "rgb(36,36,36)"
           }
          },
          "shapedefaults": {
           "fillcolor": "black",
           "line": {
            "width": 0
           },
           "opacity": 0.3
          },
          "ternary": {
           "aaxis": {
            "gridcolor": "rgb(232,232,232)",
            "linecolor": "rgb(36,36,36)",
            "showgrid": false,
            "showline": true,
            "ticks": "outside"
           },
           "baxis": {
            "gridcolor": "rgb(232,232,232)",
            "linecolor": "rgb(36,36,36)",
            "showgrid": false,
            "showline": true,
            "ticks": "outside"
           },
           "bgcolor": "white",
           "caxis": {
            "gridcolor": "rgb(232,232,232)",
            "linecolor": "rgb(36,36,36)",
            "showgrid": false,
            "showline": true,
            "ticks": "outside"
           }
          },
          "title": {
           "x": 0.05
          },
          "xaxis": {
           "automargin": true,
           "gridcolor": "rgb(232,232,232)",
           "linecolor": "rgb(36,36,36)",
           "showgrid": false,
           "showline": true,
           "ticks": "outside",
           "title": {
            "standoff": 15
           },
           "zeroline": false,
           "zerolinecolor": "rgb(36,36,36)"
          },
          "yaxis": {
           "automargin": true,
           "gridcolor": "rgb(232,232,232)",
           "linecolor": "rgb(36,36,36)",
           "showgrid": false,
           "showline": true,
           "ticks": "outside",
           "title": {
            "standoff": 15
           },
           "zeroline": false,
           "zerolinecolor": "rgb(36,36,36)"
          }
         }
        },
        "xaxis": {
         "anchor": "y",
         "domain": [
          0,
          1
         ],
         "showgrid": true,
         "title": {
          "text": "Tested on"
         }
        },
        "yaxis": {
         "anchor": "x",
         "domain": [
          0,
          1
         ],
         "range": [
          0.5,
          0.8
         ],
         "showgrid": true,
         "title": {
          "text": "c-index"
         }
        }
       }
      },
      "text/html": [
       "<div>                            <div id=\"bfbb38bf-003c-40a7-a0ed-d20eaa3e07f5\" class=\"plotly-graph-div\" style=\"height:525px; width:100%;\"></div>            <script type=\"text/javascript\">                require([\"plotly\"], function(Plotly) {                    window.PLOTLYENV=window.PLOTLYENV || {};                                    if (document.getElementById(\"bfbb38bf-003c-40a7-a0ed-d20eaa3e07f5\")) {                    Plotly.newPlot(                        \"bfbb38bf-003c-40a7-a0ed-d20eaa3e07f5\",                        [{\"alignmentgroup\":\"True\",\"hovertemplate\":\"splits=Single-center<br>Tested on=%{x}<br>c-index=%{y}<extra></extra>\",\"legendgroup\":\"Single-center\",\"marker\":{\"color\":\"#FF7F00\",\"pattern\":{\"shape\":\"\"}},\"name\":\"Single-center\",\"offsetgroup\":\"Single-center\",\"orientation\":\"v\",\"showlegend\":true,\"textposition\":\"auto\",\"x\":[\"PROSPER\",\"HEALTHABC\",\"PREDICTOR\",\"HVC\",\"ASCOT\",\"FLEMENGHO\"],\"xaxis\":\"x\",\"y\":[0.621365564311405,0.6266743953460107,0.6411910497343303,0.6213806386638083,0.6451084886688706,0.7141475908352476],\"yaxis\":\"y\",\"type\":\"bar\"},{\"alignmentgroup\":\"True\",\"hovertemplate\":\"splits=Multi-center<br>Tested on=%{x}<br>c-index=%{y}<extra></extra>\",\"legendgroup\":\"Multi-center\",\"marker\":{\"color\":\"#FF7F00\",\"pattern\":{\"shape\":\"/\"}},\"name\":\"Multi-center\",\"offsetgroup\":\"Multi-center\",\"orientation\":\"v\",\"showlegend\":true,\"textposition\":\"auto\",\"x\":[\"ASCOT\",\"FLEMENGHO\",\"HEALTHABC\",\"HVC\",\"PREDICTOR\",\"PROSPER\"],\"xaxis\":\"x\",\"y\":[0.6944401051725176,0.8126379623504585,0.6578730281810078,0.6556054576173068,0.6461447746339696,0.6372458202884517],\"yaxis\":\"y\",\"type\":\"bar\"}],                        {\"template\":{\"data\":{\"barpolar\":[{\"marker\":{\"line\":{\"color\":\"white\",\"width\":0.5},\"pattern\":{\"fillmode\":\"overlay\",\"size\":10,\"solidity\":0.2}},\"type\":\"barpolar\"}],\"bar\":[{\"error_x\":{\"color\":\"rgb(36,36,36)\"},\"error_y\":{\"color\":\"rgb(36,36,36)\"},\"marker\":{\"line\":{\"color\":\"white\",\"width\":0.5},\"pattern\":{\"fillmode\":\"overlay\",\"size\":10,\"solidity\":0.2}},\"type\":\"bar\"}],\"carpet\":[{\"aaxis\":{\"endlinecolor\":\"rgb(36,36,36)\",\"gridcolor\":\"white\",\"linecolor\":\"white\",\"minorgridcolor\":\"white\",\"startlinecolor\":\"rgb(36,36,36)\"},\"baxis\":{\"endlinecolor\":\"rgb(36,36,36)\",\"gridcolor\":\"white\",\"linecolor\":\"white\",\"minorgridcolor\":\"white\",\"startlinecolor\":\"rgb(36,36,36)\"},\"type\":\"carpet\"}],\"choropleth\":[{\"colorbar\":{\"outlinewidth\":1,\"tickcolor\":\"rgb(36,36,36)\",\"ticks\":\"outside\"},\"type\":\"choropleth\"}],\"contourcarpet\":[{\"colorbar\":{\"outlinewidth\":1,\"tickcolor\":\"rgb(36,36,36)\",\"ticks\":\"outside\"},\"type\":\"contourcarpet\"}],\"contour\":[{\"colorbar\":{\"outlinewidth\":1,\"tickcolor\":\"rgb(36,36,36)\",\"ticks\":\"outside\"},\"colorscale\":[[0.0,\"#440154\"],[0.1111111111111111,\"#482878\"],[0.2222222222222222,\"#3e4989\"],[0.3333333333333333,\"#31688e\"],[0.4444444444444444,\"#26828e\"],[0.5555555555555556,\"#1f9e89\"],[0.6666666666666666,\"#35b779\"],[0.7777777777777778,\"#6ece58\"],[0.8888888888888888,\"#b5de2b\"],[1.0,\"#fde725\"]],\"type\":\"contour\"}],\"heatmapgl\":[{\"colorbar\":{\"outlinewidth\":1,\"tickcolor\":\"rgb(36,36,36)\",\"ticks\":\"outside\"},\"colorscale\":[[0.0,\"#440154\"],[0.1111111111111111,\"#482878\"],[0.2222222222222222,\"#3e4989\"],[0.3333333333333333,\"#31688e\"],[0.4444444444444444,\"#26828e\"],[0.5555555555555556,\"#1f9e89\"],[0.6666666666666666,\"#35b779\"],[0.7777777777777778,\"#6ece58\"],[0.8888888888888888,\"#b5de2b\"],[1.0,\"#fde725\"]],\"type\":\"heatmapgl\"}],\"heatmap\":[{\"colorbar\":{\"outlinewidth\":1,\"tickcolor\":\"rgb(36,36,36)\",\"ticks\":\"outside\"},\"colorscale\":[[0.0,\"#440154\"],[0.1111111111111111,\"#482878\"],[0.2222222222222222,\"#3e4989\"],[0.3333333333333333,\"#31688e\"],[0.4444444444444444,\"#26828e\"],[0.5555555555555556,\"#1f9e89\"],[0.6666666666666666,\"#35b779\"],[0.7777777777777778,\"#6ece58\"],[0.8888888888888888,\"#b5de2b\"],[1.0,\"#fde725\"]],\"type\":\"heatmap\"}],\"histogram2dcontour\":[{\"colorbar\":{\"outlinewidth\":1,\"tickcolor\":\"rgb(36,36,36)\",\"ticks\":\"outside\"},\"colorscale\":[[0.0,\"#440154\"],[0.1111111111111111,\"#482878\"],[0.2222222222222222,\"#3e4989\"],[0.3333333333333333,\"#31688e\"],[0.4444444444444444,\"#26828e\"],[0.5555555555555556,\"#1f9e89\"],[0.6666666666666666,\"#35b779\"],[0.7777777777777778,\"#6ece58\"],[0.8888888888888888,\"#b5de2b\"],[1.0,\"#fde725\"]],\"type\":\"histogram2dcontour\"}],\"histogram2d\":[{\"colorbar\":{\"outlinewidth\":1,\"tickcolor\":\"rgb(36,36,36)\",\"ticks\":\"outside\"},\"colorscale\":[[0.0,\"#440154\"],[0.1111111111111111,\"#482878\"],[0.2222222222222222,\"#3e4989\"],[0.3333333333333333,\"#31688e\"],[0.4444444444444444,\"#26828e\"],[0.5555555555555556,\"#1f9e89\"],[0.6666666666666666,\"#35b779\"],[0.7777777777777778,\"#6ece58\"],[0.8888888888888888,\"#b5de2b\"],[1.0,\"#fde725\"]],\"type\":\"histogram2d\"}],\"histogram\":[{\"marker\":{\"line\":{\"color\":\"white\",\"width\":0.6}},\"type\":\"histogram\"}],\"mesh3d\":[{\"colorbar\":{\"outlinewidth\":1,\"tickcolor\":\"rgb(36,36,36)\",\"ticks\":\"outside\"},\"type\":\"mesh3d\"}],\"parcoords\":[{\"line\":{\"colorbar\":{\"outlinewidth\":1,\"tickcolor\":\"rgb(36,36,36)\",\"ticks\":\"outside\"}},\"type\":\"parcoords\"}],\"pie\":[{\"automargin\":true,\"type\":\"pie\"}],\"scatter3d\":[{\"line\":{\"colorbar\":{\"outlinewidth\":1,\"tickcolor\":\"rgb(36,36,36)\",\"ticks\":\"outside\"}},\"marker\":{\"colorbar\":{\"outlinewidth\":1,\"tickcolor\":\"rgb(36,36,36)\",\"ticks\":\"outside\"}},\"type\":\"scatter3d\"}],\"scattercarpet\":[{\"marker\":{\"colorbar\":{\"outlinewidth\":1,\"tickcolor\":\"rgb(36,36,36)\",\"ticks\":\"outside\"}},\"type\":\"scattercarpet\"}],\"scattergeo\":[{\"marker\":{\"colorbar\":{\"outlinewidth\":1,\"tickcolor\":\"rgb(36,36,36)\",\"ticks\":\"outside\"}},\"type\":\"scattergeo\"}],\"scattergl\":[{\"marker\":{\"colorbar\":{\"outlinewidth\":1,\"tickcolor\":\"rgb(36,36,36)\",\"ticks\":\"outside\"}},\"type\":\"scattergl\"}],\"scattermapbox\":[{\"marker\":{\"colorbar\":{\"outlinewidth\":1,\"tickcolor\":\"rgb(36,36,36)\",\"ticks\":\"outside\"}},\"type\":\"scattermapbox\"}],\"scatterpolargl\":[{\"marker\":{\"colorbar\":{\"outlinewidth\":1,\"tickcolor\":\"rgb(36,36,36)\",\"ticks\":\"outside\"}},\"type\":\"scatterpolargl\"}],\"scatterpolar\":[{\"marker\":{\"colorbar\":{\"outlinewidth\":1,\"tickcolor\":\"rgb(36,36,36)\",\"ticks\":\"outside\"}},\"type\":\"scatterpolar\"}],\"scatter\":[{\"fillpattern\":{\"fillmode\":\"overlay\",\"size\":10,\"solidity\":0.2},\"type\":\"scatter\"}],\"scatterternary\":[{\"marker\":{\"colorbar\":{\"outlinewidth\":1,\"tickcolor\":\"rgb(36,36,36)\",\"ticks\":\"outside\"}},\"type\":\"scatterternary\"}],\"surface\":[{\"colorbar\":{\"outlinewidth\":1,\"tickcolor\":\"rgb(36,36,36)\",\"ticks\":\"outside\"},\"colorscale\":[[0.0,\"#440154\"],[0.1111111111111111,\"#482878\"],[0.2222222222222222,\"#3e4989\"],[0.3333333333333333,\"#31688e\"],[0.4444444444444444,\"#26828e\"],[0.5555555555555556,\"#1f9e89\"],[0.6666666666666666,\"#35b779\"],[0.7777777777777778,\"#6ece58\"],[0.8888888888888888,\"#b5de2b\"],[1.0,\"#fde725\"]],\"type\":\"surface\"}],\"table\":[{\"cells\":{\"fill\":{\"color\":\"rgb(237,237,237)\"},\"line\":{\"color\":\"white\"}},\"header\":{\"fill\":{\"color\":\"rgb(217,217,217)\"},\"line\":{\"color\":\"white\"}},\"type\":\"table\"}]},\"layout\":{\"annotationdefaults\":{\"arrowhead\":0,\"arrowwidth\":1},\"autotypenumbers\":\"strict\",\"coloraxis\":{\"colorbar\":{\"outlinewidth\":1,\"tickcolor\":\"rgb(36,36,36)\",\"ticks\":\"outside\"}},\"colorscale\":{\"diverging\":[[0.0,\"rgb(103,0,31)\"],[0.1,\"rgb(178,24,43)\"],[0.2,\"rgb(214,96,77)\"],[0.3,\"rgb(244,165,130)\"],[0.4,\"rgb(253,219,199)\"],[0.5,\"rgb(247,247,247)\"],[0.6,\"rgb(209,229,240)\"],[0.7,\"rgb(146,197,222)\"],[0.8,\"rgb(67,147,195)\"],[0.9,\"rgb(33,102,172)\"],[1.0,\"rgb(5,48,97)\"]],\"sequential\":[[0.0,\"#440154\"],[0.1111111111111111,\"#482878\"],[0.2222222222222222,\"#3e4989\"],[0.3333333333333333,\"#31688e\"],[0.4444444444444444,\"#26828e\"],[0.5555555555555556,\"#1f9e89\"],[0.6666666666666666,\"#35b779\"],[0.7777777777777778,\"#6ece58\"],[0.8888888888888888,\"#b5de2b\"],[1.0,\"#fde725\"]],\"sequentialminus\":[[0.0,\"#440154\"],[0.1111111111111111,\"#482878\"],[0.2222222222222222,\"#3e4989\"],[0.3333333333333333,\"#31688e\"],[0.4444444444444444,\"#26828e\"],[0.5555555555555556,\"#1f9e89\"],[0.6666666666666666,\"#35b779\"],[0.7777777777777778,\"#6ece58\"],[0.8888888888888888,\"#b5de2b\"],[1.0,\"#fde725\"]]},\"colorway\":[\"#1F77B4\",\"#FF7F0E\",\"#2CA02C\",\"#D62728\",\"#9467BD\",\"#8C564B\",\"#E377C2\",\"#7F7F7F\",\"#BCBD22\",\"#17BECF\"],\"font\":{\"color\":\"rgb(36,36,36)\"},\"geo\":{\"bgcolor\":\"white\",\"lakecolor\":\"white\",\"landcolor\":\"white\",\"showlakes\":true,\"showland\":true,\"subunitcolor\":\"white\"},\"hoverlabel\":{\"align\":\"left\"},\"hovermode\":\"closest\",\"mapbox\":{\"style\":\"light\"},\"paper_bgcolor\":\"white\",\"plot_bgcolor\":\"white\",\"polar\":{\"angularaxis\":{\"gridcolor\":\"rgb(232,232,232)\",\"linecolor\":\"rgb(36,36,36)\",\"showgrid\":false,\"showline\":true,\"ticks\":\"outside\"},\"bgcolor\":\"white\",\"radialaxis\":{\"gridcolor\":\"rgb(232,232,232)\",\"linecolor\":\"rgb(36,36,36)\",\"showgrid\":false,\"showline\":true,\"ticks\":\"outside\"}},\"scene\":{\"xaxis\":{\"backgroundcolor\":\"white\",\"gridcolor\":\"rgb(232,232,232)\",\"gridwidth\":2,\"linecolor\":\"rgb(36,36,36)\",\"showbackground\":true,\"showgrid\":false,\"showline\":true,\"ticks\":\"outside\",\"zeroline\":false,\"zerolinecolor\":\"rgb(36,36,36)\"},\"yaxis\":{\"backgroundcolor\":\"white\",\"gridcolor\":\"rgb(232,232,232)\",\"gridwidth\":2,\"linecolor\":\"rgb(36,36,36)\",\"showbackground\":true,\"showgrid\":false,\"showline\":true,\"ticks\":\"outside\",\"zeroline\":false,\"zerolinecolor\":\"rgb(36,36,36)\"},\"zaxis\":{\"backgroundcolor\":\"white\",\"gridcolor\":\"rgb(232,232,232)\",\"gridwidth\":2,\"linecolor\":\"rgb(36,36,36)\",\"showbackground\":true,\"showgrid\":false,\"showline\":true,\"ticks\":\"outside\",\"zeroline\":false,\"zerolinecolor\":\"rgb(36,36,36)\"}},\"shapedefaults\":{\"fillcolor\":\"black\",\"line\":{\"width\":0},\"opacity\":0.3},\"ternary\":{\"aaxis\":{\"gridcolor\":\"rgb(232,232,232)\",\"linecolor\":\"rgb(36,36,36)\",\"showgrid\":false,\"showline\":true,\"ticks\":\"outside\"},\"baxis\":{\"gridcolor\":\"rgb(232,232,232)\",\"linecolor\":\"rgb(36,36,36)\",\"showgrid\":false,\"showline\":true,\"ticks\":\"outside\"},\"bgcolor\":\"white\",\"caxis\":{\"gridcolor\":\"rgb(232,232,232)\",\"linecolor\":\"rgb(36,36,36)\",\"showgrid\":false,\"showline\":true,\"ticks\":\"outside\"}},\"title\":{\"x\":0.05},\"xaxis\":{\"automargin\":true,\"gridcolor\":\"rgb(232,232,232)\",\"linecolor\":\"rgb(36,36,36)\",\"showgrid\":false,\"showline\":true,\"ticks\":\"outside\",\"title\":{\"standoff\":15},\"zeroline\":false,\"zerolinecolor\":\"rgb(36,36,36)\"},\"yaxis\":{\"automargin\":true,\"gridcolor\":\"rgb(232,232,232)\",\"linecolor\":\"rgb(36,36,36)\",\"showgrid\":false,\"showline\":true,\"ticks\":\"outside\",\"title\":{\"standoff\":15},\"zeroline\":false,\"zerolinecolor\":\"rgb(36,36,36)\"}}},\"xaxis\":{\"anchor\":\"y\",\"domain\":[0.0,1.0],\"title\":{\"text\":\"Tested on\"},\"showgrid\":true},\"yaxis\":{\"anchor\":\"x\",\"domain\":[0.0,1.0],\"title\":{\"text\":\"c-index\"},\"range\":[0.5,0.8],\"showgrid\":true},\"legend\":{\"title\":{\"text\":\"splits\",\"font\":{\"color\":\"rgba(0,0,0,0)\"}},\"tracegroupgap\":0},\"margin\":{\"t\":60},\"barmode\":\"group\",\"font\":{\"family\":\"Calibri\",\"size\":25},\"bargroupgap\":0.1},                        {\"responsive\": true}                    ).then(function(){\n",
       "                            \n",
       "var gd = document.getElementById('bfbb38bf-003c-40a7-a0ed-d20eaa3e07f5');\n",
       "var x = new MutationObserver(function (mutations, observer) {{\n",
       "        var display = window.getComputedStyle(gd).display;\n",
       "        if (!display || display === 'none') {{\n",
       "            console.log([gd, 'removed!']);\n",
       "            Plotly.purge(gd);\n",
       "            observer.disconnect();\n",
       "        }}\n",
       "}});\n",
       "\n",
       "// Listen for the removal of the full notebook cells\n",
       "var notebookContainer = gd.closest('#notebook-container');\n",
       "if (notebookContainer) {{\n",
       "    x.observe(notebookContainer, {childList: true});\n",
       "}}\n",
       "\n",
       "// Listen for the clearing of the current output cell\n",
       "var outputEl = gd.closest('.output');\n",
       "if (outputEl) {{\n",
       "    x.observe(outputEl, {childList: true});\n",
       "}}\n",
       "\n",
       "                        })                };                });            </script>        </div>"
      ]
     },
     "metadata": {},
     "output_type": "display_data"
    }
   ],
   "source": [
    "from hcve_lib.visualisation import setup_plotly_style\n",
    "\n",
    "labels={\n",
    "     \"mean\": \"c-index\",\n",
    "    'test_cohort': 'Tested on'\n",
    " }\n",
    "lco_lm_comparison_coxnet = lco_lm_comparison[lco_lm_comparison['method_name'] == 'coxnet']\n",
    "\n",
    "fig = px.bar(\n",
    "    lco_lm_comparison_coxnet,\n",
    "    x='test_cohort',\n",
    "    y='mean',\n",
    "    barmode='group',\n",
    "    range_y=[0.5,0.8],\n",
    "    labels=labels,\n",
    "    pattern_shape='splits',\n",
    ")\n",
    "fig.update_traces(marker_color='#4194D9')\n",
    "setup_plotly_style(fig)\n",
    "fig.write_image('./output/coxnet_lm_lco.svg')\n",
    "fig.show()\n",
    "\n",
    "lco_lm_comparison_gb = lco_lm_comparison[lco_lm_comparison['method_name'] == 'gb']\n",
    "\n",
    "fig = px.bar(\n",
    "    lco_lm_comparison_gb,\n",
    "    x='test_cohort',\n",
    "    y='mean',\n",
    "    color_continuous_scale='color',\n",
    "    barmode='group',\n",
    "    range_y=[0.5,0.8],\n",
    "    pattern_shape='splits',\n",
    "    labels=labels,\n",
    ")\n",
    "fig.update_traces(marker_color='#FF7F00')\n",
    "setup_plotly_style(fig)\n",
    "fig.write_image('./output/gb_lm_lco.svg')\n",
    "fig.show()"
   ]
  },
  {
   "cell_type": "code",
   "execution_count": null,
   "metadata": {},
   "outputs": [],
   "source": [
    "def compute_basic_statistics(method_name, metric_values):\n",
    "    values = list(metric_values.values())\n",
    "    return method_name, (mean(values), std(values))"
   ]
  },
  {
   "cell_type": "markdown",
   "metadata": {},
   "source": [
    "### C-index: average test metrics\n",
    "(std is not so informative here, requires a different method)a"
   ]
  },
  {
   "cell_type": "code",
   "execution_count": null,
   "metadata": {},
   "outputs": [],
   "source": [
    "metrics_seed_averaged"
   ]
  },
  {
   "cell_type": "markdown",
   "metadata": {},
   "source": [
    "**Average per method (LCO)**"
   ]
  },
  {
   "cell_type": "code",
   "execution_count": null,
   "metadata": {},
   "outputs": [],
   "source": [
    "averaged_metrics = itemmap(star_args(compute_basic_statistics), metrics_seed_averaged)\n",
    "averaged_metrics"
   ]
  },
  {
   "cell_type": "markdown",
   "metadata": {},
   "source": [
    "**Average per method (10-fold)**"
   ]
  },
  {
   "cell_type": "code",
   "execution_count": null,
   "metadata": {},
   "outputs": [],
   "source": [
    "averaged_metrics = itemmap(star_args(compute_basic_statistics), metrics_seed_averaged_10_fold)\n",
    "averaged_metrics"
   ]
  },
  {
   "cell_type": "markdown",
   "metadata": {},
   "source": [
    "### C-index: merge test sets (LCO)\n",
    "\n",
    "(std is not so informative here, requires a different method)a"
   ]
  },
  {
   "cell_type": "code",
   "execution_count": null,
   "metadata": {
    "scrolled": false
   },
   "outputs": [],
   "source": [
    "merged_prediction = valmap(\n",
    "    lambda group_id: merge_predictions(average_group_scores(load_group_results(group_id))),\n",
    "    GROUPS,\n",
    ")\n",
    "\n",
    "metrics_merged = compute_metric_result(\n",
    "    CIndex(),\n",
    "    y,\n",
    "    merged_prediction,\n",
    ")"
   ]
  },
  {
   "cell_type": "code",
   "execution_count": null,
   "metadata": {},
   "outputs": [],
   "source": [
    "metrics_merged"
   ]
  },
  {
   "cell_type": "markdown",
   "metadata": {},
   "source": [
    "### C-index: merge test sets (10-fold)\n"
   ]
  },
  {
   "cell_type": "code",
   "execution_count": null,
   "metadata": {},
   "outputs": [],
   "source": [
    "merged_prediction = valmap(\n",
    "    lambda group_id: merge_predictions(average_group_scores(load_group_results(group_id))),\n",
    "    GROUPS_10_fold,\n",
    ")\n",
    "\n",
    "metrics_merged = compute_metric_result(\n",
    "    CIndex(),\n",
    "    y,\n",
    "    merged_prediction,\n",
    ")\n",
    "\n",
    "metrics_merged"
   ]
  },
  {
   "cell_type": "markdown",
   "metadata": {},
   "source": [
    "### Number individuals removed by 30-80 age filter"
   ]
  },
  {
   "cell_type": "code",
   "execution_count": null,
   "metadata": {},
   "outputs": [],
   "source": [
    "from hcve_lib.visualisation import setup_plotly_style\n",
    "\n",
    "print(len(X) - len(get_30_to_80(X)))"
   ]
  },
  {
   "cell_type": "markdown",
   "metadata": {},
   "source": [
    "### Merged boxplot (weighted)"
   ]
  },
  {
   "cell_type": "code",
   "execution_count": null,
   "metadata": {},
   "outputs": [],
   "source": [
    "get_merge_boxplot_metrics"
   ]
  },
  {
   "cell_type": "code",
   "execution_count": 66,
   "metadata": {
    "scrolled": false
   },
   "outputs": [],
   "source": [
    "\n",
    "from config import *\n",
    "\n",
    "\n",
    "def get_merge_boxplot_metrics(groups, random_state=RANDOM_STATE, weighted: bool = True, return_summary=False):\n",
    "    merged_prediction = valmap(\n",
    "        lambda group_id: merge_predictions(average_group_scores(load_group_results(group_id))),\n",
    "        groups,\n",
    "    )\n",
    "    merged_prediction = {method: {**prediction, 'y_score': prediction['y_score'].loc[data.index]} for method, prediction in merged_prediction.items()}    \n",
    "    \n",
    "    return valmap(\n",
    "        lambda result: compute_metric_prediction(\n",
    "            BootstrappedMetric(\n",
    "                WeightedCIndex(weight=map_inverse_weight(data['STUDY']) if weighted else None),\n",
    "                random_state,\n",
    "                iterations=5,\n",
    "                return_summary=return_summary,\n",
    "            ),\n",
    "            y,\n",
    "            result,\n",
    "        ),\n",
    "        merged_prediction,\n",
    "    )\n",
    "\n"
   ]
  },
  {
   "cell_type": "code",
   "execution_count": null,
   "metadata": {},
   "outputs": [],
   "source": [
    "merged_metrics = get_merge_boxplot_metrics(GROUPS)"
   ]
  },
  {
   "cell_type": "code",
   "execution_count": null,
   "metadata": {},
   "outputs": [],
   "source": [
    "merged_metrics_summary = get_merge_boxplot_metrics(GROUPS, return_summary=True)"
   ]
  },
  {
   "cell_type": "code",
   "execution_count": null,
   "metadata": {},
   "outputs": [],
   "source": [
    "merged_metrics_summary"
   ]
  },
  {
   "cell_type": "code",
   "execution_count": null,
   "metadata": {
    "scrolled": false
   },
   "outputs": [],
   "source": [
    "from plotly.graph_objs import *\n",
    "from config import COLORS\n",
    "\n",
    "\n",
    "def plot_merged_metrics(merged_metrics):\n",
    "\n",
    "    \n",
    "    metrics_df = DataFrame()\n",
    "\n",
    "    for method_name, method_metric_values in merged_metrics.items():\n",
    "        metric_values = method_metric_values[\"c_index\"]\n",
    "        metrics_df_add = DataFrame({\n",
    "            'method': [METHODS.get(method_name, method_name)] * len(metric_values),\n",
    "            'method_original': [method_name] * len(metric_values),\n",
    "            'values': metric_values,\n",
    "            'color': [COLORS[method_name]] * len(metric_values),\n",
    "        })\n",
    "        metrics_df = pandas.concat([metrics_df, metrics_df_add])\n",
    "\n",
    "    fig = px.violin(\n",
    "        metrics_df,\n",
    "        x=\"method_original\",\n",
    "        y=\"values\",\n",
    "        color=\"method_original\",\n",
    "        range_y=[0.65, 0.8],\n",
    "        labels={'method': 'Test', 'values': 'c-index', **METHODS},\n",
    "        box=True,\n",
    "        color_discrete_map=COLORS,\n",
    "    )\n",
    "    setup_plotly_style(fig)\n",
    "    fig.update_traces(marker_size=2, marker_opacity=0.9)\n",
    "    fig.update_layout(legend=dict(itemsizing='constant'))\n",
    "\n",
    "#     fig.update_xaxes(\n",
    "#         tickfont=dict(size=25)\n",
    "#     )\n",
    "\n",
    "    fig.update_layout(\n",
    "        font=dict(family=FONT, size=28),\n",
    "        bargroupgap=0.1,\n",
    "        template='simple_white',\n",
    "        xaxis_ticktext=metrics_df[\"method\"]\n",
    "    )\n",
    "    \n",
    "    fig.update(\n",
    "        layout_showlegend=False,\n",
    "        layout_annotations=[\n",
    "            dict(\n",
    "                x=i+0.4,\n",
    "                y=(m_c := mean(metrics['c_index'])),\n",
    "                text=f'{m_c:.3f}',\n",
    "                showarrow=False,\n",
    "                font=dict(\n",
    "                    size=25,\n",
    "                    color=COLORS[method_name],\n",
    "                )\n",
    "            )\n",
    "            for i, (method_name, metrics) in enumerate(merged_metrics_selected.items())\n",
    "        ],\n",
    "    )\n",
    "\n",
    "    return fig\n",
    "\n",
    "merged_metrics_selected = dict_subset(('coxnet', 'gb'), merged_metrics)\n",
    "\n",
    "fig = plot_merged_metrics(merged_metrics_selected)\n",
    "fig.write_image('./data/main_c_index.svg')\n",
    "fig.show()"
   ]
  },
  {
   "cell_type": "code",
   "execution_count": null,
   "metadata": {
    "scrolled": true
   },
   "outputs": [],
   "source": [
    "from hcve_lib.metrics import WeightedCIndex\n",
    "from hcve_lib.evaluation_functions import map_inverse_weight\n",
    "\n",
    "merged_metrics_class_weighted = valmap(\n",
    "    lambda result: compute_metric_prediction(\n",
    "        BootstrappedMetric(\n",
    "            WeightedCIndex(weight=map_inverse_weight(y['data']['label'])),\n",
    "            RANDOM_STATE,\n",
    "            iterations=ITERATIONS,\n",
    "            return_summary=False,\n",
    "        ),\n",
    "        y,\n",
    "        result,\n",
    "    ),\n",
    "    merged_prediction,\n",
    ")\n"
   ]
  },
  {
   "cell_type": "code",
   "execution_count": null,
   "metadata": {},
   "outputs": [],
   "source": [
    "plot_merged_metrics(merged_metrics_class_weighted)"
   ]
  },
  {
   "cell_type": "markdown",
   "metadata": {},
   "source": [
    "### C-index: merged y_scores (unweighted)"
   ]
  },
  {
   "cell_type": "code",
   "execution_count": null,
   "metadata": {},
   "outputs": [],
   "source": [
    "metrics_df = DataFrame()\n",
    "for method_name, method_metric_values in merged_metrics.items():\n",
    "    metric_values = method_metric_values[\"c_index\"]\n",
    "    metrics_df_add = DataFrame({\n",
    "        'method': [method_name] * len(metric_values),\n",
    "        'values': metric_values,\n",
    "    })\n",
    "    metrics_df = pandas.concat([metrics_df, metrics_df_add])\n",
    "\n",
    "fig = px.strip(metrics_df, x=\"method\", y=\"values\", stripmode='overlay', range_y=[0.5, 1])\n",
    "fig.update_traces(marker_size=2, marker_opacity=0.9)\n",
    "fig.update_layout(legend=dict(itemsizing='constant'))\n",
    "fig.show()"
   ]
  },
  {
   "cell_type": "code",
   "execution_count": null,
   "metadata": {
    "scrolled": true
   },
   "outputs": [],
   "source": [
    "\n",
    "\n",
    "merged_prediction = valmap(\n",
    "    lambda group_id: merge_predictions(average_group_scores(load_group_results(group_id))),\n",
    "    GROUPS,\n",
    ")\n",
    "\n",
    "merged_prediction['pcp_hf'] = merge_predictions(load_run_results('229ef6c05f5d40acb57f5f62707f1e38'))\n",
    "\n",
    "merged_metrics = valmap(\n",
    "    lambda result: compute_metric_prediction(\n",
    "        BootstrappedMetric(\n",
    "            StratifiedMetric(\n",
    "                CIndex(),\n",
    "                splits={'30_to_80': list(get_30_to_80(X).index)}\n",
    "            ),\n",
    "            RANDOM_STATE,\n",
    "            iterations=ITERATIONS,\n",
    "            return_summary=False,\n",
    "        ),\n",
    "        y,\n",
    "        result,\n",
    "    ),\n",
    "    merged_prediction,\n",
    ")\n"
   ]
  },
  {
   "cell_type": "code",
   "execution_count": null,
   "metadata": {},
   "outputs": [],
   "source": [
    "metrics_df = DataFrame()\n",
    "for method_name, method_metric_values in merged_metrics.items():\n",
    "    metric_values = method_metric_values[\"30_to_80__c_index\"]\n",
    "    metrics_df_add = DataFrame({\n",
    "        'method': [method_name] * len(metric_values),\n",
    "        'values': metric_values,\n",
    "    })\n",
    "    metrics_df = pandas.concat([metrics_df, metrics_df_add])"
   ]
  },
  {
   "cell_type": "code",
   "execution_count": null,
   "metadata": {},
   "outputs": [],
   "source": [
    "fig = px.strip(metrics_df, x=\"method\", y=\"values\", stripmode='overlay', range_y=[0.5, 1])\n",
    "fig.update_traces(marker_size=2, marker_opacity=0.9)\n",
    "fig.update_layout(legend=dict(itemsizing='constant'))\n",
    "fig.show()"
   ]
  },
  {
   "cell_type": "code",
   "execution_count": null,
   "metadata": {},
   "outputs": [],
   "source": [
    "from hcve_lib.evaluation_functions import compute_metric_prediction\n",
    "\n",
    "merged_prediction = valmap(\n",
    "    lambda group_id: merge_predictions(average_group_scores(load_group_results(group_id))),\n",
    "    GROUPS,\n",
    ")\n",
    "\n",
    "merged_metrics = valmap(\n",
    "    lambda result: compute_metric_prediction(\n",
    "        BootstrappedMetric(\n",
    "            StratifiedMetric(\n",
    "                CIndex(),\n",
    "                splits={'30_to_80': list(get_30_to_80(X).index)}\n",
    "            ),\n",
    "            RANDOM_STATE,\n",
    "            iterations=ITERATIONS,\n",
    "            return_summary=False,\n",
    "        ),\n",
    "        y,\n",
    "        result,\n",
    "    ),\n",
    "    merged_prediction,\n",
    ")\n"
   ]
  },
  {
   "cell_type": "code",
   "execution_count": null,
   "metadata": {},
   "outputs": [],
   "source": [
    "metrics_df = DataFrame()\n",
    "for method_name, method_metric_values in merged_metrics.items():\n",
    "    metric_values = method_metric_values[\"30_to_80__c_index\"]\n",
    "    metrics_df_add = DataFrame({\n",
    "        'method': [method_name] * len(metric_values),\n",
    "        'values': metric_values,\n",
    "    })\n",
    "    metrics_df = pandas.concat([metrics_df, metrics_df_add])"
   ]
  },
  {
   "cell_type": "code",
   "execution_count": null,
   "metadata": {},
   "outputs": [],
   "source": [
    "fig = px.strip(metrics_df, x=\"method\", y=\"values\", stripmode='overlay', range_y=[0.5, 1])\n",
    "fig.update_traces(marker_size=2, marker_opacity=0.9)\n",
    "fig.update_layout(legend=dict(itemsizing='constant'))\n",
    "fig.show()"
   ]
  },
  {
   "cell_type": "markdown",
   "metadata": {},
   "source": [
    "### Predictive performance: averaged y_scores"
   ]
  },
  {
   "cell_type": "code",
   "execution_count": null,
   "metadata": {},
   "outputs": [],
   "source": [
    "averaged_results = {}\n"
   ]
  },
  {
   "cell_type": "code",
   "execution_count": null,
   "metadata": {},
   "outputs": [],
   "source": [
    "metrics_per_cohort_df = DataFrame()\n",
    "\n",
    "for method_name, method_metric_values in metrics_per_cohort.items():\n",
    "    for test_cohort_name, metric_values in method_metric_values.items():\n",
    "        try:\n",
    "            metrics_df_add = DataFrame({\n",
    "                'method': [method_name] * len(metric_values),\n",
    "                'test_cohort': [test_cohort_name] * len(metric_values),\n",
    "                'values': metric_values,\n",
    "            })\n",
    "            metrics_per_cohort_df = pandas.concat([metrics_per_cohort_df, metrics_df_add])\n",
    "        except TypeError:\n",
    "            print('ERROR')"
   ]
  },
  {
   "cell_type": "code",
   "execution_count": null,
   "metadata": {},
   "outputs": [],
   "source": [
    "fig = px.strip(metrics_per_cohort_df, x=\"method\", y=\"values\", color='test_cohort', stripmode='overlay',\n",
    "               range_y=[0.5, 1])\n",
    "fig.update_traces(marker_size=2, marker_opacity=0.9)\n",
    "fig.update_layout(legend=dict(itemsizing='constant'))\n",
    "fig.show()"
   ]
  },
  {
   "cell_type": "markdown",
   "metadata": {},
   "source": [
    "### Bar chart predictive performance"
   ]
  },
  {
   "cell_type": "code",
   "execution_count": null,
   "metadata": {},
   "outputs": [],
   "source": [
    "bar_chart_results = {}\n"
   ]
  },
  {
   "cell_type": "code",
   "execution_count": null,
   "metadata": {
    "scrolled": false
   },
   "outputs": [],
   "source": [
    "for group_name, group_id in GROUPS.items():\n",
    "    group = load_group_results(group_id)\n",
    "    bar_chart_results[group_name] = average_group_scores(group)\n",
    "\n",
    "bar_chart_results['pcp_hf'] = load_run_results('229ef6c05f5d40acb57f5f62707f1e38')\n",
    "\n",
    "metrics_per_cohort = valmap(\n",
    "    lambda prediction: compute_metric_result(\n",
    "        BootstrappedMetric(\n",
    "            StratifiedMetric(CIndex(), splits={'30_to_80': list(get_30_to_80(X).index)}),\n",
    "            RANDOM_STATE,\n",
    "            iterations=5,\n",
    "            return_summary=True,\n",
    "        ),\n",
    "        y,\n",
    "        prediction,\n",
    "    ),\n",
    "    bar_chart_results,\n",
    ")"
   ]
  },
  {
   "cell_type": "code",
   "execution_count": null,
   "metadata": {},
   "outputs": [],
   "source": [
    "import numpy as np\n",
    "from hcve_lib.functional import t\n",
    "\n",
    "def a(t):\n",
    "    values = list(t.values())\n",
    "    if isinstance(values[0], tuple):\n",
    "        lower, higher = transpose_list(values)\n",
    "        mean_ci_size = mean(np.array(higher)-np.array(lower))\n",
    "        center = mean([mean(lower), mean(higher)])\n",
    "        return [center-mean_ci_size/2, center+mean_ci_size/2]\n",
    "    else:\n",
    "        return mean(values)\n",
    "\n",
    "mean_metrics_per_cohort = valmap(\n",
    "    lambda per_test: valmap(a, transpose_dict(per_test)),\n",
    "    metrics_per_cohort\n",
    ")\n",
    "\n",
    "mean_metrics_per_cohort_df = DataFrame()\n",
    "\n",
    "for method_name, statistics in mean_metrics_per_cohort.items():\n",
    "    try:\n",
    "        print(f'{statistics=}')\n",
    "        metrics_df_add = DataFrame({\n",
    "            'method': [method_name],\n",
    "            'mean': [statistics['mean']],\n",
    "            'ci_low': [statistics['ci'][0]],\n",
    "            'ci_high': [t(statistics['ci'][1]-statistics['mean'])],\n",
    "            'std': [statistics['std']],\n",
    "        })\n",
    "        mean_metrics_per_cohort_df = pandas.concat([mean_metrics_per_cohort_df, metrics_df_add])\n",
    "    except TypeError:\n",
    "        print('ERROR')\n",
    "\n",
    "\n",
    "fig = px.bar(mean_metrics_per_cohort_df, x='method', y='mean', error_y='ci_high', range_y=[0.5,1])\n",
    "fig.update_layout(width=400)"
   ]
  },
  {
   "cell_type": "code",
   "execution_count": null,
   "metadata": {},
   "outputs": [],
   "source": [
    "fig = px.bar(mean_metrics_per_cohort_df, x='method', y='mean', error_y='ci_high', range_y=[0.5,0.8])\n",
    "fig.update_layout(width=400)"
   ]
  },
  {
   "cell_type": "code",
   "execution_count": null,
   "metadata": {},
   "outputs": [],
   "source": [
    "px.bar(metrics_per_cohort_df, x='method', y='mean', error_y='ci_high', range_y=[0.5,0.1])"
   ]
  },
  {
   "cell_type": "code",
   "execution_count": null,
   "metadata": {},
   "outputs": [],
   "source": [
    "metrics_per_cohort_df = DataFrame()\n",
    "\n",
    "for method_name, method_metric_values in metrics_per_cohort.items():\n",
    "    for test_cohort_name, metric_values in method_metric_values.items():\n",
    "        try:\n",
    "            metrics_df_add = DataFrame({\n",
    "                'method': [method_name] * len(metric_values),\n",
    "                'test_cohort': [test_cohort_name] * len(metric_values),\n",
    "                'values': metric_values,\n",
    "            })\n",
    "            metrics_per_cohort_df = pandas.concat([metrics_per_cohort_df, metrics_df_add])\n",
    "        except TypeError:\n",
    "            print('ERROR')"
   ]
  },
  {
   "cell_type": "markdown",
   "metadata": {},
   "source": [
    "### TODO: Separate evaluation"
   ]
  },
  {
   "cell_type": "code",
   "execution_count": null,
   "metadata": {},
   "outputs": [],
   "source": [
    "group_results = {}\n",
    "\n",
    "pcp_hf_result = load_run_results('229ef6c05f5d40acb57f5f62707f1e38')\n",
    "\n",
    "for group_name, group_id in GROUPS.items():\n",
    "    group = load_group_results(group_id)\n",
    "    group_results[group_name] = group\n",
    "    group['pcp_hf'] = pcp_hf_result"
   ]
  },
  {
   "cell_type": "code",
   "execution_count": null,
   "metadata": {},
   "outputs": [],
   "source": [
    "group_results['coxnet'][0]"
   ]
  },
  {
   "cell_type": "code",
   "execution_count": null,
   "metadata": {},
   "outputs": [],
   "source": [
    "metrics_per_cohort = valmap(\n",
    "    lambda prediction: compute_metric_result(\n",
    "        BootstrappedMetric(\n",
    "            StratifiedMetric(CIndex(), splits={'30_to_80': list(get_30_to_80(X).index)}),\n",
    "            RANDOM_STATE,\n",
    "            iterations=ITERATIONS,\n",
    "            return_summary=False,\n",
    "        ),\n",
    "        y,\n",
    "        prediction,\n",
    "    ),\n",
    "    averaged_results,\n",
    ")"
   ]
  },
  {
   "cell_type": "code",
   "execution_count": null,
   "metadata": {},
   "outputs": [],
   "source": [
    "metrics_per_cohort_df = DataFrame()\n",
    "\n",
    "for method_name, method_metric_values in metrics_per_cohort.items():\n",
    "    for test_cohort_name, metric_values in method_metric_values.items():\n",
    "        try:\n",
    "            metrics_df_add = DataFrame({\n",
    "                'method': [method_name] * len(metric_values),\n",
    "                'test_cohort': [test_cohort_name] * len(metric_values),\n",
    "                'values': metric_values,\n",
    "            })\n",
    "            metrics_per_cohort_df = pandas.concat([metrics_per_cohort_df, metrics_df_add])\n",
    "        except TypeError:\n",
    "            print('ERROR')"
   ]
  },
  {
   "cell_type": "code",
   "execution_count": null,
   "metadata": {},
   "outputs": [],
   "source": [
    "fig = px.strip(\n",
    "    metrics_per_cohort_df,\n",
    "    x=\"method\",\n",
    "    y=\"values\",\n",
    "    color='test_cohort',\n",
    "    stripmode='overlay',\n",
    "    range_y=[0.5, 1]\n",
    ")\n",
    "\n",
    "fig.update_traces(marker_size=2, marker_opacity=0.9)\n",
    "fig.update_layout(legend=dict(itemsizing='constant'))\n",
    "fig.show()"
   ]
  },
  {
   "cell_type": "markdown",
   "metadata": {},
   "source": [
    "# Single- vs multi-center / methods predictive performance comparison"
   ]
  },
  {
   "cell_type": "code",
   "execution_count": null,
   "metadata": {},
   "outputs": [],
   "source": [
    "def get_lm_lco_metrix_matrix(\n",
    "        metric: str,\n",
    "        method: str,\n",
    "        filter_string: str = None,\n",
    "        show_info: bool = False,\n",
    "\n",
    "):\n",
    "    return get_metric_matrix(\n",
    "        get_latest_chosen_run_group('optimized_nested_lm', method, filter_string),\n",
    "        get_latest_chosen_run_group('optimized_nested_lco', method, filter_string),\n",
    "        metric,\n",
    "        show_info=show_info,\n",
    "\n",
    "    )\n",
    "\n",
    "def show_lco_lm_matrix_matrix(metric: str = 'c_index', *args, **kwargs) -> None:\n",
    "    matrix = get_lm_lco_metrix_matrix(metric, *args, **kwargs)\n",
    "\n",
    "    plot_metric_matrix(matrix)\\\n",
    "        .update_layout(title=metric)\\\n",
    "        .show()\n",
    "\n",
    "def get_matrix_change(matrix1: DataFrame, matrix2: DataFrame) -> DataFrame:\n",
    "    return DataFrame(get_numerical_matrix(matrix2)) - DataFrame(get_numerical_matrix(matrix1))\n",
    "\n",
    "def show_matrix_change(matrix1: DataFrame, matrix2: DataFrame) -> DataFrame:\n",
    "    return plot_matrix(get_matrix_change(matrix1, matrix2))"
   ]
  },
  {
   "cell_type": "code",
   "execution_count": null,
   "metadata": {},
   "outputs": [],
   "source": [
    "show_lco_lm_matrix_matrix('c_index', 'gb')\n",
    "show_lco_lm_matrix_matrix('c_index', 'coxnet')"
   ]
  },
  {
   "cell_type": "code",
   "execution_count": null,
   "metadata": {},
   "outputs": [],
   "source": [
    "\n",
    "from deps.evaluation import get_subruns_in_group\n",
    "\n",
    "\n",
    "def get_subrun_metrics(group_id: str):\n",
    "    runs = get_subruns_in_group(group_id)\n",
    "\n",
    "    return {run.data.tags['mlflow.runName']: run.data.metrics['c_index'] for run in runs}\n"
   ]
  },
  {
   "cell_type": "code",
   "execution_count": null,
   "metadata": {},
   "outputs": [],
   "source": [
    "def get_lm_subruns(cohort_name, results, filter_out_bad: bool = False):\n",
    "    return [\n",
    "        c_index for split_name, c_index in results.items() if split_name[1] == cohort_name\n",
    "        if c_index > 0.5 or not filter_out_bad\n",
    "    ]\n",
    "\n"
   ]
  },
  {
   "cell_type": "code",
   "execution_count": null,
   "metadata": {
    "pycharm": {
     "is_executing": true
    }
   },
   "outputs": [],
   "source": [
    "from hcve_lib.functional import map_deep\n",
    "from deps.evaluation import get_metric_matrix_lm\n",
    "from typing import Tuple\n",
    "from deps.evaluation import get_metric_matrix_lco\n",
    "\n",
    "\n",
    "def get_lm_lco_bar(\n",
    "        experiment_name: str,\n",
    "        method_name: str,\n",
    "        filter_string: str = None,\n",
    ") -> Tuple[Series, Series]:\n",
    "    lm_metrics = get_metric_matrix_lm(\n",
    "        get_latest_chosen_run_group(experiment_name + '_lm', method_name, filter_string),\n",
    "        'c_index'\n",
    "    )\n",
    "\n",
    "    lco_metrics = get_metric_matrix_lco(\n",
    "        get_latest_chosen_run_group(experiment_name + '_lco', method_name, filter_string),\n",
    "        'c_index'\n",
    "    )\n",
    "\n",
    "    lm = DataFrame(map_deep(lm_metrics, lambda item, _: item['mean'] if item else None, levels=2))\\\n",
    "        .mean(axis=1)\n",
    "\n",
    "    lco = DataFrame(lco_metrics).loc['mean'].astype('float')\n",
    "    return lm, lco"
   ]
  },
  {
   "cell_type": "code",
   "execution_count": null,
   "metadata": {
    "pycharm": {
     "is_executing": true
    }
   },
   "outputs": [],
   "source": [
    "\n",
    "lm_gb, lco_gb = get_lm_lco_bar('optimized_nested', 'gb', 'tags.subsample=\"False\"')\n",
    "lm_cn, lco_cn = get_lm_lco_bar('optimized_nested', 'coxnet', 'tags.subsample=\"False\"')\n",
    "\n",
    "COLOR_CN = '#9bbedb'\n",
    "COLOR_SGB = '#ffbf7f'\n",
    "FONT = 'Helvetica'\n",
    "STRIPES_OPACITY = 0.4\n"
   ]
  },
  {
   "cell_type": "code",
   "execution_count": null,
   "metadata": {},
   "outputs": [],
   "source": [
    "\n",
    "runs = DataFrame({\n",
    "    'CN: Single-centre ': lm_cn,\n",
    "    'CN: Multi-centre': lco_cn,\n",
    "    'SGB: Single-centre': lm_gb,\n",
    "    'SGB: Multi-centre': lco_gb,\n",
    "}).loc[list(COHORTS)]\n"
   ]
  },
  {
   "cell_type": "code",
   "execution_count": null,
   "metadata": {
    "pycharm": {
     "is_executing": true
    }
   },
   "outputs": [],
   "source": [
    "\n",
    "fig = px.bar(\n",
    "    runs,\n",
    "    barmode=\"group\",\n",
    "    orientation='v',\n",
    "    # color_discrete_sequence=[\n",
    "    #     px.colors.qualitative.Dark24[0],\n",
    "    #     px.colors.qualitative.Dark24[1],\n",
    "    #     '#2e68e5',\n",
    "    #     '#db488a',\n",
    "    # ],\n",
    "    height=400,\n",
    "    width=1000,\n",
    "    template='simple_white'\n",
    ")\n"
   ]
  },
  {
   "cell_type": "code",
   "execution_count": null,
   "metadata": {},
   "outputs": [],
   "source": [
    "\n",
    "# for num, label in ((0, 'SC'), (1, 'MC'), (2, 'SC'), (3, 'MC')):\n"
   ]
  },
  {
   "cell_type": "code",
   "execution_count": null,
   "metadata": {},
   "outputs": [],
   "source": []
  },
  {
   "cell_type": "code",
   "execution_count": null,
   "metadata": {},
   "outputs": [],
   "source": [
    "\n",
    "fig.data[0].marker.color = COLOR_CN\n",
    "\n",
    "fig.data[1].marker.color = COLOR_CN\n",
    "\n",
    "fig.data[1].marker.pattern.fgopacity = STRIPES_OPACITY\n",
    "\n",
    "fig.data[1].marker.pattern.shape = '/'\n"
   ]
  },
  {
   "cell_type": "code",
   "execution_count": null,
   "metadata": {},
   "outputs": [],
   "source": [
    "\n",
    "fig.data[2].marker.color = COLOR_SGB\n",
    "\n",
    "fig.data[3].marker.color = COLOR_SGB\n",
    "\n",
    "fig.data[3].marker.pattern.shape = '/'\n",
    "\n",
    "fig.data[3].marker.pattern.fgopacity = STRIPES_OPACITY\n"
   ]
  },
  {
   "cell_type": "code",
   "execution_count": null,
   "metadata": {},
   "outputs": [],
   "source": [
    "\n",
    "#\n",
    "\n",
    "# fig.update_layout(legend=dict(\n",
    "\n",
    "#     yanchor=\"top\",\n",
    "\n",
    "#     y=1.20,\n",
    "\n",
    "#     xanchor=\"left\",\n",
    "\n",
    "#     x=0.01,\n",
    "\n",
    "#     font={'size': 28},\n",
    "\n",
    "# ))\n"
   ]
  },
  {
   "cell_type": "code",
   "execution_count": null,
   "metadata": {},
   "outputs": [],
   "source": [
    "\n",
    "fig.update_xaxes(\n",
    "\n",
    "    ticktext=COHORTS,\n",
    "\n",
    "    tickvals=list(range(len(COHORTS))),\n",
    "\n",
    "    tickfont=dict(size=22)\n",
    "\n",
    ")\n",
    "\n",
    "fig.update_layout(\n",
    "\n",
    "    font=dict(family=FONT, size=28),\n",
    "\n",
    "    bargroupgap=0.1,\n",
    "\n",
    "    xaxis_title=\"Test cohort\",\n",
    "\n",
    "    yaxis_title=\"c-index\",\n",
    "\n",
    "    yaxis_range=[0.5, 0.85],\n",
    "\n",
    "    legend={\n",
    "\n",
    "        'title': {'text': None}\n",
    "\n",
    "    },\n",
    "\n",
    "    template='simple_white'\n",
    "\n",
    ")\n",
    "\n",
    "fig.update_yaxes(showgrid=True)\n",
    "\n",
    "fig.write_image(\"./data/predictive_performance_lm_lco2.svg\")\n",
    "\n",
    "fig.write_image(\"./data/predictive_performance_lm_lco2.jpeg\")\n",
    "\n",
    "fig.show()\n"
   ]
  },
  {
   "cell_type": "code",
   "execution_count": null,
   "metadata": {},
   "outputs": [],
   "source": [
    "from hcve_lib.tracking import search_latest_root_completed_run_children\n",
    "\n",
    "\n",
    "def get_latest_subrun_metrics(experiment_name: str, method_name: str) -> Dict[str, float]:\n",
    "    runs = search_latest_root_completed_run_children(experiment_name, method_name, \"tags.chosen = 'True'\")\n",
    "\n",
    "    return {\n",
    "\n",
    "        run.data.tags['mlflow.runName']: run.data.metrics['c_index']\n",
    "\n",
    "        for run in runs\n",
    "\n",
    "    }\n"
   ]
  },
  {
   "cell_type": "code",
   "execution_count": null,
   "metadata": {},
   "outputs": [],
   "source": []
  },
  {
   "cell_type": "code",
   "execution_count": null,
   "metadata": {},
   "outputs": [],
   "source": [
    "\n",
    "def get_and_plot_compare_experiments_averaged(\n",
    "\n",
    "        method_names: List[str],\n",
    "\n",
    "        experiment_name: str,\n",
    "\n",
    "):\n",
    "    metrics1 = get_latest_subrun_metrics(experiment_name, method_name)\n",
    "\n",
    "    metrics2 = get_latest_subrun_metrics(experiment_name, method_name)\n",
    "\n",
    "    fig = plot_compare_groups(metrics1, metrics2)\n",
    "\n",
    "    fig.update_layout({'title': method_name})\n",
    "\n",
    "    fig.show()\n"
   ]
  },
  {
   "cell_type": "code",
   "execution_count": null,
   "metadata": {},
   "outputs": [],
   "source": []
  },
  {
   "cell_type": "code",
   "execution_count": null,
   "metadata": {},
   "outputs": [],
   "source": [
    "\n",
    "def plot_compare_groups(metrics1, metrics2):\n",
    "    fig = px.bar(\n",
    "\n",
    "        DataFrame({\n",
    "\n",
    "            'default': Series(metrics1),\n",
    "\n",
    "            'optimized': Series(metrics2),\n",
    "\n",
    "        }),\n",
    "\n",
    "        barmode=\"group\",\n",
    "\n",
    "        orientation='v',\n",
    "\n",
    "        height=400\n",
    "\n",
    "    )\n",
    "\n",
    "    fig.update_layout(\n",
    "\n",
    "        xaxis_title=\"Cohort\",\n",
    "\n",
    "        yaxis_title=\"c-index\",\n",
    "\n",
    "        yaxis_range=[0.5, 1]\n",
    "\n",
    "    )\n",
    "\n",
    "    fig.update_yaxes(showgrid=True)\n",
    "\n",
    "    return fig\n",
    "\n",
    "\n",
    "Abstract\n",
    "bar\n",
    "chart\n",
    "\n",
    "from typing import Dict, List\n",
    "\n",
    "from plotly import express as px\n"
   ]
  },
  {
   "cell_type": "code",
   "execution_count": null,
   "metadata": {},
   "outputs": [],
   "source": []
  },
  {
   "cell_type": "code",
   "execution_count": null,
   "metadata": {},
   "outputs": [],
   "source": [
    "\n",
    "def get_latest_subrun_metrics(experiment_name: str, method_name: str) -> Dict[str, float]:\n",
    "    runs = search_latest_root_completed_run_children(experiment_name, method_name, \"tags.chosen = 'True'\")\n",
    "\n",
    "    return {\n",
    "\n",
    "        run.data.tags['mlflow.runName']: run.data.metrics['c_index']\n",
    "\n",
    "        for run in runs\n",
    "\n",
    "    }\n"
   ]
  },
  {
   "cell_type": "code",
   "execution_count": null,
   "metadata": {},
   "outputs": [],
   "source": []
  },
  {
   "cell_type": "code",
   "execution_count": null,
   "metadata": {},
   "outputs": [],
   "source": [
    "\n",
    "def get_and_plot_compare_experiments_averaged(\n",
    "\n",
    "        method_names: List[str],\n",
    "\n",
    "        experiment_name: str,\n",
    "\n",
    "):\n",
    "    metrics1 = get_latest_subrun_metrics(experiment_name, method_name)\n",
    "\n",
    "    metrics2 = get_latest_subrun_metrics(experiment2, method_name)\n",
    "\n",
    "    fig = plot_compare_groups(metrics1, metrics2)\n",
    "\n",
    "    fig.update_layout({'title': method_name})\n",
    "\n",
    "    fig.show()\n"
   ]
  },
  {
   "cell_type": "code",
   "execution_count": null,
   "metadata": {},
   "outputs": [],
   "source": []
  },
  {
   "cell_type": "code",
   "execution_count": null,
   "metadata": {},
   "outputs": [],
   "source": [
    "\n",
    "def plot_compare_groups(metrics1, metrics2):\n",
    "    fig = px.bar(\n",
    "\n",
    "        DataFrame({\n",
    "\n",
    "            'default': Series(metrics1),\n",
    "\n",
    "            'optimized': Series(metrics2),\n",
    "\n",
    "        }),\n",
    "\n",
    "        barmode=\"group\",\n",
    "\n",
    "        orientation='v',\n",
    "\n",
    "        height=400\n",
    "\n",
    "    )\n",
    "\n",
    "    fig.update_layout(\n",
    "\n",
    "        xaxis_title=\"Cohort\",\n",
    "\n",
    "        yaxis_title=\"c-index\",\n",
    "\n",
    "        yaxis_range=[0.5, 1]\n",
    "\n",
    "    )\n",
    "\n",
    "    fig.update_yaxes(showgrid=True)\n",
    "\n",
    "    return fig\n"
   ]
  },
  {
   "cell_type": "code",
   "execution_count": null,
   "metadata": {},
   "outputs": [],
   "source": []
  },
  {
   "cell_type": "code",
   "execution_count": null,
   "metadata": {},
   "outputs": [],
   "source": [
    "\n",
    "def get_lco_metrics(experiment_name: str, method_name: str):\n",
    "    runs = get_lco(experiment_name, method_name)\n",
    "\n",
    "    return {run.data.tags['mlflow.runName']: run.data.metrics['c_index'] for run in runs}\n"
   ]
  },
  {
   "cell_type": "code",
   "execution_count": null,
   "metadata": {},
   "outputs": [],
   "source": [
    "\n",
    "def get_lco(experiment_name: str, method_name: str):\n",
    "\n",
    "optimized_lco_id = get_experiment_by_name(experiment_name).experiment_id\n"
   ]
  },
  {
   "cell_type": "code",
   "execution_count": null,
   "metadata": {},
   "outputs": [],
   "source": [
    "\n",
    "root_runs = mlflow.search_runs(\n",
    "\n",
    "    optimized_lco_id,\n",
    "\n",
    "    \"tags.chosen = 'True' and tags.mlflow.runName = '\" + method_name + \"'\",\n",
    "\n",
    "    output_format='list',\n",
    "\n",
    "    max_results=1,\n",
    "\n",
    ")\n",
    "\n",
    "if len(root_runs) == 0:\n",
    "\n",
    "    return\n",
    "\n",
    "else:\n",
    "\n",
    "    root_run = root_runs[0]\n"
   ]
  },
  {
   "cell_type": "code",
   "execution_count": null,
   "metadata": {},
   "outputs": [],
   "source": [
    "\n",
    "search_filter = f'tags.mlflow.parentRunId = \"{root_run.info.run_id}\"'\n"
   ]
  },
  {
   "cell_type": "code",
   "execution_count": null,
   "metadata": {},
   "outputs": [],
   "source": [
    "\n",
    "return mlflow.search_runs(\n",
    "\n",
    "    get_experiment_by_name(experiment_name).experiment_id,\n",
    "\n",
    "    search_filter,\n",
    "\n",
    "    output_format='list')\n"
   ]
  },
  {
   "cell_type": "code",
   "execution_count": null,
   "metadata": {},
   "outputs": [],
   "source": [
    "\n",
    "c_index_sgb_nested = [get_lco_metrics('optimized_nested_lco', 'gb')[cohort] for cohort in COHORTS]\n",
    "\n",
    "c_index_sgb = [get_lco_metrics('optimized_nested_lco', 'gb')[cohort] for cohort in COHORTS]\n",
    "\n",
    "c_index_pcp_hf = [get_lco_metrics('default_lco', 'pc')[cohort] for cohort in COHORTS]\n"
   ]
  },
  {
   "cell_type": "code",
   "execution_count": null,
   "metadata": {},
   "outputs": [],
   "source": [
    "\n",
    "runs = {\n",
    "\n",
    "    'Survival Gradient Boosting (SGB)': c_index_sgb,\n",
    "\n",
    "    'Pooled Cohort Equations (PCP-HF)': c_index_pcp_hf,\n",
    "\n",
    "}\n",
    "\n",
    "fig = px.bar(\n",
    "\n",
    "    DataFrame(runs),\n",
    "\n",
    "    barmode=\"group\",\n",
    "\n",
    "    orientation='v',\n",
    "\n",
    "    color_discrete_sequence=px.colors.qualitative.Dark24,\n",
    "\n",
    "    height=400,\n",
    "\n",
    "    width=1000,\n",
    "\n",
    "    template='simple_white'\n",
    "\n",
    ")\n"
   ]
  },
  {
   "cell_type": "code",
   "execution_count": null,
   "metadata": {},
   "outputs": [],
   "source": [
    "\n",
    "fig.update_layout(legend=dict(\n",
    "\n",
    "    yanchor=\"top\",\n",
    "\n",
    "    y=1.18,\n",
    "\n",
    "    xanchor=\"left\",\n",
    "\n",
    "    x=0.01,\n",
    "\n",
    "    font={'size': 24}\n",
    "\n",
    "))\n"
   ]
  },
  {
   "cell_type": "code",
   "execution_count": null,
   "metadata": {},
   "outputs": [],
   "source": [
    "\n",
    "fig.update_xaxes(\n",
    "\n",
    "    ticktext=COHORTS,\n",
    "\n",
    "    tickvals=list(range(len(COHORTS))),\n",
    "\n",
    ")\n"
   ]
  },
  {
   "cell_type": "code",
   "execution_count": null,
   "metadata": {},
   "outputs": [],
   "source": [
    "\n",
    "fig.update_layout(\n",
    "\n",
    "    font=dict(family=\"Times New Roman\", size=23),\n",
    "\n",
    "    xaxis_title=\"Test cohort\",\n",
    "\n",
    "    yaxis_title=\"c-index\",\n",
    "\n",
    "    yaxis_range=[0.5, 0.9],\n",
    "\n",
    "    legend={\n",
    "\n",
    "        'title': {'text': None}\n",
    "\n",
    "    },\n",
    "\n",
    ")\n",
    "\n",
    "fig.update_yaxes(showgrid=True)\n",
    "\n",
    "fig.write_image(\"./data/predictive_performance.svg\")\n",
    "\n",
    "fig.show()\n",
    "\n"
   ]
  }
 ],
 "metadata": {
  "hide_input": false,
  "kernelspec": {
   "display_name": "Python 3",
   "language": "python",
   "name": "python3"
  },
  "language_info": {
   "codemirror_mode": {
    "name": "ipython",
    "version": 3
   },
   "file_extension": ".py",
   "mimetype": "text/x-python",
   "name": "python",
   "nbconvert_exporter": "python",
   "pygments_lexer": "ipython3",
   "version": "3.9.13"
  }
 },
 "nbformat": 4,
 "nbformat_minor": 1
}
