{
 "cells": [
  {
   "cell_type": "code",
   "execution_count": 1,
   "metadata": {
    "pycharm": {
     "name": "#%%\n"
    }
   },
   "outputs": [],
   "source": [
    "\n",
    "from hcve_lib.utils import notebook_init\n",
    "notebook_init()\n",
    "from config import OUTPUT_PATH\n",
    "from deps.data import load_metadata\n",
    "from deps.common import get_data_cached\n",
    "from deps.data import group_by_study\n",
    "from hcve_lib.cohort_statistics import get_characteristics_table, get_missing_table\n",
    "from hcve_lib.visualisation import display_html\n",
    "from hcve_lib.cohort_statistics import get_events_table\n",
    "\n",
    "%autoreload 2"
   ]
  },
  {
   "cell_type": "markdown",
   "metadata": {
    "pycharm": {
     "name": "#%% md\n"
    }
   },
   "source": [
    "## Characteristics\n",
    "\n",
    "Categorical variables are displayed as percentages (out of non-missing values) and absolute numbers, continuous as means and 10-90 percentiles."
   ]
  },
  {
   "cell_type": "code",
   "execution_count": 2,
   "metadata": {
    "pycharm": {
     "name": "#%%\n"
    }
   },
   "outputs": [
    {
     "name": "stdout",
     "output_type": "stream",
     "text": [
      "[Memory]0.0s, 0.0min    : Loading get_data...\n",
      "____________________________________________get_data cache loaded - 0.0s, 0.0min\n"
     ]
    },
    {
     "data": {
      "text/html": [
       "<table><tr><th></th><th>ASCOT (n=19253)</th><th>FLEMENGHO (n=1101)</th><th>HEALTHABC (n=2935)</th><th>HVC (n=436)</th><th>PREDICTOR (n=1463)</th><th>PROSPER (n=5166)</th></tr>\n",
       "<tr><td><span style=\"padding-left: 0px\"><b>Administrative</b></span></td><td></td><td></td><td></td><td></td><td></td><td></td></tr>\n",
       "<tr><td><span style=\"padding-left: 20px\">Gender, male / female, n (%)</span></td><td>14,739 (77) / 4,514 (23)</td><td>522 (47) / 579 (53)</td><td>1,407 (48) / 1,528 (52)</td><td>242 (56) / 194 (44)</td><td>745 (51) / 718 (49)</td><td>2,551 (49) / 2,615 (51)</td></tr>\n",
       "<tr><td><span style=\"padding-left: 20px\">Age, Years</span></td><td>63 ± 8.48</td><td>55.2 ± 12</td><td>73.6 ± 2.87</td><td>61.5 ± 10.9</td><td>72 ± 3.91</td><td>74.6 ± 2.73</td></tr>\n",
       "<tr><td><span style=\"padding-left: 20px\">Body weight, Kg</span></td><td>84.6 ± 15.5</td><td>76.7 ± 15.2</td><td>75.6 ± 15</td><td>81.8 ± 18</td><td>72.8 ± 13.3</td><td>73.8 ± 13.4</td></tr>\n",
       "<tr><td><span style=\"padding-left: 20px\">Body height, cm</span></td><td>171 ± 8.97</td><td>168 ± 9.19</td><td>166 ± 9.4</td><td>170 ± 9.8</td><td>166 ± 8.57</td><td>166 ± 9.38</td></tr>\n",
       "<tr><td><span style=\"padding-left: 20px\">Body-mass index, Kg/m²</span></td><td>28.7 ± 4.57</td><td>27 ± 4.48</td><td>27.3 ± 4.8</td><td>28.1 ± 5.52</td><td>26.4 ± 4.12</td><td>26.9 ± 4.19</td></tr>\n",
       "<tr><td><span style=\"padding-left: 20px\">Smoking status, No / Yes / Ex-smoker, n (%)</span></td><td>6,209 (32) / 5,893 (31) / 7,151 (37)</td><td>439 (40) / 191 (17) / 471 (43)</td><td>1,304 (44) / 308 (11) / 1,319 (45)</td><td>151 (39) / 107 (28) / 127 (33)</td><td>720 (49) / 196 (13) / 546 (37)</td><td>3,710 (72) / 1,456 (28) / 0 (0)</td></tr>\n",
       "<tr><td><span style=\"padding-left: 20px\">Alcohol intake, n (%)</span></td><td>14,292 (74)</td><td>421 (38)</td><td>1,460 (50)</td><td>—</td><td>859 (59)</td><td>2,897 (56)</td></tr>\n",
       "<tr><td><span style=\"padding-left: 0px\"><b>Medical history</b></span></td><td></td><td></td><td></td><td></td><td></td><td></td></tr>\n",
       "<tr><td><span style=\"padding-left: 20px\">History of diabetes, n (%)</span></td><td>5,145 (27)</td><td>57 (5)</td><td>431 (15)</td><td>70 (16)</td><td>241 (17)</td><td>563 (11)</td></tr>\n",
       "<tr><td><span style=\"padding-left: 20px\">History of cardiovascular disease, n (%)</span></td><td>8,276 (43)</td><td>102 (9)</td><td>740 (26)</td><td>305 (70)</td><td>392 (27)</td><td>2,212 (43)</td></tr>\n",
       "<tr><td><span style=\"padding-left: 20px\">History of coronary artery disease, n (%)</span></td><td>5,284 (27)</td><td>54 (5)</td><td>637 (22)</td><td>70 (16)</td><td>110 (8)</td><td>1,634 (32)</td></tr>\n",
       "<tr><td><span style=\"padding-left: 20px\">History of peripheral artery disease, n (%)</span></td><td>1,199 (6)</td><td>27 (2)</td><td>136 (5)</td><td>45 (10)</td><td>0 (0)</td><td>112 (2)</td></tr>\n",
       "<tr><td><span style=\"padding-left: 20px\">History of atrial fibrillation, n (%)</span></td><td>230 (1)</td><td>21 (2)</td><td>—</td><td>37 (8)</td><td>0 (0)</td><td>—</td></tr>\n",
       "<tr><td><span style=\"padding-left: 20px\">History of cerebrovascular incident, n (%)</span></td><td>2,113 (11)</td><td>23 (2)</td><td>221 (8)</td><td>41 (9)</td><td>0 (0)</td><td>552 (11)</td></tr>\n",
       "<tr><td><span style=\"padding-left: 0px\"><b>Medication</b></span></td><td></td><td></td><td></td><td></td><td></td><td></td></tr>\n",
       "<tr><td><span style=\"padding-left: 20px\">Intake of antihypertensive medication, n (%)</span></td><td>15,588 (81)</td><td>322 (29)</td><td>1,545 (53)</td><td>342 (78)</td><td>742 (51)</td><td>3,781 (73)</td></tr>\n",
       "<tr><td><span style=\"padding-left: 20px\">Intake of angiotensin converting enzyme inhibitors, n (%)</span></td><td>4,972 (32)</td><td>64 (6)</td><td>413 (14)</td><td>116 (27)</td><td>299 (20)</td><td>838 (16)</td></tr>\n",
       "<tr><td><span style=\"padding-left: 20px\">Intake of calcium channel blockers, n (%)</span></td><td>5,513 (35)</td><td>67 (6)</td><td>660 (23)</td><td>116 (27)</td><td>235 (16)</td><td>1,301 (25)</td></tr>\n",
       "<tr><td><span style=\"padding-left: 20px\">Intake of diuretics, n (%)</span></td><td>5,488 (35)</td><td>119 (11)</td><td>714 (24)</td><td>119 (27)</td><td>222 (15)</td><td>2,057 (40)</td></tr>\n",
       "<tr><td><span style=\"padding-left: 20px\">Intake of beta-blokcers, n (%)</span></td><td>6,156 (39)</td><td>185 (17)</td><td>364 (12)</td><td>235 (54)</td><td>214 (15)</td><td>1,330 (26)</td></tr>\n",
       "<tr><td><span style=\"padding-left: 20px\">Intake of angiotensin II receptor blockers, n (%)</span></td><td>1,218 (8)</td><td>47 (4)</td><td>61 (2)</td><td>117 (27)</td><td>298 (20)</td><td>103 (2)</td></tr>\n",
       "<tr><td><span style=\"padding-left: 20px\">Intake of lipid-lowering medication, n (%)</span></td><td>2,050 (11)</td><td>194 (18)</td><td>403 (14)</td><td>240 (55)</td><td>—</td><td>—</td></tr>\n",
       "<tr><td><span style=\"padding-left: 0px\"><b>Blood pressure</b></span></td><td></td><td></td><td></td><td></td><td></td><td></td></tr>\n",
       "<tr><td><span style=\"padding-left: 20px\">Systolic blood pressure, mmHg</span></td><td>164 ± 18</td><td>132 ± 17.4</td><td>136 ± 20.9</td><td>149 ± 23</td><td>138 ± 16.9</td><td>154 ± 21.8</td></tr>\n",
       "<tr><td><span style=\"padding-left: 20px\">Diastolic blood pressure, mmHg</span></td><td>94.7 ± 10.4</td><td>81.6 ± 9.32</td><td>71.4 ± 11.7</td><td>84.5 ± 12</td><td>80.8 ± 9.4</td><td>83.8 ± 11.5</td></tr>\n",
       "<tr><td><span style=\"padding-left: 20px\">Heart rate, Beats per minute</span></td><td>71.9 ± 12.6</td><td>63.6 ± 9.22</td><td>65.3 ± 11.1</td><td>73.9 ± 15.1</td><td>70.3 ± 11.2</td><td>66.3 ± 11.7</td></tr>\n",
       "<tr><td><span style=\"padding-left: 20px\">Pulse pressure, mmHg</span></td><td>69.4 ± 16.6</td><td>50.2 ± 14.9</td><td>64.5 ± 18</td><td>64.5 ± 18.6</td><td>57.4 ± 13</td><td>70.4 ± 18.1</td></tr>\n",
       "<tr><td><span style=\"padding-left: 0px\"><b>ECG</b></span></td><td></td><td></td><td></td><td></td><td></td><td></td></tr>\n",
       "<tr><td><span style=\"padding-left: 20px\">Sokolow-Lyon index, mm</span></td><td>24.2 ± 8.22</td><td>21.1 ± 7.08</td><td>—</td><td>—</td><td>—</td><td>—</td></tr>\n",
       "<tr><td><span style=\"padding-left: 20px\">QRS duration, ms</span></td><td>94.3 ± 15.1</td><td>92.9 ± 14.1</td><td>93 ± 17.9</td><td>92.5 ± 16.9</td><td>—</td><td>—</td></tr>\n",
       "<tr><td><span style=\"padding-left: 20px\">Cornell index, mm x msec</span></td><td>1710 ± 808</td><td>1110 ± 669</td><td>—</td><td>—</td><td>—</td><td>—</td></tr>\n",
       "<tr><td><span style=\"padding-left: 0px\"><b>Biochemical measurements</b></span></td><td></td><td></td><td></td><td></td><td></td><td></td></tr>\n",
       "<tr><td><span style=\"padding-left: 20px\">Blood glucose, mmol/L</span></td><td>6.24 ± 2.12</td><td>4.89 ± 0.764</td><td>5.77 ± 1.9</td><td>6.15 ± 2.21</td><td>5.79 ± 1.53</td><td>5.48 ± 1.47</td></tr>\n",
       "<tr><td><span style=\"padding-left: 20px\">Total cholesterol, mmol/L</span></td><td>5.91 ± 1.08</td><td>5.21 ± 0.953</td><td>5.26 ± 0.992</td><td>5.32 ± 1.31</td><td>5.3 ± 1.02</td><td>5.67 ± 0.903</td></tr>\n",
       "<tr><td><span style=\"padding-left: 20px\">LDL-cholesterol, mmol/L</span></td><td>3.78 ± 0.966</td><td>3.16 ± 0.843</td><td>3.16 ± 0.896</td><td>3.31 ± 1.12</td><td>3.31 ± 0.894</td><td>3.79 ± 0.797</td></tr>\n",
       "<tr><td><span style=\"padding-left: 20px\">HDL-cholesterol, mmol/L</span></td><td>1.3 ± 0.365</td><td>1.45 ± 0.38</td><td>1.41 ± 0.441</td><td>1.25 ± 0.412</td><td>1.36 ± 0.342</td><td>1.28 ± 0.349</td></tr>\n",
       "<tr><td><span style=\"padding-left: 20px\">Triglycerides, mmol/L</span></td><td>1.84 ± 1</td><td>1.29 ± 0.723</td><td>1.51 ± 0.849</td><td>1.81 ± 1.21</td><td>1.32 ± 0.631</td><td>1.54 ± 0.697</td></tr>\n",
       "<tr><td><span style=\"padding-left: 20px\">Serum creatinine, μmol/L</span></td><td>98.7 ± 16.8</td><td>80.2 ± 16.8</td><td>92.9 ± 36.1</td><td>95 ± 64.6</td><td>83.1 ± 21.5</td><td>101 ± 22</td></tr></table>"
      ],
      "text/plain": [
       "<IPython.core.display.HTML object>"
      ]
     },
     "metadata": {},
     "output_type": "display_data"
    }
   ],
   "source": [
    "from hcve_lib.utils import put_contents\n",
    "\n",
    "data, metadata, X, y = get_data_cached()\n",
    "\n",
    "characteristics_html = get_characteristics_table(metadata, X, group_by_study(data, X))\n",
    "put_contents(f'{OUTPUT_PATH}/characteristics.html', characteristics_html)\n",
    "display_html(characteristics_html)"
   ]
  },
  {
   "cell_type": "code",
   "execution_count": 3,
   "metadata": {
    "pycharm": {
     "name": "#%%\n"
    }
   },
   "outputs": [
    {
     "data": {
      "text/html": [
       "<table><tr><th></th><th>ASCOT (n=19253)</th><th>FLEMENGHO (n=1101)</th><th>HEALTHABC (n=2935)</th><th>HVC (n=436)</th><th>PREDICTOR (n=1463)</th><th>PROSPER (n=5166)</th></tr>\n",
       "<tr><td><span style=\"padding-left: 0px\"><b>Administrative</b></span></td><td></td><td></td><td></td><td></td><td></td><td></td></tr>\n",
       "<tr><td><span style=\"padding-left: 20px\">Gender, male / female, n (%)</span></td><td></td><td></td><td></td><td></td><td></td><td></td></tr>\n",
       "<tr><td><span style=\"padding-left: 20px\">Age, Years</span></td><td></td><td></td><td></td><td></td><td></td><td></td></tr>\n",
       "<tr><td><span style=\"padding-left: 20px\">Body weight, Kg</span></td><td></td><td></td><td></td><td>15.4</td><td>0.3</td><td></td></tr>\n",
       "<tr><td><span style=\"padding-left: 20px\">Body height, cm</span></td><td></td><td></td><td></td><td>11.2</td><td>0.5</td><td>0.0</td></tr>\n",
       "<tr><td><span style=\"padding-left: 20px\">Body-mass index, Kg/m²</span></td><td></td><td></td><td></td><td>16.1</td><td>0.8</td><td>0.0</td></tr>\n",
       "<tr><td><span style=\"padding-left: 20px\">Smoking status, No / Yes / Ex-smoker, n (%)</span></td><td></td><td></td><td>0.1</td><td>11.7</td><td>0.1</td><td></td></tr>\n",
       "<tr><td><span style=\"padding-left: 20px\">Alcohol intake, n (%)</span></td><td></td><td></td><td>0.5</td><td>100.0</td><td>0.1</td><td></td></tr>\n",
       "<tr><td><span style=\"padding-left: 0px\"><b>Medical history</b></span></td><td></td><td></td><td></td><td></td><td></td><td></td></tr>\n",
       "<tr><td><span style=\"padding-left: 20px\">History of diabetes, n (%)</span></td><td></td><td></td><td>0.1</td><td></td><td>0.8</td><td></td></tr>\n",
       "<tr><td><span style=\"padding-left: 20px\">History of cardiovascular disease, n (%)</span></td><td></td><td></td><td>1.9</td><td></td><td>0.2</td><td></td></tr>\n",
       "<tr><td><span style=\"padding-left: 20px\">History of coronary artery disease, n (%)</span></td><td></td><td></td><td>1.5</td><td></td><td></td><td></td></tr>\n",
       "<tr><td><span style=\"padding-left: 20px\">History of peripheral artery disease, n (%)</span></td><td></td><td></td><td>2.3</td><td></td><td></td><td></td></tr>\n",
       "<tr><td><span style=\"padding-left: 20px\">History of atrial fibrillation, n (%)</span></td><td>0.7</td><td></td><td>100.0</td><td></td><td></td><td>100.0</td></tr>\n",
       "<tr><td><span style=\"padding-left: 20px\">History of cerebrovascular incident, n (%)</span></td><td></td><td></td><td>1.0</td><td></td><td></td><td></td></tr>\n",
       "<tr><td><span style=\"padding-left: 0px\"><b>Medication</b></span></td><td></td><td></td><td></td><td></td><td></td><td></td></tr>\n",
       "<tr><td><span style=\"padding-left: 20px\">Intake of antihypertensive medication, n (%)</span></td><td></td><td></td><td>0.3</td><td></td><td></td><td></td></tr>\n",
       "<tr><td><span style=\"padding-left: 20px\">Intake of angiotensin converting enzyme inhibitors, n (%)</span></td><td>19.0</td><td></td><td>0.3</td><td></td><td></td><td></td></tr>\n",
       "<tr><td><span style=\"padding-left: 20px\">Intake of calcium channel blockers, n (%)</span></td><td>19.0</td><td></td><td>0.3</td><td></td><td></td><td></td></tr>\n",
       "<tr><td><span style=\"padding-left: 20px\">Intake of diuretics, n (%)</span></td><td>19.0</td><td></td><td></td><td></td><td></td><td></td></tr>\n",
       "<tr><td><span style=\"padding-left: 20px\">Intake of beta-blokcers, n (%)</span></td><td>19.0</td><td></td><td>0.3</td><td></td><td></td><td></td></tr>\n",
       "<tr><td><span style=\"padding-left: 20px\">Intake of angiotensin II receptor blockers, n (%)</span></td><td>19.0</td><td></td><td>0.3</td><td></td><td></td><td></td></tr>\n",
       "<tr><td><span style=\"padding-left: 20px\">Intake of lipid-lowering medication, n (%)</span></td><td></td><td></td><td>0.3</td><td></td><td>100.0</td><td>100.0</td></tr>\n",
       "<tr><td><span style=\"padding-left: 0px\"><b>Blood pressure</b></span></td><td></td><td></td><td></td><td></td><td></td><td></td></tr>\n",
       "<tr><td><span style=\"padding-left: 20px\">Systolic blood pressure, mmHg</span></td><td></td><td></td><td></td><td></td><td></td><td></td></tr>\n",
       "<tr><td><span style=\"padding-left: 20px\">Diastolic blood pressure, mmHg</span></td><td></td><td></td><td></td><td></td><td>0.1</td><td></td></tr>\n",
       "<tr><td><span style=\"padding-left: 20px\">Heart rate, Beats per minute</span></td><td></td><td></td><td>0.1</td><td>1.1</td><td>0.1</td><td>2.1</td></tr>\n",
       "<tr><td><span style=\"padding-left: 20px\">Pulse pressure, mmHg</span></td><td></td><td></td><td></td><td></td><td>0.1</td><td></td></tr>\n",
       "<tr><td><span style=\"padding-left: 0px\"><b>ECG</b></span></td><td></td><td></td><td></td><td></td><td></td><td></td></tr>\n",
       "<tr><td><span style=\"padding-left: 20px\">Sokolow-Lyon index, mm</span></td><td>2.1</td><td>1.2</td><td>100.0</td><td>100.0</td><td>100.0</td><td>100.0</td></tr>\n",
       "<tr><td><span style=\"padding-left: 20px\">QRS duration, ms</span></td><td>1.2</td><td>1.2</td><td>0.3</td><td>1.1</td><td>100.0</td><td>100.0</td></tr>\n",
       "<tr><td><span style=\"padding-left: 20px\">Cornell index, mm x msec</span></td><td>2.9</td><td>1.2</td><td>100.0</td><td>100.0</td><td>100.0</td><td>100.0</td></tr>\n",
       "<tr><td><span style=\"padding-left: 0px\"><b>Biochemical measurements</b></span></td><td></td><td></td><td></td><td></td><td></td><td></td></tr>\n",
       "<tr><td><span style=\"padding-left: 20px\">Blood glucose, mmol/L</span></td><td>9.5</td><td>0.1</td><td>1.0</td><td>8.5</td><td>0.5</td><td>0.4</td></tr>\n",
       "<tr><td><span style=\"padding-left: 20px\">Total cholesterol, mmol/L</span></td><td></td><td>0.1</td><td>1.1</td><td>1.8</td><td>0.4</td><td></td></tr>\n",
       "<tr><td><span style=\"padding-left: 20px\">LDL-cholesterol, mmol/L</span></td><td>11.2</td><td>0.3</td><td>2.3</td><td>2.5</td><td>1.1</td><td></td></tr>\n",
       "<tr><td><span style=\"padding-left: 20px\">HDL-cholesterol, mmol/L</span></td><td></td><td>0.1</td><td>1.2</td><td>2.1</td><td>0.8</td><td></td></tr>\n",
       "<tr><td><span style=\"padding-left: 20px\">Triglycerides, mmol/L</span></td><td>9.3</td><td>0.1</td><td>1.1</td><td>1.8</td><td>0.5</td><td></td></tr>\n",
       "<tr><td><span style=\"padding-left: 20px\">Serum creatinine, μmol/L</span></td><td>31.9</td><td>0.1</td><td>0.9</td><td>1.4</td><td>0.5</td><td>0.1</td></tr></table>"
      ],
      "text/plain": [
       "<IPython.core.display.HTML object>"
      ]
     },
     "metadata": {},
     "output_type": "display_data"
    }
   ],
   "source": [
    "characteristics_html = get_missing_table(metadata, X, group_by_study(data, X))\n",
    "put_contents(f'{OUTPUT_PATH}/missing.html', characteristics_html)\n",
    "display_html(characteristics_html)"
   ]
  },
  {
   "cell_type": "markdown",
   "metadata": {
    "pycharm": {
     "name": "#%% md\n"
    }
   },
   "source": [
    "## Outcome"
   ]
  },
  {
   "cell_type": "code",
   "execution_count": 4,
   "metadata": {
    "scrolled": true
   },
   "outputs": [
    {
     "name": "stdout",
     "output_type": "stream",
     "text": [
      "5.403 (4.284-6.521)\n"
     ]
    }
   ],
   "source": [
    "from scipy.stats import iqr\n",
    "\n",
    "median_fu = y['data']['tte'].median() / 365\n",
    "fu_iqr = iqr(y['data']['tte']) / 365\n",
    "\n",
    "print(f'{median_fu:.3f} ({median_fu-(fu_iqr/2):.3f}-{median_fu+(fu_iqr/2):.3f})')"
   ]
  },
  {
   "cell_type": "code",
   "execution_count": 5,
   "metadata": {
    "pycharm": {
     "name": "#%%\n"
    }
   },
   "outputs": [
    {
     "name": "stderr",
     "output_type": "stream",
     "text": [
      "/home/sitnarf/.local/share/virtualenvs/homage-fl-Ms4N7PDp/lib/python3.9/site-packages/numpy/lib/nanfunctions.py:1215: RuntimeWarning: Mean of empty slice\n",
      "  return np.nanmean(a, axis, out=out, keepdims=keepdims)\n",
      "/home/sitnarf/.local/share/virtualenvs/homage-fl-Ms4N7PDp/lib/python3.9/site-packages/numpy/lib/nanfunctions.py:1215: RuntimeWarning: Mean of empty slice\n",
      "  return np.nanmean(a, axis, out=out, keepdims=keepdims)\n",
      "/home/sitnarf/.local/share/virtualenvs/homage-fl-Ms4N7PDp/lib/python3.9/site-packages/numpy/lib/nanfunctions.py:1215: RuntimeWarning: Mean of empty slice\n",
      "  return np.nanmean(a, axis, out=out, keepdims=keepdims)\n",
      "/home/sitnarf/.local/share/virtualenvs/homage-fl-Ms4N7PDp/lib/python3.9/site-packages/numpy/lib/nanfunctions.py:1215: RuntimeWarning: Mean of empty slice\n",
      "  return np.nanmean(a, axis, out=out, keepdims=keepdims)\n",
      "/home/sitnarf/.local/share/virtualenvs/homage-fl-Ms4N7PDp/lib/python3.9/site-packages/numpy/lib/nanfunctions.py:1215: RuntimeWarning: Mean of empty slice\n",
      "  return np.nanmean(a, axis, out=out, keepdims=keepdims)\n"
     ]
    },
    {
     "data": {
      "text/html": [
       "<table><tr><th></th><th>ASCOT (n=19253)</th><th>FLEMENGHO (n=1101)</th><th>HEALTHABC (n=2935)</th><th>HVC (n=436)</th><th>PREDICTOR (n=1463)</th><th>PROSPER (n=5166)</th></tr>\n",
       "<tr><td><b>Cardiovascular death</b></td><td></td><td></td><td></td><td></td><td></td><td></td></tr>\n",
       "<tr><td><span style=\"padding-left: 40px\">Events per 1000 py</span></td><td>5.70</td><td>1.92</td><td>5.53</td><td>13.90</td><td>3.52</td><td>14.56</td></tr>\n",
       "<tr><td><span style=\"padding-left: 40px\">Incidence</span></td><td>3.1%</td><td>1.8%</td><td>5.9%</td><td>2.3%</td><td>1.4%</td><td>4.7%</td></tr>\n",
       "<tr><td><span style=\"padding-left: 40px\">Events</span></td><td>605</td><td>20</td><td>173</td><td>10</td><td>20</td><td>243</td></tr>\n",
       "<tr><td><span style=\"padding-left: 40px\">Median follow-up (years)</span></td><td>5.6 (5.2-6.1)</td><td>10.3 (7.4-13.2)</td><td>12.9 (10.4-15.3)</td><td>1.1 (-0.2-2.3)</td><td>4.0 (3.3-4.6)</td><td>3.3 (3.0-3.5)</td></tr>\n",
       "<tr><td><span style=\"padding-left: 40px\">Missing</span></td><td>0.0%</td><td>0.0%</td><td>0.0%</td><td>0.0%</td><td>0.0%</td><td>0.0%</td></tr>\n",
       "<tr><td><b>Non-fatal heart failure</b></td><td></td><td></td><td></td><td></td><td></td><td></td></tr>\n",
       "<tr><td><span style=\"padding-left: 40px\">Events per 1000 py</span></td><td>2.30</td><td>2.40</td><td>19.51</td><td>15.75</td><td>5.50</td><td>11.59</td></tr>\n",
       "<tr><td><span style=\"padding-left: 40px\">Incidence</span></td><td>1.3%</td><td>1.6%</td><td>19.6%</td><td>2.5%</td><td>2.1%</td><td>3.7%</td></tr>\n",
       "<tr><td><span style=\"padding-left: 40px\">Events</span></td><td>243</td><td>18</td><td>574</td><td>11</td><td>31</td><td>191</td></tr>\n",
       "<tr><td><span style=\"padding-left: 40px\">Median follow-up (years)</span></td><td>5.6 (5.1-6.1)</td><td>6.9 (4.5-9.4)</td><td>12.0 (9.0-15.1)</td><td>1.0 (-0.1-2.1)</td><td>3.9 (3.3-4.6)</td><td>3.3 (3.0-3.5)</td></tr>\n",
       "<tr><td><span style=\"padding-left: 40px\">Missing</span></td><td>0.0%</td><td>0.0%</td><td>0.0%</td><td>0.0%</td><td>0.0%</td><td>0.0%</td></tr>\n",
       "<tr><td><b>Fatal or non-fatal heart failure</b></td><td></td><td> </td><td> </td><td> </td><td> </td><td> </td></tr>\n",
       "<tr><td><span style=\"padding-left: 40px\">Events per 1000 py</span></td><td>2.76</td><td> </td><td> </td><td> </td><td> </td><td> </td></tr>\n",
       "<tr><td><span style=\"padding-left: 40px\">Incidence</span></td><td>1.5%</td><td> </td><td> </td><td> </td><td> </td><td> </td></tr>\n",
       "<tr><td><span style=\"padding-left: 40px\">Events</span></td><td>292</td><td> </td><td> </td><td> </td><td> </td><td> </td></tr>\n",
       "<tr><td><span style=\"padding-left: 40px\">Median follow-up (years)</span></td><td>5.6 (5.1-6.1)</td><td>100.0%</td><td>100.0%</td><td>100.0%</td><td>100.0%</td><td>100.0%</td></tr></table>"
      ],
      "text/plain": [
       "<IPython.core.display.HTML object>"
      ]
     },
     "metadata": {},
     "output_type": "display_data"
    }
   ],
   "source": [
    "characteristics_html = get_events_table(metadata, group_by_study(data))\n",
    "put_contents(f'{OUTPUT_PATH}/events.html', characteristics_html)\n",
    "display_html(characteristics_html)"
   ]
  }
 ],
 "metadata": {
  "hide_input": false,
  "kernelspec": {
   "display_name": "Python 3",
   "language": "python",
   "name": "python3"
  },
  "language_info": {
   "codemirror_mode": {
    "name": "ipython",
    "version": 3
   },
   "file_extension": ".py",
   "mimetype": "text/x-python",
   "name": "python",
   "nbconvert_exporter": "python",
   "pygments_lexer": "ipython3",
   "version": "3.9.13"
  },
  "toc": {
   "base_numbering": 1,
   "nav_menu": {},
   "number_sections": true,
   "sideBar": true,
   "skip_h1_title": false,
   "title_cell": "Table of Contents",
   "title_sidebar": "Contents",
   "toc_cell": false,
   "toc_position": {},
   "toc_section_display": true,
   "toc_window_display": false
  }
 },
 "nbformat": 4,
 "nbformat_minor": 1
}
