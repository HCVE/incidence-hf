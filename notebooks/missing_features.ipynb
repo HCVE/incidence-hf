{
 "cells": [
  {
   "cell_type": "code",
   "execution_count": 1,
   "metadata": {
    "collapsed": true
   },
   "outputs": [],
   "source": [
    "from hcve_lib.utils import notebook_init\n",
    "notebook_init()\n",
    "\n",
    "from deps.common import get_variables_cached\n",
    "\n",
    "from hcve_lib.data import format_identifier\n",
    "from pprint import pprint\n",
    "from toolz import keymap\n",
    "from functools import partial\n",
    "from hcve_lib.missing import get_missing_per_cohort"
   ]
  },
  {
   "cell_type": "code",
   "execution_count": 2,
   "outputs": [],
   "source": [
    "data, metadata, X, y = get_variables_cached()"
   ],
   "metadata": {
    "collapsed": false,
    "pycharm": {
     "name": "#%%\n"
    }
   }
  },
  {
   "cell_type": "markdown",
   "source": [
    "## Missing features per cohorts exceeding threshold"
   ],
   "metadata": {
    "collapsed": false,
    "pycharm": {
     "name": "#%% md\n"
    }
   }
  },
  {
   "cell_type": "code",
   "execution_count": 10,
   "outputs": [
    {
     "name": "stdout",
     "output_type": "stream",
     "text": [
      "{'Alcohol intake': [('HVC', '1.00')],\n",
      " 'Cornell index_frame': [('HEALTHABC', '1.00'),\n",
      "                         ('HVC', '1.00'),\n",
      "                         ('PREDICTOR', '1.00'),\n",
      "                         ('PROSPER', '1.00')],\n",
      " 'History of atrial fibrillation': [('HEALTHABC', '1.00'), ('PROSPER', '1.00')],\n",
      " 'Intake of lipid-lowering medication': [('PREDICTOR', '1.00'),\n",
      "                                         ('PROSPER', '1.00')],\n",
      " 'QRS duration': [('PREDICTOR', '1.00'), ('PROSPER', '1.00')],\n",
      " 'Serum creatinine': [('ASCOT', '0.32')],\n",
      " 'Sokolow-Lyon index_frame': [('HEALTHABC', '1.00'),\n",
      "                              ('HVC', '1.00'),\n",
      "                              ('PREDICTOR', '1.00'),\n",
      "                              ('PROSPER', '1.00')]}\n"
     ]
    }
   ],
   "source": [
    "pprint(keymap(\n",
    "    partial(format_identifier, metadata=metadata),\n",
    "    get_missing_per_cohort(X, data, threshold_missing=0.2)\n",
    "))"
   ],
   "metadata": {
    "collapsed": false,
    "pycharm": {
     "name": "#%%\n"
    }
   }
  }
 ],
 "metadata": {
  "kernelspec": {
   "display_name": "Python 3",
   "language": "python",
   "name": "python3"
  },
  "language_info": {
   "codemirror_mode": {
    "name": "ipython",
    "version": 2
   },
   "file_extension": ".py",
   "mimetype": "text/x-python",
   "name": "python",
   "nbconvert_exporter": "python",
   "pygments_lexer": "ipython2",
   "version": "2.7.6"
  }
 },
 "nbformat": 4,
 "nbformat_minor": 0
}