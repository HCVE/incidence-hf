{
 "cells": [
  {
   "cell_type": "code",
   "execution_count": 2,
   "metadata": {
    "collapsed": true
   },
   "outputs": [],
   "source": [
    "from deps.data import load_raw_data\n",
    "\n",
    "raw_data = load_raw_data()"
   ]
  },
  {
   "cell_type": "code",
   "execution_count": 2,
   "outputs": [],
   "source": [
    "visit_time_offset = raw_data \\\n",
    "    .groupby('IDNR') \\\n",
    "    .filter(lambda group: len(group) > 1) \\\n",
    "    .groupby('IDNR') \\\n",
    "    .apply(lambda group: group.iloc[0]['DVISIT'] <  group.iloc[1]['DVISIT'])"
   ],
   "metadata": {
    "collapsed": false,
    "pycharm": {
     "name": "#%%\n"
    }
   }
  },
  {
   "cell_type": "code",
   "execution_count": 3,
   "outputs": [
    {
     "data": {
      "text/plain": "           IDNR      STUDY  STUDY_NUM  LOCALID      VISIT     DVISIT  \\\n22350   6000344  FLEMENGHO          6     2146   Baseline        NaT   \n22351   6000344  FLEMENGHO          6     2146  FU visit2 2010-03-08   \n40619  17000009     REVE-1         17   01/010   Baseline 2003-03-10   \n40620  17000009     REVE-2         17  BOU/001   Baseline 2002-03-29   \n40621  17000010     REVE-1         17   01/011   Baseline 2003-05-12   \n...         ...        ...        ...      ...        ...        ...   \n45501  18001937  STANISLAS         18     5167  FU visit2 1999-07-07   \n45502  18001937  STANISLAS         18     5167  FU visit4 2011-10-13   \n46091  18002197  STANISLAS         18    57211   Baseline        NaT   \n46092  18002197  STANISLAS         18    57211  FU visit2 2000-04-25   \n46093  18002197  STANISLAS         18    57211  FU visit4 2013-10-29   \n\n          DBIRTH  SEX        AGE    BW  ...   P3NP  MOS_ID  EVALUATION_ID  \\\n22350 1950-11-07  2.0  54.904860  56.0  ...  9.088     NaN            NaN   \n22351 1950-11-07  2.0  59.331964  60.1  ...    NaN     NaN            NaN   \n40619        NaT  1.0  57.000000  91.0  ...    NaN     NaN            NaN   \n40620        NaT  1.0  81.000000  70.0  ...    NaN     NaN            NaN   \n40621        NaT  1.0  50.000000  82.0  ...    NaN     NaN            NaN   \n...          ...  ...        ...   ...  ...    ...     ...            ...   \n45501 1955-04-11  2.0  44.200000  56.3  ...    NaN     NaN            NaN   \n45502 1955-04-11  2.0  56.000000  57.5  ...    NaN     NaN            NaN   \n46091 1960-02-23  1.0  35.200000  64.2  ...  6.718     NaN            NaN   \n46092 1960-02-23  1.0  40.200000  64.9  ...    NaN     NaN            NaN   \n46093 1960-02-23  1.0  53.000000  69.2  ...    NaN     NaN            NaN   \n\n       ACSP75  CAD238  HF1  HFREF103  HFREF_CKD  LVHFP  HF2  \n22350     NaN     NaN  NaN       NaN        NaN    NaN  NaN  \n22351     NaN     NaN  NaN       NaN        NaN    NaN  NaN  \n40619     NaN     NaN  NaN       NaN        NaN    NaN  NaN  \n40620     NaN     NaN  NaN       NaN        NaN    NaN  NaN  \n40621     NaN     NaN  NaN       NaN        NaN    NaN  NaN  \n...       ...     ...  ...       ...        ...    ...  ...  \n45501     NaN     NaN  NaN       NaN        NaN    NaN  NaN  \n45502     NaN     NaN  NaN       NaN        NaN    NaN  NaN  \n46091     NaN     NaN  NaN       NaN        NaN    NaN  NaN  \n46092     NaN     NaN  NaN       NaN        NaN    NaN  NaN  \n46093     NaN     NaN  NaN       NaN        NaN    NaN  NaN  \n\n[324 rows x 628 columns]",
      "text/html": "<div>\n<style scoped>\n    .dataframe tbody tr th:only-of-type {\n        vertical-align: middle;\n    }\n\n    .dataframe tbody tr th {\n        vertical-align: top;\n    }\n\n    .dataframe thead th {\n        text-align: right;\n    }\n</style>\n<table border=\"1\" class=\"dataframe\">\n  <thead>\n    <tr style=\"text-align: right;\">\n      <th></th>\n      <th>IDNR</th>\n      <th>STUDY</th>\n      <th>STUDY_NUM</th>\n      <th>LOCALID</th>\n      <th>VISIT</th>\n      <th>DVISIT</th>\n      <th>DBIRTH</th>\n      <th>SEX</th>\n      <th>AGE</th>\n      <th>BW</th>\n      <th>...</th>\n      <th>P3NP</th>\n      <th>MOS_ID</th>\n      <th>EVALUATION_ID</th>\n      <th>ACSP75</th>\n      <th>CAD238</th>\n      <th>HF1</th>\n      <th>HFREF103</th>\n      <th>HFREF_CKD</th>\n      <th>LVHFP</th>\n      <th>HF2</th>\n    </tr>\n  </thead>\n  <tbody>\n    <tr>\n      <th>22350</th>\n      <td>6000344</td>\n      <td>FLEMENGHO</td>\n      <td>6</td>\n      <td>2146</td>\n      <td>Baseline</td>\n      <td>NaT</td>\n      <td>1950-11-07</td>\n      <td>2.0</td>\n      <td>54.904860</td>\n      <td>56.0</td>\n      <td>...</td>\n      <td>9.088</td>\n      <td>NaN</td>\n      <td>NaN</td>\n      <td>NaN</td>\n      <td>NaN</td>\n      <td>NaN</td>\n      <td>NaN</td>\n      <td>NaN</td>\n      <td>NaN</td>\n      <td>NaN</td>\n    </tr>\n    <tr>\n      <th>22351</th>\n      <td>6000344</td>\n      <td>FLEMENGHO</td>\n      <td>6</td>\n      <td>2146</td>\n      <td>FU visit2</td>\n      <td>2010-03-08</td>\n      <td>1950-11-07</td>\n      <td>2.0</td>\n      <td>59.331964</td>\n      <td>60.1</td>\n      <td>...</td>\n      <td>NaN</td>\n      <td>NaN</td>\n      <td>NaN</td>\n      <td>NaN</td>\n      <td>NaN</td>\n      <td>NaN</td>\n      <td>NaN</td>\n      <td>NaN</td>\n      <td>NaN</td>\n      <td>NaN</td>\n    </tr>\n    <tr>\n      <th>40619</th>\n      <td>17000009</td>\n      <td>REVE-1</td>\n      <td>17</td>\n      <td>01/010</td>\n      <td>Baseline</td>\n      <td>2003-03-10</td>\n      <td>NaT</td>\n      <td>1.0</td>\n      <td>57.000000</td>\n      <td>91.0</td>\n      <td>...</td>\n      <td>NaN</td>\n      <td>NaN</td>\n      <td>NaN</td>\n      <td>NaN</td>\n      <td>NaN</td>\n      <td>NaN</td>\n      <td>NaN</td>\n      <td>NaN</td>\n      <td>NaN</td>\n      <td>NaN</td>\n    </tr>\n    <tr>\n      <th>40620</th>\n      <td>17000009</td>\n      <td>REVE-2</td>\n      <td>17</td>\n      <td>BOU/001</td>\n      <td>Baseline</td>\n      <td>2002-03-29</td>\n      <td>NaT</td>\n      <td>1.0</td>\n      <td>81.000000</td>\n      <td>70.0</td>\n      <td>...</td>\n      <td>NaN</td>\n      <td>NaN</td>\n      <td>NaN</td>\n      <td>NaN</td>\n      <td>NaN</td>\n      <td>NaN</td>\n      <td>NaN</td>\n      <td>NaN</td>\n      <td>NaN</td>\n      <td>NaN</td>\n    </tr>\n    <tr>\n      <th>40621</th>\n      <td>17000010</td>\n      <td>REVE-1</td>\n      <td>17</td>\n      <td>01/011</td>\n      <td>Baseline</td>\n      <td>2003-05-12</td>\n      <td>NaT</td>\n      <td>1.0</td>\n      <td>50.000000</td>\n      <td>82.0</td>\n      <td>...</td>\n      <td>NaN</td>\n      <td>NaN</td>\n      <td>NaN</td>\n      <td>NaN</td>\n      <td>NaN</td>\n      <td>NaN</td>\n      <td>NaN</td>\n      <td>NaN</td>\n      <td>NaN</td>\n      <td>NaN</td>\n    </tr>\n    <tr>\n      <th>...</th>\n      <td>...</td>\n      <td>...</td>\n      <td>...</td>\n      <td>...</td>\n      <td>...</td>\n      <td>...</td>\n      <td>...</td>\n      <td>...</td>\n      <td>...</td>\n      <td>...</td>\n      <td>...</td>\n      <td>...</td>\n      <td>...</td>\n      <td>...</td>\n      <td>...</td>\n      <td>...</td>\n      <td>...</td>\n      <td>...</td>\n      <td>...</td>\n      <td>...</td>\n      <td>...</td>\n    </tr>\n    <tr>\n      <th>45501</th>\n      <td>18001937</td>\n      <td>STANISLAS</td>\n      <td>18</td>\n      <td>5167</td>\n      <td>FU visit2</td>\n      <td>1999-07-07</td>\n      <td>1955-04-11</td>\n      <td>2.0</td>\n      <td>44.200000</td>\n      <td>56.3</td>\n      <td>...</td>\n      <td>NaN</td>\n      <td>NaN</td>\n      <td>NaN</td>\n      <td>NaN</td>\n      <td>NaN</td>\n      <td>NaN</td>\n      <td>NaN</td>\n      <td>NaN</td>\n      <td>NaN</td>\n      <td>NaN</td>\n    </tr>\n    <tr>\n      <th>45502</th>\n      <td>18001937</td>\n      <td>STANISLAS</td>\n      <td>18</td>\n      <td>5167</td>\n      <td>FU visit4</td>\n      <td>2011-10-13</td>\n      <td>1955-04-11</td>\n      <td>2.0</td>\n      <td>56.000000</td>\n      <td>57.5</td>\n      <td>...</td>\n      <td>NaN</td>\n      <td>NaN</td>\n      <td>NaN</td>\n      <td>NaN</td>\n      <td>NaN</td>\n      <td>NaN</td>\n      <td>NaN</td>\n      <td>NaN</td>\n      <td>NaN</td>\n      <td>NaN</td>\n    </tr>\n    <tr>\n      <th>46091</th>\n      <td>18002197</td>\n      <td>STANISLAS</td>\n      <td>18</td>\n      <td>57211</td>\n      <td>Baseline</td>\n      <td>NaT</td>\n      <td>1960-02-23</td>\n      <td>1.0</td>\n      <td>35.200000</td>\n      <td>64.2</td>\n      <td>...</td>\n      <td>6.718</td>\n      <td>NaN</td>\n      <td>NaN</td>\n      <td>NaN</td>\n      <td>NaN</td>\n      <td>NaN</td>\n      <td>NaN</td>\n      <td>NaN</td>\n      <td>NaN</td>\n      <td>NaN</td>\n    </tr>\n    <tr>\n      <th>46092</th>\n      <td>18002197</td>\n      <td>STANISLAS</td>\n      <td>18</td>\n      <td>57211</td>\n      <td>FU visit2</td>\n      <td>2000-04-25</td>\n      <td>1960-02-23</td>\n      <td>1.0</td>\n      <td>40.200000</td>\n      <td>64.9</td>\n      <td>...</td>\n      <td>NaN</td>\n      <td>NaN</td>\n      <td>NaN</td>\n      <td>NaN</td>\n      <td>NaN</td>\n      <td>NaN</td>\n      <td>NaN</td>\n      <td>NaN</td>\n      <td>NaN</td>\n      <td>NaN</td>\n    </tr>\n    <tr>\n      <th>46093</th>\n      <td>18002197</td>\n      <td>STANISLAS</td>\n      <td>18</td>\n      <td>57211</td>\n      <td>FU visit4</td>\n      <td>2013-10-29</td>\n      <td>1960-02-23</td>\n      <td>1.0</td>\n      <td>53.000000</td>\n      <td>69.2</td>\n      <td>...</td>\n      <td>NaN</td>\n      <td>NaN</td>\n      <td>NaN</td>\n      <td>NaN</td>\n      <td>NaN</td>\n      <td>NaN</td>\n      <td>NaN</td>\n      <td>NaN</td>\n      <td>NaN</td>\n      <td>NaN</td>\n    </tr>\n  </tbody>\n</table>\n<p>324 rows × 628 columns</p>\n</div>"
     },
     "execution_count": 3,
     "metadata": {},
     "output_type": "execute_result"
    }
   ],
   "source": [
    "raw_data[raw_data['IDNR'].isin(visit_time_offset[visit_time_offset == False].index_data)]"
   ],
   "metadata": {
    "collapsed": false,
    "pycharm": {
     "name": "#%%\n"
    }
   }
  },
  {
   "cell_type": "code",
   "execution_count": 4,
   "outputs": [
    {
     "data": {
      "text/plain": "<Figure size 432x288 with 1 Axes>",
      "image/png": "[encoded data removed]"
     },
     "metadata": {
      "needs_background": "light"
     },
     "output_type": "display_data"
    }
   ],
   "source": [
    "\n",
    "from matplotlib import pyplot\n",
    "\n",
    "g = raw_data.groupby('IDNR')\n",
    "\n",
    "visit_time_offset = g \\\n",
    "    .filter(lambda group: len(group) > 1) \\\n",
    "    .groupby('IDNR') \\\n",
    "    .apply(lambda group: group.iloc[1]['DVISIT'] - group.iloc[0]['DVISIT']) \\\n",
    "\n",
    "visit_time_offset.astype('timedelta64[Y]').hist()\n",
    "pyplot.title('Time difference between visits histogram')\n",
    "pyplot.xlabel('Years')\n",
    "pyplot.ylabel('Count')\n",
    "pyplot.show()"
   ],
   "metadata": {
    "collapsed": false,
    "pycharm": {
     "name": "#%%\n"
    }
   }
  },
  {
   "cell_type": "code",
   "execution_count": null,
   "outputs": [],
   "source": [
    "# from hcve_lib.data import format_features_and_values, format_values\n",
    "# import pandas\n",
    "# import plotly.graph_objects as go\n",
    "#\n",
    "# data_formatted = format_values(data, metadata)\n",
    "# df = data_formatted.groupby([data_formatted['STUDY_NUM'], pandas.cut(data['AGE'], 60, precision=0)])\n",
    "# df = df.size().unstack().apply(lambda s: s,axis=1)\n",
    "#\n",
    "# y_ticks = list(df.index_data)\n",
    "# x_ticks = [ c.left for c in df.columns]\n",
    "#\n",
    "# fig = go.Figure(data=[go.Surface(x=x_ticks, y=y_ticks, z=df, showscale = False)])\n",
    "#\n",
    "# fig.update_layout(\n",
    "#     autosize=True,\n",
    "#     font={\n",
    "#         'size': 13,\n",
    "#     },\n",
    "#     width=700,\n",
    "#     height=600,\n",
    "#     scene=dict(\n",
    "#         xaxis_title=format_identifier('AGE', metadata),\n",
    "#         yaxis_title='Study',\n",
    "#         zaxis_title='Probability mass (given year)',\n",
    "#     ),\n",
    "#     scene_camera=dict(\n",
    "#         up=dict(x=5, y=0, z=10),\n",
    "#         center=dict(x=0, y=0, z=-0.15),\n",
    "#         eye=dict(x=1.3, y=1.3, z=1.3)\n",
    "#     ),\n",
    "#     margin=go.layout.Margin(l=0, r=0, b=0, t=0)\n",
    "# )\n",
    "# fig.update_yaxes(type='category')\n",
    "# fig.show()"
   ],
   "metadata": {
    "collapsed": false,
    "pycharm": {
     "name": "#%%\n"
    }
   }
  },
  {
   "cell_type": "code",
   "execution_count": null,
   "outputs": [],
   "source": [
    "def get_cohort(X, data, cohort_name):\n",
    "    selected_index = data[(data['STUDY'] == cohort_name)].index\n",
    "    X_selected = X.loc[selected_index]\n",
    "    return X_selected"
   ],
   "metadata": {
    "collapsed": false,
    "pycharm": {
     "name": "#%%\n"
    }
   }
  },
  {
   "cell_type": "markdown",
   "source": [
    "# LM ASCOT"
   ],
   "metadata": {
    "collapsed": false
   }
  },
  {
   "cell_type": "code",
   "execution_count": null,
   "outputs": [],
   "source": [
    "from pipelines import get_pipelines\n",
    "\n",
    "coxnet = get_pipelines()['coxnet']\n",
    "\n",
    "\n",
    "X_train = get_cohort(X, data, 'ASCOT')\n",
    "y_train = {**y, 'data': y['data'].loc[X_train.index]}\n",
    "\n",
    "test_index = data[(data['STUDY'] != 'ASCOT')].index\n",
    "X_test = X.loc[test_index]\n",
    "y_test = {**y, 'data': y['data'].loc[test_index]}"
   ],
   "metadata": {
    "collapsed": false,
    "pycharm": {
     "name": "#%%\n"
    }
   }
  },
  {
   "cell_type": "code",
   "execution_count": null,
   "outputs": [],
   "source": [
    "pipeline = coxnet.get_estimator(X, verbose=True)\n",
    "pipeline.fit(X_train, y_train)"
   ],
   "metadata": {
    "collapsed": false,
    "pycharm": {
     "name": "#%%\n"
    }
   }
  },
  {
   "cell_type": "code",
   "execution_count": null,
   "outputs": [],
   "source": [
    "from pandas import Series\n",
    "\n",
    "y_predict = Series(pipeline.predict(X_test), index=y_test['data'].index)"
   ],
   "metadata": {
    "collapsed": false,
    "pycharm": {
     "name": "#%%\n"
    }
   }
  },
  {
   "cell_type": "code",
   "execution_count": null,
   "outputs": [],
   "source": [
    "from sksurv.metrics import concordance_index_censored\n",
    "\n",
    "concordance_index_censored(\n",
    "    y_test['data']['label'].astype(bool),\n",
    "    y_test['data']['tte'],\n",
    "    y_predict\n",
    ")"
   ],
   "metadata": {
    "collapsed": false,
    "pycharm": {
     "name": "#%%\n"
    }
   }
  },
  {
   "cell_type": "code",
   "execution_count": null,
   "outputs": [],
   "source": [
    "y_test['data']['label'].astype(bool)"
   ],
   "metadata": {
    "collapsed": false,
    "pycharm": {
     "name": "#%%\n"
    }
   }
  },
  {
   "cell_type": "code",
   "execution_count": null,
   "outputs": [],
   "source": [
    "y_predict.value_counts()\n",
    "\n",
    "# LCO ASCOT"
   ],
   "metadata": {
    "collapsed": false,
    "pycharm": {
     "name": "#%%\n"
    }
   }
  },
  {
   "cell_type": "code",
   "execution_count": null,
   "outputs": [],
   "source": [
    "from pipelines import get_pipelines\n",
    "from pandas import Series\n",
    "\n",
    "coxnet = get_pipelines()['coxnet']\n",
    "\n",
    "X_test = get_cohort(X, data, 'ASCOT')\n",
    "y_test = {**y, 'data': y['data'].loc[X_test.index]}\n",
    "\n",
    "train_index = data[(data['STUDY'] != 'ASCOT')].index\n",
    "X_train = X.loc[train_index]\n",
    "y_train = {**y, 'data': y['data'].loc[train_index]}\n",
    "\n",
    "pipeline = coxnet.get_estimator(X, verbose=True)\n",
    "pipeline.fit(X_train, y_train);"
   ],
   "metadata": {
    "collapsed": false,
    "pycharm": {
     "name": "#%%\n"
    }
   }
  },
  {
   "cell_type": "code",
   "execution_count": null,
   "outputs": [],
   "source": [
    "y_predict = Series(pipeline.predict(X_test), index=y_test['data'].index)\n",
    "\n",
    "from sksurv.metrics import concordance_index_censored\n",
    "\n",
    "print(concordance_index_censored(\n",
    "    y_test['data']['label'].astype(bool),\n",
    "    y_test['data']['tte'],\n",
    "    y_predict\n",
    "))"
   ],
   "metadata": {
    "collapsed": false,
    "pycharm": {
     "name": "#%%\n"
    }
   }
  },
  {
   "cell_type": "code",
   "execution_count": null,
   "outputs": [],
   "source": [
    "y_test['data']['label'].astype(bool)"
   ],
   "metadata": {
    "collapsed": false,
    "pycharm": {
     "name": "#%%\n"
    }
   }
  },
  {
   "cell_type": "code",
   "execution_count": null,
   "outputs": [],
   "source": [
    "y_predict.hist(bins=40)"
   ],
   "metadata": {
    "collapsed": false,
    "pycharm": {
     "name": "#%%\n"
    }
   }
  },
  {
   "cell_type": "markdown",
   "source": [
    "When using only ASCOT for training the prediction is not working, many same value scores\n"
   ],
   "metadata": {
    "collapsed": false
   }
  },
  {
   "cell_type": "code",
   "execution_count": null,
   "outputs": [],
   "source": [
    "from hcve_lib.data import format_identifier, format_features_and_values\n",
    "\n",
    "\n",
    "def plot_coefficients(coefs, n_highlight):\n",
    "    _, ax = pyplot.subplots(figsize=(9, 6))\n",
    "    n_features = coefs.shape[0]\n",
    "    alphas = coefs.columns\n",
    "    for row in coefs.itertuples():\n",
    "        ax.semilogx(alphas, row[1:], \".-\", label=row.Index)\n",
    "\n",
    "    alpha_min = alphas.min()\n",
    "    top_coefs = coefs.loc[:, alpha_min].map(abs).sort_values().tail(n_highlight)\n",
    "    for name in top_coefs.index:\n",
    "        coef = coefs.loc[name, alpha_min]\n",
    "        pyplot.text(\n",
    "            alpha_min, coef, name + \"   \",\n",
    "            horizontalalignment=\"right\",\n",
    "            verticalalignment=\"center\"\n",
    "        )\n",
    "\n",
    "    ax.yaxis.set_label_position(\"right\")\n",
    "    ax.yaxis.tick_right()\n",
    "    ax.grid(True)\n",
    "    ax.set_xlabel(\"alpha\")\n",
    "    ax.set_ylabel(\"coefficient\")\n",
    "\n",
    "cox_elastic_net = pipeline[-1].inner\n",
    "coefficients_elastic_net = DataFrame(\n",
    "    cox_elastic_net.coef_,\n",
    "    index=format_features_and_values(X_train, metadata).columns,\n",
    "    columns=np.round(cox_elastic_net.alphas_, 5)\n",
    ")\n",
    "\n",
    "plot_coefficients(coefficients_elastic_net, n_highlight=5)"
   ],
   "metadata": {
    "collapsed": false,
    "pycharm": {
     "name": "#%%\n"
    }
   }
  },
  {
   "cell_type": "code",
   "execution_count": null,
   "outputs": [],
   "source": [
    "def test_score(*args, **kwargs):\n",
    "    print(args)\n",
    "    print(kwargs)\n",
    "    ..."
   ],
   "metadata": {
    "collapsed": false,
    "pycharm": {
     "name": "#%%\n"
    }
   }
  },
  {
   "cell_type": "code",
   "execution_count": null,
   "outputs": [],
   "source": [
    "from pipelines import get_pipelines\n",
    "\n",
    "coxnet = get_pipelines()['coxnet']\n",
    "\n",
    "\n",
    "X_train = get_cohort(X, data, 'ASCOT')\n",
    "y_train = {**y, 'data': y['data'].loc[X_train.index]}\n",
    "\n",
    "test_index = data[(data['STUDY'] != 'ASCOT')].index\n",
    "X_test = X.loc[test_index]\n",
    "y_test = {**y, 'data': y['data'].loc[test_index]}\n",
    "\n",
    "alphas = []\n",
    "c_indexes = []\n",
    "for alpha in pipeline[-1].inner.alphas_:\n",
    "    pipeline.fit(X_train, y_train)\n",
    "    y_predict = Series(pipeline.predict(X_test, alpha=alpha), index=y_test['data'].index)\n",
    "    alphas.append(alpha)\n",
    "    c_indexes.append(concordance_index_censored(\n",
    "        y_test['data']['label'].astype(bool),\n",
    "        y_test['data']['tte'],\n",
    "        y_predict\n",
    "    )[0])"
   ],
   "metadata": {
    "collapsed": false,
    "pycharm": {
     "name": "#%%\n"
    }
   }
  },
  {
   "cell_type": "code",
   "execution_count": null,
   "outputs": [],
   "source": [
    "pyplot.plot(alphas, c_indexes)\n"
   ],
   "metadata": {
    "collapsed": false,
    "pycharm": {
     "name": "#%%\n"
    }
   }
  },
  {
   "cell_type": "code",
   "execution_count": 17,
   "outputs": [
    {
     "data": {
      "text/plain": "         SEX        AGE     BW     BH        BMI  SMK  DRK DIABETES  HCV HCAD  \\\nIDNR                                                                            \n2000001  1.0  67.572895  100.3  173.0  33.512647  1.0  1.0      0.0  0.0  0.0   \n2000002  1.0  50.828200   83.1  173.0  27.765712  2.0  1.0      1.0  0.0  0.0   \n2000003  1.0  74.203970   74.0  167.0  26.533759  0.0  1.0      0.0  0.0  0.0   \n2000004  1.0  67.857632   87.0  188.0  24.615211  2.0  1.0      1.0  1.0  0.0   \n2000005  2.0  73.240246   59.0  162.0  22.481329  1.0  1.0      1.0  1.0  0.0   \n...      ...        ...    ...    ...        ...  ...  ...      ...  ...  ...   \n624474   2.0  49.772727   90.1  162.5  34.120710  0.0  0.0      0.0  0.0  0.0   \n624475   1.0  53.277656   83.9  186.0  24.251359  0.0  1.0      0.0  0.0  0.0   \n624478   1.0  47.866922   77.4  182.0  23.366743  0.0  0.0      0.0  0.0  0.0   \n624479   2.0  35.950164   85.5  164.0  31.789114  0.0  0.0      0.0  0.0  0.0   \n624480   1.0  41.741512   96.8  179.0  30.211292  1.0  0.0      0.0  0.0  0.0   \n\n         ...    PP   SOK   QRS      CI       GLU      CHOL       LDL  \\\nIDNR     ...                                                           \n2000001  ...  42.5  18.5  90.0  1440.0   5.60000  2.900000  1.185000   \n2000002  ...  42.5  19.5  86.0  1763.0   6.90000  6.000000  3.215000   \n2000003  ...  88.0  27.0  90.0  1845.0   5.80000  6.500000  4.195000   \n2000004  ...  79.0  20.5  90.0  1215.0       NaN  5.000000       NaN   \n2000005  ...  80.0  26.0  80.0  1840.0  14.20000  5.700000  3.305000   \n...      ...   ...   ...   ...     ...       ...       ...       ...   \n624474   ...  51.6  17.2  80.0  1080.0   3.99672  4.060310  2.405152   \n624475   ...  30.8  38.6  94.0  1287.8   4.66284  4.784442  2.741356   \n624478   ...  32.0  20.8  90.0  1179.0   4.55182  3.439626  1.965500   \n624479   ...  50.4  15.3  90.0   810.0   3.99672  5.612021  2.793079   \n624480   ...  39.2  17.8  86.0   980.4   4.49631  5.999948  3.749968   \n\n              HDL       TG     CREA  \nIDNR                                 \n2000001  1.400000  0.70000      NaN  \n2000002  1.300000  3.30000  124.000  \n2000003  1.900000  0.90000   94.000  \n2000004  0.900000      NaN  102.000  \n2000005  1.000000  3.10000  100.000  \n...           ...      ...      ...  \n624474   1.008612  1.38867   68.068  \n624475   1.706882  0.74514   77.792  \n624478   1.086198  0.82417   82.212  \n624479   2.301704  1.14029   53.924  \n624480   1.215507  2.26929   64.532  \n\n[31559 rows x 33 columns]",
      "text/html": "<div>\n<style scoped>\n    .dataframe tbody tr th:only-of-type {\n        vertical-align: middle;\n    }\n\n    .dataframe tbody tr th {\n        vertical-align: top;\n    }\n\n    .dataframe thead th {\n        text-align: right;\n    }\n</style>\n<table border=\"1\" class=\"dataframe\">\n  <thead>\n    <tr style=\"text-align: right;\">\n      <th></th>\n      <th>SEX</th>\n      <th>AGE</th>\n      <th>BW</th>\n      <th>BH</th>\n      <th>BMI</th>\n      <th>SMK</th>\n      <th>DRK</th>\n      <th>DIABETES</th>\n      <th>HCV</th>\n      <th>HCAD</th>\n      <th>...</th>\n      <th>PP</th>\n      <th>SOK</th>\n      <th>QRS</th>\n      <th>CI</th>\n      <th>GLU</th>\n      <th>CHOL</th>\n      <th>LDL</th>\n      <th>HDL</th>\n      <th>TG</th>\n      <th>CREA</th>\n    </tr>\n    <tr>\n      <th>IDNR</th>\n      <th></th>\n      <th></th>\n      <th></th>\n      <th></th>\n      <th></th>\n      <th></th>\n      <th></th>\n      <th></th>\n      <th></th>\n      <th></th>\n      <th></th>\n      <th></th>\n      <th></th>\n      <th></th>\n      <th></th>\n      <th></th>\n      <th></th>\n      <th></th>\n      <th></th>\n      <th></th>\n      <th></th>\n    </tr>\n  </thead>\n  <tbody>\n    <tr>\n      <th>2000001</th>\n      <td>1.0</td>\n      <td>67.572895</td>\n      <td>100.3</td>\n      <td>173.0</td>\n      <td>33.512647</td>\n      <td>1.0</td>\n      <td>1.0</td>\n      <td>0.0</td>\n      <td>0.0</td>\n      <td>0.0</td>\n      <td>...</td>\n      <td>42.5</td>\n      <td>18.5</td>\n      <td>90.0</td>\n      <td>1440.0</td>\n      <td>5.60000</td>\n      <td>2.900000</td>\n      <td>1.185000</td>\n      <td>1.400000</td>\n      <td>0.70000</td>\n      <td>NaN</td>\n    </tr>\n    <tr>\n      <th>2000002</th>\n      <td>1.0</td>\n      <td>50.828200</td>\n      <td>83.1</td>\n      <td>173.0</td>\n      <td>27.765712</td>\n      <td>2.0</td>\n      <td>1.0</td>\n      <td>1.0</td>\n      <td>0.0</td>\n      <td>0.0</td>\n      <td>...</td>\n      <td>42.5</td>\n      <td>19.5</td>\n      <td>86.0</td>\n      <td>1763.0</td>\n      <td>6.90000</td>\n      <td>6.000000</td>\n      <td>3.215000</td>\n      <td>1.300000</td>\n      <td>3.30000</td>\n      <td>124.000</td>\n    </tr>\n    <tr>\n      <th>2000003</th>\n      <td>1.0</td>\n      <td>74.203970</td>\n      <td>74.0</td>\n      <td>167.0</td>\n      <td>26.533759</td>\n      <td>0.0</td>\n      <td>1.0</td>\n      <td>0.0</td>\n      <td>0.0</td>\n      <td>0.0</td>\n      <td>...</td>\n      <td>88.0</td>\n      <td>27.0</td>\n      <td>90.0</td>\n      <td>1845.0</td>\n      <td>5.80000</td>\n      <td>6.500000</td>\n      <td>4.195000</td>\n      <td>1.900000</td>\n      <td>0.90000</td>\n      <td>94.000</td>\n    </tr>\n    <tr>\n      <th>2000004</th>\n      <td>1.0</td>\n      <td>67.857632</td>\n      <td>87.0</td>\n      <td>188.0</td>\n      <td>24.615211</td>\n      <td>2.0</td>\n      <td>1.0</td>\n      <td>1.0</td>\n      <td>1.0</td>\n      <td>0.0</td>\n      <td>...</td>\n      <td>79.0</td>\n      <td>20.5</td>\n      <td>90.0</td>\n      <td>1215.0</td>\n      <td>NaN</td>\n      <td>5.000000</td>\n      <td>NaN</td>\n      <td>0.900000</td>\n      <td>NaN</td>\n      <td>102.000</td>\n    </tr>\n    <tr>\n      <th>2000005</th>\n      <td>2.0</td>\n      <td>73.240246</td>\n      <td>59.0</td>\n      <td>162.0</td>\n      <td>22.481329</td>\n      <td>1.0</td>\n      <td>1.0</td>\n      <td>1.0</td>\n      <td>1.0</td>\n      <td>0.0</td>\n      <td>...</td>\n      <td>80.0</td>\n      <td>26.0</td>\n      <td>80.0</td>\n      <td>1840.0</td>\n      <td>14.20000</td>\n      <td>5.700000</td>\n      <td>3.305000</td>\n      <td>1.000000</td>\n      <td>3.10000</td>\n      <td>100.000</td>\n    </tr>\n    <tr>\n      <th>...</th>\n      <td>...</td>\n      <td>...</td>\n      <td>...</td>\n      <td>...</td>\n      <td>...</td>\n      <td>...</td>\n      <td>...</td>\n      <td>...</td>\n      <td>...</td>\n      <td>...</td>\n      <td>...</td>\n      <td>...</td>\n      <td>...</td>\n      <td>...</td>\n      <td>...</td>\n      <td>...</td>\n      <td>...</td>\n      <td>...</td>\n      <td>...</td>\n      <td>...</td>\n      <td>...</td>\n    </tr>\n    <tr>\n      <th>624474</th>\n      <td>2.0</td>\n      <td>49.772727</td>\n      <td>90.1</td>\n      <td>162.5</td>\n      <td>34.120710</td>\n      <td>0.0</td>\n      <td>0.0</td>\n      <td>0.0</td>\n      <td>0.0</td>\n      <td>0.0</td>\n      <td>...</td>\n      <td>51.6</td>\n      <td>17.2</td>\n      <td>80.0</td>\n      <td>1080.0</td>\n      <td>3.99672</td>\n      <td>4.060310</td>\n      <td>2.405152</td>\n      <td>1.008612</td>\n      <td>1.38867</td>\n      <td>68.068</td>\n    </tr>\n    <tr>\n      <th>624475</th>\n      <td>1.0</td>\n      <td>53.277656</td>\n      <td>83.9</td>\n      <td>186.0</td>\n      <td>24.251359</td>\n      <td>0.0</td>\n      <td>1.0</td>\n      <td>0.0</td>\n      <td>0.0</td>\n      <td>0.0</td>\n      <td>...</td>\n      <td>30.8</td>\n      <td>38.6</td>\n      <td>94.0</td>\n      <td>1287.8</td>\n      <td>4.66284</td>\n      <td>4.784442</td>\n      <td>2.741356</td>\n      <td>1.706882</td>\n      <td>0.74514</td>\n      <td>77.792</td>\n    </tr>\n    <tr>\n      <th>624478</th>\n      <td>1.0</td>\n      <td>47.866922</td>\n      <td>77.4</td>\n      <td>182.0</td>\n      <td>23.366743</td>\n      <td>0.0</td>\n      <td>0.0</td>\n      <td>0.0</td>\n      <td>0.0</td>\n      <td>0.0</td>\n      <td>...</td>\n      <td>32.0</td>\n      <td>20.8</td>\n      <td>90.0</td>\n      <td>1179.0</td>\n      <td>4.55182</td>\n      <td>3.439626</td>\n      <td>1.965500</td>\n      <td>1.086198</td>\n      <td>0.82417</td>\n      <td>82.212</td>\n    </tr>\n    <tr>\n      <th>624479</th>\n      <td>2.0</td>\n      <td>35.950164</td>\n      <td>85.5</td>\n      <td>164.0</td>\n      <td>31.789114</td>\n      <td>0.0</td>\n      <td>0.0</td>\n      <td>0.0</td>\n      <td>0.0</td>\n      <td>0.0</td>\n      <td>...</td>\n      <td>50.4</td>\n      <td>15.3</td>\n      <td>90.0</td>\n      <td>810.0</td>\n      <td>3.99672</td>\n      <td>5.612021</td>\n      <td>2.793079</td>\n      <td>2.301704</td>\n      <td>1.14029</td>\n      <td>53.924</td>\n    </tr>\n    <tr>\n      <th>624480</th>\n      <td>1.0</td>\n      <td>41.741512</td>\n      <td>96.8</td>\n      <td>179.0</td>\n      <td>30.211292</td>\n      <td>1.0</td>\n      <td>0.0</td>\n      <td>0.0</td>\n      <td>0.0</td>\n      <td>0.0</td>\n      <td>...</td>\n      <td>39.2</td>\n      <td>17.8</td>\n      <td>86.0</td>\n      <td>980.4</td>\n      <td>4.49631</td>\n      <td>5.999948</td>\n      <td>3.749968</td>\n      <td>1.215507</td>\n      <td>2.26929</td>\n      <td>64.532</td>\n    </tr>\n  </tbody>\n</table>\n<p>31559 rows × 33 columns</p>\n</div>"
     },
     "metadata": {},
     "output_type": "display_data"
    },
    {
     "data": {
      "text/plain": "         SEX  AGE  BW  BH  BMI  SMK  DRK  DIABETES  HCV  HCAD  ...  PP  SOK  \\\nIDNR                                                           ...            \n2000001    0    4   8   5    7    1    1         0    0     0  ...   0    2   \n2000002    0    0   5   5    4    2    1         1    0     0  ...   0    2   \n2000003    0    6   3   3    3    0    1         0    0     0  ...   7    6   \n2000004    0    4   6   8    2    2    1         1    1     0  ...   6    3   \n2000005    1    6   0   1    0    1    1         1    1     0  ...   6    5   \n...      ...  ...  ..  ..  ...  ...  ...       ...  ...   ...  ...  ..  ...   \n624474     1    0   6   2    8    0    0         0    0     0  ...   1    1   \n624475     0    0   5   8    1    0    1         0    0     0  ...   0    8   \n624478     0    0   3   8    1    0    0         0    0     0  ...   0    3   \n624479     1    0   5   2    7    0    0         0    0     0  ...   1    1   \n624480     0    0   7   7    6    1    0         0    0     0  ...   0    2   \n\n         QRS  CI  GLU  CHOL  LDL  HDL  TG  CREA  \nIDNR                                             \n2000001    3   3    5     0    0    5   0     9  \n2000002    2   5    7     5    3    4   8     8  \n2000003    3   5    5     6    6    8   1     4  \n2000004    3   2    9     2    9    0   9     5  \n2000005    0   5    8     4    3    1   8     5  \n...      ...  ..  ...   ...  ...  ...  ..   ...  \n624474     0   1    0     0    0    2   3     0  \n624475     4   2    1     1    1    7   0     1  \n624478     3   2    0     0    0    2   0     2  \n624479     3   0    0     4    1    8   2     0  \n624480     2   1    0     5    5    4   7     0  \n\n[31559 rows x 33 columns]",
      "text/html": "<div>\n<style scoped>\n    .dataframe tbody tr th:only-of-type {\n        vertical-align: middle;\n    }\n\n    .dataframe tbody tr th {\n        vertical-align: top;\n    }\n\n    .dataframe thead th {\n        text-align: right;\n    }\n</style>\n<table border=\"1\" class=\"dataframe\">\n  <thead>\n    <tr style=\"text-align: right;\">\n      <th></th>\n      <th>SEX</th>\n      <th>AGE</th>\n      <th>BW</th>\n      <th>BH</th>\n      <th>BMI</th>\n      <th>SMK</th>\n      <th>DRK</th>\n      <th>DIABETES</th>\n      <th>HCV</th>\n      <th>HCAD</th>\n      <th>...</th>\n      <th>PP</th>\n      <th>SOK</th>\n      <th>QRS</th>\n      <th>CI</th>\n      <th>GLU</th>\n      <th>CHOL</th>\n      <th>LDL</th>\n      <th>HDL</th>\n      <th>TG</th>\n      <th>CREA</th>\n    </tr>\n    <tr>\n      <th>IDNR</th>\n      <th></th>\n      <th></th>\n      <th></th>\n      <th></th>\n      <th></th>\n      <th></th>\n      <th></th>\n      <th></th>\n      <th></th>\n      <th></th>\n      <th></th>\n      <th></th>\n      <th></th>\n      <th></th>\n      <th></th>\n      <th></th>\n      <th></th>\n      <th></th>\n      <th></th>\n      <th></th>\n      <th></th>\n    </tr>\n  </thead>\n  <tbody>\n    <tr>\n      <th>2000001</th>\n      <td>0</td>\n      <td>4</td>\n      <td>8</td>\n      <td>5</td>\n      <td>7</td>\n      <td>1</td>\n      <td>1</td>\n      <td>0</td>\n      <td>0</td>\n      <td>0</td>\n      <td>...</td>\n      <td>0</td>\n      <td>2</td>\n      <td>3</td>\n      <td>3</td>\n      <td>5</td>\n      <td>0</td>\n      <td>0</td>\n      <td>5</td>\n      <td>0</td>\n      <td>9</td>\n    </tr>\n    <tr>\n      <th>2000002</th>\n      <td>0</td>\n      <td>0</td>\n      <td>5</td>\n      <td>5</td>\n      <td>4</td>\n      <td>2</td>\n      <td>1</td>\n      <td>1</td>\n      <td>0</td>\n      <td>0</td>\n      <td>...</td>\n      <td>0</td>\n      <td>2</td>\n      <td>2</td>\n      <td>5</td>\n      <td>7</td>\n      <td>5</td>\n      <td>3</td>\n      <td>4</td>\n      <td>8</td>\n      <td>8</td>\n    </tr>\n    <tr>\n      <th>2000003</th>\n      <td>0</td>\n      <td>6</td>\n      <td>3</td>\n      <td>3</td>\n      <td>3</td>\n      <td>0</td>\n      <td>1</td>\n      <td>0</td>\n      <td>0</td>\n      <td>0</td>\n      <td>...</td>\n      <td>7</td>\n      <td>6</td>\n      <td>3</td>\n      <td>5</td>\n      <td>5</td>\n      <td>6</td>\n      <td>6</td>\n      <td>8</td>\n      <td>1</td>\n      <td>4</td>\n    </tr>\n    <tr>\n      <th>2000004</th>\n      <td>0</td>\n      <td>4</td>\n      <td>6</td>\n      <td>8</td>\n      <td>2</td>\n      <td>2</td>\n      <td>1</td>\n      <td>1</td>\n      <td>1</td>\n      <td>0</td>\n      <td>...</td>\n      <td>6</td>\n      <td>3</td>\n      <td>3</td>\n      <td>2</td>\n      <td>9</td>\n      <td>2</td>\n      <td>9</td>\n      <td>0</td>\n      <td>9</td>\n      <td>5</td>\n    </tr>\n    <tr>\n      <th>2000005</th>\n      <td>1</td>\n      <td>6</td>\n      <td>0</td>\n      <td>1</td>\n      <td>0</td>\n      <td>1</td>\n      <td>1</td>\n      <td>1</td>\n      <td>1</td>\n      <td>0</td>\n      <td>...</td>\n      <td>6</td>\n      <td>5</td>\n      <td>0</td>\n      <td>5</td>\n      <td>8</td>\n      <td>4</td>\n      <td>3</td>\n      <td>1</td>\n      <td>8</td>\n      <td>5</td>\n    </tr>\n    <tr>\n      <th>...</th>\n      <td>...</td>\n      <td>...</td>\n      <td>...</td>\n      <td>...</td>\n      <td>...</td>\n      <td>...</td>\n      <td>...</td>\n      <td>...</td>\n      <td>...</td>\n      <td>...</td>\n      <td>...</td>\n      <td>...</td>\n      <td>...</td>\n      <td>...</td>\n      <td>...</td>\n      <td>...</td>\n      <td>...</td>\n      <td>...</td>\n      <td>...</td>\n      <td>...</td>\n      <td>...</td>\n    </tr>\n    <tr>\n      <th>624474</th>\n      <td>1</td>\n      <td>0</td>\n      <td>6</td>\n      <td>2</td>\n      <td>8</td>\n      <td>0</td>\n      <td>0</td>\n      <td>0</td>\n      <td>0</td>\n      <td>0</td>\n      <td>...</td>\n      <td>1</td>\n      <td>1</td>\n      <td>0</td>\n      <td>1</td>\n      <td>0</td>\n      <td>0</td>\n      <td>0</td>\n      <td>2</td>\n      <td>3</td>\n      <td>0</td>\n    </tr>\n    <tr>\n      <th>624475</th>\n      <td>0</td>\n      <td>0</td>\n      <td>5</td>\n      <td>8</td>\n      <td>1</td>\n      <td>0</td>\n      <td>1</td>\n      <td>0</td>\n      <td>0</td>\n      <td>0</td>\n      <td>...</td>\n      <td>0</td>\n      <td>8</td>\n      <td>4</td>\n      <td>2</td>\n      <td>1</td>\n      <td>1</td>\n      <td>1</td>\n      <td>7</td>\n      <td>0</td>\n      <td>1</td>\n    </tr>\n    <tr>\n      <th>624478</th>\n      <td>0</td>\n      <td>0</td>\n      <td>3</td>\n      <td>8</td>\n      <td>1</td>\n      <td>0</td>\n      <td>0</td>\n      <td>0</td>\n      <td>0</td>\n      <td>0</td>\n      <td>...</td>\n      <td>0</td>\n      <td>3</td>\n      <td>3</td>\n      <td>2</td>\n      <td>0</td>\n      <td>0</td>\n      <td>0</td>\n      <td>2</td>\n      <td>0</td>\n      <td>2</td>\n    </tr>\n    <tr>\n      <th>624479</th>\n      <td>1</td>\n      <td>0</td>\n      <td>5</td>\n      <td>2</td>\n      <td>7</td>\n      <td>0</td>\n      <td>0</td>\n      <td>0</td>\n      <td>0</td>\n      <td>0</td>\n      <td>...</td>\n      <td>1</td>\n      <td>1</td>\n      <td>3</td>\n      <td>0</td>\n      <td>0</td>\n      <td>4</td>\n      <td>1</td>\n      <td>8</td>\n      <td>2</td>\n      <td>0</td>\n    </tr>\n    <tr>\n      <th>624480</th>\n      <td>0</td>\n      <td>0</td>\n      <td>7</td>\n      <td>7</td>\n      <td>6</td>\n      <td>1</td>\n      <td>0</td>\n      <td>0</td>\n      <td>0</td>\n      <td>0</td>\n      <td>...</td>\n      <td>0</td>\n      <td>2</td>\n      <td>2</td>\n      <td>1</td>\n      <td>0</td>\n      <td>5</td>\n      <td>5</td>\n      <td>4</td>\n      <td>7</td>\n      <td>0</td>\n    </tr>\n  </tbody>\n</table>\n<p>31559 rows × 33 columns</p>\n</div>"
     },
     "execution_count": 17,
     "metadata": {},
     "output_type": "execute_result"
    }
   ],
   "source": [
    "from IPython.core.display import display\n",
    "from deps.common import get_variables_cached\n",
    "from hcve_lib.wrapped_sklearn import DFBinMapper\n",
    "\n",
    "data, metadata, X, y = get_variables_cached()\n",
    "\n",
    "binner = DFBinMapper(n_bins=10)\n",
    "display(X)\n",
    "X_trans = binner.fit_transform(X, y)\n",
    "X_trans"
   ],
   "metadata": {
    "collapsed": false,
    "pycharm": {
     "name": "#%%\n"
    }
   }
  }
 ],
 "metadata": {
  "kernelspec": {
   "display_name": "Python 3",
   "language": "python",
   "name": "python3"
  },
  "language_info": {
   "codemirror_mode": {
    "name": "ipython",
    "version": 2
   },
   "file_extension": ".py",
   "mimetype": "text/x-python",
   "name": "python",
   "nbconvert_exporter": "python",
   "pygments_lexer": "ipython2",
   "version": "2.7.6"
  }
 },
 "nbformat": 4,
 "nbformat_minor": 0
}
