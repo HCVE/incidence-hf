{
 "cells": [
  {
   "cell_type": "code",
   "execution_count": 182,
   "outputs": [
    {
     "name": "stdout",
     "output_type": "stream",
     "text": [
      "The autoreload extension is already loaded. To reload it, use:\n",
      "  %reload_ext autoreload\n"
     ]
    }
   ],
   "source": [
    "import pandas\n",
    "\n",
    "from matplotlib import pyplot\n",
    "from deps.data import load_metadata\n",
    "from deps.logger import logger\n",
    "from deps.data import load_raw_data, load_data\n",
    "from hcve_lib.functional import pipe\n",
    "from hcve_lib.evaluation_functions import c_index\n",
    "from hcve_lib.data import format_identifier_long\n",
    "from hcve_lib.visualisation import p\n",
    "from optuna import Trial\n",
    "from hcve_lib.tracking import get_completed_runs, get_run_duration\n",
    "from hcve_lib.tracking import get_last_run\n",
    "from hcve_lib.tracking import is_root_run\n",
    "from hcve_lib.tracking import get_children_runs\n",
    "import humanize\n",
    "import pytz\n",
    "from datetime import datetime\n",
    "from deps.common import get_variables_cached\n",
    "\n",
    "logger.setLevel('DEBUG')\n",
    "pandas.set_option(\"display.max_columns\", None)\n",
    "%load_ext autoreload\n",
    "%autoreload 2\n",
    "%matplotlib inline\n",
    "%config InlineBackend.figure_format='retina'\n",
    "pyplot.rcParams['figure.facecolor'] = 'white'"
   ],
   "metadata": {
    "collapsed": false,
    "pycharm": {
     "name": "#%%\n"
    }
   }
  },
  {
   "cell_type": "code",
   "execution_count": 32,
   "outputs": [],
   "source": [
    "data, metadata, X, y = get_variables_cached()\n",
    "\n",
    "raw_data = load_raw_data()\n",
    "raw_data_subset = raw_data.loc[data.index]"
   ],
   "metadata": {
    "collapsed": false,
    "pycharm": {
     "name": "#%%\n"
    }
   }
  },
  {
   "cell_type": "code",
   "execution_count": 6,
   "outputs": [
    {
     "name": "stderr",
     "output_type": "stream",
     "text": [
      "Raw data\n",
      "\tn cohorts=21\n",
      "\tn individuals=52,585\n",
      "\n",
      "[17:01:18] Raw data\n",
      "\tn cohorts=21\n",
      "\tn individuals=52,585\n",
      "\n",
      "Baseline visit kept\n",
      " \tn individuals removed=5,529\n",
      "\n",
      " \tn individuals=47,056\n",
      "\n",
      "[17:01:18] Baseline visit kept\n",
      " \tn individuals removed=5,529\n",
      "\n",
      " \tn individuals=47,056\n",
      "\n",
      "HF cohorts removed\n",
      "\tn cohorts removed=3: hfgr, timechf, leitzaran\n",
      "\tn individuals removed=1,073\n",
      "\n",
      "\tn cohorts=18\n",
      "\tn individuals=45,983\n",
      "\n",
      "[17:01:18] HF cohorts removed\n",
      "\tn cohorts removed=3: hfgr, timechf, leitzaran\n",
      "\tn individuals removed=1,073\n",
      "\n",
      "\tn cohorts=18\n",
      "\tn individuals=45,983\n",
      "\n",
      "No outcome cohorts removed\n",
      "\tn cohorts removed=5: biomarcoeurs, dyda, epath, iblomaved, stophf\n",
      "\tn individuals removed=3,077\n",
      "\n",
      "\tn cohorts=13\n",
      "\tn individuals=42,906\n",
      "\n",
      "[17:01:18] No outcome cohorts removed\n",
      "\tn cohorts removed=5: biomarcoeurs, dyda, epath, iblomaved, stophf\n",
      "\tn individuals removed=3,077\n",
      "\n",
      "\tn cohorts=13\n",
      "\tn individuals=42,906\n",
      "\n",
      "Missing HF data cohorts removed\n",
      "\tn cohorts removed=6: adelhyde, gecoh, r2c2, reve(1-2), stanislas, styrianvitd\n",
      "\tn individuals removed=6,209\n",
      "\n",
      "\tn cohorts=7\n",
      "\tn individuals=36,697\n",
      "\n",
      "[17:01:18] Missing HF data cohorts removed\n",
      "\tn cohorts removed=6: adelhyde, gecoh, r2c2, reve(1-2), stanislas, styrianvitd\n",
      "\tn individuals removed=6,209\n",
      "\n",
      "\tn cohorts=7\n",
      "\tn individuals=36,697\n",
      "\n",
      "Missing blood pressure measurements\n",
      " \tn individuals removed=434\n",
      "\n",
      " \tn individuals=36,263\n",
      "\n",
      "[17:01:19] Missing blood pressure measurements\n",
      " \tn individuals removed=434\n",
      "\n",
      " \tn individuals=36,263\n",
      "\n",
      "Providing missing PP for 3075individuals\n",
      "\n",
      "[17:01:19] Providing missing PP for 3075individuals\n",
      "\n",
      "HF individuals at baseline removed\n",
      " \tn individuals removed=2,953\n",
      "\n",
      " \tn individuals=33,310\n",
      "\n",
      "[17:01:19] HF individuals at baseline removed\n",
      " \tn individuals removed=2,953\n",
      "\n",
      " \tn individuals=33,310\n",
      "\n",
      "Missing outcome individuals removed\n",
      " \tn individuals removed=905\n",
      "\n",
      " \tn individuals=32,405\n",
      "\n",
      "[17:01:19] Missing outcome individuals removed\n",
      " \tn individuals removed=905\n",
      "\n",
      " \tn individuals=32,405\n",
      "\n",
      "Final dataset\n",
      "\tn individuals=32,405\n",
      "\tn cohorts=7\n",
      "\n",
      "[17:01:19] Final dataset\n",
      "\tn individuals=32,405\n",
      "\tn cohorts=7\n",
      "\n"
     ]
    },
    {
     "data": {
      "text/plain": "Empty DataFrame\nColumns: [IDNR, STUDY_NUM, STUDY, VISIT, SEX, AGE, BW, BH, BMI, SMK, DRK, DIABETES, HCV, HCAD, HPAD, HAF, HCEREBROV, TRT_AH, TRT_ACE, TRT_CCB, TRT_DIUR, TRT_BB, TRT_ARB, TRT_LIP, SBP, DBP, HR, PP, SOK, QRS, CI, GLU, CHOL, LDL, HDL, TG, CREA, FCV, FUFCV, NFHF, FUNFHF, FNFHF, FUFNFHF]\nIndex: []",
      "text/html": "<div>\n<style scoped>\n    .dataframe tbody tr th:only-of-type {\n        vertical-align: middle;\n    }\n\n    .dataframe tbody tr th {\n        vertical-align: top;\n    }\n\n    .dataframe thead th {\n        text-align: right;\n    }\n</style>\n<table border=\"1\" class=\"dataframe\">\n  <thead>\n    <tr style=\"text-align: right;\">\n      <th></th>\n      <th>IDNR</th>\n      <th>STUDY_NUM</th>\n      <th>STUDY</th>\n      <th>VISIT</th>\n      <th>SEX</th>\n      <th>AGE</th>\n      <th>BW</th>\n      <th>BH</th>\n      <th>BMI</th>\n      <th>SMK</th>\n      <th>DRK</th>\n      <th>DIABETES</th>\n      <th>HCV</th>\n      <th>HCAD</th>\n      <th>HPAD</th>\n      <th>HAF</th>\n      <th>HCEREBROV</th>\n      <th>TRT_AH</th>\n      <th>TRT_ACE</th>\n      <th>TRT_CCB</th>\n      <th>TRT_DIUR</th>\n      <th>TRT_BB</th>\n      <th>TRT_ARB</th>\n      <th>TRT_LIP</th>\n      <th>SBP</th>\n      <th>DBP</th>\n      <th>HR</th>\n      <th>PP</th>\n      <th>SOK</th>\n      <th>QRS</th>\n      <th>CI</th>\n      <th>GLU</th>\n      <th>CHOL</th>\n      <th>LDL</th>\n      <th>HDL</th>\n      <th>TG</th>\n      <th>CREA</th>\n      <th>FCV</th>\n      <th>FUFCV</th>\n      <th>NFHF</th>\n      <th>FUNFHF</th>\n      <th>FNFHF</th>\n      <th>FUFNFHF</th>\n    </tr>\n    <tr>\n      <th>IDNR</th>\n      <th></th>\n      <th></th>\n      <th></th>\n      <th></th>\n      <th></th>\n      <th></th>\n      <th></th>\n      <th></th>\n      <th></th>\n      <th></th>\n      <th></th>\n      <th></th>\n      <th></th>\n      <th></th>\n      <th></th>\n      <th></th>\n      <th></th>\n      <th></th>\n      <th></th>\n      <th></th>\n      <th></th>\n      <th></th>\n      <th></th>\n      <th></th>\n      <th></th>\n      <th></th>\n      <th></th>\n      <th></th>\n      <th></th>\n      <th></th>\n      <th></th>\n      <th></th>\n      <th></th>\n      <th></th>\n      <th></th>\n      <th></th>\n      <th></th>\n      <th></th>\n      <th></th>\n      <th></th>\n      <th></th>\n      <th></th>\n      <th></th>\n    </tr>\n  </thead>\n  <tbody>\n  </tbody>\n</table>\n</div>"
     },
     "execution_count": 6,
     "metadata": {},
     "output_type": "execute_result"
    }
   ],
   "source": [
    "data = load_data(metadata)\n",
    "data[data['FUNFHF'].isna()]"
   ],
   "metadata": {
    "collapsed": false,
    "pycharm": {
     "name": "#%%\n"
    }
   }
  },
  {
   "cell_type": "code",
   "execution_count": 7,
   "outputs": [
    {
     "name": "stdout",
     "output_type": "stream",
     "text": [
      "32405: [IDNR] IDNR\n",
      "7: [STUDY_NUM] Numeric study identifier\n",
      "7: [STUDY] STUDY\n",
      "1: [VISIT] VISIT\n",
      "2: [SEX] Gender\n",
      "16090: [AGE] Age\n",
      "1878: [BW] Body weight\n",
      "883: [BH] Body height\n",
      "13216: [BMI] Body-mass index_frame\n",
      "4: [SMK] Smoking status\n",
      "3: [DRK] Alcohol intake\n",
      "3: [DIABETES] History of diabetes\n",
      "3: [HCV] History of cardiovascular disease\n",
      "3: [HCAD] History of coronary artery disease\n",
      "3: [HPAD] History of peripheral artery disease\n",
      "3: [HAF] History of atrial fibrillation\n",
      "3: [HCEREBROV] History of cerebrovascular incident\n",
      "3: [TRT_AH] Intake of antihypertensive medication\n",
      "3: [TRT_ACE] Intake of angiotensin converting enzyme inhibitors\n",
      "3: [TRT_CCB] Intake of calcium channel blockers\n",
      "3: [TRT_DIUR] Intake of diuretics\n",
      "3: [TRT_BB] Intake of beta-blokcers\n",
      "3: [TRT_ARB] Intake of angiotensin II receptor blockers\n",
      "3: [TRT_LIP] Intake of lipid-lowering medication\n",
      "471: [SBP] Systolic blood pressure\n",
      "308: [DBP] Diastolic blood pressure\n",
      "189: [HR] Heart rate\n",
      "408: [PP] Pulse pressure\n",
      "557: [SOK] Sokolow-Lyon index_frame\n",
      "84: [QRS] QRS duration\n",
      "2014: [CI] Cornell index_frame\n",
      "684: [GLU] Blood glucose\n",
      "797: [CHOL] Total cholesterol\n",
      "1819: [LDL] LDL-cholesterol\n",
      "490: [HDL] HDL-cholesterol\n",
      "1125: [TG] Triglycerides\n",
      "360: [CREA] Serum creatinine\n",
      "3: [FCV] Cardiovascular death\n",
      "3819: [FUFCV] FUFCV\n",
      "2: [NFHF] Non-fatal heart failure\n",
      "3950: [FUNFHF] FUNFHF\n",
      "3: [FNFHF] Fatal or non-fatal heart failure\n",
      "1816: [FUFNFHF] FUFNFHF\n"
     ]
    }
   ],
   "source": [
    "for column in data.columns:\n",
    "    print(f'{len(data[column].unique())}: {format_identifier_long(column, metadata)}')"
   ],
   "metadata": {
    "collapsed": false,
    "pycharm": {
     "name": "#%%\n"
    }
   }
  },
  {
   "cell_type": "code",
   "execution_count": 8,
   "outputs": [
    {
     "name": "stdout",
     "output_type": "stream",
     "text": [
      "int64: [IDNR] IDNR\n",
      "category: [STUDY_NUM] Numeric study identifier\n",
      "category: [STUDY] STUDY\n",
      "category: [VISIT] VISIT\n",
      "category: [SEX] Gender\n",
      "float64: [AGE] Age\n",
      "float64: [BW] Body weight\n",
      "float64: [BH] Body height\n",
      "float64: [BMI] Body-mass index_frame\n",
      "category: [SMK] Smoking status\n",
      "category: [DRK] Alcohol intake\n",
      "category: [DIABETES] History of diabetes\n",
      "category: [HCV] History of cardiovascular disease\n",
      "category: [HCAD] History of coronary artery disease\n",
      "category: [HPAD] History of peripheral artery disease\n",
      "category: [HAF] History of atrial fibrillation\n",
      "category: [HCEREBROV] History of cerebrovascular incident\n",
      "category: [TRT_AH] Intake of antihypertensive medication\n",
      "category: [TRT_ACE] Intake of angiotensin converting enzyme inhibitors\n",
      "category: [TRT_CCB] Intake of calcium channel blockers\n",
      "category: [TRT_DIUR] Intake of diuretics\n",
      "category: [TRT_BB] Intake of beta-blokcers\n",
      "category: [TRT_ARB] Intake of angiotensin II receptor blockers\n",
      "category: [TRT_LIP] Intake of lipid-lowering medication\n",
      "float64: [SBP] Systolic blood pressure\n",
      "float64: [DBP] Diastolic blood pressure\n",
      "float64: [HR] Heart rate\n",
      "float64: [PP] Pulse pressure\n",
      "float64: [SOK] Sokolow-Lyon index_frame\n",
      "float64: [QRS] QRS duration\n",
      "float64: [CI] Cornell index_frame\n",
      "float64: [GLU] Blood glucose\n",
      "float64: [CHOL] Total cholesterol\n",
      "float64: [LDL] LDL-cholesterol\n",
      "float64: [HDL] HDL-cholesterol\n",
      "float64: [TG] Triglycerides\n",
      "float64: [CREA] Serum creatinine\n",
      "category: [FCV] Cardiovascular death\n",
      "float64: [FUFCV] FUFCV\n",
      "category: [NFHF] Non-fatal heart failure\n",
      "float64: [FUNFHF] FUNFHF\n",
      "category: [FNFHF] Fatal or non-fatal heart failure\n",
      "float64: [FUFNFHF] FUFNFHF\n"
     ]
    }
   ],
   "source": [
    "\n",
    "for column in data.columns:\n",
    "    if len(data[column].unique()) < 10:\n",
    "        data.loc[:, column] = data[column].astype('category')\n",
    "    print(f'{data[column].dtype}: {format_identifier_long(column, metadata)}')"
   ],
   "metadata": {
    "collapsed": false,
    "pycharm": {
     "name": "#%%\n"
    }
   }
  },
  {
   "cell_type": "code",
   "execution_count": 9,
   "outputs": [
    {
     "name": "stderr",
     "output_type": "stream",
     "text": [
      "/home/sitnarf/.local/share/virtualenvs/homage-fl-Ms4N7PDp/lib/python3.9/site-packages/sklearn/base.py:310: UserWarning:\n",
      "\n",
      "Trying to unpickle estimator FunctionTransformer from version 0.24.0 when using version 0.24.2. This might lead to breaking code or invalid results. Use at your own risk.\n",
      "\n"
     ]
    }
   ],
   "source": [
    "import pickle\n",
    "\n",
    "with open('./data/prediction.data', 'rb') as file:\n",
    "    results = pickle.load(file)"
   ],
   "metadata": {
    "collapsed": false,
    "pycharm": {
     "name": "#%%\n"
    }
   }
  },
  {
   "cell_type": "markdown",
   "source": [
    "# Removed features"
   ],
   "metadata": {
    "collapsed": false,
    "pycharm": {
     "name": "#%% md\n"
    }
   }
  },
  {
   "cell_type": "code",
   "execution_count": null,
   "outputs": [],
   "source": [
    "# removed_features = pipe(\n",
    "    #     result['column_masks'],\n",
    "    #     valmap(lambda mask: valfilter(identity, mask)),\n",
    "    #     valmap(lambda mask: list(mask)),\n",
    "    #     valmap(lambda mask: map(partial(format_identifier, metadata=metadata), mask)),\n",
    "    #     valmap(lambda mask: list(mask)),\n",
    "    # )\n",
    "    # b('Removed features')"
   ],
   "metadata": {
    "collapsed": false,
    "pycharm": {
     "name": "#%%\n"
    }
   }
  },
  {
   "cell_type": "markdown",
   "source": [
    "# LM matrix"
   ],
   "metadata": {
    "collapsed": false,
    "pycharm": {
     "name": "#%% md\n"
    }
   }
  },
  {
   "cell_type": "code",
   "execution_count": 166,
   "outputs": [
    {
     "name": "stderr",
     "output_type": "stream",
     "text": [
      "[autoreload of hcve_lib.cv failed: Traceback (most recent call last):\n",
      "  File \"/home/sitnarf/.local/share/virtualenvs/homage-fl-Ms4N7PDp/lib/python3.9/site-packages/IPython/extensions/autoreload.py\", line 245, in check\n",
      "    superreload(m, reload, self.old_objects)\n",
      "  File \"/home/sitnarf/.local/share/virtualenvs/homage-fl-Ms4N7PDp/lib/python3.9/site-packages/IPython/extensions/autoreload.py\", line 394, in superreload\n",
      "    module = reload(module)\n",
      "  File \"/usr/lib/python3.9/imp.py\", line 314, in reload\n",
      "    return importlib.reload(module)\n",
      "  File \"/usr/lib/python3.9/importlib/__init__.py\", line 169, in reload\n",
      "    _bootstrap._exec(spec, module)\n",
      "  File \"<frozen importlib._bootstrap>\", line 613, in _exec\n",
      "  File \"<frozen importlib._bootstrap_external>\", line 855, in exec_module\n",
      "  File \"<frozen importlib._bootstrap>\", line 228, in _call_with_frames_removed\n",
      "  File \"/home/sitnarf/projects/hcve_lib/hcve_lib/cv.py\", line 20, in <module>\n",
      "    from hcve_lib.custom_types import FoldPrediction, Estimator, Target, SplitInput, Splits\n",
      "ImportError: cannot import name 'SplitInput' from 'hcve_lib.custom_types' (/home/sitnarf/projects/hcve_lib/hcve_lib/custom_types.py)\n",
      "]\n",
      "[autoreload of pipelines failed: Traceback (most recent call last):\n",
      "  File \"/home/sitnarf/.local/share/virtualenvs/homage-fl-Ms4N7PDp/lib/python3.9/site-packages/IPython/extensions/autoreload.py\", line 245, in check\n",
      "    superreload(m, reload, self.old_objects)\n",
      "  File \"/home/sitnarf/.local/share/virtualenvs/homage-fl-Ms4N7PDp/lib/python3.9/site-packages/IPython/extensions/autoreload.py\", line 394, in superreload\n",
      "    module = reload(module)\n",
      "  File \"/usr/lib/python3.9/imp.py\", line 314, in reload\n",
      "    return importlib.reload(module)\n",
      "  File \"/usr/lib/python3.9/importlib/__init__.py\", line 169, in reload\n",
      "    _bootstrap._exec(spec, module)\n",
      "  File \"<frozen importlib._bootstrap>\", line 613, in _exec\n",
      "  File \"<frozen importlib._bootstrap_external>\", line 855, in exec_module\n",
      "  File \"<frozen importlib._bootstrap>\", line 228, in _call_with_frames_removed\n",
      "  File \"/home/sitnarf/projects/homage-fl/pipelines.py\", line 18, in <module>\n",
      "    from hcve_lib.cv import predict_survival, CROSS_VALIDATE_KEY, predict_survival_dsm\n",
      "ImportError: cannot import name 'predict_survival_dsm' from 'hcve_lib.cv' (/home/sitnarf/projects/hcve_lib/hcve_lib/cv.py)\n",
      "]\n"
     ]
    },
    {
     "data": {
      "text/plain": "<IPython.core.display.HTML object>",
      "text/html": "<h2>gb</h2>"
     },
     "metadata": {},
     "output_type": "display_data"
    },
    {
     "name": "stdout",
     "output_type": "stream",
     "text": [
      "Index(['run_id', 'experiment_id', 'status', 'artifact_uri', 'start_time',\n",
      "       'end_time', 'metrics.brier', 'metrics.c_index', 'tags.mlflow.user',\n",
      "       'tags.mlflow.source.git.commit', 'tags.mlflow.source.type',\n",
      "       'tags.method_name', 'tags.mlflow.source.name', 'tags.mlflow.runName',\n",
      "       'tags.mlflow.parentRunId'],\n",
      "      dtype='object')\n"
     ]
    },
    {
     "data": {
      "application/vnd.plotly.v1+json": {
       "config": {
        "plotlyServerURL": "https://plot.ly"
       },
       "data": [
        {
         "colorscale": [
          [
           0.0,
           "#0d0887"
          ],
          [
           0.1111111111111111,
           "#46039f"
          ],
          [
           0.2222222222222222,
           "#7201a8"
          ],
          [
           0.3333333333333333,
           "#9c179e"
          ],
          [
           0.4444444444444444,
           "#bd3786"
          ],
          [
           0.5555555555555556,
           "#d8576b"
          ],
          [
           0.6666666666666666,
           "#ed7953"
          ],
          [
           0.7777777777777778,
           "#fb9f3a"
          ],
          [
           0.8888888888888888,
           "#fdca26"
          ],
          [
           1.0,
           "#f0f921"
          ]
         ],
         "reversescale": false,
         "showscale": false,
         "type": "heatmap",
         "x": [
          "ASCOT",
          "FLEMENGHO",
          "HEALTHABC",
          "HULL_LIFELAB",
          "HVC",
          "PREDICTOR",
          "PROSPER"
         ],
         "y": [
          "PROSPER",
          "PREDICTOR",
          "HVC",
          "HULL_LIFELAB",
          "HEALTHABC",
          "FLEMENGHO",
          "ASCOT"
         ],
         "z": [
          [
           0.79,
           null,
           0.79,
           0.68,
           0.67,
           0.55,
           0.7
          ],
          [
           0.58,
           0.58,
           null,
           0.6,
           0.6,
           0.59,
           0.62
          ],
          [
           0.51,
           0.51,
           0.54,
           null,
           0.51,
           0.51,
           0.55
          ],
          [
           0.62,
           0.68,
           0.63,
           0.55,
           null,
           0.56,
           0.61
          ],
          [
           0.62,
           0.65,
           0.69,
           0.57,
           0.66,
           null,
           0.67
          ],
          [
           0.52,
           0.54,
           0.64,
           0.61,
           0.64,
           0.56,
           null
          ],
          [
           null,
           0.67,
           0.65,
           0.49,
           0.64,
           0.59,
           0.56
          ]
         ]
        }
       ],
       "layout": {
        "annotations": [
         {
          "font": {
           "color": "#000000"
          },
          "showarrow": false,
          "text": "0.79",
          "x": "ASCOT",
          "xref": "x",
          "y": "PROSPER",
          "yref": "y"
         },
         {
          "font": {
           "color": "#000000"
          },
          "showarrow": false,
          "text": "nan",
          "x": "FLEMENGHO",
          "xref": "x",
          "y": "PROSPER",
          "yref": "y"
         },
         {
          "font": {
           "color": "#000000"
          },
          "showarrow": false,
          "text": "0.79",
          "x": "HEALTHABC",
          "xref": "x",
          "y": "PROSPER",
          "yref": "y"
         },
         {
          "font": {
           "color": "#000000"
          },
          "showarrow": false,
          "text": "0.68",
          "x": "HULL_LIFELAB",
          "xref": "x",
          "y": "PROSPER",
          "yref": "y"
         },
         {
          "font": {
           "color": "#000000"
          },
          "showarrow": false,
          "text": "0.67",
          "x": "HVC",
          "xref": "x",
          "y": "PROSPER",
          "yref": "y"
         },
         {
          "font": {
           "color": "#000000"
          },
          "showarrow": false,
          "text": "0.55",
          "x": "PREDICTOR",
          "xref": "x",
          "y": "PROSPER",
          "yref": "y"
         },
         {
          "font": {
           "color": "#000000"
          },
          "showarrow": false,
          "text": "0.7",
          "x": "PROSPER",
          "xref": "x",
          "y": "PROSPER",
          "yref": "y"
         },
         {
          "font": {
           "color": "#000000"
          },
          "showarrow": false,
          "text": "0.58",
          "x": "ASCOT",
          "xref": "x",
          "y": "PREDICTOR",
          "yref": "y"
         },
         {
          "font": {
           "color": "#000000"
          },
          "showarrow": false,
          "text": "0.58",
          "x": "FLEMENGHO",
          "xref": "x",
          "y": "PREDICTOR",
          "yref": "y"
         },
         {
          "font": {
           "color": "#000000"
          },
          "showarrow": false,
          "text": "nan",
          "x": "HEALTHABC",
          "xref": "x",
          "y": "PREDICTOR",
          "yref": "y"
         },
         {
          "font": {
           "color": "#000000"
          },
          "showarrow": false,
          "text": "0.6",
          "x": "HULL_LIFELAB",
          "xref": "x",
          "y": "PREDICTOR",
          "yref": "y"
         },
         {
          "font": {
           "color": "#000000"
          },
          "showarrow": false,
          "text": "0.6",
          "x": "HVC",
          "xref": "x",
          "y": "PREDICTOR",
          "yref": "y"
         },
         {
          "font": {
           "color": "#000000"
          },
          "showarrow": false,
          "text": "0.59",
          "x": "PREDICTOR",
          "xref": "x",
          "y": "PREDICTOR",
          "yref": "y"
         },
         {
          "font": {
           "color": "#000000"
          },
          "showarrow": false,
          "text": "0.62",
          "x": "PROSPER",
          "xref": "x",
          "y": "PREDICTOR",
          "yref": "y"
         },
         {
          "font": {
           "color": "#000000"
          },
          "showarrow": false,
          "text": "0.51",
          "x": "ASCOT",
          "xref": "x",
          "y": "HVC",
          "yref": "y"
         },
         {
          "font": {
           "color": "#000000"
          },
          "showarrow": false,
          "text": "0.51",
          "x": "FLEMENGHO",
          "xref": "x",
          "y": "HVC",
          "yref": "y"
         },
         {
          "font": {
           "color": "#000000"
          },
          "showarrow": false,
          "text": "0.54",
          "x": "HEALTHABC",
          "xref": "x",
          "y": "HVC",
          "yref": "y"
         },
         {
          "font": {
           "color": "#000000"
          },
          "showarrow": false,
          "text": "nan",
          "x": "HULL_LIFELAB",
          "xref": "x",
          "y": "HVC",
          "yref": "y"
         },
         {
          "font": {
           "color": "#000000"
          },
          "showarrow": false,
          "text": "0.51",
          "x": "HVC",
          "xref": "x",
          "y": "HVC",
          "yref": "y"
         },
         {
          "font": {
           "color": "#000000"
          },
          "showarrow": false,
          "text": "0.51",
          "x": "PREDICTOR",
          "xref": "x",
          "y": "HVC",
          "yref": "y"
         },
         {
          "font": {
           "color": "#000000"
          },
          "showarrow": false,
          "text": "0.55",
          "x": "PROSPER",
          "xref": "x",
          "y": "HVC",
          "yref": "y"
         },
         {
          "font": {
           "color": "#000000"
          },
          "showarrow": false,
          "text": "0.62",
          "x": "ASCOT",
          "xref": "x",
          "y": "HULL_LIFELAB",
          "yref": "y"
         },
         {
          "font": {
           "color": "#000000"
          },
          "showarrow": false,
          "text": "0.68",
          "x": "FLEMENGHO",
          "xref": "x",
          "y": "HULL_LIFELAB",
          "yref": "y"
         },
         {
          "font": {
           "color": "#000000"
          },
          "showarrow": false,
          "text": "0.63",
          "x": "HEALTHABC",
          "xref": "x",
          "y": "HULL_LIFELAB",
          "yref": "y"
         },
         {
          "font": {
           "color": "#000000"
          },
          "showarrow": false,
          "text": "0.55",
          "x": "HULL_LIFELAB",
          "xref": "x",
          "y": "HULL_LIFELAB",
          "yref": "y"
         },
         {
          "font": {
           "color": "#000000"
          },
          "showarrow": false,
          "text": "nan",
          "x": "HVC",
          "xref": "x",
          "y": "HULL_LIFELAB",
          "yref": "y"
         },
         {
          "font": {
           "color": "#000000"
          },
          "showarrow": false,
          "text": "0.56",
          "x": "PREDICTOR",
          "xref": "x",
          "y": "HULL_LIFELAB",
          "yref": "y"
         },
         {
          "font": {
           "color": "#000000"
          },
          "showarrow": false,
          "text": "0.61",
          "x": "PROSPER",
          "xref": "x",
          "y": "HULL_LIFELAB",
          "yref": "y"
         },
         {
          "font": {
           "color": "#000000"
          },
          "showarrow": false,
          "text": "0.62",
          "x": "ASCOT",
          "xref": "x",
          "y": "HEALTHABC",
          "yref": "y"
         },
         {
          "font": {
           "color": "#000000"
          },
          "showarrow": false,
          "text": "0.65",
          "x": "FLEMENGHO",
          "xref": "x",
          "y": "HEALTHABC",
          "yref": "y"
         },
         {
          "font": {
           "color": "#000000"
          },
          "showarrow": false,
          "text": "0.69",
          "x": "HEALTHABC",
          "xref": "x",
          "y": "HEALTHABC",
          "yref": "y"
         },
         {
          "font": {
           "color": "#000000"
          },
          "showarrow": false,
          "text": "0.57",
          "x": "HULL_LIFELAB",
          "xref": "x",
          "y": "HEALTHABC",
          "yref": "y"
         },
         {
          "font": {
           "color": "#000000"
          },
          "showarrow": false,
          "text": "0.66",
          "x": "HVC",
          "xref": "x",
          "y": "HEALTHABC",
          "yref": "y"
         },
         {
          "font": {
           "color": "#000000"
          },
          "showarrow": false,
          "text": "nan",
          "x": "PREDICTOR",
          "xref": "x",
          "y": "HEALTHABC",
          "yref": "y"
         },
         {
          "font": {
           "color": "#000000"
          },
          "showarrow": false,
          "text": "0.67",
          "x": "PROSPER",
          "xref": "x",
          "y": "HEALTHABC",
          "yref": "y"
         },
         {
          "font": {
           "color": "#000000"
          },
          "showarrow": false,
          "text": "0.52",
          "x": "ASCOT",
          "xref": "x",
          "y": "FLEMENGHO",
          "yref": "y"
         },
         {
          "font": {
           "color": "#000000"
          },
          "showarrow": false,
          "text": "0.54",
          "x": "FLEMENGHO",
          "xref": "x",
          "y": "FLEMENGHO",
          "yref": "y"
         },
         {
          "font": {
           "color": "#000000"
          },
          "showarrow": false,
          "text": "0.64",
          "x": "HEALTHABC",
          "xref": "x",
          "y": "FLEMENGHO",
          "yref": "y"
         },
         {
          "font": {
           "color": "#000000"
          },
          "showarrow": false,
          "text": "0.61",
          "x": "HULL_LIFELAB",
          "xref": "x",
          "y": "FLEMENGHO",
          "yref": "y"
         },
         {
          "font": {
           "color": "#000000"
          },
          "showarrow": false,
          "text": "0.64",
          "x": "HVC",
          "xref": "x",
          "y": "FLEMENGHO",
          "yref": "y"
         },
         {
          "font": {
           "color": "#000000"
          },
          "showarrow": false,
          "text": "0.56",
          "x": "PREDICTOR",
          "xref": "x",
          "y": "FLEMENGHO",
          "yref": "y"
         },
         {
          "font": {
           "color": "#000000"
          },
          "showarrow": false,
          "text": "nan",
          "x": "PROSPER",
          "xref": "x",
          "y": "FLEMENGHO",
          "yref": "y"
         },
         {
          "font": {
           "color": "#000000"
          },
          "showarrow": false,
          "text": "nan",
          "x": "ASCOT",
          "xref": "x",
          "y": "ASCOT",
          "yref": "y"
         },
         {
          "font": {
           "color": "#000000"
          },
          "showarrow": false,
          "text": "0.67",
          "x": "FLEMENGHO",
          "xref": "x",
          "y": "ASCOT",
          "yref": "y"
         },
         {
          "font": {
           "color": "#000000"
          },
          "showarrow": false,
          "text": "0.65",
          "x": "HEALTHABC",
          "xref": "x",
          "y": "ASCOT",
          "yref": "y"
         },
         {
          "font": {
           "color": "#000000"
          },
          "showarrow": false,
          "text": "0.49",
          "x": "HULL_LIFELAB",
          "xref": "x",
          "y": "ASCOT",
          "yref": "y"
         },
         {
          "font": {
           "color": "#000000"
          },
          "showarrow": false,
          "text": "0.64",
          "x": "HVC",
          "xref": "x",
          "y": "ASCOT",
          "yref": "y"
         },
         {
          "font": {
           "color": "#000000"
          },
          "showarrow": false,
          "text": "0.59",
          "x": "PREDICTOR",
          "xref": "x",
          "y": "ASCOT",
          "yref": "y"
         },
         {
          "font": {
           "color": "#000000"
          },
          "showarrow": false,
          "text": "0.56",
          "x": "PROSPER",
          "xref": "x",
          "y": "ASCOT",
          "yref": "y"
         }
        ],
        "template": {
         "data": {
          "bar": [
           {
            "error_x": {
             "color": "#2a3f5f"
            },
            "error_y": {
             "color": "#2a3f5f"
            },
            "marker": {
             "line": {
              "color": "#E5ECF6",
              "width": 0.5
             },
             "pattern": {
              "fillmode": "overlay",
              "size": 10,
              "solidity": 0.2
             }
            },
            "type": "bar"
           }
          ],
          "barpolar": [
           {
            "marker": {
             "line": {
              "color": "#E5ECF6",
              "width": 0.5
             },
             "pattern": {
              "fillmode": "overlay",
              "size": 10,
              "solidity": 0.2
             }
            },
            "type": "barpolar"
           }
          ],
          "carpet": [
           {
            "aaxis": {
             "endlinecolor": "#2a3f5f",
             "gridcolor": "white",
             "linecolor": "white",
             "minorgridcolor": "white",
             "startlinecolor": "#2a3f5f"
            },
            "baxis": {
             "endlinecolor": "#2a3f5f",
             "gridcolor": "white",
             "linecolor": "white",
             "minorgridcolor": "white",
             "startlinecolor": "#2a3f5f"
            },
            "type": "carpet"
           }
          ],
          "choropleth": [
           {
            "colorbar": {
             "outlinewidth": 0,
             "ticks": ""
            },
            "type": "choropleth"
           }
          ],
          "contour": [
           {
            "colorbar": {
             "outlinewidth": 0,
             "ticks": ""
            },
            "colorscale": [
             [
              0.0,
              "#0d0887"
             ],
             [
              0.1111111111111111,
              "#46039f"
             ],
             [
              0.2222222222222222,
              "#7201a8"
             ],
             [
              0.3333333333333333,
              "#9c179e"
             ],
             [
              0.4444444444444444,
              "#bd3786"
             ],
             [
              0.5555555555555556,
              "#d8576b"
             ],
             [
              0.6666666666666666,
              "#ed7953"
             ],
             [
              0.7777777777777778,
              "#fb9f3a"
             ],
             [
              0.8888888888888888,
              "#fdca26"
             ],
             [
              1.0,
              "#f0f921"
             ]
            ],
            "type": "contour"
           }
          ],
          "contourcarpet": [
           {
            "colorbar": {
             "outlinewidth": 0,
             "ticks": ""
            },
            "type": "contourcarpet"
           }
          ],
          "heatmap": [
           {
            "colorbar": {
             "outlinewidth": 0,
             "ticks": ""
            },
            "colorscale": [
             [
              0.0,
              "#0d0887"
             ],
             [
              0.1111111111111111,
              "#46039f"
             ],
             [
              0.2222222222222222,
              "#7201a8"
             ],
             [
              0.3333333333333333,
              "#9c179e"
             ],
             [
              0.4444444444444444,
              "#bd3786"
             ],
             [
              0.5555555555555556,
              "#d8576b"
             ],
             [
              0.6666666666666666,
              "#ed7953"
             ],
             [
              0.7777777777777778,
              "#fb9f3a"
             ],
             [
              0.8888888888888888,
              "#fdca26"
             ],
             [
              1.0,
              "#f0f921"
             ]
            ],
            "type": "heatmap"
           }
          ],
          "heatmapgl": [
           {
            "colorbar": {
             "outlinewidth": 0,
             "ticks": ""
            },
            "colorscale": [
             [
              0.0,
              "#0d0887"
             ],
             [
              0.1111111111111111,
              "#46039f"
             ],
             [
              0.2222222222222222,
              "#7201a8"
             ],
             [
              0.3333333333333333,
              "#9c179e"
             ],
             [
              0.4444444444444444,
              "#bd3786"
             ],
             [
              0.5555555555555556,
              "#d8576b"
             ],
             [
              0.6666666666666666,
              "#ed7953"
             ],
             [
              0.7777777777777778,
              "#fb9f3a"
             ],
             [
              0.8888888888888888,
              "#fdca26"
             ],
             [
              1.0,
              "#f0f921"
             ]
            ],
            "type": "heatmapgl"
           }
          ],
          "histogram": [
           {
            "marker": {
             "pattern": {
              "fillmode": "overlay",
              "size": 10,
              "solidity": 0.2
             }
            },
            "type": "histogram"
           }
          ],
          "histogram2d": [
           {
            "colorbar": {
             "outlinewidth": 0,
             "ticks": ""
            },
            "colorscale": [
             [
              0.0,
              "#0d0887"
             ],
             [
              0.1111111111111111,
              "#46039f"
             ],
             [
              0.2222222222222222,
              "#7201a8"
             ],
             [
              0.3333333333333333,
              "#9c179e"
             ],
             [
              0.4444444444444444,
              "#bd3786"
             ],
             [
              0.5555555555555556,
              "#d8576b"
             ],
             [
              0.6666666666666666,
              "#ed7953"
             ],
             [
              0.7777777777777778,
              "#fb9f3a"
             ],
             [
              0.8888888888888888,
              "#fdca26"
             ],
             [
              1.0,
              "#f0f921"
             ]
            ],
            "type": "histogram2d"
           }
          ],
          "histogram2dcontour": [
           {
            "colorbar": {
             "outlinewidth": 0,
             "ticks": ""
            },
            "colorscale": [
             [
              0.0,
              "#0d0887"
             ],
             [
              0.1111111111111111,
              "#46039f"
             ],
             [
              0.2222222222222222,
              "#7201a8"
             ],
             [
              0.3333333333333333,
              "#9c179e"
             ],
             [
              0.4444444444444444,
              "#bd3786"
             ],
             [
              0.5555555555555556,
              "#d8576b"
             ],
             [
              0.6666666666666666,
              "#ed7953"
             ],
             [
              0.7777777777777778,
              "#fb9f3a"
             ],
             [
              0.8888888888888888,
              "#fdca26"
             ],
             [
              1.0,
              "#f0f921"
             ]
            ],
            "type": "histogram2dcontour"
           }
          ],
          "mesh3d": [
           {
            "colorbar": {
             "outlinewidth": 0,
             "ticks": ""
            },
            "type": "mesh3d"
           }
          ],
          "parcoords": [
           {
            "line": {
             "colorbar": {
              "outlinewidth": 0,
              "ticks": ""
             }
            },
            "type": "parcoords"
           }
          ],
          "pie": [
           {
            "automargin": true,
            "type": "pie"
           }
          ],
          "scatter": [
           {
            "marker": {
             "colorbar": {
              "outlinewidth": 0,
              "ticks": ""
             }
            },
            "type": "scatter"
           }
          ],
          "scatter3d": [
           {
            "line": {
             "colorbar": {
              "outlinewidth": 0,
              "ticks": ""
             }
            },
            "marker": {
             "colorbar": {
              "outlinewidth": 0,
              "ticks": ""
             }
            },
            "type": "scatter3d"
           }
          ],
          "scattercarpet": [
           {
            "marker": {
             "colorbar": {
              "outlinewidth": 0,
              "ticks": ""
             }
            },
            "type": "scattercarpet"
           }
          ],
          "scattergeo": [
           {
            "marker": {
             "colorbar": {
              "outlinewidth": 0,
              "ticks": ""
             }
            },
            "type": "scattergeo"
           }
          ],
          "scattergl": [
           {
            "marker": {
             "colorbar": {
              "outlinewidth": 0,
              "ticks": ""
             }
            },
            "type": "scattergl"
           }
          ],
          "scattermapbox": [
           {
            "marker": {
             "colorbar": {
              "outlinewidth": 0,
              "ticks": ""
             }
            },
            "type": "scattermapbox"
           }
          ],
          "scatterpolar": [
           {
            "marker": {
             "colorbar": {
              "outlinewidth": 0,
              "ticks": ""
             }
            },
            "type": "scatterpolar"
           }
          ],
          "scatterpolargl": [
           {
            "marker": {
             "colorbar": {
              "outlinewidth": 0,
              "ticks": ""
             }
            },
            "type": "scatterpolargl"
           }
          ],
          "scatterternary": [
           {
            "marker": {
             "colorbar": {
              "outlinewidth": 0,
              "ticks": ""
             }
            },
            "type": "scatterternary"
           }
          ],
          "surface": [
           {
            "colorbar": {
             "outlinewidth": 0,
             "ticks": ""
            },
            "colorscale": [
             [
              0.0,
              "#0d0887"
             ],
             [
              0.1111111111111111,
              "#46039f"
             ],
             [
              0.2222222222222222,
              "#7201a8"
             ],
             [
              0.3333333333333333,
              "#9c179e"
             ],
             [
              0.4444444444444444,
              "#bd3786"
             ],
             [
              0.5555555555555556,
              "#d8576b"
             ],
             [
              0.6666666666666666,
              "#ed7953"
             ],
             [
              0.7777777777777778,
              "#fb9f3a"
             ],
             [
              0.8888888888888888,
              "#fdca26"
             ],
             [
              1.0,
              "#f0f921"
             ]
            ],
            "type": "surface"
           }
          ],
          "table": [
           {
            "cells": {
             "fill": {
              "color": "#EBF0F8"
             },
             "line": {
              "color": "white"
             }
            },
            "header": {
             "fill": {
              "color": "#C8D4E3"
             },
             "line": {
              "color": "white"
             }
            },
            "type": "table"
           }
          ]
         },
         "layout": {
          "annotationdefaults": {
           "arrowcolor": "#2a3f5f",
           "arrowhead": 0,
           "arrowwidth": 1
          },
          "autotypenumbers": "strict",
          "coloraxis": {
           "colorbar": {
            "outlinewidth": 0,
            "ticks": ""
           }
          },
          "colorscale": {
           "diverging": [
            [
             0,
             "#8e0152"
            ],
            [
             0.1,
             "#c51b7d"
            ],
            [
             0.2,
             "#de77ae"
            ],
            [
             0.3,
             "#f1b6da"
            ],
            [
             0.4,
             "#fde0ef"
            ],
            [
             0.5,
             "#f7f7f7"
            ],
            [
             0.6,
             "#e6f5d0"
            ],
            [
             0.7,
             "#b8e186"
            ],
            [
             0.8,
             "#7fbc41"
            ],
            [
             0.9,
             "#4d9221"
            ],
            [
             1,
             "#276419"
            ]
           ],
           "sequential": [
            [
             0.0,
             "#0d0887"
            ],
            [
             0.1111111111111111,
             "#46039f"
            ],
            [
             0.2222222222222222,
             "#7201a8"
            ],
            [
             0.3333333333333333,
             "#9c179e"
            ],
            [
             0.4444444444444444,
             "#bd3786"
            ],
            [
             0.5555555555555556,
             "#d8576b"
            ],
            [
             0.6666666666666666,
             "#ed7953"
            ],
            [
             0.7777777777777778,
             "#fb9f3a"
            ],
            [
             0.8888888888888888,
             "#fdca26"
            ],
            [
             1.0,
             "#f0f921"
            ]
           ],
           "sequentialminus": [
            [
             0.0,
             "#0d0887"
            ],
            [
             0.1111111111111111,
             "#46039f"
            ],
            [
             0.2222222222222222,
             "#7201a8"
            ],
            [
             0.3333333333333333,
             "#9c179e"
            ],
            [
             0.4444444444444444,
             "#bd3786"
            ],
            [
             0.5555555555555556,
             "#d8576b"
            ],
            [
             0.6666666666666666,
             "#ed7953"
            ],
            [
             0.7777777777777778,
             "#fb9f3a"
            ],
            [
             0.8888888888888888,
             "#fdca26"
            ],
            [
             1.0,
             "#f0f921"
            ]
           ]
          },
          "colorway": [
           "#636efa",
           "#EF553B",
           "#00cc96",
           "#ab63fa",
           "#FFA15A",
           "#19d3f3",
           "#FF6692",
           "#B6E880",
           "#FF97FF",
           "#FECB52"
          ],
          "font": {
           "color": "#2a3f5f"
          },
          "geo": {
           "bgcolor": "white",
           "lakecolor": "white",
           "landcolor": "#E5ECF6",
           "showlakes": true,
           "showland": true,
           "subunitcolor": "white"
          },
          "hoverlabel": {
           "align": "left"
          },
          "hovermode": "closest",
          "mapbox": {
           "style": "light"
          },
          "paper_bgcolor": "white",
          "plot_bgcolor": "#E5ECF6",
          "polar": {
           "angularaxis": {
            "gridcolor": "white",
            "linecolor": "white",
            "ticks": ""
           },
           "bgcolor": "#E5ECF6",
           "radialaxis": {
            "gridcolor": "white",
            "linecolor": "white",
            "ticks": ""
           }
          },
          "scene": {
           "xaxis": {
            "backgroundcolor": "#E5ECF6",
            "gridcolor": "white",
            "gridwidth": 2,
            "linecolor": "white",
            "showbackground": true,
            "ticks": "",
            "zerolinecolor": "white"
           },
           "yaxis": {
            "backgroundcolor": "#E5ECF6",
            "gridcolor": "white",
            "gridwidth": 2,
            "linecolor": "white",
            "showbackground": true,
            "ticks": "",
            "zerolinecolor": "white"
           },
           "zaxis": {
            "backgroundcolor": "#E5ECF6",
            "gridcolor": "white",
            "gridwidth": 2,
            "linecolor": "white",
            "showbackground": true,
            "ticks": "",
            "zerolinecolor": "white"
           }
          },
          "shapedefaults": {
           "line": {
            "color": "#2a3f5f"
           }
          },
          "ternary": {
           "aaxis": {
            "gridcolor": "white",
            "linecolor": "white",
            "ticks": ""
           },
           "baxis": {
            "gridcolor": "white",
            "linecolor": "white",
            "ticks": ""
           },
           "bgcolor": "#E5ECF6",
           "caxis": {
            "gridcolor": "white",
            "linecolor": "white",
            "ticks": ""
           }
          },
          "title": {
           "x": 0.05
          },
          "xaxis": {
           "automargin": true,
           "gridcolor": "white",
           "linecolor": "white",
           "ticks": "",
           "title": {
            "standoff": 15
           },
           "zerolinecolor": "white",
           "zerolinewidth": 2
          },
          "yaxis": {
           "automargin": true,
           "gridcolor": "white",
           "linecolor": "white",
           "ticks": "",
           "title": {
            "standoff": 15
           },
           "zerolinecolor": "white",
           "zerolinewidth": 2
          }
         }
        },
        "xaxis": {
         "dtick": 1,
         "gridcolor": "rgb(0, 0, 0)",
         "side": "top",
         "ticks": "",
         "title": {
          "text": "Trained on"
         }
        },
        "yaxis": {
         "dtick": 1,
         "ticks": "",
         "ticksuffix": "  ",
         "title": {
          "text": "Tested on"
         }
        }
       }
      },
      "text/html": "<div>                            <div id=\"9a98fd54-2dde-49c4-b91f-9b66116527d0\" class=\"plotly-graph-div\" style=\"height:525px; width:100%;\"></div>            <script type=\"text/javascript\">                require([\"plotly\"], function(Plotly) {                    window.PLOTLYENV=window.PLOTLYENV || {};                                    if (document.getElementById(\"9a98fd54-2dde-49c4-b91f-9b66116527d0\")) {                    Plotly.newPlot(                        \"9a98fd54-2dde-49c4-b91f-9b66116527d0\",                        [{\"colorscale\":[[0.0,\"#0d0887\"],[0.1111111111111111,\"#46039f\"],[0.2222222222222222,\"#7201a8\"],[0.3333333333333333,\"#9c179e\"],[0.4444444444444444,\"#bd3786\"],[0.5555555555555556,\"#d8576b\"],[0.6666666666666666,\"#ed7953\"],[0.7777777777777778,\"#fb9f3a\"],[0.8888888888888888,\"#fdca26\"],[1.0,\"#f0f921\"]],\"reversescale\":false,\"showscale\":false,\"type\":\"heatmap\",\"x\":[\"ASCOT\",\"FLEMENGHO\",\"HEALTHABC\",\"HULL_LIFELAB\",\"HVC\",\"PREDICTOR\",\"PROSPER\"],\"y\":[\"PROSPER\",\"PREDICTOR\",\"HVC\",\"HULL_LIFELAB\",\"HEALTHABC\",\"FLEMENGHO\",\"ASCOT\"],\"z\":[[0.79,null,0.79,0.68,0.67,0.55,0.7],[0.58,0.58,null,0.6,0.6,0.59,0.62],[0.51,0.51,0.54,null,0.51,0.51,0.55],[0.62,0.68,0.63,0.55,null,0.56,0.61],[0.62,0.65,0.69,0.57,0.66,null,0.67],[0.52,0.54,0.64,0.61,0.64,0.56,null],[null,0.67,0.65,0.49,0.64,0.59,0.56]]}],                        {\"annotations\":[{\"font\":{\"color\":\"#000000\"},\"showarrow\":false,\"text\":\"0.79\",\"x\":\"ASCOT\",\"xref\":\"x\",\"y\":\"PROSPER\",\"yref\":\"y\"},{\"font\":{\"color\":\"#000000\"},\"showarrow\":false,\"text\":\"nan\",\"x\":\"FLEMENGHO\",\"xref\":\"x\",\"y\":\"PROSPER\",\"yref\":\"y\"},{\"font\":{\"color\":\"#000000\"},\"showarrow\":false,\"text\":\"0.79\",\"x\":\"HEALTHABC\",\"xref\":\"x\",\"y\":\"PROSPER\",\"yref\":\"y\"},{\"font\":{\"color\":\"#000000\"},\"showarrow\":false,\"text\":\"0.68\",\"x\":\"HULL_LIFELAB\",\"xref\":\"x\",\"y\":\"PROSPER\",\"yref\":\"y\"},{\"font\":{\"color\":\"#000000\"},\"showarrow\":false,\"text\":\"0.67\",\"x\":\"HVC\",\"xref\":\"x\",\"y\":\"PROSPER\",\"yref\":\"y\"},{\"font\":{\"color\":\"#000000\"},\"showarrow\":false,\"text\":\"0.55\",\"x\":\"PREDICTOR\",\"xref\":\"x\",\"y\":\"PROSPER\",\"yref\":\"y\"},{\"font\":{\"color\":\"#000000\"},\"showarrow\":false,\"text\":\"0.7\",\"x\":\"PROSPER\",\"xref\":\"x\",\"y\":\"PROSPER\",\"yref\":\"y\"},{\"font\":{\"color\":\"#000000\"},\"showarrow\":false,\"text\":\"0.58\",\"x\":\"ASCOT\",\"xref\":\"x\",\"y\":\"PREDICTOR\",\"yref\":\"y\"},{\"font\":{\"color\":\"#000000\"},\"showarrow\":false,\"text\":\"0.58\",\"x\":\"FLEMENGHO\",\"xref\":\"x\",\"y\":\"PREDICTOR\",\"yref\":\"y\"},{\"font\":{\"color\":\"#000000\"},\"showarrow\":false,\"text\":\"nan\",\"x\":\"HEALTHABC\",\"xref\":\"x\",\"y\":\"PREDICTOR\",\"yref\":\"y\"},{\"font\":{\"color\":\"#000000\"},\"showarrow\":false,\"text\":\"0.6\",\"x\":\"HULL_LIFELAB\",\"xref\":\"x\",\"y\":\"PREDICTOR\",\"yref\":\"y\"},{\"font\":{\"color\":\"#000000\"},\"showarrow\":false,\"text\":\"0.6\",\"x\":\"HVC\",\"xref\":\"x\",\"y\":\"PREDICTOR\",\"yref\":\"y\"},{\"font\":{\"color\":\"#000000\"},\"showarrow\":false,\"text\":\"0.59\",\"x\":\"PREDICTOR\",\"xref\":\"x\",\"y\":\"PREDICTOR\",\"yref\":\"y\"},{\"font\":{\"color\":\"#000000\"},\"showarrow\":false,\"text\":\"0.62\",\"x\":\"PROSPER\",\"xref\":\"x\",\"y\":\"PREDICTOR\",\"yref\":\"y\"},{\"font\":{\"color\":\"#000000\"},\"showarrow\":false,\"text\":\"0.51\",\"x\":\"ASCOT\",\"xref\":\"x\",\"y\":\"HVC\",\"yref\":\"y\"},{\"font\":{\"color\":\"#000000\"},\"showarrow\":false,\"text\":\"0.51\",\"x\":\"FLEMENGHO\",\"xref\":\"x\",\"y\":\"HVC\",\"yref\":\"y\"},{\"font\":{\"color\":\"#000000\"},\"showarrow\":false,\"text\":\"0.54\",\"x\":\"HEALTHABC\",\"xref\":\"x\",\"y\":\"HVC\",\"yref\":\"y\"},{\"font\":{\"color\":\"#000000\"},\"showarrow\":false,\"text\":\"nan\",\"x\":\"HULL_LIFELAB\",\"xref\":\"x\",\"y\":\"HVC\",\"yref\":\"y\"},{\"font\":{\"color\":\"#000000\"},\"showarrow\":false,\"text\":\"0.51\",\"x\":\"HVC\",\"xref\":\"x\",\"y\":\"HVC\",\"yref\":\"y\"},{\"font\":{\"color\":\"#000000\"},\"showarrow\":false,\"text\":\"0.51\",\"x\":\"PREDICTOR\",\"xref\":\"x\",\"y\":\"HVC\",\"yref\":\"y\"},{\"font\":{\"color\":\"#000000\"},\"showarrow\":false,\"text\":\"0.55\",\"x\":\"PROSPER\",\"xref\":\"x\",\"y\":\"HVC\",\"yref\":\"y\"},{\"font\":{\"color\":\"#000000\"},\"showarrow\":false,\"text\":\"0.62\",\"x\":\"ASCOT\",\"xref\":\"x\",\"y\":\"HULL_LIFELAB\",\"yref\":\"y\"},{\"font\":{\"color\":\"#000000\"},\"showarrow\":false,\"text\":\"0.68\",\"x\":\"FLEMENGHO\",\"xref\":\"x\",\"y\":\"HULL_LIFELAB\",\"yref\":\"y\"},{\"font\":{\"color\":\"#000000\"},\"showarrow\":false,\"text\":\"0.63\",\"x\":\"HEALTHABC\",\"xref\":\"x\",\"y\":\"HULL_LIFELAB\",\"yref\":\"y\"},{\"font\":{\"color\":\"#000000\"},\"showarrow\":false,\"text\":\"0.55\",\"x\":\"HULL_LIFELAB\",\"xref\":\"x\",\"y\":\"HULL_LIFELAB\",\"yref\":\"y\"},{\"font\":{\"color\":\"#000000\"},\"showarrow\":false,\"text\":\"nan\",\"x\":\"HVC\",\"xref\":\"x\",\"y\":\"HULL_LIFELAB\",\"yref\":\"y\"},{\"font\":{\"color\":\"#000000\"},\"showarrow\":false,\"text\":\"0.56\",\"x\":\"PREDICTOR\",\"xref\":\"x\",\"y\":\"HULL_LIFELAB\",\"yref\":\"y\"},{\"font\":{\"color\":\"#000000\"},\"showarrow\":false,\"text\":\"0.61\",\"x\":\"PROSPER\",\"xref\":\"x\",\"y\":\"HULL_LIFELAB\",\"yref\":\"y\"},{\"font\":{\"color\":\"#000000\"},\"showarrow\":false,\"text\":\"0.62\",\"x\":\"ASCOT\",\"xref\":\"x\",\"y\":\"HEALTHABC\",\"yref\":\"y\"},{\"font\":{\"color\":\"#000000\"},\"showarrow\":false,\"text\":\"0.65\",\"x\":\"FLEMENGHO\",\"xref\":\"x\",\"y\":\"HEALTHABC\",\"yref\":\"y\"},{\"font\":{\"color\":\"#000000\"},\"showarrow\":false,\"text\":\"0.69\",\"x\":\"HEALTHABC\",\"xref\":\"x\",\"y\":\"HEALTHABC\",\"yref\":\"y\"},{\"font\":{\"color\":\"#000000\"},\"showarrow\":false,\"text\":\"0.57\",\"x\":\"HULL_LIFELAB\",\"xref\":\"x\",\"y\":\"HEALTHABC\",\"yref\":\"y\"},{\"font\":{\"color\":\"#000000\"},\"showarrow\":false,\"text\":\"0.66\",\"x\":\"HVC\",\"xref\":\"x\",\"y\":\"HEALTHABC\",\"yref\":\"y\"},{\"font\":{\"color\":\"#000000\"},\"showarrow\":false,\"text\":\"nan\",\"x\":\"PREDICTOR\",\"xref\":\"x\",\"y\":\"HEALTHABC\",\"yref\":\"y\"},{\"font\":{\"color\":\"#000000\"},\"showarrow\":false,\"text\":\"0.67\",\"x\":\"PROSPER\",\"xref\":\"x\",\"y\":\"HEALTHABC\",\"yref\":\"y\"},{\"font\":{\"color\":\"#000000\"},\"showarrow\":false,\"text\":\"0.52\",\"x\":\"ASCOT\",\"xref\":\"x\",\"y\":\"FLEMENGHO\",\"yref\":\"y\"},{\"font\":{\"color\":\"#000000\"},\"showarrow\":false,\"text\":\"0.54\",\"x\":\"FLEMENGHO\",\"xref\":\"x\",\"y\":\"FLEMENGHO\",\"yref\":\"y\"},{\"font\":{\"color\":\"#000000\"},\"showarrow\":false,\"text\":\"0.64\",\"x\":\"HEALTHABC\",\"xref\":\"x\",\"y\":\"FLEMENGHO\",\"yref\":\"y\"},{\"font\":{\"color\":\"#000000\"},\"showarrow\":false,\"text\":\"0.61\",\"x\":\"HULL_LIFELAB\",\"xref\":\"x\",\"y\":\"FLEMENGHO\",\"yref\":\"y\"},{\"font\":{\"color\":\"#000000\"},\"showarrow\":false,\"text\":\"0.64\",\"x\":\"HVC\",\"xref\":\"x\",\"y\":\"FLEMENGHO\",\"yref\":\"y\"},{\"font\":{\"color\":\"#000000\"},\"showarrow\":false,\"text\":\"0.56\",\"x\":\"PREDICTOR\",\"xref\":\"x\",\"y\":\"FLEMENGHO\",\"yref\":\"y\"},{\"font\":{\"color\":\"#000000\"},\"showarrow\":false,\"text\":\"nan\",\"x\":\"PROSPER\",\"xref\":\"x\",\"y\":\"FLEMENGHO\",\"yref\":\"y\"},{\"font\":{\"color\":\"#000000\"},\"showarrow\":false,\"text\":\"nan\",\"x\":\"ASCOT\",\"xref\":\"x\",\"y\":\"ASCOT\",\"yref\":\"y\"},{\"font\":{\"color\":\"#000000\"},\"showarrow\":false,\"text\":\"0.67\",\"x\":\"FLEMENGHO\",\"xref\":\"x\",\"y\":\"ASCOT\",\"yref\":\"y\"},{\"font\":{\"color\":\"#000000\"},\"showarrow\":false,\"text\":\"0.65\",\"x\":\"HEALTHABC\",\"xref\":\"x\",\"y\":\"ASCOT\",\"yref\":\"y\"},{\"font\":{\"color\":\"#000000\"},\"showarrow\":false,\"text\":\"0.49\",\"x\":\"HULL_LIFELAB\",\"xref\":\"x\",\"y\":\"ASCOT\",\"yref\":\"y\"},{\"font\":{\"color\":\"#000000\"},\"showarrow\":false,\"text\":\"0.64\",\"x\":\"HVC\",\"xref\":\"x\",\"y\":\"ASCOT\",\"yref\":\"y\"},{\"font\":{\"color\":\"#000000\"},\"showarrow\":false,\"text\":\"0.59\",\"x\":\"PREDICTOR\",\"xref\":\"x\",\"y\":\"ASCOT\",\"yref\":\"y\"},{\"font\":{\"color\":\"#000000\"},\"showarrow\":false,\"text\":\"0.56\",\"x\":\"PROSPER\",\"xref\":\"x\",\"y\":\"ASCOT\",\"yref\":\"y\"}],\"template\":{\"data\":{\"bar\":[{\"error_x\":{\"color\":\"#2a3f5f\"},\"error_y\":{\"color\":\"#2a3f5f\"},\"marker\":{\"line\":{\"color\":\"#E5ECF6\",\"width\":0.5},\"pattern\":{\"fillmode\":\"overlay\",\"size\":10,\"solidity\":0.2}},\"type\":\"bar\"}],\"barpolar\":[{\"marker\":{\"line\":{\"color\":\"#E5ECF6\",\"width\":0.5},\"pattern\":{\"fillmode\":\"overlay\",\"size\":10,\"solidity\":0.2}},\"type\":\"barpolar\"}],\"carpet\":[{\"aaxis\":{\"endlinecolor\":\"#2a3f5f\",\"gridcolor\":\"white\",\"linecolor\":\"white\",\"minorgridcolor\":\"white\",\"startlinecolor\":\"#2a3f5f\"},\"baxis\":{\"endlinecolor\":\"#2a3f5f\",\"gridcolor\":\"white\",\"linecolor\":\"white\",\"minorgridcolor\":\"white\",\"startlinecolor\":\"#2a3f5f\"},\"type\":\"carpet\"}],\"choropleth\":[{\"colorbar\":{\"outlinewidth\":0,\"ticks\":\"\"},\"type\":\"choropleth\"}],\"contour\":[{\"colorbar\":{\"outlinewidth\":0,\"ticks\":\"\"},\"colorscale\":[[0.0,\"#0d0887\"],[0.1111111111111111,\"#46039f\"],[0.2222222222222222,\"#7201a8\"],[0.3333333333333333,\"#9c179e\"],[0.4444444444444444,\"#bd3786\"],[0.5555555555555556,\"#d8576b\"],[0.6666666666666666,\"#ed7953\"],[0.7777777777777778,\"#fb9f3a\"],[0.8888888888888888,\"#fdca26\"],[1.0,\"#f0f921\"]],\"type\":\"contour\"}],\"contourcarpet\":[{\"colorbar\":{\"outlinewidth\":0,\"ticks\":\"\"},\"type\":\"contourcarpet\"}],\"heatmap\":[{\"colorbar\":{\"outlinewidth\":0,\"ticks\":\"\"},\"colorscale\":[[0.0,\"#0d0887\"],[0.1111111111111111,\"#46039f\"],[0.2222222222222222,\"#7201a8\"],[0.3333333333333333,\"#9c179e\"],[0.4444444444444444,\"#bd3786\"],[0.5555555555555556,\"#d8576b\"],[0.6666666666666666,\"#ed7953\"],[0.7777777777777778,\"#fb9f3a\"],[0.8888888888888888,\"#fdca26\"],[1.0,\"#f0f921\"]],\"type\":\"heatmap\"}],\"heatmapgl\":[{\"colorbar\":{\"outlinewidth\":0,\"ticks\":\"\"},\"colorscale\":[[0.0,\"#0d0887\"],[0.1111111111111111,\"#46039f\"],[0.2222222222222222,\"#7201a8\"],[0.3333333333333333,\"#9c179e\"],[0.4444444444444444,\"#bd3786\"],[0.5555555555555556,\"#d8576b\"],[0.6666666666666666,\"#ed7953\"],[0.7777777777777778,\"#fb9f3a\"],[0.8888888888888888,\"#fdca26\"],[1.0,\"#f0f921\"]],\"type\":\"heatmapgl\"}],\"histogram\":[{\"marker\":{\"pattern\":{\"fillmode\":\"overlay\",\"size\":10,\"solidity\":0.2}},\"type\":\"histogram\"}],\"histogram2d\":[{\"colorbar\":{\"outlinewidth\":0,\"ticks\":\"\"},\"colorscale\":[[0.0,\"#0d0887\"],[0.1111111111111111,\"#46039f\"],[0.2222222222222222,\"#7201a8\"],[0.3333333333333333,\"#9c179e\"],[0.4444444444444444,\"#bd3786\"],[0.5555555555555556,\"#d8576b\"],[0.6666666666666666,\"#ed7953\"],[0.7777777777777778,\"#fb9f3a\"],[0.8888888888888888,\"#fdca26\"],[1.0,\"#f0f921\"]],\"type\":\"histogram2d\"}],\"histogram2dcontour\":[{\"colorbar\":{\"outlinewidth\":0,\"ticks\":\"\"},\"colorscale\":[[0.0,\"#0d0887\"],[0.1111111111111111,\"#46039f\"],[0.2222222222222222,\"#7201a8\"],[0.3333333333333333,\"#9c179e\"],[0.4444444444444444,\"#bd3786\"],[0.5555555555555556,\"#d8576b\"],[0.6666666666666666,\"#ed7953\"],[0.7777777777777778,\"#fb9f3a\"],[0.8888888888888888,\"#fdca26\"],[1.0,\"#f0f921\"]],\"type\":\"histogram2dcontour\"}],\"mesh3d\":[{\"colorbar\":{\"outlinewidth\":0,\"ticks\":\"\"},\"type\":\"mesh3d\"}],\"parcoords\":[{\"line\":{\"colorbar\":{\"outlinewidth\":0,\"ticks\":\"\"}},\"type\":\"parcoords\"}],\"pie\":[{\"automargin\":true,\"type\":\"pie\"}],\"scatter\":[{\"marker\":{\"colorbar\":{\"outlinewidth\":0,\"ticks\":\"\"}},\"type\":\"scatter\"}],\"scatter3d\":[{\"line\":{\"colorbar\":{\"outlinewidth\":0,\"ticks\":\"\"}},\"marker\":{\"colorbar\":{\"outlinewidth\":0,\"ticks\":\"\"}},\"type\":\"scatter3d\"}],\"scattercarpet\":[{\"marker\":{\"colorbar\":{\"outlinewidth\":0,\"ticks\":\"\"}},\"type\":\"scattercarpet\"}],\"scattergeo\":[{\"marker\":{\"colorbar\":{\"outlinewidth\":0,\"ticks\":\"\"}},\"type\":\"scattergeo\"}],\"scattergl\":[{\"marker\":{\"colorbar\":{\"outlinewidth\":0,\"ticks\":\"\"}},\"type\":\"scattergl\"}],\"scattermapbox\":[{\"marker\":{\"colorbar\":{\"outlinewidth\":0,\"ticks\":\"\"}},\"type\":\"scattermapbox\"}],\"scatterpolar\":[{\"marker\":{\"colorbar\":{\"outlinewidth\":0,\"ticks\":\"\"}},\"type\":\"scatterpolar\"}],\"scatterpolargl\":[{\"marker\":{\"colorbar\":{\"outlinewidth\":0,\"ticks\":\"\"}},\"type\":\"scatterpolargl\"}],\"scatterternary\":[{\"marker\":{\"colorbar\":{\"outlinewidth\":0,\"ticks\":\"\"}},\"type\":\"scatterternary\"}],\"surface\":[{\"colorbar\":{\"outlinewidth\":0,\"ticks\":\"\"},\"colorscale\":[[0.0,\"#0d0887\"],[0.1111111111111111,\"#46039f\"],[0.2222222222222222,\"#7201a8\"],[0.3333333333333333,\"#9c179e\"],[0.4444444444444444,\"#bd3786\"],[0.5555555555555556,\"#d8576b\"],[0.6666666666666666,\"#ed7953\"],[0.7777777777777778,\"#fb9f3a\"],[0.8888888888888888,\"#fdca26\"],[1.0,\"#f0f921\"]],\"type\":\"surface\"}],\"table\":[{\"cells\":{\"fill\":{\"color\":\"#EBF0F8\"},\"line\":{\"color\":\"white\"}},\"header\":{\"fill\":{\"color\":\"#C8D4E3\"},\"line\":{\"color\":\"white\"}},\"type\":\"table\"}]},\"layout\":{\"annotationdefaults\":{\"arrowcolor\":\"#2a3f5f\",\"arrowhead\":0,\"arrowwidth\":1},\"autotypenumbers\":\"strict\",\"coloraxis\":{\"colorbar\":{\"outlinewidth\":0,\"ticks\":\"\"}},\"colorscale\":{\"diverging\":[[0,\"#8e0152\"],[0.1,\"#c51b7d\"],[0.2,\"#de77ae\"],[0.3,\"#f1b6da\"],[0.4,\"#fde0ef\"],[0.5,\"#f7f7f7\"],[0.6,\"#e6f5d0\"],[0.7,\"#b8e186\"],[0.8,\"#7fbc41\"],[0.9,\"#4d9221\"],[1,\"#276419\"]],\"sequential\":[[0.0,\"#0d0887\"],[0.1111111111111111,\"#46039f\"],[0.2222222222222222,\"#7201a8\"],[0.3333333333333333,\"#9c179e\"],[0.4444444444444444,\"#bd3786\"],[0.5555555555555556,\"#d8576b\"],[0.6666666666666666,\"#ed7953\"],[0.7777777777777778,\"#fb9f3a\"],[0.8888888888888888,\"#fdca26\"],[1.0,\"#f0f921\"]],\"sequentialminus\":[[0.0,\"#0d0887\"],[0.1111111111111111,\"#46039f\"],[0.2222222222222222,\"#7201a8\"],[0.3333333333333333,\"#9c179e\"],[0.4444444444444444,\"#bd3786\"],[0.5555555555555556,\"#d8576b\"],[0.6666666666666666,\"#ed7953\"],[0.7777777777777778,\"#fb9f3a\"],[0.8888888888888888,\"#fdca26\"],[1.0,\"#f0f921\"]]},\"colorway\":[\"#636efa\",\"#EF553B\",\"#00cc96\",\"#ab63fa\",\"#FFA15A\",\"#19d3f3\",\"#FF6692\",\"#B6E880\",\"#FF97FF\",\"#FECB52\"],\"font\":{\"color\":\"#2a3f5f\"},\"geo\":{\"bgcolor\":\"white\",\"lakecolor\":\"white\",\"landcolor\":\"#E5ECF6\",\"showlakes\":true,\"showland\":true,\"subunitcolor\":\"white\"},\"hoverlabel\":{\"align\":\"left\"},\"hovermode\":\"closest\",\"mapbox\":{\"style\":\"light\"},\"paper_bgcolor\":\"white\",\"plot_bgcolor\":\"#E5ECF6\",\"polar\":{\"angularaxis\":{\"gridcolor\":\"white\",\"linecolor\":\"white\",\"ticks\":\"\"},\"bgcolor\":\"#E5ECF6\",\"radialaxis\":{\"gridcolor\":\"white\",\"linecolor\":\"white\",\"ticks\":\"\"}},\"scene\":{\"xaxis\":{\"backgroundcolor\":\"#E5ECF6\",\"gridcolor\":\"white\",\"gridwidth\":2,\"linecolor\":\"white\",\"showbackground\":true,\"ticks\":\"\",\"zerolinecolor\":\"white\"},\"yaxis\":{\"backgroundcolor\":\"#E5ECF6\",\"gridcolor\":\"white\",\"gridwidth\":2,\"linecolor\":\"white\",\"showbackground\":true,\"ticks\":\"\",\"zerolinecolor\":\"white\"},\"zaxis\":{\"backgroundcolor\":\"#E5ECF6\",\"gridcolor\":\"white\",\"gridwidth\":2,\"linecolor\":\"white\",\"showbackground\":true,\"ticks\":\"\",\"zerolinecolor\":\"white\"}},\"shapedefaults\":{\"line\":{\"color\":\"#2a3f5f\"}},\"ternary\":{\"aaxis\":{\"gridcolor\":\"white\",\"linecolor\":\"white\",\"ticks\":\"\"},\"baxis\":{\"gridcolor\":\"white\",\"linecolor\":\"white\",\"ticks\":\"\"},\"bgcolor\":\"#E5ECF6\",\"caxis\":{\"gridcolor\":\"white\",\"linecolor\":\"white\",\"ticks\":\"\"}},\"title\":{\"x\":0.05},\"xaxis\":{\"automargin\":true,\"gridcolor\":\"white\",\"linecolor\":\"white\",\"ticks\":\"\",\"title\":{\"standoff\":15},\"zerolinecolor\":\"white\",\"zerolinewidth\":2},\"yaxis\":{\"automargin\":true,\"gridcolor\":\"white\",\"linecolor\":\"white\",\"ticks\":\"\",\"title\":{\"standoff\":15},\"zerolinecolor\":\"white\",\"zerolinewidth\":2}}},\"xaxis\":{\"dtick\":1,\"gridcolor\":\"rgb(0, 0, 0)\",\"side\":\"top\",\"ticks\":\"\",\"title\":{\"text\":\"Trained on\"}},\"yaxis\":{\"dtick\":1,\"ticks\":\"\",\"ticksuffix\":\"  \",\"title\":{\"text\":\"Tested on\"}}},                        {\"responsive\": true}                    ).then(function(){\n                            \nvar gd = document.getElementById('9a98fd54-2dde-49c4-b91f-9b66116527d0');\nvar x = new MutationObserver(function (mutations, observer) {{\n        var display = window.getComputedStyle(gd).display;\n        if (!display || display === 'none') {{\n            console.log([gd, 'removed!']);\n            Plotly.purge(gd);\n            observer.disconnect();\n        }}\n}});\n\n// Listen for the removal of the full notebook cells\nvar notebookContainer = gd.closest('#notebook-container');\nif (notebookContainer) {{\n    x.observe(notebookContainer, {childList: true});\n}}\n\n// Listen for the clearing of the current output cell\nvar outputEl = gd.closest('.output');\nif (outputEl) {{\n    x.observe(outputEl, {childList: true});\n}}\n\n                        })                };                });            </script>        </div>"
     },
     "metadata": {},
     "output_type": "display_data"
    },
    {
     "data": {
      "text/plain": "<IPython.core.display.HTML object>",
      "text/html": "<h2>coxnet</h2>"
     },
     "metadata": {},
     "output_type": "display_data"
    },
    {
     "name": "stdout",
     "output_type": "stream",
     "text": [
      "Index(['run_id', 'experiment_id', 'status', 'artifact_uri', 'start_time',\n",
      "       'end_time', 'metrics.brier', 'metrics.c_index', 'tags.mlflow.user',\n",
      "       'tags.mlflow.source.git.commit', 'tags.mlflow.source.type',\n",
      "       'tags.method_name', 'tags.mlflow.source.name', 'tags.mlflow.runName',\n",
      "       'tags.mlflow.parentRunId'],\n",
      "      dtype='object')\n"
     ]
    },
    {
     "data": {
      "application/vnd.plotly.v1+json": {
       "config": {
        "plotlyServerURL": "https://plot.ly"
       },
       "data": [
        {
         "colorscale": [
          [
           0.0,
           "#0d0887"
          ],
          [
           0.1111111111111111,
           "#46039f"
          ],
          [
           0.2222222222222222,
           "#7201a8"
          ],
          [
           0.3333333333333333,
           "#9c179e"
          ],
          [
           0.4444444444444444,
           "#bd3786"
          ],
          [
           0.5555555555555556,
           "#d8576b"
          ],
          [
           0.6666666666666666,
           "#ed7953"
          ],
          [
           0.7777777777777778,
           "#fb9f3a"
          ],
          [
           0.8888888888888888,
           "#fdca26"
          ],
          [
           1.0,
           "#f0f921"
          ]
         ],
         "reversescale": false,
         "showscale": false,
         "type": "heatmap",
         "x": [
          "ASCOT",
          "FLEMENGHO",
          "HEALTHABC",
          "HULL_LIFELAB",
          "HVC",
          "PREDICTOR",
          "PROSPER"
         ],
         "y": [
          "PROSPER",
          "PREDICTOR",
          "HVC",
          "HULL_LIFELAB",
          "HEALTHABC",
          "FLEMENGHO",
          "ASCOT"
         ],
         "z": [
          [
           0.6,
           null,
           0.85,
           0.56,
           0.66,
           0.83,
           0.83
          ],
          [
           0.5,
           0.58,
           null,
           0.56,
           0.48,
           0.64,
           0.64
          ],
          [
           0.5,
           0.52,
           0.53,
           null,
           0.52,
           0.56,
           0.55
          ],
          [
           0.5,
           0.61,
           0.61,
           0.53,
           null,
           0.63,
           0.68
          ],
          [
           0.5,
           0.63,
           0.71,
           0.57,
           0.59,
           null,
           0.68
          ],
          [
           0.5,
           0.55,
           0.66,
           0.6,
           0.49,
           0.64,
           null
          ],
          [
           null,
           0.66,
           0.75,
           0.5,
           0.51,
           0.69,
           0.66
          ]
         ]
        }
       ],
       "layout": {
        "annotations": [
         {
          "font": {
           "color": "#000000"
          },
          "showarrow": false,
          "text": "0.6",
          "x": "ASCOT",
          "xref": "x",
          "y": "PROSPER",
          "yref": "y"
         },
         {
          "font": {
           "color": "#000000"
          },
          "showarrow": false,
          "text": "nan",
          "x": "FLEMENGHO",
          "xref": "x",
          "y": "PROSPER",
          "yref": "y"
         },
         {
          "font": {
           "color": "#000000"
          },
          "showarrow": false,
          "text": "0.85",
          "x": "HEALTHABC",
          "xref": "x",
          "y": "PROSPER",
          "yref": "y"
         },
         {
          "font": {
           "color": "#000000"
          },
          "showarrow": false,
          "text": "0.56",
          "x": "HULL_LIFELAB",
          "xref": "x",
          "y": "PROSPER",
          "yref": "y"
         },
         {
          "font": {
           "color": "#000000"
          },
          "showarrow": false,
          "text": "0.66",
          "x": "HVC",
          "xref": "x",
          "y": "PROSPER",
          "yref": "y"
         },
         {
          "font": {
           "color": "#000000"
          },
          "showarrow": false,
          "text": "0.83",
          "x": "PREDICTOR",
          "xref": "x",
          "y": "PROSPER",
          "yref": "y"
         },
         {
          "font": {
           "color": "#000000"
          },
          "showarrow": false,
          "text": "0.83",
          "x": "PROSPER",
          "xref": "x",
          "y": "PROSPER",
          "yref": "y"
         },
         {
          "font": {
           "color": "#000000"
          },
          "showarrow": false,
          "text": "0.5",
          "x": "ASCOT",
          "xref": "x",
          "y": "PREDICTOR",
          "yref": "y"
         },
         {
          "font": {
           "color": "#000000"
          },
          "showarrow": false,
          "text": "0.58",
          "x": "FLEMENGHO",
          "xref": "x",
          "y": "PREDICTOR",
          "yref": "y"
         },
         {
          "font": {
           "color": "#000000"
          },
          "showarrow": false,
          "text": "nan",
          "x": "HEALTHABC",
          "xref": "x",
          "y": "PREDICTOR",
          "yref": "y"
         },
         {
          "font": {
           "color": "#000000"
          },
          "showarrow": false,
          "text": "0.56",
          "x": "HULL_LIFELAB",
          "xref": "x",
          "y": "PREDICTOR",
          "yref": "y"
         },
         {
          "font": {
           "color": "#000000"
          },
          "showarrow": false,
          "text": "0.48",
          "x": "HVC",
          "xref": "x",
          "y": "PREDICTOR",
          "yref": "y"
         },
         {
          "font": {
           "color": "#000000"
          },
          "showarrow": false,
          "text": "0.64",
          "x": "PREDICTOR",
          "xref": "x",
          "y": "PREDICTOR",
          "yref": "y"
         },
         {
          "font": {
           "color": "#000000"
          },
          "showarrow": false,
          "text": "0.64",
          "x": "PROSPER",
          "xref": "x",
          "y": "PREDICTOR",
          "yref": "y"
         },
         {
          "font": {
           "color": "#000000"
          },
          "showarrow": false,
          "text": "0.5",
          "x": "ASCOT",
          "xref": "x",
          "y": "HVC",
          "yref": "y"
         },
         {
          "font": {
           "color": "#000000"
          },
          "showarrow": false,
          "text": "0.52",
          "x": "FLEMENGHO",
          "xref": "x",
          "y": "HVC",
          "yref": "y"
         },
         {
          "font": {
           "color": "#000000"
          },
          "showarrow": false,
          "text": "0.53",
          "x": "HEALTHABC",
          "xref": "x",
          "y": "HVC",
          "yref": "y"
         },
         {
          "font": {
           "color": "#000000"
          },
          "showarrow": false,
          "text": "nan",
          "x": "HULL_LIFELAB",
          "xref": "x",
          "y": "HVC",
          "yref": "y"
         },
         {
          "font": {
           "color": "#000000"
          },
          "showarrow": false,
          "text": "0.52",
          "x": "HVC",
          "xref": "x",
          "y": "HVC",
          "yref": "y"
         },
         {
          "font": {
           "color": "#000000"
          },
          "showarrow": false,
          "text": "0.56",
          "x": "PREDICTOR",
          "xref": "x",
          "y": "HVC",
          "yref": "y"
         },
         {
          "font": {
           "color": "#000000"
          },
          "showarrow": false,
          "text": "0.55",
          "x": "PROSPER",
          "xref": "x",
          "y": "HVC",
          "yref": "y"
         },
         {
          "font": {
           "color": "#000000"
          },
          "showarrow": false,
          "text": "0.5",
          "x": "ASCOT",
          "xref": "x",
          "y": "HULL_LIFELAB",
          "yref": "y"
         },
         {
          "font": {
           "color": "#000000"
          },
          "showarrow": false,
          "text": "0.61",
          "x": "FLEMENGHO",
          "xref": "x",
          "y": "HULL_LIFELAB",
          "yref": "y"
         },
         {
          "font": {
           "color": "#000000"
          },
          "showarrow": false,
          "text": "0.61",
          "x": "HEALTHABC",
          "xref": "x",
          "y": "HULL_LIFELAB",
          "yref": "y"
         },
         {
          "font": {
           "color": "#000000"
          },
          "showarrow": false,
          "text": "0.53",
          "x": "HULL_LIFELAB",
          "xref": "x",
          "y": "HULL_LIFELAB",
          "yref": "y"
         },
         {
          "font": {
           "color": "#000000"
          },
          "showarrow": false,
          "text": "nan",
          "x": "HVC",
          "xref": "x",
          "y": "HULL_LIFELAB",
          "yref": "y"
         },
         {
          "font": {
           "color": "#000000"
          },
          "showarrow": false,
          "text": "0.63",
          "x": "PREDICTOR",
          "xref": "x",
          "y": "HULL_LIFELAB",
          "yref": "y"
         },
         {
          "font": {
           "color": "#000000"
          },
          "showarrow": false,
          "text": "0.68",
          "x": "PROSPER",
          "xref": "x",
          "y": "HULL_LIFELAB",
          "yref": "y"
         },
         {
          "font": {
           "color": "#000000"
          },
          "showarrow": false,
          "text": "0.5",
          "x": "ASCOT",
          "xref": "x",
          "y": "HEALTHABC",
          "yref": "y"
         },
         {
          "font": {
           "color": "#000000"
          },
          "showarrow": false,
          "text": "0.63",
          "x": "FLEMENGHO",
          "xref": "x",
          "y": "HEALTHABC",
          "yref": "y"
         },
         {
          "font": {
           "color": "#000000"
          },
          "showarrow": false,
          "text": "0.71",
          "x": "HEALTHABC",
          "xref": "x",
          "y": "HEALTHABC",
          "yref": "y"
         },
         {
          "font": {
           "color": "#000000"
          },
          "showarrow": false,
          "text": "0.57",
          "x": "HULL_LIFELAB",
          "xref": "x",
          "y": "HEALTHABC",
          "yref": "y"
         },
         {
          "font": {
           "color": "#000000"
          },
          "showarrow": false,
          "text": "0.59",
          "x": "HVC",
          "xref": "x",
          "y": "HEALTHABC",
          "yref": "y"
         },
         {
          "font": {
           "color": "#000000"
          },
          "showarrow": false,
          "text": "nan",
          "x": "PREDICTOR",
          "xref": "x",
          "y": "HEALTHABC",
          "yref": "y"
         },
         {
          "font": {
           "color": "#000000"
          },
          "showarrow": false,
          "text": "0.68",
          "x": "PROSPER",
          "xref": "x",
          "y": "HEALTHABC",
          "yref": "y"
         },
         {
          "font": {
           "color": "#000000"
          },
          "showarrow": false,
          "text": "0.5",
          "x": "ASCOT",
          "xref": "x",
          "y": "FLEMENGHO",
          "yref": "y"
         },
         {
          "font": {
           "color": "#000000"
          },
          "showarrow": false,
          "text": "0.55",
          "x": "FLEMENGHO",
          "xref": "x",
          "y": "FLEMENGHO",
          "yref": "y"
         },
         {
          "font": {
           "color": "#000000"
          },
          "showarrow": false,
          "text": "0.66",
          "x": "HEALTHABC",
          "xref": "x",
          "y": "FLEMENGHO",
          "yref": "y"
         },
         {
          "font": {
           "color": "#000000"
          },
          "showarrow": false,
          "text": "0.6",
          "x": "HULL_LIFELAB",
          "xref": "x",
          "y": "FLEMENGHO",
          "yref": "y"
         },
         {
          "font": {
           "color": "#000000"
          },
          "showarrow": false,
          "text": "0.49",
          "x": "HVC",
          "xref": "x",
          "y": "FLEMENGHO",
          "yref": "y"
         },
         {
          "font": {
           "color": "#000000"
          },
          "showarrow": false,
          "text": "0.64",
          "x": "PREDICTOR",
          "xref": "x",
          "y": "FLEMENGHO",
          "yref": "y"
         },
         {
          "font": {
           "color": "#000000"
          },
          "showarrow": false,
          "text": "nan",
          "x": "PROSPER",
          "xref": "x",
          "y": "FLEMENGHO",
          "yref": "y"
         },
         {
          "font": {
           "color": "#000000"
          },
          "showarrow": false,
          "text": "nan",
          "x": "ASCOT",
          "xref": "x",
          "y": "ASCOT",
          "yref": "y"
         },
         {
          "font": {
           "color": "#000000"
          },
          "showarrow": false,
          "text": "0.66",
          "x": "FLEMENGHO",
          "xref": "x",
          "y": "ASCOT",
          "yref": "y"
         },
         {
          "font": {
           "color": "#000000"
          },
          "showarrow": false,
          "text": "0.75",
          "x": "HEALTHABC",
          "xref": "x",
          "y": "ASCOT",
          "yref": "y"
         },
         {
          "font": {
           "color": "#000000"
          },
          "showarrow": false,
          "text": "0.5",
          "x": "HULL_LIFELAB",
          "xref": "x",
          "y": "ASCOT",
          "yref": "y"
         },
         {
          "font": {
           "color": "#000000"
          },
          "showarrow": false,
          "text": "0.51",
          "x": "HVC",
          "xref": "x",
          "y": "ASCOT",
          "yref": "y"
         },
         {
          "font": {
           "color": "#000000"
          },
          "showarrow": false,
          "text": "0.69",
          "x": "PREDICTOR",
          "xref": "x",
          "y": "ASCOT",
          "yref": "y"
         },
         {
          "font": {
           "color": "#000000"
          },
          "showarrow": false,
          "text": "0.66",
          "x": "PROSPER",
          "xref": "x",
          "y": "ASCOT",
          "yref": "y"
         }
        ],
        "template": {
         "data": {
          "bar": [
           {
            "error_x": {
             "color": "#2a3f5f"
            },
            "error_y": {
             "color": "#2a3f5f"
            },
            "marker": {
             "line": {
              "color": "#E5ECF6",
              "width": 0.5
             },
             "pattern": {
              "fillmode": "overlay",
              "size": 10,
              "solidity": 0.2
             }
            },
            "type": "bar"
           }
          ],
          "barpolar": [
           {
            "marker": {
             "line": {
              "color": "#E5ECF6",
              "width": 0.5
             },
             "pattern": {
              "fillmode": "overlay",
              "size": 10,
              "solidity": 0.2
             }
            },
            "type": "barpolar"
           }
          ],
          "carpet": [
           {
            "aaxis": {
             "endlinecolor": "#2a3f5f",
             "gridcolor": "white",
             "linecolor": "white",
             "minorgridcolor": "white",
             "startlinecolor": "#2a3f5f"
            },
            "baxis": {
             "endlinecolor": "#2a3f5f",
             "gridcolor": "white",
             "linecolor": "white",
             "minorgridcolor": "white",
             "startlinecolor": "#2a3f5f"
            },
            "type": "carpet"
           }
          ],
          "choropleth": [
           {
            "colorbar": {
             "outlinewidth": 0,
             "ticks": ""
            },
            "type": "choropleth"
           }
          ],
          "contour": [
           {
            "colorbar": {
             "outlinewidth": 0,
             "ticks": ""
            },
            "colorscale": [
             [
              0.0,
              "#0d0887"
             ],
             [
              0.1111111111111111,
              "#46039f"
             ],
             [
              0.2222222222222222,
              "#7201a8"
             ],
             [
              0.3333333333333333,
              "#9c179e"
             ],
             [
              0.4444444444444444,
              "#bd3786"
             ],
             [
              0.5555555555555556,
              "#d8576b"
             ],
             [
              0.6666666666666666,
              "#ed7953"
             ],
             [
              0.7777777777777778,
              "#fb9f3a"
             ],
             [
              0.8888888888888888,
              "#fdca26"
             ],
             [
              1.0,
              "#f0f921"
             ]
            ],
            "type": "contour"
           }
          ],
          "contourcarpet": [
           {
            "colorbar": {
             "outlinewidth": 0,
             "ticks": ""
            },
            "type": "contourcarpet"
           }
          ],
          "heatmap": [
           {
            "colorbar": {
             "outlinewidth": 0,
             "ticks": ""
            },
            "colorscale": [
             [
              0.0,
              "#0d0887"
             ],
             [
              0.1111111111111111,
              "#46039f"
             ],
             [
              0.2222222222222222,
              "#7201a8"
             ],
             [
              0.3333333333333333,
              "#9c179e"
             ],
             [
              0.4444444444444444,
              "#bd3786"
             ],
             [
              0.5555555555555556,
              "#d8576b"
             ],
             [
              0.6666666666666666,
              "#ed7953"
             ],
             [
              0.7777777777777778,
              "#fb9f3a"
             ],
             [
              0.8888888888888888,
              "#fdca26"
             ],
             [
              1.0,
              "#f0f921"
             ]
            ],
            "type": "heatmap"
           }
          ],
          "heatmapgl": [
           {
            "colorbar": {
             "outlinewidth": 0,
             "ticks": ""
            },
            "colorscale": [
             [
              0.0,
              "#0d0887"
             ],
             [
              0.1111111111111111,
              "#46039f"
             ],
             [
              0.2222222222222222,
              "#7201a8"
             ],
             [
              0.3333333333333333,
              "#9c179e"
             ],
             [
              0.4444444444444444,
              "#bd3786"
             ],
             [
              0.5555555555555556,
              "#d8576b"
             ],
             [
              0.6666666666666666,
              "#ed7953"
             ],
             [
              0.7777777777777778,
              "#fb9f3a"
             ],
             [
              0.8888888888888888,
              "#fdca26"
             ],
             [
              1.0,
              "#f0f921"
             ]
            ],
            "type": "heatmapgl"
           }
          ],
          "histogram": [
           {
            "marker": {
             "pattern": {
              "fillmode": "overlay",
              "size": 10,
              "solidity": 0.2
             }
            },
            "type": "histogram"
           }
          ],
          "histogram2d": [
           {
            "colorbar": {
             "outlinewidth": 0,
             "ticks": ""
            },
            "colorscale": [
             [
              0.0,
              "#0d0887"
             ],
             [
              0.1111111111111111,
              "#46039f"
             ],
             [
              0.2222222222222222,
              "#7201a8"
             ],
             [
              0.3333333333333333,
              "#9c179e"
             ],
             [
              0.4444444444444444,
              "#bd3786"
             ],
             [
              0.5555555555555556,
              "#d8576b"
             ],
             [
              0.6666666666666666,
              "#ed7953"
             ],
             [
              0.7777777777777778,
              "#fb9f3a"
             ],
             [
              0.8888888888888888,
              "#fdca26"
             ],
             [
              1.0,
              "#f0f921"
             ]
            ],
            "type": "histogram2d"
           }
          ],
          "histogram2dcontour": [
           {
            "colorbar": {
             "outlinewidth": 0,
             "ticks": ""
            },
            "colorscale": [
             [
              0.0,
              "#0d0887"
             ],
             [
              0.1111111111111111,
              "#46039f"
             ],
             [
              0.2222222222222222,
              "#7201a8"
             ],
             [
              0.3333333333333333,
              "#9c179e"
             ],
             [
              0.4444444444444444,
              "#bd3786"
             ],
             [
              0.5555555555555556,
              "#d8576b"
             ],
             [
              0.6666666666666666,
              "#ed7953"
             ],
             [
              0.7777777777777778,
              "#fb9f3a"
             ],
             [
              0.8888888888888888,
              "#fdca26"
             ],
             [
              1.0,
              "#f0f921"
             ]
            ],
            "type": "histogram2dcontour"
           }
          ],
          "mesh3d": [
           {
            "colorbar": {
             "outlinewidth": 0,
             "ticks": ""
            },
            "type": "mesh3d"
           }
          ],
          "parcoords": [
           {
            "line": {
             "colorbar": {
              "outlinewidth": 0,
              "ticks": ""
             }
            },
            "type": "parcoords"
           }
          ],
          "pie": [
           {
            "automargin": true,
            "type": "pie"
           }
          ],
          "scatter": [
           {
            "marker": {
             "colorbar": {
              "outlinewidth": 0,
              "ticks": ""
             }
            },
            "type": "scatter"
           }
          ],
          "scatter3d": [
           {
            "line": {
             "colorbar": {
              "outlinewidth": 0,
              "ticks": ""
             }
            },
            "marker": {
             "colorbar": {
              "outlinewidth": 0,
              "ticks": ""
             }
            },
            "type": "scatter3d"
           }
          ],
          "scattercarpet": [
           {
            "marker": {
             "colorbar": {
              "outlinewidth": 0,
              "ticks": ""
             }
            },
            "type": "scattercarpet"
           }
          ],
          "scattergeo": [
           {
            "marker": {
             "colorbar": {
              "outlinewidth": 0,
              "ticks": ""
             }
            },
            "type": "scattergeo"
           }
          ],
          "scattergl": [
           {
            "marker": {
             "colorbar": {
              "outlinewidth": 0,
              "ticks": ""
             }
            },
            "type": "scattergl"
           }
          ],
          "scattermapbox": [
           {
            "marker": {
             "colorbar": {
              "outlinewidth": 0,
              "ticks": ""
             }
            },
            "type": "scattermapbox"
           }
          ],
          "scatterpolar": [
           {
            "marker": {
             "colorbar": {
              "outlinewidth": 0,
              "ticks": ""
             }
            },
            "type": "scatterpolar"
           }
          ],
          "scatterpolargl": [
           {
            "marker": {
             "colorbar": {
              "outlinewidth": 0,
              "ticks": ""
             }
            },
            "type": "scatterpolargl"
           }
          ],
          "scatterternary": [
           {
            "marker": {
             "colorbar": {
              "outlinewidth": 0,
              "ticks": ""
             }
            },
            "type": "scatterternary"
           }
          ],
          "surface": [
           {
            "colorbar": {
             "outlinewidth": 0,
             "ticks": ""
            },
            "colorscale": [
             [
              0.0,
              "#0d0887"
             ],
             [
              0.1111111111111111,
              "#46039f"
             ],
             [
              0.2222222222222222,
              "#7201a8"
             ],
             [
              0.3333333333333333,
              "#9c179e"
             ],
             [
              0.4444444444444444,
              "#bd3786"
             ],
             [
              0.5555555555555556,
              "#d8576b"
             ],
             [
              0.6666666666666666,
              "#ed7953"
             ],
             [
              0.7777777777777778,
              "#fb9f3a"
             ],
             [
              0.8888888888888888,
              "#fdca26"
             ],
             [
              1.0,
              "#f0f921"
             ]
            ],
            "type": "surface"
           }
          ],
          "table": [
           {
            "cells": {
             "fill": {
              "color": "#EBF0F8"
             },
             "line": {
              "color": "white"
             }
            },
            "header": {
             "fill": {
              "color": "#C8D4E3"
             },
             "line": {
              "color": "white"
             }
            },
            "type": "table"
           }
          ]
         },
         "layout": {
          "annotationdefaults": {
           "arrowcolor": "#2a3f5f",
           "arrowhead": 0,
           "arrowwidth": 1
          },
          "autotypenumbers": "strict",
          "coloraxis": {
           "colorbar": {
            "outlinewidth": 0,
            "ticks": ""
           }
          },
          "colorscale": {
           "diverging": [
            [
             0,
             "#8e0152"
            ],
            [
             0.1,
             "#c51b7d"
            ],
            [
             0.2,
             "#de77ae"
            ],
            [
             0.3,
             "#f1b6da"
            ],
            [
             0.4,
             "#fde0ef"
            ],
            [
             0.5,
             "#f7f7f7"
            ],
            [
             0.6,
             "#e6f5d0"
            ],
            [
             0.7,
             "#b8e186"
            ],
            [
             0.8,
             "#7fbc41"
            ],
            [
             0.9,
             "#4d9221"
            ],
            [
             1,
             "#276419"
            ]
           ],
           "sequential": [
            [
             0.0,
             "#0d0887"
            ],
            [
             0.1111111111111111,
             "#46039f"
            ],
            [
             0.2222222222222222,
             "#7201a8"
            ],
            [
             0.3333333333333333,
             "#9c179e"
            ],
            [
             0.4444444444444444,
             "#bd3786"
            ],
            [
             0.5555555555555556,
             "#d8576b"
            ],
            [
             0.6666666666666666,
             "#ed7953"
            ],
            [
             0.7777777777777778,
             "#fb9f3a"
            ],
            [
             0.8888888888888888,
             "#fdca26"
            ],
            [
             1.0,
             "#f0f921"
            ]
           ],
           "sequentialminus": [
            [
             0.0,
             "#0d0887"
            ],
            [
             0.1111111111111111,
             "#46039f"
            ],
            [
             0.2222222222222222,
             "#7201a8"
            ],
            [
             0.3333333333333333,
             "#9c179e"
            ],
            [
             0.4444444444444444,
             "#bd3786"
            ],
            [
             0.5555555555555556,
             "#d8576b"
            ],
            [
             0.6666666666666666,
             "#ed7953"
            ],
            [
             0.7777777777777778,
             "#fb9f3a"
            ],
            [
             0.8888888888888888,
             "#fdca26"
            ],
            [
             1.0,
             "#f0f921"
            ]
           ]
          },
          "colorway": [
           "#636efa",
           "#EF553B",
           "#00cc96",
           "#ab63fa",
           "#FFA15A",
           "#19d3f3",
           "#FF6692",
           "#B6E880",
           "#FF97FF",
           "#FECB52"
          ],
          "font": {
           "color": "#2a3f5f"
          },
          "geo": {
           "bgcolor": "white",
           "lakecolor": "white",
           "landcolor": "#E5ECF6",
           "showlakes": true,
           "showland": true,
           "subunitcolor": "white"
          },
          "hoverlabel": {
           "align": "left"
          },
          "hovermode": "closest",
          "mapbox": {
           "style": "light"
          },
          "paper_bgcolor": "white",
          "plot_bgcolor": "#E5ECF6",
          "polar": {
           "angularaxis": {
            "gridcolor": "white",
            "linecolor": "white",
            "ticks": ""
           },
           "bgcolor": "#E5ECF6",
           "radialaxis": {
            "gridcolor": "white",
            "linecolor": "white",
            "ticks": ""
           }
          },
          "scene": {
           "xaxis": {
            "backgroundcolor": "#E5ECF6",
            "gridcolor": "white",
            "gridwidth": 2,
            "linecolor": "white",
            "showbackground": true,
            "ticks": "",
            "zerolinecolor": "white"
           },
           "yaxis": {
            "backgroundcolor": "#E5ECF6",
            "gridcolor": "white",
            "gridwidth": 2,
            "linecolor": "white",
            "showbackground": true,
            "ticks": "",
            "zerolinecolor": "white"
           },
           "zaxis": {
            "backgroundcolor": "#E5ECF6",
            "gridcolor": "white",
            "gridwidth": 2,
            "linecolor": "white",
            "showbackground": true,
            "ticks": "",
            "zerolinecolor": "white"
           }
          },
          "shapedefaults": {
           "line": {
            "color": "#2a3f5f"
           }
          },
          "ternary": {
           "aaxis": {
            "gridcolor": "white",
            "linecolor": "white",
            "ticks": ""
           },
           "baxis": {
            "gridcolor": "white",
            "linecolor": "white",
            "ticks": ""
           },
           "bgcolor": "#E5ECF6",
           "caxis": {
            "gridcolor": "white",
            "linecolor": "white",
            "ticks": ""
           }
          },
          "title": {
           "x": 0.05
          },
          "xaxis": {
           "automargin": true,
           "gridcolor": "white",
           "linecolor": "white",
           "ticks": "",
           "title": {
            "standoff": 15
           },
           "zerolinecolor": "white",
           "zerolinewidth": 2
          },
          "yaxis": {
           "automargin": true,
           "gridcolor": "white",
           "linecolor": "white",
           "ticks": "",
           "title": {
            "standoff": 15
           },
           "zerolinecolor": "white",
           "zerolinewidth": 2
          }
         }
        },
        "xaxis": {
         "dtick": 1,
         "gridcolor": "rgb(0, 0, 0)",
         "side": "top",
         "ticks": "",
         "title": {
          "text": "Trained on"
         }
        },
        "yaxis": {
         "dtick": 1,
         "ticks": "",
         "ticksuffix": "  ",
         "title": {
          "text": "Tested on"
         }
        }
       }
      },
      "text/html": "<div>                            <div id=\"4762eb5e-1905-46b9-9f2b-c8bd239dbe49\" class=\"plotly-graph-div\" style=\"height:525px; width:100%;\"></div>            <script type=\"text/javascript\">                require([\"plotly\"], function(Plotly) {                    window.PLOTLYENV=window.PLOTLYENV || {};                                    if (document.getElementById(\"4762eb5e-1905-46b9-9f2b-c8bd239dbe49\")) {                    Plotly.newPlot(                        \"4762eb5e-1905-46b9-9f2b-c8bd239dbe49\",                        [{\"colorscale\":[[0.0,\"#0d0887\"],[0.1111111111111111,\"#46039f\"],[0.2222222222222222,\"#7201a8\"],[0.3333333333333333,\"#9c179e\"],[0.4444444444444444,\"#bd3786\"],[0.5555555555555556,\"#d8576b\"],[0.6666666666666666,\"#ed7953\"],[0.7777777777777778,\"#fb9f3a\"],[0.8888888888888888,\"#fdca26\"],[1.0,\"#f0f921\"]],\"reversescale\":false,\"showscale\":false,\"type\":\"heatmap\",\"x\":[\"ASCOT\",\"FLEMENGHO\",\"HEALTHABC\",\"HULL_LIFELAB\",\"HVC\",\"PREDICTOR\",\"PROSPER\"],\"y\":[\"PROSPER\",\"PREDICTOR\",\"HVC\",\"HULL_LIFELAB\",\"HEALTHABC\",\"FLEMENGHO\",\"ASCOT\"],\"z\":[[0.6,null,0.85,0.56,0.66,0.83,0.83],[0.5,0.58,null,0.56,0.48,0.64,0.64],[0.5,0.52,0.53,null,0.52,0.56,0.55],[0.5,0.61,0.61,0.53,null,0.63,0.68],[0.5,0.63,0.71,0.57,0.59,null,0.68],[0.5,0.55,0.66,0.6,0.49,0.64,null],[null,0.66,0.75,0.5,0.51,0.69,0.66]]}],                        {\"annotations\":[{\"font\":{\"color\":\"#000000\"},\"showarrow\":false,\"text\":\"0.6\",\"x\":\"ASCOT\",\"xref\":\"x\",\"y\":\"PROSPER\",\"yref\":\"y\"},{\"font\":{\"color\":\"#000000\"},\"showarrow\":false,\"text\":\"nan\",\"x\":\"FLEMENGHO\",\"xref\":\"x\",\"y\":\"PROSPER\",\"yref\":\"y\"},{\"font\":{\"color\":\"#000000\"},\"showarrow\":false,\"text\":\"0.85\",\"x\":\"HEALTHABC\",\"xref\":\"x\",\"y\":\"PROSPER\",\"yref\":\"y\"},{\"font\":{\"color\":\"#000000\"},\"showarrow\":false,\"text\":\"0.56\",\"x\":\"HULL_LIFELAB\",\"xref\":\"x\",\"y\":\"PROSPER\",\"yref\":\"y\"},{\"font\":{\"color\":\"#000000\"},\"showarrow\":false,\"text\":\"0.66\",\"x\":\"HVC\",\"xref\":\"x\",\"y\":\"PROSPER\",\"yref\":\"y\"},{\"font\":{\"color\":\"#000000\"},\"showarrow\":false,\"text\":\"0.83\",\"x\":\"PREDICTOR\",\"xref\":\"x\",\"y\":\"PROSPER\",\"yref\":\"y\"},{\"font\":{\"color\":\"#000000\"},\"showarrow\":false,\"text\":\"0.83\",\"x\":\"PROSPER\",\"xref\":\"x\",\"y\":\"PROSPER\",\"yref\":\"y\"},{\"font\":{\"color\":\"#000000\"},\"showarrow\":false,\"text\":\"0.5\",\"x\":\"ASCOT\",\"xref\":\"x\",\"y\":\"PREDICTOR\",\"yref\":\"y\"},{\"font\":{\"color\":\"#000000\"},\"showarrow\":false,\"text\":\"0.58\",\"x\":\"FLEMENGHO\",\"xref\":\"x\",\"y\":\"PREDICTOR\",\"yref\":\"y\"},{\"font\":{\"color\":\"#000000\"},\"showarrow\":false,\"text\":\"nan\",\"x\":\"HEALTHABC\",\"xref\":\"x\",\"y\":\"PREDICTOR\",\"yref\":\"y\"},{\"font\":{\"color\":\"#000000\"},\"showarrow\":false,\"text\":\"0.56\",\"x\":\"HULL_LIFELAB\",\"xref\":\"x\",\"y\":\"PREDICTOR\",\"yref\":\"y\"},{\"font\":{\"color\":\"#000000\"},\"showarrow\":false,\"text\":\"0.48\",\"x\":\"HVC\",\"xref\":\"x\",\"y\":\"PREDICTOR\",\"yref\":\"y\"},{\"font\":{\"color\":\"#000000\"},\"showarrow\":false,\"text\":\"0.64\",\"x\":\"PREDICTOR\",\"xref\":\"x\",\"y\":\"PREDICTOR\",\"yref\":\"y\"},{\"font\":{\"color\":\"#000000\"},\"showarrow\":false,\"text\":\"0.64\",\"x\":\"PROSPER\",\"xref\":\"x\",\"y\":\"PREDICTOR\",\"yref\":\"y\"},{\"font\":{\"color\":\"#000000\"},\"showarrow\":false,\"text\":\"0.5\",\"x\":\"ASCOT\",\"xref\":\"x\",\"y\":\"HVC\",\"yref\":\"y\"},{\"font\":{\"color\":\"#000000\"},\"showarrow\":false,\"text\":\"0.52\",\"x\":\"FLEMENGHO\",\"xref\":\"x\",\"y\":\"HVC\",\"yref\":\"y\"},{\"font\":{\"color\":\"#000000\"},\"showarrow\":false,\"text\":\"0.53\",\"x\":\"HEALTHABC\",\"xref\":\"x\",\"y\":\"HVC\",\"yref\":\"y\"},{\"font\":{\"color\":\"#000000\"},\"showarrow\":false,\"text\":\"nan\",\"x\":\"HULL_LIFELAB\",\"xref\":\"x\",\"y\":\"HVC\",\"yref\":\"y\"},{\"font\":{\"color\":\"#000000\"},\"showarrow\":false,\"text\":\"0.52\",\"x\":\"HVC\",\"xref\":\"x\",\"y\":\"HVC\",\"yref\":\"y\"},{\"font\":{\"color\":\"#000000\"},\"showarrow\":false,\"text\":\"0.56\",\"x\":\"PREDICTOR\",\"xref\":\"x\",\"y\":\"HVC\",\"yref\":\"y\"},{\"font\":{\"color\":\"#000000\"},\"showarrow\":false,\"text\":\"0.55\",\"x\":\"PROSPER\",\"xref\":\"x\",\"y\":\"HVC\",\"yref\":\"y\"},{\"font\":{\"color\":\"#000000\"},\"showarrow\":false,\"text\":\"0.5\",\"x\":\"ASCOT\",\"xref\":\"x\",\"y\":\"HULL_LIFELAB\",\"yref\":\"y\"},{\"font\":{\"color\":\"#000000\"},\"showarrow\":false,\"text\":\"0.61\",\"x\":\"FLEMENGHO\",\"xref\":\"x\",\"y\":\"HULL_LIFELAB\",\"yref\":\"y\"},{\"font\":{\"color\":\"#000000\"},\"showarrow\":false,\"text\":\"0.61\",\"x\":\"HEALTHABC\",\"xref\":\"x\",\"y\":\"HULL_LIFELAB\",\"yref\":\"y\"},{\"font\":{\"color\":\"#000000\"},\"showarrow\":false,\"text\":\"0.53\",\"x\":\"HULL_LIFELAB\",\"xref\":\"x\",\"y\":\"HULL_LIFELAB\",\"yref\":\"y\"},{\"font\":{\"color\":\"#000000\"},\"showarrow\":false,\"text\":\"nan\",\"x\":\"HVC\",\"xref\":\"x\",\"y\":\"HULL_LIFELAB\",\"yref\":\"y\"},{\"font\":{\"color\":\"#000000\"},\"showarrow\":false,\"text\":\"0.63\",\"x\":\"PREDICTOR\",\"xref\":\"x\",\"y\":\"HULL_LIFELAB\",\"yref\":\"y\"},{\"font\":{\"color\":\"#000000\"},\"showarrow\":false,\"text\":\"0.68\",\"x\":\"PROSPER\",\"xref\":\"x\",\"y\":\"HULL_LIFELAB\",\"yref\":\"y\"},{\"font\":{\"color\":\"#000000\"},\"showarrow\":false,\"text\":\"0.5\",\"x\":\"ASCOT\",\"xref\":\"x\",\"y\":\"HEALTHABC\",\"yref\":\"y\"},{\"font\":{\"color\":\"#000000\"},\"showarrow\":false,\"text\":\"0.63\",\"x\":\"FLEMENGHO\",\"xref\":\"x\",\"y\":\"HEALTHABC\",\"yref\":\"y\"},{\"font\":{\"color\":\"#000000\"},\"showarrow\":false,\"text\":\"0.71\",\"x\":\"HEALTHABC\",\"xref\":\"x\",\"y\":\"HEALTHABC\",\"yref\":\"y\"},{\"font\":{\"color\":\"#000000\"},\"showarrow\":false,\"text\":\"0.57\",\"x\":\"HULL_LIFELAB\",\"xref\":\"x\",\"y\":\"HEALTHABC\",\"yref\":\"y\"},{\"font\":{\"color\":\"#000000\"},\"showarrow\":false,\"text\":\"0.59\",\"x\":\"HVC\",\"xref\":\"x\",\"y\":\"HEALTHABC\",\"yref\":\"y\"},{\"font\":{\"color\":\"#000000\"},\"showarrow\":false,\"text\":\"nan\",\"x\":\"PREDICTOR\",\"xref\":\"x\",\"y\":\"HEALTHABC\",\"yref\":\"y\"},{\"font\":{\"color\":\"#000000\"},\"showarrow\":false,\"text\":\"0.68\",\"x\":\"PROSPER\",\"xref\":\"x\",\"y\":\"HEALTHABC\",\"yref\":\"y\"},{\"font\":{\"color\":\"#000000\"},\"showarrow\":false,\"text\":\"0.5\",\"x\":\"ASCOT\",\"xref\":\"x\",\"y\":\"FLEMENGHO\",\"yref\":\"y\"},{\"font\":{\"color\":\"#000000\"},\"showarrow\":false,\"text\":\"0.55\",\"x\":\"FLEMENGHO\",\"xref\":\"x\",\"y\":\"FLEMENGHO\",\"yref\":\"y\"},{\"font\":{\"color\":\"#000000\"},\"showarrow\":false,\"text\":\"0.66\",\"x\":\"HEALTHABC\",\"xref\":\"x\",\"y\":\"FLEMENGHO\",\"yref\":\"y\"},{\"font\":{\"color\":\"#000000\"},\"showarrow\":false,\"text\":\"0.6\",\"x\":\"HULL_LIFELAB\",\"xref\":\"x\",\"y\":\"FLEMENGHO\",\"yref\":\"y\"},{\"font\":{\"color\":\"#000000\"},\"showarrow\":false,\"text\":\"0.49\",\"x\":\"HVC\",\"xref\":\"x\",\"y\":\"FLEMENGHO\",\"yref\":\"y\"},{\"font\":{\"color\":\"#000000\"},\"showarrow\":false,\"text\":\"0.64\",\"x\":\"PREDICTOR\",\"xref\":\"x\",\"y\":\"FLEMENGHO\",\"yref\":\"y\"},{\"font\":{\"color\":\"#000000\"},\"showarrow\":false,\"text\":\"nan\",\"x\":\"PROSPER\",\"xref\":\"x\",\"y\":\"FLEMENGHO\",\"yref\":\"y\"},{\"font\":{\"color\":\"#000000\"},\"showarrow\":false,\"text\":\"nan\",\"x\":\"ASCOT\",\"xref\":\"x\",\"y\":\"ASCOT\",\"yref\":\"y\"},{\"font\":{\"color\":\"#000000\"},\"showarrow\":false,\"text\":\"0.66\",\"x\":\"FLEMENGHO\",\"xref\":\"x\",\"y\":\"ASCOT\",\"yref\":\"y\"},{\"font\":{\"color\":\"#000000\"},\"showarrow\":false,\"text\":\"0.75\",\"x\":\"HEALTHABC\",\"xref\":\"x\",\"y\":\"ASCOT\",\"yref\":\"y\"},{\"font\":{\"color\":\"#000000\"},\"showarrow\":false,\"text\":\"0.5\",\"x\":\"HULL_LIFELAB\",\"xref\":\"x\",\"y\":\"ASCOT\",\"yref\":\"y\"},{\"font\":{\"color\":\"#000000\"},\"showarrow\":false,\"text\":\"0.51\",\"x\":\"HVC\",\"xref\":\"x\",\"y\":\"ASCOT\",\"yref\":\"y\"},{\"font\":{\"color\":\"#000000\"},\"showarrow\":false,\"text\":\"0.69\",\"x\":\"PREDICTOR\",\"xref\":\"x\",\"y\":\"ASCOT\",\"yref\":\"y\"},{\"font\":{\"color\":\"#000000\"},\"showarrow\":false,\"text\":\"0.66\",\"x\":\"PROSPER\",\"xref\":\"x\",\"y\":\"ASCOT\",\"yref\":\"y\"}],\"template\":{\"data\":{\"bar\":[{\"error_x\":{\"color\":\"#2a3f5f\"},\"error_y\":{\"color\":\"#2a3f5f\"},\"marker\":{\"line\":{\"color\":\"#E5ECF6\",\"width\":0.5},\"pattern\":{\"fillmode\":\"overlay\",\"size\":10,\"solidity\":0.2}},\"type\":\"bar\"}],\"barpolar\":[{\"marker\":{\"line\":{\"color\":\"#E5ECF6\",\"width\":0.5},\"pattern\":{\"fillmode\":\"overlay\",\"size\":10,\"solidity\":0.2}},\"type\":\"barpolar\"}],\"carpet\":[{\"aaxis\":{\"endlinecolor\":\"#2a3f5f\",\"gridcolor\":\"white\",\"linecolor\":\"white\",\"minorgridcolor\":\"white\",\"startlinecolor\":\"#2a3f5f\"},\"baxis\":{\"endlinecolor\":\"#2a3f5f\",\"gridcolor\":\"white\",\"linecolor\":\"white\",\"minorgridcolor\":\"white\",\"startlinecolor\":\"#2a3f5f\"},\"type\":\"carpet\"}],\"choropleth\":[{\"colorbar\":{\"outlinewidth\":0,\"ticks\":\"\"},\"type\":\"choropleth\"}],\"contour\":[{\"colorbar\":{\"outlinewidth\":0,\"ticks\":\"\"},\"colorscale\":[[0.0,\"#0d0887\"],[0.1111111111111111,\"#46039f\"],[0.2222222222222222,\"#7201a8\"],[0.3333333333333333,\"#9c179e\"],[0.4444444444444444,\"#bd3786\"],[0.5555555555555556,\"#d8576b\"],[0.6666666666666666,\"#ed7953\"],[0.7777777777777778,\"#fb9f3a\"],[0.8888888888888888,\"#fdca26\"],[1.0,\"#f0f921\"]],\"type\":\"contour\"}],\"contourcarpet\":[{\"colorbar\":{\"outlinewidth\":0,\"ticks\":\"\"},\"type\":\"contourcarpet\"}],\"heatmap\":[{\"colorbar\":{\"outlinewidth\":0,\"ticks\":\"\"},\"colorscale\":[[0.0,\"#0d0887\"],[0.1111111111111111,\"#46039f\"],[0.2222222222222222,\"#7201a8\"],[0.3333333333333333,\"#9c179e\"],[0.4444444444444444,\"#bd3786\"],[0.5555555555555556,\"#d8576b\"],[0.6666666666666666,\"#ed7953\"],[0.7777777777777778,\"#fb9f3a\"],[0.8888888888888888,\"#fdca26\"],[1.0,\"#f0f921\"]],\"type\":\"heatmap\"}],\"heatmapgl\":[{\"colorbar\":{\"outlinewidth\":0,\"ticks\":\"\"},\"colorscale\":[[0.0,\"#0d0887\"],[0.1111111111111111,\"#46039f\"],[0.2222222222222222,\"#7201a8\"],[0.3333333333333333,\"#9c179e\"],[0.4444444444444444,\"#bd3786\"],[0.5555555555555556,\"#d8576b\"],[0.6666666666666666,\"#ed7953\"],[0.7777777777777778,\"#fb9f3a\"],[0.8888888888888888,\"#fdca26\"],[1.0,\"#f0f921\"]],\"type\":\"heatmapgl\"}],\"histogram\":[{\"marker\":{\"pattern\":{\"fillmode\":\"overlay\",\"size\":10,\"solidity\":0.2}},\"type\":\"histogram\"}],\"histogram2d\":[{\"colorbar\":{\"outlinewidth\":0,\"ticks\":\"\"},\"colorscale\":[[0.0,\"#0d0887\"],[0.1111111111111111,\"#46039f\"],[0.2222222222222222,\"#7201a8\"],[0.3333333333333333,\"#9c179e\"],[0.4444444444444444,\"#bd3786\"],[0.5555555555555556,\"#d8576b\"],[0.6666666666666666,\"#ed7953\"],[0.7777777777777778,\"#fb9f3a\"],[0.8888888888888888,\"#fdca26\"],[1.0,\"#f0f921\"]],\"type\":\"histogram2d\"}],\"histogram2dcontour\":[{\"colorbar\":{\"outlinewidth\":0,\"ticks\":\"\"},\"colorscale\":[[0.0,\"#0d0887\"],[0.1111111111111111,\"#46039f\"],[0.2222222222222222,\"#7201a8\"],[0.3333333333333333,\"#9c179e\"],[0.4444444444444444,\"#bd3786\"],[0.5555555555555556,\"#d8576b\"],[0.6666666666666666,\"#ed7953\"],[0.7777777777777778,\"#fb9f3a\"],[0.8888888888888888,\"#fdca26\"],[1.0,\"#f0f921\"]],\"type\":\"histogram2dcontour\"}],\"mesh3d\":[{\"colorbar\":{\"outlinewidth\":0,\"ticks\":\"\"},\"type\":\"mesh3d\"}],\"parcoords\":[{\"line\":{\"colorbar\":{\"outlinewidth\":0,\"ticks\":\"\"}},\"type\":\"parcoords\"}],\"pie\":[{\"automargin\":true,\"type\":\"pie\"}],\"scatter\":[{\"marker\":{\"colorbar\":{\"outlinewidth\":0,\"ticks\":\"\"}},\"type\":\"scatter\"}],\"scatter3d\":[{\"line\":{\"colorbar\":{\"outlinewidth\":0,\"ticks\":\"\"}},\"marker\":{\"colorbar\":{\"outlinewidth\":0,\"ticks\":\"\"}},\"type\":\"scatter3d\"}],\"scattercarpet\":[{\"marker\":{\"colorbar\":{\"outlinewidth\":0,\"ticks\":\"\"}},\"type\":\"scattercarpet\"}],\"scattergeo\":[{\"marker\":{\"colorbar\":{\"outlinewidth\":0,\"ticks\":\"\"}},\"type\":\"scattergeo\"}],\"scattergl\":[{\"marker\":{\"colorbar\":{\"outlinewidth\":0,\"ticks\":\"\"}},\"type\":\"scattergl\"}],\"scattermapbox\":[{\"marker\":{\"colorbar\":{\"outlinewidth\":0,\"ticks\":\"\"}},\"type\":\"scattermapbox\"}],\"scatterpolar\":[{\"marker\":{\"colorbar\":{\"outlinewidth\":0,\"ticks\":\"\"}},\"type\":\"scatterpolar\"}],\"scatterpolargl\":[{\"marker\":{\"colorbar\":{\"outlinewidth\":0,\"ticks\":\"\"}},\"type\":\"scatterpolargl\"}],\"scatterternary\":[{\"marker\":{\"colorbar\":{\"outlinewidth\":0,\"ticks\":\"\"}},\"type\":\"scatterternary\"}],\"surface\":[{\"colorbar\":{\"outlinewidth\":0,\"ticks\":\"\"},\"colorscale\":[[0.0,\"#0d0887\"],[0.1111111111111111,\"#46039f\"],[0.2222222222222222,\"#7201a8\"],[0.3333333333333333,\"#9c179e\"],[0.4444444444444444,\"#bd3786\"],[0.5555555555555556,\"#d8576b\"],[0.6666666666666666,\"#ed7953\"],[0.7777777777777778,\"#fb9f3a\"],[0.8888888888888888,\"#fdca26\"],[1.0,\"#f0f921\"]],\"type\":\"surface\"}],\"table\":[{\"cells\":{\"fill\":{\"color\":\"#EBF0F8\"},\"line\":{\"color\":\"white\"}},\"header\":{\"fill\":{\"color\":\"#C8D4E3\"},\"line\":{\"color\":\"white\"}},\"type\":\"table\"}]},\"layout\":{\"annotationdefaults\":{\"arrowcolor\":\"#2a3f5f\",\"arrowhead\":0,\"arrowwidth\":1},\"autotypenumbers\":\"strict\",\"coloraxis\":{\"colorbar\":{\"outlinewidth\":0,\"ticks\":\"\"}},\"colorscale\":{\"diverging\":[[0,\"#8e0152\"],[0.1,\"#c51b7d\"],[0.2,\"#de77ae\"],[0.3,\"#f1b6da\"],[0.4,\"#fde0ef\"],[0.5,\"#f7f7f7\"],[0.6,\"#e6f5d0\"],[0.7,\"#b8e186\"],[0.8,\"#7fbc41\"],[0.9,\"#4d9221\"],[1,\"#276419\"]],\"sequential\":[[0.0,\"#0d0887\"],[0.1111111111111111,\"#46039f\"],[0.2222222222222222,\"#7201a8\"],[0.3333333333333333,\"#9c179e\"],[0.4444444444444444,\"#bd3786\"],[0.5555555555555556,\"#d8576b\"],[0.6666666666666666,\"#ed7953\"],[0.7777777777777778,\"#fb9f3a\"],[0.8888888888888888,\"#fdca26\"],[1.0,\"#f0f921\"]],\"sequentialminus\":[[0.0,\"#0d0887\"],[0.1111111111111111,\"#46039f\"],[0.2222222222222222,\"#7201a8\"],[0.3333333333333333,\"#9c179e\"],[0.4444444444444444,\"#bd3786\"],[0.5555555555555556,\"#d8576b\"],[0.6666666666666666,\"#ed7953\"],[0.7777777777777778,\"#fb9f3a\"],[0.8888888888888888,\"#fdca26\"],[1.0,\"#f0f921\"]]},\"colorway\":[\"#636efa\",\"#EF553B\",\"#00cc96\",\"#ab63fa\",\"#FFA15A\",\"#19d3f3\",\"#FF6692\",\"#B6E880\",\"#FF97FF\",\"#FECB52\"],\"font\":{\"color\":\"#2a3f5f\"},\"geo\":{\"bgcolor\":\"white\",\"lakecolor\":\"white\",\"landcolor\":\"#E5ECF6\",\"showlakes\":true,\"showland\":true,\"subunitcolor\":\"white\"},\"hoverlabel\":{\"align\":\"left\"},\"hovermode\":\"closest\",\"mapbox\":{\"style\":\"light\"},\"paper_bgcolor\":\"white\",\"plot_bgcolor\":\"#E5ECF6\",\"polar\":{\"angularaxis\":{\"gridcolor\":\"white\",\"linecolor\":\"white\",\"ticks\":\"\"},\"bgcolor\":\"#E5ECF6\",\"radialaxis\":{\"gridcolor\":\"white\",\"linecolor\":\"white\",\"ticks\":\"\"}},\"scene\":{\"xaxis\":{\"backgroundcolor\":\"#E5ECF6\",\"gridcolor\":\"white\",\"gridwidth\":2,\"linecolor\":\"white\",\"showbackground\":true,\"ticks\":\"\",\"zerolinecolor\":\"white\"},\"yaxis\":{\"backgroundcolor\":\"#E5ECF6\",\"gridcolor\":\"white\",\"gridwidth\":2,\"linecolor\":\"white\",\"showbackground\":true,\"ticks\":\"\",\"zerolinecolor\":\"white\"},\"zaxis\":{\"backgroundcolor\":\"#E5ECF6\",\"gridcolor\":\"white\",\"gridwidth\":2,\"linecolor\":\"white\",\"showbackground\":true,\"ticks\":\"\",\"zerolinecolor\":\"white\"}},\"shapedefaults\":{\"line\":{\"color\":\"#2a3f5f\"}},\"ternary\":{\"aaxis\":{\"gridcolor\":\"white\",\"linecolor\":\"white\",\"ticks\":\"\"},\"baxis\":{\"gridcolor\":\"white\",\"linecolor\":\"white\",\"ticks\":\"\"},\"bgcolor\":\"#E5ECF6\",\"caxis\":{\"gridcolor\":\"white\",\"linecolor\":\"white\",\"ticks\":\"\"}},\"title\":{\"x\":0.05},\"xaxis\":{\"automargin\":true,\"gridcolor\":\"white\",\"linecolor\":\"white\",\"ticks\":\"\",\"title\":{\"standoff\":15},\"zerolinecolor\":\"white\",\"zerolinewidth\":2},\"yaxis\":{\"automargin\":true,\"gridcolor\":\"white\",\"linecolor\":\"white\",\"ticks\":\"\",\"title\":{\"standoff\":15},\"zerolinecolor\":\"white\",\"zerolinewidth\":2}}},\"xaxis\":{\"dtick\":1,\"gridcolor\":\"rgb(0, 0, 0)\",\"side\":\"top\",\"ticks\":\"\",\"title\":{\"text\":\"Trained on\"}},\"yaxis\":{\"dtick\":1,\"ticks\":\"\",\"ticksuffix\":\"  \",\"title\":{\"text\":\"Tested on\"}}},                        {\"responsive\": true}                    ).then(function(){\n                            \nvar gd = document.getElementById('4762eb5e-1905-46b9-9f2b-c8bd239dbe49');\nvar x = new MutationObserver(function (mutations, observer) {{\n        var display = window.getComputedStyle(gd).display;\n        if (!display || display === 'none') {{\n            console.log([gd, 'removed!']);\n            Plotly.purge(gd);\n            observer.disconnect();\n        }}\n}});\n\n// Listen for the removal of the full notebook cells\nvar notebookContainer = gd.closest('#notebook-container');\nif (notebookContainer) {{\n    x.observe(notebookContainer, {childList: true});\n}}\n\n// Listen for the clearing of the current output cell\nvar outputEl = gd.closest('.output');\nif (outputEl) {{\n    x.observe(outputEl, {childList: true});\n}}\n\n                        })                };                });            </script>        </div>"
     },
     "metadata": {},
     "output_type": "display_data"
    }
   ],
   "source": [
    "\n",
    "from hcve_lib.tracking import load_pickled_artifact\n",
    "from hcve_lib.visualisation import b, h2\n",
    "import mlflow\n",
    "import yaml\n",
    "from toolz.curried import valmap, partial\n",
    "from pandas import DataFrame\n",
    "import plotly.express as px\n",
    "from hcve_lib.serialization import to_json_serializable\n",
    "from hcve_lib.evaluation_functions import compute_metric_groups, get_2_level_groups\n",
    "\n",
    "for method_name in ('gb', 'coxnet'):\n",
    "    h2(method_name)\n",
    "    runs = mlflow.search_runs(mlflow.get_experiment_by_name('lm').experiment_id)\n",
    "    print(runs.columns)\n",
    "    last_run = runs[(runs['tags.mlflow.parentRunId'].isna()) & (runs['tags.method_name'] == method_name)].iloc[0]\n",
    "    result = load_pickled_artifact(last_run['run_id'], 'result')\n",
    "\n",
    "    metrics_group = compute_metric_groups(\n",
    "        partial(c_index, X=X, y=y),\n",
    "        get_2_level_groups(\n",
    "            result,\n",
    "            raw_data_subset.groupby('STUDY'),\n",
    "            data,\n",
    "        )\n",
    "    )\n",
    "\n",
    "    import plotly.figure_factory as ff\n",
    "    fig = ff.create_annotated_heatmap(\n",
    "        DataFrame(metrics_group).round(decimals=2).to_numpy(),\n",
    "        x=list(metrics_group.keys()),\n",
    "        y=list(reversed(metrics_group.keys())),\n",
    "        # font_colors=['#000000', '#ffffff'],\n",
    "    )\n",
    "    fig.update_layout(xaxis_title=\"Trained on\", yaxis_title='Tested on')\n",
    "    fig.show()\n",
    "\n",
    "\n"
   ],
   "metadata": {
    "collapsed": false,
    "pycharm": {
     "name": "#%%\n"
    }
   }
  },
  {
   "cell_type": "code",
   "execution_count": null,
   "outputs": [],
   "source": [
    "DataFrame(metrics_group).round(decimals=2).to_numpy()"
   ],
   "metadata": {
    "collapsed": false,
    "pycharm": {
     "name": "#%%\n"
    }
   }
  },
  {
   "cell_type": "code",
   "execution_count": null,
   "outputs": [],
   "source": [
    "print(yaml.dump(to_json_serializable(metrics_group)))"
   ],
   "metadata": {
    "collapsed": false,
    "pycharm": {
     "name": "#%%\n"
    }
   }
  },
  {
   "cell_type": "markdown",
   "source": [
    "# Hyperparams feature importance"
   ],
   "metadata": {
    "collapsed": false,
    "pycharm": {
     "name": "#%% md\n"
    }
   }
  },
  {
   "cell_type": "code",
   "execution_count": null,
   "outputs": [],
   "source": [
    "from hcve_lib.tracking import get_study\n",
    "import optuna\n",
    "from mlflow import set_tracking_uri\n",
    "from pipelines import get_pipelines\n",
    "set_tracking_uri('http://localhost:5000')\n",
    "\n",
    "runs = get_completed_runs('lco_optimized')\n",
    "\n",
    "for method_name in get_pipelines().keys():\n",
    "    h2(method_name)\n",
    "    last_run = get_last_run(runs, is_root_run(runs) & (runs['tags.method_name'] == method_name))\n",
    "    study = get_study(last_run['run_id'])\n",
    "    print(study.best_trial.user_attrs['hyperparameters'])\n",
    "    optuna.visualization.plot_optimization_history(study).show()\n"
   ],
   "metadata": {
    "collapsed": false,
    "pycharm": {
     "name": "#%%\n"
    }
   }
  },
  {
   "cell_type": "markdown",
   "source": [
    "## Brier scores"
   ],
   "metadata": {
    "collapsed": false,
    "pycharm": {
     "name": "#%% md\n"
    }
   }
  },
  {
   "cell_type": "code",
   "execution_count": null,
   "outputs": [],
   "source": [
    "from sksurv.metrics import brier_score\n",
    "\n",
    "for fold_name, fold in result['predictions'].items():\n",
    "    b(fold_name)\n",
    "    try:\n",
    "        print(brier_score(\n",
    "            fold['y_train'],\n",
    "            fold['y_true'],\n",
    "            [fn(365*5) for fn in fold['model'] \\\n",
    "                .predict_survival_function(fold['X_test'])],\n",
    "            365*5,\n",
    "        )[1])\n",
    "    except Exception as e:\n",
    "        print(e)"
   ],
   "metadata": {
    "collapsed": false,
    "pycharm": {
     "name": "#%%\n"
    }
   }
  },
  {
   "cell_type": "markdown",
   "source": [
    "## Survival functions"
   ],
   "metadata": {
    "collapsed": false
   }
  },
  {
   "cell_type": "code",
   "execution_count": 120,
   "outputs": [
    {
     "ename": "KeyError",
     "evalue": "'predictions'",
     "output_type": "error",
     "traceback": [
      "\u001B[0;31m---------------------------------------------------------------------------\u001B[0m",
      "\u001B[0;31mKeyError\u001B[0m                                  Traceback (most recent call last)",
      "\u001B[0;32m/tmp/ipykernel_58423/1483900493.py\u001B[0m in \u001B[0;36m<module>\u001B[0;34m\u001B[0m\n\u001B[1;32m      1\u001B[0m \u001B[0;32mfrom\u001B[0m \u001B[0mnumpy\u001B[0m \u001B[0;32mimport\u001B[0m \u001B[0marange\u001B[0m\u001B[0;34m\u001B[0m\u001B[0;34m\u001B[0m\u001B[0m\n\u001B[1;32m      2\u001B[0m \u001B[0;34m\u001B[0m\u001B[0m\n\u001B[0;32m----> 3\u001B[0;31m \u001B[0;32mfor\u001B[0m \u001B[0mfold_name\u001B[0m\u001B[0;34m,\u001B[0m \u001B[0mfold\u001B[0m \u001B[0;32min\u001B[0m \u001B[0mresult\u001B[0m\u001B[0;34m[\u001B[0m\u001B[0;34m'predictions'\u001B[0m\u001B[0;34m]\u001B[0m\u001B[0;34m.\u001B[0m\u001B[0mitems\u001B[0m\u001B[0;34m(\u001B[0m\u001B[0;34m)\u001B[0m\u001B[0;34m:\u001B[0m\u001B[0;34m\u001B[0m\u001B[0;34m\u001B[0m\u001B[0m\n\u001B[0m\u001B[1;32m      4\u001B[0m     \u001B[0mpyplot\u001B[0m\u001B[0;34m.\u001B[0m\u001B[0mfigure\u001B[0m\u001B[0;34m(\u001B[0m\u001B[0;34m)\u001B[0m\u001B[0;34m\u001B[0m\u001B[0;34m\u001B[0m\u001B[0m\n\u001B[1;32m      5\u001B[0m     \u001B[0mpyplot\u001B[0m\u001B[0;34m.\u001B[0m\u001B[0mtitle\u001B[0m\u001B[0;34m(\u001B[0m\u001B[0mfold_name\u001B[0m\u001B[0;34m)\u001B[0m\u001B[0;34m\u001B[0m\u001B[0;34m\u001B[0m\u001B[0m\n",
      "\u001B[0;31mKeyError\u001B[0m: 'predictions'"
     ]
    }
   ],
   "source": [
    "from numpy import arange\n",
    "\n",
    "for fold_name, fold in result['predictions'].items():\n",
    "    pyplot.figure()\n",
    "    pyplot.title(fold_name)\n",
    "    y_survival = fold['model'].predict_survival_function(fold['X_test'])\n",
    "    for step_function in y_survival:\n",
    "        step_x = list(arange(0, 365*5, step=1))\n",
    "        pyplot.step(step_x, step_function(step_x), where=\"post\", c='navy', alpha=0.05)\n",
    "        pyplot.gca().ticklabel_format(useOffset=False, style='plain')\n",
    "        pyplot.ylabel(\"est. probability of survival $\\hat{S}(t)$\")\n",
    "        pyplot.xlabel(\"time $t$\")\n",
    "    pyplot.show()"
   ],
   "metadata": {
    "collapsed": false,
    "pycharm": {
     "name": "#%%\n"
    }
   }
  },
  {
   "cell_type": "code",
   "execution_count": null,
   "outputs": [],
   "source": [
    "data, metadata, X, y = get_variables_cached()"
   ],
   "metadata": {
    "collapsed": false,
    "pycharm": {
     "name": "#%%\n"
    }
   }
  },
  {
   "cell_type": "code",
   "execution_count": null,
   "outputs": [],
   "source": [
    "set_tracking_uri('http://localhost:5000')\n",
    "runs = get_completed_runs('lco_optimized')\n",
    "last_run = get_last_run(runs, is_root_run(runs) & (runs['tags.mlflow.runName'] == 'coxnet'))\n",
    "children = get_children_run(runs, last_run['run_id'])\n",
    "\n",
    "def get_trial_duration_min(trial: Trial) -> float:\n",
    "    return (trial.datetime_complete-trial.datetime_start).total_seconds()  / 60\n",
    "\n",
    "for _, run in children.iterrows():\n",
    "    b(run['tags.mlflow.runName'])\n",
    "    p(humanize.naturaltime(datetime.now(tz=pytz.utc) - last_run['start_time']))\n",
    "    p(f'Total duration: {humanize.naturaldelta(get_run_duration(run))}')\n",
    "    study = load_pickled_artifact(run['run_id'], 'study')\n",
    "    # optuna.visualization.plot_optimization_history(study).show()\n",
    "    # optuna.visualization.plot_param_importances(result).show()\n",
    "    # optuna.visualization.plot_parallel_coordinate(study).show()\n",
    "    trial_durations = [\n",
    "        get_trial_duration_min(trial) for trial in study.trials]\n",
    "    px.scatter(trial_durations, labels={'index': 'Run', 'value': 'Duration'}).show()\n",
    "    x = [trial.params['__cross_validate__missing_fraction'] for trial in study.trials]\n",
    "    y = [trial.value for trial in study.trials]\n",
    "    # plotly.express.scatter(x=x, y=y).show()"
   ],
   "metadata": {
    "collapsed": false,
    "pycharm": {
     "name": "#%%\n"
    }
   }
  },
  {
   "cell_type": "code",
   "execution_count": 210,
   "outputs": [],
   "source": [
    "\n",
    "def train_test_fold(data, fold: FoldPrediction, metadata) -> Tuple[DataFrame, Target]:\n",
    "    return data[fold['X_columns']], get_survival_y(data, fold['y_column'], metadata)\n",
    "\n"
   ],
   "metadata": {
    "collapsed": false,
    "pycharm": {
     "name": "#%%\n"
    }
   }
  },
  {
   "cell_type": "code",
   "execution_count": 200,
   "outputs": [
    {
     "data": {
      "text/plain": "<IPython.core.display.HTML object>",
      "text/html": "<h2>gb</h2>"
     },
     "metadata": {},
     "output_type": "display_data"
    },
    {
     "data": {
      "text/plain": "<Figure size 432x288 with 1 Axes>",
      "image/png": "[encoded data removed]"
     },
     "metadata": {
      "image/png": {
       "width": 362,
       "height": 261
      }
     },
     "output_type": "display_data"
    },
    {
     "data": {
      "text/plain": "<IPython.core.display.HTML object>",
      "text/html": "<h2>coxnet</h2>"
     },
     "metadata": {},
     "output_type": "display_data"
    },
    {
     "data": {
      "text/plain": "<Figure size 432x288 with 1 Axes>",
      "image/png": "[encoded data removed]"
     },
     "metadata": {
      "image/png": {
       "width": 362,
       "height": 261
      }
     },
     "output_type": "display_data"
    },
    {
     "data": {
      "text/plain": "<IPython.core.display.HTML object>",
      "text/html": "<h2>rsf</h2>"
     },
     "metadata": {},
     "output_type": "display_data"
    },
    {
     "data": {
      "text/plain": "<Figure size 432x288 with 1 Axes>",
      "image/png": "[encoded data removed]"
     },
     "metadata": {
      "image/png": {
       "width": 362,
       "height": 261
      }
     },
     "output_type": "display_data"
    }
   ],
   "source": [
    "from hcve_lib.data import get_survival_y\n",
    "from typing import Tuple\n",
    "from hcve_lib.custom_types import FoldPrediction, Target\n",
    "from hcve_lib.utils import split_data\n",
    "import numpy as np\n",
    "\n",
    "runs_lm = get_completed_runs('lco')\n",
    "root_runs = runs_lm[is_root_run(runs_lm)]\n",
    "\n",
    "for run_name in root_runs['tags.mlflow.runName'].unique():\n",
    "    h2(run_name)\n",
    "    last_run = get_last_run(root_runs, root_runs['tags.mlflow.runName'] == run_name)\n",
    "    last_train_runs = get_children_run(runs_lm, last_run['run_id'])\n",
    "    X_all_index = data.index\n",
    "\n",
    "    out = np.ones((len(last_train_runs), len(X_all_index), 3), dtype='float')\n",
    "\n",
    "\n",
    "\n",
    "    run_names = []\n",
    "    for number, (index, run) in enumerate(last_train_runs.iterrows()):\n",
    "        try:\n",
    "            fold = load_pickled_artifact(run['run_id'], 'fold')\n",
    "        except OSError as e:\n",
    "            if str(e).startswith('No such file or directory'):\n",
    "                continue\n",
    "            else:\n",
    "                raise e\n",
    "\n",
    "        row = X_all_index.to_numpy().copy()\n",
    "        X_train, y_train, X_test, y_test = split_data(*train_test_fold(data, fold, metadata), fold)\n",
    "        out[number][np.isin(row, X_train.index)] = (0,1,0)\n",
    "        out[number][np.isin(row, X_test.index)] = (1,0,0)\n",
    "        run_names.append(run['tags.mlflow.runName'])\n",
    "\n",
    "    pyplot.imshow(out, aspect='auto', interpolation='none')\n",
    "    pyplot.xlabel('Individuals')\n",
    "    pyplot.yticks(ticks=list(range(len(run_names))), labels=run_names)\n",
    "    pyplot.ylabel('Iteration')\n",
    "    pyplot.show()"
   ],
   "metadata": {
    "collapsed": false,
    "pycharm": {
     "name": "#%%\n"
    }
   }
  },
  {
   "cell_type": "code",
   "execution_count": 219,
   "outputs": [
    {
     "data": {
      "text/plain": "<IPython.core.display.HTML object>",
      "text/html": "<b>PROSPER</b>"
     },
     "metadata": {},
     "output_type": "display_data"
    },
    {
     "data": {
      "text/plain": "<Figure size 432x288 with 1 Axes>",
      "image/png": "[encoded data removed]"
     },
     "metadata": {
      "image/png": {
       "width": 377,
       "height": 261
      }
     },
     "output_type": "display_data"
    },
    {
     "data": {
      "text/plain": "<IPython.core.display.HTML object>",
      "text/html": "<b>PREDICTOR</b>"
     },
     "metadata": {},
     "output_type": "display_data"
    },
    {
     "data": {
      "text/plain": "<Figure size 432x288 with 1 Axes>",
      "image/png": "[encoded data removed]"
     },
     "metadata": {
      "image/png": {
       "width": 377,
       "height": 261
      }
     },
     "output_type": "display_data"
    },
    {
     "data": {
      "text/plain": "<IPython.core.display.HTML object>",
      "text/html": "<b>HVC</b>"
     },
     "metadata": {},
     "output_type": "display_data"
    },
    {
     "data": {
      "text/plain": "<Figure size 432x288 with 1 Axes>",
      "image/png": "[encoded data removed]"
     },
     "metadata": {
      "image/png": {
       "width": 377,
       "height": 261
      }
     },
     "output_type": "display_data"
    },
    {
     "data": {
      "text/plain": "<IPython.core.display.HTML object>",
      "text/html": "<b>HEALTHABC</b>"
     },
     "metadata": {},
     "output_type": "display_data"
    },
    {
     "data": {
      "text/plain": "<Figure size 432x288 with 1 Axes>",
      "image/png": "[encoded data removed]"
     },
     "metadata": {
      "image/png": {
       "width": 377,
       "height": 261
      }
     },
     "output_type": "display_data"
    },
    {
     "data": {
      "text/plain": "<IPython.core.display.HTML object>",
      "text/html": "<b>FLEMENGHO</b>"
     },
     "metadata": {},
     "output_type": "display_data"
    },
    {
     "data": {
      "text/plain": "<Figure size 432x288 with 1 Axes>",
      "image/png": "[encoded data removed]"
     },
     "metadata": {
      "image/png": {
       "width": 377,
       "height": 261
      }
     },
     "output_type": "display_data"
    },
    {
     "data": {
      "text/plain": "<IPython.core.display.HTML object>",
      "text/html": "<b>ASCOT</b>"
     },
     "metadata": {},
     "output_type": "display_data"
    },
    {
     "data": {
      "text/plain": "<Figure size 432x288 with 1 Axes>",
      "image/png": "[encoded data removed]"
     },
     "metadata": {
      "image/png": {
       "width": 377,
       "height": 261
      }
     },
     "output_type": "display_data"
    }
   ],
   "source": [
    "from mlflow import get_experiment_by_name\n",
    "from hcve_lib.data import get_survival_y\n",
    "from typing import Tuple\n",
    "from hcve_lib.custom_types import FoldPrediction, Target\n",
    "from hcve_lib.utils import split_data\n",
    "import numpy as np\n",
    "\n",
    "\n",
    "def plot_splits(last_result):\n",
    "    X_all_index = data.index\n",
    "    out = np.ones((len(last_result.keys()), len(X_all_index), 3), dtype='float')\n",
    "\n",
    "    run_names = []\n",
    "    for number, (name, fold) in enumerate(last_result.items()):\n",
    "        row = X_all_index.to_numpy().copy()\n",
    "        X_train, y_train, X_test, y_test = split_data(*train_test_fold(data, fold, metadata), fold)\n",
    "        out[number][np.isin(row, X_train.index)] = (0,1,0)\n",
    "        out[number][np.isin(row, X_test.index)] = (1,0,0)\n",
    "        run_names.append(name)\n",
    "\n",
    "    pyplot.imshow(out, aspect='auto', interpolation='none')\n",
    "    pyplot.xlabel('Individuals')\n",
    "    pyplot.yticks(ticks=list(range(len(run_names))), labels=run_names)\n",
    "    pyplot.ylabel('Iteration')\n",
    "    pyplot.show()\n",
    "\n",
    "# runs = get_completed_runs('lco')\n",
    "# last_run = runs[is_root_run(runs)].iloc[0]\n",
    "# last_result = load_pickled_artifact(last_run['run_id'], 'result')\n",
    "# plot_splits(last_result)\n",
    "\n",
    "runs = mlflow.search_runs(\n",
    "        get_experiment_by_name('optimized_lco').experiment_id)\n",
    "last_root_run = runs[is_root_run(runs)].iloc[0]\n",
    "nested_runs = get_children_runs(runs, last_root_run.run_id).iloc\n",
    "for nested_run in nested_runs:\n",
    "    b(nested_run['tags.mlflow.runName'])\n",
    "    last_result = load_pickled_artifact(nested_run['run_id'], 'result')\n",
    "    plot_splits(last_result)"
   ],
   "metadata": {
    "collapsed": false,
    "pycharm": {
     "name": "#%%\n"
    }
   }
  },
  {
   "cell_type": "code",
   "execution_count": 207,
   "outputs": [
    {
     "data": {
      "text/plain": "{'split': ([19257,\n   19258,\n   19259,\n   19260,\n   19261,\n   19262,\n   19263,\n   19264,\n   19265,\n   19266,\n   19267,\n   19268,\n   19269,\n   19270,\n   19271,\n   19272,\n   19273,\n   19274,\n   19275,\n   19276,\n   19277,\n   19278,\n   19279,\n   19280,\n   19281,\n   19282,\n   19283,\n   19284,\n   19285,\n   19286,\n   19287,\n   19288,\n   19289,\n   19290,\n   19291,\n   19292,\n   19293,\n   19294,\n   19295,\n   19296,\n   19297,\n   19298,\n   19299,\n   19300,\n   19301,\n   19302,\n   19303,\n   19304,\n   19305,\n   19306,\n   19307,\n   19308,\n   19309,\n   19310,\n   19311,\n   19312,\n   19313,\n   19314,\n   19315,\n   19316,\n   19317,\n   19318,\n   19319,\n   19320,\n   19321,\n   19322,\n   19323,\n   19324,\n   19325,\n   19326,\n   19327,\n   19328,\n   19329,\n   19330,\n   19331,\n   19332,\n   19333,\n   19334,\n   19335,\n   19336,\n   19337,\n   19338,\n   19339,\n   19340,\n   19341,\n   19342,\n   19343,\n   19344,\n   19345,\n   19346,\n   19347,\n   19348,\n   19349,\n   19350,\n   19351,\n   19352,\n   19353,\n   19354,\n   19355,\n   19356,\n   19357,\n   19358,\n   19359,\n   19360,\n   19361,\n   19362,\n   19363,\n   19364,\n   19365,\n   19366,\n   19367,\n   19368,\n   19369,\n   19370,\n   19371,\n   19372,\n   19373,\n   19374,\n   19375,\n   19376,\n   19377,\n   19378,\n   19379,\n   19380,\n   19381,\n   19382,\n   19383,\n   19384,\n   19385,\n   19386,\n   19387,\n   19388,\n   19389,\n   19390,\n   19391,\n   19392,\n   19393,\n   19394,\n   19395,\n   19396,\n   19397,\n   19398,\n   19399,\n   19400,\n   19401,\n   19402,\n   19403,\n   19404,\n   19405,\n   19406,\n   19407,\n   19408,\n   19409,\n   19410,\n   19411,\n   19412,\n   19413,\n   19414,\n   19415,\n   19416,\n   19417,\n   19418,\n   19419,\n   19420,\n   19421,\n   19422,\n   19423,\n   19424,\n   19425,\n   19426,\n   19427,\n   19428,\n   19429,\n   19430,\n   19431,\n   19432,\n   19433,\n   19434,\n   19435,\n   19436,\n   19437,\n   19438,\n   19439,\n   19440,\n   19441,\n   19442,\n   19443,\n   19444,\n   19445,\n   19446,\n   19447,\n   19448,\n   19449,\n   19450,\n   19451,\n   19452,\n   19453,\n   19454,\n   19455,\n   19456,\n   19457,\n   19458,\n   19459,\n   19460,\n   19461,\n   19462,\n   19463,\n   19464,\n   19465,\n   19466,\n   19467,\n   19468,\n   19469,\n   19470,\n   19471,\n   19472,\n   19473,\n   19474,\n   19475,\n   19476,\n   19477,\n   19478,\n   19479,\n   19480,\n   19481,\n   19482,\n   19483,\n   19484,\n   19485,\n   19486,\n   19487,\n   19488,\n   19489,\n   19490,\n   19491,\n   19492,\n   19493,\n   19494,\n   19495,\n   19496,\n   19497,\n   19498,\n   19499,\n   19500,\n   19501,\n   19502,\n   19503,\n   19504,\n   19505,\n   19506,\n   19507,\n   19508,\n   19509,\n   19510,\n   19511,\n   19512,\n   19513,\n   19514,\n   19515,\n   19516,\n   19517,\n   19518,\n   19519,\n   19520,\n   19521,\n   19522,\n   19523,\n   19524,\n   19525,\n   19526,\n   19527,\n   19528,\n   19529,\n   19530,\n   19531,\n   19532,\n   19533,\n   19534,\n   19535,\n   19536,\n   19537,\n   19538,\n   19539,\n   19540,\n   19541,\n   19542,\n   19543,\n   19544,\n   19545,\n   19546,\n   19547,\n   19548,\n   19549,\n   19550,\n   19551,\n   19552,\n   19553,\n   19554,\n   19555,\n   19556,\n   19557,\n   19558,\n   19559,\n   19560,\n   19561,\n   19562,\n   19563,\n   19564,\n   19565,\n   19566,\n   19567,\n   19568,\n   19569,\n   19570,\n   19571,\n   19572,\n   19573,\n   19574,\n   19575,\n   19576,\n   19577,\n   19578,\n   19579,\n   19580,\n   19581,\n   19582,\n   19583,\n   19584,\n   19585,\n   19586,\n   19587,\n   19588,\n   19589,\n   19590,\n   19591,\n   19592,\n   19593,\n   19594,\n   19595,\n   19596,\n   19597,\n   19598,\n   19599,\n   19600,\n   19601,\n   19602,\n   19603,\n   19604,\n   19605,\n   19606,\n   19607,\n   19608,\n   19609,\n   19610,\n   19611,\n   19612,\n   19613,\n   19614,\n   19615,\n   19616,\n   19617,\n   19618,\n   19619,\n   19620,\n   19621,\n   19622,\n   19623,\n   19624,\n   19625,\n   19626,\n   19627,\n   19628,\n   19629,\n   19630,\n   19631,\n   19632,\n   19633,\n   19634,\n   19635,\n   19636,\n   19637,\n   19638,\n   19639,\n   19640,\n   19641,\n   19642,\n   19643,\n   19644,\n   19645,\n   19646,\n   19647,\n   19648,\n   19649,\n   19650,\n   19651,\n   19652,\n   19653,\n   19654,\n   19655,\n   19656,\n   19657,\n   19658,\n   19659,\n   19660,\n   19661,\n   19662,\n   19663,\n   19664,\n   19665,\n   19666,\n   19667,\n   19668,\n   19669,\n   19670,\n   19671,\n   19672,\n   19673,\n   19674,\n   19675,\n   19676,\n   19677,\n   19678,\n   19679,\n   19680,\n   19681,\n   19682,\n   19683,\n   19684,\n   19685,\n   19686,\n   19687,\n   19688,\n   19689,\n   19690,\n   19691,\n   19692,\n   19693,\n   19694,\n   19695,\n   19696,\n   19697,\n   19698,\n   19699,\n   19700,\n   19701,\n   19702,\n   19703,\n   19704,\n   19705,\n   19706,\n   19707,\n   19708,\n   19709,\n   19710,\n   19711,\n   19712,\n   19713,\n   19714,\n   19715,\n   19716,\n   19717,\n   19718,\n   19719,\n   19720,\n   19721,\n   19722,\n   19723,\n   19724,\n   19725,\n   19726,\n   19727,\n   19728,\n   19729,\n   19730,\n   19731,\n   19732,\n   19733,\n   19734,\n   19735,\n   19736,\n   19737,\n   19738,\n   19739,\n   19740,\n   19741,\n   19742,\n   19743,\n   19744,\n   19745,\n   19746,\n   19747,\n   19748,\n   19749,\n   19750,\n   19751,\n   19752,\n   19753,\n   19754,\n   19755,\n   19756,\n   19757,\n   19758,\n   19759,\n   19760,\n   19761,\n   19762,\n   19763,\n   19764,\n   19765,\n   19766,\n   19767,\n   19768,\n   19769,\n   19770,\n   19771,\n   19772,\n   19773,\n   19774,\n   19775,\n   19776,\n   19777,\n   19778,\n   19779,\n   19780,\n   19781,\n   19782,\n   19783,\n   19784,\n   19785,\n   19786,\n   19787,\n   19788,\n   19789,\n   19790,\n   19791,\n   19792,\n   19793,\n   19794,\n   19795,\n   19796,\n   19797,\n   19798,\n   19799,\n   19800,\n   19801,\n   19802,\n   19803,\n   19804,\n   19805,\n   19806,\n   19807,\n   19808,\n   19809,\n   19810,\n   19811,\n   19812,\n   19813,\n   19814,\n   19815,\n   19816,\n   19817,\n   19818,\n   19819,\n   19820,\n   19821,\n   19822,\n   19823,\n   19824,\n   19825,\n   19826,\n   19827,\n   19828,\n   19829,\n   19830,\n   19831,\n   19832,\n   19833,\n   19834,\n   19835,\n   19836,\n   19837,\n   19838,\n   19839,\n   19840,\n   19841,\n   19842,\n   19843,\n   19844,\n   19845,\n   19846,\n   19847,\n   19848,\n   19849,\n   19850,\n   19851,\n   19852,\n   19853,\n   19854,\n   19855,\n   19856,\n   19857,\n   19858,\n   19859,\n   19860,\n   19861,\n   19862,\n   19863,\n   19864,\n   19865,\n   19866,\n   19867,\n   19868,\n   19869,\n   19870,\n   19871,\n   19872,\n   19873,\n   19874,\n   19875,\n   19876,\n   19877,\n   19878,\n   19879,\n   19880,\n   19881,\n   19882,\n   19883,\n   19884,\n   19885,\n   19886,\n   19887,\n   19888,\n   19889,\n   19890,\n   19891,\n   19892,\n   19893,\n   19894,\n   19895,\n   19896,\n   19897,\n   19898,\n   19899,\n   19900,\n   19901,\n   19902,\n   19903,\n   19904,\n   19905,\n   19906,\n   19907,\n   19908,\n   19909,\n   19910,\n   19911,\n   19912,\n   19913,\n   19914,\n   19915,\n   19916,\n   19917,\n   19918,\n   19919,\n   19920,\n   19921,\n   19922,\n   19923,\n   19924,\n   19925,\n   19926,\n   19927,\n   19928,\n   19929,\n   19930,\n   19931,\n   19932,\n   19933,\n   19934,\n   19935,\n   19936,\n   19937,\n   19938,\n   19939,\n   19940,\n   19941,\n   19942,\n   19943,\n   19944,\n   19945,\n   19946,\n   19947,\n   19948,\n   19949,\n   19950,\n   19951,\n   19952,\n   19953,\n   19954,\n   19955,\n   19956,\n   19957,\n   19958,\n   19959,\n   19960,\n   19961,\n   19962,\n   19963,\n   19964,\n   19965,\n   19966,\n   19967,\n   19968,\n   19969,\n   19970,\n   19971,\n   19972,\n   19973,\n   19974,\n   19975,\n   19976,\n   19977,\n   19978,\n   19979,\n   19980,\n   19981,\n   19982,\n   19983,\n   19984,\n   19985,\n   19986,\n   19987,\n   19988,\n   19989,\n   19990,\n   19991,\n   19992,\n   19993,\n   19994,\n   19995,\n   19996,\n   19997,\n   19998,\n   19999,\n   20000,\n   20001,\n   20002,\n   20003,\n   20004,\n   20005,\n   20006,\n   20007,\n   20008,\n   20009,\n   20010,\n   20011,\n   20012,\n   20013,\n   20014,\n   20015,\n   20016,\n   20017,\n   20018,\n   20019,\n   20020,\n   20021,\n   20022,\n   20023,\n   20024,\n   20025,\n   20026,\n   20027,\n   20028,\n   20029,\n   20030,\n   20031,\n   20032,\n   20033,\n   20034,\n   20035,\n   20036,\n   20037,\n   20038,\n   20039,\n   20040,\n   20041,\n   20042,\n   20043,\n   20044,\n   20045,\n   20046,\n   20047,\n   20048,\n   20049,\n   20050,\n   20051,\n   20052,\n   20053,\n   20054,\n   20055,\n   20056,\n   20057,\n   20058,\n   20059,\n   20060,\n   20061,\n   20062,\n   20063,\n   20064,\n   20065,\n   20066,\n   20067,\n   20068,\n   20069,\n   20070,\n   20071,\n   20072,\n   20073,\n   20074,\n   20075,\n   20076,\n   20077,\n   20078,\n   20079,\n   20080,\n   20081,\n   20082,\n   20083,\n   20084,\n   20085,\n   20086,\n   20087,\n   20088,\n   20089,\n   20090,\n   20091,\n   20092,\n   20093,\n   20094,\n   20095,\n   20096,\n   20097,\n   20098,\n   20099,\n   20100,\n   20101,\n   20102,\n   20103,\n   20104,\n   20105,\n   20106,\n   20107,\n   20108,\n   20109,\n   20110,\n   20111,\n   20112,\n   20113,\n   20114,\n   20115,\n   20116,\n   20117,\n   20118,\n   20119,\n   20120,\n   20121,\n   20122,\n   20123,\n   20124,\n   20125,\n   20126,\n   20127,\n   20128,\n   20129,\n   20130,\n   20131,\n   20132,\n   20133,\n   20134,\n   20135,\n   20136,\n   20137,\n   20138,\n   20139,\n   20140,\n   20141,\n   20142,\n   20143,\n   20144,\n   20145,\n   20146,\n   20147,\n   20148,\n   20149,\n   20150,\n   20151,\n   20152,\n   20153,\n   20154,\n   20155,\n   20156,\n   20157,\n   20158,\n   20159,\n   20160,\n   20161,\n   20162,\n   20163,\n   20164,\n   20165,\n   20166,\n   20167,\n   20168,\n   20169,\n   20170,\n   20171,\n   20172,\n   20173,\n   20174,\n   20175,\n   20176,\n   20177,\n   20178,\n   20179,\n   20180,\n   20181,\n   20182,\n   20183,\n   20184,\n   20185,\n   20186,\n   20187,\n   20188,\n   20189,\n   20190,\n   20191,\n   20192,\n   20193,\n   20194,\n   20195,\n   20196,\n   20197,\n   20198,\n   20199,\n   20200,\n   20201,\n   20202,\n   20203,\n   20204,\n   20205,\n   20206,\n   20207,\n   20208,\n   20209,\n   20210,\n   20211,\n   20212,\n   20213,\n   20214,\n   20215,\n   20216,\n   20217,\n   20218,\n   20219,\n   20220,\n   20221,\n   20222,\n   20223,\n   20224,\n   20225,\n   20226,\n   20227,\n   20228,\n   20229,\n   20230,\n   20231,\n   20232,\n   20233,\n   20234,\n   20235,\n   20236,\n   20237,\n   20238,\n   20239,\n   20240,\n   20241,\n   20242,\n   20243,\n   20244,\n   20245,\n   20246,\n   20247,\n   20248,\n   20249,\n   20250,\n   20251,\n   20252,\n   20253,\n   20254,\n   20255,\n   20256,\n   ...],\n  [0,\n   1,\n   2,\n   3,\n   4,\n   5,\n   6,\n   7,\n   8,\n   9,\n   10,\n   11,\n   12,\n   13,\n   14,\n   15,\n   16,\n   17,\n   18,\n   19,\n   20,\n   21,\n   22,\n   23,\n   24,\n   25,\n   26,\n   27,\n   28,\n   29,\n   30,\n   31,\n   32,\n   33,\n   34,\n   35,\n   36,\n   37,\n   38,\n   39,\n   40,\n   41,\n   42,\n   43,\n   44,\n   45,\n   46,\n   47,\n   48,\n   49,\n   50,\n   51,\n   52,\n   53,\n   54,\n   55,\n   56,\n   57,\n   58,\n   59,\n   60,\n   61,\n   62,\n   63,\n   64,\n   65,\n   66,\n   67,\n   68,\n   69,\n   70,\n   71,\n   72,\n   73,\n   74,\n   75,\n   76,\n   77,\n   78,\n   79,\n   80,\n   81,\n   82,\n   83,\n   84,\n   85,\n   86,\n   87,\n   88,\n   89,\n   90,\n   91,\n   92,\n   93,\n   94,\n   95,\n   96,\n   97,\n   98,\n   99,\n   100,\n   101,\n   102,\n   103,\n   104,\n   105,\n   106,\n   107,\n   108,\n   109,\n   110,\n   111,\n   112,\n   113,\n   114,\n   115,\n   116,\n   117,\n   118,\n   119,\n   120,\n   121,\n   122,\n   123,\n   124,\n   125,\n   126,\n   127,\n   128,\n   129,\n   130,\n   131,\n   132,\n   133,\n   134,\n   135,\n   136,\n   137,\n   138,\n   139,\n   140,\n   141,\n   142,\n   143,\n   144,\n   145,\n   146,\n   147,\n   148,\n   149,\n   150,\n   151,\n   152,\n   153,\n   154,\n   155,\n   156,\n   157,\n   158,\n   159,\n   160,\n   161,\n   162,\n   163,\n   164,\n   165,\n   166,\n   167,\n   168,\n   169,\n   170,\n   171,\n   172,\n   173,\n   174,\n   175,\n   176,\n   177,\n   178,\n   179,\n   180,\n   181,\n   182,\n   183,\n   184,\n   185,\n   186,\n   187,\n   188,\n   189,\n   190,\n   191,\n   192,\n   193,\n   194,\n   195,\n   196,\n   197,\n   198,\n   199,\n   200,\n   201,\n   202,\n   203,\n   204,\n   205,\n   206,\n   207,\n   208,\n   209,\n   210,\n   211,\n   212,\n   213,\n   214,\n   215,\n   216,\n   217,\n   218,\n   219,\n   220,\n   221,\n   222,\n   223,\n   224,\n   225,\n   226,\n   227,\n   228,\n   229,\n   230,\n   231,\n   232,\n   233,\n   234,\n   235,\n   236,\n   237,\n   238,\n   239,\n   240,\n   241,\n   242,\n   243,\n   244,\n   245,\n   246,\n   247,\n   248,\n   249,\n   250,\n   251,\n   252,\n   253,\n   254,\n   255,\n   256,\n   257,\n   258,\n   259,\n   260,\n   261,\n   262,\n   263,\n   264,\n   265,\n   266,\n   267,\n   268,\n   269,\n   270,\n   271,\n   272,\n   273,\n   274,\n   275,\n   276,\n   277,\n   278,\n   279,\n   280,\n   281,\n   282,\n   283,\n   284,\n   285,\n   286,\n   287,\n   288,\n   289,\n   290,\n   291,\n   292,\n   293,\n   294,\n   295,\n   296,\n   297,\n   298,\n   299,\n   300,\n   301,\n   302,\n   303,\n   304,\n   305,\n   306,\n   307,\n   308,\n   309,\n   310,\n   311,\n   312,\n   313,\n   314,\n   315,\n   316,\n   317,\n   318,\n   319,\n   320,\n   321,\n   322,\n   323,\n   324,\n   325,\n   326,\n   327,\n   328,\n   329,\n   330,\n   331,\n   332,\n   333,\n   334,\n   335,\n   336,\n   337,\n   338,\n   339,\n   340,\n   341,\n   342,\n   343,\n   344,\n   345,\n   346,\n   347,\n   348,\n   349,\n   350,\n   351,\n   352,\n   353,\n   354,\n   355,\n   356,\n   357,\n   358,\n   359,\n   360,\n   361,\n   362,\n   363,\n   364,\n   365,\n   366,\n   367,\n   368,\n   369,\n   370,\n   371,\n   372,\n   373,\n   374,\n   375,\n   376,\n   377,\n   378,\n   379,\n   380,\n   381,\n   382,\n   383,\n   384,\n   385,\n   386,\n   387,\n   388,\n   389,\n   390,\n   391,\n   392,\n   393,\n   394,\n   395,\n   396,\n   397,\n   398,\n   399,\n   400,\n   401,\n   402,\n   403,\n   404,\n   405,\n   406,\n   407,\n   408,\n   409,\n   410,\n   411,\n   412,\n   413,\n   414,\n   415,\n   416,\n   417,\n   418,\n   419,\n   420,\n   421,\n   422,\n   423,\n   424,\n   425,\n   426,\n   427,\n   428,\n   429,\n   430,\n   431,\n   432,\n   433,\n   434,\n   435,\n   436,\n   437,\n   438,\n   439,\n   440,\n   441,\n   442,\n   443,\n   444,\n   445,\n   446,\n   447,\n   448,\n   449,\n   450,\n   451,\n   452,\n   453,\n   454,\n   455,\n   456,\n   457,\n   458,\n   459,\n   460,\n   461,\n   462,\n   463,\n   464,\n   465,\n   466,\n   467,\n   468,\n   469,\n   470,\n   471,\n   472,\n   473,\n   474,\n   475,\n   476,\n   477,\n   478,\n   479,\n   480,\n   481,\n   482,\n   483,\n   484,\n   485,\n   486,\n   487,\n   488,\n   489,\n   490,\n   491,\n   492,\n   493,\n   494,\n   495,\n   496,\n   497,\n   498,\n   499,\n   500,\n   501,\n   502,\n   503,\n   504,\n   505,\n   506,\n   507,\n   508,\n   509,\n   510,\n   511,\n   512,\n   513,\n   514,\n   515,\n   516,\n   517,\n   518,\n   519,\n   520,\n   521,\n   522,\n   523,\n   524,\n   525,\n   526,\n   527,\n   528,\n   529,\n   530,\n   531,\n   532,\n   533,\n   534,\n   535,\n   536,\n   537,\n   538,\n   539,\n   540,\n   541,\n   542,\n   543,\n   544,\n   545,\n   546,\n   547,\n   548,\n   549,\n   550,\n   551,\n   552,\n   553,\n   554,\n   555,\n   556,\n   557,\n   558,\n   559,\n   560,\n   561,\n   562,\n   563,\n   564,\n   565,\n   566,\n   567,\n   568,\n   569,\n   570,\n   571,\n   572,\n   573,\n   574,\n   575,\n   576,\n   577,\n   578,\n   579,\n   580,\n   581,\n   582,\n   583,\n   584,\n   585,\n   586,\n   587,\n   588,\n   589,\n   590,\n   591,\n   592,\n   593,\n   594,\n   595,\n   596,\n   597,\n   598,\n   599,\n   600,\n   601,\n   602,\n   603,\n   604,\n   605,\n   606,\n   607,\n   608,\n   609,\n   610,\n   611,\n   612,\n   613,\n   614,\n   615,\n   616,\n   617,\n   618,\n   619,\n   620,\n   621,\n   622,\n   623,\n   624,\n   625,\n   626,\n   627,\n   628,\n   629,\n   630,\n   631,\n   632,\n   633,\n   634,\n   635,\n   636,\n   637,\n   638,\n   639,\n   640,\n   641,\n   642,\n   643,\n   644,\n   645,\n   646,\n   647,\n   648,\n   649,\n   650,\n   651,\n   652,\n   653,\n   654,\n   655,\n   656,\n   657,\n   658,\n   659,\n   660,\n   661,\n   662,\n   663,\n   664,\n   665,\n   666,\n   667,\n   668,\n   669,\n   670,\n   671,\n   672,\n   673,\n   674,\n   675,\n   676,\n   677,\n   678,\n   679,\n   680,\n   681,\n   682,\n   683,\n   684,\n   685,\n   686,\n   687,\n   688,\n   689,\n   690,\n   691,\n   692,\n   693,\n   694,\n   695,\n   696,\n   697,\n   698,\n   699,\n   700,\n   701,\n   702,\n   703,\n   704,\n   705,\n   706,\n   707,\n   708,\n   709,\n   710,\n   711,\n   712,\n   713,\n   714,\n   715,\n   716,\n   717,\n   718,\n   719,\n   720,\n   721,\n   722,\n   723,\n   724,\n   725,\n   726,\n   727,\n   728,\n   729,\n   730,\n   731,\n   732,\n   733,\n   734,\n   735,\n   736,\n   737,\n   738,\n   739,\n   740,\n   741,\n   742,\n   743,\n   744,\n   745,\n   746,\n   747,\n   748,\n   749,\n   750,\n   751,\n   752,\n   753,\n   754,\n   755,\n   756,\n   757,\n   758,\n   759,\n   760,\n   761,\n   762,\n   763,\n   764,\n   765,\n   766,\n   767,\n   768,\n   769,\n   770,\n   771,\n   772,\n   773,\n   774,\n   775,\n   776,\n   777,\n   778,\n   779,\n   780,\n   781,\n   782,\n   783,\n   784,\n   785,\n   786,\n   787,\n   788,\n   789,\n   790,\n   791,\n   792,\n   793,\n   794,\n   795,\n   796,\n   797,\n   798,\n   799,\n   800,\n   801,\n   802,\n   803,\n   804,\n   805,\n   806,\n   807,\n   808,\n   809,\n   810,\n   811,\n   812,\n   813,\n   814,\n   815,\n   816,\n   817,\n   818,\n   819,\n   820,\n   821,\n   822,\n   823,\n   824,\n   825,\n   826,\n   827,\n   828,\n   829,\n   830,\n   831,\n   832,\n   833,\n   834,\n   835,\n   836,\n   837,\n   838,\n   839,\n   840,\n   841,\n   842,\n   843,\n   844,\n   845,\n   846,\n   847,\n   848,\n   849,\n   850,\n   851,\n   852,\n   853,\n   854,\n   855,\n   856,\n   857,\n   858,\n   859,\n   860,\n   861,\n   862,\n   863,\n   864,\n   865,\n   866,\n   867,\n   868,\n   869,\n   870,\n   871,\n   872,\n   873,\n   874,\n   875,\n   876,\n   877,\n   878,\n   879,\n   880,\n   881,\n   882,\n   883,\n   884,\n   885,\n   886,\n   887,\n   888,\n   889,\n   890,\n   891,\n   892,\n   893,\n   894,\n   895,\n   896,\n   897,\n   898,\n   899,\n   900,\n   901,\n   902,\n   903,\n   904,\n   905,\n   906,\n   907,\n   908,\n   909,\n   910,\n   911,\n   912,\n   913,\n   914,\n   915,\n   916,\n   917,\n   918,\n   919,\n   920,\n   921,\n   922,\n   923,\n   924,\n   925,\n   926,\n   927,\n   928,\n   929,\n   930,\n   931,\n   932,\n   933,\n   934,\n   935,\n   936,\n   937,\n   938,\n   939,\n   940,\n   941,\n   942,\n   943,\n   944,\n   945,\n   946,\n   947,\n   948,\n   949,\n   950,\n   951,\n   952,\n   953,\n   954,\n   955,\n   956,\n   957,\n   958,\n   959,\n   960,\n   961,\n   962,\n   963,\n   964,\n   965,\n   966,\n   967,\n   968,\n   969,\n   970,\n   971,\n   972,\n   973,\n   974,\n   975,\n   976,\n   977,\n   978,\n   979,\n   980,\n   981,\n   982,\n   983,\n   984,\n   985,\n   986,\n   987,\n   988,\n   989,\n   990,\n   991,\n   992,\n   993,\n   994,\n   995,\n   996,\n   997,\n   998,\n   999,\n   ...]),\n 'X_columns': ['SEX',\n  'AGE',\n  'BW',\n  'BH',\n  'BMI',\n  'SMK',\n  'DRK',\n  'DIABETES',\n  'HCV',\n  'HCAD',\n  'HPAD',\n  'HAF',\n  'HCEREBROV',\n  'TRT_AH',\n  'TRT_ACE',\n  'TRT_CCB',\n  'TRT_DIUR',\n  'TRT_BB',\n  'TRT_ARB',\n  'TRT_LIP',\n  'SBP',\n  'DBP',\n  'HR',\n  'PP',\n  'SOK',\n  'QRS',\n  'CI',\n  'GLU',\n  'CHOL',\n  'LDL',\n  'HDL',\n  'TG',\n  'CREA'],\n 'y_column': 'NFHF',\n 'y_score': IDNR\n 2000001   -0.257858\n 2000002   -0.114890\n 2000003   -0.006694\n 2000004    0.047359\n 2000005    0.271201\n              ...   \n 2019253   -0.176117\n 2019254   -0.074790\n 2019255   -0.199841\n 2019256   -0.302503\n 2019257    0.307686\n Length: 19257, dtype: float64,\n 'model': DFPipeline(steps=[('imputer',\n                    DFColumnTransformer(transformers=[('categorical',\n                                                       DFSimpleImputer(strategy='most_frequent'),\n                                                       ['SEX', 'SMK', 'DRK',\n                                                        'DIABETES', 'HCV',\n                                                        'HCAD', 'HPAD', 'HAF',\n                                                        'HCEREBROV', 'TRT_AH',\n                                                        'TRT_ACE', 'TRT_CCB',\n                                                        'TRT_DIUR', 'TRT_BB',\n                                                        'TRT_ARB', 'TRT_LIP']),\n                                                      ('continuous',\n                                                       DFSimpleImputer(),\n                                                       ['AGE', 'BW', 'BH', 'BMI',\n                                                        'SBP', 'DBP', 'HR', 'PP',\n                                                        'SOK', 'QRS', 'C...\n                                                        'HCAD', 'HPAD', 'HAF',\n                                                        'HCEREBROV', 'TRT_AH',\n                                                        'TRT_ACE', 'TRT_CCB',\n                                                        'TRT_DIUR', 'TRT_BB',\n                                                        'TRT_ARB',\n                                                        'TRT_LIP'])])),\n                   ('encoder_remove_prefix',\n                    FunctionTransformer(func=<function remove_column_prefix at 0x7f554b155790>)),\n                   ('estimator',\n                    TransformTarget(inner=GradientBoostingSurvivalAnalysis(random_state=502141521),\n                                    transform_callback=<function to_survival_y_records at 0x7f5560b9caf0>))])}"
     },
     "execution_count": 207,
     "metadata": {},
     "output_type": "execute_result"
    }
   ],
   "source": [
    "last_result['ASCOT']"
   ],
   "metadata": {
    "collapsed": false,
    "pycharm": {
     "name": "#%%\n"
    }
   }
  }
 ],
 "metadata": {
  "kernelspec": {
   "display_name": "Python 3",
   "language": "python",
   "name": "python3"
  },
  "language_info": {
   "codemirror_mode": {
    "name": "ipython",
    "version": 2
   },
   "file_extension": ".py",
   "mimetype": "text/x-python",
   "name": "python",
   "nbconvert_exporter": "python",
   "pygments_lexer": "ipython2",
   "version": "2.7.6"
  }
 },
 "nbformat": 4,
 "nbformat_minor": 0
}