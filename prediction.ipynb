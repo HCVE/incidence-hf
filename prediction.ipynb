{
 "cells": [
  {
   "cell_type": "code",
   "execution_count": 2,
   "outputs": [
    {
     "name": "stdout",
     "output_type": "stream",
     "text": [
      "The autoreload extension is already loaded. To reload it, use:\n",
      "  %reload_ext autoreload\n"
     ]
    }
   ],
   "source": [
    "import pandas\n",
    "import warnings\n",
    "from matplotlib import pyplot\n",
    "from sklearn.feature_selection import VarianceThreshold\n",
    "from sklearn.preprocessing import OrdinalEncoder\n",
    "from sksurv.linear_model import CoxnetSurvivalAnalysis\n",
    "from deps.data import load_metadata\n",
    "from deps.logger import logger\n",
    "from deps.data import load_raw_data, load_data\n",
    "from hcve_lib.functional import pipe\n",
    "from hcve_lib.data import to_survival_y_records, get_X, get_survival_y\n",
    "from hcve_lib.cv import train_test\n",
    "from hcve_lib.utils import list_to_dict_index\n",
    "from sklearn.model_selection import KFold\n",
    "from hcve_lib.cv import cross_validate, predict_survival, lm_cv, kfold_cv\n",
    "from hcve_lib.evaluation_functions import compute_metrics, c_index\n",
    "from hcve_lib.cv import lco_cv\n",
    "from hcve_lib.data import format_identifier_long\n",
    "from hcve_lib.transformers import MiceForest\n",
    "from sklearn.pipeline import Pipeline\n",
    "from sklearn.compose import ColumnTransformer\n",
    "\n",
    "logger.setLevel('DEBUG')\n",
    "pandas.set_option(\"display.max_columns\", None)\n",
    "%load_ext autoreload\n",
    "%autoreload 2\n",
    "%matplotlib inline\n",
    "%config InlineBackend.figure_format='retina'\n",
    "pyplot.rcParams['figure.facecolor'] = 'white'"
   ],
   "metadata": {
    "collapsed": false,
    "pycharm": {
     "name": "#%%\n"
    }
   }
  },
  {
   "cell_type": "code",
   "execution_count": 22,
   "outputs": [
    {
     "name": "stderr",
     "output_type": "stream",
     "text": [
      "Raw data\n",
      "\tn cohorts=21\n",
      "\tn individuals=52,585\n",
      "\n",
      "INFO:homage_fl:Raw data\n",
      "\tn cohorts=21\n",
      "\tn individuals=52,585\n",
      "\n",
      "Baseline visit kept\n",
      " \tn individuals removed=5,529\n",
      "\n",
      " \tn individuals=47,056\n",
      "\n",
      "INFO:homage_fl:Baseline visit kept\n",
      " \tn individuals removed=5,529\n",
      "\n",
      " \tn individuals=47,056\n",
      "\n",
      "HF cohorts removed\n",
      "\tn cohorts removed=3: hfgr, timechf, leitzaran\n",
      "\tn individuals removed=1,073\n",
      "\n",
      "\tn cohorts=18\n",
      "\tn individuals=45,983\n",
      "\n",
      "INFO:homage_fl:HF cohorts removed\n",
      "\tn cohorts removed=3: hfgr, timechf, leitzaran\n",
      "\tn individuals removed=1,073\n",
      "\n",
      "\tn cohorts=18\n",
      "\tn individuals=45,983\n",
      "\n",
      "No outcome cohorts removed\n",
      "\tn cohorts removed=5: biomarcoeurs, dyda, epath, iblomaved, stophf\n",
      "\tn individuals removed=3,077\n",
      "\n",
      "\tn cohorts=13\n",
      "\tn individuals=42,906\n",
      "\n",
      "INFO:homage_fl:No outcome cohorts removed\n",
      "\tn cohorts removed=5: biomarcoeurs, dyda, epath, iblomaved, stophf\n",
      "\tn individuals removed=3,077\n",
      "\n",
      "\tn cohorts=13\n",
      "\tn individuals=42,906\n",
      "\n",
      "Missing HF data cohorts removed\n",
      "\tn cohorts removed=6: adelhyde, gecoh, r2c2, reve(1-2), stanislas, styrianvitd\n",
      "\tn individuals removed=6,209\n",
      "\n",
      "\tn cohorts=7\n",
      "\tn individuals=36,697\n",
      "\n",
      "INFO:homage_fl:Missing HF data cohorts removed\n",
      "\tn cohorts removed=6: adelhyde, gecoh, r2c2, reve(1-2), stanislas, styrianvitd\n",
      "\tn individuals removed=6,209\n",
      "\n",
      "\tn cohorts=7\n",
      "\tn individuals=36,697\n",
      "\n",
      "Missing blood pressure measurements\n",
      " \tn individuals removed=434\n",
      "\n",
      " \tn individuals=36,263\n",
      "\n",
      "INFO:homage_fl:Missing blood pressure measurements\n",
      " \tn individuals removed=434\n",
      "\n",
      " \tn individuals=36,263\n",
      "\n",
      "Providing missing PP for 3075individuals\n",
      "\n",
      "INFO:homage_fl:Providing missing PP for 3075individuals\n",
      "\n",
      "HF individuals at baseline removed\n",
      " \tn individuals removed=2,953\n",
      "\n",
      " \tn individuals=33,310\n",
      "\n",
      "INFO:homage_fl:HF individuals at baseline removed\n",
      " \tn individuals removed=2,953\n",
      "\n",
      " \tn individuals=33,310\n",
      "\n",
      "Missing outcome individuals removed\n",
      " \tn individuals removed=904\n",
      "\n",
      " \tn individuals=32,406\n",
      "\n",
      "INFO:homage_fl:Missing outcome individuals removed\n",
      " \tn individuals removed=904\n",
      "\n",
      " \tn individuals=32,406\n",
      "\n",
      "Final dataset\n",
      "\tn individuals=32,406\n",
      "\tn cohorts=7\n",
      "\n",
      "INFO:homage_fl:Final dataset\n",
      "\tn individuals=32,406\n",
      "\tn cohorts=7\n",
      "\n"
     ]
    }
   ],
   "source": [
    "metadata = load_metadata()\n",
    "data = load_data(metadata)\n",
    "raw_data = load_raw_data()\n",
    "raw_data_subset = raw_data.loc[data.index]"
   ],
   "metadata": {
    "collapsed": false,
    "pycharm": {
     "name": "#%%\n"
    }
   }
  },
  {
   "cell_type": "code",
   "execution_count": null,
   "outputs": [],
   "source": [
    "for column in data.columns:\n",
    "    print(f'{len(data[column].unique())}: {format_identifier_long(column, metadata)}')"
   ],
   "metadata": {
    "collapsed": false,
    "pycharm": {
     "name": "#%%\n"
    }
   }
  },
  {
   "cell_type": "code",
   "execution_count": null,
   "outputs": [],
   "source": [
    "for column in data.columns:\n",
    "    if len(data[column].unique()) < 10:\n",
    "        data.loc[:, column] = data[column].astype('category')\n",
    "    print(f'{data[column].dtype}: {format_identifier_long(column, metadata)}')"
   ],
   "metadata": {
    "collapsed": false,
    "pycharm": {
     "name": "#%%\n"
    }
   }
  },
  {
   "cell_type": "code",
   "execution_count": 38,
   "outputs": [],
   "source": [
    "import pickle\n",
    "\n",
    "with open('./data/prediction.data', 'rb') as file:\n",
    "    results = pickle.load(file)"
   ],
   "metadata": {
    "collapsed": false,
    "pycharm": {
     "name": "#%%\n"
    }
   }
  },
  {
   "cell_type": "code",
   "execution_count": 104,
   "outputs": [
    {
     "data": {
      "text/plain": "Text(0.5, 0, 'Fold')"
     },
     "execution_count": 104,
     "metadata": {},
     "output_type": "execute_result"
    },
    {
     "data": {
      "text/plain": "<Figure size 432x288 with 1 Axes>",
      "image/png": "[encoded data removed]"
     },
     "metadata": {
      "image/png": {
       "width": 385,
       "height": 277
      }
     },
     "output_type": "display_data"
    }
   ],
   "source": [
    "from matplotlib.ticker import MaxNLocator\n",
    "\n",
    "pyplot.gca().xaxis.set_major_locator(MaxNLocator(integer=True))\n",
    "pyplot.title('10-fold CV HOMAGE Coxnet')\n",
    "pyplot.bar(range(len(results)),[item['c_index'] for item in results.values()])\n",
    "pyplot.ylabel('AUC')\n",
    "pyplot.xlabel('Fold')"
   ],
   "metadata": {
    "collapsed": false,
    "pycharm": {
     "name": "#%%\n"
    }
   }
  }
 ],
 "metadata": {
  "kernelspec": {
   "display_name": "Python 3",
   "language": "python",
   "name": "python3"
  },
  "language_info": {
   "codemirror_mode": {
    "name": "ipython",
    "version": 2
   },
   "file_extension": ".py",
   "mimetype": "text/x-python",
   "name": "python",
   "nbconvert_exporter": "python",
   "pygments_lexer": "ipython2",
   "version": "2.7.6"
  }
 },
 "nbformat": 4,
 "nbformat_minor": 0
}