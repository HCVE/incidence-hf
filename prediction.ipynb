{
 "cells": [
  {
   "cell_type": "code",
   "execution_count": 10,
   "outputs": [
    {
     "name": "stdout",
     "output_type": "stream",
     "text": [
      "The autoreload extension is already loaded. To reload it, use:\n",
      "  %reload_ext autoreload\n"
     ]
    }
   ],
   "source": [
    "import pandas\n",
    "\n",
    "from matplotlib import pyplot\n",
    "from deps.logger import logger\n",
    "from deps.data import load_raw_data, load_data\n",
    "from hcve_lib.evaluation_functions import c_index\n",
    "from hcve_lib.data import format_identifier_long\n",
    "from hcve_lib.visualisation import p\n",
    "from optuna import Trial\n",
    "from hcve_lib.tracking import get_completed_runs, get_run_duration\n",
    "from hcve_lib.tracking import get_latest_run\n",
    "from hcve_lib.tracking import is_root_run\n",
    "from hcve_lib.tracking import get_children_runs\n",
    "import humanize\n",
    "import pytz\n",
    "from datetime import datetime\n",
    "from deps.common import get_variables_cached\n",
    "from mlflow import get_experiment_by_name\n",
    "\n",
    "from hcve_lib.utils import split_data\n",
    "import numpy as np\n",
    "from hcve_lib.tracking import load_pickled_artifact\n",
    "from hcve_lib.visualisation import b, h2\n",
    "import mlflow\n",
    "import yaml\n",
    "from toolz.curried import partial\n",
    "from pandas import DataFrame\n",
    "import plotly.express as px\n",
    "from hcve_lib.serialization import to_json_serializable\n",
    "from hcve_lib.evaluation_functions import compute_metric_groups, get_2_level_groups\n",
    "\n",
    "\n",
    "logger.setLevel('DEBUG')\n",
    "pandas.set_option(\"display.max_columns\", None)\n",
    "%load_ext autoreload\n",
    "%autoreload 2\n",
    "%matplotlib inline\n",
    "%config InlineBackend.figure_format='retina'\n",
    "pyplot.rcParams['figure.facecolor'] = 'white'"
   ],
   "metadata": {
    "collapsed": false,
    "pycharm": {
     "name": "#%%\n"
    }
   }
  },
  {
   "cell_type": "code",
   "execution_count": 3,
   "outputs": [],
   "source": [
    "data, metadata, X, y = get_variables_cached()\n",
    "\n",
    "raw_data = load_raw_data()\n",
    "raw_data_subset = raw_data.loc[data.index]"
   ],
   "metadata": {
    "collapsed": false,
    "pycharm": {
     "name": "#%%\n"
    }
   }
  },
  {
   "cell_type": "code",
   "execution_count": 6,
   "outputs": [
    {
     "name": "stderr",
     "output_type": "stream",
     "text": [
      "Raw data\n",
      "\tn cohorts=21\n",
      "\tn individuals=52,585\n",
      "\n",
      "[17:01:18] Raw data\n",
      "\tn cohorts=21\n",
      "\tn individuals=52,585\n",
      "\n",
      "Baseline visit kept\n",
      " \tn individuals removed=5,529\n",
      "\n",
      " \tn individuals=47,056\n",
      "\n",
      "[17:01:18] Baseline visit kept\n",
      " \tn individuals removed=5,529\n",
      "\n",
      " \tn individuals=47,056\n",
      "\n",
      "HF cohorts removed\n",
      "\tn cohorts removed=3: hfgr, timechf, leitzaran\n",
      "\tn individuals removed=1,073\n",
      "\n",
      "\tn cohorts=18\n",
      "\tn individuals=45,983\n",
      "\n",
      "[17:01:18] HF cohorts removed\n",
      "\tn cohorts removed=3: hfgr, timechf, leitzaran\n",
      "\tn individuals removed=1,073\n",
      "\n",
      "\tn cohorts=18\n",
      "\tn individuals=45,983\n",
      "\n",
      "No outcome cohorts removed\n",
      "\tn cohorts removed=5: biomarcoeurs, dyda, epath, iblomaved, stophf\n",
      "\tn individuals removed=3,077\n",
      "\n",
      "\tn cohorts=13\n",
      "\tn individuals=42,906\n",
      "\n",
      "[17:01:18] No outcome cohorts removed\n",
      "\tn cohorts removed=5: biomarcoeurs, dyda, epath, iblomaved, stophf\n",
      "\tn individuals removed=3,077\n",
      "\n",
      "\tn cohorts=13\n",
      "\tn individuals=42,906\n",
      "\n",
      "Missing HF data cohorts removed\n",
      "\tn cohorts removed=6: adelhyde, gecoh, r2c2, reve(1-2), stanislas, styrianvitd\n",
      "\tn individuals removed=6,209\n",
      "\n",
      "\tn cohorts=7\n",
      "\tn individuals=36,697\n",
      "\n",
      "[17:01:18] Missing HF data cohorts removed\n",
      "\tn cohorts removed=6: adelhyde, gecoh, r2c2, reve(1-2), stanislas, styrianvitd\n",
      "\tn individuals removed=6,209\n",
      "\n",
      "\tn cohorts=7\n",
      "\tn individuals=36,697\n",
      "\n",
      "Missing blood pressure measurements\n",
      " \tn individuals removed=434\n",
      "\n",
      " \tn individuals=36,263\n",
      "\n",
      "[17:01:19] Missing blood pressure measurements\n",
      " \tn individuals removed=434\n",
      "\n",
      " \tn individuals=36,263\n",
      "\n",
      "Providing missing PP for 3075individuals\n",
      "\n",
      "[17:01:19] Providing missing PP for 3075individuals\n",
      "\n",
      "HF individuals at baseline removed\n",
      " \tn individuals removed=2,953\n",
      "\n",
      " \tn individuals=33,310\n",
      "\n",
      "[17:01:19] HF individuals at baseline removed\n",
      " \tn individuals removed=2,953\n",
      "\n",
      " \tn individuals=33,310\n",
      "\n",
      "Missing outcome individuals removed\n",
      " \tn individuals removed=905\n",
      "\n",
      " \tn individuals=32,405\n",
      "\n",
      "[17:01:19] Missing outcome individuals removed\n",
      " \tn individuals removed=905\n",
      "\n",
      " \tn individuals=32,405\n",
      "\n",
      "Final dataset\n",
      "\tn individuals=32,405\n",
      "\tn cohorts=7\n",
      "\n",
      "[17:01:19] Final dataset\n",
      "\tn individuals=32,405\n",
      "\tn cohorts=7\n",
      "\n"
     ]
    },
    {
     "data": {
      "text/plain": "Empty DataFrame\nColumns: [IDNR, STUDY_NUM, STUDY, VISIT, SEX, AGE, BW, BH, BMI, SMK, DRK, DIABETES, HCV, HCAD, HPAD, HAF, HCEREBROV, TRT_AH, TRT_ACE, TRT_CCB, TRT_DIUR, TRT_BB, TRT_ARB, TRT_LIP, SBP, DBP, HR, PP, SOK, QRS, CI, GLU, CHOL, LDL, HDL, TG, CREA, FCV, FUFCV, NFHF, FUNFHF, FNFHF, FUFNFHF]\nIndex: []",
      "text/html": "<div>\n<style scoped>\n    .dataframe tbody tr th:only-of-type {\n        vertical-align: middle;\n    }\n\n    .dataframe tbody tr th {\n        vertical-align: top;\n    }\n\n    .dataframe thead th {\n        text-align: right;\n    }\n</style>\n<table border=\"1\" class=\"dataframe\">\n  <thead>\n    <tr style=\"text-align: right;\">\n      <th></th>\n      <th>IDNR</th>\n      <th>STUDY_NUM</th>\n      <th>STUDY</th>\n      <th>VISIT</th>\n      <th>SEX</th>\n      <th>AGE</th>\n      <th>BW</th>\n      <th>BH</th>\n      <th>BMI</th>\n      <th>SMK</th>\n      <th>DRK</th>\n      <th>DIABETES</th>\n      <th>HCV</th>\n      <th>HCAD</th>\n      <th>HPAD</th>\n      <th>HAF</th>\n      <th>HCEREBROV</th>\n      <th>TRT_AH</th>\n      <th>TRT_ACE</th>\n      <th>TRT_CCB</th>\n      <th>TRT_DIUR</th>\n      <th>TRT_BB</th>\n      <th>TRT_ARB</th>\n      <th>TRT_LIP</th>\n      <th>SBP</th>\n      <th>DBP</th>\n      <th>HR</th>\n      <th>PP</th>\n      <th>SOK</th>\n      <th>QRS</th>\n      <th>CI</th>\n      <th>GLU</th>\n      <th>CHOL</th>\n      <th>LDL</th>\n      <th>HDL</th>\n      <th>TG</th>\n      <th>CREA</th>\n      <th>FCV</th>\n      <th>FUFCV</th>\n      <th>NFHF</th>\n      <th>FUNFHF</th>\n      <th>FNFHF</th>\n      <th>FUFNFHF</th>\n    </tr>\n    <tr>\n      <th>IDNR</th>\n      <th></th>\n      <th></th>\n      <th></th>\n      <th></th>\n      <th></th>\n      <th></th>\n      <th></th>\n      <th></th>\n      <th></th>\n      <th></th>\n      <th></th>\n      <th></th>\n      <th></th>\n      <th></th>\n      <th></th>\n      <th></th>\n      <th></th>\n      <th></th>\n      <th></th>\n      <th></th>\n      <th></th>\n      <th></th>\n      <th></th>\n      <th></th>\n      <th></th>\n      <th></th>\n      <th></th>\n      <th></th>\n      <th></th>\n      <th></th>\n      <th></th>\n      <th></th>\n      <th></th>\n      <th></th>\n      <th></th>\n      <th></th>\n      <th></th>\n      <th></th>\n      <th></th>\n      <th></th>\n      <th></th>\n      <th></th>\n      <th></th>\n    </tr>\n  </thead>\n  <tbody>\n  </tbody>\n</table>\n</div>"
     },
     "execution_count": 6,
     "metadata": {},
     "output_type": "execute_result"
    }
   ],
   "source": [
    "data = load_data(metadata)\n",
    "data[data['FUNFHF'].isna()]"
   ],
   "metadata": {
    "collapsed": false,
    "pycharm": {
     "name": "#%%\n"
    }
   }
  },
  {
   "cell_type": "code",
   "execution_count": 7,
   "outputs": [
    {
     "name": "stdout",
     "output_type": "stream",
     "text": [
      "32405: [IDNR] IDNR\n",
      "7: [STUDY_NUM] Numeric study identifier\n",
      "7: [STUDY] STUDY\n",
      "1: [VISIT] VISIT\n",
      "2: [SEX] Gender\n",
      "16090: [AGE] Age\n",
      "1878: [BW] Body weight\n",
      "883: [BH] Body height\n",
      "13216: [BMI] Body-mass index_frame\n",
      "4: [SMK] Smoking status\n",
      "3: [DRK] Alcohol intake\n",
      "3: [DIABETES] History of diabetes\n",
      "3: [HCV] History of cardiovascular disease\n",
      "3: [HCAD] History of coronary artery disease\n",
      "3: [HPAD] History of peripheral artery disease\n",
      "3: [HAF] History of atrial fibrillation\n",
      "3: [HCEREBROV] History of cerebrovascular incident\n",
      "3: [TRT_AH] Intake of antihypertensive medication\n",
      "3: [TRT_ACE] Intake of angiotensin converting enzyme inhibitors\n",
      "3: [TRT_CCB] Intake of calcium channel blockers\n",
      "3: [TRT_DIUR] Intake of diuretics\n",
      "3: [TRT_BB] Intake of beta-blokcers\n",
      "3: [TRT_ARB] Intake of angiotensin II receptor blockers\n",
      "3: [TRT_LIP] Intake of lipid-lowering medication\n",
      "471: [SBP] Systolic blood pressure\n",
      "308: [DBP] Diastolic blood pressure\n",
      "189: [HR] Heart rate\n",
      "408: [PP] Pulse pressure\n",
      "557: [SOK] Sokolow-Lyon index_frame\n",
      "84: [QRS] QRS duration\n",
      "2014: [CI] Cornell index_frame\n",
      "684: [GLU] Blood glucose\n",
      "797: [CHOL] Total cholesterol\n",
      "1819: [LDL] LDL-cholesterol\n",
      "490: [HDL] HDL-cholesterol\n",
      "1125: [TG] Triglycerides\n",
      "360: [CREA] Serum creatinine\n",
      "3: [FCV] Cardiovascular death\n",
      "3819: [FUFCV] FUFCV\n",
      "2: [NFHF] Non-fatal heart failure\n",
      "3950: [FUNFHF] FUNFHF\n",
      "3: [FNFHF] Fatal or non-fatal heart failure\n",
      "1816: [FUFNFHF] FUFNFHF\n"
     ]
    }
   ],
   "source": [
    "for column in data.columns:\n",
    "    print(f'{len(data[column].unique())}: {format_identifier_long(column, metadata)}')"
   ],
   "metadata": {
    "collapsed": false,
    "pycharm": {
     "name": "#%%\n"
    }
   }
  },
  {
   "cell_type": "code",
   "execution_count": 8,
   "outputs": [
    {
     "name": "stdout",
     "output_type": "stream",
     "text": [
      "int64: [IDNR] IDNR\n",
      "category: [STUDY_NUM] Numeric study identifier\n",
      "category: [STUDY] STUDY\n",
      "category: [VISIT] VISIT\n",
      "category: [SEX] Gender\n",
      "float64: [AGE] Age\n",
      "float64: [BW] Body weight\n",
      "float64: [BH] Body height\n",
      "float64: [BMI] Body-mass index_frame\n",
      "category: [SMK] Smoking status\n",
      "category: [DRK] Alcohol intake\n",
      "category: [DIABETES] History of diabetes\n",
      "category: [HCV] History of cardiovascular disease\n",
      "category: [HCAD] History of coronary artery disease\n",
      "category: [HPAD] History of peripheral artery disease\n",
      "category: [HAF] History of atrial fibrillation\n",
      "category: [HCEREBROV] History of cerebrovascular incident\n",
      "category: [TRT_AH] Intake of antihypertensive medication\n",
      "category: [TRT_ACE] Intake of angiotensin converting enzyme inhibitors\n",
      "category: [TRT_CCB] Intake of calcium channel blockers\n",
      "category: [TRT_DIUR] Intake of diuretics\n",
      "category: [TRT_BB] Intake of beta-blokcers\n",
      "category: [TRT_ARB] Intake of angiotensin II receptor blockers\n",
      "category: [TRT_LIP] Intake of lipid-lowering medication\n",
      "float64: [SBP] Systolic blood pressure\n",
      "float64: [DBP] Diastolic blood pressure\n",
      "float64: [HR] Heart rate\n",
      "float64: [PP] Pulse pressure\n",
      "float64: [SOK] Sokolow-Lyon index_frame\n",
      "float64: [QRS] QRS duration\n",
      "float64: [CI] Cornell index_frame\n",
      "float64: [GLU] Blood glucose\n",
      "float64: [CHOL] Total cholesterol\n",
      "float64: [LDL] LDL-cholesterol\n",
      "float64: [HDL] HDL-cholesterol\n",
      "float64: [TG] Triglycerides\n",
      "float64: [CREA] Serum creatinine\n",
      "category: [FCV] Cardiovascular death\n",
      "float64: [FUFCV] FUFCV\n",
      "category: [NFHF] Non-fatal heart failure\n",
      "float64: [FUNFHF] FUNFHF\n",
      "category: [FNFHF] Fatal or non-fatal heart failure\n",
      "float64: [FUFNFHF] FUFNFHF\n"
     ]
    }
   ],
   "source": [
    "\n",
    "for column in data.columns:\n",
    "    if len(data[column].unique()) < 10:\n",
    "        data.loc[:, column] = data[column].astype('category')\n",
    "    print(f'{data[column].dtype}: {format_identifier_long(column, metadata)}')"
   ],
   "metadata": {
    "collapsed": false,
    "pycharm": {
     "name": "#%%\n"
    }
   }
  },
  {
   "cell_type": "code",
   "execution_count": 9,
   "outputs": [
    {
     "name": "stderr",
     "output_type": "stream",
     "text": [
      "/home/sitnarf/.local/share/virtualenvs/homage-fl-Ms4N7PDp/lib/python3.9/site-packages/sklearn/base.py:310: UserWarning:\n",
      "\n",
      "Trying to unpickle estimator FunctionTransformer from version 0.24.0 when using version 0.24.2. This might lead to breaking code or invalid results. Use at your own risk.\n",
      "\n"
     ]
    }
   ],
   "source": [
    "import pickle\n",
    "\n",
    "with open('./data/prediction.data', 'rb') as file:\n",
    "    results = pickle.load(file)"
   ],
   "metadata": {
    "collapsed": false,
    "pycharm": {
     "name": "#%%\n"
    }
   }
  },
  {
   "cell_type": "markdown",
   "source": [
    "# Removed features"
   ],
   "metadata": {
    "collapsed": false,
    "pycharm": {
     "name": "#%% md\n"
    }
   }
  },
  {
   "cell_type": "code",
   "execution_count": null,
   "outputs": [],
   "source": [
    "# removed_features = pipe(\n",
    "    #     result['column_masks'],\n",
    "    #     valmap(lambda mask: valfilter(identity, mask)),\n",
    "    #     valmap(lambda mask: list(mask)),\n",
    "    #     valmap(lambda mask: map(partial(format_identifier, metadata=metadata), mask)),\n",
    "    #     valmap(lambda mask: list(mask)),\n",
    "    # )\n",
    "    # b('Removed features')"
   ],
   "metadata": {
    "collapsed": false,
    "pycharm": {
     "name": "#%%\n"
    }
   }
  },
  {
   "cell_type": "markdown",
   "source": [
    "# LM matrix"
   ],
   "metadata": {
    "collapsed": false,
    "pycharm": {
     "name": "#%% md\n"
    }
   }
  },
  {
   "cell_type": "code",
   "execution_count": 17,
   "outputs": [
    {
     "data": {
      "text/plain": "31559"
     },
     "execution_count": 17,
     "metadata": {},
     "output_type": "execute_result"
    }
   ],
   "source": [
    "\n",
    "\n",
    "for method_name in ('gb', 'coxnet'):\n",
    "    h2(method_name)\n",
    "    runs = mlflow.search_runs(mlflow.get_experiment_by_name('lm').experiment_id)\n",
    "    print(runs.columns)\n",
    "    last_run = runs[(runs['tags.mlflow.parentRunId'].isna()) & (runs['tags.method_name'] == method_name)].iloc[0]\n",
    "    result = load_pickled_artifact(last_run['run_id'], 'result')\n",
    "\n",
    "    metrics_group = compute_metric_groups(\n",
    "        partial(c_index, X=X, y=y),\n",
    "        get_2_level_groups(\n",
    "            result,\n",
    "            raw_data_subset.groupby('STUDY'),\n",
    "            data,\n",
    "        )\n",
    "    )\n",
    "\n",
    "    import plotly.figure_factory as ff\n",
    "    fig = ff.create_annotated_heatmap(\n",
    "        DataFrame(metrics_group).round(decimals=2).to_numpy(),\n",
    "        x=list(metrics_group.keys()),\n",
    "        y=list(reversed(metrics_group.keys())),\n",
    "        # font_colors=['#000000', '#ffffff'],\n",
    "    )\n",
    "    fig.update_layout(xaxis_title=\"Trained on\", yaxis_title='Tested on')\n",
    "    fig.show()\n",
    "\n",
    "\n"
   ],
   "metadata": {
    "collapsed": false,
    "pycharm": {
     "name": "#%%\n"
    }
   }
  },
  {
   "cell_type": "code",
   "execution_count": null,
   "outputs": [],
   "source": [
    "DataFrame(metrics_group).round(decimals=2).to_numpy()"
   ],
   "metadata": {
    "collapsed": false,
    "pycharm": {
     "name": "#%%\n"
    }
   }
  },
  {
   "cell_type": "code",
   "execution_count": null,
   "outputs": [],
   "source": [
    "print(yaml.dump(to_json_serializable(metrics_group)))"
   ],
   "metadata": {
    "collapsed": false,
    "pycharm": {
     "name": "#%%\n"
    }
   }
  },
  {
   "cell_type": "markdown",
   "source": [
    "# Hyperparams feature importance"
   ],
   "metadata": {
    "collapsed": false,
    "pycharm": {
     "name": "#%% md\n"
    }
   }
  },
  {
   "cell_type": "code",
   "execution_count": 6,
   "outputs": [
    {
     "ename": "AttributeError",
     "evalue": "'NoneType' object has no attribute 'experiment_id'",
     "output_type": "error",
     "traceback": [
      "\u001B[0;31m---------------------------------------------------------------------------\u001B[0m",
      "\u001B[0;31mAttributeError\u001B[0m                            Traceback (most recent call last)",
      "\u001B[0;32m/tmp/ipykernel_1752837/859375987.py\u001B[0m in \u001B[0;36m<module>\u001B[0;34m\u001B[0m\n\u001B[1;32m      5\u001B[0m \u001B[0mset_tracking_uri\u001B[0m\u001B[0;34m(\u001B[0m\u001B[0;34m'http://localhost:5000'\u001B[0m\u001B[0;34m)\u001B[0m\u001B[0;34m\u001B[0m\u001B[0;34m\u001B[0m\u001B[0m\n\u001B[1;32m      6\u001B[0m \u001B[0;34m\u001B[0m\u001B[0m\n\u001B[0;32m----> 7\u001B[0;31m \u001B[0mruns\u001B[0m \u001B[0;34m=\u001B[0m \u001B[0mget_completed_runs\u001B[0m\u001B[0;34m(\u001B[0m\u001B[0;34m'lco_optimized'\u001B[0m\u001B[0;34m)\u001B[0m\u001B[0;34m\u001B[0m\u001B[0;34m\u001B[0m\u001B[0m\n\u001B[0m\u001B[1;32m      8\u001B[0m \u001B[0;34m\u001B[0m\u001B[0m\n\u001B[1;32m      9\u001B[0m \u001B[0;32mfor\u001B[0m \u001B[0mmethod_name\u001B[0m \u001B[0;32min\u001B[0m \u001B[0mget_pipelines\u001B[0m\u001B[0;34m(\u001B[0m\u001B[0;34m)\u001B[0m\u001B[0;34m.\u001B[0m\u001B[0mkeys\u001B[0m\u001B[0;34m(\u001B[0m\u001B[0;34m)\u001B[0m\u001B[0;34m:\u001B[0m\u001B[0;34m\u001B[0m\u001B[0;34m\u001B[0m\u001B[0m\n",
      "\u001B[0;32m~/projects/hcve_lib/hcve_lib/tracking.py\u001B[0m in \u001B[0;36mget_completed_runs\u001B[0;34m(experiment_name)\u001B[0m\n\u001B[1;32m     50\u001B[0m \u001B[0;32mdef\u001B[0m \u001B[0mget_completed_runs\u001B[0m\u001B[0;34m(\u001B[0m\u001B[0mexperiment_name\u001B[0m\u001B[0;34m:\u001B[0m \u001B[0mstr\u001B[0m\u001B[0;34m)\u001B[0m \u001B[0;34m->\u001B[0m \u001B[0mDataFrame\u001B[0m\u001B[0;34m:\u001B[0m\u001B[0;34m\u001B[0m\u001B[0;34m\u001B[0m\u001B[0m\n\u001B[1;32m     51\u001B[0m     _runs = mlflow.search_runs(\n\u001B[0;32m---> 52\u001B[0;31m         get_experiment_by_name(experiment_name).experiment_id)\n\u001B[0m\u001B[1;32m     53\u001B[0m     \u001B[0;32mreturn\u001B[0m \u001B[0m_runs\u001B[0m\u001B[0;34m[\u001B[0m\u001B[0m_runs\u001B[0m\u001B[0;34m[\u001B[0m\u001B[0;34m'status'\u001B[0m\u001B[0;34m]\u001B[0m \u001B[0;34m==\u001B[0m \u001B[0;34m'FINISHED'\u001B[0m\u001B[0;34m]\u001B[0m\u001B[0;34m\u001B[0m\u001B[0;34m\u001B[0m\u001B[0m\n\u001B[1;32m     54\u001B[0m \u001B[0;34m\u001B[0m\u001B[0m\n",
      "\u001B[0;31mAttributeError\u001B[0m: 'NoneType' object has no attribute 'experiment_id'"
     ]
    }
   ],
   "source": [
    "from hcve_lib.tracking import get_study\n",
    "import optuna\n",
    "from mlflow import set_tracking_uri\n",
    "from pipelines import get_pipelines\n",
    "set_tracking_uri('http://localhost:5000')\n",
    "\n",
    "runs = get_completed_runs('lco_optimized')\n",
    "\n",
    "for method_name in get_pipelines().keys():\n",
    "    h2(method_name)\n",
    "    last_run = get_latest_run(runs, is_root_run(runs) & (runs['tags.method_name'] == method_name))\n",
    "    study = get_study(last_run['run_id'])\n",
    "    print(study.best_trial.user_attrs['hyperparameters'])\n",
    "    optuna.visualization.plot_optimization_history(study).show()\n"
   ],
   "metadata": {
    "collapsed": false,
    "pycharm": {
     "name": "#%%\n"
    }
   }
  },
  {
   "cell_type": "markdown",
   "source": [
    "## Brier scores"
   ],
   "metadata": {
    "collapsed": false,
    "pycharm": {
     "name": "#%% md\n"
    }
   }
  },
  {
   "cell_type": "code",
   "execution_count": null,
   "outputs": [],
   "source": [
    "from sksurv.metrics import brier_score\n",
    "\n",
    "for fold_name, fold in result['predictions'].items():\n",
    "    b(fold_name)\n",
    "    try:\n",
    "        print(brier_score(\n",
    "            fold['y_train'],\n",
    "            fold['y_true'],\n",
    "            [fn(365*5) for fn in fold['model'] \\\n",
    "                .predict_survival_function(fold['X_test'])],\n",
    "            365*5,\n",
    "        )[1])\n",
    "    except Exception as e:\n",
    "        print(e)"
   ],
   "metadata": {
    "collapsed": false,
    "pycharm": {
     "name": "#%%\n"
    }
   }
  },
  {
   "cell_type": "markdown",
   "source": [
    "## Survival functions"
   ],
   "metadata": {
    "collapsed": false
   }
  },
  {
   "cell_type": "code",
   "execution_count": 120,
   "outputs": [
    {
     "ename": "KeyError",
     "evalue": "'predictions'",
     "output_type": "error",
     "traceback": [
      "\u001B[0;31m---------------------------------------------------------------------------\u001B[0m",
      "\u001B[0;31mKeyError\u001B[0m                                  Traceback (most recent call last)",
      "\u001B[0;32m/tmp/ipykernel_58423/1483900493.py\u001B[0m in \u001B[0;36m<module>\u001B[0;34m\u001B[0m\n\u001B[1;32m      1\u001B[0m \u001B[0;32mfrom\u001B[0m \u001B[0mnumpy\u001B[0m \u001B[0;32mimport\u001B[0m \u001B[0marange\u001B[0m\u001B[0;34m\u001B[0m\u001B[0;34m\u001B[0m\u001B[0m\n\u001B[1;32m      2\u001B[0m \u001B[0;34m\u001B[0m\u001B[0m\n\u001B[0;32m----> 3\u001B[0;31m \u001B[0;32mfor\u001B[0m \u001B[0mfold_name\u001B[0m\u001B[0;34m,\u001B[0m \u001B[0mfold\u001B[0m \u001B[0;32min\u001B[0m \u001B[0mresult\u001B[0m\u001B[0;34m[\u001B[0m\u001B[0;34m'predictions'\u001B[0m\u001B[0;34m]\u001B[0m\u001B[0;34m.\u001B[0m\u001B[0mitems\u001B[0m\u001B[0;34m(\u001B[0m\u001B[0;34m)\u001B[0m\u001B[0;34m:\u001B[0m\u001B[0;34m\u001B[0m\u001B[0;34m\u001B[0m\u001B[0m\n\u001B[0m\u001B[1;32m      4\u001B[0m     \u001B[0mpyplot\u001B[0m\u001B[0;34m.\u001B[0m\u001B[0mfigure\u001B[0m\u001B[0;34m(\u001B[0m\u001B[0;34m)\u001B[0m\u001B[0;34m\u001B[0m\u001B[0;34m\u001B[0m\u001B[0m\n\u001B[1;32m      5\u001B[0m     \u001B[0mpyplot\u001B[0m\u001B[0;34m.\u001B[0m\u001B[0mtitle\u001B[0m\u001B[0;34m(\u001B[0m\u001B[0mfold_name\u001B[0m\u001B[0;34m)\u001B[0m\u001B[0;34m\u001B[0m\u001B[0;34m\u001B[0m\u001B[0m\n",
      "\u001B[0;31mKeyError\u001B[0m: 'predictions'"
     ]
    }
   ],
   "source": [
    "from numpy import arange\n",
    "\n",
    "for fold_name, fold in result['predictions'].items():\n",
    "    pyplot.figure()\n",
    "    pyplot.title(fold_name)\n",
    "    y_survival = fold['model'].predict_survival_function(fold['X_test'])\n",
    "    for step_function in y_survival:\n",
    "        step_x = list(arange(0, 365*5, step=1))\n",
    "        pyplot.step(step_x, step_function(step_x), where=\"post\", c='navy', alpha=0.05)\n",
    "        pyplot.gca().ticklabel_format(useOffset=False, style='plain')\n",
    "        pyplot.ylabel(\"est. probability of survival $\\hat{S}(t)$\")\n",
    "        pyplot.xlabel(\"time $t$\")\n",
    "    pyplot.show()"
   ],
   "metadata": {
    "collapsed": false,
    "pycharm": {
     "name": "#%%\n"
    }
   }
  },
  {
   "cell_type": "code",
   "execution_count": null,
   "outputs": [],
   "source": [
    "data, metadata, X, y = get_variables_cached()"
   ],
   "metadata": {
    "collapsed": false,
    "pycharm": {
     "name": "#%%\n"
    }
   }
  },
  {
   "cell_type": "code",
   "execution_count": null,
   "outputs": [],
   "source": [
    "set_tracking_uri('http://localhost:5000')\n",
    "runs = get_completed_runs('lco_optimized')\n",
    "last_run = get_latest_run(runs, is_root_run(runs) & (runs['tags.mlflow.runName'] == 'coxnet'))\n",
    "children = get_children_run(runs, last_run['run_id'])\n",
    "\n",
    "def get_trial_duration_min(trial: Trial) -> float:\n",
    "    return (trial.datetime_complete-trial.datetime_start).total_seconds()  / 60\n",
    "\n",
    "for _, run in children.iterrows():\n",
    "    b(run['tags.mlflow.runName'])\n",
    "    p(humanize.naturaltime(datetime.now(tz=pytz.utc) - last_run['start_time']))\n",
    "    p(f'Total duration: {humanize.naturaldelta(get_run_duration(run))}')\n",
    "    study = load_pickled_artifact(run['run_id'], 'study')\n",
    "    # optuna.visualization.plot_optimization_history(study).show()\n",
    "    # optuna.visualization.plot_param_importances(result).show()\n",
    "    # optuna.visualization.plot_parallel_coordinate(study).show()\n",
    "    trial_durations = [\n",
    "        get_trial_duration_min(trial) for trial in study.trials]\n",
    "    px.scatter(trial_durations, labels={'index': 'Run', 'value': 'Duration'}).show()\n",
    "    x = [trial.params['__cross_validate__missing_fraction'] for trial in study.trials]\n",
    "    y = [trial.value for trial in study.trials]\n",
    "    # plotly.express.scatter(x=x, y=y).show()"
   ],
   "metadata": {
    "collapsed": false,
    "pycharm": {
     "name": "#%%\n"
    }
   }
  },
  {
   "cell_type": "code",
   "execution_count": 200,
   "outputs": [
    {
     "data": {
      "text/plain": "<IPython.core.display.HTML object>",
      "text/html": "<h2>gb</h2>"
     },
     "metadata": {},
     "output_type": "display_data"
    },
    {
     "data": {
      "text/plain": "<Figure size 432x288 with 1 Axes>",
      "image/png": "[encoded data removed]"
     },
     "metadata": {
      "image/png": {
       "width": 362,
       "height": 261
      }
     },
     "output_type": "display_data"
    },
    {
     "data": {
      "text/plain": "<IPython.core.display.HTML object>",
      "text/html": "<h2>coxnet</h2>"
     },
     "metadata": {},
     "output_type": "display_data"
    },
    {
     "data": {
      "text/plain": "<Figure size 432x288 with 1 Axes>",
      "image/png": "[encoded data removed]"
     },
     "metadata": {
      "image/png": {
       "width": 362,
       "height": 261
      }
     },
     "output_type": "display_data"
    },
    {
     "data": {
      "text/plain": "<IPython.core.display.HTML object>",
      "text/html": "<h2>rsf</h2>"
     },
     "metadata": {},
     "output_type": "display_data"
    },
    {
     "data": {
      "text/plain": "<Figure size 432x288 with 1 Axes>",
      "image/png": "[encoded data removed]"
     },
     "metadata": {
      "image/png": {
       "width": 362,
       "height": 261
      }
     },
     "output_type": "display_data"
    }
   ],
   "source": [
    "runs_lm = get_completed_runs('lco')\n",
    "root_runs = runs_lm[is_root_run(runs_lm)]\n",
    "\n",
    "for run_name in root_runs['tags.mlflow.runName'].unique():\n",
    "    h2(run_name)\n",
    "    last_run = get_latest_run(root_runs, root_runs['tags.mlflow.runName'] == run_name)\n",
    "    last_train_runs = get_children_run(runs_lm, last_run['run_id'])\n",
    "    X_all_index = data.index\n",
    "\n",
    "    out = np.ones((len(last_train_runs), len(X_all_index), 3), dtype='float')\n",
    "\n",
    "\n",
    "\n",
    "    run_names = []\n",
    "    for number, (index, run) in enumerate(last_train_runs.iterrows()):\n",
    "        try:\n",
    "            fold = load_pickled_artifact(run['run_id'], 'fold')\n",
    "        except OSError as e:\n",
    "            if str(e).startswith('No such file or directory'):\n",
    "                continue\n",
    "            else:\n",
    "                raise e\n",
    "\n",
    "        row = X_all_index.to_numpy().copy()\n",
    "        X_train, y_train, X_test, y_test = split_data(*train_test_fold(data, fold, metadata), fold)\n",
    "        out[number][np.isin(row, X_train.index)] = (0,1,0)\n",
    "        out[number][np.isin(row, X_test.index)] = (1,0,0)\n",
    "        run_names.append(run['tags.mlflow.runName'])\n",
    "\n",
    "    pyplot.imshow(out, aspect='auto', interpolation='none')\n",
    "    pyplot.xlabel('Individuals')\n",
    "    pyplot.yticks(ticks=list(range(len(run_names))), labels=run_names)\n",
    "    pyplot.ylabel('Iteration')\n",
    "    pyplot.show()"
   ],
   "metadata": {
    "collapsed": false,
    "pycharm": {
     "name": "#%%\n"
    }
   }
  },
  {
   "cell_type": "code",
   "execution_count": 219,
   "outputs": [
    {
     "data": {
      "text/plain": "<IPython.core.display.HTML object>",
      "text/html": "<b>PROSPER</b>"
     },
     "metadata": {},
     "output_type": "display_data"
    },
    {
     "data": {
      "text/plain": "<Figure size 432x288 with 1 Axes>",
      "image/png": "[encoded data removed]"
     },
     "metadata": {
      "image/png": {
       "width": 377,
       "height": 261
      }
     },
     "output_type": "display_data"
    },
    {
     "data": {
      "text/plain": "<IPython.core.display.HTML object>",
      "text/html": "<b>PREDICTOR</b>"
     },
     "metadata": {},
     "output_type": "display_data"
    },
    {
     "data": {
      "text/plain": "<Figure size 432x288 with 1 Axes>",
      "image/png": "[encoded data removed]"
     },
     "metadata": {
      "image/png": {
       "width": 377,
       "height": 261
      }
     },
     "output_type": "display_data"
    },
    {
     "data": {
      "text/plain": "<IPython.core.display.HTML object>",
      "text/html": "<b>HVC</b>"
     },
     "metadata": {},
     "output_type": "display_data"
    },
    {
     "data": {
      "text/plain": "<Figure size 432x288 with 1 Axes>",
      "image/png": "[encoded data removed]"
     },
     "metadata": {
      "image/png": {
       "width": 377,
       "height": 261
      }
     },
     "output_type": "display_data"
    },
    {
     "data": {
      "text/plain": "<IPython.core.display.HTML object>",
      "text/html": "<b>HEALTHABC</b>"
     },
     "metadata": {},
     "output_type": "display_data"
    },
    {
     "data": {
      "text/plain": "<Figure size 432x288 with 1 Axes>",
      "image/png": "[encoded data removed]"
     },
     "metadata": {
      "image/png": {
       "width": 377,
       "height": 261
      }
     },
     "output_type": "display_data"
    },
    {
     "data": {
      "text/plain": "<IPython.core.display.HTML object>",
      "text/html": "<b>FLEMENGHO</b>"
     },
     "metadata": {},
     "output_type": "display_data"
    },
    {
     "data": {
      "text/plain": "<Figure size 432x288 with 1 Axes>",
      "image/png": "[encoded data removed]"
     },
     "metadata": {
      "image/png": {
       "width": 377,
       "height": 261
      }
     },
     "output_type": "display_data"
    },
    {
     "data": {
      "text/plain": "<IPython.core.display.HTML object>",
      "text/html": "<b>ASCOT</b>"
     },
     "metadata": {},
     "output_type": "display_data"
    },
    {
     "data": {
      "text/plain": "<Figure size 432x288 with 1 Axes>",
      "image/png": "[encoded data removed]"
     },
     "metadata": {
      "image/png": {
       "width": 377,
       "height": 261
      }
     },
     "output_type": "display_data"
    }
   ],
   "source": [
    "\n",
    "\n",
    "def plot_splits(last_result):\n",
    "    X_all_index = data.index\n",
    "    out = np.ones((len(last_result.keys()), len(X_all_index), 3), dtype='float')\n",
    "\n",
    "    run_names = []\n",
    "    for number, (name, fold) in enumerate(last_result.items()):\n",
    "        row = X_all_index.to_numpy().copy()\n",
    "        X_train, y_train, X_test, y_test = split_data(*train_test_fold(data, fold, metadata), fold)\n",
    "        out[number][np.isin(row, X_train.index)] = (0,1,0)\n",
    "        out[number][np.isin(row, X_test.index)] = (1,0,0)\n",
    "        run_names.append(name)\n",
    "\n",
    "    pyplot.imshow(out, aspect='auto', interpolation='none')\n",
    "    pyplot.xlabel('Individuals')\n",
    "    pyplot.yticks(ticks=list(range(len(run_names))), labels=run_names)\n",
    "    pyplot.ylabel('Iteration')\n",
    "    pyplot.show()\n",
    "\n",
    "# runs = get_completed_runs('lco')\n",
    "# last_run = runs[is_root_run(runs)].iloc[0]\n",
    "# last_result = load_pickled_artifact(last_run['run_id'], 'result')\n",
    "# plot_splits(last_result)\n",
    "\n",
    "runs = mlflow.search_runs(\n",
    "        get_experiment_by_name('optimized_lco').experiment_id)\n",
    "last_root_run = runs[is_root_run(runs)].iloc[0]\n",
    "nested_runs = get_children_runs(runs, last_root_run.run_id).iloc\n",
    "for nested_run in nested_runs:\n",
    "    b(nested_run['tags.mlflow.runName'])\n",
    "    last_result = load_pickled_artifact(nested_run['run_id'], 'result')\n",
    "    plot_splits(last_result)"
   ],
   "metadata": {
    "collapsed": false,
    "pycharm": {
     "name": "#%%\n"
    }
   }
  },
  {
   "cell_type": "markdown",
   "source": [
    "## 10 fold per cohort"
   ],
   "metadata": {
    "collapsed": false,
    "pycharm": {
     "name": "#%% md\n"
    }
   }
  },
  {
   "cell_type": "code",
   "execution_count": 11,
   "outputs": [
    {
     "data": {
      "text/plain": "<IPython.core.display.HTML object>",
      "text/html": "<b>PROSPER</b>"
     },
     "metadata": {},
     "output_type": "display_data"
    },
    {
     "ename": "OSError",
     "evalue": "No such file or directory: './mlruns/18/5cbb25b1b7f641f18348a26ff1d3b7a0/artifacts/result'",
     "output_type": "error",
     "traceback": [
      "\u001B[0;31m---------------------------------------------------------------------------\u001B[0m",
      "\u001B[0;31mOSError\u001B[0m                                   Traceback (most recent call last)",
      "\u001B[0;32m/tmp/ipykernel_3671989/3140958654.py\u001B[0m in \u001B[0;36m<module>\u001B[0;34m\u001B[0m\n\u001B[1;32m      8\u001B[0m \u001B[0;32mfor\u001B[0m \u001B[0mnested_run\u001B[0m \u001B[0;32min\u001B[0m \u001B[0mnested_runs\u001B[0m\u001B[0;34m:\u001B[0m\u001B[0;34m\u001B[0m\u001B[0;34m\u001B[0m\u001B[0m\n\u001B[1;32m      9\u001B[0m     \u001B[0mb\u001B[0m\u001B[0;34m(\u001B[0m\u001B[0mnested_run\u001B[0m\u001B[0;34m[\u001B[0m\u001B[0;34m'tags.mlflow.runName'\u001B[0m\u001B[0;34m]\u001B[0m\u001B[0;34m)\u001B[0m\u001B[0;34m\u001B[0m\u001B[0;34m\u001B[0m\u001B[0m\n\u001B[0;32m---> 10\u001B[0;31m     \u001B[0mlast_result\u001B[0m \u001B[0;34m=\u001B[0m \u001B[0mload_pickled_artifact\u001B[0m\u001B[0;34m(\u001B[0m\u001B[0mnested_run\u001B[0m\u001B[0;34m[\u001B[0m\u001B[0;34m'run_id'\u001B[0m\u001B[0;34m]\u001B[0m\u001B[0;34m,\u001B[0m \u001B[0;34m'result'\u001B[0m\u001B[0;34m)\u001B[0m\u001B[0;34m\u001B[0m\u001B[0;34m\u001B[0m\u001B[0m\n\u001B[0m\u001B[1;32m     11\u001B[0m     \u001B[0mplot_splits\u001B[0m\u001B[0;34m(\u001B[0m\u001B[0mlast_result\u001B[0m\u001B[0;34m)\u001B[0m\u001B[0;34m\u001B[0m\u001B[0;34m\u001B[0m\u001B[0m\n\u001B[1;32m     12\u001B[0m \u001B[0;34m\u001B[0m\u001B[0m\n",
      "\u001B[0;32m~/projects/hcve_lib/hcve_lib/tracking.py\u001B[0m in \u001B[0;36mload_pickled_artifact\u001B[0;34m(run_id, path)\u001B[0m\n\u001B[1;32m     33\u001B[0m \u001B[0;32mdef\u001B[0m \u001B[0mload_pickled_artifact\u001B[0m\u001B[0;34m(\u001B[0m\u001B[0mrun_id\u001B[0m\u001B[0;34m:\u001B[0m \u001B[0mstr\u001B[0m\u001B[0;34m,\u001B[0m \u001B[0mpath\u001B[0m\u001B[0;34m:\u001B[0m \u001B[0mstr\u001B[0m\u001B[0;34m)\u001B[0m \u001B[0;34m->\u001B[0m \u001B[0mAny\u001B[0m\u001B[0;34m:\u001B[0m\u001B[0;34m\u001B[0m\u001B[0;34m\u001B[0m\u001B[0m\n\u001B[1;32m     34\u001B[0m     \u001B[0mclient\u001B[0m \u001B[0;34m=\u001B[0m \u001B[0mMlflowClient\u001B[0m\u001B[0;34m(\u001B[0m\u001B[0;34m)\u001B[0m\u001B[0;34m\u001B[0m\u001B[0;34m\u001B[0m\u001B[0m\n\u001B[0;32m---> 35\u001B[0;31m     \u001B[0mpath\u001B[0m \u001B[0;34m=\u001B[0m \u001B[0mclient\u001B[0m\u001B[0;34m.\u001B[0m\u001B[0mdownload_artifacts\u001B[0m\u001B[0;34m(\u001B[0m\u001B[0mrun_id\u001B[0m\u001B[0;34m,\u001B[0m \u001B[0mpath\u001B[0m\u001B[0;34m)\u001B[0m\u001B[0;34m\u001B[0m\u001B[0;34m\u001B[0m\u001B[0m\n\u001B[0m\u001B[1;32m     36\u001B[0m     \u001B[0;32mwith\u001B[0m \u001B[0mopen\u001B[0m\u001B[0;34m(\u001B[0m\u001B[0mpath\u001B[0m\u001B[0;34m,\u001B[0m \u001B[0;34m'rb'\u001B[0m\u001B[0;34m)\u001B[0m \u001B[0;32mas\u001B[0m \u001B[0mf\u001B[0m\u001B[0;34m:\u001B[0m\u001B[0;34m\u001B[0m\u001B[0;34m\u001B[0m\u001B[0m\n\u001B[1;32m     37\u001B[0m         \u001B[0;32mreturn\u001B[0m \u001B[0mpickle\u001B[0m\u001B[0;34m.\u001B[0m\u001B[0mload\u001B[0m\u001B[0;34m(\u001B[0m\u001B[0mf\u001B[0m\u001B[0;34m)\u001B[0m\u001B[0;34m\u001B[0m\u001B[0;34m\u001B[0m\u001B[0m\n",
      "\u001B[0;32m~/.local/share/virtualenvs/homage-fl-Ms4N7PDp/lib/python3.9/site-packages/mlflow/tracking/client.py\u001B[0m in \u001B[0;36mdownload_artifacts\u001B[0;34m(self, run_id, path, dst_path)\u001B[0m\n\u001B[1;32m   1395\u001B[0m             \u001B[0mArtifacts\u001B[0m\u001B[0;34m:\u001B[0m \u001B[0;34m[\u001B[0m\u001B[0;34m'features.txt'\u001B[0m\u001B[0;34m]\u001B[0m\u001B[0;34m\u001B[0m\u001B[0;34m\u001B[0m\u001B[0m\n\u001B[1;32m   1396\u001B[0m         \"\"\"\n\u001B[0;32m-> 1397\u001B[0;31m         \u001B[0;32mreturn\u001B[0m \u001B[0mself\u001B[0m\u001B[0;34m.\u001B[0m\u001B[0m_tracking_client\u001B[0m\u001B[0;34m.\u001B[0m\u001B[0mdownload_artifacts\u001B[0m\u001B[0;34m(\u001B[0m\u001B[0mrun_id\u001B[0m\u001B[0;34m,\u001B[0m \u001B[0mpath\u001B[0m\u001B[0;34m,\u001B[0m \u001B[0mdst_path\u001B[0m\u001B[0;34m)\u001B[0m\u001B[0;34m\u001B[0m\u001B[0;34m\u001B[0m\u001B[0m\n\u001B[0m\u001B[1;32m   1398\u001B[0m \u001B[0;34m\u001B[0m\u001B[0m\n\u001B[1;32m   1399\u001B[0m     def set_terminated(\n",
      "\u001B[0;32m~/.local/share/virtualenvs/homage-fl-Ms4N7PDp/lib/python3.9/site-packages/mlflow/tracking/_tracking_service/client.py\u001B[0m in \u001B[0;36mdownload_artifacts\u001B[0;34m(self, run_id, path, dst_path)\u001B[0m\n\u001B[1;32m    366\u001B[0m         \u001B[0;34m:\u001B[0m\u001B[0;32mreturn\u001B[0m\u001B[0;34m:\u001B[0m \u001B[0mLocal\u001B[0m \u001B[0mpath\u001B[0m \u001B[0mof\u001B[0m \u001B[0mdesired\u001B[0m \u001B[0martifact\u001B[0m\u001B[0;34m.\u001B[0m\u001B[0;34m\u001B[0m\u001B[0;34m\u001B[0m\u001B[0m\n\u001B[1;32m    367\u001B[0m         \"\"\"\n\u001B[0;32m--> 368\u001B[0;31m         \u001B[0;32mreturn\u001B[0m \u001B[0mself\u001B[0m\u001B[0;34m.\u001B[0m\u001B[0m_get_artifact_repo\u001B[0m\u001B[0;34m(\u001B[0m\u001B[0mrun_id\u001B[0m\u001B[0;34m)\u001B[0m\u001B[0;34m.\u001B[0m\u001B[0mdownload_artifacts\u001B[0m\u001B[0;34m(\u001B[0m\u001B[0mpath\u001B[0m\u001B[0;34m,\u001B[0m \u001B[0mdst_path\u001B[0m\u001B[0;34m)\u001B[0m\u001B[0;34m\u001B[0m\u001B[0;34m\u001B[0m\u001B[0m\n\u001B[0m\u001B[1;32m    369\u001B[0m \u001B[0;34m\u001B[0m\u001B[0m\n\u001B[1;32m    370\u001B[0m     \u001B[0;32mdef\u001B[0m \u001B[0mset_terminated\u001B[0m\u001B[0;34m(\u001B[0m\u001B[0mself\u001B[0m\u001B[0;34m,\u001B[0m \u001B[0mrun_id\u001B[0m\u001B[0;34m,\u001B[0m \u001B[0mstatus\u001B[0m\u001B[0;34m=\u001B[0m\u001B[0;32mNone\u001B[0m\u001B[0;34m,\u001B[0m \u001B[0mend_time\u001B[0m\u001B[0;34m=\u001B[0m\u001B[0;32mNone\u001B[0m\u001B[0;34m)\u001B[0m\u001B[0;34m:\u001B[0m\u001B[0;34m\u001B[0m\u001B[0;34m\u001B[0m\u001B[0m\n",
      "\u001B[0;32m~/.local/share/virtualenvs/homage-fl-Ms4N7PDp/lib/python3.9/site-packages/mlflow/store/artifact/local_artifact_repo.py\u001B[0m in \u001B[0;36mdownload_artifacts\u001B[0;34m(self, artifact_path, dst_path)\u001B[0m\n\u001B[1;32m     77\u001B[0m         \u001B[0mlocal_artifact_path\u001B[0m \u001B[0;34m=\u001B[0m \u001B[0mos\u001B[0m\u001B[0;34m.\u001B[0m\u001B[0mpath\u001B[0m\u001B[0;34m.\u001B[0m\u001B[0mjoin\u001B[0m\u001B[0;34m(\u001B[0m\u001B[0mself\u001B[0m\u001B[0;34m.\u001B[0m\u001B[0martifact_dir\u001B[0m\u001B[0;34m,\u001B[0m \u001B[0mos\u001B[0m\u001B[0;34m.\u001B[0m\u001B[0mpath\u001B[0m\u001B[0;34m.\u001B[0m\u001B[0mnormpath\u001B[0m\u001B[0;34m(\u001B[0m\u001B[0martifact_path\u001B[0m\u001B[0;34m)\u001B[0m\u001B[0;34m)\u001B[0m\u001B[0;34m\u001B[0m\u001B[0;34m\u001B[0m\u001B[0m\n\u001B[1;32m     78\u001B[0m         \u001B[0;32mif\u001B[0m \u001B[0;32mnot\u001B[0m \u001B[0mos\u001B[0m\u001B[0;34m.\u001B[0m\u001B[0mpath\u001B[0m\u001B[0;34m.\u001B[0m\u001B[0mexists\u001B[0m\u001B[0;34m(\u001B[0m\u001B[0mlocal_artifact_path\u001B[0m\u001B[0;34m)\u001B[0m\u001B[0;34m:\u001B[0m\u001B[0;34m\u001B[0m\u001B[0;34m\u001B[0m\u001B[0m\n\u001B[0;32m---> 79\u001B[0;31m             \u001B[0;32mraise\u001B[0m \u001B[0mIOError\u001B[0m\u001B[0;34m(\u001B[0m\u001B[0;34m\"No such file or directory: '{}'\"\u001B[0m\u001B[0;34m.\u001B[0m\u001B[0mformat\u001B[0m\u001B[0;34m(\u001B[0m\u001B[0mlocal_artifact_path\u001B[0m\u001B[0;34m)\u001B[0m\u001B[0;34m)\u001B[0m\u001B[0;34m\u001B[0m\u001B[0;34m\u001B[0m\u001B[0m\n\u001B[0m\u001B[1;32m     80\u001B[0m         \u001B[0;32mreturn\u001B[0m \u001B[0mos\u001B[0m\u001B[0;34m.\u001B[0m\u001B[0mpath\u001B[0m\u001B[0;34m.\u001B[0m\u001B[0mabspath\u001B[0m\u001B[0;34m(\u001B[0m\u001B[0mlocal_artifact_path\u001B[0m\u001B[0;34m)\u001B[0m\u001B[0;34m\u001B[0m\u001B[0;34m\u001B[0m\u001B[0m\n\u001B[1;32m     81\u001B[0m \u001B[0;34m\u001B[0m\u001B[0m\n",
      "\u001B[0;31mOSError\u001B[0m: No such file or directory: './mlruns/18/5cbb25b1b7f641f18348a26ff1d3b7a0/artifacts/result'"
     ]
    }
   ],
   "source": [
    "import mlflow\n",
    "from hcve_lib.visualisation import b\n",
    "\n",
    "runs = mlflow.search_runs(\n",
    "        get_experiment_by_name('optimized_10_fold_per_study').experiment_id)\n",
    "last_root_run = runs[is_root_run(runs)].iloc[0]\n",
    "nested_runs = get_children_runs(runs, last_root_run.run_id).iloc\n",
    "for nested_run in nested_runs:\n",
    "    b(nested_run['tags.mlflow.runName'])\n",
    "    last_result = load_pickled_artifact(nested_run['run_id'], 'result')\n",
    "    plot_splits(last_result)"
   ],
   "metadata": {
    "collapsed": false,
    "pycharm": {
     "name": "#%%\n"
    }
   }
  },
  {
   "cell_type": "code",
   "execution_count": 248,
   "outputs": [
    {
     "data": {
      "text/plain": "{'PROSPER': \"{'estimator__inner': {'l1_ratio': 0.20680270201087592, 'alphas': [0.8239104031859371]}}\",\n 'PREDICTOR': \"{'estimator__inner': {'l1_ratio': 0.0009829553330933383, 'alphas': [0.5096563050964983]}}\",\n 'HVC': \"{'estimator__inner': {'l1_ratio': 0.31184850394190633, 'alphas': [0.6154208894366343]}}\",\n 'HEALTHABC': \"{'estimator__inner': {'l1_ratio': 0.0008459384094903211, 'alphas': [0.7241804583576157]}}\",\n 'FLEMENGHO': \"{'estimator__inner': {'l1_ratio': 0.20562592215297149, 'alphas': [0.6965683563912647]}}\",\n 'ASCOT': \"{'estimator__inner': {'l1_ratio': 0.00575174141945245, 'alphas': [0.5874297044862964]}}\"}"
     },
     "execution_count": 248,
     "metadata": {},
     "output_type": "execute_result"
    }
   ],
   "source": [
    "\n",
    "\n",
    "def get_hyperparameters():\n",
    "    runs_lco = get_completed_runs('optimized_lco')\n",
    "    root_lco_runs = runs_lco[is_root_run(runs_lco)]\n",
    "    coxnet_run = root_lco_runs.query('`tags.mlflow.runName` == \"coxnet\"').iloc[0]\n",
    "    children_runs = get_children_runs(runs_lco, coxnet_run['run_id'])\n",
    "    hyperparameters = {\n",
    "        rows['tags.mlflow.runName']: rows['params.hyperparameters']\n",
    "        for _, rows in children_runs.iterrows()\n",
    "    }\n",
    "    return hyperparameters\n",
    "\n",
    "get_hyperparameters()"
   ],
   "metadata": {
    "collapsed": false,
    "pycharm": {
     "name": "#%%\n"
    }
   }
  }
 ],
 "metadata": {
  "kernelspec": {
   "display_name": "Python 3",
   "language": "python",
   "name": "python3"
  },
  "language_info": {
   "codemirror_mode": {
    "name": "ipython",
    "version": 2
   },
   "file_extension": ".py",
   "mimetype": "text/x-python",
   "name": "python",
   "nbconvert_exporter": "python",
   "pygments_lexer": "ipython2",
   "version": "2.7.6"
  }
 },
 "nbformat": 4,
 "nbformat_minor": 0
}
